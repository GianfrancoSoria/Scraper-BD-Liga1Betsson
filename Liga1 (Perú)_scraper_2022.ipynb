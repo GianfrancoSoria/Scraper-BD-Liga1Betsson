{
 "cells": [
  {
   "cell_type": "markdown",
   "id": "86560452",
   "metadata": {
    "hide_input": false
   },
   "source": [
    "# Liga 1 Perú 2022: Base de datos"
   ]
  },
  {
   "cell_type": "markdown",
   "id": "1b203521",
   "metadata": {
    "hide_input": true
   },
   "source": [
    "El siguiente script y base de datos responde a la falta de una base de datos totalizada que reporte información diversificada sobre los partidos de la primera división del futbol peruano y aportar con ideas para solucionar problemas que se reportan al elaborar 'scrapers'. Se espera que la base de datos resultante motive la exploración, análisis y desarrollo en temas relacionado con el sport analytics en el futbol peruano. Además, satisfacer la falta de una base de datos con variedad de datos y gratuita. La base de datos no puede ser usada con fines comerciales.\n",
    "\n",
    "Si tiene alguna sugerencia o comentario, contactar mediante:\n",
    "- @: gianfranco.soria@pucp.edu.pe\n",
    "- GitHub: GianfrancoSoria\n",
    "- Twitter: @SoriaGianfranco\n",
    "\n",
    "*_La Liga 1 edición 2022 aún no termina, los siguientes datos están actualizados al 06/08/22._"
   ]
  },
  {
   "cell_type": "markdown",
   "id": "3629199d",
   "metadata": {
    "hide_input": true
   },
   "source": [
    "## Librerías necesarias"
   ]
  },
  {
   "cell_type": "markdown",
   "id": "debc4dbf",
   "metadata": {
    "hide_input": true
   },
   "source": [
    "En esta sección se importan todas las librerías que serán necesarias para el desarrollo del código más adelante."
   ]
  },
  {
   "cell_type": "code",
   "execution_count": 1,
   "id": "3ec44b36",
   "metadata": {
    "hide_input": true
   },
   "outputs": [],
   "source": [
    "#!pip install webdriver-manager\n",
    "from selenium import webdriver\n",
    "from webdriver_manager.chrome import ChromeDriverManager\n",
    "from selenium.webdriver.common.by import By\n",
    "import time\n",
    "import re\n",
    "import pandas as pd\n",
    "import numpy as np\n",
    "import threading"
   ]
  },
  {
   "cell_type": "markdown",
   "id": "d29915ae",
   "metadata": {},
   "source": [
    "## Evaluación de la página"
   ]
  },
  {
   "cell_type": "markdown",
   "id": "7e72ce44",
   "metadata": {
    "hide_input": false
   },
   "source": [
    "La página seleccionada para ser la fuente de datos es [Flashscore](https://www.flashscore.pe/futbol/peru/liga-1-2021/resultados/). La elección se debió a que la página ofrece los datos de forma gratuita, no tiene bloqueos o limitaciones y presenta una estructura idónea para la extracción de datos. \n",
    "\n",
    "Tras la evaluación de la página se encuentra que los resultados se muestran en dos partes. En la primera se muestran los resultados de diferentes partidos, pero solo algunos datos (fecha, número de goles y tarjetas rojas). En la segunda se muestra el detallado de algún partido seleccionado, los datos que se muestran son variados (goles, tarjetas amarillas, offside, etc.). Sin embargo, se reconocen algunos retos para ambas etapas. En la primera etapa se reconoce que no se muestran todos los partidos, solo algunos. Para acceder a todos se debe cargar los datos y para ello se requiere desplazar la página hasta el final y hacer clic en la opción \"Mostrar más partidos\". En la segunda etapa se observa que los vínculos (que se encuentran en la primera etapa) están ocultos, pero se identifica una estructura común en la dirección URL con \"códigos identificadores\" para cada partido.\n",
    "\n",
    "Solucionar los retos de la primera parte se emplean los comandos \"driver.execute_script\" (rodar el scroll de la página) y \"driver.find_element\" (ubicar y hacer clic en \"Mostrar más partidos\"). En cuanto a los retos de la segunda parte resultan más difícil de solucionar, mas no imposibles. Para extraer los \"códigos identificadores\" emplearemos una estrategia similar a si usáramos la librería beautifulsoup. Delimitamos que estos códigos se encuentran entre 'div id=\"g_1_' y 'title=\"¡Haga click para detalles del partido!\"'. Empleando esta restricción almacenamos los resultados en una lista con nombre \"result_buscar\"."
   ]
  },
  {
   "cell_type": "code",
   "execution_count": 5,
   "id": "f675e361",
   "metadata": {
    "hide_input": false
   },
   "outputs": [
    {
     "name": "stdout",
     "output_type": "stream",
     "text": [
      "\n"
     ]
    },
    {
     "name": "stderr",
     "output_type": "stream",
     "text": [
      "[WDM] - ====== WebDriver manager ======\n",
      "[WDM] - Current google-chrome version is 104.0.5112\n",
      "[WDM] - Get LATEST chromedriver version for 104.0.5112 google-chrome\n",
      "[WDM] - Driver [C:\\Users\\PC-1\\.wdm\\drivers\\chromedriver\\win32\\104.0.5112.79\\chromedriver.exe] found in cache\n",
      "C:\\Users\\PC-1\\AppData\\Local\\Temp\\ipykernel_24140\\3501453514.py:4: DeprecationWarning: executable_path has been deprecated, please pass in a Service object\n",
      "  driver = webdriver.Chrome(ChromeDriverManager().install())\n"
     ]
    }
   ],
   "source": [
    "#---------------------------------------------------------------------------------------------------------------------------------------------\n",
    "# Apertura de página\n",
    "#---------------------------------------------------------------------------------------------------------------------------------------------\n",
    "driver = webdriver.Chrome(ChromeDriverManager().install())\n",
    "driver.get(\"https://www.flashscore.pe/futbol/peru/liga-1-2022/resultados/\") \n",
    "driver.find_element(By.XPATH, \"//*[@id='onetrust-accept-btn-handler']\").click()\n",
    "driver.maximize_window()\n",
    "time.sleep(2)\n",
    "#---------------------------------------------------------------------------------------------------------------------------------------------\n",
    "# Retos primera etapa\n",
    "#---------------------------------------------------------------------------------------------------------------------------------------------\n",
    "driver.execute_script(\"window.scrollBy(0, document.body.scrollHeight);\")\n",
    "driver.find_element(By.XPATH, \"//*[@id='live-table']/div[1]/div/div/a\").click()\n",
    "time.sleep(2)\n",
    "driver.execute_script(\"window.scrollBy(0, document.body.scrollHeight);\")\n",
    "driver.find_element(By.XPATH, \"//*[@id='live-table']/div[1]/div/div/a\").click()\n",
    "time.sleep(2)\n",
    "driver.execute_script(\"window.scrollBy(0, document.body.scrollHeight);\")\n",
    "#---------------------------------------------------------------------------------------------------------------------------------------------\n",
    "# Retos segunda etapa\n",
    "#---------------------------------------------------------------------------------------------------------------------------------------------\n",
    "content = driver.find_element(By.XPATH, \"//*[@id='live-table']/div[1]/div/div\")\n",
    "soup=content.get_attribute('innerHTML')\n",
    "buscar1='<div id=\"g_1_'\n",
    "result1 = [_.start() for _ in re.finditer(buscar1, soup)]\n",
    "buscar2='title=\"¡Haga click para detalles del partido!\"'\n",
    "result2 = [_.start() for _ in re.finditer(buscar2, soup)]\n",
    "result_buscar=[0]*len(result1)\n",
    "for i in range(len(result1)):\n",
    "    result_buscar[i]=str(soup[result1[i]+13:result2[i]-2])\n",
    "driver.close()"
   ]
  },
  {
   "cell_type": "markdown",
   "id": "8c11ae7d",
   "metadata": {},
   "source": [
    "## Primeros resultados: Árbitros"
   ]
  },
  {
   "cell_type": "markdown",
   "id": "bfe314f5",
   "metadata": {},
   "source": [
    "Empleando los \"códigos identificadores\" extraídos anteriormente podemos visualizar las páginas personalizadas para cada partido. Estos resultados muestran 4 opciones (Partido, Cuotas, H2H y Cuadro). Los datos de interés se encuentran en la opción \"Partido\" y dentro de las sub opciones \"Resumen\" (nombre del árbitro) y \"Estadísticas\" (fecha, número de goles y tarjetas rojas). Como primer ejercicio de exploración nos centraremos en la extracción del nombre del árbitro. Existe un caso especial, el identificador 148 no tiene el mismo XPATH. Por lo que se crea un condicional 'if'. Por otro lado, identificamos que el tiempo mínimo para para cada código identificador es de 9.5 segundos (contando solo los sleep) y ,por ello, el tiempo total mínimo sería 38 minutos. Este tiempo podría considerarse como extenso y representa un reto computacional importante. Para sobrepasar este reto usaremos la librería 'threading' que nos permite usar más procesadores o hilos y estará limitado por el número que tenga nuestro procesador. Emplear más hilos o procesadores nos permite ejecutar múltiples tareas al mismo tiempo. Aplicado a este caso, implica que podremos scrapear varios códigos identificadores al mismo tiempo. El número de hilos usados en el presente proceso fue de 15 y el tiempo total fue 5.0 minutos. Este tiempo se vera afectado por el número de hilos y la conexión a internet."
   ]
  },
  {
   "cell_type": "code",
   "execution_count": 33,
   "id": "ffcdf2e1",
   "metadata": {
    "collapsed": true,
    "run_control": {
     "marked": true
    }
   },
   "outputs": [
    {
     "name": "stdout",
     "output_type": "stream",
     "text": [
      "\n"
     ]
    },
    {
     "name": "stderr",
     "output_type": "stream",
     "text": [
      "[WDM] - ====== WebDriver manager ======\n"
     ]
    },
    {
     "name": "stdout",
     "output_type": "stream",
     "text": [
      "\n",
      "\n",
      "\n",
      "\n"
     ]
    },
    {
     "name": "stderr",
     "output_type": "stream",
     "text": [
      "[WDM] - ====== WebDriver manager ======\n"
     ]
    },
    {
     "name": "stdout",
     "output_type": "stream",
     "text": [
      "\n",
      "\n",
      "\n"
     ]
    },
    {
     "name": "stderr",
     "output_type": "stream",
     "text": [
      "[WDM] - ====== WebDriver manager ======\n"
     ]
    },
    {
     "name": "stdout",
     "output_type": "stream",
     "text": [
      "\n",
      "\n",
      "\n",
      "\n"
     ]
    },
    {
     "name": "stderr",
     "output_type": "stream",
     "text": [
      "[WDM] - ====== WebDriver manager ======\n"
     ]
    },
    {
     "name": "stdout",
     "output_type": "stream",
     "text": [
      "\n",
      "\n",
      "\n"
     ]
    },
    {
     "name": "stderr",
     "output_type": "stream",
     "text": [
      "[WDM] - ====== WebDriver manager ======\n",
      "[WDM] - ====== WebDriver manager ======\n",
      "[WDM] - ====== WebDriver manager ======\n",
      "[WDM] - ====== WebDriver manager ======\n",
      "[WDM] - ====== WebDriver manager ======\n",
      "[WDM] - ====== WebDriver manager ======\n",
      "[WDM] - ====== WebDriver manager ======\n",
      "[WDM] - ====== WebDriver manager ======\n",
      "[WDM] - ====== WebDriver manager ======\n",
      "[WDM] - ====== WebDriver manager ======\n",
      "[WDM] - ====== WebDriver manager ======\n",
      "[WDM] - Current google-chrome version is 104.0.5112\n",
      "[WDM] - Get LATEST chromedriver version for 104.0.5112 google-chrome\n",
      "[WDM] - Current google-chrome version is 104.0.5112\n",
      "[WDM] - Get LATEST chromedriver version for 104.0.5112 google-chrome\n",
      "[WDM] - Current google-chrome version is 104.0.5112\n",
      "[WDM] - Get LATEST chromedriver version for 104.0.5112 google-chrome\n",
      "[WDM] - Current google-chrome version is 104.0.5112\n",
      "[WDM] - Get LATEST chromedriver version for 104.0.5112 google-chrome\n",
      "[WDM] - Current google-chrome version is 104.0.5112\n",
      "[WDM] - Current google-chrome version is 104.0.5112\n",
      "[WDM] - Get LATEST chromedriver version for 104.0.5112 google-chrome\n",
      "[WDM] - Current google-chrome version is 104.0.5112\n",
      "[WDM] - Get LATEST chromedriver version for 104.0.5112 google-chrome\n",
      "[WDM] - Get LATEST chromedriver version for 104.0.5112 google-chrome\n",
      "[WDM] - Current google-chrome version is 104.0.5112\n",
      "[WDM] - Current google-chrome version is 104.0.5112\n",
      "[WDM] - Current google-chrome version is 104.0.5112\n",
      "[WDM] - Current google-chrome version is 104.0.5112\n",
      "[WDM] - Get LATEST chromedriver version for 104.0.5112 google-chrome\n",
      "[WDM] - Get LATEST chromedriver version for 104.0.5112 google-chrome\n",
      "[WDM] - Current google-chrome version is 104.0.5112\n",
      "[WDM] - Current google-chrome version is 104.0.5112\n",
      "[WDM] - Get LATEST chromedriver version for 104.0.5112 google-chrome\n",
      "[WDM] - Get LATEST chromedriver version for 104.0.5112 google-chrome\n",
      "[WDM] - Get LATEST chromedriver version for 104.0.5112 google-chrome\n",
      "[WDM] - Get LATEST chromedriver version for 104.0.5112 google-chrome\n",
      "[WDM] - Current google-chrome version is 104.0.5112\n",
      "[WDM] - Get LATEST chromedriver version for 104.0.5112 google-chrome\n",
      "[WDM] - Current google-chrome version is 104.0.5112\n",
      "[WDM] - Get LATEST chromedriver version for 104.0.5112 google-chrome\n",
      "[WDM] - Driver [C:\\Users\\PC-1\\.wdm\\drivers\\chromedriver\\win32\\104.0.5112.79\\chromedriver.exe] found in cache\n",
      "C:\\Users\\PC-1\\AppData\\Local\\Temp\\ipykernel_24140\\2968724897.py:4: DeprecationWarning: executable_path has been deprecated, please pass in a Service object\n",
      "  driver = webdriver.Chrome(ChromeDriverManager().install())\n",
      "[WDM] - Driver [C:\\Users\\PC-1\\.wdm\\drivers\\chromedriver\\win32\\104.0.5112.79\\chromedriver.exe] found in cache\n",
      "[WDM] - Driver [C:\\Users\\PC-1\\.wdm\\drivers\\chromedriver\\win32\\104.0.5112.79\\chromedriver.exe] found in cache\n",
      "[WDM] - Driver [C:\\Users\\PC-1\\.wdm\\drivers\\chromedriver\\win32\\104.0.5112.79\\chromedriver.exe] found in cache\n",
      "[WDM] - Driver [C:\\Users\\PC-1\\.wdm\\drivers\\chromedriver\\win32\\104.0.5112.79\\chromedriver.exe] found in cache\n",
      "[WDM] - Driver [C:\\Users\\PC-1\\.wdm\\drivers\\chromedriver\\win32\\104.0.5112.79\\chromedriver.exe] found in cache\n",
      "[WDM] - Driver [C:\\Users\\PC-1\\.wdm\\drivers\\chromedriver\\win32\\104.0.5112.79\\chromedriver.exe] found in cache\n",
      "[WDM] - Driver [C:\\Users\\PC-1\\.wdm\\drivers\\chromedriver\\win32\\104.0.5112.79\\chromedriver.exe] found in cache\n",
      "[WDM] - Driver [C:\\Users\\PC-1\\.wdm\\drivers\\chromedriver\\win32\\104.0.5112.79\\chromedriver.exe] found in cache\n",
      "[WDM] - Driver [C:\\Users\\PC-1\\.wdm\\drivers\\chromedriver\\win32\\104.0.5112.79\\chromedriver.exe] found in cache\n",
      "[WDM] - Driver [C:\\Users\\PC-1\\.wdm\\drivers\\chromedriver\\win32\\104.0.5112.79\\chromedriver.exe] found in cache\n",
      "[WDM] - Driver [C:\\Users\\PC-1\\.wdm\\drivers\\chromedriver\\win32\\104.0.5112.79\\chromedriver.exe] found in cache\n",
      "[WDM] - Driver [C:\\Users\\PC-1\\.wdm\\drivers\\chromedriver\\win32\\104.0.5112.79\\chromedriver.exe] found in cache\n",
      "[WDM] - Driver [C:\\Users\\PC-1\\.wdm\\drivers\\chromedriver\\win32\\104.0.5112.79\\chromedriver.exe] found in cache\n",
      "[WDM] - Driver [C:\\Users\\PC-1\\.wdm\\drivers\\chromedriver\\win32\\104.0.5112.79\\chromedriver.exe] found in cache\n"
     ]
    },
    {
     "name": "stdout",
     "output_type": "stream",
     "text": [
      "Termino 0\n",
      "['Perez R. B. (Per)', 0, 0, 0, 0, 0, 0, 0, 0, 0, 0, 0, 0, 0, 'Cartagena J. (Per)', 0, 0, 0, 0, 0, 0, 0, 0, 0, 0, 0, 0, 0, 'Espinoza M. (Per)', 0, 0, 0, 0, 0, 0, 0, 0, 0, 0, 0, 0, 0, 'Garay Evia L. (Per)', 0, 0, 0, 0, 0, 0, 0, 0, 0, 0, 0, 0, 0, 'Alarcon J. (Per)', 0, 0, 0, 0, 0, 0, 0, 0, 0, 0, 0, 0, 0, 'Ureta D. (Per)', 0, 0, 0, 0, 0, 0, 0, 0, 0, 0, 0, 0, 0, 'Estadio San Martin de Porres (Lima)', 0, 0, 0, 0, 0, 0, 0, 0, 0, 0, 0, 0, 0, 'Alarcon J. (Per)', 0, 0, 0, 0, 0, 0, 0, 0, 0, 0, 0, 0, 0, 'Legario F. (Per)', 0, 0, 0, 0, 0, 0, 0, 0, 0, 0, 0, 0, 0, 'Espinoza J. (Per)', 0, 0, 0, 0, 0, 0, 0, 0, 0, 0, 0, 0, 0, 0, 0, 0, 0, 0, 0, 0, 0, 0, 0, 0, 0, 0, 0, 'Huaman D. (Per)', 0, 0, 0, 0, 0, 0, 0, 0, 0, 0, 0, 0, 0, 'Alarcon J. (Per)', 0, 0, 0, 0, 0, 0, 0, 0, 0, 0, 0, 0, 0, 'Palomino M. (Per)', 0, 0, 0, 0, 0, 0, 0, 0, 0, 0, 0, 0, 0, 'Perez R. B. (Per)', 0, 0, 0, 0, 0, 0, 0, 0, 0, 0, 0, 0, 0, 0, 0, 0, 0, 0, 0, 0, 0, 0]\n",
      "\n"
     ]
    },
    {
     "name": "stderr",
     "output_type": "stream",
     "text": [
      "[WDM] - ====== WebDriver manager ======\n",
      "[WDM] - Current google-chrome version is 104.0.5112\n",
      "[WDM] - Get LATEST chromedriver version for 104.0.5112 google-chrome\n",
      "[WDM] - Driver [C:\\Users\\PC-1\\.wdm\\drivers\\chromedriver\\win32\\104.0.5112.79\\chromedriver.exe] found in cache\n"
     ]
    },
    {
     "name": "stdout",
     "output_type": "stream",
     "text": [
      "Termino 14\n",
      "['Perez R. B. (Per)', 0, 0, 0, 0, 0, 0, 0, 0, 0, 0, 0, 0, 0, 'Cartagena J. (Per)', 0, 0, 0, 0, 0, 0, 0, 0, 0, 0, 0, 0, 0, 'Espinoza M. (Per)', 0, 0, 0, 0, 0, 0, 0, 0, 0, 0, 0, 0, 0, 'Garay Evia L. (Per)', 0, 0, 0, 0, 0, 0, 0, 0, 0, 0, 0, 0, 0, 'Alarcon J. (Per)', 0, 0, 0, 0, 0, 0, 0, 0, 0, 0, 0, 0, 0, 'Ureta D. (Per)', 0, 0, 0, 0, 0, 0, 0, 0, 0, 0, 0, 0, 0, 'Estadio San Martin de Porres (Lima)', 0, 0, 0, 0, 0, 0, 0, 0, 0, 0, 0, 0, 0, 'Alarcon J. (Per)', 0, 0, 0, 0, 0, 0, 0, 0, 0, 0, 0, 0, 0, 'Legario F. (Per)', 0, 0, 0, 0, 0, 0, 0, 0, 0, 0, 0, 0, 0, 'Espinoza J. (Per)', 0, 0, 0, 0, 0, 0, 0, 0, 0, 0, 0, 0, 0, 'Alarcon J. (Per)', 0, 0, 0, 0, 0, 0, 0, 0, 0, 0, 0, 0, 0, 'Huaman D. (Per)', 0, 0, 0, 0, 0, 0, 0, 0, 0, 0, 0, 0, 0, 'Alarcon J. (Per)', 0, 0, 0, 0, 0, 0, 0, 0, 0, 0, 0, 0, 0, 'Palomino M. (Per)', 0, 0, 0, 0, 0, 0, 0, 0, 0, 0, 0, 0, 0, 'Perez R. B. (Per)', 0, 0, 0, 0, 0, 0, 0, 0, 0, 0, 0, 0, 0, 0, 0, 0, 0, 0, 0, 0, 0, 0]\n",
      "\n"
     ]
    },
    {
     "name": "stderr",
     "output_type": "stream",
     "text": [
      "[WDM] - ====== WebDriver manager ======\n"
     ]
    },
    {
     "name": "stdout",
     "output_type": "stream",
     "text": [
      "Termino 98\n",
      "['Perez R. B. (Per)', 0, 0, 0, 0, 0, 0, 0, 0, 0, 0, 0, 0, 0, 'Cartagena J. (Per)', 0, 0, 0, 0, 0, 0, 0, 0, 0, 0, 0, 0, 0, 'Espinoza M. (Per)', 0, 0, 0, 0, 0, 0, 0, 0, 0, 0, 0, 0, 0, 'Garay Evia L. (Per)', 0, 0, 0, 0, 0, 0, 0, 0, 0, 0, 0, 0, 0, 'Alarcon J. (Per)', 0, 0, 0, 0, 0, 0, 0, 0, 0, 0, 0, 0, 0, 'Ureta D. (Per)', 0, 0, 0, 0, 0, 0, 0, 0, 0, 0, 0, 0, 0, 'Estadio San Martin de Porres (Lima)', 0, 0, 0, 0, 0, 0, 0, 0, 0, 0, 0, 0, 0, 'Alarcon J. (Per)', 0, 0, 0, 0, 0, 0, 0, 0, 0, 0, 0, 0, 0, 'Legario F. (Per)', 0, 0, 0, 0, 0, 0, 0, 0, 0, 0, 0, 0, 0, 'Espinoza J. (Per)', 0, 0, 0, 0, 0, 0, 0, 0, 0, 0, 0, 0, 0, 'Alarcon J. (Per)', 0, 0, 0, 0, 0, 0, 0, 0, 0, 0, 0, 0, 0, 'Huaman D. (Per)', 0, 0, 0, 0, 0, 0, 0, 0, 0, 0, 0, 0, 0, 'Alarcon J. (Per)', 0, 0, 0, 0, 0, 0, 0, 0, 0, 0, 0, 0, 0, 'Palomino M. (Per)', 0, 0, 0, 0, 0, 0, 0, 0, 0, 0, 0, 0, 0, 'Perez R. B. (Per)', 0, 0, 0, 0, 0, 0, 0, 0, 0, 0, 0, 0, 0, 0, 0, 0, 0, 0, 0, 0, 0, 0]\n",
      "\n"
     ]
    },
    {
     "name": "stderr",
     "output_type": "stream",
     "text": [
      "[WDM] - ====== WebDriver manager ======\n",
      "[WDM] - Current google-chrome version is 104.0.5112\n",
      "[WDM] - Get LATEST chromedriver version for 104.0.5112 google-chrome\n",
      "[WDM] - Driver [C:\\Users\\PC-1\\.wdm\\drivers\\chromedriver\\win32\\104.0.5112.79\\chromedriver.exe] found in cache\n",
      "[WDM] - Current google-chrome version is 104.0.5112\n",
      "[WDM] - Get LATEST chromedriver version for 104.0.5112 google-chrome\n"
     ]
    },
    {
     "name": "stdout",
     "output_type": "stream",
     "text": [
      "Termino 182\n",
      "['Perez R. B. (Per)', 0, 0, 0, 0, 0, 0, 0, 0, 0, 0, 0, 0, 0, 'Cartagena J. (Per)', 0, 0, 0, 0, 0, 0, 0, 0, 0, 0, 0, 0, 0, 'Espinoza M. (Per)', 0, 0, 0, 0, 0, 0, 0, 0, 0, 0, 0, 0, 0, 'Garay Evia L. (Per)', 0, 0, 0, 0, 0, 0, 0, 0, 0, 0, 0, 0, 0, 'Alarcon J. (Per)', 0, 0, 0, 0, 0, 0, 0, 0, 0, 0, 0, 0, 0, 'Ureta D. (Per)', 0, 0, 0, 0, 0, 0, 0, 0, 0, 0, 0, 0, 0, 'Estadio San Martin de Porres (Lima)', 0, 0, 0, 0, 0, 0, 0, 0, 0, 0, 0, 0, 0, 'Alarcon J. (Per)', 0, 0, 0, 0, 0, 0, 0, 0, 0, 0, 0, 0, 0, 'Legario F. (Per)', 0, 0, 0, 0, 0, 0, 0, 0, 0, 0, 0, 0, 0, 'Espinoza J. (Per)', 0, 0, 0, 0, 0, 0, 0, 0, 0, 0, 0, 0, 0, 'Alarcon J. (Per)', 0, 0, 0, 0, 0, 0, 0, 0, 0, 0, 0, 0, 0, 'Huaman D. (Per)', 0, 0, 0, 0, 0, 0, 0, 0, 0, 0, 0, 0, 0, 'Alarcon J. (Per)', 0, 0, 0, 0, 0, 0, 0, 0, 0, 0, 0, 0, 0, 'Palomino M. (Per)', 0, 0, 0, 0, 0, 0, 0, 0, 0, 0, 0, 0, 0, 'Perez R. B. (Per)', 0, 0, 0, 0, 0, 0, 0, 0, 0, 0, 0, 0, 0, 0, 0, 0, 0, 0, 0, 0, 0, 0]\n",
      "\n"
     ]
    },
    {
     "name": "stderr",
     "output_type": "stream",
     "text": [
      "[WDM] - ====== WebDriver manager ======\n",
      "[WDM] - Driver [C:\\Users\\PC-1\\.wdm\\drivers\\chromedriver\\win32\\104.0.5112.79\\chromedriver.exe] found in cache\n",
      "[WDM] - Current google-chrome version is 104.0.5112\n",
      "[WDM] - Get LATEST chromedriver version for 104.0.5112 google-chrome\n"
     ]
    },
    {
     "name": "stdout",
     "output_type": "stream",
     "text": [
      "Termino 56\n",
      "['Perez R. B. (Per)', 0, 0, 0, 0, 0, 0, 0, 0, 0, 0, 0, 0, 0, 'Cartagena J. (Per)', 0, 0, 0, 0, 0, 0, 0, 0, 0, 0, 0, 0, 0, 'Espinoza M. (Per)', 0, 0, 0, 0, 0, 0, 0, 0, 0, 0, 0, 0, 0, 'Garay Evia L. (Per)', 0, 0, 0, 0, 0, 0, 0, 0, 0, 0, 0, 0, 0, 'Alarcon J. (Per)', 0, 0, 0, 0, 0, 0, 0, 0, 0, 0, 0, 0, 0, 'Ureta D. (Per)', 0, 0, 0, 0, 0, 0, 0, 0, 0, 0, 0, 0, 0, 'Estadio San Martin de Porres (Lima)', 0, 0, 0, 0, 0, 0, 0, 0, 0, 0, 0, 0, 0, 'Alarcon J. (Per)', 0, 0, 0, 0, 0, 0, 0, 0, 0, 0, 0, 0, 0, 'Legario F. (Per)', 0, 0, 0, 0, 0, 0, 0, 0, 0, 0, 0, 0, 0, 'Espinoza J. (Per)', 0, 0, 0, 0, 0, 0, 0, 0, 0, 0, 0, 0, 0, 'Alarcon J. (Per)', 0, 0, 0, 0, 0, 0, 0, 0, 0, 0, 0, 0, 0, 'Huaman D. (Per)', 0, 0, 0, 0, 0, 0, 0, 0, 0, 0, 0, 0, 0, 'Alarcon J. (Per)', 0, 0, 0, 0, 0, 0, 0, 0, 0, 0, 0, 0, 0, 'Palomino M. (Per)', 0, 0, 0, 0, 0, 0, 0, 0, 0, 0, 0, 0, 0, 'Perez R. B. (Per)', 0, 0, 0, 0, 0, 0, 0, 0, 0, 0, 0, 0, 0, 0, 0, 0, 0, 0, 0, 0, 0, 0]\n",
      "\n"
     ]
    },
    {
     "name": "stderr",
     "output_type": "stream",
     "text": [
      "[WDM] - ====== WebDriver manager ======\n",
      "[WDM] - Driver [C:\\Users\\PC-1\\.wdm\\drivers\\chromedriver\\win32\\104.0.5112.79\\chromedriver.exe] found in cache\n"
     ]
    },
    {
     "name": "stdout",
     "output_type": "stream",
     "text": [
      "Termino 42\n",
      "['Perez R. B. (Per)', 0, 0, 0, 0, 0, 0, 0, 0, 0, 0, 0, 0, 0, 'Cartagena J. (Per)', 0, 0, 0, 0, 0, 0, 0, 0, 0, 0, 0, 0, 0, 'Espinoza M. (Per)', 0, 0, 0, 0, 0, 0, 0, 0, 0, 0, 0, 0, 0, 'Garay Evia L. (Per)', 0, 0, 0, 0, 0, 0, 0, 0, 0, 0, 0, 0, 0, 'Alarcon J. (Per)', 0, 0, 0, 0, 0, 0, 0, 0, 0, 0, 0, 0, 0, 'Ureta D. (Per)', 0, 0, 0, 0, 0, 0, 0, 0, 0, 0, 0, 0, 0, 'Estadio San Martin de Porres (Lima)', 0, 0, 0, 0, 0, 0, 0, 0, 0, 0, 0, 0, 0, 'Alarcon J. (Per)', 0, 0, 0, 0, 0, 0, 0, 0, 0, 0, 0, 0, 0, 'Legario F. (Per)', 0, 0, 0, 0, 0, 0, 0, 0, 0, 0, 0, 0, 0, 'Espinoza J. (Per)', 0, 0, 0, 0, 0, 0, 0, 0, 0, 0, 0, 0, 0, 'Alarcon J. (Per)', 0, 0, 0, 0, 0, 0, 0, 0, 0, 0, 0, 0, 0, 'Huaman D. (Per)', 0, 0, 0, 0, 0, 0, 0, 0, 0, 0, 0, 0, 0, 'Alarcon J. (Per)', 0, 0, 0, 0, 0, 0, 0, 0, 0, 0, 0, 0, 0, 'Palomino M. (Per)', 0, 0, 0, 0, 0, 0, 0, 0, 0, 0, 0, 0, 0, 'Perez R. B. (Per)', 0, 0, 0, 0, 0, 0, 0, 0, 0, 0, 0, 0, 0, 0, 0, 0, 0, 0, 0, 0, 0, 0]\n",
      "\n"
     ]
    },
    {
     "name": "stderr",
     "output_type": "stream",
     "text": [
      "[WDM] - ====== WebDriver manager ======\n",
      "[WDM] - Current google-chrome version is 104.0.5112\n",
      "[WDM] - Get LATEST chromedriver version for 104.0.5112 google-chrome\n",
      "[WDM] - Driver [C:\\Users\\PC-1\\.wdm\\drivers\\chromedriver\\win32\\104.0.5112.79\\chromedriver.exe] found in cache\n",
      "[WDM] - Current google-chrome version is 104.0.5112\n",
      "[WDM] - Get LATEST chromedriver version for 104.0.5112 google-chrome\n"
     ]
    },
    {
     "name": "stdout",
     "output_type": "stream",
     "text": [
      "Termino 84\n",
      "['Perez R. B. (Per)', 0, 0, 0, 0, 0, 0, 0, 0, 0, 0, 0, 0, 0, 'Cartagena J. (Per)', 0, 0, 0, 0, 0, 0, 0, 0, 0, 0, 0, 0, 0, 'Espinoza M. (Per)', 0, 0, 0, 0, 0, 0, 0, 0, 0, 0, 0, 0, 0, 'Garay Evia L. (Per)', 0, 0, 0, 0, 0, 0, 0, 0, 0, 0, 0, 0, 0, 'Alarcon J. (Per)', 0, 0, 0, 0, 0, 0, 0, 0, 0, 0, 0, 0, 0, 'Ureta D. (Per)', 0, 0, 0, 0, 0, 0, 0, 0, 0, 0, 0, 0, 0, 'Estadio San Martin de Porres (Lima)', 0, 0, 0, 0, 0, 0, 0, 0, 0, 0, 0, 0, 0, 'Alarcon J. (Per)', 0, 0, 0, 0, 0, 0, 0, 0, 0, 0, 0, 0, 0, 'Legario F. (Per)', 0, 0, 0, 0, 0, 0, 0, 0, 0, 0, 0, 0, 0, 'Espinoza J. (Per)', 0, 0, 0, 0, 0, 0, 0, 0, 0, 0, 0, 0, 0, 'Alarcon J. (Per)', 0, 0, 0, 0, 0, 0, 0, 0, 0, 0, 0, 0, 0, 'Huaman D. (Per)', 0, 0, 0, 0, 0, 0, 0, 0, 0, 0, 0, 0, 0, 'Alarcon J. (Per)', 0, 0, 0, 0, 0, 0, 0, 0, 0, 0, 0, 0, 0, 'Palomino M. (Per)', 0, 0, 0, 0, 0, 0, 0, 0, 0, 0, 0, 0, 0, 'Perez R. B. (Per)', 0, 0, 0, 0, 0, 0, 0, 0, 0, 0, 0, 0, 0, 0, 0, 0, 0, 0, 0, 0, 0, 0]\n",
      "\n"
     ]
    },
    {
     "name": "stderr",
     "output_type": "stream",
     "text": [
      "[WDM] - ====== WebDriver manager ======\n"
     ]
    },
    {
     "name": "stdout",
     "output_type": "stream",
     "text": [
      "Termino 168\n",
      "['Perez R. B. (Per)', 0, 0, 0, 0, 0, 0, 0, 0, 0, 0, 0, 0, 0, 'Cartagena J. (Per)', 0, 0, 0, 0, 0, 0, 0, 0, 0, 0, 0, 0, 0, 'Espinoza M. (Per)', 0, 0, 0, 0, 0, 0, 0, 0, 0, 0, 0, 0, 0, 'Garay Evia L. (Per)', 0, 0, 0, 0, 0, 0, 0, 0, 0, 0, 0, 0, 0, 'Alarcon J. (Per)', 0, 0, 0, 0, 0, 0, 0, 0, 0, 0, 0, 0, 0, 'Ureta D. (Per)', 0, 0, 0, 0, 0, 0, 0, 0, 0, 0, 0, 0, 0, 'Estadio San Martin de Porres (Lima)', 0, 0, 0, 0, 0, 0, 0, 0, 0, 0, 0, 0, 0, 'Alarcon J. (Per)', 0, 0, 0, 0, 0, 0, 0, 0, 0, 0, 0, 0, 0, 'Legario F. (Per)', 0, 0, 0, 0, 0, 0, 0, 0, 0, 0, 0, 0, 0, 'Espinoza J. (Per)', 0, 0, 0, 0, 0, 0, 0, 0, 0, 0, 0, 0, 0, 'Alarcon J. (Per)', 0, 0, 0, 0, 0, 0, 0, 0, 0, 0, 0, 0, 0, 'Huaman D. (Per)', 0, 0, 0, 0, 0, 0, 0, 0, 0, 0, 0, 0, 0, 'Alarcon J. (Per)', 0, 0, 0, 0, 0, 0, 0, 0, 0, 0, 0, 0, 0, 'Palomino M. (Per)', 0, 0, 0, 0, 0, 0, 0, 0, 0, 0, 0, 0, 0, 'Perez R. B. (Per)', 0, 0, 0, 0, 0, 0, 0, 0, 0, 0, 0, 0, 0, 0, 0, 0, 0, 0, 0, 0, 0, 0]\n",
      "\n"
     ]
    },
    {
     "name": "stderr",
     "output_type": "stream",
     "text": [
      "[WDM] - ====== WebDriver manager ======\n",
      "[WDM] - Driver [C:\\Users\\PC-1\\.wdm\\drivers\\chromedriver\\win32\\104.0.5112.79\\chromedriver.exe] found in cache\n"
     ]
    },
    {
     "name": "stdout",
     "output_type": "stream",
     "text": [
      "Termino 196Termino 28\n",
      "['Perez R. B. (Per)', 0, 0, 0, 0, 0, 0, 0, 0, 0, 0, 0, 0, 0, 'Cartagena J. (Per)', 0, 0, 0, 0, 0, 0, 0, 0, 0, 0, 0, 0, 0, 'Espinoza M. (Per)', 0, 0, 0, 0, 0, 0, 0, 0, 0, 0, 0, 0, 0, 'Garay Evia L. (Per)', 0, 0, 0, 0, 0, 0, 0, 0, 0, 0, 0, 0, 0, 'Alarcon J. (Per)', 0, 0, 0, 0, 0, 0, 0, 0, 0, 0, 0, 0, 0, 'Ureta D. (Per)', 0, 0, 0, 0, 0, 0, 0, 0, 0, 0, 0, 0, 0, 'Estadio San Martin de Porres (Lima)', 0, 0, 0, 0, 0, 0, 0, 0, 0, 0, 0, 0, 0, 'Alarcon J. (Per)', 0, 0, 0, 0, 0, 0, 0, 0, 0, 0, 0, 0, 0, 'Legario F. (Per)', 0, 0, 0, 0, 0, 0, 0, 0, 0, 0, 0, 0, 0, 'Espinoza J. (Per)', 0, 0, 0, 0, 0, 0, 0, 0, 0, 0, 0, 0, 0, 'Alarcon J. (Per)', 0, 0, 0, 0, 0, 0, 0, 0, 0, 0, 0, 0, 0, 'Huaman D. (Per)', 0, 0, 0, 0, 0, 0, 0, 0, 0, 0, 0, 0, 0, 'Alarcon J. (Per)', 0, 0, 0, 0, 0, 0, 0, 0, 0, 0, 0, 0, 0, 'Palomino M. (Per)', 0, 0, 0, 0, 0, 0, 0, 0, 0, 0, 0, 0, 0, 'Perez R. B. (Per)', 0, 0, 0, 0, 0, 0, 0, 0, 0, 0, 0, 0, 0, 0, 0, 0, 0, 0, 0, 0, 0, 0]\n",
      "\n",
      "['Perez R. B. (Per)', 0, 0, 0, 0, 0, 0, 0, 0, 0, 0, 0, 0, 0, 'Cartagena J. (Per)', 0, 0, 0, 0, 0, 0, 0, 0, 0, 0, 0, 0, 0, 'Espinoza M. (Per)', 0, 0, 0, 0, 0, 0, 0, 0, 0, 0, 0, 0, 0, 'Garay Evia L. (Per)', 0, 0, 0, 0, 0, 0, 0, 0, 0, 0, 0, 0, 0, 'Alarcon J. (Per)', 0, 0, 0, 0, 0, 0, 0, 0, 0, 0, 0, 0, 0, 'Ureta D. (Per)', 0, 0, 0, 0, 0, 0, 0, 0, 0, 0, 0, 0, 0, 'Estadio San Martin de Porres (Lima)', 0, 0, 0, 0, 0, 0, 0, 0, 0, 0, 0, 0, 0, 'Alarcon J. (Per)', 0, 0, 0, 0, 0, 0, 0, 0, 0, 0, 0, 0, 0, 'Legario F. (Per)', 0, 0, 0, 0, 0, 0, 0, 0, 0, 0, 0, 0, 0, 'Espinoza J. (Per)', 0, 0, 0, 0, 0, 0, 0, 0, 0, 0, 0, 0, 0, 'Alarcon J. (Per)', 0, 0, 0, 0, 0, 0, 0, 0, 0, 0, 0, 0, 0, 'Huaman D. (Per)', 0, 0, 0, 0, 0, 0, 0, 0, 0, 0, 0, 0, 0, 'Alarcon J. (Per)', 0, 0, 0, 0, 0, 0, 0, 0, 0, 0, 0, 0, 0, 'Palomino M. (Per)', 0, 0, 0, 0, 0, 0, 0, 0, 0, 0, 0, 0, 0, 'Perez R. B. (Per)', 0, 0, 0, 0, 0, 0, 0, 0, 0, 0, 0, 0, 0, 0, 0, 0, 0, 0, 0, 0, 0, 0]\n",
      "\n",
      "\n"
     ]
    },
    {
     "name": "stderr",
     "output_type": "stream",
     "text": [
      "[WDM] - ====== WebDriver manager ======\n",
      "[WDM] - ====== WebDriver manager ======\n"
     ]
    },
    {
     "name": "stdout",
     "output_type": "stream",
     "text": [
      "Termino 112\n",
      "['Perez R. B. (Per)', 0, 0, 0, 0, 0, 0, 0, 0, 0, 0, 0, 0, 0, 'Cartagena J. (Per)', 0, 0, 0, 0, 0, 0, 0, 0, 0, 0, 0, 0, 0, 'Espinoza M. (Per)', 0, 0, 0, 0, 0, 0, 0, 0, 0, 0, 0, 0, 0, 'Garay Evia L. (Per)', 0, 0, 0, 0, 0, 0, 0, 0, 0, 0, 0, 0, 0, 'Alarcon J. (Per)', 0, 0, 0, 0, 0, 0, 0, 0, 0, 0, 0, 0, 0, 'Ureta D. (Per)', 0, 0, 0, 0, 0, 0, 0, 0, 0, 0, 0, 0, 0, 'Estadio San Martin de Porres (Lima)', 0, 0, 0, 0, 0, 0, 0, 0, 0, 0, 0, 0, 0, 'Alarcon J. (Per)', 0, 0, 0, 0, 0, 0, 0, 0, 0, 0, 0, 0, 0, 'Legario F. (Per)', 0, 0, 0, 0, 0, 0, 0, 0, 0, 0, 0, 0, 0, 'Espinoza J. (Per)', 0, 0, 0, 0, 0, 0, 0, 0, 0, 0, 0, 0, 0, 'Alarcon J. (Per)', 0, 0, 0, 0, 0, 0, 0, 0, 0, 0, 0, 0, 0, 'Huaman D. (Per)', 0, 0, 0, 0, 0, 0, 0, 0, 0, 0, 0, 0, 0, 'Alarcon J. (Per)', 0, 0, 0, 0, 0, 0, 0, 0, 0, 0, 0, 0, 0, 'Palomino M. (Per)', 0, 0, 0, 0, 0, 0, 0, 0, 0, 0, 0, 0, 0, 'Perez R. B. (Per)', 0, 0, 0, 0, 0, 0, 0, 0, 0, 0, 0, 0, 0, 0, 0, 0, 0, 0, 0, 0, 0, 0]\n",
      "\n"
     ]
    },
    {
     "name": "stderr",
     "output_type": "stream",
     "text": [
      "[WDM] - ====== WebDriver manager ======\n"
     ]
    },
    {
     "name": "stdout",
     "output_type": "stream",
     "text": [
      "Termino 70\n",
      "['Perez R. B. (Per)', 0, 0, 0, 0, 0, 0, 0, 0, 0, 0, 0, 0, 0, 'Cartagena J. (Per)', 0, 0, 0, 0, 0, 0, 0, 0, 0, 0, 0, 0, 0, 'Espinoza M. (Per)', 0, 0, 0, 0, 0, 0, 0, 0, 0, 0, 0, 0, 0, 'Garay Evia L. (Per)', 0, 0, 0, 0, 0, 0, 0, 0, 0, 0, 0, 0, 0, 'Alarcon J. (Per)', 0, 0, 0, 0, 0, 0, 0, 0, 0, 0, 0, 0, 0, 'Ureta D. (Per)', 0, 0, 0, 0, 0, 0, 0, 0, 0, 0, 0, 0, 0, 'Estadio San Martin de Porres (Lima)', 0, 0, 0, 0, 0, 0, 0, 0, 0, 0, 0, 0, 0, 'Alarcon J. (Per)', 0, 0, 0, 0, 0, 0, 0, 0, 0, 0, 0, 0, 0, 'Legario F. (Per)', 0, 0, 0, 0, 0, 0, 0, 0, 0, 0, 0, 0, 0, 'Espinoza J. (Per)', 0, 0, 0, 0, 0, 0, 0, 0, 0, 0, 0, 0, 0, 'Alarcon J. (Per)', 0, 0, 0, 0, 0, 0, 0, 0, 0, 0, 0, 0, 0, 'Huaman D. (Per)', 0, 0, 0, 0, 0, 0, 0, 0, 0, 0, 0, 0, 0, 'Alarcon J. (Per)', 0, 0, 0, 0, 0, 0, 0, 0, 0, 0, 0, 0, 0, 'Palomino M. (Per)', 0, 0, 0, 0, 0, 0, 0, 0, 0, 0, 0, 0, 0, 'Perez R. B. (Per)', 0, 0, 0, 0, 0, 0, 0, 0, 0, 0, 0, 0, 0, 0, 0, 0, 0, 0, 0, 0, 0, 0]\n",
      "\n"
     ]
    },
    {
     "name": "stderr",
     "output_type": "stream",
     "text": [
      "[WDM] - ====== WebDriver manager ======\n"
     ]
    },
    {
     "name": "stdout",
     "output_type": "stream",
     "text": [
      "Termino 126\n",
      "['Perez R. B. (Per)', 0, 0, 0, 0, 0, 0, 0, 0, 0, 0, 0, 0, 0, 'Cartagena J. (Per)', 0, 0, 0, 0, 0, 0, 0, 0, 0, 0, 0, 0, 0, 'Espinoza M. (Per)', 0, 0, 0, 0, 0, 0, 0, 0, 0, 0, 0, 0, 0, 'Garay Evia L. (Per)', 0, 0, 0, 0, 0, 0, 0, 0, 0, 0, 0, 0, 0, 'Alarcon J. (Per)', 0, 0, 0, 0, 0, 0, 0, 0, 0, 0, 0, 0, 0, 'Ureta D. (Per)', 0, 0, 0, 0, 0, 0, 0, 0, 0, 0, 0, 0, 0, 'Estadio San Martin de Porres (Lima)', 0, 0, 0, 0, 0, 0, 0, 0, 0, 0, 0, 0, 0, 'Alarcon J. (Per)', 0, 0, 0, 0, 0, 0, 0, 0, 0, 0, 0, 0, 0, 'Legario F. (Per)', 0, 0, 0, 0, 0, 0, 0, 0, 0, 0, 0, 0, 0, 'Espinoza J. (Per)', 0, 0, 0, 0, 0, 0, 0, 0, 0, 0, 0, 0, 0, 'Alarcon J. (Per)', 0, 0, 0, 0, 0, 0, 0, 0, 0, 0, 0, 0, 0, 'Huaman D. (Per)', 0, 0, 0, 0, 0, 0, 0, 0, 0, 0, 0, 0, 0, 'Alarcon J. (Per)', 0, 0, 0, 0, 0, 0, 0, 0, 0, 0, 0, 0, 0, 'Palomino M. (Per)', 0, 0, 0, 0, 0, 0, 0, 0, 0, 0, 0, 0, 0, 'Perez R. B. (Per)', 0, 0, 0, 0, 0, 0, 0, 0, 0, 0, 0, 0, 0, 0, 0, 0, 0, 0, 0, 0, 0, 0]\n",
      "\n"
     ]
    },
    {
     "name": "stderr",
     "output_type": "stream",
     "text": [
      "[WDM] - ====== WebDriver manager ======\n"
     ]
    },
    {
     "name": "stdout",
     "output_type": "stream",
     "text": [
      "Termino 154\n",
      "['Perez R. B. (Per)', 0, 0, 0, 0, 0, 0, 0, 0, 0, 0, 0, 0, 0, 'Cartagena J. (Per)', 0, 0, 0, 0, 0, 0, 0, 0, 0, 0, 0, 0, 0, 'Espinoza M. (Per)', 0, 0, 0, 0, 0, 0, 0, 0, 0, 0, 0, 0, 0, 'Garay Evia L. (Per)', 0, 0, 0, 0, 0, 0, 0, 0, 0, 0, 0, 0, 0, 'Alarcon J. (Per)', 0, 0, 0, 0, 0, 0, 0, 0, 0, 0, 0, 0, 0, 'Ureta D. (Per)', 0, 0, 0, 0, 0, 0, 0, 0, 0, 0, 0, 0, 0, 'Estadio San Martin de Porres (Lima)', 0, 0, 0, 0, 0, 0, 0, 0, 0, 0, 0, 0, 0, 'Alarcon J. (Per)', 0, 0, 0, 0, 0, 0, 0, 0, 0, 0, 0, 0, 0, 'Legario F. (Per)', 0, 0, 0, 0, 0, 0, 0, 0, 0, 0, 0, 0, 0, 'Espinoza J. (Per)', 0, 0, 0, 0, 0, 0, 0, 0, 0, 0, 0, 0, 0, 'Alarcon J. (Per)', 0, 0, 0, 0, 0, 0, 0, 0, 0, 0, 0, 0, 0, 'Huaman D. (Per)', 0, 0, 0, 0, 0, 0, 0, 0, 0, 0, 0, 0, 0, 'Alarcon J. (Per)', 0, 0, 0, 0, 0, 0, 0, 0, 0, 0, 0, 0, 0, 'Palomino M. (Per)', 0, 0, 0, 0, 0, 0, 0, 0, 0, 0, 0, 0, 0, 'Perez R. B. (Per)', 0, 0, 0, 0, 0, 0, 0, 0, 0, 0, 0, 0, 0, 0, 0, 0, 0, 0, 0, 0, 0, 0]\n",
      "\n"
     ]
    },
    {
     "name": "stderr",
     "output_type": "stream",
     "text": [
      "[WDM] - ====== WebDriver manager ======\n",
      "[WDM] - Current google-chrome version is 104.0.5112\n",
      "[WDM] - Get LATEST chromedriver version for 104.0.5112 google-chrome\n",
      "[WDM] - Current google-chrome version is 104.0.5112\n",
      "[WDM] - Get LATEST chromedriver version for 104.0.5112 google-chrome\n"
     ]
    },
    {
     "name": "stdout",
     "output_type": "stream",
     "text": [
      "Termino 140\n",
      "['Perez R. B. (Per)', 0, 0, 0, 0, 0, 0, 0, 0, 0, 0, 0, 0, 0, 'Cartagena J. (Per)', 0, 0, 0, 0, 0, 0, 0, 0, 0, 0, 0, 0, 0, 'Espinoza M. (Per)', 0, 0, 0, 0, 0, 0, 0, 0, 0, 0, 0, 0, 0, 'Garay Evia L. (Per)', 0, 0, 0, 0, 0, 0, 0, 0, 0, 0, 0, 0, 0, 'Alarcon J. (Per)', 0, 0, 0, 0, 0, 0, 0, 0, 0, 0, 0, 0, 0, 'Ureta D. (Per)', 0, 0, 0, 0, 0, 0, 0, 0, 0, 0, 0, 0, 0, 'Estadio San Martin de Porres (Lima)', 0, 0, 0, 0, 0, 0, 0, 0, 0, 0, 0, 0, 0, 'Alarcon J. (Per)', 0, 0, 0, 0, 0, 0, 0, 0, 0, 0, 0, 0, 0, 'Legario F. (Per)', 0, 0, 0, 0, 0, 0, 0, 0, 0, 0, 0, 0, 0, 'Espinoza J. (Per)', 0, 0, 0, 0, 0, 0, 0, 0, 0, 0, 0, 0, 0, 'Alarcon J. (Per)', 0, 0, 0, 0, 0, 0, 0, 0, 0, 0, 0, 0, 0, 'Huaman D. (Per)', 0, 0, 0, 0, 0, 0, 0, 0, 0, 0, 0, 0, 0, 'Alarcon J. (Per)', 0, 0, 0, 0, 0, 0, 0, 0, 0, 0, 0, 0, 0, 'Palomino M. (Per)', 0, 0, 0, 0, 0, 0, 0, 0, 0, 0, 0, 0, 0, 'Perez R. B. (Per)', 0, 0, 0, 0, 0, 0, 0, 0, 0, 0, 0, 0, 0, 0, 0, 0, 0, 0, 0, 0, 0, 0]\n",
      "\n"
     ]
    },
    {
     "name": "stderr",
     "output_type": "stream",
     "text": [
      "[WDM] - ====== WebDriver manager ======\n",
      "[WDM] - Current google-chrome version is 104.0.5112\n",
      "[WDM] - Get LATEST chromedriver version for 104.0.5112 google-chrome\n",
      "[WDM] - Driver [C:\\Users\\PC-1\\.wdm\\drivers\\chromedriver\\win32\\104.0.5112.79\\chromedriver.exe] found in cache\n",
      "[WDM] - Driver [C:\\Users\\PC-1\\.wdm\\drivers\\chromedriver\\win32\\104.0.5112.79\\chromedriver.exe] found in cache\n",
      "[WDM] - Driver [C:\\Users\\PC-1\\.wdm\\drivers\\chromedriver\\win32\\104.0.5112.79\\chromedriver.exe] found in cache\n",
      "[WDM] - Current google-chrome version is 104.0.5112\n",
      "[WDM] - Get LATEST chromedriver version for 104.0.5112 google-chrome\n",
      "[WDM] - Driver [C:\\Users\\PC-1\\.wdm\\drivers\\chromedriver\\win32\\104.0.5112.79\\chromedriver.exe] found in cache\n",
      "[WDM] - Current google-chrome version is 104.0.5112\n",
      "[WDM] - Get LATEST chromedriver version for 104.0.5112 google-chrome\n",
      "[WDM] - Current google-chrome version is 104.0.5112\n",
      "[WDM] - Get LATEST chromedriver version for 104.0.5112 google-chrome\n",
      "[WDM] - Current google-chrome version is 104.0.5112\n",
      "[WDM] - Get LATEST chromedriver version for 104.0.5112 google-chrome\n",
      "[WDM] - Driver [C:\\Users\\PC-1\\.wdm\\drivers\\chromedriver\\win32\\104.0.5112.79\\chromedriver.exe] found in cache\n",
      "[WDM] - Driver [C:\\Users\\PC-1\\.wdm\\drivers\\chromedriver\\win32\\104.0.5112.79\\chromedriver.exe] found in cache\n",
      "[WDM] - Driver [C:\\Users\\PC-1\\.wdm\\drivers\\chromedriver\\win32\\104.0.5112.79\\chromedriver.exe] found in cache\n"
     ]
    },
    {
     "name": "stdout",
     "output_type": "stream",
     "text": [
      "Termino 1\n",
      "['Perez R. B. (Per)', 'Quiroz J. C. (Per)', 0, 0, 0, 0, 0, 0, 0, 0, 0, 0, 0, 0, 'Cartagena J. (Per)', 'Villegas H. (Per)', 0, 0, 0, 0, 0, 0, 0, 0, 0, 0, 0, 0, 'Espinoza M. (Per)', 0, 0, 0, 0, 0, 0, 0, 0, 0, 0, 0, 0, 0, 'Garay Evia L. (Per)', 'Lozano S. (Per)', 0, 0, 0, 0, 0, 0, 0, 0, 0, 0, 0, 0, 'Alarcon J. (Per)', 'Ciriaco L. (Per)', 0, 0, 0, 0, 0, 0, 0, 0, 0, 0, 0, 0, 'Ureta D. (Per)', 0, 0, 0, 0, 0, 0, 0, 0, 0, 0, 0, 0, 0, 'Estadio San Martin de Porres (Lima)', 0, 0, 0, 0, 0, 0, 0, 0, 0, 0, 0, 0, 0, 'Alarcon J. (Per)', 'Ortega K. (Per)', 0, 0, 0, 0, 0, 0, 0, 0, 0, 0, 0, 0, 'Legario F. (Per)', 0, 0, 0, 0, 0, 0, 0, 0, 0, 0, 0, 0, 0, 'Espinoza J. (Per)', 0, 0, 0, 0, 0, 0, 0, 0, 0, 0, 0, 0, 0, 'Alarcon J. (Per)', 0, 0, 0, 0, 0, 0, 0, 0, 0, 0, 0, 0, 0, 'Huaman D. (Per)', 0, 0, 0, 0, 0, 0, 0, 0, 0, 0, 0, 0, 0, 'Alarcon J. (Per)', 0, 0, 0, 0, 0, 0, 0, 0, 0, 0, 0, 0, 0, 'Palomino M. (Per)', 'Legario F. (Per)', 0, 0, 0, 0, 0, 0, 0, 0, 0, 0, 0, 0, 'Perez R. B. (Per)', 0, 0, 0, 0, 0, 0, 0, 0, 0, 0, 0, 0, 0, 0, 0, 0, 0, 0, 0, 0, 0, 0]\n",
      "\n"
     ]
    },
    {
     "name": "stderr",
     "output_type": "stream",
     "text": [
      "[WDM] - ====== WebDriver manager ======\n",
      "[WDM] - Current google-chrome version is 104.0.5112\n",
      "[WDM] - Get LATEST chromedriver version for 104.0.5112 google-chrome\n",
      "[WDM] - Driver [C:\\Users\\PC-1\\.wdm\\drivers\\chromedriver\\win32\\104.0.5112.79\\chromedriver.exe] found in cache\n"
     ]
    },
    {
     "name": "stdout",
     "output_type": "stream",
     "text": [
      "Termino 15\n",
      "['Perez R. B. (Per)', 'Quiroz J. C. (Per)', 0, 0, 0, 0, 0, 0, 0, 0, 0, 0, 0, 0, 'Cartagena J. (Per)', 'Villegas H. (Per)', 0, 0, 0, 0, 0, 0, 0, 0, 0, 0, 0, 0, 'Espinoza M. (Per)', 'Ordonez E. (Per)', 0, 0, 0, 0, 0, 0, 0, 0, 0, 0, 0, 0, 'Garay Evia L. (Per)', 'Lozano S. (Per)', 0, 0, 0, 0, 0, 0, 0, 0, 0, 0, 0, 0, 'Alarcon J. (Per)', 'Ciriaco L. (Per)', 0, 0, 0, 0, 0, 0, 0, 0, 0, 0, 0, 0, 'Ureta D. (Per)', 'Garay L. (Per)', 0, 0, 0, 0, 0, 0, 0, 0, 0, 0, 0, 0, 'Estadio San Martin de Porres (Lima)', 0, 0, 0, 0, 0, 0, 0, 0, 0, 0, 0, 0, 0, 'Alarcon J. (Per)', 'Ortega K. (Per)', 0, 0, 0, 0, 0, 0, 0, 0, 0, 0, 0, 0, 'Legario F. (Per)', 'Barbagelatta G. (Per)', 0, 0, 0, 0, 0, 0, 0, 0, 0, 0, 0, 0, 'Espinoza J. (Per)', 'Seminario L. (Per)', 0, 0, 0, 0, 0, 0, 0, 0, 0, 0, 0, 0, 'Alarcon J. (Per)', 'Estadio Miguel Grau (Callao)', 0, 0, 0, 0, 0, 0, 0, 0, 0, 0, 0, 0, 'Huaman D. (Per)', 'Perez R. B. (Per)', 0, 0, 0, 0, 0, 0, 0, 0, 0, 0, 0, 0, 'Alarcon J. (Per)', 0, 0, 0, 0, 0, 0, 0, 0, 0, 0, 0, 0, 0, 'Palomino M. (Per)', 'Legario F. (Per)', 0, 0, 0, 0, 0, 0, 0, 0, 0, 0, 0, 0, 'Perez R. B. (Per)', 'Lopez R. (Per)', 0, 0, 0, 0, 0, 0, 0, 0, 0, 0, 0, 0, 0, 0, 0, 0, 0, 0, 0, 0, 0]\n",
      "\n"
     ]
    },
    {
     "name": "stderr",
     "output_type": "stream",
     "text": [
      "[WDM] - ====== WebDriver manager ======\n"
     ]
    },
    {
     "name": "stdout",
     "output_type": "stream",
     "text": [
      "Termino 99\n",
      "['Perez R. B. (Per)', 'Quiroz J. C. (Per)', 0, 0, 0, 0, 0, 0, 0, 0, 0, 0, 0, 0, 'Cartagena J. (Per)', 'Villegas H. (Per)', 0, 0, 0, 0, 0, 0, 0, 0, 0, 0, 0, 0, 'Espinoza M. (Per)', 'Ordonez E. (Per)', 0, 0, 0, 0, 0, 0, 0, 0, 0, 0, 0, 0, 'Garay Evia L. (Per)', 'Lozano S. (Per)', 0, 0, 0, 0, 0, 0, 0, 0, 0, 0, 0, 0, 'Alarcon J. (Per)', 'Ciriaco L. (Per)', 0, 0, 0, 0, 0, 0, 0, 0, 0, 0, 0, 0, 'Ureta D. (Per)', 'Garay L. (Per)', 0, 0, 0, 0, 0, 0, 0, 0, 0, 0, 0, 0, 'Estadio San Martin de Porres (Lima)', 0, 0, 0, 0, 0, 0, 0, 0, 0, 0, 0, 0, 0, 'Alarcon J. (Per)', 'Ortega K. (Per)', 0, 0, 0, 0, 0, 0, 0, 0, 0, 0, 0, 0, 'Legario F. (Per)', 'Barbagelatta G. (Per)', 0, 0, 0, 0, 0, 0, 0, 0, 0, 0, 0, 0, 'Espinoza J. (Per)', 'Seminario L. (Per)', 0, 0, 0, 0, 0, 0, 0, 0, 0, 0, 0, 0, 'Alarcon J. (Per)', 'Estadio Miguel Grau (Callao)', 0, 0, 0, 0, 0, 0, 0, 0, 0, 0, 0, 0, 'Huaman D. (Per)', 'Perez R. B. (Per)', 0, 0, 0, 0, 0, 0, 0, 0, 0, 0, 0, 0, 'Alarcon J. (Per)', 0, 0, 0, 0, 0, 0, 0, 0, 0, 0, 0, 0, 0, 'Palomino M. (Per)', 'Legario F. (Per)', 0, 0, 0, 0, 0, 0, 0, 0, 0, 0, 0, 0, 'Perez R. B. (Per)', 'Lopez R. (Per)', 0, 0, 0, 0, 0, 0, 0, 0, 0, 0, 0, 0, 0, 0, 0, 0, 0, 0, 0, 0, 0]\n",
      "\n"
     ]
    },
    {
     "name": "stderr",
     "output_type": "stream",
     "text": [
      "[WDM] - ====== WebDriver manager ======\n",
      "[WDM] - Current google-chrome version is 104.0.5112\n",
      "[WDM] - Get LATEST chromedriver version for 104.0.5112 google-chrome\n",
      "[WDM] - Driver [C:\\Users\\PC-1\\.wdm\\drivers\\chromedriver\\win32\\104.0.5112.79\\chromedriver.exe] found in cache\n",
      "[WDM] - Current google-chrome version is 104.0.5112\n",
      "[WDM] - Get LATEST chromedriver version for 104.0.5112 google-chrome\n"
     ]
    },
    {
     "name": "stdout",
     "output_type": "stream",
     "text": [
      "Termino 183\n",
      "['Perez R. B. (Per)', 'Quiroz J. C. (Per)', 0, 0, 0, 0, 0, 0, 0, 0, 0, 0, 0, 0, 'Cartagena J. (Per)', 'Villegas H. (Per)', 0, 0, 0, 0, 0, 0, 0, 0, 0, 0, 0, 0, 'Espinoza M. (Per)', 'Ordonez E. (Per)', 0, 0, 0, 0, 0, 0, 0, 0, 0, 0, 0, 0, 'Garay Evia L. (Per)', 'Lozano S. (Per)', 0, 0, 0, 0, 0, 0, 0, 0, 0, 0, 0, 0, 'Alarcon J. (Per)', 'Ciriaco L. (Per)', 0, 0, 0, 0, 0, 0, 0, 0, 0, 0, 0, 0, 'Ureta D. (Per)', 'Garay L. (Per)', 0, 0, 0, 0, 0, 0, 0, 0, 0, 0, 0, 0, 'Estadio San Martin de Porres (Lima)', 0, 0, 0, 0, 0, 0, 0, 0, 0, 0, 0, 0, 0, 'Alarcon J. (Per)', 'Ortega K. (Per)', 0, 0, 0, 0, 0, 0, 0, 0, 0, 0, 0, 0, 'Legario F. (Per)', 'Barbagelatta G. (Per)', 0, 0, 0, 0, 0, 0, 0, 0, 0, 0, 0, 0, 'Espinoza J. (Per)', 'Seminario L. (Per)', 0, 0, 0, 0, 0, 0, 0, 0, 0, 0, 0, 0, 'Alarcon J. (Per)', 'Estadio Miguel Grau (Callao)', 0, 0, 0, 0, 0, 0, 0, 0, 0, 0, 0, 0, 'Huaman D. (Per)', 'Perez R. B. (Per)', 0, 0, 0, 0, 0, 0, 0, 0, 0, 0, 0, 0, 'Alarcon J. (Per)', 0, 0, 0, 0, 0, 0, 0, 0, 0, 0, 0, 0, 0, 'Palomino M. (Per)', 'Legario F. (Per)', 0, 0, 0, 0, 0, 0, 0, 0, 0, 0, 0, 0, 'Perez R. B. (Per)', 'Lopez R. (Per)', 0, 0, 0, 0, 0, 0, 0, 0, 0, 0, 0, 0, 0, 0, 0, 0, 0, 0, 0, 0, 0]\n",
      "\n"
     ]
    },
    {
     "name": "stderr",
     "output_type": "stream",
     "text": [
      "[WDM] - ====== WebDriver manager ======\n",
      "[WDM] - Driver [C:\\Users\\PC-1\\.wdm\\drivers\\chromedriver\\win32\\104.0.5112.79\\chromedriver.exe] found in cache\n",
      "[WDM] - Current google-chrome version is 104.0.5112\n",
      "[WDM] - Get LATEST chromedriver version for 104.0.5112 google-chrome\n",
      "[WDM] - Driver [C:\\Users\\PC-1\\.wdm\\drivers\\chromedriver\\win32\\104.0.5112.79\\chromedriver.exe] found in cache\n"
     ]
    },
    {
     "name": "stdout",
     "output_type": "stream",
     "text": [
      "Termino 57\n",
      "['Perez R. B. (Per)', 'Quiroz J. C. (Per)', 0, 0, 0, 0, 0, 0, 0, 0, 0, 0, 0, 0, 'Cartagena J. (Per)', 'Villegas H. (Per)', 0, 0, 0, 0, 0, 0, 0, 0, 0, 0, 0, 0, 'Espinoza M. (Per)', 'Ordonez E. (Per)', 0, 0, 0, 0, 0, 0, 0, 0, 0, 0, 0, 0, 'Garay Evia L. (Per)', 'Lozano S. (Per)', 0, 0, 0, 0, 0, 0, 0, 0, 0, 0, 0, 0, 'Alarcon J. (Per)', 'Ciriaco L. (Per)', 0, 0, 0, 0, 0, 0, 0, 0, 0, 0, 0, 0, 'Ureta D. (Per)', 'Garay L. (Per)', 0, 0, 0, 0, 0, 0, 0, 0, 0, 0, 0, 0, 'Estadio San Martin de Porres (Lima)', 0, 0, 0, 0, 0, 0, 0, 0, 0, 0, 0, 0, 0, 'Alarcon J. (Per)', 'Ortega K. (Per)', 0, 0, 0, 0, 0, 0, 0, 0, 0, 0, 0, 0, 'Legario F. (Per)', 'Barbagelatta G. (Per)', 0, 0, 0, 0, 0, 0, 0, 0, 0, 0, 0, 0, 'Espinoza J. (Per)', 'Seminario L. (Per)', 0, 0, 0, 0, 0, 0, 0, 0, 0, 0, 0, 0, 'Alarcon J. (Per)', 'Estadio Miguel Grau (Callao)', 0, 0, 0, 0, 0, 0, 0, 0, 0, 0, 0, 0, 'Huaman D. (Per)', 'Perez R. B. (Per)', 0, 0, 0, 0, 0, 0, 0, 0, 0, 0, 0, 0, 'Alarcon J. (Per)', 0, 0, 0, 0, 0, 0, 0, 0, 0, 0, 0, 0, 0, 'Palomino M. (Per)', 'Legario F. (Per)', 0, 0, 0, 0, 0, 0, 0, 0, 0, 0, 0, 0, 'Perez R. B. (Per)', 'Lopez R. (Per)', 0, 0, 0, 0, 0, 0, 0, 0, 0, 0, 0, 0, 0, 0, 0, 0, 0, 0, 0, 0, 0]\n",
      "\n"
     ]
    },
    {
     "name": "stderr",
     "output_type": "stream",
     "text": [
      "[WDM] - ====== WebDriver manager ======\n"
     ]
    },
    {
     "name": "stdout",
     "output_type": "stream",
     "text": [
      "Termino 29\n",
      "['Perez R. B. (Per)', 'Quiroz J. C. (Per)', 0, 0, 0, 0, 0, 0, 0, 0, 0, 0, 0, 0, 'Cartagena J. (Per)', 'Villegas H. (Per)', 0, 0, 0, 0, 0, 0, 0, 0, 0, 0, 0, 0, 'Espinoza M. (Per)', 'Ordonez E. (Per)', 0, 0, 0, 0, 0, 0, 0, 0, 0, 0, 0, 0, 'Garay Evia L. (Per)', 'Lozano S. (Per)', 0, 0, 0, 0, 0, 0, 0, 0, 0, 0, 0, 0, 'Alarcon J. (Per)', 'Ciriaco L. (Per)', 0, 0, 0, 0, 0, 0, 0, 0, 0, 0, 0, 0, 'Ureta D. (Per)', 'Garay L. (Per)', 0, 0, 0, 0, 0, 0, 0, 0, 0, 0, 0, 0, 'Estadio San Martin de Porres (Lima)', 0, 0, 0, 0, 0, 0, 0, 0, 0, 0, 0, 0, 0, 'Alarcon J. (Per)', 'Ortega K. (Per)', 0, 0, 0, 0, 0, 0, 0, 0, 0, 0, 0, 0, 'Legario F. (Per)', 'Barbagelatta G. (Per)', 0, 0, 0, 0, 0, 0, 0, 0, 0, 0, 0, 0, 'Espinoza J. (Per)', 'Seminario L. (Per)', 0, 0, 0, 0, 0, 0, 0, 0, 0, 0, 0, 0, 'Alarcon J. (Per)', 'Estadio Miguel Grau (Callao)', 0, 0, 0, 0, 0, 0, 0, 0, 0, 0, 0, 0, 'Huaman D. (Per)', 'Perez R. B. (Per)', 0, 0, 0, 0, 0, 0, 0, 0, 0, 0, 0, 0, 'Alarcon J. (Per)', 0, 0, 0, 0, 0, 0, 0, 0, 0, 0, 0, 0, 0, 'Palomino M. (Per)', 'Legario F. (Per)', 0, 0, 0, 0, 0, 0, 0, 0, 0, 0, 0, 0, 'Perez R. B. (Per)', 'Lopez R. (Per)', 0, 0, 0, 0, 0, 0, 0, 0, 0, 0, 0, 0, 0, 0, 0, 0, 0, 0, 0, 0, 0]\n",
      "\n"
     ]
    },
    {
     "name": "stderr",
     "output_type": "stream",
     "text": [
      "[WDM] - ====== WebDriver manager ======\n"
     ]
    },
    {
     "name": "stdout",
     "output_type": "stream",
     "text": [
      "Termino 43\n",
      "['Perez R. B. (Per)', 'Quiroz J. C. (Per)', 0, 0, 0, 0, 0, 0, 0, 0, 0, 0, 0, 0, 'Cartagena J. (Per)', 'Villegas H. (Per)', 0, 0, 0, 0, 0, 0, 0, 0, 0, 0, 0, 0, 'Espinoza M. (Per)', 'Ordonez E. (Per)', 0, 0, 0, 0, 0, 0, 0, 0, 0, 0, 0, 0, 'Garay Evia L. (Per)', 'Lozano S. (Per)', 0, 0, 0, 0, 0, 0, 0, 0, 0, 0, 0, 0, 'Alarcon J. (Per)', 'Ciriaco L. (Per)', 0, 0, 0, 0, 0, 0, 0, 0, 0, 0, 0, 0, 'Ureta D. (Per)', 'Garay L. (Per)', 0, 0, 0, 0, 0, 0, 0, 0, 0, 0, 0, 0, 'Estadio San Martin de Porres (Lima)', 0, 0, 0, 0, 0, 0, 0, 0, 0, 0, 0, 0, 0, 'Alarcon J. (Per)', 'Ortega K. (Per)', 0, 0, 0, 0, 0, 0, 0, 0, 0, 0, 0, 0, 'Legario F. (Per)', 'Barbagelatta G. (Per)', 0, 0, 0, 0, 0, 0, 0, 0, 0, 0, 0, 0, 'Espinoza J. (Per)', 'Seminario L. (Per)', 0, 0, 0, 0, 0, 0, 0, 0, 0, 0, 0, 0, 'Alarcon J. (Per)', 'Estadio Miguel Grau (Callao)', 0, 0, 0, 0, 0, 0, 0, 0, 0, 0, 0, 0, 'Huaman D. (Per)', 'Perez R. B. (Per)', 0, 0, 0, 0, 0, 0, 0, 0, 0, 0, 0, 0, 'Alarcon J. (Per)', 0, 0, 0, 0, 0, 0, 0, 0, 0, 0, 0, 0, 0, 'Palomino M. (Per)', 'Legario F. (Per)', 0, 0, 0, 0, 0, 0, 0, 0, 0, 0, 0, 0, 'Perez R. B. (Per)', 'Lopez R. (Per)', 0, 0, 0, 0, 0, 0, 0, 0, 0, 0, 0, 0, 0, 0, 0, 0, 0, 0, 0, 0, 0]\n",
      "\n"
     ]
    },
    {
     "name": "stderr",
     "output_type": "stream",
     "text": [
      "[WDM] - ====== WebDriver manager ======\n",
      "[WDM] - Current google-chrome version is 104.0.5112\n",
      "[WDM] - Get LATEST chromedriver version for 104.0.5112 google-chrome\n",
      "[WDM] - Current google-chrome version is 104.0.5112\n",
      "[WDM] - Get LATEST chromedriver version for 104.0.5112 google-chrome\n",
      "[WDM] - Driver [C:\\Users\\PC-1\\.wdm\\drivers\\chromedriver\\win32\\104.0.5112.79\\chromedriver.exe] found in cache\n",
      "[WDM] - Driver [C:\\Users\\PC-1\\.wdm\\drivers\\chromedriver\\win32\\104.0.5112.79\\chromedriver.exe] found in cache\n",
      "[WDM] - Current google-chrome version is 104.0.5112\n",
      "[WDM] - Get LATEST chromedriver version for 104.0.5112 google-chrome\n",
      "[WDM] - Driver [C:\\Users\\PC-1\\.wdm\\drivers\\chromedriver\\win32\\104.0.5112.79\\chromedriver.exe] found in cache\n"
     ]
    },
    {
     "name": "stdout",
     "output_type": "stream",
     "text": [
      "Termino 113\n",
      "['Perez R. B. (Per)', 'Quiroz J. C. (Per)', 0, 0, 0, 0, 0, 0, 0, 0, 0, 0, 0, 0, 'Cartagena J. (Per)', 'Villegas H. (Per)', 0, 0, 0, 0, 0, 0, 0, 0, 0, 0, 0, 0, 'Espinoza M. (Per)', 'Ordonez E. (Per)', 0, 0, 0, 0, 0, 0, 0, 0, 0, 0, 0, 0, 'Garay Evia L. (Per)', 'Lozano S. (Per)', 0, 0, 0, 0, 0, 0, 0, 0, 0, 0, 0, 0, 'Alarcon J. (Per)', 'Ciriaco L. (Per)', 0, 0, 0, 0, 0, 0, 0, 0, 0, 0, 0, 0, 'Ureta D. (Per)', 'Garay L. (Per)', 0, 0, 0, 0, 0, 0, 0, 0, 0, 0, 0, 0, 'Estadio San Martin de Porres (Lima)', 0, 0, 0, 0, 0, 0, 0, 0, 0, 0, 0, 0, 0, 'Alarcon J. (Per)', 'Ortega K. (Per)', 0, 0, 0, 0, 0, 0, 0, 0, 0, 0, 0, 0, 'Legario F. (Per)', 'Barbagelatta G. (Per)', 0, 0, 0, 0, 0, 0, 0, 0, 0, 0, 0, 0, 'Espinoza J. (Per)', 'Seminario L. (Per)', 0, 0, 0, 0, 0, 0, 0, 0, 0, 0, 0, 0, 'Alarcon J. (Per)', 'Estadio Miguel Grau (Callao)', 0, 0, 0, 0, 0, 0, 0, 0, 0, 0, 0, 0, 'Huaman D. (Per)', 'Perez R. B. (Per)', 0, 0, 0, 0, 0, 0, 0, 0, 0, 0, 0, 0, 'Alarcon J. (Per)', 0, 0, 0, 0, 0, 0, 0, 0, 0, 0, 0, 0, 0, 'Palomino M. (Per)', 'Legario F. (Per)', 0, 0, 0, 0, 0, 0, 0, 0, 0, 0, 0, 0, 'Perez R. B. (Per)', 'Lopez R. (Per)', 0, 0, 0, 0, 0, 0, 0, 0, 0, 0, 0, 0, 0, 0, 0, 0, 0, 0, 0, 0, 0]\n",
      "\n"
     ]
    },
    {
     "name": "stderr",
     "output_type": "stream",
     "text": [
      "[WDM] - ====== WebDriver manager ======\n"
     ]
    },
    {
     "name": "stdout",
     "output_type": "stream",
     "text": [
      "Termino 197\n",
      "['Perez R. B. (Per)', 'Quiroz J. C. (Per)', 0, 0, 0, 0, 0, 0, 0, 0, 0, 0, 0, 0, 'Cartagena J. (Per)', 'Villegas H. (Per)', 0, 0, 0, 0, 0, 0, 0, 0, 0, 0, 0, 0, 'Espinoza M. (Per)', 'Ordonez E. (Per)', 0, 0, 0, 0, 0, 0, 0, 0, 0, 0, 0, 0, 'Garay Evia L. (Per)', 'Lozano S. (Per)', 0, 0, 0, 0, 0, 0, 0, 0, 0, 0, 0, 0, 'Alarcon J. (Per)', 'Ciriaco L. (Per)', 0, 0, 0, 0, 0, 0, 0, 0, 0, 0, 0, 0, 'Ureta D. (Per)', 'Garay L. (Per)', 0, 0, 0, 0, 0, 0, 0, 0, 0, 0, 0, 0, 'Estadio San Martin de Porres (Lima)', 0, 0, 0, 0, 0, 0, 0, 0, 0, 0, 0, 0, 0, 'Alarcon J. (Per)', 'Ortega K. (Per)', 0, 0, 0, 0, 0, 0, 0, 0, 0, 0, 0, 0, 'Legario F. (Per)', 'Barbagelatta G. (Per)', 0, 0, 0, 0, 0, 0, 0, 0, 0, 0, 0, 0, 'Espinoza J. (Per)', 'Seminario L. (Per)', 0, 0, 0, 0, 0, 0, 0, 0, 0, 0, 0, 0, 'Alarcon J. (Per)', 'Estadio Miguel Grau (Callao)', 0, 0, 0, 0, 0, 0, 0, 0, 0, 0, 0, 0, 'Huaman D. (Per)', 'Perez R. B. (Per)', 0, 0, 0, 0, 0, 0, 0, 0, 0, 0, 0, 0, 'Alarcon J. (Per)', 0, 0, 0, 0, 0, 0, 0, 0, 0, 0, 0, 0, 0, 'Palomino M. (Per)', 'Legario F. (Per)', 0, 0, 0, 0, 0, 0, 0, 0, 0, 0, 0, 0, 'Perez R. B. (Per)', 'Lopez R. (Per)', 0, 0, 0, 0, 0, 0, 0, 0, 0, 0, 0, 0, 0, 0, 0, 0, 0, 0, 0, 0, 0]\n",
      "\n"
     ]
    },
    {
     "name": "stderr",
     "output_type": "stream",
     "text": [
      "[WDM] - ====== WebDriver manager ======\n",
      "[WDM] - Current google-chrome version is 104.0.5112\n",
      "[WDM] - Get LATEST chromedriver version for 104.0.5112 google-chrome\n"
     ]
    },
    {
     "name": "stdout",
     "output_type": "stream",
     "text": [
      "Termino 71\n",
      "['Perez R. B. (Per)', 'Quiroz J. C. (Per)', 0, 0, 0, 0, 0, 0, 0, 0, 0, 0, 0, 0, 'Cartagena J. (Per)', 'Villegas H. (Per)', 0, 0, 0, 0, 0, 0, 0, 0, 0, 0, 0, 0, 'Espinoza M. (Per)', 'Ordonez E. (Per)', 0, 0, 0, 0, 0, 0, 0, 0, 0, 0, 0, 0, 'Garay Evia L. (Per)', 'Lozano S. (Per)', 0, 0, 0, 0, 0, 0, 0, 0, 0, 0, 0, 0, 'Alarcon J. (Per)', 'Ciriaco L. (Per)', 0, 0, 0, 0, 0, 0, 0, 0, 0, 0, 0, 0, 'Ureta D. (Per)', 'Garay L. (Per)', 0, 0, 0, 0, 0, 0, 0, 0, 0, 0, 0, 0, 'Estadio San Martin de Porres (Lima)', 0, 0, 0, 0, 0, 0, 0, 0, 0, 0, 0, 0, 0, 'Alarcon J. (Per)', 'Ortega K. (Per)', 0, 0, 0, 0, 0, 0, 0, 0, 0, 0, 0, 0, 'Legario F. (Per)', 'Barbagelatta G. (Per)', 0, 0, 0, 0, 0, 0, 0, 0, 0, 0, 0, 0, 'Espinoza J. (Per)', 'Seminario L. (Per)', 0, 0, 0, 0, 0, 0, 0, 0, 0, 0, 0, 0, 'Alarcon J. (Per)', 'Estadio Miguel Grau (Callao)', 0, 0, 0, 0, 0, 0, 0, 0, 0, 0, 0, 0, 'Huaman D. (Per)', 'Perez R. B. (Per)', 0, 0, 0, 0, 0, 0, 0, 0, 0, 0, 0, 0, 'Alarcon J. (Per)', 0, 0, 0, 0, 0, 0, 0, 0, 0, 0, 0, 0, 0, 'Palomino M. (Per)', 'Legario F. (Per)', 0, 0, 0, 0, 0, 0, 0, 0, 0, 0, 0, 0, 'Perez R. B. (Per)', 'Lopez R. (Per)', 0, 0, 0, 0, 0, 0, 0, 0, 0, 0, 0, 0, 0, 0, 0, 0, 0, 0, 0, 0, 0]\n",
      "\n"
     ]
    },
    {
     "name": "stderr",
     "output_type": "stream",
     "text": [
      "[WDM] - ====== WebDriver manager ======\n",
      "[WDM] - Driver [C:\\Users\\PC-1\\.wdm\\drivers\\chromedriver\\win32\\104.0.5112.79\\chromedriver.exe] found in cache\n",
      "[WDM] - Current google-chrome version is 104.0.5112\n",
      "[WDM] - Get LATEST chromedriver version for 104.0.5112 google-chrome\n",
      "[WDM] - Current google-chrome version is 104.0.5112\n",
      "[WDM] - Get LATEST chromedriver version for 104.0.5112 google-chrome\n",
      "[WDM] - Current google-chrome version is 104.0.5112\n",
      "[WDM] - Get LATEST chromedriver version for 104.0.5112 google-chrome\n",
      "[WDM] - Driver [C:\\Users\\PC-1\\.wdm\\drivers\\chromedriver\\win32\\104.0.5112.79\\chromedriver.exe] found in cache\n",
      "[WDM] - Driver [C:\\Users\\PC-1\\.wdm\\drivers\\chromedriver\\win32\\104.0.5112.79\\chromedriver.exe] found in cache\n",
      "[WDM] - Driver [C:\\Users\\PC-1\\.wdm\\drivers\\chromedriver\\win32\\104.0.5112.79\\chromedriver.exe] found in cache\n",
      "[WDM] - Current google-chrome version is 104.0.5112\n",
      "[WDM] - Get LATEST chromedriver version for 104.0.5112 google-chrome\n",
      "[WDM] - Driver [C:\\Users\\PC-1\\.wdm\\drivers\\chromedriver\\win32\\104.0.5112.79\\chromedriver.exe] found in cache\n"
     ]
    },
    {
     "name": "stdout",
     "output_type": "stream",
     "text": [
      "Termino 155\n",
      "['Perez R. B. (Per)', 'Quiroz J. C. (Per)', 0, 0, 0, 0, 0, 0, 0, 0, 0, 0, 0, 0, 'Cartagena J. (Per)', 'Villegas H. (Per)', 0, 0, 0, 0, 0, 0, 0, 0, 0, 0, 0, 0, 'Espinoza M. (Per)', 'Ordonez E. (Per)', 0, 0, 0, 0, 0, 0, 0, 0, 0, 0, 0, 0, 'Garay Evia L. (Per)', 'Lozano S. (Per)', 0, 0, 0, 0, 0, 0, 0, 0, 0, 0, 0, 0, 'Alarcon J. (Per)', 'Ciriaco L. (Per)', 0, 0, 0, 0, 0, 0, 0, 0, 0, 0, 0, 0, 'Ureta D. (Per)', 'Garay L. (Per)', 0, 0, 0, 0, 0, 0, 0, 0, 0, 0, 0, 0, 'Estadio San Martin de Porres (Lima)', 0, 0, 0, 0, 0, 0, 0, 0, 0, 0, 0, 0, 0, 'Alarcon J. (Per)', 'Ortega K. (Per)', 0, 0, 0, 0, 0, 0, 0, 0, 0, 0, 0, 0, 'Legario F. (Per)', 'Barbagelatta G. (Per)', 0, 0, 0, 0, 0, 0, 0, 0, 0, 0, 0, 0, 'Espinoza J. (Per)', 'Seminario L. (Per)', 0, 0, 0, 0, 0, 0, 0, 0, 0, 0, 0, 0, 'Alarcon J. (Per)', 'Estadio Miguel Grau (Callao)', 0, 0, 0, 0, 0, 0, 0, 0, 0, 0, 0, 0, 'Huaman D. (Per)', 'Perez R. B. (Per)', 0, 0, 0, 0, 0, 0, 0, 0, 0, 0, 0, 0, 'Alarcon J. (Per)', 0, 0, 0, 0, 0, 0, 0, 0, 0, 0, 0, 0, 0, 'Palomino M. (Per)', 'Legario F. (Per)', 0, 0, 0, 0, 0, 0, 0, 0, 0, 0, 0, 0, 'Perez R. B. (Per)', 'Lopez R. (Per)', 0, 0, 0, 0, 0, 0, 0, 0, 0, 0, 0, 0, 0, 0, 0, 0, 0, 0, 0, 0, 0]\n",
      "\n"
     ]
    },
    {
     "name": "stderr",
     "output_type": "stream",
     "text": [
      "[WDM] - ====== WebDriver manager ======\n"
     ]
    },
    {
     "name": "stdout",
     "output_type": "stream",
     "text": [
      "Termino 127\n",
      "['Perez R. B. (Per)', 'Quiroz J. C. (Per)', 0, 0, 0, 0, 0, 0, 0, 0, 0, 0, 0, 0, 'Cartagena J. (Per)', 'Villegas H. (Per)', 0, 0, 0, 0, 0, 0, 0, 0, 0, 0, 0, 0, 'Espinoza M. (Per)', 'Ordonez E. (Per)', 0, 0, 0, 0, 0, 0, 0, 0, 0, 0, 0, 0, 'Garay Evia L. (Per)', 'Lozano S. (Per)', 0, 0, 0, 0, 0, 0, 0, 0, 0, 0, 0, 0, 'Alarcon J. (Per)', 'Ciriaco L. (Per)', 0, 0, 0, 0, 0, 0, 0, 0, 0, 0, 0, 0, 'Ureta D. (Per)', 'Garay L. (Per)', 0, 0, 0, 0, 0, 0, 0, 0, 0, 0, 0, 0, 'Estadio San Martin de Porres (Lima)', 0, 0, 0, 0, 0, 0, 0, 0, 0, 0, 0, 0, 0, 'Alarcon J. (Per)', 'Ortega K. (Per)', 0, 0, 0, 0, 0, 0, 0, 0, 0, 0, 0, 0, 'Legario F. (Per)', 'Barbagelatta G. (Per)', 0, 0, 0, 0, 0, 0, 0, 0, 0, 0, 0, 0, 'Espinoza J. (Per)', 'Seminario L. (Per)', 0, 0, 0, 0, 0, 0, 0, 0, 0, 0, 0, 0, 'Alarcon J. (Per)', 'Estadio Miguel Grau (Callao)', 0, 0, 0, 0, 0, 0, 0, 0, 0, 0, 0, 0, 'Huaman D. (Per)', 'Perez R. B. (Per)', 0, 0, 0, 0, 0, 0, 0, 0, 0, 0, 0, 0, 'Alarcon J. (Per)', 0, 0, 0, 0, 0, 0, 0, 0, 0, 0, 0, 0, 0, 'Palomino M. (Per)', 'Legario F. (Per)', 0, 0, 0, 0, 0, 0, 0, 0, 0, 0, 0, 0, 'Perez R. B. (Per)', 'Lopez R. (Per)', 0, 0, 0, 0, 0, 0, 0, 0, 0, 0, 0, 0, 0, 0, 0, 0, 0, 0, 0, 0, 0]\n",
      "\n"
     ]
    },
    {
     "name": "stderr",
     "output_type": "stream",
     "text": [
      "[WDM] - ====== WebDriver manager ======\n"
     ]
    },
    {
     "name": "stdout",
     "output_type": "stream",
     "text": [
      "Termino 141\n",
      "['Perez R. B. (Per)', 'Quiroz J. C. (Per)', 0, 0, 0, 0, 0, 0, 0, 0, 0, 0, 0, 0, 'Cartagena J. (Per)', 'Villegas H. (Per)', 0, 0, 0, 0, 0, 0, 0, 0, 0, 0, 0, 0, 'Espinoza M. (Per)', 'Ordonez E. (Per)', 0, 0, 0, 0, 0, 0, 0, 0, 0, 0, 0, 0, 'Garay Evia L. (Per)', 'Lozano S. (Per)', 0, 0, 0, 0, 0, 0, 0, 0, 0, 0, 0, 0, 'Alarcon J. (Per)', 'Ciriaco L. (Per)', 0, 0, 0, 0, 0, 0, 0, 0, 0, 0, 0, 0, 'Ureta D. (Per)', 'Garay L. (Per)', 0, 0, 0, 0, 0, 0, 0, 0, 0, 0, 0, 0, 'Estadio San Martin de Porres (Lima)', 0, 0, 0, 0, 0, 0, 0, 0, 0, 0, 0, 0, 0, 'Alarcon J. (Per)', 'Ortega K. (Per)', 0, 0, 0, 0, 0, 0, 0, 0, 0, 0, 0, 0, 'Legario F. (Per)', 'Barbagelatta G. (Per)', 0, 0, 0, 0, 0, 0, 0, 0, 0, 0, 0, 0, 'Espinoza J. (Per)', 'Seminario L. (Per)', 0, 0, 0, 0, 0, 0, 0, 0, 0, 0, 0, 0, 'Alarcon J. (Per)', 'Estadio Miguel Grau (Callao)', 0, 0, 0, 0, 0, 0, 0, 0, 0, 0, 0, 0, 'Huaman D. (Per)', 'Perez R. B. (Per)', 0, 0, 0, 0, 0, 0, 0, 0, 0, 0, 0, 0, 'Alarcon J. (Per)', 0, 0, 0, 0, 0, 0, 0, 0, 0, 0, 0, 0, 0, 'Palomino M. (Per)', 'Legario F. (Per)', 0, 0, 0, 0, 0, 0, 0, 0, 0, 0, 0, 0, 'Perez R. B. (Per)', 'Lopez R. (Per)', 0, 0, 0, 0, 0, 0, 0, 0, 0, 0, 0, 0, 0, 0, 0, 0, 0, 0, 0, 0, 0]\n",
      "\n"
     ]
    },
    {
     "name": "stderr",
     "output_type": "stream",
     "text": [
      "[WDM] - ====== WebDriver manager ======\n",
      "[WDM] - Current google-chrome version is 104.0.5112\n",
      "[WDM] - Get LATEST chromedriver version for 104.0.5112 google-chrome\n",
      "[WDM] - Driver [C:\\Users\\PC-1\\.wdm\\drivers\\chromedriver\\win32\\104.0.5112.79\\chromedriver.exe] found in cache\n",
      "[WDM] - Current google-chrome version is 104.0.5112\n",
      "[WDM] - Get LATEST chromedriver version for 104.0.5112 google-chrome\n",
      "[WDM] - Current google-chrome version is 104.0.5112\n",
      "[WDM] - Get LATEST chromedriver version for 104.0.5112 google-chrome\n",
      "[WDM] - Driver [C:\\Users\\PC-1\\.wdm\\drivers\\chromedriver\\win32\\104.0.5112.79\\chromedriver.exe] found in cache\n",
      "[WDM] - Driver [C:\\Users\\PC-1\\.wdm\\drivers\\chromedriver\\win32\\104.0.5112.79\\chromedriver.exe] found in cache\n"
     ]
    },
    {
     "name": "stdout",
     "output_type": "stream",
     "text": [
      "Termino 2\n",
      "['Perez R. B. (Per)', 'Quiroz J. C. (Per)', 'Villegas H. (Per)', 0, 0, 0, 0, 0, 0, 0, 0, 0, 0, 0, 'Cartagena J. (Per)', 'Villegas H. (Per)', 'Cori V. (Per)', 0, 0, 0, 0, 0, 0, 0, 0, 0, 0, 0, 'Espinoza M. (Per)', 'Ordonez E. (Per)', 'Quiroz J. C. (Per)', 0, 0, 0, 0, 0, 0, 0, 0, 0, 0, 0, 'Garay Evia L. (Per)', 'Lozano S. (Per)', 'Huaman D. (Per)', 0, 0, 0, 0, 0, 0, 0, 0, 0, 0, 0, 'Alarcon J. (Per)', 'Ciriaco L. (Per)', 'Lozano C. (Arg)', 0, 0, 0, 0, 0, 0, 0, 0, 0, 0, 0, 'Ureta D. (Per)', 'Garay L. (Per)', 0, 0, 0, 0, 0, 0, 0, 0, 0, 0, 0, 0, 'Estadio San Martin de Porres (Lima)', 0, 0, 0, 0, 0, 0, 0, 0, 0, 0, 0, 0, 0, 'Alarcon J. (Per)', 'Ortega K. (Per)', 'Ureta D. (Per)', 0, 0, 0, 0, 0, 0, 0, 0, 0, 0, 0, 'Legario F. (Per)', 'Barbagelatta G. (Per)', 0, 0, 0, 0, 0, 0, 0, 0, 0, 0, 0, 0, 'Espinoza J. (Per)', 'Seminario L. (Per)', 0, 0, 0, 0, 0, 0, 0, 0, 0, 0, 0, 0, 'Alarcon J. (Per)', 'Estadio Miguel Grau (Callao)', 0, 0, 0, 0, 0, 0, 0, 0, 0, 0, 0, 0, 'Huaman D. (Per)', 'Perez R. B. (Per)', 0, 0, 0, 0, 0, 0, 0, 0, 0, 0, 0, 0, 'Alarcon J. (Per)', 0, 0, 0, 0, 0, 0, 0, 0, 0, 0, 0, 0, 0, 'Palomino M. (Per)', 'Legario F. (Per)', 'Espinoza J. (Per)', 0, 0, 0, 0, 0, 0, 0, 0, 0, 0, 0, 'Perez R. B. (Per)', 'Lopez R. (Per)', 0, 0, 0, 0, 0, 0, 0, 0, 0, 0, 0, 0, 0, 0, 0, 0, 0, 0, 0, 0, 0]\n",
      "\n"
     ]
    },
    {
     "name": "stderr",
     "output_type": "stream",
     "text": [
      "[WDM] - ====== WebDriver manager ======\n",
      "[WDM] - Current google-chrome version is 104.0.5112\n",
      "[WDM] - Get LATEST chromedriver version for 104.0.5112 google-chrome\n",
      "[WDM] - Driver [C:\\Users\\PC-1\\.wdm\\drivers\\chromedriver\\win32\\104.0.5112.79\\chromedriver.exe] found in cache\n"
     ]
    },
    {
     "name": "stdout",
     "output_type": "stream",
     "text": [
      "Termino 16\n",
      "['Perez R. B. (Per)', 'Quiroz J. C. (Per)', 'Villegas H. (Per)', 0, 0, 0, 0, 0, 0, 0, 0, 0, 0, 0, 'Cartagena J. (Per)', 'Villegas H. (Per)', 'Cori V. (Per)', 0, 0, 0, 0, 0, 0, 0, 0, 0, 0, 0, 'Espinoza M. (Per)', 'Ordonez E. (Per)', 'Quiroz J. C. (Per)', 0, 0, 0, 0, 0, 0, 0, 0, 0, 0, 0, 'Garay Evia L. (Per)', 'Lozano S. (Per)', 'Huaman D. (Per)', 0, 0, 0, 0, 0, 0, 0, 0, 0, 0, 0, 'Alarcon J. (Per)', 'Ciriaco L. (Per)', 'Lozano C. (Arg)', 0, 0, 0, 0, 0, 0, 0, 0, 0, 0, 0, 'Ureta D. (Per)', 'Garay L. (Per)', 'Quiroz J. (Per)', 0, 0, 0, 0, 0, 0, 0, 0, 0, 0, 0, 'Estadio San Martin de Porres (Lima)', 'Alarcon J. (Per)', 0, 0, 0, 0, 0, 0, 0, 0, 0, 0, 0, 0, 'Alarcon J. (Per)', 'Ortega K. (Per)', 'Ureta D. (Per)', 0, 0, 0, 0, 0, 0, 0, 0, 0, 0, 0, 'Legario F. (Per)', 'Barbagelatta G. (Per)', 'Cartagena J. (Per)', 0, 0, 0, 0, 0, 0, 0, 0, 0, 0, 0, 'Espinoza J. (Per)', 'Seminario L. (Per)', 0, 0, 0, 0, 0, 0, 0, 0, 0, 0, 0, 0, 'Alarcon J. (Per)', 'Estadio Miguel Grau (Callao)', 0, 0, 0, 0, 0, 0, 0, 0, 0, 0, 0, 0, 'Huaman D. (Per)', 'Perez R. B. (Per)', 0, 0, 0, 0, 0, 0, 0, 0, 0, 0, 0, 0, 'Alarcon J. (Per)', 'Zamora J. (Per)', 0, 0, 0, 0, 0, 0, 0, 0, 0, 0, 0, 0, 'Palomino M. (Per)', 'Legario F. (Per)', 'Espinoza J. (Per)', 0, 0, 0, 0, 0, 0, 0, 0, 0, 0, 0, 'Perez R. B. (Per)', 'Lopez R. (Per)', 'Ordonez E. (Per)', 0, 0, 0, 0, 0, 0, 0, 0, 0, 0, 0, 0, 0, 0, 0, 0, 0, 0, 0, 0]\n",
      "\n"
     ]
    },
    {
     "name": "stderr",
     "output_type": "stream",
     "text": [
      "[WDM] - ====== WebDriver manager ======\n"
     ]
    },
    {
     "name": "stdout",
     "output_type": "stream",
     "text": [
      "Termino 100\n",
      "['Perez R. B. (Per)', 'Quiroz J. C. (Per)', 'Villegas H. (Per)', 0, 0, 0, 0, 0, 0, 0, 0, 0, 0, 0, 'Cartagena J. (Per)', 'Villegas H. (Per)', 'Cori V. (Per)', 0, 0, 0, 0, 0, 0, 0, 0, 0, 0, 0, 'Espinoza M. (Per)', 'Ordonez E. (Per)', 'Quiroz J. C. (Per)', 0, 0, 0, 0, 0, 0, 0, 0, 0, 0, 0, 'Garay Evia L. (Per)', 'Lozano S. (Per)', 'Huaman D. (Per)', 0, 0, 0, 0, 0, 0, 0, 0, 0, 0, 0, 'Alarcon J. (Per)', 'Ciriaco L. (Per)', 'Lozano C. (Arg)', 0, 0, 0, 0, 0, 0, 0, 0, 0, 0, 0, 'Ureta D. (Per)', 'Garay L. (Per)', 'Quiroz J. (Per)', 0, 0, 0, 0, 0, 0, 0, 0, 0, 0, 0, 'Estadio San Martin de Porres (Lima)', 'Alarcon J. (Per)', 0, 0, 0, 0, 0, 0, 0, 0, 0, 0, 0, 0, 'Alarcon J. (Per)', 'Ortega K. (Per)', 'Ureta D. (Per)', 0, 0, 0, 0, 0, 0, 0, 0, 0, 0, 0, 'Legario F. (Per)', 'Barbagelatta G. (Per)', 'Cartagena J. (Per)', 0, 0, 0, 0, 0, 0, 0, 0, 0, 0, 0, 'Espinoza J. (Per)', 'Seminario L. (Per)', 0, 0, 0, 0, 0, 0, 0, 0, 0, 0, 0, 0, 'Alarcon J. (Per)', 'Estadio Miguel Grau (Callao)', 0, 0, 0, 0, 0, 0, 0, 0, 0, 0, 0, 0, 'Huaman D. (Per)', 'Perez R. B. (Per)', 0, 0, 0, 0, 0, 0, 0, 0, 0, 0, 0, 0, 'Alarcon J. (Per)', 'Zamora J. (Per)', 0, 0, 0, 0, 0, 0, 0, 0, 0, 0, 0, 0, 'Palomino M. (Per)', 'Legario F. (Per)', 'Espinoza J. (Per)', 0, 0, 0, 0, 0, 0, 0, 0, 0, 0, 0, 'Perez R. B. (Per)', 'Lopez R. (Per)', 'Ordonez E. (Per)', 0, 0, 0, 0, 0, 0, 0, 0, 0, 0, 0, 0, 0, 0, 0, 0, 0, 0, 0, 0]\n",
      "\n"
     ]
    },
    {
     "name": "stderr",
     "output_type": "stream",
     "text": [
      "[WDM] - ====== WebDriver manager ======\n"
     ]
    },
    {
     "name": "stdout",
     "output_type": "stream",
     "text": [
      "Termino 184\n",
      "['Perez R. B. (Per)', 'Quiroz J. C. (Per)', 'Villegas H. (Per)', 0, 0, 0, 0, 0, 0, 0, 0, 0, 0, 0, 'Cartagena J. (Per)', 'Villegas H. (Per)', 'Cori V. (Per)', 0, 0, 0, 0, 0, 0, 0, 0, 0, 0, 0, 'Espinoza M. (Per)', 'Ordonez E. (Per)', 'Quiroz J. C. (Per)', 0, 0, 0, 0, 0, 0, 0, 0, 0, 0, 0, 'Garay Evia L. (Per)', 'Lozano S. (Per)', 'Huaman D. (Per)', 0, 0, 0, 0, 0, 0, 0, 0, 0, 0, 0, 'Alarcon J. (Per)', 'Ciriaco L. (Per)', 'Lozano C. (Arg)', 0, 0, 0, 0, 0, 0, 0, 0, 0, 0, 0, 'Ureta D. (Per)', 'Garay L. (Per)', 'Quiroz J. (Per)', 0, 0, 0, 0, 0, 0, 0, 0, 0, 0, 0, 'Estadio San Martin de Porres (Lima)', 'Alarcon J. (Per)', 0, 0, 0, 0, 0, 0, 0, 0, 0, 0, 0, 0, 'Alarcon J. (Per)', 'Ortega K. (Per)', 'Ureta D. (Per)', 0, 0, 0, 0, 0, 0, 0, 0, 0, 0, 0, 'Legario F. (Per)', 'Barbagelatta G. (Per)', 'Cartagena J. (Per)', 0, 0, 0, 0, 0, 0, 0, 0, 0, 0, 0, 'Espinoza J. (Per)', 'Seminario L. (Per)', 0, 0, 0, 0, 0, 0, 0, 0, 0, 0, 0, 0, 'Alarcon J. (Per)', 'Estadio Miguel Grau (Callao)', 0, 0, 0, 0, 0, 0, 0, 0, 0, 0, 0, 0, 'Huaman D. (Per)', 'Perez R. B. (Per)', 'Seminario L. (Per)', 0, 0, 0, 0, 0, 0, 0, 0, 0, 0, 0, 'Alarcon J. (Per)', 'Zamora J. (Per)', 0, 0, 0, 0, 0, 0, 0, 0, 0, 0, 0, 0, 'Palomino M. (Per)', 'Legario F. (Per)', 'Espinoza J. (Per)', 0, 0, 0, 0, 0, 0, 0, 0, 0, 0, 0, 'Perez R. B. (Per)', 'Lopez R. (Per)', 'Ordonez E. (Per)', 0, 0, 0, 0, 0, 0, 0, 0, 0, 0, 0, 0, 0, 0, 0, 0, 0, 0, 0, 0]\n",
      "\n"
     ]
    },
    {
     "name": "stderr",
     "output_type": "stream",
     "text": [
      "[WDM] - ====== WebDriver manager ======\n",
      "[WDM] - Current google-chrome version is 104.0.5112\n",
      "[WDM] - Get LATEST chromedriver version for 104.0.5112 google-chrome\n",
      "[WDM] - Driver [C:\\Users\\PC-1\\.wdm\\drivers\\chromedriver\\win32\\104.0.5112.79\\chromedriver.exe] found in cache\n",
      "[WDM] - Current google-chrome version is 104.0.5112\n",
      "[WDM] - Get LATEST chromedriver version for 104.0.5112 google-chrome\n",
      "[WDM] - Current google-chrome version is 104.0.5112\n",
      "[WDM] - Driver [C:\\Users\\PC-1\\.wdm\\drivers\\chromedriver\\win32\\104.0.5112.79\\chromedriver.exe] found in cache\n",
      "[WDM] - Get LATEST chromedriver version for 104.0.5112 google-chrome\n",
      "[WDM] - Driver [C:\\Users\\PC-1\\.wdm\\drivers\\chromedriver\\win32\\104.0.5112.79\\chromedriver.exe] found in cache\n"
     ]
    },
    {
     "name": "stdout",
     "output_type": "stream",
     "text": [
      "Termino 58\n",
      "['Perez R. B. (Per)', 'Quiroz J. C. (Per)', 'Villegas H. (Per)', 0, 0, 0, 0, 0, 0, 0, 0, 0, 0, 0, 'Cartagena J. (Per)', 'Villegas H. (Per)', 'Cori V. (Per)', 0, 0, 0, 0, 0, 0, 0, 0, 0, 0, 0, 'Espinoza M. (Per)', 'Ordonez E. (Per)', 'Quiroz J. C. (Per)', 0, 0, 0, 0, 0, 0, 0, 0, 0, 0, 0, 'Garay Evia L. (Per)', 'Lozano S. (Per)', 'Huaman D. (Per)', 0, 0, 0, 0, 0, 0, 0, 0, 0, 0, 0, 'Alarcon J. (Per)', 'Ciriaco L. (Per)', 'Lozano C. (Arg)', 0, 0, 0, 0, 0, 0, 0, 0, 0, 0, 0, 'Ureta D. (Per)', 'Garay L. (Per)', 'Quiroz J. (Per)', 0, 0, 0, 0, 0, 0, 0, 0, 0, 0, 0, 'Estadio San Martin de Porres (Lima)', 'Alarcon J. (Per)', 0, 0, 0, 0, 0, 0, 0, 0, 0, 0, 0, 0, 'Alarcon J. (Per)', 'Ortega K. (Per)', 'Ureta D. (Per)', 0, 0, 0, 0, 0, 0, 0, 0, 0, 0, 0, 'Legario F. (Per)', 'Barbagelatta G. (Per)', 'Cartagena J. (Per)', 0, 0, 0, 0, 0, 0, 0, 0, 0, 0, 0, 'Espinoza J. (Per)', 'Seminario L. (Per)', 'Villegas H. (Per)', 0, 0, 0, 0, 0, 0, 0, 0, 0, 0, 0, 'Alarcon J. (Per)', 'Estadio Miguel Grau (Callao)', 'Villegas H. (Per)', 0, 0, 0, 0, 0, 0, 0, 0, 0, 0, 0, 'Huaman D. (Per)', 'Perez R. B. (Per)', 'Seminario L. (Per)', 0, 0, 0, 0, 0, 0, 0, 0, 0, 0, 0, 'Alarcon J. (Per)', 'Zamora J. (Per)', 0, 0, 0, 0, 0, 0, 0, 0, 0, 0, 0, 0, 'Palomino M. (Per)', 'Legario F. (Per)', 'Espinoza J. (Per)', 0, 0, 0, 0, 0, 0, 0, 0, 0, 0, 0, 'Perez R. B. (Per)', 'Lopez R. (Per)', 'Ordonez E. (Per)', 0, 0, 0, 0, 0, 0, 0, 0, 0, 0, 0, 0, 0, 0, 0, 0, 0, 0, 0, 0]\n",
      "\n"
     ]
    },
    {
     "name": "stderr",
     "output_type": "stream",
     "text": [
      "[WDM] - ====== WebDriver manager ======\n"
     ]
    },
    {
     "name": "stdout",
     "output_type": "stream",
     "text": [
      "Termino 30\n",
      "['Perez R. B. (Per)', 'Quiroz J. C. (Per)', 'Villegas H. (Per)', 0, 0, 0, 0, 0, 0, 0, 0, 0, 0, 0, 'Cartagena J. (Per)', 'Villegas H. (Per)', 'Cori V. (Per)', 0, 0, 0, 0, 0, 0, 0, 0, 0, 0, 0, 'Espinoza M. (Per)', 'Ordonez E. (Per)', 'Quiroz J. C. (Per)', 0, 0, 0, 0, 0, 0, 0, 0, 0, 0, 0, 'Garay Evia L. (Per)', 'Lozano S. (Per)', 'Huaman D. (Per)', 0, 0, 0, 0, 0, 0, 0, 0, 0, 0, 0, 'Alarcon J. (Per)', 'Ciriaco L. (Per)', 'Lozano C. (Arg)', 0, 0, 0, 0, 0, 0, 0, 0, 0, 0, 0, 'Ureta D. (Per)', 'Garay L. (Per)', 'Quiroz J. (Per)', 0, 0, 0, 0, 0, 0, 0, 0, 0, 0, 0, 'Estadio San Martin de Porres (Lima)', 'Alarcon J. (Per)', 0, 0, 0, 0, 0, 0, 0, 0, 0, 0, 0, 0, 'Alarcon J. (Per)', 'Ortega K. (Per)', 'Ureta D. (Per)', 0, 0, 0, 0, 0, 0, 0, 0, 0, 0, 0, 'Legario F. (Per)', 'Barbagelatta G. (Per)', 'Cartagena J. (Per)', 0, 0, 0, 0, 0, 0, 0, 0, 0, 0, 0, 'Espinoza J. (Per)', 'Seminario L. (Per)', 'Villegas H. (Per)', 0, 0, 0, 0, 0, 0, 0, 0, 0, 0, 0, 'Alarcon J. (Per)', 'Estadio Miguel Grau (Callao)', 'Villegas H. (Per)', 0, 0, 0, 0, 0, 0, 0, 0, 0, 0, 0, 'Huaman D. (Per)', 'Perez R. B. (Per)', 'Seminario L. (Per)', 0, 0, 0, 0, 0, 0, 0, 0, 0, 0, 0, 'Alarcon J. (Per)', 'Zamora J. (Per)', 0, 0, 0, 0, 0, 0, 0, 0, 0, 0, 0, 0, 'Palomino M. (Per)', 'Legario F. (Per)', 'Espinoza J. (Per)', 0, 0, 0, 0, 0, 0, 0, 0, 0, 0, 0, 'Perez R. B. (Per)', 'Lopez R. (Per)', 'Ordonez E. (Per)', 0, 0, 0, 0, 0, 0, 0, 0, 0, 0, 0, 0, 0, 0, 0, 0, 0, 0, 0, 0]\n",
      "\n"
     ]
    },
    {
     "name": "stderr",
     "output_type": "stream",
     "text": [
      "[WDM] - ====== WebDriver manager ======\n"
     ]
    },
    {
     "name": "stdout",
     "output_type": "stream",
     "text": [
      "Termino 44\n",
      "['Perez R. B. (Per)', 'Quiroz J. C. (Per)', 'Villegas H. (Per)', 0, 0, 0, 0, 0, 0, 0, 0, 0, 0, 0, 'Cartagena J. (Per)', 'Villegas H. (Per)', 'Cori V. (Per)', 0, 0, 0, 0, 0, 0, 0, 0, 0, 0, 0, 'Espinoza M. (Per)', 'Ordonez E. (Per)', 'Quiroz J. C. (Per)', 0, 0, 0, 0, 0, 0, 0, 0, 0, 0, 0, 'Garay Evia L. (Per)', 'Lozano S. (Per)', 'Huaman D. (Per)', 0, 0, 0, 0, 0, 0, 0, 0, 0, 0, 0, 'Alarcon J. (Per)', 'Ciriaco L. (Per)', 'Lozano C. (Arg)', 0, 0, 0, 0, 0, 0, 0, 0, 0, 0, 0, 'Ureta D. (Per)', 'Garay L. (Per)', 'Quiroz J. (Per)', 0, 0, 0, 0, 0, 0, 0, 0, 0, 0, 0, 'Estadio San Martin de Porres (Lima)', 'Alarcon J. (Per)', 0, 0, 0, 0, 0, 0, 0, 0, 0, 0, 0, 0, 'Alarcon J. (Per)', 'Ortega K. (Per)', 'Ureta D. (Per)', 0, 0, 0, 0, 0, 0, 0, 0, 0, 0, 0, 'Legario F. (Per)', 'Barbagelatta G. (Per)', 'Cartagena J. (Per)', 0, 0, 0, 0, 0, 0, 0, 0, 0, 0, 0, 'Espinoza J. (Per)', 'Seminario L. (Per)', 'Villegas H. (Per)', 0, 0, 0, 0, 0, 0, 0, 0, 0, 0, 0, 'Alarcon J. (Per)', 'Estadio Miguel Grau (Callao)', 'Villegas H. (Per)', 0, 0, 0, 0, 0, 0, 0, 0, 0, 0, 0, 'Huaman D. (Per)', 'Perez R. B. (Per)', 'Seminario L. (Per)', 0, 0, 0, 0, 0, 0, 0, 0, 0, 0, 0, 'Alarcon J. (Per)', 'Zamora J. (Per)', 0, 0, 0, 0, 0, 0, 0, 0, 0, 0, 0, 0, 'Palomino M. (Per)', 'Legario F. (Per)', 'Espinoza J. (Per)', 0, 0, 0, 0, 0, 0, 0, 0, 0, 0, 0, 'Perez R. B. (Per)', 'Lopez R. (Per)', 'Ordonez E. (Per)', 0, 0, 0, 0, 0, 0, 0, 0, 0, 0, 0, 0, 0, 0, 0, 0, 0, 0, 0, 0]\n",
      "\n"
     ]
    },
    {
     "name": "stderr",
     "output_type": "stream",
     "text": [
      "[WDM] - ====== WebDriver manager ======\n"
     ]
    },
    {
     "name": "stdout",
     "output_type": "stream",
     "text": [
      "Termino 198\n",
      "['Perez R. B. (Per)', 'Quiroz J. C. (Per)', 'Villegas H. (Per)', 0, 0, 0, 0, 0, 0, 0, 0, 0, 0, 0, 'Cartagena J. (Per)', 'Villegas H. (Per)', 'Cori V. (Per)', 0, 0, 0, 0, 0, 0, 0, 0, 0, 0, 0, 'Espinoza M. (Per)', 'Ordonez E. (Per)', 'Quiroz J. C. (Per)', 0, 0, 0, 0, 0, 0, 0, 0, 0, 0, 0, 'Garay Evia L. (Per)', 'Lozano S. (Per)', 'Huaman D. (Per)', 0, 0, 0, 0, 0, 0, 0, 0, 0, 0, 0, 'Alarcon J. (Per)', 'Ciriaco L. (Per)', 'Lozano C. (Arg)', 0, 0, 0, 0, 0, 0, 0, 0, 0, 0, 0, 'Ureta D. (Per)', 'Garay L. (Per)', 'Quiroz J. (Per)', 0, 0, 0, 0, 0, 0, 0, 0, 0, 0, 0, 'Estadio San Martin de Porres (Lima)', 'Alarcon J. (Per)', 0, 0, 0, 0, 0, 0, 0, 0, 0, 0, 0, 0, 'Alarcon J. (Per)', 'Ortega K. (Per)', 'Ureta D. (Per)', 0, 0, 0, 0, 0, 0, 0, 0, 0, 0, 0, 'Legario F. (Per)', 'Barbagelatta G. (Per)', 'Cartagena J. (Per)', 0, 0, 0, 0, 0, 0, 0, 0, 0, 0, 0, 'Espinoza J. (Per)', 'Seminario L. (Per)', 'Villegas H. (Per)', 0, 0, 0, 0, 0, 0, 0, 0, 0, 0, 0, 'Alarcon J. (Per)', 'Estadio Miguel Grau (Callao)', 'Villegas H. (Per)', 0, 0, 0, 0, 0, 0, 0, 0, 0, 0, 0, 'Huaman D. (Per)', 'Perez R. B. (Per)', 'Seminario L. (Per)', 0, 0, 0, 0, 0, 0, 0, 0, 0, 0, 0, 'Alarcon J. (Per)', 'Zamora J. (Per)', 0, 0, 0, 0, 0, 0, 0, 0, 0, 0, 0, 0, 'Palomino M. (Per)', 'Legario F. (Per)', 'Espinoza J. (Per)', 0, 0, 0, 0, 0, 0, 0, 0, 0, 0, 0, 'Perez R. B. (Per)', 'Lopez R. (Per)', 'Ordonez E. (Per)', 0, 0, 0, 0, 0, 0, 0, 0, 0, 0, 0, 0, 0, 0, 0, 0, 0, 0, 0, 0]\n",
      "\n"
     ]
    },
    {
     "name": "stderr",
     "output_type": "stream",
     "text": [
      "[WDM] - ====== WebDriver manager ======\n"
     ]
    },
    {
     "name": "stdout",
     "output_type": "stream",
     "text": [
      "Termino 85\n",
      "['Perez R. B. (Per)', 'Quiroz J. C. (Per)', 'Villegas H. (Per)', 0, 0, 0, 0, 0, 0, 0, 0, 0, 0, 0, 'Cartagena J. (Per)', 'Villegas H. (Per)', 'Cori V. (Per)', 0, 0, 0, 0, 0, 0, 0, 0, 0, 0, 0, 'Espinoza M. (Per)', 'Ordonez E. (Per)', 'Quiroz J. C. (Per)', 0, 0, 0, 0, 0, 0, 0, 0, 0, 0, 0, 'Garay Evia L. (Per)', 'Lozano S. (Per)', 'Huaman D. (Per)', 0, 0, 0, 0, 0, 0, 0, 0, 0, 0, 0, 'Alarcon J. (Per)', 'Ciriaco L. (Per)', 'Lozano C. (Arg)', 0, 0, 0, 0, 0, 0, 0, 0, 0, 0, 0, 'Ureta D. (Per)', 'Garay L. (Per)', 'Quiroz J. (Per)', 0, 0, 0, 0, 0, 0, 0, 0, 0, 0, 0, 'Estadio San Martin de Porres (Lima)', 'Alarcon J. (Per)', 0, 0, 0, 0, 0, 0, 0, 0, 0, 0, 0, 0, 'Alarcon J. (Per)', 'Ortega K. (Per)', 'Ureta D. (Per)', 0, 0, 0, 0, 0, 0, 0, 0, 0, 0, 0, 'Legario F. (Per)', 'Barbagelatta G. (Per)', 'Cartagena J. (Per)', 0, 0, 0, 0, 0, 0, 0, 0, 0, 0, 0, 'Espinoza J. (Per)', 'Seminario L. (Per)', 'Villegas H. (Per)', 0, 0, 0, 0, 0, 0, 0, 0, 0, 0, 0, 'Alarcon J. (Per)', 'Estadio Miguel Grau (Callao)', 'Villegas H. (Per)', 0, 0, 0, 0, 0, 0, 0, 0, 0, 0, 0, 'Huaman D. (Per)', 'Perez R. B. (Per)', 'Seminario L. (Per)', 0, 0, 0, 0, 0, 0, 0, 0, 0, 0, 0, 'Alarcon J. (Per)', 'Zamora J. (Per)', 0, 0, 0, 0, 0, 0, 0, 0, 0, 0, 0, 0, 'Palomino M. (Per)', 'Legario F. (Per)', 'Espinoza J. (Per)', 0, 0, 0, 0, 0, 0, 0, 0, 0, 0, 0, 'Perez R. B. (Per)', 'Lopez R. (Per)', 'Ordonez E. (Per)', 0, 0, 0, 0, 0, 0, 0, 0, 0, 0, 0, 0, 0, 0, 0, 0, 0, 0, 0, 0]\n",
      "\n"
     ]
    },
    {
     "name": "stderr",
     "output_type": "stream",
     "text": [
      "[WDM] - ====== WebDriver manager ======\n"
     ]
    },
    {
     "name": "stdout",
     "output_type": "stream",
     "text": [
      "Termino 169\n",
      "['Perez R. B. (Per)', 'Quiroz J. C. (Per)', 'Villegas H. (Per)', 0, 0, 0, 0, 0, 0, 0, 0, 0, 0, 0, 'Cartagena J. (Per)', 'Villegas H. (Per)', 'Cori V. (Per)', 0, 0, 0, 0, 0, 0, 0, 0, 0, 0, 0, 'Espinoza M. (Per)', 'Ordonez E. (Per)', 'Quiroz J. C. (Per)', 0, 0, 0, 0, 0, 0, 0, 0, 0, 0, 0, 'Garay Evia L. (Per)', 'Lozano S. (Per)', 'Huaman D. (Per)', 0, 0, 0, 0, 0, 0, 0, 0, 0, 0, 0, 'Alarcon J. (Per)', 'Ciriaco L. (Per)', 'Lozano C. (Arg)', 0, 0, 0, 0, 0, 0, 0, 0, 0, 0, 0, 'Ureta D. (Per)', 'Garay L. (Per)', 'Quiroz J. (Per)', 0, 0, 0, 0, 0, 0, 0, 0, 0, 0, 0, 'Estadio San Martin de Porres (Lima)', 'Alarcon J. (Per)', 0, 0, 0, 0, 0, 0, 0, 0, 0, 0, 0, 0, 'Alarcon J. (Per)', 'Ortega K. (Per)', 'Ureta D. (Per)', 0, 0, 0, 0, 0, 0, 0, 0, 0, 0, 0, 'Legario F. (Per)', 'Barbagelatta G. (Per)', 'Cartagena J. (Per)', 0, 0, 0, 0, 0, 0, 0, 0, 0, 0, 0, 'Espinoza J. (Per)', 'Seminario L. (Per)', 'Villegas H. (Per)', 0, 0, 0, 0, 0, 0, 0, 0, 0, 0, 0, 'Alarcon J. (Per)', 'Estadio Miguel Grau (Callao)', 'Villegas H. (Per)', 0, 0, 0, 0, 0, 0, 0, 0, 0, 0, 0, 'Huaman D. (Per)', 'Perez R. B. (Per)', 'Seminario L. (Per)', 0, 0, 0, 0, 0, 0, 0, 0, 0, 0, 0, 'Alarcon J. (Per)', 'Zamora J. (Per)', 0, 0, 0, 0, 0, 0, 0, 0, 0, 0, 0, 0, 'Palomino M. (Per)', 'Legario F. (Per)', 'Espinoza J. (Per)', 0, 0, 0, 0, 0, 0, 0, 0, 0, 0, 0, 'Perez R. B. (Per)', 'Lopez R. (Per)', 'Ordonez E. (Per)', 0, 0, 0, 0, 0, 0, 0, 0, 0, 0, 0, 0, 0, 0, 0, 0, 0, 0, 0, 0]\n",
      "\n"
     ]
    },
    {
     "name": "stderr",
     "output_type": "stream",
     "text": [
      "[WDM] - ====== WebDriver manager ======\n",
      "[WDM] - Current google-chrome version is 104.0.5112\n",
      "[WDM] - Get LATEST chromedriver version for 104.0.5112 google-chrome\n",
      "[WDM] - Driver [C:\\Users\\PC-1\\.wdm\\drivers\\chromedriver\\win32\\104.0.5112.79\\chromedriver.exe] found in cache\n",
      "[WDM] - Current google-chrome version is 104.0.5112\n",
      "[WDM] - Get LATEST chromedriver version for 104.0.5112 google-chrome\n",
      "[WDM] - Current google-chrome version is 104.0.5112\n",
      "[WDM] - Get LATEST chromedriver version for 104.0.5112 google-chrome\n",
      "[WDM] - Current google-chrome version is 104.0.5112\n",
      "[WDM] - Get LATEST chromedriver version for 104.0.5112 google-chrome\n",
      "[WDM] - Current google-chrome version is 104.0.5112\n",
      "[WDM] - Get LATEST chromedriver version for 104.0.5112 google-chrome\n",
      "[WDM] - Current google-chrome version is 104.0.5112\n",
      "[WDM] - Get LATEST chromedriver version for 104.0.5112 google-chrome\n",
      "[WDM] - Driver [C:\\Users\\PC-1\\.wdm\\drivers\\chromedriver\\win32\\104.0.5112.79\\chromedriver.exe] found in cache\n",
      "[WDM] - Driver [C:\\Users\\PC-1\\.wdm\\drivers\\chromedriver\\win32\\104.0.5112.79\\chromedriver.exe] found in cache\n",
      "[WDM] - Driver [C:\\Users\\PC-1\\.wdm\\drivers\\chromedriver\\win32\\104.0.5112.79\\chromedriver.exe] found in cache\n",
      "[WDM] - Driver [C:\\Users\\PC-1\\.wdm\\drivers\\chromedriver\\win32\\104.0.5112.79\\chromedriver.exe] found in cache\n",
      "[WDM] - Driver [C:\\Users\\PC-1\\.wdm\\drivers\\chromedriver\\win32\\104.0.5112.79\\chromedriver.exe] found in cache\n"
     ]
    },
    {
     "name": "stdout",
     "output_type": "stream",
     "text": [
      "Termino 128\n",
      "['Perez R. B. (Per)', 'Quiroz J. C. (Per)', 'Villegas H. (Per)', 0, 0, 0, 0, 0, 0, 0, 0, 0, 0, 0, 'Cartagena J. (Per)', 'Villegas H. (Per)', 'Cori V. (Per)', 0, 0, 0, 0, 0, 0, 0, 0, 0, 0, 0, 'Espinoza M. (Per)', 'Ordonez E. (Per)', 'Quiroz J. C. (Per)', 0, 0, 0, 0, 0, 0, 0, 0, 0, 0, 0, 'Garay Evia L. (Per)', 'Lozano S. (Per)', 'Huaman D. (Per)', 0, 0, 0, 0, 0, 0, 0, 0, 0, 0, 0, 'Alarcon J. (Per)', 'Ciriaco L. (Per)', 'Lozano C. (Arg)', 0, 0, 0, 0, 0, 0, 0, 0, 0, 0, 0, 'Ureta D. (Per)', 'Garay L. (Per)', 'Quiroz J. (Per)', 0, 0, 0, 0, 0, 0, 0, 0, 0, 0, 0, 'Estadio San Martin de Porres (Lima)', 'Alarcon J. (Per)', 0, 0, 0, 0, 0, 0, 0, 0, 0, 0, 0, 0, 'Alarcon J. (Per)', 'Ortega K. (Per)', 'Ureta D. (Per)', 0, 0, 0, 0, 0, 0, 0, 0, 0, 0, 0, 'Legario F. (Per)', 'Barbagelatta G. (Per)', 'Cartagena J. (Per)', 0, 0, 0, 0, 0, 0, 0, 0, 0, 0, 0, 'Espinoza J. (Per)', 'Seminario L. (Per)', 'Villegas H. (Per)', 0, 0, 0, 0, 0, 0, 0, 0, 0, 0, 0, 'Alarcon J. (Per)', 'Estadio Miguel Grau (Callao)', 'Villegas H. (Per)', 0, 0, 0, 0, 0, 0, 0, 0, 0, 0, 0, 'Huaman D. (Per)', 'Perez R. B. (Per)', 'Seminario L. (Per)', 0, 0, 0, 0, 0, 0, 0, 0, 0, 0, 0, 'Alarcon J. (Per)', 'Zamora J. (Per)', 0, 0, 0, 0, 0, 0, 0, 0, 0, 0, 0, 0, 'Palomino M. (Per)', 'Legario F. (Per)', 'Espinoza J. (Per)', 0, 0, 0, 0, 0, 0, 0, 0, 0, 0, 0, 'Perez R. B. (Per)', 'Lopez R. (Per)', 'Ordonez E. (Per)', 0, 0, 0, 0, 0, 0, 0, 0, 0, 0, 0, 0, 0, 0, 0, 0, 0, 0, 0, 0]\n",
      "\n"
     ]
    },
    {
     "name": "stderr",
     "output_type": "stream",
     "text": [
      "[WDM] - ====== WebDriver manager ======\n"
     ]
    },
    {
     "name": "stdout",
     "output_type": "stream",
     "text": [
      "Termino 142\n",
      "['Perez R. B. (Per)', 'Quiroz J. C. (Per)', 'Villegas H. (Per)', 0, 0, 0, 0, 0, 0, 0, 0, 0, 0, 0, 'Cartagena J. (Per)', 'Villegas H. (Per)', 'Cori V. (Per)', 0, 0, 0, 0, 0, 0, 0, 0, 0, 0, 0, 'Espinoza M. (Per)', 'Ordonez E. (Per)', 'Quiroz J. C. (Per)', 0, 0, 0, 0, 0, 0, 0, 0, 0, 0, 0, 'Garay Evia L. (Per)', 'Lozano S. (Per)', 'Huaman D. (Per)', 0, 0, 0, 0, 0, 0, 0, 0, 0, 0, 0, 'Alarcon J. (Per)', 'Ciriaco L. (Per)', 'Lozano C. (Arg)', 0, 0, 0, 0, 0, 0, 0, 0, 0, 0, 0, 'Ureta D. (Per)', 'Garay L. (Per)', 'Quiroz J. (Per)', 0, 0, 0, 0, 0, 0, 0, 0, 0, 0, 0, 'Estadio San Martin de Porres (Lima)', 'Alarcon J. (Per)', 0, 0, 0, 0, 0, 0, 0, 0, 0, 0, 0, 0, 'Alarcon J. (Per)', 'Ortega K. (Per)', 'Ureta D. (Per)', 0, 0, 0, 0, 0, 0, 0, 0, 0, 0, 0, 'Legario F. (Per)', 'Barbagelatta G. (Per)', 'Cartagena J. (Per)', 0, 0, 0, 0, 0, 0, 0, 0, 0, 0, 0, 'Espinoza J. (Per)', 'Seminario L. (Per)', 'Villegas H. (Per)', 0, 0, 0, 0, 0, 0, 0, 0, 0, 0, 0, 'Alarcon J. (Per)', 'Estadio Miguel Grau (Callao)', 'Villegas H. (Per)', 0, 0, 0, 0, 0, 0, 0, 0, 0, 0, 0, 'Huaman D. (Per)', 'Perez R. B. (Per)', 'Seminario L. (Per)', 0, 0, 0, 0, 0, 0, 0, 0, 0, 0, 0, 'Alarcon J. (Per)', 'Zamora J. (Per)', 0, 0, 0, 0, 0, 0, 0, 0, 0, 0, 0, 0, 'Palomino M. (Per)', 'Legario F. (Per)', 'Espinoza J. (Per)', 0, 0, 0, 0, 0, 0, 0, 0, 0, 0, 0, 'Perez R. B. (Per)', 'Lopez R. (Per)', 'Ordonez E. (Per)', 0, 0, 0, 0, 0, 0, 0, 0, 0, 0, 0, 0, 0, 0, 0, 0, 0, 0, 0, 0]\n",
      "\n"
     ]
    },
    {
     "name": "stderr",
     "output_type": "stream",
     "text": [
      "[WDM] - ====== WebDriver manager ======\n"
     ]
    },
    {
     "name": "stdout",
     "output_type": "stream",
     "text": [
      "Termino 114\n",
      "['Perez R. B. (Per)', 'Quiroz J. C. (Per)', 'Villegas H. (Per)', 0, 0, 0, 0, 0, 0, 0, 0, 0, 0, 0, 'Cartagena J. (Per)', 'Villegas H. (Per)', 'Cori V. (Per)', 0, 0, 0, 0, 0, 0, 0, 0, 0, 0, 0, 'Espinoza M. (Per)', 'Ordonez E. (Per)', 'Quiroz J. C. (Per)', 0, 0, 0, 0, 0, 0, 0, 0, 0, 0, 0, 'Garay Evia L. (Per)', 'Lozano S. (Per)', 'Huaman D. (Per)', 0, 0, 0, 0, 0, 0, 0, 0, 0, 0, 0, 'Alarcon J. (Per)', 'Ciriaco L. (Per)', 'Lozano C. (Arg)', 0, 0, 0, 0, 0, 0, 0, 0, 0, 0, 0, 'Ureta D. (Per)', 'Garay L. (Per)', 'Quiroz J. (Per)', 0, 0, 0, 0, 0, 0, 0, 0, 0, 0, 0, 'Estadio San Martin de Porres (Lima)', 'Alarcon J. (Per)', 0, 0, 0, 0, 0, 0, 0, 0, 0, 0, 0, 0, 'Alarcon J. (Per)', 'Ortega K. (Per)', 'Ureta D. (Per)', 0, 0, 0, 0, 0, 0, 0, 0, 0, 0, 0, 'Legario F. (Per)', 'Barbagelatta G. (Per)', 'Cartagena J. (Per)', 0, 0, 0, 0, 0, 0, 0, 0, 0, 0, 0, 'Espinoza J. (Per)', 'Seminario L. (Per)', 'Villegas H. (Per)', 0, 0, 0, 0, 0, 0, 0, 0, 0, 0, 0, 'Alarcon J. (Per)', 'Estadio Miguel Grau (Callao)', 'Villegas H. (Per)', 0, 0, 0, 0, 0, 0, 0, 0, 0, 0, 0, 'Huaman D. (Per)', 'Perez R. B. (Per)', 'Seminario L. (Per)', 0, 0, 0, 0, 0, 0, 0, 0, 0, 0, 0, 'Alarcon J. (Per)', 'Zamora J. (Per)', 0, 0, 0, 0, 0, 0, 0, 0, 0, 0, 0, 0, 'Palomino M. (Per)', 'Legario F. (Per)', 'Espinoza J. (Per)', 0, 0, 0, 0, 0, 0, 0, 0, 0, 0, 0, 'Perez R. B. (Per)', 'Lopez R. (Per)', 'Ordonez E. (Per)', 0, 0, 0, 0, 0, 0, 0, 0, 0, 0, 0, 0, 0, 0, 0, 0, 0, 0, 0, 0]\n",
      "\n"
     ]
    },
    {
     "name": "stderr",
     "output_type": "stream",
     "text": [
      "[WDM] - ====== WebDriver manager ======\n",
      "[WDM] - Current google-chrome version is 104.0.5112\n",
      "[WDM] - Current google-chrome version is 104.0.5112\n",
      "[WDM] - Get LATEST chromedriver version for 104.0.5112 google-chrome\n",
      "[WDM] - Get LATEST chromedriver version for 104.0.5112 google-chrome\n"
     ]
    },
    {
     "name": "stdout",
     "output_type": "stream",
     "text": [
      "Termino 72\n",
      "['Perez R. B. (Per)', 'Quiroz J. C. (Per)', 'Villegas H. (Per)', 0, 0, 0, 0, 0, 0, 0, 0, 0, 0, 0, 'Cartagena J. (Per)', 'Villegas H. (Per)', 'Cori V. (Per)', 0, 0, 0, 0, 0, 0, 0, 0, 0, 0, 0, 'Espinoza M. (Per)', 'Ordonez E. (Per)', 'Quiroz J. C. (Per)', 0, 0, 0, 0, 0, 0, 0, 0, 0, 0, 0, 'Garay Evia L. (Per)', 'Lozano S. (Per)', 'Huaman D. (Per)', 0, 0, 0, 0, 0, 0, 0, 0, 0, 0, 0, 'Alarcon J. (Per)', 'Ciriaco L. (Per)', 'Lozano C. (Arg)', 0, 0, 0, 0, 0, 0, 0, 0, 0, 0, 0, 'Ureta D. (Per)', 'Garay L. (Per)', 'Quiroz J. (Per)', 0, 0, 0, 0, 0, 0, 0, 0, 0, 0, 0, 'Estadio San Martin de Porres (Lima)', 'Alarcon J. (Per)', 0, 0, 0, 0, 0, 0, 0, 0, 0, 0, 0, 0, 'Alarcon J. (Per)', 'Ortega K. (Per)', 'Ureta D. (Per)', 0, 0, 0, 0, 0, 0, 0, 0, 0, 0, 0, 'Legario F. (Per)', 'Barbagelatta G. (Per)', 'Cartagena J. (Per)', 0, 0, 0, 0, 0, 0, 0, 0, 0, 0, 0, 'Espinoza J. (Per)', 'Seminario L. (Per)', 'Villegas H. (Per)', 0, 0, 0, 0, 0, 0, 0, 0, 0, 0, 0, 'Alarcon J. (Per)', 'Estadio Miguel Grau (Callao)', 'Villegas H. (Per)', 0, 0, 0, 0, 0, 0, 0, 0, 0, 0, 0, 'Huaman D. (Per)', 'Perez R. B. (Per)', 'Seminario L. (Per)', 0, 0, 0, 0, 0, 0, 0, 0, 0, 0, 0, 'Alarcon J. (Per)', 'Zamora J. (Per)', 0, 0, 0, 0, 0, 0, 0, 0, 0, 0, 0, 0, 'Palomino M. (Per)', 'Legario F. (Per)', 'Espinoza J. (Per)', 0, 0, 0, 0, 0, 0, 0, 0, 0, 0, 0, 'Perez R. B. (Per)', 'Lopez R. (Per)', 'Ordonez E. (Per)', 0, 0, 0, 0, 0, 0, 0, 0, 0, 0, 0, 0, 0, 0, 0, 0, 0, 0, 0, 0]\n",
      "\n"
     ]
    },
    {
     "name": "stderr",
     "output_type": "stream",
     "text": [
      "[WDM] - ====== WebDriver manager ======\n",
      "[WDM] - Current google-chrome version is 104.0.5112\n",
      "[WDM] - Get LATEST chromedriver version for 104.0.5112 google-chrome\n",
      "[WDM] - Driver [C:\\Users\\PC-1\\.wdm\\drivers\\chromedriver\\win32\\104.0.5112.79\\chromedriver.exe] found in cache\n",
      "[WDM] - Driver [C:\\Users\\PC-1\\.wdm\\drivers\\chromedriver\\win32\\104.0.5112.79\\chromedriver.exe] found in cache\n",
      "[WDM] - Driver [C:\\Users\\PC-1\\.wdm\\drivers\\chromedriver\\win32\\104.0.5112.79\\chromedriver.exe] found in cache\n"
     ]
    },
    {
     "name": "stdout",
     "output_type": "stream",
     "text": [
      "Termino 156\n",
      "['Perez R. B. (Per)', 'Quiroz J. C. (Per)', 'Villegas H. (Per)', 0, 0, 0, 0, 0, 0, 0, 0, 0, 0, 0, 'Cartagena J. (Per)', 'Villegas H. (Per)', 'Cori V. (Per)', 0, 0, 0, 0, 0, 0, 0, 0, 0, 0, 0, 'Espinoza M. (Per)', 'Ordonez E. (Per)', 'Quiroz J. C. (Per)', 0, 0, 0, 0, 0, 0, 0, 0, 0, 0, 0, 'Garay Evia L. (Per)', 'Lozano S. (Per)', 'Huaman D. (Per)', 0, 0, 0, 0, 0, 0, 0, 0, 0, 0, 0, 'Alarcon J. (Per)', 'Ciriaco L. (Per)', 'Lozano C. (Arg)', 0, 0, 0, 0, 0, 0, 0, 0, 0, 0, 0, 'Ureta D. (Per)', 'Garay L. (Per)', 'Quiroz J. (Per)', 0, 0, 0, 0, 0, 0, 0, 0, 0, 0, 0, 'Estadio San Martin de Porres (Lima)', 'Alarcon J. (Per)', 0, 0, 0, 0, 0, 0, 0, 0, 0, 0, 0, 0, 'Alarcon J. (Per)', 'Ortega K. (Per)', 'Ureta D. (Per)', 0, 0, 0, 0, 0, 0, 0, 0, 0, 0, 0, 'Legario F. (Per)', 'Barbagelatta G. (Per)', 'Cartagena J. (Per)', 0, 0, 0, 0, 0, 0, 0, 0, 0, 0, 0, 'Espinoza J. (Per)', 'Seminario L. (Per)', 'Villegas H. (Per)', 0, 0, 0, 0, 0, 0, 0, 0, 0, 0, 0, 'Alarcon J. (Per)', 'Estadio Miguel Grau (Callao)', 'Villegas H. (Per)', 0, 0, 0, 0, 0, 0, 0, 0, 0, 0, 0, 'Huaman D. (Per)', 'Perez R. B. (Per)', 'Seminario L. (Per)', 0, 0, 0, 0, 0, 0, 0, 0, 0, 0, 0, 'Alarcon J. (Per)', 'Zamora J. (Per)', 0, 0, 0, 0, 0, 0, 0, 0, 0, 0, 0, 0, 'Palomino M. (Per)', 'Legario F. (Per)', 'Espinoza J. (Per)', 0, 0, 0, 0, 0, 0, 0, 0, 0, 0, 0, 'Perez R. B. (Per)', 'Lopez R. (Per)', 'Ordonez E. (Per)', 0, 0, 0, 0, 0, 0, 0, 0, 0, 0, 0, 0, 0, 0, 0, 0, 0, 0, 0, 0]\n",
      "\n"
     ]
    },
    {
     "name": "stderr",
     "output_type": "stream",
     "text": [
      "[WDM] - ====== WebDriver manager ======\n",
      "[WDM] - Current google-chrome version is 104.0.5112\n",
      "[WDM] - Get LATEST chromedriver version for 104.0.5112 google-chrome\n",
      "[WDM] - Driver [C:\\Users\\PC-1\\.wdm\\drivers\\chromedriver\\win32\\104.0.5112.79\\chromedriver.exe] found in cache\n",
      "[WDM] - Current google-chrome version is 104.0.5112\n",
      "[WDM] - Get LATEST chromedriver version for 104.0.5112 google-chrome\n",
      "[WDM] - Driver [C:\\Users\\PC-1\\.wdm\\drivers\\chromedriver\\win32\\104.0.5112.79\\chromedriver.exe] found in cache\n"
     ]
    },
    {
     "name": "stdout",
     "output_type": "stream",
     "text": [
      "Termino 3\n",
      "['Perez R. B. (Per)', 'Quiroz J. C. (Per)', 'Villegas H. (Per)', 'Lozano S. (Per)', 0, 0, 0, 0, 0, 0, 0, 0, 0, 0, 'Cartagena J. (Per)', 'Villegas H. (Per)', 'Cori V. (Per)', 0, 0, 0, 0, 0, 0, 0, 0, 0, 0, 0, 'Espinoza M. (Per)', 'Ordonez E. (Per)', 'Quiroz J. C. (Per)', 0, 0, 0, 0, 0, 0, 0, 0, 0, 0, 0, 'Garay Evia L. (Per)', 'Lozano S. (Per)', 'Huaman D. (Per)', 0, 0, 0, 0, 0, 0, 0, 0, 0, 0, 0, 'Alarcon J. (Per)', 'Ciriaco L. (Per)', 'Lozano C. (Arg)', 0, 0, 0, 0, 0, 0, 0, 0, 0, 0, 0, 'Ureta D. (Per)', 'Garay L. (Per)', 'Quiroz J. (Per)', 0, 0, 0, 0, 0, 0, 0, 0, 0, 0, 0, 'Estadio San Martin de Porres (Lima)', 'Alarcon J. (Per)', 0, 0, 0, 0, 0, 0, 0, 0, 0, 0, 0, 0, 'Alarcon J. (Per)', 'Ortega K. (Per)', 'Ureta D. (Per)', 0, 0, 0, 0, 0, 0, 0, 0, 0, 0, 0, 'Legario F. (Per)', 'Barbagelatta G. (Per)', 'Cartagena J. (Per)', 0, 0, 0, 0, 0, 0, 0, 0, 0, 0, 0, 'Espinoza J. (Per)', 'Seminario L. (Per)', 'Villegas H. (Per)', 0, 0, 0, 0, 0, 0, 0, 0, 0, 0, 0, 'Alarcon J. (Per)', 'Estadio Miguel Grau (Callao)', 'Villegas H. (Per)', 0, 0, 0, 0, 0, 0, 0, 0, 0, 0, 0, 'Huaman D. (Per)', 'Perez R. B. (Per)', 'Seminario L. (Per)', 0, 0, 0, 0, 0, 0, 0, 0, 0, 0, 0, 'Alarcon J. (Per)', 'Zamora J. (Per)', 0, 0, 0, 0, 0, 0, 0, 0, 0, 0, 0, 0, 'Palomino M. (Per)', 'Legario F. (Per)', 'Espinoza J. (Per)', 0, 0, 0, 0, 0, 0, 0, 0, 0, 0, 0, 'Perez R. B. (Per)', 'Lopez R. (Per)', 'Ordonez E. (Per)', 0, 0, 0, 0, 0, 0, 0, 0, 0, 0, 0, 0, 0, 0, 0, 0, 0, 0, 0, 0]\n",
      "\n"
     ]
    },
    {
     "name": "stderr",
     "output_type": "stream",
     "text": [
      "[WDM] - ====== WebDriver manager ======\n",
      "[WDM] - Current google-chrome version is 104.0.5112\n",
      "[WDM] - Get LATEST chromedriver version for 104.0.5112 google-chrome\n",
      "[WDM] - Driver [C:\\Users\\PC-1\\.wdm\\drivers\\chromedriver\\win32\\104.0.5112.79\\chromedriver.exe] found in cache\n"
     ]
    },
    {
     "name": "stdout",
     "output_type": "stream",
     "text": [
      "Termino 59\n",
      "['Perez R. B. (Per)', 'Quiroz J. C. (Per)', 'Villegas H. (Per)', 'Lozano S. (Per)', 0, 0, 0, 0, 0, 0, 0, 0, 0, 0, 'Cartagena J. (Per)', 'Villegas H. (Per)', 'Cori V. (Per)', 'Villanueva A. (Per)', 0, 0, 0, 0, 0, 0, 0, 0, 0, 0, 'Espinoza M. (Per)', 'Ordonez E. (Per)', 'Quiroz J. C. (Per)', 'Alarcon J. (Per)', 0, 0, 0, 0, 0, 0, 0, 0, 0, 0, 'Garay Evia L. (Per)', 'Lozano S. (Per)', 'Huaman D. (Per)', 'Vasquez B. (Per)', 0, 0, 0, 0, 0, 0, 0, 0, 0, 0, 'Alarcon J. (Per)', 'Ciriaco L. (Per)', 'Lozano C. (Arg)', 'Alarcon J. (Per)', 0, 0, 0, 0, 0, 0, 0, 0, 0, 0, 'Ureta D. (Per)', 'Garay L. (Per)', 'Quiroz J. (Per)', 0, 0, 0, 0, 0, 0, 0, 0, 0, 0, 0, 'Estadio San Martin de Porres (Lima)', 'Alarcon J. (Per)', 'Perez R. B. (Per)', 0, 0, 0, 0, 0, 0, 0, 0, 0, 0, 0, 'Alarcon J. (Per)', 'Ortega K. (Per)', 'Ureta D. (Per)', 'Seminario L. (Per)', 0, 0, 0, 0, 0, 0, 0, 0, 0, 0, 'Legario F. (Per)', 'Barbagelatta G. (Per)', 'Cartagena J. (Per)', 'Villegas H. (Per)', 0, 0, 0, 0, 0, 0, 0, 0, 0, 0, 'Espinoza J. (Per)', 'Seminario L. (Per)', 'Villegas H. (Per)', 0, 0, 0, 0, 0, 0, 0, 0, 0, 0, 0, 'Alarcon J. (Per)', 'Estadio Miguel Grau (Callao)', 'Villegas H. (Per)', 0, 0, 0, 0, 0, 0, 0, 0, 0, 0, 0, 'Huaman D. (Per)', 'Perez R. B. (Per)', 'Seminario L. (Per)', 0, 0, 0, 0, 0, 0, 0, 0, 0, 0, 0, 'Alarcon J. (Per)', 'Zamora J. (Per)', 'Espinoza J. (Per)', 0, 0, 0, 0, 0, 0, 0, 0, 0, 0, 0, 'Palomino M. (Per)', 'Legario F. (Per)', 'Espinoza J. (Per)', 'Estadio Huancayo (Huancayo)', 0, 0, 0, 0, 0, 0, 0, 0, 0, 0, 'Perez R. B. (Per)', 'Lopez R. (Per)', 'Ordonez E. (Per)', 'Espinoza J. (Per)', 0, 0, 0, 0, 0, 0, 0, 0, 0, 0, 0, 0, 0, 0, 0, 0, 0, 0, 0]\n",
      "\n"
     ]
    },
    {
     "name": "stderr",
     "output_type": "stream",
     "text": [
      "[WDM] - ====== WebDriver manager ======\n"
     ]
    },
    {
     "name": "stdout",
     "output_type": "stream",
     "text": [
      "Termino 17\n",
      "['Perez R. B. (Per)', 'Quiroz J. C. (Per)', 'Villegas H. (Per)', 'Lozano S. (Per)', 0, 0, 0, 0, 0, 0, 0, 0, 0, 0, 'Cartagena J. (Per)', 'Villegas H. (Per)', 'Cori V. (Per)', 'Villanueva A. (Per)', 0, 0, 0, 0, 0, 0, 0, 0, 0, 0, 'Espinoza M. (Per)', 'Ordonez E. (Per)', 'Quiroz J. C. (Per)', 'Alarcon J. (Per)', 0, 0, 0, 0, 0, 0, 0, 0, 0, 0, 'Garay Evia L. (Per)', 'Lozano S. (Per)', 'Huaman D. (Per)', 'Vasquez B. (Per)', 0, 0, 0, 0, 0, 0, 0, 0, 0, 0, 'Alarcon J. (Per)', 'Ciriaco L. (Per)', 'Lozano C. (Arg)', 'Alarcon J. (Per)', 0, 0, 0, 0, 0, 0, 0, 0, 0, 0, 'Ureta D. (Per)', 'Garay L. (Per)', 'Quiroz J. (Per)', 0, 0, 0, 0, 0, 0, 0, 0, 0, 0, 0, 'Estadio San Martin de Porres (Lima)', 'Alarcon J. (Per)', 'Perez R. B. (Per)', 0, 0, 0, 0, 0, 0, 0, 0, 0, 0, 0, 'Alarcon J. (Per)', 'Ortega K. (Per)', 'Ureta D. (Per)', 'Seminario L. (Per)', 0, 0, 0, 0, 0, 0, 0, 0, 0, 0, 'Legario F. (Per)', 'Barbagelatta G. (Per)', 'Cartagena J. (Per)', 'Villegas H. (Per)', 0, 0, 0, 0, 0, 0, 0, 0, 0, 0, 'Espinoza J. (Per)', 'Seminario L. (Per)', 'Villegas H. (Per)', 0, 0, 0, 0, 0, 0, 0, 0, 0, 0, 0, 'Alarcon J. (Per)', 'Estadio Miguel Grau (Callao)', 'Villegas H. (Per)', 0, 0, 0, 0, 0, 0, 0, 0, 0, 0, 0, 'Huaman D. (Per)', 'Perez R. B. (Per)', 'Seminario L. (Per)', 0, 0, 0, 0, 0, 0, 0, 0, 0, 0, 0, 'Alarcon J. (Per)', 'Zamora J. (Per)', 'Espinoza J. (Per)', 0, 0, 0, 0, 0, 0, 0, 0, 0, 0, 0, 'Palomino M. (Per)', 'Legario F. (Per)', 'Espinoza J. (Per)', 'Estadio Huancayo (Huancayo)', 0, 0, 0, 0, 0, 0, 0, 0, 0, 0, 'Perez R. B. (Per)', 'Lopez R. (Per)', 'Ordonez E. (Per)', 'Espinoza J. (Per)', 0, 0, 0, 0, 0, 0, 0, 0, 0, 0, 0, 0, 0, 0, 0, 0, 0, 0, 0]\n",
      "\n"
     ]
    },
    {
     "name": "stderr",
     "output_type": "stream",
     "text": [
      "[WDM] - ====== WebDriver manager ======\n"
     ]
    },
    {
     "name": "stdout",
     "output_type": "stream",
     "text": [
      "Termino 185\n",
      "['Perez R. B. (Per)', 'Quiroz J. C. (Per)', 'Villegas H. (Per)', 'Lozano S. (Per)', 0, 0, 0, 0, 0, 0, 0, 0, 0, 0, 'Cartagena J. (Per)', 'Villegas H. (Per)', 'Cori V. (Per)', 'Villanueva A. (Per)', 0, 0, 0, 0, 0, 0, 0, 0, 0, 0, 'Espinoza M. (Per)', 'Ordonez E. (Per)', 'Quiroz J. C. (Per)', 'Alarcon J. (Per)', 0, 0, 0, 0, 0, 0, 0, 0, 0, 0, 'Garay Evia L. (Per)', 'Lozano S. (Per)', 'Huaman D. (Per)', 'Vasquez B. (Per)', 0, 0, 0, 0, 0, 0, 0, 0, 0, 0, 'Alarcon J. (Per)', 'Ciriaco L. (Per)', 'Lozano C. (Arg)', 'Alarcon J. (Per)', 0, 0, 0, 0, 0, 0, 0, 0, 0, 0, 'Ureta D. (Per)', 'Garay L. (Per)', 'Quiroz J. (Per)', 0, 0, 0, 0, 0, 0, 0, 0, 0, 0, 0, 'Estadio San Martin de Porres (Lima)', 'Alarcon J. (Per)', 'Perez R. B. (Per)', 0, 0, 0, 0, 0, 0, 0, 0, 0, 0, 0, 'Alarcon J. (Per)', 'Ortega K. (Per)', 'Ureta D. (Per)', 'Seminario L. (Per)', 0, 0, 0, 0, 0, 0, 0, 0, 0, 0, 'Legario F. (Per)', 'Barbagelatta G. (Per)', 'Cartagena J. (Per)', 'Villegas H. (Per)', 0, 0, 0, 0, 0, 0, 0, 0, 0, 0, 'Espinoza J. (Per)', 'Seminario L. (Per)', 'Villegas H. (Per)', 0, 0, 0, 0, 0, 0, 0, 0, 0, 0, 0, 'Alarcon J. (Per)', 'Estadio Miguel Grau (Callao)', 'Villegas H. (Per)', 0, 0, 0, 0, 0, 0, 0, 0, 0, 0, 0, 'Huaman D. (Per)', 'Perez R. B. (Per)', 'Seminario L. (Per)', 0, 0, 0, 0, 0, 0, 0, 0, 0, 0, 0, 'Alarcon J. (Per)', 'Zamora J. (Per)', 'Espinoza J. (Per)', 0, 0, 0, 0, 0, 0, 0, 0, 0, 0, 0, 'Palomino M. (Per)', 'Legario F. (Per)', 'Espinoza J. (Per)', 'Estadio Huancayo (Huancayo)', 0, 0, 0, 0, 0, 0, 0, 0, 0, 0, 'Perez R. B. (Per)', 'Lopez R. (Per)', 'Ordonez E. (Per)', 'Espinoza J. (Per)', 0, 0, 0, 0, 0, 0, 0, 0, 0, 0, 0, 0, 0, 0, 0, 0, 0, 0, 0]\n",
      "\n"
     ]
    },
    {
     "name": "stderr",
     "output_type": "stream",
     "text": [
      "[WDM] - ====== WebDriver manager ======\n",
      "[WDM] - Current google-chrome version is 104.0.5112\n",
      "[WDM] - Get LATEST chromedriver version for 104.0.5112 google-chrome\n",
      "[WDM] - Driver [C:\\Users\\PC-1\\.wdm\\drivers\\chromedriver\\win32\\104.0.5112.79\\chromedriver.exe] found in cache\n",
      "[WDM] - Current google-chrome version is 104.0.5112\n",
      "[WDM] - Get LATEST chromedriver version for 104.0.5112 google-chrome\n"
     ]
    },
    {
     "name": "stdout",
     "output_type": "stream",
     "text": [
      "Termino 101\n",
      "['Perez R. B. (Per)', 'Quiroz J. C. (Per)', 'Villegas H. (Per)', 'Lozano S. (Per)', 0, 0, 0, 0, 0, 0, 0, 0, 0, 0, 'Cartagena J. (Per)', 'Villegas H. (Per)', 'Cori V. (Per)', 'Villanueva A. (Per)', 0, 0, 0, 0, 0, 0, 0, 0, 0, 0, 'Espinoza M. (Per)', 'Ordonez E. (Per)', 'Quiroz J. C. (Per)', 'Alarcon J. (Per)', 0, 0, 0, 0, 0, 0, 0, 0, 0, 0, 'Garay Evia L. (Per)', 'Lozano S. (Per)', 'Huaman D. (Per)', 'Vasquez B. (Per)', 0, 0, 0, 0, 0, 0, 0, 0, 0, 0, 'Alarcon J. (Per)', 'Ciriaco L. (Per)', 'Lozano C. (Arg)', 'Alarcon J. (Per)', 0, 0, 0, 0, 0, 0, 0, 0, 0, 0, 'Ureta D. (Per)', 'Garay L. (Per)', 'Quiroz J. (Per)', 0, 0, 0, 0, 0, 0, 0, 0, 0, 0, 0, 'Estadio San Martin de Porres (Lima)', 'Alarcon J. (Per)', 'Perez R. B. (Per)', 0, 0, 0, 0, 0, 0, 0, 0, 0, 0, 0, 'Alarcon J. (Per)', 'Ortega K. (Per)', 'Ureta D. (Per)', 'Seminario L. (Per)', 0, 0, 0, 0, 0, 0, 0, 0, 0, 0, 'Legario F. (Per)', 'Barbagelatta G. (Per)', 'Cartagena J. (Per)', 'Villegas H. (Per)', 0, 0, 0, 0, 0, 0, 0, 0, 0, 0, 'Espinoza J. (Per)', 'Seminario L. (Per)', 'Villegas H. (Per)', 'Ortega K. (Arg)', 0, 0, 0, 0, 0, 0, 0, 0, 0, 0, 'Alarcon J. (Per)', 'Estadio Miguel Grau (Callao)', 'Villegas H. (Per)', 'Cartagena J. (Per)', 0, 0, 0, 0, 0, 0, 0, 0, 0, 0, 'Huaman D. (Per)', 'Perez R. B. (Per)', 'Seminario L. (Per)', 0, 0, 0, 0, 0, 0, 0, 0, 0, 0, 0, 'Alarcon J. (Per)', 'Zamora J. (Per)', 'Espinoza J. (Per)', 0, 0, 0, 0, 0, 0, 0, 0, 0, 0, 0, 'Palomino M. (Per)', 'Legario F. (Per)', 'Espinoza J. (Per)', 'Estadio Huancayo (Huancayo)', 0, 0, 0, 0, 0, 0, 0, 0, 0, 0, 'Perez R. B. (Per)', 'Lopez R. (Per)', 'Ordonez E. (Per)', 'Espinoza J. (Per)', 0, 0, 0, 0, 0, 0, 0, 0, 0, 0, 0, 0, 0, 0, 0, 0, 0, 0, 0]\n",
      "\n"
     ]
    },
    {
     "name": "stderr",
     "output_type": "stream",
     "text": [
      "[WDM] - ====== WebDriver manager ======\n",
      "[WDM] - Driver [C:\\Users\\PC-1\\.wdm\\drivers\\chromedriver\\win32\\104.0.5112.79\\chromedriver.exe] found in cache\n",
      "[WDM] - Current google-chrome version is 104.0.5112\n",
      "[WDM] - Get LATEST chromedriver version for 104.0.5112 google-chrome\n",
      "[WDM] - Driver [C:\\Users\\PC-1\\.wdm\\drivers\\chromedriver\\win32\\104.0.5112.79\\chromedriver.exe] found in cache\n"
     ]
    },
    {
     "name": "stdout",
     "output_type": "stream",
     "text": [
      "Termino 45\n",
      "['Perez R. B. (Per)', 'Quiroz J. C. (Per)', 'Villegas H. (Per)', 'Lozano S. (Per)', 0, 0, 0, 0, 0, 0, 0, 0, 0, 0, 'Cartagena J. (Per)', 'Villegas H. (Per)', 'Cori V. (Per)', 'Villanueva A. (Per)', 0, 0, 0, 0, 0, 0, 0, 0, 0, 0, 'Espinoza M. (Per)', 'Ordonez E. (Per)', 'Quiroz J. C. (Per)', 'Alarcon J. (Per)', 0, 0, 0, 0, 0, 0, 0, 0, 0, 0, 'Garay Evia L. (Per)', 'Lozano S. (Per)', 'Huaman D. (Per)', 'Vasquez B. (Per)', 0, 0, 0, 0, 0, 0, 0, 0, 0, 0, 'Alarcon J. (Per)', 'Ciriaco L. (Per)', 'Lozano C. (Arg)', 'Alarcon J. (Per)', 0, 0, 0, 0, 0, 0, 0, 0, 0, 0, 'Ureta D. (Per)', 'Garay L. (Per)', 'Quiroz J. (Per)', 'Estadio Inca Garcilaso de la Vega (Cusco)', 0, 0, 0, 0, 0, 0, 0, 0, 0, 0, 'Estadio San Martin de Porres (Lima)', 'Alarcon J. (Per)', 'Perez R. B. (Per)', 0, 0, 0, 0, 0, 0, 0, 0, 0, 0, 0, 'Alarcon J. (Per)', 'Ortega K. (Per)', 'Ureta D. (Per)', 'Seminario L. (Per)', 0, 0, 0, 0, 0, 0, 0, 0, 0, 0, 'Legario F. (Per)', 'Barbagelatta G. (Per)', 'Cartagena J. (Per)', 'Villegas H. (Per)', 0, 0, 0, 0, 0, 0, 0, 0, 0, 0, 'Espinoza J. (Per)', 'Seminario L. (Per)', 'Villegas H. (Per)', 'Ortega K. (Arg)', 0, 0, 0, 0, 0, 0, 0, 0, 0, 0, 'Alarcon J. (Per)', 'Estadio Miguel Grau (Callao)', 'Villegas H. (Per)', 'Cartagena J. (Per)', 0, 0, 0, 0, 0, 0, 0, 0, 0, 0, 'Huaman D. (Per)', 'Perez R. B. (Per)', 'Seminario L. (Per)', 'Mendoza J. (Per)', 0, 0, 0, 0, 0, 0, 0, 0, 0, 0, 'Alarcon J. (Per)', 'Zamora J. (Per)', 'Espinoza J. (Per)', 0, 0, 0, 0, 0, 0, 0, 0, 0, 0, 0, 'Palomino M. (Per)', 'Legario F. (Per)', 'Espinoza J. (Per)', 'Estadio Huancayo (Huancayo)', 0, 0, 0, 0, 0, 0, 0, 0, 0, 0, 'Perez R. B. (Per)', 'Lopez R. (Per)', 'Ordonez E. (Per)', 'Espinoza J. (Per)', 0, 0, 0, 0, 0, 0, 0, 0, 0, 0, 0, 0, 0, 0, 0, 0, 0, 0, 0]\n",
      "\n"
     ]
    },
    {
     "name": "stderr",
     "output_type": "stream",
     "text": [
      "[WDM] - ====== WebDriver manager ======\n"
     ]
    },
    {
     "name": "stdout",
     "output_type": "stream",
     "text": [
      "Termino 31\n",
      "['Perez R. B. (Per)', 'Quiroz J. C. (Per)', 'Villegas H. (Per)', 'Lozano S. (Per)', 0, 0, 0, 0, 0, 0, 0, 0, 0, 0, 'Cartagena J. (Per)', 'Villegas H. (Per)', 'Cori V. (Per)', 'Villanueva A. (Per)', 0, 0, 0, 0, 0, 0, 0, 0, 0, 0, 'Espinoza M. (Per)', 'Ordonez E. (Per)', 'Quiroz J. C. (Per)', 'Alarcon J. (Per)', 0, 0, 0, 0, 0, 0, 0, 0, 0, 0, 'Garay Evia L. (Per)', 'Lozano S. (Per)', 'Huaman D. (Per)', 'Vasquez B. (Per)', 0, 0, 0, 0, 0, 0, 0, 0, 0, 0, 'Alarcon J. (Per)', 'Ciriaco L. (Per)', 'Lozano C. (Arg)', 'Alarcon J. (Per)', 0, 0, 0, 0, 0, 0, 0, 0, 0, 0, 'Ureta D. (Per)', 'Garay L. (Per)', 'Quiroz J. (Per)', 'Estadio Inca Garcilaso de la Vega (Cusco)', 0, 0, 0, 0, 0, 0, 0, 0, 0, 0, 'Estadio San Martin de Porres (Lima)', 'Alarcon J. (Per)', 'Perez R. B. (Per)', 0, 0, 0, 0, 0, 0, 0, 0, 0, 0, 0, 'Alarcon J. (Per)', 'Ortega K. (Per)', 'Ureta D. (Per)', 'Seminario L. (Per)', 0, 0, 0, 0, 0, 0, 0, 0, 0, 0, 'Legario F. (Per)', 'Barbagelatta G. (Per)', 'Cartagena J. (Per)', 'Villegas H. (Per)', 0, 0, 0, 0, 0, 0, 0, 0, 0, 0, 'Espinoza J. (Per)', 'Seminario L. (Per)', 'Villegas H. (Per)', 'Ortega K. (Arg)', 0, 0, 0, 0, 0, 0, 0, 0, 0, 0, 'Alarcon J. (Per)', 'Estadio Miguel Grau (Callao)', 'Villegas H. (Per)', 'Cartagena J. (Per)', 0, 0, 0, 0, 0, 0, 0, 0, 0, 0, 'Huaman D. (Per)', 'Perez R. B. (Per)', 'Seminario L. (Per)', 'Mendoza J. (Per)', 0, 0, 0, 0, 0, 0, 0, 0, 0, 0, 'Alarcon J. (Per)', 'Zamora J. (Per)', 'Espinoza J. (Per)', 0, 0, 0, 0, 0, 0, 0, 0, 0, 0, 0, 'Palomino M. (Per)', 'Legario F. (Per)', 'Espinoza J. (Per)', 'Estadio Huancayo (Huancayo)', 0, 0, 0, 0, 0, 0, 0, 0, 0, 0, 'Perez R. B. (Per)', 'Lopez R. (Per)', 'Ordonez E. (Per)', 'Espinoza J. (Per)', 0, 0, 0, 0, 0, 0, 0, 0, 0, 0, 0, 0, 0, 0, 0, 0, 0, 0, 0]\n",
      "\n"
     ]
    },
    {
     "name": "stderr",
     "output_type": "stream",
     "text": [
      "[WDM] - ====== WebDriver manager ======\n"
     ]
    },
    {
     "name": "stdout",
     "output_type": "stream",
     "text": [
      "Termino 199\n",
      "['Perez R. B. (Per)', 'Quiroz J. C. (Per)', 'Villegas H. (Per)', 'Lozano S. (Per)', 0, 0, 0, 0, 0, 0, 0, 0, 0, 0, 'Cartagena J. (Per)', 'Villegas H. (Per)', 'Cori V. (Per)', 'Villanueva A. (Per)', 0, 0, 0, 0, 0, 0, 0, 0, 0, 0, 'Espinoza M. (Per)', 'Ordonez E. (Per)', 'Quiroz J. C. (Per)', 'Alarcon J. (Per)', 0, 0, 0, 0, 0, 0, 0, 0, 0, 0, 'Garay Evia L. (Per)', 'Lozano S. (Per)', 'Huaman D. (Per)', 'Vasquez B. (Per)', 0, 0, 0, 0, 0, 0, 0, 0, 0, 0, 'Alarcon J. (Per)', 'Ciriaco L. (Per)', 'Lozano C. (Arg)', 'Alarcon J. (Per)', 0, 0, 0, 0, 0, 0, 0, 0, 0, 0, 'Ureta D. (Per)', 'Garay L. (Per)', 'Quiroz J. (Per)', 'Estadio Inca Garcilaso de la Vega (Cusco)', 0, 0, 0, 0, 0, 0, 0, 0, 0, 0, 'Estadio San Martin de Porres (Lima)', 'Alarcon J. (Per)', 'Perez R. B. (Per)', 0, 0, 0, 0, 0, 0, 0, 0, 0, 0, 0, 'Alarcon J. (Per)', 'Ortega K. (Per)', 'Ureta D. (Per)', 'Seminario L. (Per)', 0, 0, 0, 0, 0, 0, 0, 0, 0, 0, 'Legario F. (Per)', 'Barbagelatta G. (Per)', 'Cartagena J. (Per)', 'Villegas H. (Per)', 0, 0, 0, 0, 0, 0, 0, 0, 0, 0, 'Espinoza J. (Per)', 'Seminario L. (Per)', 'Villegas H. (Per)', 'Ortega K. (Arg)', 0, 0, 0, 0, 0, 0, 0, 0, 0, 0, 'Alarcon J. (Per)', 'Estadio Miguel Grau (Callao)', 'Villegas H. (Per)', 'Cartagena J. (Per)', 0, 0, 0, 0, 0, 0, 0, 0, 0, 0, 'Huaman D. (Per)', 'Perez R. B. (Per)', 'Seminario L. (Per)', 'Mendoza J. (Per)', 0, 0, 0, 0, 0, 0, 0, 0, 0, 0, 'Alarcon J. (Per)', 'Zamora J. (Per)', 'Espinoza J. (Per)', 0, 0, 0, 0, 0, 0, 0, 0, 0, 0, 0, 'Palomino M. (Per)', 'Legario F. (Per)', 'Espinoza J. (Per)', 'Estadio Huancayo (Huancayo)', 0, 0, 0, 0, 0, 0, 0, 0, 0, 0, 'Perez R. B. (Per)', 'Lopez R. (Per)', 'Ordonez E. (Per)', 'Espinoza J. (Per)', 0, 0, 0, 0, 0, 0, 0, 0, 0, 0, 0, 0, 0, 0, 0, 0, 0, 0, 0]\n",
      "\n"
     ]
    },
    {
     "name": "stderr",
     "output_type": "stream",
     "text": [
      "[WDM] - ====== WebDriver manager ======\n",
      "[WDM] - Current google-chrome version is 104.0.5112\n",
      "[WDM] - Get LATEST chromedriver version for 104.0.5112 google-chrome\n"
     ]
    },
    {
     "name": "stdout",
     "output_type": "stream",
     "text": [
      "Termino 86\n",
      "['Perez R. B. (Per)', 'Quiroz J. C. (Per)', 'Villegas H. (Per)', 'Lozano S. (Per)', 0, 0, 0, 0, 0, 0, 0, 0, 0, 0, 'Cartagena J. (Per)', 'Villegas H. (Per)', 'Cori V. (Per)', 'Villanueva A. (Per)', 0, 0, 0, 0, 0, 0, 0, 0, 0, 0, 'Espinoza M. (Per)', 'Ordonez E. (Per)', 'Quiroz J. C. (Per)', 'Alarcon J. (Per)', 0, 0, 0, 0, 0, 0, 0, 0, 0, 0, 'Garay Evia L. (Per)', 'Lozano S. (Per)', 'Huaman D. (Per)', 'Vasquez B. (Per)', 0, 0, 0, 0, 0, 0, 0, 0, 0, 0, 'Alarcon J. (Per)', 'Ciriaco L. (Per)', 'Lozano C. (Arg)', 'Alarcon J. (Per)', 0, 0, 0, 0, 0, 0, 0, 0, 0, 0, 'Ureta D. (Per)', 'Garay L. (Per)', 'Quiroz J. (Per)', 'Estadio Inca Garcilaso de la Vega (Cusco)', 0, 0, 0, 0, 0, 0, 0, 0, 0, 0, 'Estadio San Martin de Porres (Lima)', 'Alarcon J. (Per)', 'Perez R. B. (Per)', 0, 0, 0, 0, 0, 0, 0, 0, 0, 0, 0, 'Alarcon J. (Per)', 'Ortega K. (Per)', 'Ureta D. (Per)', 'Seminario L. (Per)', 0, 0, 0, 0, 0, 0, 0, 0, 0, 0, 'Legario F. (Per)', 'Barbagelatta G. (Per)', 'Cartagena J. (Per)', 'Villegas H. (Per)', 0, 0, 0, 0, 0, 0, 0, 0, 0, 0, 'Espinoza J. (Per)', 'Seminario L. (Per)', 'Villegas H. (Per)', 'Ortega K. (Arg)', 0, 0, 0, 0, 0, 0, 0, 0, 0, 0, 'Alarcon J. (Per)', 'Estadio Miguel Grau (Callao)', 'Villegas H. (Per)', 'Cartagena J. (Per)', 0, 0, 0, 0, 0, 0, 0, 0, 0, 0, 'Huaman D. (Per)', 'Perez R. B. (Per)', 'Seminario L. (Per)', 'Mendoza J. (Per)', 0, 0, 0, 0, 0, 0, 0, 0, 0, 0, 'Alarcon J. (Per)', 'Zamora J. (Per)', 'Espinoza J. (Per)', 0, 0, 0, 0, 0, 0, 0, 0, 0, 0, 0, 'Palomino M. (Per)', 'Legario F. (Per)', 'Espinoza J. (Per)', 'Estadio Huancayo (Huancayo)', 0, 0, 0, 0, 0, 0, 0, 0, 0, 0, 'Perez R. B. (Per)', 'Lopez R. (Per)', 'Ordonez E. (Per)', 'Espinoza J. (Per)', 0, 0, 0, 0, 0, 0, 0, 0, 0, 0, 0, 0, 0, 0, 0, 0, 0, 0, 0]\n",
      "\n"
     ]
    },
    {
     "name": "stderr",
     "output_type": "stream",
     "text": [
      "[WDM] - ====== WebDriver manager ======\n",
      "[WDM] - Current google-chrome version is 104.0.5112\n",
      "[WDM] - Get LATEST chromedriver version for 104.0.5112 google-chrome\n",
      "[WDM] - Driver [C:\\Users\\PC-1\\.wdm\\drivers\\chromedriver\\win32\\104.0.5112.79\\chromedriver.exe] found in cache\n"
     ]
    },
    {
     "name": "stdout",
     "output_type": "stream",
     "text": [
      "Termino 170\n",
      "['Perez R. B. (Per)', 'Quiroz J. C. (Per)', 'Villegas H. (Per)', 'Lozano S. (Per)', 0, 0, 0, 0, 0, 0, 0, 0, 0, 0, 'Cartagena J. (Per)', 'Villegas H. (Per)', 'Cori V. (Per)', 'Villanueva A. (Per)', 0, 0, 0, 0, 0, 0, 0, 0, 0, 0, 'Espinoza M. (Per)', 'Ordonez E. (Per)', 'Quiroz J. C. (Per)', 'Alarcon J. (Per)', 0, 0, 0, 0, 0, 0, 0, 0, 0, 0, 'Garay Evia L. (Per)', 'Lozano S. (Per)', 'Huaman D. (Per)', 'Vasquez B. (Per)', 0, 0, 0, 0, 0, 0, 0, 0, 0, 0, 'Alarcon J. (Per)', 'Ciriaco L. (Per)', 'Lozano C. (Arg)', 'Alarcon J. (Per)', 0, 0, 0, 0, 0, 0, 0, 0, 0, 0, 'Ureta D. (Per)', 'Garay L. (Per)', 'Quiroz J. (Per)', 'Estadio Inca Garcilaso de la Vega (Cusco)', 0, 0, 0, 0, 0, 0, 0, 0, 0, 0, 'Estadio San Martin de Porres (Lima)', 'Alarcon J. (Per)', 'Perez R. B. (Per)', 0, 0, 0, 0, 0, 0, 0, 0, 0, 0, 0, 'Alarcon J. (Per)', 'Ortega K. (Per)', 'Ureta D. (Per)', 'Seminario L. (Per)', 0, 0, 0, 0, 0, 0, 0, 0, 0, 0, 'Legario F. (Per)', 'Barbagelatta G. (Per)', 'Cartagena J. (Per)', 'Villegas H. (Per)', 0, 0, 0, 0, 0, 0, 0, 0, 0, 0, 'Espinoza J. (Per)', 'Seminario L. (Per)', 'Villegas H. (Per)', 'Ortega K. (Arg)', 0, 0, 0, 0, 0, 0, 0, 0, 0, 0, 'Alarcon J. (Per)', 'Estadio Miguel Grau (Callao)', 'Villegas H. (Per)', 'Cartagena J. (Per)', 0, 0, 0, 0, 0, 0, 0, 0, 0, 0, 'Huaman D. (Per)', 'Perez R. B. (Per)', 'Seminario L. (Per)', 'Mendoza J. (Per)', 0, 0, 0, 0, 0, 0, 0, 0, 0, 0, 'Alarcon J. (Per)', 'Zamora J. (Per)', 'Espinoza J. (Per)', 0, 0, 0, 0, 0, 0, 0, 0, 0, 0, 0, 'Palomino M. (Per)', 'Legario F. (Per)', 'Espinoza J. (Per)', 'Estadio Huancayo (Huancayo)', 0, 0, 0, 0, 0, 0, 0, 0, 0, 0, 'Perez R. B. (Per)', 'Lopez R. (Per)', 'Ordonez E. (Per)', 'Espinoza J. (Per)', 0, 0, 0, 0, 0, 0, 0, 0, 0, 0, 0, 0, 0, 0, 0, 0, 0, 0, 0]\n",
      "\n"
     ]
    },
    {
     "name": "stderr",
     "output_type": "stream",
     "text": [
      "[WDM] - ====== WebDriver manager ======\n",
      "[WDM] - Driver [C:\\Users\\PC-1\\.wdm\\drivers\\chromedriver\\win32\\104.0.5112.79\\chromedriver.exe] found in cache\n",
      "[WDM] - Current google-chrome version is 104.0.5112\n",
      "[WDM] - Get LATEST chromedriver version for 104.0.5112 google-chrome\n",
      "[WDM] - Driver [C:\\Users\\PC-1\\.wdm\\drivers\\chromedriver\\win32\\104.0.5112.79\\chromedriver.exe] found in cache\n",
      "[WDM] - Current google-chrome version is 104.0.5112\n",
      "[WDM] - Get LATEST chromedriver version for 104.0.5112 google-chrome\n",
      "[WDM] - Driver [C:\\Users\\PC-1\\.wdm\\drivers\\chromedriver\\win32\\104.0.5112.79\\chromedriver.exe] found in cache\n"
     ]
    },
    {
     "name": "stdout",
     "output_type": "stream",
     "text": [
      "Termino 157\n",
      "['Perez R. B. (Per)', 'Quiroz J. C. (Per)', 'Villegas H. (Per)', 'Lozano S. (Per)', 0, 0, 0, 0, 0, 0, 0, 0, 0, 0, 'Cartagena J. (Per)', 'Villegas H. (Per)', 'Cori V. (Per)', 'Villanueva A. (Per)', 0, 0, 0, 0, 0, 0, 0, 0, 0, 0, 'Espinoza M. (Per)', 'Ordonez E. (Per)', 'Quiroz J. C. (Per)', 'Alarcon J. (Per)', 0, 0, 0, 0, 0, 0, 0, 0, 0, 0, 'Garay Evia L. (Per)', 'Lozano S. (Per)', 'Huaman D. (Per)', 'Vasquez B. (Per)', 0, 0, 0, 0, 0, 0, 0, 0, 0, 0, 'Alarcon J. (Per)', 'Ciriaco L. (Per)', 'Lozano C. (Arg)', 'Alarcon J. (Per)', 0, 0, 0, 0, 0, 0, 0, 0, 0, 0, 'Ureta D. (Per)', 'Garay L. (Per)', 'Quiroz J. (Per)', 'Estadio Inca Garcilaso de la Vega (Cusco)', 0, 0, 0, 0, 0, 0, 0, 0, 0, 0, 'Estadio San Martin de Porres (Lima)', 'Alarcon J. (Per)', 'Perez R. B. (Per)', 0, 0, 0, 0, 0, 0, 0, 0, 0, 0, 0, 'Alarcon J. (Per)', 'Ortega K. (Per)', 'Ureta D. (Per)', 'Seminario L. (Per)', 0, 0, 0, 0, 0, 0, 0, 0, 0, 0, 'Legario F. (Per)', 'Barbagelatta G. (Per)', 'Cartagena J. (Per)', 'Villegas H. (Per)', 0, 0, 0, 0, 0, 0, 0, 0, 0, 0, 'Espinoza J. (Per)', 'Seminario L. (Per)', 'Villegas H. (Per)', 'Ortega K. (Arg)', 0, 0, 0, 0, 0, 0, 0, 0, 0, 0, 'Alarcon J. (Per)', 'Estadio Miguel Grau (Callao)', 'Villegas H. (Per)', 'Cartagena J. (Per)', 0, 0, 0, 0, 0, 0, 0, 0, 0, 0, 'Huaman D. (Per)', 'Perez R. B. (Per)', 'Seminario L. (Per)', 'Mendoza J. (Per)', 0, 0, 0, 0, 0, 0, 0, 0, 0, 0, 'Alarcon J. (Per)', 'Zamora J. (Per)', 'Espinoza J. (Per)', 0, 0, 0, 0, 0, 0, 0, 0, 0, 0, 0, 'Palomino M. (Per)', 'Legario F. (Per)', 'Espinoza J. (Per)', 'Estadio Huancayo (Huancayo)', 0, 0, 0, 0, 0, 0, 0, 0, 0, 0, 'Perez R. B. (Per)', 'Lopez R. (Per)', 'Ordonez E. (Per)', 'Espinoza J. (Per)', 0, 0, 0, 0, 0, 0, 0, 0, 0, 0, 0, 0, 0, 0, 0, 0, 0, 0, 0]\n",
      "\n"
     ]
    },
    {
     "name": "stderr",
     "output_type": "stream",
     "text": [
      "[WDM] - ====== WebDriver manager ======\n"
     ]
    },
    {
     "name": "stdout",
     "output_type": "stream",
     "text": [
      "Termino 115\n",
      "['Perez R. B. (Per)', 'Quiroz J. C. (Per)', 'Villegas H. (Per)', 'Lozano S. (Per)', 0, 0, 0, 0, 0, 0, 0, 0, 0, 0, 'Cartagena J. (Per)', 'Villegas H. (Per)', 'Cori V. (Per)', 'Villanueva A. (Per)', 0, 0, 0, 0, 0, 0, 0, 0, 0, 0, 'Espinoza M. (Per)', 'Ordonez E. (Per)', 'Quiroz J. C. (Per)', 'Alarcon J. (Per)', 0, 0, 0, 0, 0, 0, 0, 0, 0, 0, 'Garay Evia L. (Per)', 'Lozano S. (Per)', 'Huaman D. (Per)', 'Vasquez B. (Per)', 0, 0, 0, 0, 0, 0, 0, 0, 0, 0, 'Alarcon J. (Per)', 'Ciriaco L. (Per)', 'Lozano C. (Arg)', 'Alarcon J. (Per)', 0, 0, 0, 0, 0, 0, 0, 0, 0, 0, 'Ureta D. (Per)', 'Garay L. (Per)', 'Quiroz J. (Per)', 'Estadio Inca Garcilaso de la Vega (Cusco)', 0, 0, 0, 0, 0, 0, 0, 0, 0, 0, 'Estadio San Martin de Porres (Lima)', 'Alarcon J. (Per)', 'Perez R. B. (Per)', 0, 0, 0, 0, 0, 0, 0, 0, 0, 0, 0, 'Alarcon J. (Per)', 'Ortega K. (Per)', 'Ureta D. (Per)', 'Seminario L. (Per)', 0, 0, 0, 0, 0, 0, 0, 0, 0, 0, 'Legario F. (Per)', 'Barbagelatta G. (Per)', 'Cartagena J. (Per)', 'Villegas H. (Per)', 0, 0, 0, 0, 0, 0, 0, 0, 0, 0, 'Espinoza J. (Per)', 'Seminario L. (Per)', 'Villegas H. (Per)', 'Ortega K. (Arg)', 0, 0, 0, 0, 0, 0, 0, 0, 0, 0, 'Alarcon J. (Per)', 'Estadio Miguel Grau (Callao)', 'Villegas H. (Per)', 'Cartagena J. (Per)', 0, 0, 0, 0, 0, 0, 0, 0, 0, 0, 'Huaman D. (Per)', 'Perez R. B. (Per)', 'Seminario L. (Per)', 'Mendoza J. (Per)', 0, 0, 0, 0, 0, 0, 0, 0, 0, 0, 'Alarcon J. (Per)', 'Zamora J. (Per)', 'Espinoza J. (Per)', 0, 0, 0, 0, 0, 0, 0, 0, 0, 0, 0, 'Palomino M. (Per)', 'Legario F. (Per)', 'Espinoza J. (Per)', 'Estadio Huancayo (Huancayo)', 0, 0, 0, 0, 0, 0, 0, 0, 0, 0, 'Perez R. B. (Per)', 'Lopez R. (Per)', 'Ordonez E. (Per)', 'Espinoza J. (Per)', 0, 0, 0, 0, 0, 0, 0, 0, 0, 0, 0, 0, 0, 0, 0, 0, 0, 0, 0]\n",
      "\n"
     ]
    },
    {
     "name": "stderr",
     "output_type": "stream",
     "text": [
      "[WDM] - ====== WebDriver manager ======\n",
      "[WDM] - Current google-chrome version is 104.0.5112\n",
      "[WDM] - Get LATEST chromedriver version for 104.0.5112 google-chrome\n",
      "[WDM] - Driver [C:\\Users\\PC-1\\.wdm\\drivers\\chromedriver\\win32\\104.0.5112.79\\chromedriver.exe] found in cache\n",
      "[WDM] - Current google-chrome version is 104.0.5112\n",
      "[WDM] - Get LATEST chromedriver version for 104.0.5112 google-chrome\n",
      "[WDM] - Driver [C:\\Users\\PC-1\\.wdm\\drivers\\chromedriver\\win32\\104.0.5112.79\\chromedriver.exe] found in cache\n"
     ]
    },
    {
     "name": "stdout",
     "output_type": "stream",
     "text": [
      "Termino 129\n",
      "['Perez R. B. (Per)', 'Quiroz J. C. (Per)', 'Villegas H. (Per)', 'Lozano S. (Per)', 0, 0, 0, 0, 0, 0, 0, 0, 0, 0, 'Cartagena J. (Per)', 'Villegas H. (Per)', 'Cori V. (Per)', 'Villanueva A. (Per)', 0, 0, 0, 0, 0, 0, 0, 0, 0, 0, 'Espinoza M. (Per)', 'Ordonez E. (Per)', 'Quiroz J. C. (Per)', 'Alarcon J. (Per)', 0, 0, 0, 0, 0, 0, 0, 0, 0, 0, 'Garay Evia L. (Per)', 'Lozano S. (Per)', 'Huaman D. (Per)', 'Vasquez B. (Per)', 0, 0, 0, 0, 0, 0, 0, 0, 0, 0, 'Alarcon J. (Per)', 'Ciriaco L. (Per)', 'Lozano C. (Arg)', 'Alarcon J. (Per)', 0, 0, 0, 0, 0, 0, 0, 0, 0, 0, 'Ureta D. (Per)', 'Garay L. (Per)', 'Quiroz J. (Per)', 'Estadio Inca Garcilaso de la Vega (Cusco)', 0, 0, 0, 0, 0, 0, 0, 0, 0, 0, 'Estadio San Martin de Porres (Lima)', 'Alarcon J. (Per)', 'Perez R. B. (Per)', 0, 0, 0, 0, 0, 0, 0, 0, 0, 0, 0, 'Alarcon J. (Per)', 'Ortega K. (Per)', 'Ureta D. (Per)', 'Seminario L. (Per)', 0, 0, 0, 0, 0, 0, 0, 0, 0, 0, 'Legario F. (Per)', 'Barbagelatta G. (Per)', 'Cartagena J. (Per)', 'Villegas H. (Per)', 0, 0, 0, 0, 0, 0, 0, 0, 0, 0, 'Espinoza J. (Per)', 'Seminario L. (Per)', 'Villegas H. (Per)', 'Ortega K. (Arg)', 0, 0, 0, 0, 0, 0, 0, 0, 0, 0, 'Alarcon J. (Per)', 'Estadio Miguel Grau (Callao)', 'Villegas H. (Per)', 'Cartagena J. (Per)', 0, 0, 0, 0, 0, 0, 0, 0, 0, 0, 'Huaman D. (Per)', 'Perez R. B. (Per)', 'Seminario L. (Per)', 'Mendoza J. (Per)', 0, 0, 0, 0, 0, 0, 0, 0, 0, 0, 'Alarcon J. (Per)', 'Zamora J. (Per)', 'Espinoza J. (Per)', 0, 0, 0, 0, 0, 0, 0, 0, 0, 0, 0, 'Palomino M. (Per)', 'Legario F. (Per)', 'Espinoza J. (Per)', 'Estadio Huancayo (Huancayo)', 0, 0, 0, 0, 0, 0, 0, 0, 0, 0, 'Perez R. B. (Per)', 'Lopez R. (Per)', 'Ordonez E. (Per)', 'Espinoza J. (Per)', 0, 0, 0, 0, 0, 0, 0, 0, 0, 0, 0, 0, 0, 0, 0, 0, 0, 0, 0]\n",
      "\n"
     ]
    },
    {
     "name": "stderr",
     "output_type": "stream",
     "text": [
      "[WDM] - ====== WebDriver manager ======\n"
     ]
    },
    {
     "name": "stdout",
     "output_type": "stream",
     "text": [
      "Termino 143\n",
      "['Perez R. B. (Per)', 'Quiroz J. C. (Per)', 'Villegas H. (Per)', 'Lozano S. (Per)', 0, 0, 0, 0, 0, 0, 0, 0, 0, 0, 'Cartagena J. (Per)', 'Villegas H. (Per)', 'Cori V. (Per)', 'Villanueva A. (Per)', 0, 0, 0, 0, 0, 0, 0, 0, 0, 0, 'Espinoza M. (Per)', 'Ordonez E. (Per)', 'Quiroz J. C. (Per)', 'Alarcon J. (Per)', 0, 0, 0, 0, 0, 0, 0, 0, 0, 0, 'Garay Evia L. (Per)', 'Lozano S. (Per)', 'Huaman D. (Per)', 'Vasquez B. (Per)', 0, 0, 0, 0, 0, 0, 0, 0, 0, 0, 'Alarcon J. (Per)', 'Ciriaco L. (Per)', 'Lozano C. (Arg)', 'Alarcon J. (Per)', 0, 0, 0, 0, 0, 0, 0, 0, 0, 0, 'Ureta D. (Per)', 'Garay L. (Per)', 'Quiroz J. (Per)', 'Estadio Inca Garcilaso de la Vega (Cusco)', 0, 0, 0, 0, 0, 0, 0, 0, 0, 0, 'Estadio San Martin de Porres (Lima)', 'Alarcon J. (Per)', 'Perez R. B. (Per)', 0, 0, 0, 0, 0, 0, 0, 0, 0, 0, 0, 'Alarcon J. (Per)', 'Ortega K. (Per)', 'Ureta D. (Per)', 'Seminario L. (Per)', 0, 0, 0, 0, 0, 0, 0, 0, 0, 0, 'Legario F. (Per)', 'Barbagelatta G. (Per)', 'Cartagena J. (Per)', 'Villegas H. (Per)', 0, 0, 0, 0, 0, 0, 0, 0, 0, 0, 'Espinoza J. (Per)', 'Seminario L. (Per)', 'Villegas H. (Per)', 'Ortega K. (Arg)', 0, 0, 0, 0, 0, 0, 0, 0, 0, 0, 'Alarcon J. (Per)', 'Estadio Miguel Grau (Callao)', 'Villegas H. (Per)', 'Cartagena J. (Per)', 0, 0, 0, 0, 0, 0, 0, 0, 0, 0, 'Huaman D. (Per)', 'Perez R. B. (Per)', 'Seminario L. (Per)', 'Mendoza J. (Per)', 0, 0, 0, 0, 0, 0, 0, 0, 0, 0, 'Alarcon J. (Per)', 'Zamora J. (Per)', 'Espinoza J. (Per)', 0, 0, 0, 0, 0, 0, 0, 0, 0, 0, 0, 'Palomino M. (Per)', 'Legario F. (Per)', 'Espinoza J. (Per)', 'Estadio Huancayo (Huancayo)', 0, 0, 0, 0, 0, 0, 0, 0, 0, 0, 'Perez R. B. (Per)', 'Lopez R. (Per)', 'Ordonez E. (Per)', 'Espinoza J. (Per)', 0, 0, 0, 0, 0, 0, 0, 0, 0, 0, 0, 0, 0, 0, 0, 0, 0, 0, 0]\n",
      "\n"
     ]
    },
    {
     "name": "stderr",
     "output_type": "stream",
     "text": [
      "[WDM] - ====== WebDriver manager ======\n",
      "[WDM] - Current google-chrome version is 104.0.5112\n",
      "[WDM] - Get LATEST chromedriver version for 104.0.5112 google-chrome\n",
      "[WDM] - Driver [C:\\Users\\PC-1\\.wdm\\drivers\\chromedriver\\win32\\104.0.5112.79\\chromedriver.exe] found in cache\n",
      "[WDM] - Current google-chrome version is 104.0.5112\n",
      "[WDM] - Get LATEST chromedriver version for 104.0.5112 google-chrome\n",
      "[WDM] - Driver [C:\\Users\\PC-1\\.wdm\\drivers\\chromedriver\\win32\\104.0.5112.79\\chromedriver.exe] found in cache\n"
     ]
    },
    {
     "name": "stdout",
     "output_type": "stream",
     "text": [
      "Termino 73\n",
      "['Perez R. B. (Per)', 'Quiroz J. C. (Per)', 'Villegas H. (Per)', 'Lozano S. (Per)', 'Ortega K. (Per)', 0, 0, 0, 0, 0, 0, 0, 0, 0, 'Cartagena J. (Per)', 'Villegas H. (Per)', 'Cori V. (Per)', 'Villanueva A. (Per)', 0, 0, 0, 0, 0, 0, 0, 0, 0, 0, 'Espinoza M. (Per)', 'Ordonez E. (Per)', 'Quiroz J. C. (Per)', 'Alarcon J. (Per)', 0, 0, 0, 0, 0, 0, 0, 0, 0, 0, 'Garay Evia L. (Per)', 'Lozano S. (Per)', 'Huaman D. (Per)', 'Vasquez B. (Per)', 0, 0, 0, 0, 0, 0, 0, 0, 0, 0, 'Alarcon J. (Per)', 'Ciriaco L. (Per)', 'Lozano C. (Arg)', 'Alarcon J. (Per)', 0, 0, 0, 0, 0, 0, 0, 0, 0, 0, 'Ureta D. (Per)', 'Garay L. (Per)', 'Quiroz J. (Per)', 'Estadio Inca Garcilaso de la Vega (Cusco)', 0, 0, 0, 0, 0, 0, 0, 0, 0, 0, 'Estadio San Martin de Porres (Lima)', 'Alarcon J. (Per)', 'Perez R. B. (Per)', 0, 0, 0, 0, 0, 0, 0, 0, 0, 0, 0, 'Alarcon J. (Per)', 'Ortega K. (Per)', 'Ureta D. (Per)', 'Seminario L. (Per)', 0, 0, 0, 0, 0, 0, 0, 0, 0, 0, 'Legario F. (Per)', 'Barbagelatta G. (Per)', 'Cartagena J. (Per)', 'Villegas H. (Per)', 0, 0, 0, 0, 0, 0, 0, 0, 0, 0, 'Espinoza J. (Per)', 'Seminario L. (Per)', 'Villegas H. (Per)', 'Ortega K. (Arg)', 0, 0, 0, 0, 0, 0, 0, 0, 0, 0, 'Alarcon J. (Per)', 'Estadio Miguel Grau (Callao)', 'Villegas H. (Per)', 'Cartagena J. (Per)', 0, 0, 0, 0, 0, 0, 0, 0, 0, 0, 'Huaman D. (Per)', 'Perez R. B. (Per)', 'Seminario L. (Per)', 'Mendoza J. (Per)', 0, 0, 0, 0, 0, 0, 0, 0, 0, 0, 'Alarcon J. (Per)', 'Zamora J. (Per)', 'Espinoza J. (Per)', 0, 0, 0, 0, 0, 0, 0, 0, 0, 0, 0, 'Palomino M. (Per)', 'Legario F. (Per)', 'Espinoza J. (Per)', 'Estadio Huancayo (Huancayo)', 0, 0, 0, 0, 0, 0, 0, 0, 0, 0, 'Perez R. B. (Per)', 'Lopez R. (Per)', 'Ordonez E. (Per)', 'Espinoza J. (Per)', 0, 0, 0, 0, 0, 0, 0, 0, 0, 0, 0, 0, 0, 0, 0, 0, 0, 0, 0]\n",
      "\n"
     ]
    },
    {
     "name": "stderr",
     "output_type": "stream",
     "text": [
      "[WDM] - ====== WebDriver manager ======\n",
      "[WDM] - Current google-chrome version is 104.0.5112\n",
      "[WDM] - Get LATEST chromedriver version for 104.0.5112 google-chrome\n",
      "[WDM] - Driver [C:\\Users\\PC-1\\.wdm\\drivers\\chromedriver\\win32\\104.0.5112.79\\chromedriver.exe] found in cache\n"
     ]
    },
    {
     "name": "stdout",
     "output_type": "stream",
     "text": [
      "Termino 4\n",
      "['Perez R. B. (Per)', 'Quiroz J. C. (Per)', 'Villegas H. (Per)', 'Lozano S. (Per)', 'Ortega K. (Per)', 0, 0, 0, 0, 0, 0, 0, 0, 0, 'Cartagena J. (Per)', 'Villegas H. (Per)', 'Cori V. (Per)', 'Villanueva A. (Per)', 0, 0, 0, 0, 0, 0, 0, 0, 0, 0, 'Espinoza M. (Per)', 'Ordonez E. (Per)', 'Quiroz J. C. (Per)', 'Alarcon J. (Per)', 0, 0, 0, 0, 0, 0, 0, 0, 0, 0, 'Garay Evia L. (Per)', 'Lozano S. (Per)', 'Huaman D. (Per)', 'Vasquez B. (Per)', 0, 0, 0, 0, 0, 0, 0, 0, 0, 0, 'Alarcon J. (Per)', 'Ciriaco L. (Per)', 'Lozano C. (Arg)', 'Alarcon J. (Per)', 'Perez R. B. (Per)', 0, 0, 0, 0, 0, 0, 0, 0, 0, 'Ureta D. (Per)', 'Garay L. (Per)', 'Quiroz J. (Per)', 'Estadio Inca Garcilaso de la Vega (Cusco)', 0, 0, 0, 0, 0, 0, 0, 0, 0, 0, 'Estadio San Martin de Porres (Lima)', 'Alarcon J. (Per)', 'Perez R. B. (Per)', 0, 0, 0, 0, 0, 0, 0, 0, 0, 0, 0, 'Alarcon J. (Per)', 'Ortega K. (Per)', 'Ureta D. (Per)', 'Seminario L. (Per)', 0, 0, 0, 0, 0, 0, 0, 0, 0, 0, 'Legario F. (Per)', 'Barbagelatta G. (Per)', 'Cartagena J. (Per)', 'Villegas H. (Per)', 0, 0, 0, 0, 0, 0, 0, 0, 0, 0, 'Espinoza J. (Per)', 'Seminario L. (Per)', 'Villegas H. (Per)', 'Ortega K. (Arg)', 0, 0, 0, 0, 0, 0, 0, 0, 0, 0, 'Alarcon J. (Per)', 'Estadio Miguel Grau (Callao)', 'Villegas H. (Per)', 'Cartagena J. (Per)', 0, 0, 0, 0, 0, 0, 0, 0, 0, 0, 'Huaman D. (Per)', 'Perez R. B. (Per)', 'Seminario L. (Per)', 'Mendoza J. (Per)', 0, 0, 0, 0, 0, 0, 0, 0, 0, 0, 'Alarcon J. (Per)', 'Zamora J. (Per)', 'Espinoza J. (Per)', 0, 0, 0, 0, 0, 0, 0, 0, 0, 0, 0, 'Palomino M. (Per)', 'Legario F. (Per)', 'Espinoza J. (Per)', 'Estadio Huancayo (Huancayo)', 0, 0, 0, 0, 0, 0, 0, 0, 0, 0, 'Perez R. B. (Per)', 'Lopez R. (Per)', 'Ordonez E. (Per)', 'Espinoza J. (Per)', 0, 0, 0, 0, 0, 0, 0, 0, 0, 0, 0, 0, 0, 0, 0, 0, 0, 0, 0]\n",
      "\n"
     ]
    },
    {
     "name": "stderr",
     "output_type": "stream",
     "text": [
      "[WDM] - ====== WebDriver manager ======\n",
      "[WDM] - Current google-chrome version is 104.0.5112\n",
      "[WDM] - Get LATEST chromedriver version for 104.0.5112 google-chrome\n",
      "[WDM] - Driver [C:\\Users\\PC-1\\.wdm\\drivers\\chromedriver\\win32\\104.0.5112.79\\chromedriver.exe] found in cache\n"
     ]
    },
    {
     "name": "stdout",
     "output_type": "stream",
     "text": [
      "Termino 60\n",
      "['Perez R. B. (Per)', 'Quiroz J. C. (Per)', 'Villegas H. (Per)', 'Lozano S. (Per)', 'Ortega K. (Per)', 0, 0, 0, 0, 0, 0, 0, 0, 0, 'Cartagena J. (Per)', 'Villegas H. (Per)', 'Cori V. (Per)', 'Villanueva A. (Per)', 'Legario F. (Per)', 0, 0, 0, 0, 0, 0, 0, 0, 0, 'Espinoza M. (Per)', 'Ordonez E. (Per)', 'Quiroz J. C. (Per)', 'Alarcon J. (Per)', 'Perez R. B. (Per)', 0, 0, 0, 0, 0, 0, 0, 0, 0, 'Garay Evia L. (Per)', 'Lozano S. (Per)', 'Huaman D. (Per)', 'Vasquez B. (Per)', 'Legario F. (Per)', 0, 0, 0, 0, 0, 0, 0, 0, 0, 'Alarcon J. (Per)', 'Ciriaco L. (Per)', 'Lozano C. (Arg)', 'Alarcon J. (Per)', 'Perez R. B. (Per)', 0, 0, 0, 0, 0, 0, 0, 0, 0, 'Ureta D. (Per)', 'Garay L. (Per)', 'Quiroz J. (Per)', 'Estadio Inca Garcilaso de la Vega (Cusco)', 0, 0, 0, 0, 0, 0, 0, 0, 0, 0, 'Estadio San Martin de Porres (Lima)', 'Alarcon J. (Per)', 'Perez R. B. (Per)', 0, 0, 0, 0, 0, 0, 0, 0, 0, 0, 0, 'Alarcon J. (Per)', 'Ortega K. (Per)', 'Ureta D. (Per)', 'Seminario L. (Per)', 'Lozano Segado J. (Esp)', 0, 0, 0, 0, 0, 0, 0, 0, 0, 'Legario F. (Per)', 'Barbagelatta G. (Per)', 'Cartagena J. (Per)', 'Villegas H. (Per)', 'Huaman D. (Per)', 0, 0, 0, 0, 0, 0, 0, 0, 0, 'Espinoza J. (Per)', 'Seminario L. (Per)', 'Villegas H. (Per)', 'Ortega K. (Arg)', 0, 0, 0, 0, 0, 0, 0, 0, 0, 0, 'Alarcon J. (Per)', 'Estadio Miguel Grau (Callao)', 'Villegas H. (Per)', 'Cartagena J. (Per)', 0, 0, 0, 0, 0, 0, 0, 0, 0, 0, 'Huaman D. (Per)', 'Perez R. B. (Per)', 'Seminario L. (Per)', 'Mendoza J. (Per)', 'Alarcon J. (Per)', 0, 0, 0, 0, 0, 0, 0, 0, 0, 'Alarcon J. (Per)', 'Zamora J. (Per)', 'Espinoza J. (Per)', 'Seminario L. (Per)', 0, 0, 0, 0, 0, 0, 0, 0, 0, 0, 'Palomino M. (Per)', 'Legario F. (Per)', 'Espinoza J. (Per)', 'Estadio Huancayo (Huancayo)', 0, 0, 0, 0, 0, 0, 0, 0, 0, 0, 'Perez R. B. (Per)', 'Lopez R. (Per)', 'Ordonez E. (Per)', 'Espinoza J. (Per)', 'Huaman D. (Per)', 0, 0, 0, 0, 0, 0, 0, 0, 0, 0, 0, 0, 0, 0, 0, 0, 0, 0]\n",
      "\n"
     ]
    },
    {
     "name": "stderr",
     "output_type": "stream",
     "text": [
      "[WDM] - ====== WebDriver manager ======\n"
     ]
    },
    {
     "name": "stdout",
     "output_type": "stream",
     "text": [
      "Termino 18\n",
      "['Perez R. B. (Per)', 'Quiroz J. C. (Per)', 'Villegas H. (Per)', 'Lozano S. (Per)', 'Ortega K. (Per)', 0, 0, 0, 0, 0, 0, 0, 0, 0, 'Cartagena J. (Per)', 'Villegas H. (Per)', 'Cori V. (Per)', 'Villanueva A. (Per)', 'Legario F. (Per)', 0, 0, 0, 0, 0, 0, 0, 0, 0, 'Espinoza M. (Per)', 'Ordonez E. (Per)', 'Quiroz J. C. (Per)', 'Alarcon J. (Per)', 'Perez R. B. (Per)', 0, 0, 0, 0, 0, 0, 0, 0, 0, 'Garay Evia L. (Per)', 'Lozano S. (Per)', 'Huaman D. (Per)', 'Vasquez B. (Per)', 'Legario F. (Per)', 0, 0, 0, 0, 0, 0, 0, 0, 0, 'Alarcon J. (Per)', 'Ciriaco L. (Per)', 'Lozano C. (Arg)', 'Alarcon J. (Per)', 'Perez R. B. (Per)', 0, 0, 0, 0, 0, 0, 0, 0, 0, 'Ureta D. (Per)', 'Garay L. (Per)', 'Quiroz J. (Per)', 'Estadio Inca Garcilaso de la Vega (Cusco)', 0, 0, 0, 0, 0, 0, 0, 0, 0, 0, 'Estadio San Martin de Porres (Lima)', 'Alarcon J. (Per)', 'Perez R. B. (Per)', 0, 0, 0, 0, 0, 0, 0, 0, 0, 0, 0, 'Alarcon J. (Per)', 'Ortega K. (Per)', 'Ureta D. (Per)', 'Seminario L. (Per)', 'Lozano Segado J. (Esp)', 0, 0, 0, 0, 0, 0, 0, 0, 0, 'Legario F. (Per)', 'Barbagelatta G. (Per)', 'Cartagena J. (Per)', 'Villegas H. (Per)', 'Huaman D. (Per)', 0, 0, 0, 0, 0, 0, 0, 0, 0, 'Espinoza J. (Per)', 'Seminario L. (Per)', 'Villegas H. (Per)', 'Ortega K. (Arg)', 0, 0, 0, 0, 0, 0, 0, 0, 0, 0, 'Alarcon J. (Per)', 'Estadio Miguel Grau (Callao)', 'Villegas H. (Per)', 'Cartagena J. (Per)', 0, 0, 0, 0, 0, 0, 0, 0, 0, 0, 'Huaman D. (Per)', 'Perez R. B. (Per)', 'Seminario L. (Per)', 'Mendoza J. (Per)', 'Alarcon J. (Per)', 0, 0, 0, 0, 0, 0, 0, 0, 0, 'Alarcon J. (Per)', 'Zamora J. (Per)', 'Espinoza J. (Per)', 'Seminario L. (Per)', 0, 0, 0, 0, 0, 0, 0, 0, 0, 0, 'Palomino M. (Per)', 'Legario F. (Per)', 'Espinoza J. (Per)', 'Estadio Huancayo (Huancayo)', 0, 0, 0, 0, 0, 0, 0, 0, 0, 0, 'Perez R. B. (Per)', 'Lopez R. (Per)', 'Ordonez E. (Per)', 'Espinoza J. (Per)', 'Huaman D. (Per)', 0, 0, 0, 0, 0, 0, 0, 0, 0, 0, 0, 0, 0, 0, 0, 0, 0, 0]\n",
      "\n"
     ]
    },
    {
     "name": "stderr",
     "output_type": "stream",
     "text": [
      "[WDM] - ====== WebDriver manager ======\n",
      "[WDM] - Current google-chrome version is 104.0.5112\n",
      "[WDM] - Get LATEST chromedriver version for 104.0.5112 google-chrome\n"
     ]
    },
    {
     "name": "stdout",
     "output_type": "stream",
     "text": [
      "Termino 102\n",
      "['Perez R. B. (Per)', 'Quiroz J. C. (Per)', 'Villegas H. (Per)', 'Lozano S. (Per)', 'Ortega K. (Per)', 0, 0, 0, 0, 0, 0, 0, 0, 0, 'Cartagena J. (Per)', 'Villegas H. (Per)', 'Cori V. (Per)', 'Villanueva A. (Per)', 'Legario F. (Per)', 0, 0, 0, 0, 0, 0, 0, 0, 0, 'Espinoza M. (Per)', 'Ordonez E. (Per)', 'Quiroz J. C. (Per)', 'Alarcon J. (Per)', 'Perez R. B. (Per)', 0, 0, 0, 0, 0, 0, 0, 0, 0, 'Garay Evia L. (Per)', 'Lozano S. (Per)', 'Huaman D. (Per)', 'Vasquez B. (Per)', 'Legario F. (Per)', 0, 0, 0, 0, 0, 0, 0, 0, 0, 'Alarcon J. (Per)', 'Ciriaco L. (Per)', 'Lozano C. (Arg)', 'Alarcon J. (Per)', 'Perez R. B. (Per)', 0, 0, 0, 0, 0, 0, 0, 0, 0, 'Ureta D. (Per)', 'Garay L. (Per)', 'Quiroz J. (Per)', 'Estadio Inca Garcilaso de la Vega (Cusco)', 0, 0, 0, 0, 0, 0, 0, 0, 0, 0, 'Estadio San Martin de Porres (Lima)', 'Alarcon J. (Per)', 'Perez R. B. (Per)', 0, 0, 0, 0, 0, 0, 0, 0, 0, 0, 0, 'Alarcon J. (Per)', 'Ortega K. (Per)', 'Ureta D. (Per)', 'Seminario L. (Per)', 'Lozano Segado J. (Esp)', 0, 0, 0, 0, 0, 0, 0, 0, 0, 'Legario F. (Per)', 'Barbagelatta G. (Per)', 'Cartagena J. (Per)', 'Villegas H. (Per)', 'Huaman D. (Per)', 0, 0, 0, 0, 0, 0, 0, 0, 0, 'Espinoza J. (Per)', 'Seminario L. (Per)', 'Villegas H. (Per)', 'Ortega K. (Arg)', 0, 0, 0, 0, 0, 0, 0, 0, 0, 0, 'Alarcon J. (Per)', 'Estadio Miguel Grau (Callao)', 'Villegas H. (Per)', 'Cartagena J. (Per)', 0, 0, 0, 0, 0, 0, 0, 0, 0, 0, 'Huaman D. (Per)', 'Perez R. B. (Per)', 'Seminario L. (Per)', 'Mendoza J. (Per)', 'Alarcon J. (Per)', 0, 0, 0, 0, 0, 0, 0, 0, 0, 'Alarcon J. (Per)', 'Zamora J. (Per)', 'Espinoza J. (Per)', 'Seminario L. (Per)', 0, 0, 0, 0, 0, 0, 0, 0, 0, 0, 'Palomino M. (Per)', 'Legario F. (Per)', 'Espinoza J. (Per)', 'Estadio Huancayo (Huancayo)', 0, 0, 0, 0, 0, 0, 0, 0, 0, 0, 'Perez R. B. (Per)', 'Lopez R. (Per)', 'Ordonez E. (Per)', 'Espinoza J. (Per)', 'Huaman D. (Per)', 0, 0, 0, 0, 0, 0, 0, 0, 0, 0, 0, 0, 0, 0, 0, 0, 0, 0]\n",
      "\n"
     ]
    },
    {
     "name": "stderr",
     "output_type": "stream",
     "text": [
      "[WDM] - ====== WebDriver manager ======\n",
      "[WDM] - Driver [C:\\Users\\PC-1\\.wdm\\drivers\\chromedriver\\win32\\104.0.5112.79\\chromedriver.exe] found in cache\n",
      "[WDM] - Current google-chrome version is 104.0.5112\n",
      "[WDM] - Get LATEST chromedriver version for 104.0.5112 google-chrome\n",
      "[WDM] - Driver [C:\\Users\\PC-1\\.wdm\\drivers\\chromedriver\\win32\\104.0.5112.79\\chromedriver.exe] found in cache\n",
      "[WDM] - Current google-chrome version is 104.0.5112\n",
      "[WDM] - Get LATEST chromedriver version for 104.0.5112 google-chrome\n",
      "[WDM] - Driver [C:\\Users\\PC-1\\.wdm\\drivers\\chromedriver\\win32\\104.0.5112.79\\chromedriver.exe] found in cache\n",
      "[WDM] - Current google-chrome version is 104.0.5112\n",
      "[WDM] - Get LATEST chromedriver version for 104.0.5112 google-chrome\n",
      "[WDM] - Driver [C:\\Users\\PC-1\\.wdm\\drivers\\chromedriver\\win32\\104.0.5112.79\\chromedriver.exe] found in cache\n"
     ]
    },
    {
     "name": "stdout",
     "output_type": "stream",
     "text": [
      "Termino 158\n",
      "['Perez R. B. (Per)', 'Quiroz J. C. (Per)', 'Villegas H. (Per)', 'Lozano S. (Per)', 'Ortega K. (Per)', 0, 0, 0, 0, 0, 0, 0, 0, 0, 'Cartagena J. (Per)', 'Villegas H. (Per)', 'Cori V. (Per)', 'Villanueva A. (Per)', 'Legario F. (Per)', 0, 0, 0, 0, 0, 0, 0, 0, 0, 'Espinoza M. (Per)', 'Ordonez E. (Per)', 'Quiroz J. C. (Per)', 'Alarcon J. (Per)', 'Perez R. B. (Per)', 0, 0, 0, 0, 0, 0, 0, 0, 0, 'Garay Evia L. (Per)', 'Lozano S. (Per)', 'Huaman D. (Per)', 'Vasquez B. (Per)', 'Legario F. (Per)', 0, 0, 0, 0, 0, 0, 0, 0, 0, 'Alarcon J. (Per)', 'Ciriaco L. (Per)', 'Lozano C. (Arg)', 'Alarcon J. (Per)', 'Perez R. B. (Per)', 0, 0, 0, 0, 0, 0, 0, 0, 0, 'Ureta D. (Per)', 'Garay L. (Per)', 'Quiroz J. (Per)', 'Estadio Inca Garcilaso de la Vega (Cusco)', 'Estadio Iván Elías Moreno (Lima)', 0, 0, 0, 0, 0, 0, 0, 0, 0, 'Estadio San Martin de Porres (Lima)', 'Alarcon J. (Per)', 'Perez R. B. (Per)', 0, 0, 0, 0, 0, 0, 0, 0, 0, 0, 0, 'Alarcon J. (Per)', 'Ortega K. (Per)', 'Ureta D. (Per)', 'Seminario L. (Per)', 'Lozano Segado J. (Esp)', 0, 0, 0, 0, 0, 0, 0, 0, 0, 'Legario F. (Per)', 'Barbagelatta G. (Per)', 'Cartagena J. (Per)', 'Villegas H. (Per)', 'Huaman D. (Per)', 0, 0, 0, 0, 0, 0, 0, 0, 0, 'Espinoza J. (Per)', 'Seminario L. (Per)', 'Villegas H. (Per)', 'Ortega K. (Arg)', 'Menendez A. (Per)', 0, 0, 0, 0, 0, 0, 0, 0, 0, 'Alarcon J. (Per)', 'Estadio Miguel Grau (Callao)', 'Villegas H. (Per)', 'Cartagena J. (Per)', 'Perez R. B. (Per)', 0, 0, 0, 0, 0, 0, 0, 0, 0, 'Huaman D. (Per)', 'Perez R. B. (Per)', 'Seminario L. (Per)', 'Mendoza J. (Per)', 'Alarcon J. (Per)', 0, 0, 0, 0, 0, 0, 0, 0, 0, 'Alarcon J. (Per)', 'Zamora J. (Per)', 'Espinoza J. (Per)', 'Seminario L. (Per)', 0, 0, 0, 0, 0, 0, 0, 0, 0, 0, 'Palomino M. (Per)', 'Legario F. (Per)', 'Espinoza J. (Per)', 'Estadio Huancayo (Huancayo)', 0, 0, 0, 0, 0, 0, 0, 0, 0, 0, 'Perez R. B. (Per)', 'Lopez R. (Per)', 'Ordonez E. (Per)', 'Espinoza J. (Per)', 'Huaman D. (Per)', 0, 0, 0, 0, 0, 0, 0, 0, 0, 0, 0, 0, 0, 0, 0, 0, 0, 0]\n",
      "\n"
     ]
    },
    {
     "name": "stderr",
     "output_type": "stream",
     "text": [
      "[WDM] - ====== WebDriver manager ======\n"
     ]
    },
    {
     "name": "stdout",
     "output_type": "stream",
     "text": [
      "Termino 46\n",
      "['Perez R. B. (Per)', 'Quiroz J. C. (Per)', 'Villegas H. (Per)', 'Lozano S. (Per)', 'Ortega K. (Per)', 0, 0, 0, 0, 0, 0, 0, 0, 0, 'Cartagena J. (Per)', 'Villegas H. (Per)', 'Cori V. (Per)', 'Villanueva A. (Per)', 'Legario F. (Per)', 0, 0, 0, 0, 0, 0, 0, 0, 0, 'Espinoza M. (Per)', 'Ordonez E. (Per)', 'Quiroz J. C. (Per)', 'Alarcon J. (Per)', 'Perez R. B. (Per)', 0, 0, 0, 0, 0, 0, 0, 0, 0, 'Garay Evia L. (Per)', 'Lozano S. (Per)', 'Huaman D. (Per)', 'Vasquez B. (Per)', 'Legario F. (Per)', 0, 0, 0, 0, 0, 0, 0, 0, 0, 'Alarcon J. (Per)', 'Ciriaco L. (Per)', 'Lozano C. (Arg)', 'Alarcon J. (Per)', 'Perez R. B. (Per)', 0, 0, 0, 0, 0, 0, 0, 0, 0, 'Ureta D. (Per)', 'Garay L. (Per)', 'Quiroz J. (Per)', 'Estadio Inca Garcilaso de la Vega (Cusco)', 'Estadio Iván Elías Moreno (Lima)', 0, 0, 0, 0, 0, 0, 0, 0, 0, 'Estadio San Martin de Porres (Lima)', 'Alarcon J. (Per)', 'Perez R. B. (Per)', 0, 0, 0, 0, 0, 0, 0, 0, 0, 0, 0, 'Alarcon J. (Per)', 'Ortega K. (Per)', 'Ureta D. (Per)', 'Seminario L. (Per)', 'Lozano Segado J. (Esp)', 0, 0, 0, 0, 0, 0, 0, 0, 0, 'Legario F. (Per)', 'Barbagelatta G. (Per)', 'Cartagena J. (Per)', 'Villegas H. (Per)', 'Huaman D. (Per)', 0, 0, 0, 0, 0, 0, 0, 0, 0, 'Espinoza J. (Per)', 'Seminario L. (Per)', 'Villegas H. (Per)', 'Ortega K. (Arg)', 'Menendez A. (Per)', 0, 0, 0, 0, 0, 0, 0, 0, 0, 'Alarcon J. (Per)', 'Estadio Miguel Grau (Callao)', 'Villegas H. (Per)', 'Cartagena J. (Per)', 'Perez R. B. (Per)', 0, 0, 0, 0, 0, 0, 0, 0, 0, 'Huaman D. (Per)', 'Perez R. B. (Per)', 'Seminario L. (Per)', 'Mendoza J. (Per)', 'Alarcon J. (Per)', 0, 0, 0, 0, 0, 0, 0, 0, 0, 'Alarcon J. (Per)', 'Zamora J. (Per)', 'Espinoza J. (Per)', 'Seminario L. (Per)', 0, 0, 0, 0, 0, 0, 0, 0, 0, 0, 'Palomino M. (Per)', 'Legario F. (Per)', 'Espinoza J. (Per)', 'Estadio Huancayo (Huancayo)', 0, 0, 0, 0, 0, 0, 0, 0, 0, 0, 'Perez R. B. (Per)', 'Lopez R. (Per)', 'Ordonez E. (Per)', 'Espinoza J. (Per)', 'Huaman D. (Per)', 0, 0, 0, 0, 0, 0, 0, 0, 0, 0, 0, 0, 0, 0, 0, 0, 0, 0]\n",
      "\n"
     ]
    },
    {
     "name": "stderr",
     "output_type": "stream",
     "text": [
      "[WDM] - ====== WebDriver manager ======\n"
     ]
    },
    {
     "name": "stdout",
     "output_type": "stream",
     "text": [
      "Termino 32\n",
      "['Perez R. B. (Per)', 'Quiroz J. C. (Per)', 'Villegas H. (Per)', 'Lozano S. (Per)', 'Ortega K. (Per)', 0, 0, 0, 0, 0, 0, 0, 0, 0, 'Cartagena J. (Per)', 'Villegas H. (Per)', 'Cori V. (Per)', 'Villanueva A. (Per)', 'Legario F. (Per)', 0, 0, 0, 0, 0, 0, 0, 0, 0, 'Espinoza M. (Per)', 'Ordonez E. (Per)', 'Quiroz J. C. (Per)', 'Alarcon J. (Per)', 'Perez R. B. (Per)', 0, 0, 0, 0, 0, 0, 0, 0, 0, 'Garay Evia L. (Per)', 'Lozano S. (Per)', 'Huaman D. (Per)', 'Vasquez B. (Per)', 'Legario F. (Per)', 0, 0, 0, 0, 0, 0, 0, 0, 0, 'Alarcon J. (Per)', 'Ciriaco L. (Per)', 'Lozano C. (Arg)', 'Alarcon J. (Per)', 'Perez R. B. (Per)', 0, 0, 0, 0, 0, 0, 0, 0, 0, 'Ureta D. (Per)', 'Garay L. (Per)', 'Quiroz J. (Per)', 'Estadio Inca Garcilaso de la Vega (Cusco)', 'Estadio Iván Elías Moreno (Lima)', 0, 0, 0, 0, 0, 0, 0, 0, 0, 'Estadio San Martin de Porres (Lima)', 'Alarcon J. (Per)', 'Perez R. B. (Per)', 0, 0, 0, 0, 0, 0, 0, 0, 0, 0, 0, 'Alarcon J. (Per)', 'Ortega K. (Per)', 'Ureta D. (Per)', 'Seminario L. (Per)', 'Lozano Segado J. (Esp)', 0, 0, 0, 0, 0, 0, 0, 0, 0, 'Legario F. (Per)', 'Barbagelatta G. (Per)', 'Cartagena J. (Per)', 'Villegas H. (Per)', 'Huaman D. (Per)', 0, 0, 0, 0, 0, 0, 0, 0, 0, 'Espinoza J. (Per)', 'Seminario L. (Per)', 'Villegas H. (Per)', 'Ortega K. (Arg)', 'Menendez A. (Per)', 0, 0, 0, 0, 0, 0, 0, 0, 0, 'Alarcon J. (Per)', 'Estadio Miguel Grau (Callao)', 'Villegas H. (Per)', 'Cartagena J. (Per)', 'Perez R. B. (Per)', 0, 0, 0, 0, 0, 0, 0, 0, 0, 'Huaman D. (Per)', 'Perez R. B. (Per)', 'Seminario L. (Per)', 'Mendoza J. (Per)', 'Alarcon J. (Per)', 0, 0, 0, 0, 0, 0, 0, 0, 0, 'Alarcon J. (Per)', 'Zamora J. (Per)', 'Espinoza J. (Per)', 'Seminario L. (Per)', 0, 0, 0, 0, 0, 0, 0, 0, 0, 0, 'Palomino M. (Per)', 'Legario F. (Per)', 'Espinoza J. (Per)', 'Estadio Huancayo (Huancayo)', 0, 0, 0, 0, 0, 0, 0, 0, 0, 0, 'Perez R. B. (Per)', 'Lopez R. (Per)', 'Ordonez E. (Per)', 'Espinoza J. (Per)', 'Huaman D. (Per)', 0, 0, 0, 0, 0, 0, 0, 0, 0, 0, 0, 0, 0, 0, 0, 0, 0, 0]\n",
      "\n"
     ]
    },
    {
     "name": "stderr",
     "output_type": "stream",
     "text": [
      "[WDM] - ====== WebDriver manager ======\n",
      "[WDM] - Current google-chrome version is 104.0.5112\n",
      "[WDM] - Get LATEST chromedriver version for 104.0.5112 google-chrome\n",
      "[WDM] - Current google-chrome version is 104.0.5112\n",
      "[WDM] - Get LATEST chromedriver version for 104.0.5112 google-chrome\n",
      "[WDM] - Driver [C:\\Users\\PC-1\\.wdm\\drivers\\chromedriver\\win32\\104.0.5112.79\\chromedriver.exe] found in cache\n"
     ]
    },
    {
     "name": "stdout",
     "output_type": "stream",
     "text": [
      "Termino 200\n",
      "['Perez R. B. (Per)', 'Quiroz J. C. (Per)', 'Villegas H. (Per)', 'Lozano S. (Per)', 'Ortega K. (Per)', 0, 0, 0, 0, 0, 0, 0, 0, 0, 'Cartagena J. (Per)', 'Villegas H. (Per)', 'Cori V. (Per)', 'Villanueva A. (Per)', 'Legario F. (Per)', 0, 0, 0, 0, 0, 0, 0, 0, 0, 'Espinoza M. (Per)', 'Ordonez E. (Per)', 'Quiroz J. C. (Per)', 'Alarcon J. (Per)', 'Perez R. B. (Per)', 0, 0, 0, 0, 0, 0, 0, 0, 0, 'Garay Evia L. (Per)', 'Lozano S. (Per)', 'Huaman D. (Per)', 'Vasquez B. (Per)', 'Legario F. (Per)', 0, 0, 0, 0, 0, 0, 0, 0, 0, 'Alarcon J. (Per)', 'Ciriaco L. (Per)', 'Lozano C. (Arg)', 'Alarcon J. (Per)', 'Perez R. B. (Per)', 0, 0, 0, 0, 0, 0, 0, 0, 0, 'Ureta D. (Per)', 'Garay L. (Per)', 'Quiroz J. (Per)', 'Estadio Inca Garcilaso de la Vega (Cusco)', 'Estadio Iván Elías Moreno (Lima)', 0, 0, 0, 0, 0, 0, 0, 0, 0, 'Estadio San Martin de Porres (Lima)', 'Alarcon J. (Per)', 'Perez R. B. (Per)', 0, 0, 0, 0, 0, 0, 0, 0, 0, 0, 0, 'Alarcon J. (Per)', 'Ortega K. (Per)', 'Ureta D. (Per)', 'Seminario L. (Per)', 'Lozano Segado J. (Esp)', 0, 0, 0, 0, 0, 0, 0, 0, 0, 'Legario F. (Per)', 'Barbagelatta G. (Per)', 'Cartagena J. (Per)', 'Villegas H. (Per)', 'Huaman D. (Per)', 0, 0, 0, 0, 0, 0, 0, 0, 0, 'Espinoza J. (Per)', 'Seminario L. (Per)', 'Villegas H. (Per)', 'Ortega K. (Arg)', 'Menendez A. (Per)', 0, 0, 0, 0, 0, 0, 0, 0, 0, 'Alarcon J. (Per)', 'Estadio Miguel Grau (Callao)', 'Villegas H. (Per)', 'Cartagena J. (Per)', 'Perez R. B. (Per)', 0, 0, 0, 0, 0, 0, 0, 0, 0, 'Huaman D. (Per)', 'Perez R. B. (Per)', 'Seminario L. (Per)', 'Mendoza J. (Per)', 'Alarcon J. (Per)', 0, 0, 0, 0, 0, 0, 0, 0, 0, 'Alarcon J. (Per)', 'Zamora J. (Per)', 'Espinoza J. (Per)', 'Seminario L. (Per)', 0, 0, 0, 0, 0, 0, 0, 0, 0, 0, 'Palomino M. (Per)', 'Legario F. (Per)', 'Espinoza J. (Per)', 'Estadio Huancayo (Huancayo)', 0, 0, 0, 0, 0, 0, 0, 0, 0, 0, 'Perez R. B. (Per)', 'Lopez R. (Per)', 'Ordonez E. (Per)', 'Espinoza J. (Per)', 'Huaman D. (Per)', 0, 0, 0, 0, 0, 0, 0, 0, 0, 0, 0, 0, 0, 0, 0, 0, 0, 0]\n",
      "\n"
     ]
    },
    {
     "name": "stderr",
     "output_type": "stream",
     "text": [
      "[WDM] - ====== WebDriver manager ======\n",
      "[WDM] - Driver [C:\\Users\\PC-1\\.wdm\\drivers\\chromedriver\\win32\\104.0.5112.79\\chromedriver.exe] found in cache\n",
      "[WDM] - Current google-chrome version is 104.0.5112\n",
      "[WDM] - Get LATEST chromedriver version for 104.0.5112 google-chrome\n",
      "[WDM] - Driver [C:\\Users\\PC-1\\.wdm\\drivers\\chromedriver\\win32\\104.0.5112.79\\chromedriver.exe] found in cache\n"
     ]
    },
    {
     "name": "stdout",
     "output_type": "stream",
     "text": [
      "Termino 171\n",
      "['Perez R. B. (Per)', 'Quiroz J. C. (Per)', 'Villegas H. (Per)', 'Lozano S. (Per)', 'Ortega K. (Per)', 0, 0, 0, 0, 0, 0, 0, 0, 0, 'Cartagena J. (Per)', 'Villegas H. (Per)', 'Cori V. (Per)', 'Villanueva A. (Per)', 'Legario F. (Per)', 0, 0, 0, 0, 0, 0, 0, 0, 0, 'Espinoza M. (Per)', 'Ordonez E. (Per)', 'Quiroz J. C. (Per)', 'Alarcon J. (Per)', 'Perez R. B. (Per)', 0, 0, 0, 0, 0, 0, 0, 0, 0, 'Garay Evia L. (Per)', 'Lozano S. (Per)', 'Huaman D. (Per)', 'Vasquez B. (Per)', 'Legario F. (Per)', 0, 0, 0, 0, 0, 0, 0, 0, 0, 'Alarcon J. (Per)', 'Ciriaco L. (Per)', 'Lozano C. (Arg)', 'Alarcon J. (Per)', 'Perez R. B. (Per)', 0, 0, 0, 0, 0, 0, 0, 0, 0, 'Ureta D. (Per)', 'Garay L. (Per)', 'Quiroz J. (Per)', 'Estadio Inca Garcilaso de la Vega (Cusco)', 'Estadio Iván Elías Moreno (Lima)', 0, 0, 0, 0, 0, 0, 0, 0, 0, 'Estadio San Martin de Porres (Lima)', 'Alarcon J. (Per)', 'Perez R. B. (Per)', 0, 0, 0, 0, 0, 0, 0, 0, 0, 0, 0, 'Alarcon J. (Per)', 'Ortega K. (Per)', 'Ureta D. (Per)', 'Seminario L. (Per)', 'Lozano Segado J. (Esp)', 0, 0, 0, 0, 0, 0, 0, 0, 0, 'Legario F. (Per)', 'Barbagelatta G. (Per)', 'Cartagena J. (Per)', 'Villegas H. (Per)', 'Huaman D. (Per)', 0, 0, 0, 0, 0, 0, 0, 0, 0, 'Espinoza J. (Per)', 'Seminario L. (Per)', 'Villegas H. (Per)', 'Ortega K. (Arg)', 'Menendez A. (Per)', 0, 0, 0, 0, 0, 0, 0, 0, 0, 'Alarcon J. (Per)', 'Estadio Miguel Grau (Callao)', 'Villegas H. (Per)', 'Cartagena J. (Per)', 'Perez R. B. (Per)', 0, 0, 0, 0, 0, 0, 0, 0, 0, 'Huaman D. (Per)', 'Perez R. B. (Per)', 'Seminario L. (Per)', 'Mendoza J. (Per)', 'Alarcon J. (Per)', 0, 0, 0, 0, 0, 0, 0, 0, 0, 'Alarcon J. (Per)', 'Zamora J. (Per)', 'Espinoza J. (Per)', 'Seminario L. (Per)', 0, 0, 0, 0, 0, 0, 0, 0, 0, 0, 'Palomino M. (Per)', 'Legario F. (Per)', 'Espinoza J. (Per)', 'Estadio Huancayo (Huancayo)', 0, 0, 0, 0, 0, 0, 0, 0, 0, 0, 'Perez R. B. (Per)', 'Lopez R. (Per)', 'Ordonez E. (Per)', 'Espinoza J. (Per)', 'Huaman D. (Per)', 0, 0, 0, 0, 0, 0, 0, 0, 0, 0, 0, 0, 0, 0, 0, 0, 0, 0]\n",
      "\n"
     ]
    },
    {
     "name": "stderr",
     "output_type": "stream",
     "text": [
      "[WDM] - ====== WebDriver manager ======\n",
      "[WDM] - Current google-chrome version is 104.0.5112\n",
      "[WDM] - Get LATEST chromedriver version for 104.0.5112 google-chrome\n",
      "[WDM] - Driver [C:\\Users\\PC-1\\.wdm\\drivers\\chromedriver\\win32\\104.0.5112.79\\chromedriver.exe] found in cache\n",
      "[WDM] - Current google-chrome version is 104.0.5112\n",
      "[WDM] - Get LATEST chromedriver version for 104.0.5112 google-chrome\n",
      "[WDM] - Driver [C:\\Users\\PC-1\\.wdm\\drivers\\chromedriver\\win32\\104.0.5112.79\\chromedriver.exe] found in cache\n"
     ]
    },
    {
     "name": "stdout",
     "output_type": "stream",
     "text": [
      "Termino 144\n",
      "['Perez R. B. (Per)', 'Quiroz J. C. (Per)', 'Villegas H. (Per)', 'Lozano S. (Per)', 'Ortega K. (Per)', 0, 0, 0, 0, 0, 0, 0, 0, 0, 'Cartagena J. (Per)', 'Villegas H. (Per)', 'Cori V. (Per)', 'Villanueva A. (Per)', 'Legario F. (Per)', 0, 0, 0, 0, 0, 0, 0, 0, 0, 'Espinoza M. (Per)', 'Ordonez E. (Per)', 'Quiroz J. C. (Per)', 'Alarcon J. (Per)', 'Perez R. B. (Per)', 0, 0, 0, 0, 0, 0, 0, 0, 0, 'Garay Evia L. (Per)', 'Lozano S. (Per)', 'Huaman D. (Per)', 'Vasquez B. (Per)', 'Legario F. (Per)', 0, 0, 0, 0, 0, 0, 0, 0, 0, 'Alarcon J. (Per)', 'Ciriaco L. (Per)', 'Lozano C. (Arg)', 'Alarcon J. (Per)', 'Perez R. B. (Per)', 0, 0, 0, 0, 0, 0, 0, 0, 0, 'Ureta D. (Per)', 'Garay L. (Per)', 'Quiroz J. (Per)', 'Estadio Inca Garcilaso de la Vega (Cusco)', 'Estadio Iván Elías Moreno (Lima)', 0, 0, 0, 0, 0, 0, 0, 0, 0, 'Estadio San Martin de Porres (Lima)', 'Alarcon J. (Per)', 'Perez R. B. (Per)', 0, 0, 0, 0, 0, 0, 0, 0, 0, 0, 0, 'Alarcon J. (Per)', 'Ortega K. (Per)', 'Ureta D. (Per)', 'Seminario L. (Per)', 'Lozano Segado J. (Esp)', 0, 0, 0, 0, 0, 0, 0, 0, 0, 'Legario F. (Per)', 'Barbagelatta G. (Per)', 'Cartagena J. (Per)', 'Villegas H. (Per)', 'Huaman D. (Per)', 0, 0, 0, 0, 0, 0, 0, 0, 0, 'Espinoza J. (Per)', 'Seminario L. (Per)', 'Villegas H. (Per)', 'Ortega K. (Arg)', 'Menendez A. (Per)', 0, 0, 0, 0, 0, 0, 0, 0, 0, 'Alarcon J. (Per)', 'Estadio Miguel Grau (Callao)', 'Villegas H. (Per)', 'Cartagena J. (Per)', 'Perez R. B. (Per)', 0, 0, 0, 0, 0, 0, 0, 0, 0, 'Huaman D. (Per)', 'Perez R. B. (Per)', 'Seminario L. (Per)', 'Mendoza J. (Per)', 'Alarcon J. (Per)', 0, 0, 0, 0, 0, 0, 0, 0, 0, 'Alarcon J. (Per)', 'Zamora J. (Per)', 'Espinoza J. (Per)', 'Seminario L. (Per)', 0, 0, 0, 0, 0, 0, 0, 0, 0, 0, 'Palomino M. (Per)', 'Legario F. (Per)', 'Espinoza J. (Per)', 'Estadio Huancayo (Huancayo)', 0, 0, 0, 0, 0, 0, 0, 0, 0, 0, 'Perez R. B. (Per)', 'Lopez R. (Per)', 'Ordonez E. (Per)', 'Espinoza J. (Per)', 'Huaman D. (Per)', 0, 0, 0, 0, 0, 0, 0, 0, 0, 0, 0, 0, 0, 0, 0, 0, 0, 0]\n",
      "\n"
     ]
    },
    {
     "name": "stderr",
     "output_type": "stream",
     "text": [
      "[WDM] - ====== WebDriver manager ======\n"
     ]
    },
    {
     "name": "stdout",
     "output_type": "stream",
     "text": [
      "Termino 116\n",
      "['Perez R. B. (Per)', 'Quiroz J. C. (Per)', 'Villegas H. (Per)', 'Lozano S. (Per)', 'Ortega K. (Per)', 0, 0, 0, 0, 0, 0, 0, 0, 0, 'Cartagena J. (Per)', 'Villegas H. (Per)', 'Cori V. (Per)', 'Villanueva A. (Per)', 'Legario F. (Per)', 0, 0, 0, 0, 0, 0, 0, 0, 0, 'Espinoza M. (Per)', 'Ordonez E. (Per)', 'Quiroz J. C. (Per)', 'Alarcon J. (Per)', 'Perez R. B. (Per)', 0, 0, 0, 0, 0, 0, 0, 0, 0, 'Garay Evia L. (Per)', 'Lozano S. (Per)', 'Huaman D. (Per)', 'Vasquez B. (Per)', 'Legario F. (Per)', 0, 0, 0, 0, 0, 0, 0, 0, 0, 'Alarcon J. (Per)', 'Ciriaco L. (Per)', 'Lozano C. (Arg)', 'Alarcon J. (Per)', 'Perez R. B. (Per)', 0, 0, 0, 0, 0, 0, 0, 0, 0, 'Ureta D. (Per)', 'Garay L. (Per)', 'Quiroz J. (Per)', 'Estadio Inca Garcilaso de la Vega (Cusco)', 'Estadio Iván Elías Moreno (Lima)', 0, 0, 0, 0, 0, 0, 0, 0, 0, 'Estadio San Martin de Porres (Lima)', 'Alarcon J. (Per)', 'Perez R. B. (Per)', 0, 0, 0, 0, 0, 0, 0, 0, 0, 0, 0, 'Alarcon J. (Per)', 'Ortega K. (Per)', 'Ureta D. (Per)', 'Seminario L. (Per)', 'Lozano Segado J. (Esp)', 0, 0, 0, 0, 0, 0, 0, 0, 0, 'Legario F. (Per)', 'Barbagelatta G. (Per)', 'Cartagena J. (Per)', 'Villegas H. (Per)', 'Huaman D. (Per)', 0, 0, 0, 0, 0, 0, 0, 0, 0, 'Espinoza J. (Per)', 'Seminario L. (Per)', 'Villegas H. (Per)', 'Ortega K. (Arg)', 'Menendez A. (Per)', 0, 0, 0, 0, 0, 0, 0, 0, 0, 'Alarcon J. (Per)', 'Estadio Miguel Grau (Callao)', 'Villegas H. (Per)', 'Cartagena J. (Per)', 'Perez R. B. (Per)', 0, 0, 0, 0, 0, 0, 0, 0, 0, 'Huaman D. (Per)', 'Perez R. B. (Per)', 'Seminario L. (Per)', 'Mendoza J. (Per)', 'Alarcon J. (Per)', 0, 0, 0, 0, 0, 0, 0, 0, 0, 'Alarcon J. (Per)', 'Zamora J. (Per)', 'Espinoza J. (Per)', 'Seminario L. (Per)', 0, 0, 0, 0, 0, 0, 0, 0, 0, 0, 'Palomino M. (Per)', 'Legario F. (Per)', 'Espinoza J. (Per)', 'Estadio Huancayo (Huancayo)', 0, 0, 0, 0, 0, 0, 0, 0, 0, 0, 'Perez R. B. (Per)', 'Lopez R. (Per)', 'Ordonez E. (Per)', 'Espinoza J. (Per)', 'Huaman D. (Per)', 0, 0, 0, 0, 0, 0, 0, 0, 0, 0, 0, 0, 0, 0, 0, 0, 0, 0]\n",
      "\n"
     ]
    },
    {
     "name": "stderr",
     "output_type": "stream",
     "text": [
      "[WDM] - ====== WebDriver manager ======\n",
      "[WDM] - Current google-chrome version is 104.0.5112\n",
      "[WDM] - Get LATEST chromedriver version for 104.0.5112 google-chrome\n",
      "[WDM] - Current google-chrome version is 104.0.5112\n",
      "[WDM] - Get LATEST chromedriver version for 104.0.5112 google-chrome\n",
      "[WDM] - Driver [C:\\Users\\PC-1\\.wdm\\drivers\\chromedriver\\win32\\104.0.5112.79\\chromedriver.exe] found in cache\n",
      "[WDM] - Driver [C:\\Users\\PC-1\\.wdm\\drivers\\chromedriver\\win32\\104.0.5112.79\\chromedriver.exe] found in cache\n"
     ]
    },
    {
     "name": "stdout",
     "output_type": "stream",
     "text": [
      "Termino 130\n",
      "['Perez R. B. (Per)', 'Quiroz J. C. (Per)', 'Villegas H. (Per)', 'Lozano S. (Per)', 'Ortega K. (Per)', 0, 0, 0, 0, 0, 0, 0, 0, 0, 'Cartagena J. (Per)', 'Villegas H. (Per)', 'Cori V. (Per)', 'Villanueva A. (Per)', 'Legario F. (Per)', 0, 0, 0, 0, 0, 0, 0, 0, 0, 'Espinoza M. (Per)', 'Ordonez E. (Per)', 'Quiroz J. C. (Per)', 'Alarcon J. (Per)', 'Perez R. B. (Per)', 0, 0, 0, 0, 0, 0, 0, 0, 0, 'Garay Evia L. (Per)', 'Lozano S. (Per)', 'Huaman D. (Per)', 'Vasquez B. (Per)', 'Legario F. (Per)', 0, 0, 0, 0, 0, 0, 0, 0, 0, 'Alarcon J. (Per)', 'Ciriaco L. (Per)', 'Lozano C. (Arg)', 'Alarcon J. (Per)', 'Perez R. B. (Per)', 0, 0, 0, 0, 0, 0, 0, 0, 0, 'Ureta D. (Per)', 'Garay L. (Per)', 'Quiroz J. (Per)', 'Estadio Inca Garcilaso de la Vega (Cusco)', 'Estadio Iván Elías Moreno (Lima)', 0, 0, 0, 0, 0, 0, 0, 0, 0, 'Estadio San Martin de Porres (Lima)', 'Alarcon J. (Per)', 'Perez R. B. (Per)', 0, 0, 0, 0, 0, 0, 0, 0, 0, 0, 0, 'Alarcon J. (Per)', 'Ortega K. (Per)', 'Ureta D. (Per)', 'Seminario L. (Per)', 'Lozano Segado J. (Esp)', 0, 0, 0, 0, 0, 0, 0, 0, 0, 'Legario F. (Per)', 'Barbagelatta G. (Per)', 'Cartagena J. (Per)', 'Villegas H. (Per)', 'Huaman D. (Per)', 0, 0, 0, 0, 0, 0, 0, 0, 0, 'Espinoza J. (Per)', 'Seminario L. (Per)', 'Villegas H. (Per)', 'Ortega K. (Arg)', 'Menendez A. (Per)', 0, 0, 0, 0, 0, 0, 0, 0, 0, 'Alarcon J. (Per)', 'Estadio Miguel Grau (Callao)', 'Villegas H. (Per)', 'Cartagena J. (Per)', 'Perez R. B. (Per)', 0, 0, 0, 0, 0, 0, 0, 0, 0, 'Huaman D. (Per)', 'Perez R. B. (Per)', 'Seminario L. (Per)', 'Mendoza J. (Per)', 'Alarcon J. (Per)', 0, 0, 0, 0, 0, 0, 0, 0, 0, 'Alarcon J. (Per)', 'Zamora J. (Per)', 'Espinoza J. (Per)', 'Seminario L. (Per)', 0, 0, 0, 0, 0, 0, 0, 0, 0, 0, 'Palomino M. (Per)', 'Legario F. (Per)', 'Espinoza J. (Per)', 'Estadio Huancayo (Huancayo)', 0, 0, 0, 0, 0, 0, 0, 0, 0, 0, 'Perez R. B. (Per)', 'Lopez R. (Per)', 'Ordonez E. (Per)', 'Espinoza J. (Per)', 'Huaman D. (Per)', 0, 0, 0, 0, 0, 0, 0, 0, 0, 0, 0, 0, 0, 0, 0, 0, 0, 0]\n",
      "\n"
     ]
    },
    {
     "name": "stderr",
     "output_type": "stream",
     "text": [
      "[WDM] - ====== WebDriver manager ======\n",
      "[WDM] - Current google-chrome version is 104.0.5112\n",
      "[WDM] - Get LATEST chromedriver version for 104.0.5112 google-chrome\n",
      "[WDM] - Driver [C:\\Users\\PC-1\\.wdm\\drivers\\chromedriver\\win32\\104.0.5112.79\\chromedriver.exe] found in cache\n",
      "[WDM] - Current google-chrome version is 104.0.5112\n",
      "[WDM] - Get LATEST chromedriver version for 104.0.5112 google-chrome\n",
      "[WDM] - Driver [C:\\Users\\PC-1\\.wdm\\drivers\\chromedriver\\win32\\104.0.5112.79\\chromedriver.exe] found in cache\n"
     ]
    },
    {
     "name": "stdout",
     "output_type": "stream",
     "text": [
      "Termino 74\n",
      "['Perez R. B. (Per)', 'Quiroz J. C. (Per)', 'Villegas H. (Per)', 'Lozano S. (Per)', 'Ortega K. (Per)', 'Menendez A. (Per)', 0, 0, 0, 0, 0, 0, 0, 0, 'Cartagena J. (Per)', 'Villegas H. (Per)', 'Cori V. (Per)', 'Villanueva A. (Per)', 'Legario F. (Per)', 0, 0, 0, 0, 0, 0, 0, 0, 0, 'Espinoza M. (Per)', 'Ordonez E. (Per)', 'Quiroz J. C. (Per)', 'Alarcon J. (Per)', 'Perez R. B. (Per)', 0, 0, 0, 0, 0, 0, 0, 0, 0, 'Garay Evia L. (Per)', 'Lozano S. (Per)', 'Huaman D. (Per)', 'Vasquez B. (Per)', 'Legario F. (Per)', 0, 0, 0, 0, 0, 0, 0, 0, 0, 'Alarcon J. (Per)', 'Ciriaco L. (Per)', 'Lozano C. (Arg)', 'Alarcon J. (Per)', 'Perez R. B. (Per)', 0, 0, 0, 0, 0, 0, 0, 0, 0, 'Ureta D. (Per)', 'Garay L. (Per)', 'Quiroz J. (Per)', 'Estadio Inca Garcilaso de la Vega (Cusco)', 'Estadio Iván Elías Moreno (Lima)', 0, 0, 0, 0, 0, 0, 0, 0, 0, 'Estadio San Martin de Porres (Lima)', 'Alarcon J. (Per)', 'Perez R. B. (Per)', 0, 0, 0, 0, 0, 0, 0, 0, 0, 0, 0, 'Alarcon J. (Per)', 'Ortega K. (Per)', 'Ureta D. (Per)', 'Seminario L. (Per)', 'Lozano Segado J. (Esp)', 0, 0, 0, 0, 0, 0, 0, 0, 0, 'Legario F. (Per)', 'Barbagelatta G. (Per)', 'Cartagena J. (Per)', 'Villegas H. (Per)', 'Huaman D. (Per)', 0, 0, 0, 0, 0, 0, 0, 0, 0, 'Espinoza J. (Per)', 'Seminario L. (Per)', 'Villegas H. (Per)', 'Ortega K. (Arg)', 'Menendez A. (Per)', 0, 0, 0, 0, 0, 0, 0, 0, 0, 'Alarcon J. (Per)', 'Estadio Miguel Grau (Callao)', 'Villegas H. (Per)', 'Cartagena J. (Per)', 'Perez R. B. (Per)', 0, 0, 0, 0, 0, 0, 0, 0, 0, 'Huaman D. (Per)', 'Perez R. B. (Per)', 'Seminario L. (Per)', 'Mendoza J. (Per)', 'Alarcon J. (Per)', 0, 0, 0, 0, 0, 0, 0, 0, 0, 'Alarcon J. (Per)', 'Zamora J. (Per)', 'Espinoza J. (Per)', 'Seminario L. (Per)', 0, 0, 0, 0, 0, 0, 0, 0, 0, 0, 'Palomino M. (Per)', 'Legario F. (Per)', 'Espinoza J. (Per)', 'Estadio Huancayo (Huancayo)', 0, 0, 0, 0, 0, 0, 0, 0, 0, 0, 'Perez R. B. (Per)', 'Lopez R. (Per)', 'Ordonez E. (Per)', 'Espinoza J. (Per)', 'Huaman D. (Per)', 0, 0, 0, 0, 0, 0, 0, 0, 0, 0, 0, 0, 0, 0, 0, 0, 0, 0]\n",
      "\n"
     ]
    },
    {
     "name": "stderr",
     "output_type": "stream",
     "text": [
      "[WDM] - ====== WebDriver manager ======\n",
      "[WDM] - Current google-chrome version is 104.0.5112\n",
      "[WDM] - Get LATEST chromedriver version for 104.0.5112 google-chrome\n",
      "[WDM] - Driver [C:\\Users\\PC-1\\.wdm\\drivers\\chromedriver\\win32\\104.0.5112.79\\chromedriver.exe] found in cache\n"
     ]
    },
    {
     "name": "stdout",
     "output_type": "stream",
     "text": [
      "Termino 5\n",
      "['Perez R. B. (Per)', 'Quiroz J. C. (Per)', 'Villegas H. (Per)', 'Lozano S. (Per)', 'Ortega K. (Per)', 'Menendez A. (Per)', 0, 0, 0, 0, 0, 0, 0, 0, 'Cartagena J. (Per)', 'Villegas H. (Per)', 'Cori V. (Per)', 'Villanueva A. (Per)', 'Legario F. (Per)', 0, 0, 0, 0, 0, 0, 0, 0, 0, 'Espinoza M. (Per)', 'Ordonez E. (Per)', 'Quiroz J. C. (Per)', 'Alarcon J. (Per)', 'Perez R. B. (Per)', 0, 0, 0, 0, 0, 0, 0, 0, 0, 'Garay Evia L. (Per)', 'Lozano S. (Per)', 'Huaman D. (Per)', 'Vasquez B. (Per)', 'Legario F. (Per)', 0, 0, 0, 0, 0, 0, 0, 0, 0, 'Alarcon J. (Per)', 'Ciriaco L. (Per)', 'Lozano C. (Arg)', 'Alarcon J. (Per)', 'Perez R. B. (Per)', 0, 0, 0, 0, 0, 0, 0, 0, 0, 'Ureta D. (Per)', 'Garay L. (Per)', 'Quiroz J. (Per)', 'Estadio Inca Garcilaso de la Vega (Cusco)', 'Estadio Iván Elías Moreno (Lima)', 0, 0, 0, 0, 0, 0, 0, 0, 0, 'Estadio San Martin de Porres (Lima)', 'Alarcon J. (Per)', 'Perez R. B. (Per)', 0, 0, 0, 0, 0, 0, 0, 0, 0, 0, 0, 'Alarcon J. (Per)', 'Ortega K. (Per)', 'Ureta D. (Per)', 'Seminario L. (Per)', 'Lozano Segado J. (Esp)', 0, 0, 0, 0, 0, 0, 0, 0, 0, 'Legario F. (Per)', 'Barbagelatta G. (Per)', 'Cartagena J. (Per)', 'Villegas H. (Per)', 'Huaman D. (Per)', 0, 0, 0, 0, 0, 0, 0, 0, 0, 'Espinoza J. (Per)', 'Seminario L. (Per)', 'Villegas H. (Per)', 'Ortega K. (Arg)', 'Menendez A. (Per)', 0, 0, 0, 0, 0, 0, 0, 0, 0, 'Alarcon J. (Per)', 'Estadio Miguel Grau (Callao)', 'Villegas H. (Per)', 'Cartagena J. (Per)', 'Perez R. B. (Per)', 0, 0, 0, 0, 0, 0, 0, 0, 0, 'Huaman D. (Per)', 'Perez R. B. (Per)', 'Seminario L. (Per)', 'Mendoza J. (Per)', 'Alarcon J. (Per)', 0, 0, 0, 0, 0, 0, 0, 0, 0, 'Alarcon J. (Per)', 'Zamora J. (Per)', 'Espinoza J. (Per)', 'Seminario L. (Per)', 0, 0, 0, 0, 0, 0, 0, 0, 0, 0, 'Palomino M. (Per)', 'Legario F. (Per)', 'Espinoza J. (Per)', 'Estadio Huancayo (Huancayo)', 0, 0, 0, 0, 0, 0, 0, 0, 0, 0, 'Perez R. B. (Per)', 'Lopez R. (Per)', 'Ordonez E. (Per)', 'Espinoza J. (Per)', 'Huaman D. (Per)', 0, 0, 0, 0, 0, 0, 0, 0, 0, 0, 0, 0, 0, 0, 0, 0, 0, 0]\n",
      "\n"
     ]
    },
    {
     "name": "stderr",
     "output_type": "stream",
     "text": [
      "[WDM] - ====== WebDriver manager ======\n",
      "[WDM] - Current google-chrome version is 104.0.5112\n",
      "[WDM] - Get LATEST chromedriver version for 104.0.5112 google-chrome\n",
      "[WDM] - Driver [C:\\Users\\PC-1\\.wdm\\drivers\\chromedriver\\win32\\104.0.5112.79\\chromedriver.exe] found in cache\n"
     ]
    },
    {
     "name": "stdout",
     "output_type": "stream",
     "text": [
      "Termino 19\n",
      "['Perez R. B. (Per)', 'Quiroz J. C. (Per)', 'Villegas H. (Per)', 'Lozano S. (Per)', 'Ortega K. (Per)', 'Menendez A. (Per)', 0, 0, 0, 0, 0, 0, 0, 0, 'Cartagena J. (Per)', 'Villegas H. (Per)', 'Cori V. (Per)', 'Villanueva A. (Per)', 'Legario F. (Per)', 'Blas W. (Per)', 0, 0, 0, 0, 0, 0, 0, 0, 'Espinoza M. (Per)', 'Ordonez E. (Per)', 'Quiroz J. C. (Per)', 'Alarcon J. (Per)', 'Perez R. B. (Per)', 'Espinoza M. (Per)', 0, 0, 0, 0, 0, 0, 0, 0, 'Garay Evia L. (Per)', 'Lozano S. (Per)', 'Huaman D. (Per)', 'Vasquez B. (Per)', 'Legario F. (Per)', 'Villegas H. (Per)', 0, 0, 0, 0, 0, 0, 0, 0, 'Alarcon J. (Per)', 'Ciriaco L. (Per)', 'Lozano C. (Arg)', 'Alarcon J. (Per)', 'Perez R. B. (Per)', 'Villegas H. (Per)', 0, 0, 0, 0, 0, 0, 0, 0, 'Ureta D. (Per)', 'Garay L. (Per)', 'Quiroz J. (Per)', 'Estadio Inca Garcilaso de la Vega (Cusco)', 'Estadio Iván Elías Moreno (Lima)', 0, 0, 0, 0, 0, 0, 0, 0, 0, 'Estadio San Martin de Porres (Lima)', 'Alarcon J. (Per)', 'Perez R. B. (Per)', 0, 0, 0, 0, 0, 0, 0, 0, 0, 0, 0, 'Alarcon J. (Per)', 'Ortega K. (Per)', 'Ureta D. (Per)', 'Seminario L. (Per)', 'Lozano Segado J. (Esp)', 'Barbagelatta G. (Per)', 0, 0, 0, 0, 0, 0, 0, 0, 'Legario F. (Per)', 'Barbagelatta G. (Per)', 'Cartagena J. (Per)', 'Villegas H. (Per)', 'Huaman D. (Per)', 0, 0, 0, 0, 0, 0, 0, 0, 0, 'Espinoza J. (Per)', 'Seminario L. (Per)', 'Villegas H. (Per)', 'Ortega K. (Arg)', 'Menendez A. (Per)', 0, 0, 0, 0, 0, 0, 0, 0, 0, 'Alarcon J. (Per)', 'Estadio Miguel Grau (Callao)', 'Villegas H. (Per)', 'Cartagena J. (Per)', 'Perez R. B. (Per)', 0, 0, 0, 0, 0, 0, 0, 0, 0, 'Huaman D. (Per)', 'Perez R. B. (Per)', 'Seminario L. (Per)', 'Mendoza J. (Per)', 'Alarcon J. (Per)', 'Ordonez E. (Per)', 0, 0, 0, 0, 0, 0, 0, 0, 'Alarcon J. (Per)', 'Zamora J. (Per)', 'Espinoza J. (Per)', 'Seminario L. (Per)', 0, 0, 0, 0, 0, 0, 0, 0, 0, 0, 'Palomino M. (Per)', 'Legario F. (Per)', 'Espinoza J. (Per)', 'Estadio Huancayo (Huancayo)', 'Espinoza M. (Per)', 0, 0, 0, 0, 0, 0, 0, 0, 0, 'Perez R. B. (Per)', 'Lopez R. (Per)', 'Ordonez E. (Per)', 'Espinoza J. (Per)', 'Huaman D. (Per)', 0, 0, 0, 0, 0, 0, 0, 0, 0, 0, 0, 0, 0, 0, 0, 0, 0, 0]\n",
      "\n"
     ]
    },
    {
     "name": "stderr",
     "output_type": "stream",
     "text": [
      "[WDM] - ====== WebDriver manager ======\n"
     ]
    },
    {
     "name": "stdout",
     "output_type": "stream",
     "text": [
      "Termino 186\n",
      "['Perez R. B. (Per)', 'Quiroz J. C. (Per)', 'Villegas H. (Per)', 'Lozano S. (Per)', 'Ortega K. (Per)', 'Menendez A. (Per)', 0, 0, 0, 0, 0, 0, 0, 0, 'Cartagena J. (Per)', 'Villegas H. (Per)', 'Cori V. (Per)', 'Villanueva A. (Per)', 'Legario F. (Per)', 'Blas W. (Per)', 0, 0, 0, 0, 0, 0, 0, 0, 'Espinoza M. (Per)', 'Ordonez E. (Per)', 'Quiroz J. C. (Per)', 'Alarcon J. (Per)', 'Perez R. B. (Per)', 'Espinoza M. (Per)', 0, 0, 0, 0, 0, 0, 0, 0, 'Garay Evia L. (Per)', 'Lozano S. (Per)', 'Huaman D. (Per)', 'Vasquez B. (Per)', 'Legario F. (Per)', 'Villegas H. (Per)', 0, 0, 0, 0, 0, 0, 0, 0, 'Alarcon J. (Per)', 'Ciriaco L. (Per)', 'Lozano C. (Arg)', 'Alarcon J. (Per)', 'Perez R. B. (Per)', 'Villegas H. (Per)', 0, 0, 0, 0, 0, 0, 0, 0, 'Ureta D. (Per)', 'Garay L. (Per)', 'Quiroz J. (Per)', 'Estadio Inca Garcilaso de la Vega (Cusco)', 'Estadio Iván Elías Moreno (Lima)', 0, 0, 0, 0, 0, 0, 0, 0, 0, 'Estadio San Martin de Porres (Lima)', 'Alarcon J. (Per)', 'Perez R. B. (Per)', 0, 0, 0, 0, 0, 0, 0, 0, 0, 0, 0, 'Alarcon J. (Per)', 'Ortega K. (Per)', 'Ureta D. (Per)', 'Seminario L. (Per)', 'Lozano Segado J. (Esp)', 'Barbagelatta G. (Per)', 0, 0, 0, 0, 0, 0, 0, 0, 'Legario F. (Per)', 'Barbagelatta G. (Per)', 'Cartagena J. (Per)', 'Villegas H. (Per)', 'Huaman D. (Per)', 0, 0, 0, 0, 0, 0, 0, 0, 0, 'Espinoza J. (Per)', 'Seminario L. (Per)', 'Villegas H. (Per)', 'Ortega K. (Arg)', 'Menendez A. (Per)', 0, 0, 0, 0, 0, 0, 0, 0, 0, 'Alarcon J. (Per)', 'Estadio Miguel Grau (Callao)', 'Villegas H. (Per)', 'Cartagena J. (Per)', 'Perez R. B. (Per)', 0, 0, 0, 0, 0, 0, 0, 0, 0, 'Huaman D. (Per)', 'Perez R. B. (Per)', 'Seminario L. (Per)', 'Mendoza J. (Per)', 'Alarcon J. (Per)', 'Ordonez E. (Per)', 0, 0, 0, 0, 0, 0, 0, 0, 'Alarcon J. (Per)', 'Zamora J. (Per)', 'Espinoza J. (Per)', 'Seminario L. (Per)', 0, 0, 0, 0, 0, 0, 0, 0, 0, 0, 'Palomino M. (Per)', 'Legario F. (Per)', 'Espinoza J. (Per)', 'Estadio Huancayo (Huancayo)', 'Espinoza M. (Per)', 0, 0, 0, 0, 0, 0, 0, 0, 0, 'Perez R. B. (Per)', 'Lopez R. (Per)', 'Ordonez E. (Per)', 'Espinoza J. (Per)', 'Huaman D. (Per)', 'Legario F. (Per)', 0, 0, 0, 0, 0, 0, 0, 0, 0, 0, 0, 0, 0, 0, 0, 0, 0]\n",
      "\n"
     ]
    },
    {
     "name": "stderr",
     "output_type": "stream",
     "text": [
      "[WDM] - ====== WebDriver manager ======\n",
      "[WDM] - Current google-chrome version is 104.0.5112\n",
      "[WDM] - Get LATEST chromedriver version for 104.0.5112 google-chrome\n",
      "[WDM] - Driver [C:\\Users\\PC-1\\.wdm\\drivers\\chromedriver\\win32\\104.0.5112.79\\chromedriver.exe] found in cache\n",
      "[WDM] - Current google-chrome version is 104.0.5112\n",
      "[WDM] - Get LATEST chromedriver version for 104.0.5112 google-chrome\n",
      "[WDM] - Driver [C:\\Users\\PC-1\\.wdm\\drivers\\chromedriver\\win32\\104.0.5112.79\\chromedriver.exe] found in cache\n"
     ]
    },
    {
     "name": "stdout",
     "output_type": "stream",
     "text": [
      "Termino 61\n",
      "['Perez R. B. (Per)', 'Quiroz J. C. (Per)', 'Villegas H. (Per)', 'Lozano S. (Per)', 'Ortega K. (Per)', 'Menendez A. (Per)', 0, 0, 0, 0, 0, 0, 0, 0, 'Cartagena J. (Per)', 'Villegas H. (Per)', 'Cori V. (Per)', 'Villanueva A. (Per)', 'Legario F. (Per)', 'Blas W. (Per)', 0, 0, 0, 0, 0, 0, 0, 0, 'Espinoza M. (Per)', 'Ordonez E. (Per)', 'Quiroz J. C. (Per)', 'Alarcon J. (Per)', 'Perez R. B. (Per)', 'Espinoza M. (Per)', 0, 0, 0, 0, 0, 0, 0, 0, 'Garay Evia L. (Per)', 'Lozano S. (Per)', 'Huaman D. (Per)', 'Vasquez B. (Per)', 'Legario F. (Per)', 'Villegas H. (Per)', 0, 0, 0, 0, 0, 0, 0, 0, 'Alarcon J. (Per)', 'Ciriaco L. (Per)', 'Lozano C. (Arg)', 'Alarcon J. (Per)', 'Perez R. B. (Per)', 'Villegas H. (Per)', 0, 0, 0, 0, 0, 0, 0, 0, 'Ureta D. (Per)', 'Garay L. (Per)', 'Quiroz J. (Per)', 'Estadio Inca Garcilaso de la Vega (Cusco)', 'Estadio Iván Elías Moreno (Lima)', 0, 0, 0, 0, 0, 0, 0, 0, 0, 'Estadio San Martin de Porres (Lima)', 'Alarcon J. (Per)', 'Perez R. B. (Per)', 0, 0, 0, 0, 0, 0, 0, 0, 0, 0, 0, 'Alarcon J. (Per)', 'Ortega K. (Per)', 'Ureta D. (Per)', 'Seminario L. (Per)', 'Lozano Segado J. (Esp)', 'Barbagelatta G. (Per)', 0, 0, 0, 0, 0, 0, 0, 0, 'Legario F. (Per)', 'Barbagelatta G. (Per)', 'Cartagena J. (Per)', 'Villegas H. (Per)', 'Huaman D. (Per)', 0, 0, 0, 0, 0, 0, 0, 0, 0, 'Espinoza J. (Per)', 'Seminario L. (Per)', 'Villegas H. (Per)', 'Ortega K. (Arg)', 'Menendez A. (Per)', 0, 0, 0, 0, 0, 0, 0, 0, 0, 'Alarcon J. (Per)', 'Estadio Miguel Grau (Callao)', 'Villegas H. (Per)', 'Cartagena J. (Per)', 'Perez R. B. (Per)', 'Ortega K. (Per)', 0, 0, 0, 0, 0, 0, 0, 0, 'Huaman D. (Per)', 'Perez R. B. (Per)', 'Seminario L. (Per)', 'Mendoza J. (Per)', 'Alarcon J. (Per)', 'Ordonez E. (Per)', 0, 0, 0, 0, 0, 0, 0, 0, 'Alarcon J. (Per)', 'Zamora J. (Per)', 'Espinoza J. (Per)', 'Seminario L. (Per)', 'Ordonez E. (Per)', 0, 0, 0, 0, 0, 0, 0, 0, 0, 'Palomino M. (Per)', 'Legario F. (Per)', 'Espinoza J. (Per)', 'Estadio Huancayo (Huancayo)', 'Espinoza M. (Per)', 0, 0, 0, 0, 0, 0, 0, 0, 0, 'Perez R. B. (Per)', 'Lopez R. (Per)', 'Ordonez E. (Per)', 'Espinoza J. (Per)', 'Huaman D. (Per)', 'Legario F. (Per)', 0, 0, 0, 0, 0, 0, 0, 0, 0, 0, 0, 0, 0, 0, 0, 0, 0]\n",
      "\n"
     ]
    },
    {
     "name": "stderr",
     "output_type": "stream",
     "text": [
      "[WDM] - ====== WebDriver manager ======\n",
      "[WDM] - Current google-chrome version is 104.0.5112\n",
      "[WDM] - Get LATEST chromedriver version for 104.0.5112 google-chrome\n",
      "[WDM] - Driver [C:\\Users\\PC-1\\.wdm\\drivers\\chromedriver\\win32\\104.0.5112.79\\chromedriver.exe] found in cache\n"
     ]
    },
    {
     "name": "stdout",
     "output_type": "stream",
     "text": [
      "Termino 103\n",
      "['Perez R. B. (Per)', 'Quiroz J. C. (Per)', 'Villegas H. (Per)', 'Lozano S. (Per)', 'Ortega K. (Per)', 'Menendez A. (Per)', 0, 0, 0, 0, 0, 0, 0, 0, 'Cartagena J. (Per)', 'Villegas H. (Per)', 'Cori V. (Per)', 'Villanueva A. (Per)', 'Legario F. (Per)', 'Blas W. (Per)', 0, 0, 0, 0, 0, 0, 0, 0, 'Espinoza M. (Per)', 'Ordonez E. (Per)', 'Quiroz J. C. (Per)', 'Alarcon J. (Per)', 'Perez R. B. (Per)', 'Espinoza M. (Per)', 0, 0, 0, 0, 0, 0, 0, 0, 'Garay Evia L. (Per)', 'Lozano S. (Per)', 'Huaman D. (Per)', 'Vasquez B. (Per)', 'Legario F. (Per)', 'Villegas H. (Per)', 0, 0, 0, 0, 0, 0, 0, 0, 'Alarcon J. (Per)', 'Ciriaco L. (Per)', 'Lozano C. (Arg)', 'Alarcon J. (Per)', 'Perez R. B. (Per)', 'Villegas H. (Per)', 0, 0, 0, 0, 0, 0, 0, 0, 'Ureta D. (Per)', 'Garay L. (Per)', 'Quiroz J. (Per)', 'Estadio Inca Garcilaso de la Vega (Cusco)', 'Estadio Iván Elías Moreno (Lima)', 0, 0, 0, 0, 0, 0, 0, 0, 0, 'Estadio San Martin de Porres (Lima)', 'Alarcon J. (Per)', 'Perez R. B. (Per)', 'Villanueva A. (Per)', 0, 0, 0, 0, 0, 0, 0, 0, 0, 0, 'Alarcon J. (Per)', 'Ortega K. (Per)', 'Ureta D. (Per)', 'Seminario L. (Per)', 'Lozano Segado J. (Esp)', 'Barbagelatta G. (Per)', 0, 0, 0, 0, 0, 0, 0, 0, 'Legario F. (Per)', 'Barbagelatta G. (Per)', 'Cartagena J. (Per)', 'Villegas H. (Per)', 'Huaman D. (Per)', 'Seminario L. (Per)', 0, 0, 0, 0, 0, 0, 0, 0, 'Espinoza J. (Per)', 'Seminario L. (Per)', 'Villegas H. (Per)', 'Ortega K. (Arg)', 'Menendez A. (Per)', 0, 0, 0, 0, 0, 0, 0, 0, 0, 'Alarcon J. (Per)', 'Estadio Miguel Grau (Callao)', 'Villegas H. (Per)', 'Cartagena J. (Per)', 'Perez R. B. (Per)', 'Ortega K. (Per)', 0, 0, 0, 0, 0, 0, 0, 0, 'Huaman D. (Per)', 'Perez R. B. (Per)', 'Seminario L. (Per)', 'Mendoza J. (Per)', 'Alarcon J. (Per)', 'Ordonez E. (Per)', 0, 0, 0, 0, 0, 0, 0, 0, 'Alarcon J. (Per)', 'Zamora J. (Per)', 'Espinoza J. (Per)', 'Seminario L. (Per)', 'Ordonez E. (Per)', 0, 0, 0, 0, 0, 0, 0, 0, 0, 'Palomino M. (Per)', 'Legario F. (Per)', 'Espinoza J. (Per)', 'Estadio Huancayo (Huancayo)', 'Espinoza M. (Per)', 0, 0, 0, 0, 0, 0, 0, 0, 0, 'Perez R. B. (Per)', 'Lopez R. (Per)', 'Ordonez E. (Per)', 'Espinoza J. (Per)', 'Huaman D. (Per)', 'Legario F. (Per)', 0, 0, 0, 0, 0, 0, 0, 0, 0, 0, 0, 0, 0, 0, 0, 0, 0]\n",
      "\n"
     ]
    },
    {
     "name": "stderr",
     "output_type": "stream",
     "text": [
      "[WDM] - ====== WebDriver manager ======\n",
      "[WDM] - Current google-chrome version is 104.0.5112\n",
      "[WDM] - Get LATEST chromedriver version for 104.0.5112 google-chrome\n",
      "[WDM] - Driver [C:\\Users\\PC-1\\.wdm\\drivers\\chromedriver\\win32\\104.0.5112.79\\chromedriver.exe] found in cache\n"
     ]
    },
    {
     "name": "stdout",
     "output_type": "stream",
     "text": [
      "Termino 47\n",
      "['Perez R. B. (Per)', 'Quiroz J. C. (Per)', 'Villegas H. (Per)', 'Lozano S. (Per)', 'Ortega K. (Per)', 'Menendez A. (Per)', 0, 0, 0, 0, 0, 0, 0, 0, 'Cartagena J. (Per)', 'Villegas H. (Per)', 'Cori V. (Per)', 'Villanueva A. (Per)', 'Legario F. (Per)', 'Blas W. (Per)', 0, 0, 0, 0, 0, 0, 0, 0, 'Espinoza M. (Per)', 'Ordonez E. (Per)', 'Quiroz J. C. (Per)', 'Alarcon J. (Per)', 'Perez R. B. (Per)', 'Espinoza M. (Per)', 0, 0, 0, 0, 0, 0, 0, 0, 'Garay Evia L. (Per)', 'Lozano S. (Per)', 'Huaman D. (Per)', 'Vasquez B. (Per)', 'Legario F. (Per)', 'Villegas H. (Per)', 0, 0, 0, 0, 0, 0, 0, 0, 'Alarcon J. (Per)', 'Ciriaco L. (Per)', 'Lozano C. (Arg)', 'Alarcon J. (Per)', 'Perez R. B. (Per)', 'Villegas H. (Per)', 0, 0, 0, 0, 0, 0, 0, 0, 'Ureta D. (Per)', 'Garay L. (Per)', 'Quiroz J. (Per)', 'Estadio Inca Garcilaso de la Vega (Cusco)', 'Estadio Iván Elías Moreno (Lima)', 0, 0, 0, 0, 0, 0, 0, 0, 0, 'Estadio San Martin de Porres (Lima)', 'Alarcon J. (Per)', 'Perez R. B. (Per)', 'Villanueva A. (Per)', 0, 0, 0, 0, 0, 0, 0, 0, 0, 0, 'Alarcon J. (Per)', 'Ortega K. (Per)', 'Ureta D. (Per)', 'Seminario L. (Per)', 'Lozano Segado J. (Esp)', 'Barbagelatta G. (Per)', 0, 0, 0, 0, 0, 0, 0, 0, 'Legario F. (Per)', 'Barbagelatta G. (Per)', 'Cartagena J. (Per)', 'Villegas H. (Per)', 'Huaman D. (Per)', 'Seminario L. (Per)', 0, 0, 0, 0, 0, 0, 0, 0, 'Espinoza J. (Per)', 'Seminario L. (Per)', 'Villegas H. (Per)', 'Ortega K. (Arg)', 'Menendez A. (Per)', 'Ortega K. (Per)', 0, 0, 0, 0, 0, 0, 0, 0, 'Alarcon J. (Per)', 'Estadio Miguel Grau (Callao)', 'Villegas H. (Per)', 'Cartagena J. (Per)', 'Perez R. B. (Per)', 'Ortega K. (Per)', 0, 0, 0, 0, 0, 0, 0, 0, 'Huaman D. (Per)', 'Perez R. B. (Per)', 'Seminario L. (Per)', 'Mendoza J. (Per)', 'Alarcon J. (Per)', 'Ordonez E. (Per)', 0, 0, 0, 0, 0, 0, 0, 0, 'Alarcon J. (Per)', 'Zamora J. (Per)', 'Espinoza J. (Per)', 'Seminario L. (Per)', 'Ordonez E. (Per)', 0, 0, 0, 0, 0, 0, 0, 0, 0, 'Palomino M. (Per)', 'Legario F. (Per)', 'Espinoza J. (Per)', 'Estadio Huancayo (Huancayo)', 'Espinoza M. (Per)', 0, 0, 0, 0, 0, 0, 0, 0, 0, 'Perez R. B. (Per)', 'Lopez R. (Per)', 'Ordonez E. (Per)', 'Espinoza J. (Per)', 'Huaman D. (Per)', 'Legario F. (Per)', 0, 0, 0, 0, 0, 0, 0, 0, 0, 0, 0, 0, 0, 0, 0, 0, 0]\n",
      "\n"
     ]
    },
    {
     "name": "stderr",
     "output_type": "stream",
     "text": [
      "[WDM] - ====== WebDriver manager ======\n"
     ]
    },
    {
     "name": "stdout",
     "output_type": "stream",
     "text": [
      "Termino 159\n",
      "['Perez R. B. (Per)', 'Quiroz J. C. (Per)', 'Villegas H. (Per)', 'Lozano S. (Per)', 'Ortega K. (Per)', 'Menendez A. (Per)', 0, 0, 0, 0, 0, 0, 0, 0, 'Cartagena J. (Per)', 'Villegas H. (Per)', 'Cori V. (Per)', 'Villanueva A. (Per)', 'Legario F. (Per)', 'Blas W. (Per)', 0, 0, 0, 0, 0, 0, 0, 0, 'Espinoza M. (Per)', 'Ordonez E. (Per)', 'Quiroz J. C. (Per)', 'Alarcon J. (Per)', 'Perez R. B. (Per)', 'Espinoza M. (Per)', 0, 0, 0, 0, 0, 0, 0, 0, 'Garay Evia L. (Per)', 'Lozano S. (Per)', 'Huaman D. (Per)', 'Vasquez B. (Per)', 'Legario F. (Per)', 'Villegas H. (Per)', 0, 0, 0, 0, 0, 0, 0, 0, 'Alarcon J. (Per)', 'Ciriaco L. (Per)', 'Lozano C. (Arg)', 'Alarcon J. (Per)', 'Perez R. B. (Per)', 'Villegas H. (Per)', 0, 0, 0, 0, 0, 0, 0, 0, 'Ureta D. (Per)', 'Garay L. (Per)', 'Quiroz J. (Per)', 'Estadio Inca Garcilaso de la Vega (Cusco)', 'Estadio Iván Elías Moreno (Lima)', 0, 0, 0, 0, 0, 0, 0, 0, 0, 'Estadio San Martin de Porres (Lima)', 'Alarcon J. (Per)', 'Perez R. B. (Per)', 'Villanueva A. (Per)', 0, 0, 0, 0, 0, 0, 0, 0, 0, 0, 'Alarcon J. (Per)', 'Ortega K. (Per)', 'Ureta D. (Per)', 'Seminario L. (Per)', 'Lozano Segado J. (Esp)', 'Barbagelatta G. (Per)', 0, 0, 0, 0, 0, 0, 0, 0, 'Legario F. (Per)', 'Barbagelatta G. (Per)', 'Cartagena J. (Per)', 'Villegas H. (Per)', 'Huaman D. (Per)', 'Seminario L. (Per)', 0, 0, 0, 0, 0, 0, 0, 0, 'Espinoza J. (Per)', 'Seminario L. (Per)', 'Villegas H. (Per)', 'Ortega K. (Arg)', 'Menendez A. (Per)', 'Ortega K. (Per)', 0, 0, 0, 0, 0, 0, 0, 0, 'Alarcon J. (Per)', 'Estadio Miguel Grau (Callao)', 'Villegas H. (Per)', 'Cartagena J. (Per)', 'Perez R. B. (Per)', 'Ortega K. (Per)', 0, 0, 0, 0, 0, 0, 0, 0, 'Huaman D. (Per)', 'Perez R. B. (Per)', 'Seminario L. (Per)', 'Mendoza J. (Per)', 'Alarcon J. (Per)', 'Ordonez E. (Per)', 0, 0, 0, 0, 0, 0, 0, 0, 'Alarcon J. (Per)', 'Zamora J. (Per)', 'Espinoza J. (Per)', 'Seminario L. (Per)', 'Ordonez E. (Per)', 0, 0, 0, 0, 0, 0, 0, 0, 0, 'Palomino M. (Per)', 'Legario F. (Per)', 'Espinoza J. (Per)', 'Estadio Huancayo (Huancayo)', 'Espinoza M. (Per)', 0, 0, 0, 0, 0, 0, 0, 0, 0, 'Perez R. B. (Per)', 'Lopez R. (Per)', 'Ordonez E. (Per)', 'Espinoza J. (Per)', 'Huaman D. (Per)', 'Legario F. (Per)', 0, 0, 0, 0, 0, 0, 0, 0, 0, 0, 0, 0, 0, 0, 0, 0, 0]\n",
      "\n"
     ]
    },
    {
     "name": "stderr",
     "output_type": "stream",
     "text": [
      "[WDM] - ====== WebDriver manager ======\n"
     ]
    },
    {
     "name": "stdout",
     "output_type": "stream",
     "text": [
      "Termino 33\n",
      "['Perez R. B. (Per)', 'Quiroz J. C. (Per)', 'Villegas H. (Per)', 'Lozano S. (Per)', 'Ortega K. (Per)', 'Menendez A. (Per)', 0, 0, 0, 0, 0, 0, 0, 0, 'Cartagena J. (Per)', 'Villegas H. (Per)', 'Cori V. (Per)', 'Villanueva A. (Per)', 'Legario F. (Per)', 'Blas W. (Per)', 0, 0, 0, 0, 0, 0, 0, 0, 'Espinoza M. (Per)', 'Ordonez E. (Per)', 'Quiroz J. C. (Per)', 'Alarcon J. (Per)', 'Perez R. B. (Per)', 'Espinoza M. (Per)', 0, 0, 0, 0, 0, 0, 0, 0, 'Garay Evia L. (Per)', 'Lozano S. (Per)', 'Huaman D. (Per)', 'Vasquez B. (Per)', 'Legario F. (Per)', 'Villegas H. (Per)', 0, 0, 0, 0, 0, 0, 0, 0, 'Alarcon J. (Per)', 'Ciriaco L. (Per)', 'Lozano C. (Arg)', 'Alarcon J. (Per)', 'Perez R. B. (Per)', 'Villegas H. (Per)', 0, 0, 0, 0, 0, 0, 0, 0, 'Ureta D. (Per)', 'Garay L. (Per)', 'Quiroz J. (Per)', 'Estadio Inca Garcilaso de la Vega (Cusco)', 'Estadio Iván Elías Moreno (Lima)', 'Zamora J. (Per)', 0, 0, 0, 0, 0, 0, 0, 0, 'Estadio San Martin de Porres (Lima)', 'Alarcon J. (Per)', 'Perez R. B. (Per)', 'Villanueva A. (Per)', 0, 0, 0, 0, 0, 0, 0, 0, 0, 0, 'Alarcon J. (Per)', 'Ortega K. (Per)', 'Ureta D. (Per)', 'Seminario L. (Per)', 'Lozano Segado J. (Esp)', 'Barbagelatta G. (Per)', 0, 0, 0, 0, 0, 0, 0, 0, 'Legario F. (Per)', 'Barbagelatta G. (Per)', 'Cartagena J. (Per)', 'Villegas H. (Per)', 'Huaman D. (Per)', 'Seminario L. (Per)', 0, 0, 0, 0, 0, 0, 0, 0, 'Espinoza J. (Per)', 'Seminario L. (Per)', 'Villegas H. (Per)', 'Ortega K. (Arg)', 'Menendez A. (Per)', 'Ortega K. (Per)', 0, 0, 0, 0, 0, 0, 0, 0, 'Alarcon J. (Per)', 'Estadio Miguel Grau (Callao)', 'Villegas H. (Per)', 'Cartagena J. (Per)', 'Perez R. B. (Per)', 'Ortega K. (Per)', 0, 0, 0, 0, 0, 0, 0, 0, 'Huaman D. (Per)', 'Perez R. B. (Per)', 'Seminario L. (Per)', 'Mendoza J. (Per)', 'Alarcon J. (Per)', 'Ordonez E. (Per)', 0, 0, 0, 0, 0, 0, 0, 0, 'Alarcon J. (Per)', 'Zamora J. (Per)', 'Espinoza J. (Per)', 'Seminario L. (Per)', 'Ordonez E. (Per)', 0, 0, 0, 0, 0, 0, 0, 0, 0, 'Palomino M. (Per)', 'Legario F. (Per)', 'Espinoza J. (Per)', 'Estadio Huancayo (Huancayo)', 'Espinoza M. (Per)', 0, 0, 0, 0, 0, 0, 0, 0, 0, 'Perez R. B. (Per)', 'Lopez R. (Per)', 'Ordonez E. (Per)', 'Espinoza J. (Per)', 'Huaman D. (Per)', 'Legario F. (Per)', 0, 0, 0, 0, 0, 0, 0, 0, 0, 0, 0, 0, 0, 0, 0, 0, 0]\n",
      "\n"
     ]
    },
    {
     "name": "stderr",
     "output_type": "stream",
     "text": [
      "[WDM] - ====== WebDriver manager ======\n"
     ]
    },
    {
     "name": "stdout",
     "output_type": "stream",
     "text": [
      "Termino 201\n",
      "['Perez R. B. (Per)', 'Quiroz J. C. (Per)', 'Villegas H. (Per)', 'Lozano S. (Per)', 'Ortega K. (Per)', 'Menendez A. (Per)', 0, 0, 0, 0, 0, 0, 0, 0, 'Cartagena J. (Per)', 'Villegas H. (Per)', 'Cori V. (Per)', 'Villanueva A. (Per)', 'Legario F. (Per)', 'Blas W. (Per)', 0, 0, 0, 0, 0, 0, 0, 0, 'Espinoza M. (Per)', 'Ordonez E. (Per)', 'Quiroz J. C. (Per)', 'Alarcon J. (Per)', 'Perez R. B. (Per)', 'Espinoza M. (Per)', 0, 0, 0, 0, 0, 0, 0, 0, 'Garay Evia L. (Per)', 'Lozano S. (Per)', 'Huaman D. (Per)', 'Vasquez B. (Per)', 'Legario F. (Per)', 'Villegas H. (Per)', 0, 0, 0, 0, 0, 0, 0, 0, 'Alarcon J. (Per)', 'Ciriaco L. (Per)', 'Lozano C. (Arg)', 'Alarcon J. (Per)', 'Perez R. B. (Per)', 'Villegas H. (Per)', 0, 0, 0, 0, 0, 0, 0, 0, 'Ureta D. (Per)', 'Garay L. (Per)', 'Quiroz J. (Per)', 'Estadio Inca Garcilaso de la Vega (Cusco)', 'Estadio Iván Elías Moreno (Lima)', 'Zamora J. (Per)', 0, 0, 0, 0, 0, 0, 0, 0, 'Estadio San Martin de Porres (Lima)', 'Alarcon J. (Per)', 'Perez R. B. (Per)', 'Villanueva A. (Per)', 0, 0, 0, 0, 0, 0, 0, 0, 0, 0, 'Alarcon J. (Per)', 'Ortega K. (Per)', 'Ureta D. (Per)', 'Seminario L. (Per)', 'Lozano Segado J. (Esp)', 'Barbagelatta G. (Per)', 0, 0, 0, 0, 0, 0, 0, 0, 'Legario F. (Per)', 'Barbagelatta G. (Per)', 'Cartagena J. (Per)', 'Villegas H. (Per)', 'Huaman D. (Per)', 'Seminario L. (Per)', 0, 0, 0, 0, 0, 0, 0, 0, 'Espinoza J. (Per)', 'Seminario L. (Per)', 'Villegas H. (Per)', 'Ortega K. (Arg)', 'Menendez A. (Per)', 'Ortega K. (Per)', 0, 0, 0, 0, 0, 0, 0, 0, 'Alarcon J. (Per)', 'Estadio Miguel Grau (Callao)', 'Villegas H. (Per)', 'Cartagena J. (Per)', 'Perez R. B. (Per)', 'Ortega K. (Per)', 0, 0, 0, 0, 0, 0, 0, 0, 'Huaman D. (Per)', 'Perez R. B. (Per)', 'Seminario L. (Per)', 'Mendoza J. (Per)', 'Alarcon J. (Per)', 'Ordonez E. (Per)', 0, 0, 0, 0, 0, 0, 0, 0, 'Alarcon J. (Per)', 'Zamora J. (Per)', 'Espinoza J. (Per)', 'Seminario L. (Per)', 'Ordonez E. (Per)', 0, 0, 0, 0, 0, 0, 0, 0, 0, 'Palomino M. (Per)', 'Legario F. (Per)', 'Espinoza J. (Per)', 'Estadio Huancayo (Huancayo)', 'Espinoza M. (Per)', 0, 0, 0, 0, 0, 0, 0, 0, 0, 'Perez R. B. (Per)', 'Lopez R. (Per)', 'Ordonez E. (Per)', 'Espinoza J. (Per)', 'Huaman D. (Per)', 'Legario F. (Per)', 0, 0, 0, 0, 0, 0, 0, 0, 0, 0, 0, 0, 0, 0, 0, 0, 0]\n",
      "\n"
     ]
    },
    {
     "name": "stderr",
     "output_type": "stream",
     "text": [
      "[WDM] - ====== WebDriver manager ======\n",
      "[WDM] - Current google-chrome version is 104.0.5112\n",
      "[WDM] - Get LATEST chromedriver version for 104.0.5112 google-chrome\n",
      "[WDM] - Driver [C:\\Users\\PC-1\\.wdm\\drivers\\chromedriver\\win32\\104.0.5112.79\\chromedriver.exe] found in cache\n",
      "[WDM] - Current google-chrome version is 104.0.5112\n",
      "[WDM] - Get LATEST chromedriver version for 104.0.5112 google-chrome\n",
      "[WDM] - Driver [C:\\Users\\PC-1\\.wdm\\drivers\\chromedriver\\win32\\104.0.5112.79\\chromedriver.exe] found in cache\n",
      "[WDM] - Current google-chrome version is 104.0.5112\n",
      "[WDM] - Get LATEST chromedriver version for 104.0.5112 google-chrome\n",
      "[WDM] - Driver [C:\\Users\\PC-1\\.wdm\\drivers\\chromedriver\\win32\\104.0.5112.79\\chromedriver.exe] found in cache\n",
      "[WDM] - Current google-chrome version is 104.0.5112\n",
      "[WDM] - Get LATEST chromedriver version for 104.0.5112 google-chrome\n",
      "[WDM] - Driver [C:\\Users\\PC-1\\.wdm\\drivers\\chromedriver\\win32\\104.0.5112.79\\chromedriver.exe] found in cache\n"
     ]
    },
    {
     "name": "stdout",
     "output_type": "stream",
     "text": [
      "Termino 172\n",
      "['Perez R. B. (Per)', 'Quiroz J. C. (Per)', 'Villegas H. (Per)', 'Lozano S. (Per)', 'Ortega K. (Per)', 'Menendez A. (Per)', 0, 0, 0, 0, 0, 0, 0, 0, 'Cartagena J. (Per)', 'Villegas H. (Per)', 'Cori V. (Per)', 'Villanueva A. (Per)', 'Legario F. (Per)', 'Blas W. (Per)', 0, 0, 0, 0, 0, 0, 0, 0, 'Espinoza M. (Per)', 'Ordonez E. (Per)', 'Quiroz J. C. (Per)', 'Alarcon J. (Per)', 'Perez R. B. (Per)', 'Espinoza M. (Per)', 0, 0, 0, 0, 0, 0, 0, 0, 'Garay Evia L. (Per)', 'Lozano S. (Per)', 'Huaman D. (Per)', 'Vasquez B. (Per)', 'Legario F. (Per)', 'Villegas H. (Per)', 0, 0, 0, 0, 0, 0, 0, 0, 'Alarcon J. (Per)', 'Ciriaco L. (Per)', 'Lozano C. (Arg)', 'Alarcon J. (Per)', 'Perez R. B. (Per)', 'Villegas H. (Per)', 0, 0, 0, 0, 0, 0, 0, 0, 'Ureta D. (Per)', 'Garay L. (Per)', 'Quiroz J. (Per)', 'Estadio Inca Garcilaso de la Vega (Cusco)', 'Estadio Iván Elías Moreno (Lima)', 'Zamora J. (Per)', 0, 0, 0, 0, 0, 0, 0, 0, 'Estadio San Martin de Porres (Lima)', 'Alarcon J. (Per)', 'Perez R. B. (Per)', 'Villanueva A. (Per)', 0, 0, 0, 0, 0, 0, 0, 0, 0, 0, 'Alarcon J. (Per)', 'Ortega K. (Per)', 'Ureta D. (Per)', 'Seminario L. (Per)', 'Lozano Segado J. (Esp)', 'Barbagelatta G. (Per)', 0, 0, 0, 0, 0, 0, 0, 0, 'Legario F. (Per)', 'Barbagelatta G. (Per)', 'Cartagena J. (Per)', 'Villegas H. (Per)', 'Huaman D. (Per)', 'Seminario L. (Per)', 0, 0, 0, 0, 0, 0, 0, 0, 'Espinoza J. (Per)', 'Seminario L. (Per)', 'Villegas H. (Per)', 'Ortega K. (Arg)', 'Menendez A. (Per)', 'Ortega K. (Per)', 0, 0, 0, 0, 0, 0, 0, 0, 'Alarcon J. (Per)', 'Estadio Miguel Grau (Callao)', 'Villegas H. (Per)', 'Cartagena J. (Per)', 'Perez R. B. (Per)', 'Ortega K. (Per)', 0, 0, 0, 0, 0, 0, 0, 0, 'Huaman D. (Per)', 'Perez R. B. (Per)', 'Seminario L. (Per)', 'Mendoza J. (Per)', 'Alarcon J. (Per)', 'Ordonez E. (Per)', 0, 0, 0, 0, 0, 0, 0, 0, 'Alarcon J. (Per)', 'Zamora J. (Per)', 'Espinoza J. (Per)', 'Seminario L. (Per)', 'Ordonez E. (Per)', 0, 0, 0, 0, 0, 0, 0, 0, 0, 'Palomino M. (Per)', 'Legario F. (Per)', 'Espinoza J. (Per)', 'Estadio Huancayo (Huancayo)', 'Espinoza M. (Per)', 0, 0, 0, 0, 0, 0, 0, 0, 0, 'Perez R. B. (Per)', 'Lopez R. (Per)', 'Ordonez E. (Per)', 'Espinoza J. (Per)', 'Huaman D. (Per)', 'Legario F. (Per)', 0, 0, 0, 0, 0, 0, 0, 0, 0, 0, 0, 0, 0, 0, 0, 0, 0]\n",
      "\n"
     ]
    },
    {
     "name": "stderr",
     "output_type": "stream",
     "text": [
      "[WDM] - ====== WebDriver manager ======\n"
     ]
    },
    {
     "name": "stdout",
     "output_type": "stream",
     "text": [
      "Termino 131\n",
      "['Perez R. B. (Per)', 'Quiroz J. C. (Per)', 'Villegas H. (Per)', 'Lozano S. (Per)', 'Ortega K. (Per)', 'Menendez A. (Per)', 0, 0, 0, 0, 0, 0, 0, 0, 'Cartagena J. (Per)', 'Villegas H. (Per)', 'Cori V. (Per)', 'Villanueva A. (Per)', 'Legario F. (Per)', 'Blas W. (Per)', 0, 0, 0, 0, 0, 0, 0, 0, 'Espinoza M. (Per)', 'Ordonez E. (Per)', 'Quiroz J. C. (Per)', 'Alarcon J. (Per)', 'Perez R. B. (Per)', 'Espinoza M. (Per)', 0, 0, 0, 0, 0, 0, 0, 0, 'Garay Evia L. (Per)', 'Lozano S. (Per)', 'Huaman D. (Per)', 'Vasquez B. (Per)', 'Legario F. (Per)', 'Villegas H. (Per)', 0, 0, 0, 0, 0, 0, 0, 0, 'Alarcon J. (Per)', 'Ciriaco L. (Per)', 'Lozano C. (Arg)', 'Alarcon J. (Per)', 'Perez R. B. (Per)', 'Villegas H. (Per)', 0, 0, 0, 0, 0, 0, 0, 0, 'Ureta D. (Per)', 'Garay L. (Per)', 'Quiroz J. (Per)', 'Estadio Inca Garcilaso de la Vega (Cusco)', 'Estadio Iván Elías Moreno (Lima)', 'Zamora J. (Per)', 0, 0, 0, 0, 0, 0, 0, 0, 'Estadio San Martin de Porres (Lima)', 'Alarcon J. (Per)', 'Perez R. B. (Per)', 'Villanueva A. (Per)', 0, 0, 0, 0, 0, 0, 0, 0, 0, 0, 'Alarcon J. (Per)', 'Ortega K. (Per)', 'Ureta D. (Per)', 'Seminario L. (Per)', 'Lozano Segado J. (Esp)', 'Barbagelatta G. (Per)', 0, 0, 0, 0, 0, 0, 0, 0, 'Legario F. (Per)', 'Barbagelatta G. (Per)', 'Cartagena J. (Per)', 'Villegas H. (Per)', 'Huaman D. (Per)', 'Seminario L. (Per)', 0, 0, 0, 0, 0, 0, 0, 0, 'Espinoza J. (Per)', 'Seminario L. (Per)', 'Villegas H. (Per)', 'Ortega K. (Arg)', 'Menendez A. (Per)', 'Ortega K. (Per)', 0, 0, 0, 0, 0, 0, 0, 0, 'Alarcon J. (Per)', 'Estadio Miguel Grau (Callao)', 'Villegas H. (Per)', 'Cartagena J. (Per)', 'Perez R. B. (Per)', 'Ortega K. (Per)', 0, 0, 0, 0, 0, 0, 0, 0, 'Huaman D. (Per)', 'Perez R. B. (Per)', 'Seminario L. (Per)', 'Mendoza J. (Per)', 'Alarcon J. (Per)', 'Ordonez E. (Per)', 0, 0, 0, 0, 0, 0, 0, 0, 'Alarcon J. (Per)', 'Zamora J. (Per)', 'Espinoza J. (Per)', 'Seminario L. (Per)', 'Ordonez E. (Per)', 0, 0, 0, 0, 0, 0, 0, 0, 0, 'Palomino M. (Per)', 'Legario F. (Per)', 'Espinoza J. (Per)', 'Estadio Huancayo (Huancayo)', 'Espinoza M. (Per)', 0, 0, 0, 0, 0, 0, 0, 0, 0, 'Perez R. B. (Per)', 'Lopez R. (Per)', 'Ordonez E. (Per)', 'Espinoza J. (Per)', 'Huaman D. (Per)', 'Legario F. (Per)', 0, 0, 0, 0, 0, 0, 0, 0, 0, 0, 0, 0, 0, 0, 0, 0, 0]\n",
      "\n"
     ]
    },
    {
     "name": "stderr",
     "output_type": "stream",
     "text": [
      "[WDM] - ====== WebDriver manager ======\n",
      "[WDM] - Current google-chrome version is 104.0.5112\n",
      "[WDM] - Get LATEST chromedriver version for 104.0.5112 google-chrome\n",
      "[WDM] - Driver [C:\\Users\\PC-1\\.wdm\\drivers\\chromedriver\\win32\\104.0.5112.79\\chromedriver.exe] found in cache\n"
     ]
    },
    {
     "name": "stdout",
     "output_type": "stream",
     "text": [
      "Termino 145\n",
      "['Perez R. B. (Per)', 'Quiroz J. C. (Per)', 'Villegas H. (Per)', 'Lozano S. (Per)', 'Ortega K. (Per)', 'Menendez A. (Per)', 'Espinoza J. (Per)', 0, 0, 0, 0, 0, 0, 0, 'Cartagena J. (Per)', 'Villegas H. (Per)', 'Cori V. (Per)', 'Villanueva A. (Per)', 'Legario F. (Per)', 'Blas W. (Per)', 0, 0, 0, 0, 0, 0, 0, 0, 'Espinoza M. (Per)', 'Ordonez E. (Per)', 'Quiroz J. C. (Per)', 'Alarcon J. (Per)', 'Perez R. B. (Per)', 'Espinoza M. (Per)', 0, 0, 0, 0, 0, 0, 0, 0, 'Garay Evia L. (Per)', 'Lozano S. (Per)', 'Huaman D. (Per)', 'Vasquez B. (Per)', 'Legario F. (Per)', 'Villegas H. (Per)', 0, 0, 0, 0, 0, 0, 0, 0, 'Alarcon J. (Per)', 'Ciriaco L. (Per)', 'Lozano C. (Arg)', 'Alarcon J. (Per)', 'Perez R. B. (Per)', 'Villegas H. (Per)', 0, 0, 0, 0, 0, 0, 0, 0, 'Ureta D. (Per)', 'Garay L. (Per)', 'Quiroz J. (Per)', 'Estadio Inca Garcilaso de la Vega (Cusco)', 'Estadio Iván Elías Moreno (Lima)', 'Zamora J. (Per)', 0, 0, 0, 0, 0, 0, 0, 0, 'Estadio San Martin de Porres (Lima)', 'Alarcon J. (Per)', 'Perez R. B. (Per)', 'Villanueva A. (Per)', 0, 0, 0, 0, 0, 0, 0, 0, 0, 0, 'Alarcon J. (Per)', 'Ortega K. (Per)', 'Ureta D. (Per)', 'Seminario L. (Per)', 'Lozano Segado J. (Esp)', 'Barbagelatta G. (Per)', 0, 0, 0, 0, 0, 0, 0, 0, 'Legario F. (Per)', 'Barbagelatta G. (Per)', 'Cartagena J. (Per)', 'Villegas H. (Per)', 'Huaman D. (Per)', 'Seminario L. (Per)', 0, 0, 0, 0, 0, 0, 0, 0, 'Espinoza J. (Per)', 'Seminario L. (Per)', 'Villegas H. (Per)', 'Ortega K. (Arg)', 'Menendez A. (Per)', 'Ortega K. (Per)', 0, 0, 0, 0, 0, 0, 0, 0, 'Alarcon J. (Per)', 'Estadio Miguel Grau (Callao)', 'Villegas H. (Per)', 'Cartagena J. (Per)', 'Perez R. B. (Per)', 'Ortega K. (Per)', 0, 0, 0, 0, 0, 0, 0, 0, 'Huaman D. (Per)', 'Perez R. B. (Per)', 'Seminario L. (Per)', 'Mendoza J. (Per)', 'Alarcon J. (Per)', 'Ordonez E. (Per)', 0, 0, 0, 0, 0, 0, 0, 0, 'Alarcon J. (Per)', 'Zamora J. (Per)', 'Espinoza J. (Per)', 'Seminario L. (Per)', 'Ordonez E. (Per)', 0, 0, 0, 0, 0, 0, 0, 0, 0, 'Palomino M. (Per)', 'Legario F. (Per)', 'Espinoza J. (Per)', 'Estadio Huancayo (Huancayo)', 'Espinoza M. (Per)', 0, 0, 0, 0, 0, 0, 0, 0, 0, 'Perez R. B. (Per)', 'Lopez R. (Per)', 'Ordonez E. (Per)', 'Espinoza J. (Per)', 'Huaman D. (Per)', 'Legario F. (Per)', 0, 0, 0, 0, 0, 0, 0, 0, 0, 0, 0, 0, 0, 0, 0, 0, 0]\n",
      "\n"
     ]
    },
    {
     "name": "stderr",
     "output_type": "stream",
     "text": [
      "[WDM] - ====== WebDriver manager ======\n"
     ]
    },
    {
     "name": "stdout",
     "output_type": "stream",
     "text": [
      "Termino 87\n",
      "['Perez R. B. (Per)', 'Quiroz J. C. (Per)', 'Villegas H. (Per)', 'Lozano S. (Per)', 'Ortega K. (Per)', 'Menendez A. (Per)', 'Espinoza J. (Per)', 0, 0, 0, 0, 0, 0, 0, 'Cartagena J. (Per)', 'Villegas H. (Per)', 'Cori V. (Per)', 'Villanueva A. (Per)', 'Legario F. (Per)', 'Blas W. (Per)', 0, 0, 0, 0, 0, 0, 0, 0, 'Espinoza M. (Per)', 'Ordonez E. (Per)', 'Quiroz J. C. (Per)', 'Alarcon J. (Per)', 'Perez R. B. (Per)', 'Espinoza M. (Per)', 0, 0, 0, 0, 0, 0, 0, 0, 'Garay Evia L. (Per)', 'Lozano S. (Per)', 'Huaman D. (Per)', 'Vasquez B. (Per)', 'Legario F. (Per)', 'Villegas H. (Per)', 0, 0, 0, 0, 0, 0, 0, 0, 'Alarcon J. (Per)', 'Ciriaco L. (Per)', 'Lozano C. (Arg)', 'Alarcon J. (Per)', 'Perez R. B. (Per)', 'Villegas H. (Per)', 0, 0, 0, 0, 0, 0, 0, 0, 'Ureta D. (Per)', 'Garay L. (Per)', 'Quiroz J. (Per)', 'Estadio Inca Garcilaso de la Vega (Cusco)', 'Estadio Iván Elías Moreno (Lima)', 'Zamora J. (Per)', 0, 0, 0, 0, 0, 0, 0, 0, 'Estadio San Martin de Porres (Lima)', 'Alarcon J. (Per)', 'Perez R. B. (Per)', 'Villanueva A. (Per)', 0, 0, 0, 0, 0, 0, 0, 0, 0, 0, 'Alarcon J. (Per)', 'Ortega K. (Per)', 'Ureta D. (Per)', 'Seminario L. (Per)', 'Lozano Segado J. (Esp)', 'Barbagelatta G. (Per)', 0, 0, 0, 0, 0, 0, 0, 0, 'Legario F. (Per)', 'Barbagelatta G. (Per)', 'Cartagena J. (Per)', 'Villegas H. (Per)', 'Huaman D. (Per)', 'Seminario L. (Per)', 0, 0, 0, 0, 0, 0, 0, 0, 'Espinoza J. (Per)', 'Seminario L. (Per)', 'Villegas H. (Per)', 'Ortega K. (Arg)', 'Menendez A. (Per)', 'Ortega K. (Per)', 0, 0, 0, 0, 0, 0, 0, 0, 'Alarcon J. (Per)', 'Estadio Miguel Grau (Callao)', 'Villegas H. (Per)', 'Cartagena J. (Per)', 'Perez R. B. (Per)', 'Ortega K. (Per)', 0, 0, 0, 0, 0, 0, 0, 0, 'Huaman D. (Per)', 'Perez R. B. (Per)', 'Seminario L. (Per)', 'Mendoza J. (Per)', 'Alarcon J. (Per)', 'Ordonez E. (Per)', 0, 0, 0, 0, 0, 0, 0, 0, 'Alarcon J. (Per)', 'Zamora J. (Per)', 'Espinoza J. (Per)', 'Seminario L. (Per)', 'Ordonez E. (Per)', 0, 0, 0, 0, 0, 0, 0, 0, 0, 'Palomino M. (Per)', 'Legario F. (Per)', 'Espinoza J. (Per)', 'Estadio Huancayo (Huancayo)', 'Espinoza M. (Per)', 0, 0, 0, 0, 0, 0, 0, 0, 0, 'Perez R. B. (Per)', 'Lopez R. (Per)', 'Ordonez E. (Per)', 'Espinoza J. (Per)', 'Huaman D. (Per)', 'Legario F. (Per)', 0, 0, 0, 0, 0, 0, 0, 0, 0, 0, 0, 0, 0, 0, 0, 0, 0]\n",
      "\n"
     ]
    },
    {
     "name": "stderr",
     "output_type": "stream",
     "text": [
      "[WDM] - ====== WebDriver manager ======\n",
      "[WDM] - Current google-chrome version is 104.0.5112\n",
      "[WDM] - Get LATEST chromedriver version for 104.0.5112 google-chrome\n",
      "[WDM] - Driver [C:\\Users\\PC-1\\.wdm\\drivers\\chromedriver\\win32\\104.0.5112.79\\chromedriver.exe] found in cache\n",
      "[WDM] - Current google-chrome version is 104.0.5112\n",
      "[WDM] - Get LATEST chromedriver version for 104.0.5112 google-chrome\n"
     ]
    },
    {
     "name": "stdout",
     "output_type": "stream",
     "text": [
      "Termino 117\n",
      "['Perez R. B. (Per)', 'Quiroz J. C. (Per)', 'Villegas H. (Per)', 'Lozano S. (Per)', 'Ortega K. (Per)', 'Menendez A. (Per)', 'Espinoza J. (Per)', 0, 0, 0, 0, 0, 0, 0, 'Cartagena J. (Per)', 'Villegas H. (Per)', 'Cori V. (Per)', 'Villanueva A. (Per)', 'Legario F. (Per)', 'Blas W. (Per)', 0, 0, 0, 0, 0, 0, 0, 0, 'Espinoza M. (Per)', 'Ordonez E. (Per)', 'Quiroz J. C. (Per)', 'Alarcon J. (Per)', 'Perez R. B. (Per)', 'Espinoza M. (Per)', 0, 0, 0, 0, 0, 0, 0, 0, 'Garay Evia L. (Per)', 'Lozano S. (Per)', 'Huaman D. (Per)', 'Vasquez B. (Per)', 'Legario F. (Per)', 'Villegas H. (Per)', 0, 0, 0, 0, 0, 0, 0, 0, 'Alarcon J. (Per)', 'Ciriaco L. (Per)', 'Lozano C. (Arg)', 'Alarcon J. (Per)', 'Perez R. B. (Per)', 'Villegas H. (Per)', 0, 0, 0, 0, 0, 0, 0, 0, 'Ureta D. (Per)', 'Garay L. (Per)', 'Quiroz J. (Per)', 'Estadio Inca Garcilaso de la Vega (Cusco)', 'Estadio Iván Elías Moreno (Lima)', 'Zamora J. (Per)', 0, 0, 0, 0, 0, 0, 0, 0, 'Estadio San Martin de Porres (Lima)', 'Alarcon J. (Per)', 'Perez R. B. (Per)', 'Villanueva A. (Per)', 0, 0, 0, 0, 0, 0, 0, 0, 0, 0, 'Alarcon J. (Per)', 'Ortega K. (Per)', 'Ureta D. (Per)', 'Seminario L. (Per)', 'Lozano Segado J. (Esp)', 'Barbagelatta G. (Per)', 0, 0, 0, 0, 0, 0, 0, 0, 'Legario F. (Per)', 'Barbagelatta G. (Per)', 'Cartagena J. (Per)', 'Villegas H. (Per)', 'Huaman D. (Per)', 'Seminario L. (Per)', 0, 0, 0, 0, 0, 0, 0, 0, 'Espinoza J. (Per)', 'Seminario L. (Per)', 'Villegas H. (Per)', 'Ortega K. (Arg)', 'Menendez A. (Per)', 'Ortega K. (Per)', 0, 0, 0, 0, 0, 0, 0, 0, 'Alarcon J. (Per)', 'Estadio Miguel Grau (Callao)', 'Villegas H. (Per)', 'Cartagena J. (Per)', 'Perez R. B. (Per)', 'Ortega K. (Per)', 0, 0, 0, 0, 0, 0, 0, 0, 'Huaman D. (Per)', 'Perez R. B. (Per)', 'Seminario L. (Per)', 'Mendoza J. (Per)', 'Alarcon J. (Per)', 'Ordonez E. (Per)', 0, 0, 0, 0, 0, 0, 0, 0, 'Alarcon J. (Per)', 'Zamora J. (Per)', 'Espinoza J. (Per)', 'Seminario L. (Per)', 'Ordonez E. (Per)', 0, 0, 0, 0, 0, 0, 0, 0, 0, 'Palomino M. (Per)', 'Legario F. (Per)', 'Espinoza J. (Per)', 'Estadio Huancayo (Huancayo)', 'Espinoza M. (Per)', 0, 0, 0, 0, 0, 0, 0, 0, 0, 'Perez R. B. (Per)', 'Lopez R. (Per)', 'Ordonez E. (Per)', 'Espinoza J. (Per)', 'Huaman D. (Per)', 'Legario F. (Per)', 0, 0, 0, 0, 0, 0, 0, 0, 0, 0, 0, 0, 0, 0, 0, 0, 0]\n",
      "\n"
     ]
    },
    {
     "name": "stderr",
     "output_type": "stream",
     "text": [
      "[WDM] - ====== WebDriver manager ======\n",
      "[WDM] - Driver [C:\\Users\\PC-1\\.wdm\\drivers\\chromedriver\\win32\\104.0.5112.79\\chromedriver.exe] found in cache\n"
     ]
    },
    {
     "name": "stdout",
     "output_type": "stream",
     "text": [
      "Termino 75\n",
      "['Perez R. B. (Per)', 'Quiroz J. C. (Per)', 'Villegas H. (Per)', 'Lozano S. (Per)', 'Ortega K. (Per)', 'Menendez A. (Per)', 'Espinoza J. (Per)', 0, 0, 0, 0, 0, 0, 0, 'Cartagena J. (Per)', 'Villegas H. (Per)', 'Cori V. (Per)', 'Villanueva A. (Per)', 'Legario F. (Per)', 'Blas W. (Per)', 0, 0, 0, 0, 0, 0, 0, 0, 'Espinoza M. (Per)', 'Ordonez E. (Per)', 'Quiroz J. C. (Per)', 'Alarcon J. (Per)', 'Perez R. B. (Per)', 'Espinoza M. (Per)', 0, 0, 0, 0, 0, 0, 0, 0, 'Garay Evia L. (Per)', 'Lozano S. (Per)', 'Huaman D. (Per)', 'Vasquez B. (Per)', 'Legario F. (Per)', 'Villegas H. (Per)', 0, 0, 0, 0, 0, 0, 0, 0, 'Alarcon J. (Per)', 'Ciriaco L. (Per)', 'Lozano C. (Arg)', 'Alarcon J. (Per)', 'Perez R. B. (Per)', 'Villegas H. (Per)', 0, 0, 0, 0, 0, 0, 0, 0, 'Ureta D. (Per)', 'Garay L. (Per)', 'Quiroz J. (Per)', 'Estadio Inca Garcilaso de la Vega (Cusco)', 'Estadio Iván Elías Moreno (Lima)', 'Zamora J. (Per)', 0, 0, 0, 0, 0, 0, 0, 0, 'Estadio San Martin de Porres (Lima)', 'Alarcon J. (Per)', 'Perez R. B. (Per)', 'Villanueva A. (Per)', 0, 0, 0, 0, 0, 0, 0, 0, 0, 0, 'Alarcon J. (Per)', 'Ortega K. (Per)', 'Ureta D. (Per)', 'Seminario L. (Per)', 'Lozano Segado J. (Esp)', 'Barbagelatta G. (Per)', 0, 0, 0, 0, 0, 0, 0, 0, 'Legario F. (Per)', 'Barbagelatta G. (Per)', 'Cartagena J. (Per)', 'Villegas H. (Per)', 'Huaman D. (Per)', 'Seminario L. (Per)', 0, 0, 0, 0, 0, 0, 0, 0, 'Espinoza J. (Per)', 'Seminario L. (Per)', 'Villegas H. (Per)', 'Ortega K. (Arg)', 'Menendez A. (Per)', 'Ortega K. (Per)', 0, 0, 0, 0, 0, 0, 0, 0, 'Alarcon J. (Per)', 'Estadio Miguel Grau (Callao)', 'Villegas H. (Per)', 'Cartagena J. (Per)', 'Perez R. B. (Per)', 'Ortega K. (Per)', 0, 0, 0, 0, 0, 0, 0, 0, 'Huaman D. (Per)', 'Perez R. B. (Per)', 'Seminario L. (Per)', 'Mendoza J. (Per)', 'Alarcon J. (Per)', 'Ordonez E. (Per)', 0, 0, 0, 0, 0, 0, 0, 0, 'Alarcon J. (Per)', 'Zamora J. (Per)', 'Espinoza J. (Per)', 'Seminario L. (Per)', 'Ordonez E. (Per)', 0, 0, 0, 0, 0, 0, 0, 0, 0, 'Palomino M. (Per)', 'Legario F. (Per)', 'Espinoza J. (Per)', 'Estadio Huancayo (Huancayo)', 'Espinoza M. (Per)', 0, 0, 0, 0, 0, 0, 0, 0, 0, 'Perez R. B. (Per)', 'Lopez R. (Per)', 'Ordonez E. (Per)', 'Espinoza J. (Per)', 'Huaman D. (Per)', 'Legario F. (Per)', 0, 0, 0, 0, 0, 0, 0, 0, 0, 0, 0, 0, 0, 0, 0, 0, 0]\n",
      "\n"
     ]
    },
    {
     "name": "stderr",
     "output_type": "stream",
     "text": [
      "[WDM] - ====== WebDriver manager ======\n",
      "[WDM] - Current google-chrome version is 104.0.5112\n",
      "[WDM] - Get LATEST chromedriver version for 104.0.5112 google-chrome\n",
      "[WDM] - Driver [C:\\Users\\PC-1\\.wdm\\drivers\\chromedriver\\win32\\104.0.5112.79\\chromedriver.exe] found in cache\n",
      "[WDM] - Current google-chrome version is 104.0.5112\n",
      "[WDM] - Get LATEST chromedriver version for 104.0.5112 google-chrome\n",
      "[WDM] - Driver [C:\\Users\\PC-1\\.wdm\\drivers\\chromedriver\\win32\\104.0.5112.79\\chromedriver.exe] found in cache\n"
     ]
    },
    {
     "name": "stdout",
     "output_type": "stream",
     "text": [
      "Termino 6\n",
      "['Perez R. B. (Per)', 'Quiroz J. C. (Per)', 'Villegas H. (Per)', 'Lozano S. (Per)', 'Ortega K. (Per)', 'Menendez A. (Per)', 'Espinoza J. (Per)', 0, 0, 0, 0, 0, 0, 0, 'Cartagena J. (Per)', 'Villegas H. (Per)', 'Cori V. (Per)', 'Villanueva A. (Per)', 'Legario F. (Per)', 'Blas W. (Per)', 0, 0, 0, 0, 0, 0, 0, 0, 'Espinoza M. (Per)', 'Ordonez E. (Per)', 'Quiroz J. C. (Per)', 'Alarcon J. (Per)', 'Perez R. B. (Per)', 'Espinoza M. (Per)', 0, 0, 0, 0, 0, 0, 0, 0, 'Garay Evia L. (Per)', 'Lozano S. (Per)', 'Huaman D. (Per)', 'Vasquez B. (Per)', 'Legario F. (Per)', 'Villegas H. (Per)', 0, 0, 0, 0, 0, 0, 0, 0, 'Alarcon J. (Per)', 'Ciriaco L. (Per)', 'Lozano C. (Arg)', 'Alarcon J. (Per)', 'Perez R. B. (Per)', 'Villegas H. (Per)', 0, 0, 0, 0, 0, 0, 0, 0, 'Ureta D. (Per)', 'Garay L. (Per)', 'Quiroz J. (Per)', 'Estadio Inca Garcilaso de la Vega (Cusco)', 'Estadio Iván Elías Moreno (Lima)', 'Zamora J. (Per)', 0, 0, 0, 0, 0, 0, 0, 0, 'Estadio San Martin de Porres (Lima)', 'Alarcon J. (Per)', 'Perez R. B. (Per)', 'Villanueva A. (Per)', 0, 0, 0, 0, 0, 0, 0, 0, 0, 0, 'Alarcon J. (Per)', 'Ortega K. (Per)', 'Ureta D. (Per)', 'Seminario L. (Per)', 'Lozano Segado J. (Esp)', 'Barbagelatta G. (Per)', 0, 0, 0, 0, 0, 0, 0, 0, 'Legario F. (Per)', 'Barbagelatta G. (Per)', 'Cartagena J. (Per)', 'Villegas H. (Per)', 'Huaman D. (Per)', 'Seminario L. (Per)', 0, 0, 0, 0, 0, 0, 0, 0, 'Espinoza J. (Per)', 'Seminario L. (Per)', 'Villegas H. (Per)', 'Ortega K. (Arg)', 'Menendez A. (Per)', 'Ortega K. (Per)', 0, 0, 0, 0, 0, 0, 0, 0, 'Alarcon J. (Per)', 'Estadio Miguel Grau (Callao)', 'Villegas H. (Per)', 'Cartagena J. (Per)', 'Perez R. B. (Per)', 'Ortega K. (Per)', 0, 0, 0, 0, 0, 0, 0, 0, 'Huaman D. (Per)', 'Perez R. B. (Per)', 'Seminario L. (Per)', 'Mendoza J. (Per)', 'Alarcon J. (Per)', 'Ordonez E. (Per)', 0, 0, 0, 0, 0, 0, 0, 0, 'Alarcon J. (Per)', 'Zamora J. (Per)', 'Espinoza J. (Per)', 'Seminario L. (Per)', 'Ordonez E. (Per)', 0, 0, 0, 0, 0, 0, 0, 0, 0, 'Palomino M. (Per)', 'Legario F. (Per)', 'Espinoza J. (Per)', 'Estadio Huancayo (Huancayo)', 'Espinoza M. (Per)', 0, 0, 0, 0, 0, 0, 0, 0, 0, 'Perez R. B. (Per)', 'Lopez R. (Per)', 'Ordonez E. (Per)', 'Espinoza J. (Per)', 'Huaman D. (Per)', 'Legario F. (Per)', 0, 0, 0, 0, 0, 0, 0, 0, 0, 0, 0, 0, 0, 0, 0, 0, 0]\n",
      "\n"
     ]
    },
    {
     "name": "stderr",
     "output_type": "stream",
     "text": [
      "[WDM] - ====== WebDriver manager ======\n",
      "[WDM] - Current google-chrome version is 104.0.5112\n",
      "[WDM] - Get LATEST chromedriver version for 104.0.5112 google-chrome\n",
      "[WDM] - Driver [C:\\Users\\PC-1\\.wdm\\drivers\\chromedriver\\win32\\104.0.5112.79\\chromedriver.exe] found in cache\n"
     ]
    },
    {
     "name": "stdout",
     "output_type": "stream",
     "text": [
      "Termino 20\n",
      "['Perez R. B. (Per)', 'Quiroz J. C. (Per)', 'Villegas H. (Per)', 'Lozano S. (Per)', 'Ortega K. (Per)', 'Menendez A. (Per)', 'Espinoza J. (Per)', 0, 0, 0, 0, 0, 0, 0, 'Cartagena J. (Per)', 'Villegas H. (Per)', 'Cori V. (Per)', 'Villanueva A. (Per)', 'Legario F. (Per)', 'Blas W. (Per)', 'Seminario L. (Per)', 0, 0, 0, 0, 0, 0, 0, 'Espinoza M. (Per)', 'Ordonez E. (Per)', 'Quiroz J. C. (Per)', 'Alarcon J. (Per)', 'Perez R. B. (Per)', 'Espinoza M. (Per)', 0, 0, 0, 0, 0, 0, 0, 0, 'Garay Evia L. (Per)', 'Lozano S. (Per)', 'Huaman D. (Per)', 'Vasquez B. (Per)', 'Legario F. (Per)', 'Villegas H. (Per)', 'Garay L. (Per)', 0, 0, 0, 0, 0, 0, 0, 'Alarcon J. (Per)', 'Ciriaco L. (Per)', 'Lozano C. (Arg)', 'Alarcon J. (Per)', 'Perez R. B. (Per)', 'Villegas H. (Per)', 'Seminario L. (Per)', 0, 0, 0, 0, 0, 0, 0, 'Ureta D. (Per)', 'Garay L. (Per)', 'Quiroz J. (Per)', 'Estadio Inca Garcilaso de la Vega (Cusco)', 'Estadio Iván Elías Moreno (Lima)', 'Zamora J. (Per)', 0, 0, 0, 0, 0, 0, 0, 0, 'Estadio San Martin de Porres (Lima)', 'Alarcon J. (Per)', 'Perez R. B. (Per)', 'Villanueva A. (Per)', 0, 0, 0, 0, 0, 0, 0, 0, 0, 0, 'Alarcon J. (Per)', 'Ortega K. (Per)', 'Ureta D. (Per)', 'Seminario L. (Per)', 'Lozano Segado J. (Esp)', 'Barbagelatta G. (Per)', 'Perez R. B. (Per)', 0, 0, 0, 0, 0, 0, 0, 'Legario F. (Per)', 'Barbagelatta G. (Per)', 'Cartagena J. (Per)', 'Villegas H. (Per)', 'Huaman D. (Per)', 'Seminario L. (Per)', 0, 0, 0, 0, 0, 0, 0, 0, 'Espinoza J. (Per)', 'Seminario L. (Per)', 'Villegas H. (Per)', 'Ortega K. (Arg)', 'Menendez A. (Per)', 'Ortega K. (Per)', 0, 0, 0, 0, 0, 0, 0, 0, 'Alarcon J. (Per)', 'Estadio Miguel Grau (Callao)', 'Villegas H. (Per)', 'Cartagena J. (Per)', 'Perez R. B. (Per)', 'Ortega K. (Per)', 0, 0, 0, 0, 0, 0, 0, 0, 'Huaman D. (Per)', 'Perez R. B. (Per)', 'Seminario L. (Per)', 'Mendoza J. (Per)', 'Alarcon J. (Per)', 'Ordonez E. (Per)', 0, 0, 0, 0, 0, 0, 0, 0, 'Alarcon J. (Per)', 'Zamora J. (Per)', 'Espinoza J. (Per)', 'Seminario L. (Per)', 'Ordonez E. (Per)', 0, 0, 0, 0, 0, 0, 0, 0, 0, 'Palomino M. (Per)', 'Legario F. (Per)', 'Espinoza J. (Per)', 'Estadio Huancayo (Huancayo)', 'Espinoza M. (Per)', 'Huaman D. (Per)', 0, 0, 0, 0, 0, 0, 0, 0, 'Perez R. B. (Per)', 'Lopez R. (Per)', 'Ordonez E. (Per)', 'Espinoza J. (Per)', 'Huaman D. (Per)', 'Legario F. (Per)', 0, 0, 0, 0, 0, 0, 0, 0, 0, 0, 0, 0, 0, 0, 0, 0, 0]\n",
      "\n"
     ]
    },
    {
     "name": "stderr",
     "output_type": "stream",
     "text": [
      "[WDM] - ====== WebDriver manager ======\n",
      "[WDM] - Current google-chrome version is 104.0.5112\n",
      "[WDM] - Get LATEST chromedriver version for 104.0.5112 google-chrome\n"
     ]
    },
    {
     "name": "stdout",
     "output_type": "stream",
     "text": [
      "Termino 187\n",
      "['Perez R. B. (Per)', 'Quiroz J. C. (Per)', 'Villegas H. (Per)', 'Lozano S. (Per)', 'Ortega K. (Per)', 'Menendez A. (Per)', 'Espinoza J. (Per)', 0, 0, 0, 0, 0, 0, 0, 'Cartagena J. (Per)', 'Villegas H. (Per)', 'Cori V. (Per)', 'Villanueva A. (Per)', 'Legario F. (Per)', 'Blas W. (Per)', 'Seminario L. (Per)', 0, 0, 0, 0, 0, 0, 0, 'Espinoza M. (Per)', 'Ordonez E. (Per)', 'Quiroz J. C. (Per)', 'Alarcon J. (Per)', 'Perez R. B. (Per)', 'Espinoza M. (Per)', 0, 0, 0, 0, 0, 0, 0, 0, 'Garay Evia L. (Per)', 'Lozano S. (Per)', 'Huaman D. (Per)', 'Vasquez B. (Per)', 'Legario F. (Per)', 'Villegas H. (Per)', 'Garay L. (Per)', 0, 0, 0, 0, 0, 0, 0, 'Alarcon J. (Per)', 'Ciriaco L. (Per)', 'Lozano C. (Arg)', 'Alarcon J. (Per)', 'Perez R. B. (Per)', 'Villegas H. (Per)', 'Seminario L. (Per)', 0, 0, 0, 0, 0, 0, 0, 'Ureta D. (Per)', 'Garay L. (Per)', 'Quiroz J. (Per)', 'Estadio Inca Garcilaso de la Vega (Cusco)', 'Estadio Iván Elías Moreno (Lima)', 'Zamora J. (Per)', 0, 0, 0, 0, 0, 0, 0, 0, 'Estadio San Martin de Porres (Lima)', 'Alarcon J. (Per)', 'Perez R. B. (Per)', 'Villanueva A. (Per)', 0, 0, 0, 0, 0, 0, 0, 0, 0, 0, 'Alarcon J. (Per)', 'Ortega K. (Per)', 'Ureta D. (Per)', 'Seminario L. (Per)', 'Lozano Segado J. (Esp)', 'Barbagelatta G. (Per)', 'Perez R. B. (Per)', 0, 0, 0, 0, 0, 0, 0, 'Legario F. (Per)', 'Barbagelatta G. (Per)', 'Cartagena J. (Per)', 'Villegas H. (Per)', 'Huaman D. (Per)', 'Seminario L. (Per)', 0, 0, 0, 0, 0, 0, 0, 0, 'Espinoza J. (Per)', 'Seminario L. (Per)', 'Villegas H. (Per)', 'Ortega K. (Arg)', 'Menendez A. (Per)', 'Ortega K. (Per)', 0, 0, 0, 0, 0, 0, 0, 0, 'Alarcon J. (Per)', 'Estadio Miguel Grau (Callao)', 'Villegas H. (Per)', 'Cartagena J. (Per)', 'Perez R. B. (Per)', 'Ortega K. (Per)', 0, 0, 0, 0, 0, 0, 0, 0, 'Huaman D. (Per)', 'Perez R. B. (Per)', 'Seminario L. (Per)', 'Mendoza J. (Per)', 'Alarcon J. (Per)', 'Ordonez E. (Per)', 'Espinoza J. (Per)', 0, 0, 0, 0, 0, 0, 0, 'Alarcon J. (Per)', 'Zamora J. (Per)', 'Espinoza J. (Per)', 'Seminario L. (Per)', 'Ordonez E. (Per)', 0, 0, 0, 0, 0, 0, 0, 0, 0, 'Palomino M. (Per)', 'Legario F. (Per)', 'Espinoza J. (Per)', 'Estadio Huancayo (Huancayo)', 'Espinoza M. (Per)', 'Huaman D. (Per)', 0, 0, 0, 0, 0, 0, 0, 0, 'Perez R. B. (Per)', 'Lopez R. (Per)', 'Ordonez E. (Per)', 'Espinoza J. (Per)', 'Huaman D. (Per)', 'Legario F. (Per)', 0, 0, 0, 0, 0, 0, 0, 0, 0, 0, 0, 0, 0, 0, 0, 0, 0]\n",
      "\n"
     ]
    },
    {
     "name": "stderr",
     "output_type": "stream",
     "text": [
      "[WDM] - ====== WebDriver manager ======\n",
      "[WDM] - Driver [C:\\Users\\PC-1\\.wdm\\drivers\\chromedriver\\win32\\104.0.5112.79\\chromedriver.exe] found in cache\n",
      "[WDM] - Current google-chrome version is 104.0.5112\n",
      "[WDM] - Get LATEST chromedriver version for 104.0.5112 google-chrome\n",
      "[WDM] - Driver [C:\\Users\\PC-1\\.wdm\\drivers\\chromedriver\\win32\\104.0.5112.79\\chromedriver.exe] found in cache\n"
     ]
    },
    {
     "name": "stdout",
     "output_type": "stream",
     "text": [
      "Termino 62\n",
      "['Perez R. B. (Per)', 'Quiroz J. C. (Per)', 'Villegas H. (Per)', 'Lozano S. (Per)', 'Ortega K. (Per)', 'Menendez A. (Per)', 'Espinoza J. (Per)', 0, 0, 0, 0, 0, 0, 0, 'Cartagena J. (Per)', 'Villegas H. (Per)', 'Cori V. (Per)', 'Villanueva A. (Per)', 'Legario F. (Per)', 'Blas W. (Per)', 'Seminario L. (Per)', 0, 0, 0, 0, 0, 0, 0, 'Espinoza M. (Per)', 'Ordonez E. (Per)', 'Quiroz J. C. (Per)', 'Alarcon J. (Per)', 'Perez R. B. (Per)', 'Espinoza M. (Per)', 'Ortega K. (Per)', 0, 0, 0, 0, 0, 0, 0, 'Garay Evia L. (Per)', 'Lozano S. (Per)', 'Huaman D. (Per)', 'Vasquez B. (Per)', 'Legario F. (Per)', 'Villegas H. (Per)', 'Garay L. (Per)', 0, 0, 0, 0, 0, 0, 0, 'Alarcon J. (Per)', 'Ciriaco L. (Per)', 'Lozano C. (Arg)', 'Alarcon J. (Per)', 'Perez R. B. (Per)', 'Villegas H. (Per)', 'Seminario L. (Per)', 0, 0, 0, 0, 0, 0, 0, 'Ureta D. (Per)', 'Garay L. (Per)', 'Quiroz J. (Per)', 'Estadio Inca Garcilaso de la Vega (Cusco)', 'Estadio Iván Elías Moreno (Lima)', 'Zamora J. (Per)', 0, 0, 0, 0, 0, 0, 0, 0, 'Estadio San Martin de Porres (Lima)', 'Alarcon J. (Per)', 'Perez R. B. (Per)', 'Villanueva A. (Per)', 0, 0, 0, 0, 0, 0, 0, 0, 0, 0, 'Alarcon J. (Per)', 'Ortega K. (Per)', 'Ureta D. (Per)', 'Seminario L. (Per)', 'Lozano Segado J. (Esp)', 'Barbagelatta G. (Per)', 'Perez R. B. (Per)', 0, 0, 0, 0, 0, 0, 0, 'Legario F. (Per)', 'Barbagelatta G. (Per)', 'Cartagena J. (Per)', 'Villegas H. (Per)', 'Huaman D. (Per)', 'Seminario L. (Per)', 0, 0, 0, 0, 0, 0, 0, 0, 'Espinoza J. (Per)', 'Seminario L. (Per)', 'Villegas H. (Per)', 'Ortega K. (Arg)', 'Menendez A. (Per)', 'Ortega K. (Per)', 'Cartagena J. (Per)', 0, 0, 0, 0, 0, 0, 0, 'Alarcon J. (Per)', 'Estadio Miguel Grau (Callao)', 'Villegas H. (Per)', 'Cartagena J. (Per)', 'Perez R. B. (Per)', 'Ortega K. (Per)', 0, 0, 0, 0, 0, 0, 0, 0, 'Huaman D. (Per)', 'Perez R. B. (Per)', 'Seminario L. (Per)', 'Mendoza J. (Per)', 'Alarcon J. (Per)', 'Ordonez E. (Per)', 'Espinoza J. (Per)', 0, 0, 0, 0, 0, 0, 0, 'Alarcon J. (Per)', 'Zamora J. (Per)', 'Espinoza J. (Per)', 'Seminario L. (Per)', 'Ordonez E. (Per)', 'Lopez P. (Per)', 0, 0, 0, 0, 0, 0, 0, 0, 'Palomino M. (Per)', 'Legario F. (Per)', 'Espinoza J. (Per)', 'Estadio Huancayo (Huancayo)', 'Espinoza M. (Per)', 'Huaman D. (Per)', 0, 0, 0, 0, 0, 0, 0, 0, 'Perez R. B. (Per)', 'Lopez R. (Per)', 'Ordonez E. (Per)', 'Espinoza J. (Per)', 'Huaman D. (Per)', 'Legario F. (Per)', 'Barbagelatta G. (Per)', 0, 0, 0, 0, 0, 0, 0, 0, 0, 0, 0, 0, 0, 0, 0, 0]\n",
      "\n"
     ]
    },
    {
     "name": "stderr",
     "output_type": "stream",
     "text": [
      "[WDM] - ====== WebDriver manager ======\n"
     ]
    },
    {
     "name": "stdout",
     "output_type": "stream",
     "text": [
      "Termino 48\n",
      "['Perez R. B. (Per)', 'Quiroz J. C. (Per)', 'Villegas H. (Per)', 'Lozano S. (Per)', 'Ortega K. (Per)', 'Menendez A. (Per)', 'Espinoza J. (Per)', 0, 0, 0, 0, 0, 0, 0, 'Cartagena J. (Per)', 'Villegas H. (Per)', 'Cori V. (Per)', 'Villanueva A. (Per)', 'Legario F. (Per)', 'Blas W. (Per)', 'Seminario L. (Per)', 0, 0, 0, 0, 0, 0, 0, 'Espinoza M. (Per)', 'Ordonez E. (Per)', 'Quiroz J. C. (Per)', 'Alarcon J. (Per)', 'Perez R. B. (Per)', 'Espinoza M. (Per)', 'Ortega K. (Per)', 0, 0, 0, 0, 0, 0, 0, 'Garay Evia L. (Per)', 'Lozano S. (Per)', 'Huaman D. (Per)', 'Vasquez B. (Per)', 'Legario F. (Per)', 'Villegas H. (Per)', 'Garay L. (Per)', 0, 0, 0, 0, 0, 0, 0, 'Alarcon J. (Per)', 'Ciriaco L. (Per)', 'Lozano C. (Arg)', 'Alarcon J. (Per)', 'Perez R. B. (Per)', 'Villegas H. (Per)', 'Seminario L. (Per)', 0, 0, 0, 0, 0, 0, 0, 'Ureta D. (Per)', 'Garay L. (Per)', 'Quiroz J. (Per)', 'Estadio Inca Garcilaso de la Vega (Cusco)', 'Estadio Iván Elías Moreno (Lima)', 'Zamora J. (Per)', 0, 0, 0, 0, 0, 0, 0, 0, 'Estadio San Martin de Porres (Lima)', 'Alarcon J. (Per)', 'Perez R. B. (Per)', 'Villanueva A. (Per)', 0, 0, 0, 0, 0, 0, 0, 0, 0, 0, 'Alarcon J. (Per)', 'Ortega K. (Per)', 'Ureta D. (Per)', 'Seminario L. (Per)', 'Lozano Segado J. (Esp)', 'Barbagelatta G. (Per)', 'Perez R. B. (Per)', 0, 0, 0, 0, 0, 0, 0, 'Legario F. (Per)', 'Barbagelatta G. (Per)', 'Cartagena J. (Per)', 'Villegas H. (Per)', 'Huaman D. (Per)', 'Seminario L. (Per)', 0, 0, 0, 0, 0, 0, 0, 0, 'Espinoza J. (Per)', 'Seminario L. (Per)', 'Villegas H. (Per)', 'Ortega K. (Arg)', 'Menendez A. (Per)', 'Ortega K. (Per)', 'Cartagena J. (Per)', 0, 0, 0, 0, 0, 0, 0, 'Alarcon J. (Per)', 'Estadio Miguel Grau (Callao)', 'Villegas H. (Per)', 'Cartagena J. (Per)', 'Perez R. B. (Per)', 'Ortega K. (Per)', 0, 0, 0, 0, 0, 0, 0, 0, 'Huaman D. (Per)', 'Perez R. B. (Per)', 'Seminario L. (Per)', 'Mendoza J. (Per)', 'Alarcon J. (Per)', 'Ordonez E. (Per)', 'Espinoza J. (Per)', 0, 0, 0, 0, 0, 0, 0, 'Alarcon J. (Per)', 'Zamora J. (Per)', 'Espinoza J. (Per)', 'Seminario L. (Per)', 'Ordonez E. (Per)', 'Lopez P. (Per)', 0, 0, 0, 0, 0, 0, 0, 0, 'Palomino M. (Per)', 'Legario F. (Per)', 'Espinoza J. (Per)', 'Estadio Huancayo (Huancayo)', 'Espinoza M. (Per)', 'Huaman D. (Per)', 0, 0, 0, 0, 0, 0, 0, 0, 'Perez R. B. (Per)', 'Lopez R. (Per)', 'Ordonez E. (Per)', 'Espinoza J. (Per)', 'Huaman D. (Per)', 'Legario F. (Per)', 'Barbagelatta G. (Per)', 0, 0, 0, 0, 0, 0, 0, 0, 0, 0, 0, 0, 0, 0, 0, 0]\n",
      "\n"
     ]
    },
    {
     "name": "stderr",
     "output_type": "stream",
     "text": [
      "[WDM] - ====== WebDriver manager ======\n"
     ]
    },
    {
     "name": "stdout",
     "output_type": "stream",
     "text": [
      "Termino 104\n",
      "['Perez R. B. (Per)', 'Quiroz J. C. (Per)', 'Villegas H. (Per)', 'Lozano S. (Per)', 'Ortega K. (Per)', 'Menendez A. (Per)', 'Espinoza J. (Per)', 0, 0, 0, 0, 0, 0, 0, 'Cartagena J. (Per)', 'Villegas H. (Per)', 'Cori V. (Per)', 'Villanueva A. (Per)', 'Legario F. (Per)', 'Blas W. (Per)', 'Seminario L. (Per)', 0, 0, 0, 0, 0, 0, 0, 'Espinoza M. (Per)', 'Ordonez E. (Per)', 'Quiroz J. C. (Per)', 'Alarcon J. (Per)', 'Perez R. B. (Per)', 'Espinoza M. (Per)', 'Ortega K. (Per)', 0, 0, 0, 0, 0, 0, 0, 'Garay Evia L. (Per)', 'Lozano S. (Per)', 'Huaman D. (Per)', 'Vasquez B. (Per)', 'Legario F. (Per)', 'Villegas H. (Per)', 'Garay L. (Per)', 0, 0, 0, 0, 0, 0, 0, 'Alarcon J. (Per)', 'Ciriaco L. (Per)', 'Lozano C. (Arg)', 'Alarcon J. (Per)', 'Perez R. B. (Per)', 'Villegas H. (Per)', 'Seminario L. (Per)', 0, 0, 0, 0, 0, 0, 0, 'Ureta D. (Per)', 'Garay L. (Per)', 'Quiroz J. (Per)', 'Estadio Inca Garcilaso de la Vega (Cusco)', 'Estadio Iván Elías Moreno (Lima)', 'Zamora J. (Per)', 0, 0, 0, 0, 0, 0, 0, 0, 'Estadio San Martin de Porres (Lima)', 'Alarcon J. (Per)', 'Perez R. B. (Per)', 'Villanueva A. (Per)', 0, 0, 0, 0, 0, 0, 0, 0, 0, 0, 'Alarcon J. (Per)', 'Ortega K. (Per)', 'Ureta D. (Per)', 'Seminario L. (Per)', 'Lozano Segado J. (Esp)', 'Barbagelatta G. (Per)', 'Perez R. B. (Per)', 0, 0, 0, 0, 0, 0, 0, 'Legario F. (Per)', 'Barbagelatta G. (Per)', 'Cartagena J. (Per)', 'Villegas H. (Per)', 'Huaman D. (Per)', 'Seminario L. (Per)', 0, 0, 0, 0, 0, 0, 0, 0, 'Espinoza J. (Per)', 'Seminario L. (Per)', 'Villegas H. (Per)', 'Ortega K. (Arg)', 'Menendez A. (Per)', 'Ortega K. (Per)', 'Cartagena J. (Per)', 0, 0, 0, 0, 0, 0, 0, 'Alarcon J. (Per)', 'Estadio Miguel Grau (Callao)', 'Villegas H. (Per)', 'Cartagena J. (Per)', 'Perez R. B. (Per)', 'Ortega K. (Per)', 0, 0, 0, 0, 0, 0, 0, 0, 'Huaman D. (Per)', 'Perez R. B. (Per)', 'Seminario L. (Per)', 'Mendoza J. (Per)', 'Alarcon J. (Per)', 'Ordonez E. (Per)', 'Espinoza J. (Per)', 0, 0, 0, 0, 0, 0, 0, 'Alarcon J. (Per)', 'Zamora J. (Per)', 'Espinoza J. (Per)', 'Seminario L. (Per)', 'Ordonez E. (Per)', 'Lopez P. (Per)', 0, 0, 0, 0, 0, 0, 0, 0, 'Palomino M. (Per)', 'Legario F. (Per)', 'Espinoza J. (Per)', 'Estadio Huancayo (Huancayo)', 'Espinoza M. (Per)', 'Huaman D. (Per)', 0, 0, 0, 0, 0, 0, 0, 0, 'Perez R. B. (Per)', 'Lopez R. (Per)', 'Ordonez E. (Per)', 'Espinoza J. (Per)', 'Huaman D. (Per)', 'Legario F. (Per)', 'Barbagelatta G. (Per)', 0, 0, 0, 0, 0, 0, 0, 0, 0, 0, 0, 0, 0, 0, 0, 0]\n",
      "\n"
     ]
    },
    {
     "name": "stderr",
     "output_type": "stream",
     "text": [
      "[WDM] - ====== WebDriver manager ======\n",
      "[WDM] - Current google-chrome version is 104.0.5112\n",
      "[WDM] - Get LATEST chromedriver version for 104.0.5112 google-chrome\n",
      "[WDM] - Current google-chrome version is 104.0.5112\n",
      "[WDM] - Get LATEST chromedriver version for 104.0.5112 google-chrome\n",
      "[WDM] - Driver [C:\\Users\\PC-1\\.wdm\\drivers\\chromedriver\\win32\\104.0.5112.79\\chromedriver.exe] found in cache\n",
      "[WDM] - Driver [C:\\Users\\PC-1\\.wdm\\drivers\\chromedriver\\win32\\104.0.5112.79\\chromedriver.exe] found in cache\n",
      "[WDM] - Current google-chrome version is 104.0.5112\n",
      "[WDM] - Get LATEST chromedriver version for 104.0.5112 google-chrome\n",
      "[WDM] - Driver [C:\\Users\\PC-1\\.wdm\\drivers\\chromedriver\\win32\\104.0.5112.79\\chromedriver.exe] found in cache\n"
     ]
    },
    {
     "name": "stdout",
     "output_type": "stream",
     "text": [
      "Termino 34\n",
      "['Perez R. B. (Per)', 'Quiroz J. C. (Per)', 'Villegas H. (Per)', 'Lozano S. (Per)', 'Ortega K. (Per)', 'Menendez A. (Per)', 'Espinoza J. (Per)', 0, 0, 0, 0, 0, 0, 0, 'Cartagena J. (Per)', 'Villegas H. (Per)', 'Cori V. (Per)', 'Villanueva A. (Per)', 'Legario F. (Per)', 'Blas W. (Per)', 'Seminario L. (Per)', 0, 0, 0, 0, 0, 0, 0, 'Espinoza M. (Per)', 'Ordonez E. (Per)', 'Quiroz J. C. (Per)', 'Alarcon J. (Per)', 'Perez R. B. (Per)', 'Espinoza M. (Per)', 'Ortega K. (Per)', 0, 0, 0, 0, 0, 0, 0, 'Garay Evia L. (Per)', 'Lozano S. (Per)', 'Huaman D. (Per)', 'Vasquez B. (Per)', 'Legario F. (Per)', 'Villegas H. (Per)', 'Garay L. (Per)', 0, 0, 0, 0, 0, 0, 0, 'Alarcon J. (Per)', 'Ciriaco L. (Per)', 'Lozano C. (Arg)', 'Alarcon J. (Per)', 'Perez R. B. (Per)', 'Villegas H. (Per)', 'Seminario L. (Per)', 0, 0, 0, 0, 0, 0, 0, 'Ureta D. (Per)', 'Garay L. (Per)', 'Quiroz J. (Per)', 'Estadio Inca Garcilaso de la Vega (Cusco)', 'Estadio Iván Elías Moreno (Lima)', 'Zamora J. (Per)', 0, 0, 0, 0, 0, 0, 0, 0, 'Estadio San Martin de Porres (Lima)', 'Alarcon J. (Per)', 'Perez R. B. (Per)', 'Villanueva A. (Per)', 'Villegas H. (Per)', 0, 0, 0, 0, 0, 0, 0, 0, 0, 'Alarcon J. (Per)', 'Ortega K. (Per)', 'Ureta D. (Per)', 'Seminario L. (Per)', 'Lozano Segado J. (Esp)', 'Barbagelatta G. (Per)', 'Perez R. B. (Per)', 0, 0, 0, 0, 0, 0, 0, 'Legario F. (Per)', 'Barbagelatta G. (Per)', 'Cartagena J. (Per)', 'Villegas H. (Per)', 'Huaman D. (Per)', 'Seminario L. (Per)', 'Alarcon J. (Per)', 0, 0, 0, 0, 0, 0, 0, 'Espinoza J. (Per)', 'Seminario L. (Per)', 'Villegas H. (Per)', 'Ortega K. (Arg)', 'Menendez A. (Per)', 'Ortega K. (Per)', 'Cartagena J. (Per)', 0, 0, 0, 0, 0, 0, 0, 'Alarcon J. (Per)', 'Estadio Miguel Grau (Callao)', 'Villegas H. (Per)', 'Cartagena J. (Per)', 'Perez R. B. (Per)', 'Ortega K. (Per)', 'Ordonez E. (Per)', 0, 0, 0, 0, 0, 0, 0, 'Huaman D. (Per)', 'Perez R. B. (Per)', 'Seminario L. (Per)', 'Mendoza J. (Per)', 'Alarcon J. (Per)', 'Ordonez E. (Per)', 'Espinoza J. (Per)', 0, 0, 0, 0, 0, 0, 0, 'Alarcon J. (Per)', 'Zamora J. (Per)', 'Espinoza J. (Per)', 'Seminario L. (Per)', 'Ordonez E. (Per)', 'Lopez P. (Per)', 0, 0, 0, 0, 0, 0, 0, 0, 'Palomino M. (Per)', 'Legario F. (Per)', 'Espinoza J. (Per)', 'Estadio Huancayo (Huancayo)', 'Espinoza M. (Per)', 'Huaman D. (Per)', 0, 0, 0, 0, 0, 0, 0, 0, 'Perez R. B. (Per)', 'Lopez R. (Per)', 'Ordonez E. (Per)', 'Espinoza J. (Per)', 'Huaman D. (Per)', 'Legario F. (Per)', 'Barbagelatta G. (Per)', 0, 0, 0, 0, 0, 0, 0, 0, 0, 0, 0, 0, 0, 0, 0, 0]\n",
      "\n"
     ]
    },
    {
     "name": "stderr",
     "output_type": "stream",
     "text": [
      "[WDM] - ====== WebDriver manager ======\n"
     ]
    },
    {
     "name": "stdout",
     "output_type": "stream",
     "text": [
      "Termino 202\n",
      "['Perez R. B. (Per)', 'Quiroz J. C. (Per)', 'Villegas H. (Per)', 'Lozano S. (Per)', 'Ortega K. (Per)', 'Menendez A. (Per)', 'Espinoza J. (Per)', 0, 0, 0, 0, 0, 0, 0, 'Cartagena J. (Per)', 'Villegas H. (Per)', 'Cori V. (Per)', 'Villanueva A. (Per)', 'Legario F. (Per)', 'Blas W. (Per)', 'Seminario L. (Per)', 0, 0, 0, 0, 0, 0, 0, 'Espinoza M. (Per)', 'Ordonez E. (Per)', 'Quiroz J. C. (Per)', 'Alarcon J. (Per)', 'Perez R. B. (Per)', 'Espinoza M. (Per)', 'Ortega K. (Per)', 0, 0, 0, 0, 0, 0, 0, 'Garay Evia L. (Per)', 'Lozano S. (Per)', 'Huaman D. (Per)', 'Vasquez B. (Per)', 'Legario F. (Per)', 'Villegas H. (Per)', 'Garay L. (Per)', 0, 0, 0, 0, 0, 0, 0, 'Alarcon J. (Per)', 'Ciriaco L. (Per)', 'Lozano C. (Arg)', 'Alarcon J. (Per)', 'Perez R. B. (Per)', 'Villegas H. (Per)', 'Seminario L. (Per)', 0, 0, 0, 0, 0, 0, 0, 'Ureta D. (Per)', 'Garay L. (Per)', 'Quiroz J. (Per)', 'Estadio Inca Garcilaso de la Vega (Cusco)', 'Estadio Iván Elías Moreno (Lima)', 'Zamora J. (Per)', 0, 0, 0, 0, 0, 0, 0, 0, 'Estadio San Martin de Porres (Lima)', 'Alarcon J. (Per)', 'Perez R. B. (Per)', 'Villanueva A. (Per)', 'Villegas H. (Per)', 0, 0, 0, 0, 0, 0, 0, 0, 0, 'Alarcon J. (Per)', 'Ortega K. (Per)', 'Ureta D. (Per)', 'Seminario L. (Per)', 'Lozano Segado J. (Esp)', 'Barbagelatta G. (Per)', 'Perez R. B. (Per)', 0, 0, 0, 0, 0, 0, 0, 'Legario F. (Per)', 'Barbagelatta G. (Per)', 'Cartagena J. (Per)', 'Villegas H. (Per)', 'Huaman D. (Per)', 'Seminario L. (Per)', 'Alarcon J. (Per)', 0, 0, 0, 0, 0, 0, 0, 'Espinoza J. (Per)', 'Seminario L. (Per)', 'Villegas H. (Per)', 'Ortega K. (Arg)', 'Menendez A. (Per)', 'Ortega K. (Per)', 'Cartagena J. (Per)', 0, 0, 0, 0, 0, 0, 0, 'Alarcon J. (Per)', 'Estadio Miguel Grau (Callao)', 'Villegas H. (Per)', 'Cartagena J. (Per)', 'Perez R. B. (Per)', 'Ortega K. (Per)', 'Ordonez E. (Per)', 0, 0, 0, 0, 0, 0, 0, 'Huaman D. (Per)', 'Perez R. B. (Per)', 'Seminario L. (Per)', 'Mendoza J. (Per)', 'Alarcon J. (Per)', 'Ordonez E. (Per)', 'Espinoza J. (Per)', 0, 0, 0, 0, 0, 0, 0, 'Alarcon J. (Per)', 'Zamora J. (Per)', 'Espinoza J. (Per)', 'Seminario L. (Per)', 'Ordonez E. (Per)', 'Lopez P. (Per)', 0, 0, 0, 0, 0, 0, 0, 0, 'Palomino M. (Per)', 'Legario F. (Per)', 'Espinoza J. (Per)', 'Estadio Huancayo (Huancayo)', 'Espinoza M. (Per)', 'Huaman D. (Per)', 0, 0, 0, 0, 0, 0, 0, 0, 'Perez R. B. (Per)', 'Lopez R. (Per)', 'Ordonez E. (Per)', 'Espinoza J. (Per)', 'Huaman D. (Per)', 'Legario F. (Per)', 'Barbagelatta G. (Per)', 0, 0, 0, 0, 0, 0, 0, 0, 0, 0, 0, 0, 0, 0, 0, 0]\n",
      "\n"
     ]
    },
    {
     "name": "stderr",
     "output_type": "stream",
     "text": [
      "[WDM] - ====== WebDriver manager ======\n",
      "[WDM] - Current google-chrome version is 104.0.5112\n",
      "[WDM] - Get LATEST chromedriver version for 104.0.5112 google-chrome\n",
      "[WDM] - Current google-chrome version is 104.0.5112\n",
      "[WDM] - Get LATEST chromedriver version for 104.0.5112 google-chrome\n",
      "[WDM] - Driver [C:\\Users\\PC-1\\.wdm\\drivers\\chromedriver\\win32\\104.0.5112.79\\chromedriver.exe] found in cache\n",
      "[WDM] - Driver [C:\\Users\\PC-1\\.wdm\\drivers\\chromedriver\\win32\\104.0.5112.79\\chromedriver.exe] found in cache\n"
     ]
    },
    {
     "name": "stdout",
     "output_type": "stream",
     "text": [
      "Termino 160\n",
      "['Perez R. B. (Per)', 'Quiroz J. C. (Per)', 'Villegas H. (Per)', 'Lozano S. (Per)', 'Ortega K. (Per)', 'Menendez A. (Per)', 'Espinoza J. (Per)', 0, 0, 0, 0, 0, 0, 0, 'Cartagena J. (Per)', 'Villegas H. (Per)', 'Cori V. (Per)', 'Villanueva A. (Per)', 'Legario F. (Per)', 'Blas W. (Per)', 'Seminario L. (Per)', 0, 0, 0, 0, 0, 0, 0, 'Espinoza M. (Per)', 'Ordonez E. (Per)', 'Quiroz J. C. (Per)', 'Alarcon J. (Per)', 'Perez R. B. (Per)', 'Espinoza M. (Per)', 'Ortega K. (Per)', 0, 0, 0, 0, 0, 0, 0, 'Garay Evia L. (Per)', 'Lozano S. (Per)', 'Huaman D. (Per)', 'Vasquez B. (Per)', 'Legario F. (Per)', 'Villegas H. (Per)', 'Garay L. (Per)', 0, 0, 0, 0, 0, 0, 0, 'Alarcon J. (Per)', 'Ciriaco L. (Per)', 'Lozano C. (Arg)', 'Alarcon J. (Per)', 'Perez R. B. (Per)', 'Villegas H. (Per)', 'Seminario L. (Per)', 0, 0, 0, 0, 0, 0, 0, 'Ureta D. (Per)', 'Garay L. (Per)', 'Quiroz J. (Per)', 'Estadio Inca Garcilaso de la Vega (Cusco)', 'Estadio Iván Elías Moreno (Lima)', 'Zamora J. (Per)', 0, 0, 0, 0, 0, 0, 0, 0, 'Estadio San Martin de Porres (Lima)', 'Alarcon J. (Per)', 'Perez R. B. (Per)', 'Villanueva A. (Per)', 'Villegas H. (Per)', 0, 0, 0, 0, 0, 0, 0, 0, 0, 'Alarcon J. (Per)', 'Ortega K. (Per)', 'Ureta D. (Per)', 'Seminario L. (Per)', 'Lozano Segado J. (Esp)', 'Barbagelatta G. (Per)', 'Perez R. B. (Per)', 0, 0, 0, 0, 0, 0, 0, 'Legario F. (Per)', 'Barbagelatta G. (Per)', 'Cartagena J. (Per)', 'Villegas H. (Per)', 'Huaman D. (Per)', 'Seminario L. (Per)', 'Alarcon J. (Per)', 0, 0, 0, 0, 0, 0, 0, 'Espinoza J. (Per)', 'Seminario L. (Per)', 'Villegas H. (Per)', 'Ortega K. (Arg)', 'Menendez A. (Per)', 'Ortega K. (Per)', 'Cartagena J. (Per)', 0, 0, 0, 0, 0, 0, 0, 'Alarcon J. (Per)', 'Estadio Miguel Grau (Callao)', 'Villegas H. (Per)', 'Cartagena J. (Per)', 'Perez R. B. (Per)', 'Ortega K. (Per)', 'Ordonez E. (Per)', 0, 0, 0, 0, 0, 0, 0, 'Huaman D. (Per)', 'Perez R. B. (Per)', 'Seminario L. (Per)', 'Mendoza J. (Per)', 'Alarcon J. (Per)', 'Ordonez E. (Per)', 'Espinoza J. (Per)', 0, 0, 0, 0, 0, 0, 0, 'Alarcon J. (Per)', 'Zamora J. (Per)', 'Espinoza J. (Per)', 'Seminario L. (Per)', 'Ordonez E. (Per)', 'Lopez P. (Per)', 0, 0, 0, 0, 0, 0, 0, 0, 'Palomino M. (Per)', 'Legario F. (Per)', 'Espinoza J. (Per)', 'Estadio Huancayo (Huancayo)', 'Espinoza M. (Per)', 'Huaman D. (Per)', 0, 0, 0, 0, 0, 0, 0, 0, 'Perez R. B. (Per)', 'Lopez R. (Per)', 'Ordonez E. (Per)', 'Espinoza J. (Per)', 'Huaman D. (Per)', 'Legario F. (Per)', 'Barbagelatta G. (Per)', 0, 0, 0, 0, 0, 0, 0, 0, 0, 0, 0, 0, 0, 0, 0, 0]\n",
      "\n"
     ]
    },
    {
     "name": "stderr",
     "output_type": "stream",
     "text": [
      "[WDM] - ====== WebDriver manager ======\n"
     ]
    },
    {
     "name": "stdout",
     "output_type": "stream",
     "text": [
      "Termino 88\n",
      "['Perez R. B. (Per)', 'Quiroz J. C. (Per)', 'Villegas H. (Per)', 'Lozano S. (Per)', 'Ortega K. (Per)', 'Menendez A. (Per)', 'Espinoza J. (Per)', 'Vasquez B. (Per)', 0, 0, 0, 0, 0, 0, 'Cartagena J. (Per)', 'Villegas H. (Per)', 'Cori V. (Per)', 'Villanueva A. (Per)', 'Legario F. (Per)', 'Blas W. (Per)', 'Seminario L. (Per)', 0, 0, 0, 0, 0, 0, 0, 'Espinoza M. (Per)', 'Ordonez E. (Per)', 'Quiroz J. C. (Per)', 'Alarcon J. (Per)', 'Perez R. B. (Per)', 'Espinoza M. (Per)', 'Ortega K. (Per)', 0, 0, 0, 0, 0, 0, 0, 'Garay Evia L. (Per)', 'Lozano S. (Per)', 'Huaman D. (Per)', 'Vasquez B. (Per)', 'Legario F. (Per)', 'Villegas H. (Per)', 'Garay L. (Per)', 0, 0, 0, 0, 0, 0, 0, 'Alarcon J. (Per)', 'Ciriaco L. (Per)', 'Lozano C. (Arg)', 'Alarcon J. (Per)', 'Perez R. B. (Per)', 'Villegas H. (Per)', 'Seminario L. (Per)', 0, 0, 0, 0, 0, 0, 0, 'Ureta D. (Per)', 'Garay L. (Per)', 'Quiroz J. (Per)', 'Estadio Inca Garcilaso de la Vega (Cusco)', 'Estadio Iván Elías Moreno (Lima)', 'Zamora J. (Per)', 0, 0, 0, 0, 0, 0, 0, 0, 'Estadio San Martin de Porres (Lima)', 'Alarcon J. (Per)', 'Perez R. B. (Per)', 'Villanueva A. (Per)', 'Villegas H. (Per)', 0, 0, 0, 0, 0, 0, 0, 0, 0, 'Alarcon J. (Per)', 'Ortega K. (Per)', 'Ureta D. (Per)', 'Seminario L. (Per)', 'Lozano Segado J. (Esp)', 'Barbagelatta G. (Per)', 'Perez R. B. (Per)', 0, 0, 0, 0, 0, 0, 0, 'Legario F. (Per)', 'Barbagelatta G. (Per)', 'Cartagena J. (Per)', 'Villegas H. (Per)', 'Huaman D. (Per)', 'Seminario L. (Per)', 'Alarcon J. (Per)', 0, 0, 0, 0, 0, 0, 0, 'Espinoza J. (Per)', 'Seminario L. (Per)', 'Villegas H. (Per)', 'Ortega K. (Arg)', 'Menendez A. (Per)', 'Ortega K. (Per)', 'Cartagena J. (Per)', 0, 0, 0, 0, 0, 0, 0, 'Alarcon J. (Per)', 'Estadio Miguel Grau (Callao)', 'Villegas H. (Per)', 'Cartagena J. (Per)', 'Perez R. B. (Per)', 'Ortega K. (Per)', 'Ordonez E. (Per)', 0, 0, 0, 0, 0, 0, 0, 'Huaman D. (Per)', 'Perez R. B. (Per)', 'Seminario L. (Per)', 'Mendoza J. (Per)', 'Alarcon J. (Per)', 'Ordonez E. (Per)', 'Espinoza J. (Per)', 0, 0, 0, 0, 0, 0, 0, 'Alarcon J. (Per)', 'Zamora J. (Per)', 'Espinoza J. (Per)', 'Seminario L. (Per)', 'Ordonez E. (Per)', 'Lopez P. (Per)', 0, 0, 0, 0, 0, 0, 0, 0, 'Palomino M. (Per)', 'Legario F. (Per)', 'Espinoza J. (Per)', 'Estadio Huancayo (Huancayo)', 'Espinoza M. (Per)', 'Huaman D. (Per)', 0, 0, 0, 0, 0, 0, 0, 0, 'Perez R. B. (Per)', 'Lopez R. (Per)', 'Ordonez E. (Per)', 'Espinoza J. (Per)', 'Huaman D. (Per)', 'Legario F. (Per)', 'Barbagelatta G. (Per)', 0, 0, 0, 0, 0, 0, 0, 0, 0, 0, 0, 0, 0, 0, 0, 0]\n",
      "\n"
     ]
    },
    {
     "name": "stderr",
     "output_type": "stream",
     "text": [
      "[WDM] - ====== WebDriver manager ======\n",
      "[WDM] - Current google-chrome version is 104.0.5112\n",
      "[WDM] - Get LATEST chromedriver version for 104.0.5112 google-chrome\n",
      "[WDM] - Driver [C:\\Users\\PC-1\\.wdm\\drivers\\chromedriver\\win32\\104.0.5112.79\\chromedriver.exe] found in cache\n",
      "[WDM] - Current google-chrome version is 104.0.5112\n",
      "[WDM] - Get LATEST chromedriver version for 104.0.5112 google-chrome\n",
      "[WDM] - Driver [C:\\Users\\PC-1\\.wdm\\drivers\\chromedriver\\win32\\104.0.5112.79\\chromedriver.exe] found in cache\n"
     ]
    },
    {
     "name": "stdout",
     "output_type": "stream",
     "text": [
      "Termino 173\n",
      "['Perez R. B. (Per)', 'Quiroz J. C. (Per)', 'Villegas H. (Per)', 'Lozano S. (Per)', 'Ortega K. (Per)', 'Menendez A. (Per)', 'Espinoza J. (Per)', 'Vasquez B. (Per)', 0, 0, 0, 0, 0, 0, 'Cartagena J. (Per)', 'Villegas H. (Per)', 'Cori V. (Per)', 'Villanueva A. (Per)', 'Legario F. (Per)', 'Blas W. (Per)', 'Seminario L. (Per)', 0, 0, 0, 0, 0, 0, 0, 'Espinoza M. (Per)', 'Ordonez E. (Per)', 'Quiroz J. C. (Per)', 'Alarcon J. (Per)', 'Perez R. B. (Per)', 'Espinoza M. (Per)', 'Ortega K. (Per)', 0, 0, 0, 0, 0, 0, 0, 'Garay Evia L. (Per)', 'Lozano S. (Per)', 'Huaman D. (Per)', 'Vasquez B. (Per)', 'Legario F. (Per)', 'Villegas H. (Per)', 'Garay L. (Per)', 0, 0, 0, 0, 0, 0, 0, 'Alarcon J. (Per)', 'Ciriaco L. (Per)', 'Lozano C. (Arg)', 'Alarcon J. (Per)', 'Perez R. B. (Per)', 'Villegas H. (Per)', 'Seminario L. (Per)', 0, 0, 0, 0, 0, 0, 0, 'Ureta D. (Per)', 'Garay L. (Per)', 'Quiroz J. (Per)', 'Estadio Inca Garcilaso de la Vega (Cusco)', 'Estadio Iván Elías Moreno (Lima)', 'Zamora J. (Per)', 0, 0, 0, 0, 0, 0, 0, 0, 'Estadio San Martin de Porres (Lima)', 'Alarcon J. (Per)', 'Perez R. B. (Per)', 'Villanueva A. (Per)', 'Villegas H. (Per)', 0, 0, 0, 0, 0, 0, 0, 0, 0, 'Alarcon J. (Per)', 'Ortega K. (Per)', 'Ureta D. (Per)', 'Seminario L. (Per)', 'Lozano Segado J. (Esp)', 'Barbagelatta G. (Per)', 'Perez R. B. (Per)', 0, 0, 0, 0, 0, 0, 0, 'Legario F. (Per)', 'Barbagelatta G. (Per)', 'Cartagena J. (Per)', 'Villegas H. (Per)', 'Huaman D. (Per)', 'Seminario L. (Per)', 'Alarcon J. (Per)', 0, 0, 0, 0, 0, 0, 0, 'Espinoza J. (Per)', 'Seminario L. (Per)', 'Villegas H. (Per)', 'Ortega K. (Arg)', 'Menendez A. (Per)', 'Ortega K. (Per)', 'Cartagena J. (Per)', 0, 0, 0, 0, 0, 0, 0, 'Alarcon J. (Per)', 'Estadio Miguel Grau (Callao)', 'Villegas H. (Per)', 'Cartagena J. (Per)', 'Perez R. B. (Per)', 'Ortega K. (Per)', 'Ordonez E. (Per)', 0, 0, 0, 0, 0, 0, 0, 'Huaman D. (Per)', 'Perez R. B. (Per)', 'Seminario L. (Per)', 'Mendoza J. (Per)', 'Alarcon J. (Per)', 'Ordonez E. (Per)', 'Espinoza J. (Per)', 0, 0, 0, 0, 0, 0, 0, 'Alarcon J. (Per)', 'Zamora J. (Per)', 'Espinoza J. (Per)', 'Seminario L. (Per)', 'Ordonez E. (Per)', 'Lopez P. (Per)', 0, 0, 0, 0, 0, 0, 0, 0, 'Palomino M. (Per)', 'Legario F. (Per)', 'Espinoza J. (Per)', 'Estadio Huancayo (Huancayo)', 'Espinoza M. (Per)', 'Huaman D. (Per)', 0, 0, 0, 0, 0, 0, 0, 0, 'Perez R. B. (Per)', 'Lopez R. (Per)', 'Ordonez E. (Per)', 'Espinoza J. (Per)', 'Huaman D. (Per)', 'Legario F. (Per)', 'Barbagelatta G. (Per)', 0, 0, 0, 0, 0, 0, 0, 0, 0, 0, 0, 0, 0, 0, 0, 0]\n",
      "\n"
     ]
    },
    {
     "name": "stderr",
     "output_type": "stream",
     "text": [
      "[WDM] - ====== WebDriver manager ======\n"
     ]
    },
    {
     "name": "stdout",
     "output_type": "stream",
     "text": [
      "Termino 132\n",
      "['Perez R. B. (Per)', 'Quiroz J. C. (Per)', 'Villegas H. (Per)', 'Lozano S. (Per)', 'Ortega K. (Per)', 'Menendez A. (Per)', 'Espinoza J. (Per)', 'Vasquez B. (Per)', 0, 0, 0, 0, 0, 0, 'Cartagena J. (Per)', 'Villegas H. (Per)', 'Cori V. (Per)', 'Villanueva A. (Per)', 'Legario F. (Per)', 'Blas W. (Per)', 'Seminario L. (Per)', 0, 0, 0, 0, 0, 0, 0, 'Espinoza M. (Per)', 'Ordonez E. (Per)', 'Quiroz J. C. (Per)', 'Alarcon J. (Per)', 'Perez R. B. (Per)', 'Espinoza M. (Per)', 'Ortega K. (Per)', 0, 0, 0, 0, 0, 0, 0, 'Garay Evia L. (Per)', 'Lozano S. (Per)', 'Huaman D. (Per)', 'Vasquez B. (Per)', 'Legario F. (Per)', 'Villegas H. (Per)', 'Garay L. (Per)', 0, 0, 0, 0, 0, 0, 0, 'Alarcon J. (Per)', 'Ciriaco L. (Per)', 'Lozano C. (Arg)', 'Alarcon J. (Per)', 'Perez R. B. (Per)', 'Villegas H. (Per)', 'Seminario L. (Per)', 0, 0, 0, 0, 0, 0, 0, 'Ureta D. (Per)', 'Garay L. (Per)', 'Quiroz J. (Per)', 'Estadio Inca Garcilaso de la Vega (Cusco)', 'Estadio Iván Elías Moreno (Lima)', 'Zamora J. (Per)', 0, 0, 0, 0, 0, 0, 0, 0, 'Estadio San Martin de Porres (Lima)', 'Alarcon J. (Per)', 'Perez R. B. (Per)', 'Villanueva A. (Per)', 'Villegas H. (Per)', 0, 0, 0, 0, 0, 0, 0, 0, 0, 'Alarcon J. (Per)', 'Ortega K. (Per)', 'Ureta D. (Per)', 'Seminario L. (Per)', 'Lozano Segado J. (Esp)', 'Barbagelatta G. (Per)', 'Perez R. B. (Per)', 0, 0, 0, 0, 0, 0, 0, 'Legario F. (Per)', 'Barbagelatta G. (Per)', 'Cartagena J. (Per)', 'Villegas H. (Per)', 'Huaman D. (Per)', 'Seminario L. (Per)', 'Alarcon J. (Per)', 0, 0, 0, 0, 0, 0, 0, 'Espinoza J. (Per)', 'Seminario L. (Per)', 'Villegas H. (Per)', 'Ortega K. (Arg)', 'Menendez A. (Per)', 'Ortega K. (Per)', 'Cartagena J. (Per)', 0, 0, 0, 0, 0, 0, 0, 'Alarcon J. (Per)', 'Estadio Miguel Grau (Callao)', 'Villegas H. (Per)', 'Cartagena J. (Per)', 'Perez R. B. (Per)', 'Ortega K. (Per)', 'Ordonez E. (Per)', 0, 0, 0, 0, 0, 0, 0, 'Huaman D. (Per)', 'Perez R. B. (Per)', 'Seminario L. (Per)', 'Mendoza J. (Per)', 'Alarcon J. (Per)', 'Ordonez E. (Per)', 'Espinoza J. (Per)', 0, 0, 0, 0, 0, 0, 0, 'Alarcon J. (Per)', 'Zamora J. (Per)', 'Espinoza J. (Per)', 'Seminario L. (Per)', 'Ordonez E. (Per)', 'Lopez P. (Per)', 0, 0, 0, 0, 0, 0, 0, 0, 'Palomino M. (Per)', 'Legario F. (Per)', 'Espinoza J. (Per)', 'Estadio Huancayo (Huancayo)', 'Espinoza M. (Per)', 'Huaman D. (Per)', 0, 0, 0, 0, 0, 0, 0, 0, 'Perez R. B. (Per)', 'Lopez R. (Per)', 'Ordonez E. (Per)', 'Espinoza J. (Per)', 'Huaman D. (Per)', 'Legario F. (Per)', 'Barbagelatta G. (Per)', 0, 0, 0, 0, 0, 0, 0, 0, 0, 0, 0, 0, 0, 0, 0, 0]\n",
      "\n"
     ]
    },
    {
     "name": "stderr",
     "output_type": "stream",
     "text": [
      "[WDM] - ====== WebDriver manager ======\n",
      "[WDM] - Current google-chrome version is 104.0.5112\n",
      "[WDM] - Get LATEST chromedriver version for 104.0.5112 google-chrome\n",
      "[WDM] - Driver [C:\\Users\\PC-1\\.wdm\\drivers\\chromedriver\\win32\\104.0.5112.79\\chromedriver.exe] found in cache\n"
     ]
    },
    {
     "name": "stdout",
     "output_type": "stream",
     "text": [
      "Termino 146\n",
      "['Perez R. B. (Per)', 'Quiroz J. C. (Per)', 'Villegas H. (Per)', 'Lozano S. (Per)', 'Ortega K. (Per)', 'Menendez A. (Per)', 'Espinoza J. (Per)', 'Vasquez B. (Per)', 0, 0, 0, 0, 0, 0, 'Cartagena J. (Per)', 'Villegas H. (Per)', 'Cori V. (Per)', 'Villanueva A. (Per)', 'Legario F. (Per)', 'Blas W. (Per)', 'Seminario L. (Per)', 0, 0, 0, 0, 0, 0, 0, 'Espinoza M. (Per)', 'Ordonez E. (Per)', 'Quiroz J. C. (Per)', 'Alarcon J. (Per)', 'Perez R. B. (Per)', 'Espinoza M. (Per)', 'Ortega K. (Per)', 0, 0, 0, 0, 0, 0, 0, 'Garay Evia L. (Per)', 'Lozano S. (Per)', 'Huaman D. (Per)', 'Vasquez B. (Per)', 'Legario F. (Per)', 'Villegas H. (Per)', 'Garay L. (Per)', 0, 0, 0, 0, 0, 0, 0, 'Alarcon J. (Per)', 'Ciriaco L. (Per)', 'Lozano C. (Arg)', 'Alarcon J. (Per)', 'Perez R. B. (Per)', 'Villegas H. (Per)', 'Seminario L. (Per)', 0, 0, 0, 0, 0, 0, 0, 'Ureta D. (Per)', 'Garay L. (Per)', 'Quiroz J. (Per)', 'Estadio Inca Garcilaso de la Vega (Cusco)', 'Estadio Iván Elías Moreno (Lima)', 'Zamora J. (Per)', 0, 0, 0, 0, 0, 0, 0, 0, 'Estadio San Martin de Porres (Lima)', 'Alarcon J. (Per)', 'Perez R. B. (Per)', 'Villanueva A. (Per)', 'Villegas H. (Per)', 0, 0, 0, 0, 0, 0, 0, 0, 0, 'Alarcon J. (Per)', 'Ortega K. (Per)', 'Ureta D. (Per)', 'Seminario L. (Per)', 'Lozano Segado J. (Esp)', 'Barbagelatta G. (Per)', 'Perez R. B. (Per)', 0, 0, 0, 0, 0, 0, 0, 'Legario F. (Per)', 'Barbagelatta G. (Per)', 'Cartagena J. (Per)', 'Villegas H. (Per)', 'Huaman D. (Per)', 'Seminario L. (Per)', 'Alarcon J. (Per)', 0, 0, 0, 0, 0, 0, 0, 'Espinoza J. (Per)', 'Seminario L. (Per)', 'Villegas H. (Per)', 'Ortega K. (Arg)', 'Menendez A. (Per)', 'Ortega K. (Per)', 'Cartagena J. (Per)', 0, 0, 0, 0, 0, 0, 0, 'Alarcon J. (Per)', 'Estadio Miguel Grau (Callao)', 'Villegas H. (Per)', 'Cartagena J. (Per)', 'Perez R. B. (Per)', 'Ortega K. (Per)', 'Ordonez E. (Per)', 0, 0, 0, 0, 0, 0, 0, 'Huaman D. (Per)', 'Perez R. B. (Per)', 'Seminario L. (Per)', 'Mendoza J. (Per)', 'Alarcon J. (Per)', 'Ordonez E. (Per)', 'Espinoza J. (Per)', 0, 0, 0, 0, 0, 0, 0, 'Alarcon J. (Per)', 'Zamora J. (Per)', 'Espinoza J. (Per)', 'Seminario L. (Per)', 'Ordonez E. (Per)', 'Lopez P. (Per)', 0, 0, 0, 0, 0, 0, 0, 0, 'Palomino M. (Per)', 'Legario F. (Per)', 'Espinoza J. (Per)', 'Estadio Huancayo (Huancayo)', 'Espinoza M. (Per)', 'Huaman D. (Per)', 0, 0, 0, 0, 0, 0, 0, 0, 'Perez R. B. (Per)', 'Lopez R. (Per)', 'Ordonez E. (Per)', 'Espinoza J. (Per)', 'Huaman D. (Per)', 'Legario F. (Per)', 'Barbagelatta G. (Per)', 0, 0, 0, 0, 0, 0, 0, 0, 0, 0, 0, 0, 0, 0, 0, 0]\n",
      "\n"
     ]
    },
    {
     "name": "stderr",
     "output_type": "stream",
     "text": [
      "[WDM] - ====== WebDriver manager ======\n",
      "[WDM] - Current google-chrome version is 104.0.5112\n",
      "[WDM] - Get LATEST chromedriver version for 104.0.5112 google-chrome\n"
     ]
    },
    {
     "name": "stdout",
     "output_type": "stream",
     "text": [
      "Termino 118\n",
      "['Perez R. B. (Per)', 'Quiroz J. C. (Per)', 'Villegas H. (Per)', 'Lozano S. (Per)', 'Ortega K. (Per)', 'Menendez A. (Per)', 'Espinoza J. (Per)', 'Vasquez B. (Per)', 0, 0, 0, 0, 0, 0, 'Cartagena J. (Per)', 'Villegas H. (Per)', 'Cori V. (Per)', 'Villanueva A. (Per)', 'Legario F. (Per)', 'Blas W. (Per)', 'Seminario L. (Per)', 0, 0, 0, 0, 0, 0, 0, 'Espinoza M. (Per)', 'Ordonez E. (Per)', 'Quiroz J. C. (Per)', 'Alarcon J. (Per)', 'Perez R. B. (Per)', 'Espinoza M. (Per)', 'Ortega K. (Per)', 0, 0, 0, 0, 0, 0, 0, 'Garay Evia L. (Per)', 'Lozano S. (Per)', 'Huaman D. (Per)', 'Vasquez B. (Per)', 'Legario F. (Per)', 'Villegas H. (Per)', 'Garay L. (Per)', 0, 0, 0, 0, 0, 0, 0, 'Alarcon J. (Per)', 'Ciriaco L. (Per)', 'Lozano C. (Arg)', 'Alarcon J. (Per)', 'Perez R. B. (Per)', 'Villegas H. (Per)', 'Seminario L. (Per)', 0, 0, 0, 0, 0, 0, 0, 'Ureta D. (Per)', 'Garay L. (Per)', 'Quiroz J. (Per)', 'Estadio Inca Garcilaso de la Vega (Cusco)', 'Estadio Iván Elías Moreno (Lima)', 'Zamora J. (Per)', 0, 0, 0, 0, 0, 0, 0, 0, 'Estadio San Martin de Porres (Lima)', 'Alarcon J. (Per)', 'Perez R. B. (Per)', 'Villanueva A. (Per)', 'Villegas H. (Per)', 0, 0, 0, 0, 0, 0, 0, 0, 0, 'Alarcon J. (Per)', 'Ortega K. (Per)', 'Ureta D. (Per)', 'Seminario L. (Per)', 'Lozano Segado J. (Esp)', 'Barbagelatta G. (Per)', 'Perez R. B. (Per)', 0, 0, 0, 0, 0, 0, 0, 'Legario F. (Per)', 'Barbagelatta G. (Per)', 'Cartagena J. (Per)', 'Villegas H. (Per)', 'Huaman D. (Per)', 'Seminario L. (Per)', 'Alarcon J. (Per)', 0, 0, 0, 0, 0, 0, 0, 'Espinoza J. (Per)', 'Seminario L. (Per)', 'Villegas H. (Per)', 'Ortega K. (Arg)', 'Menendez A. (Per)', 'Ortega K. (Per)', 'Cartagena J. (Per)', 0, 0, 0, 0, 0, 0, 0, 'Alarcon J. (Per)', 'Estadio Miguel Grau (Callao)', 'Villegas H. (Per)', 'Cartagena J. (Per)', 'Perez R. B. (Per)', 'Ortega K. (Per)', 'Ordonez E. (Per)', 0, 0, 0, 0, 0, 0, 0, 'Huaman D. (Per)', 'Perez R. B. (Per)', 'Seminario L. (Per)', 'Mendoza J. (Per)', 'Alarcon J. (Per)', 'Ordonez E. (Per)', 'Espinoza J. (Per)', 0, 0, 0, 0, 0, 0, 0, 'Alarcon J. (Per)', 'Zamora J. (Per)', 'Espinoza J. (Per)', 'Seminario L. (Per)', 'Ordonez E. (Per)', 'Lopez P. (Per)', 0, 0, 0, 0, 0, 0, 0, 0, 'Palomino M. (Per)', 'Legario F. (Per)', 'Espinoza J. (Per)', 'Estadio Huancayo (Huancayo)', 'Espinoza M. (Per)', 'Huaman D. (Per)', 0, 0, 0, 0, 0, 0, 0, 0, 'Perez R. B. (Per)', 'Lopez R. (Per)', 'Ordonez E. (Per)', 'Espinoza J. (Per)', 'Huaman D. (Per)', 'Legario F. (Per)', 'Barbagelatta G. (Per)', 0, 0, 0, 0, 0, 0, 0, 0, 0, 0, 0, 0, 0, 0, 0, 0]\n",
      "\n"
     ]
    },
    {
     "name": "stderr",
     "output_type": "stream",
     "text": [
      "[WDM] - ====== WebDriver manager ======\n",
      "[WDM] - Current google-chrome version is 104.0.5112\n",
      "[WDM] - Get LATEST chromedriver version for 104.0.5112 google-chrome\n",
      "[WDM] - Driver [C:\\Users\\PC-1\\.wdm\\drivers\\chromedriver\\win32\\104.0.5112.79\\chromedriver.exe] found in cache\n",
      "[WDM] - Driver [C:\\Users\\PC-1\\.wdm\\drivers\\chromedriver\\win32\\104.0.5112.79\\chromedriver.exe] found in cache\n",
      "[WDM] - Current google-chrome version is 104.0.5112\n",
      "[WDM] - Get LATEST chromedriver version for 104.0.5112 google-chrome\n",
      "[WDM] - Driver [C:\\Users\\PC-1\\.wdm\\drivers\\chromedriver\\win32\\104.0.5112.79\\chromedriver.exe] found in cache\n",
      "[WDM] - Current google-chrome version is 104.0.5112\n",
      "[WDM] - Get LATEST chromedriver version for 104.0.5112 google-chrome\n",
      "[WDM] - Driver [C:\\Users\\PC-1\\.wdm\\drivers\\chromedriver\\win32\\104.0.5112.79\\chromedriver.exe] found in cache\n"
     ]
    },
    {
     "name": "stdout",
     "output_type": "stream",
     "text": [
      "Termino 7\n",
      "['Perez R. B. (Per)', 'Quiroz J. C. (Per)', 'Villegas H. (Per)', 'Lozano S. (Per)', 'Ortega K. (Per)', 'Menendez A. (Per)', 'Espinoza J. (Per)', 'Vasquez B. (Per)', 0, 0, 0, 0, 0, 0, 'Cartagena J. (Per)', 'Villegas H. (Per)', 'Cori V. (Per)', 'Villanueva A. (Per)', 'Legario F. (Per)', 'Blas W. (Per)', 'Seminario L. (Per)', 0, 0, 0, 0, 0, 0, 0, 'Espinoza M. (Per)', 'Ordonez E. (Per)', 'Quiroz J. C. (Per)', 'Alarcon J. (Per)', 'Perez R. B. (Per)', 'Espinoza M. (Per)', 'Ortega K. (Per)', 0, 0, 0, 0, 0, 0, 0, 'Garay Evia L. (Per)', 'Lozano S. (Per)', 'Huaman D. (Per)', 'Vasquez B. (Per)', 'Legario F. (Per)', 'Villegas H. (Per)', 'Garay L. (Per)', 0, 0, 0, 0, 0, 0, 0, 'Alarcon J. (Per)', 'Ciriaco L. (Per)', 'Lozano C. (Arg)', 'Alarcon J. (Per)', 'Perez R. B. (Per)', 'Villegas H. (Per)', 'Seminario L. (Per)', 0, 0, 0, 0, 0, 0, 0, 'Ureta D. (Per)', 'Garay L. (Per)', 'Quiroz J. (Per)', 'Estadio Inca Garcilaso de la Vega (Cusco)', 'Estadio Iván Elías Moreno (Lima)', 'Zamora J. (Per)', 0, 0, 0, 0, 0, 0, 0, 0, 'Estadio San Martin de Porres (Lima)', 'Alarcon J. (Per)', 'Perez R. B. (Per)', 'Villanueva A. (Per)', 'Villegas H. (Per)', 0, 0, 0, 0, 0, 0, 0, 0, 0, 'Alarcon J. (Per)', 'Ortega K. (Per)', 'Ureta D. (Per)', 'Seminario L. (Per)', 'Lozano Segado J. (Esp)', 'Barbagelatta G. (Per)', 'Perez R. B. (Per)', 0, 0, 0, 0, 0, 0, 0, 'Legario F. (Per)', 'Barbagelatta G. (Per)', 'Cartagena J. (Per)', 'Villegas H. (Per)', 'Huaman D. (Per)', 'Seminario L. (Per)', 'Alarcon J. (Per)', 0, 0, 0, 0, 0, 0, 0, 'Espinoza J. (Per)', 'Seminario L. (Per)', 'Villegas H. (Per)', 'Ortega K. (Arg)', 'Menendez A. (Per)', 'Ortega K. (Per)', 'Cartagena J. (Per)', 0, 0, 0, 0, 0, 0, 0, 'Alarcon J. (Per)', 'Estadio Miguel Grau (Callao)', 'Villegas H. (Per)', 'Cartagena J. (Per)', 'Perez R. B. (Per)', 'Ortega K. (Per)', 'Ordonez E. (Per)', 0, 0, 0, 0, 0, 0, 0, 'Huaman D. (Per)', 'Perez R. B. (Per)', 'Seminario L. (Per)', 'Mendoza J. (Per)', 'Alarcon J. (Per)', 'Ordonez E. (Per)', 'Espinoza J. (Per)', 0, 0, 0, 0, 0, 0, 0, 'Alarcon J. (Per)', 'Zamora J. (Per)', 'Espinoza J. (Per)', 'Seminario L. (Per)', 'Ordonez E. (Per)', 'Lopez P. (Per)', 0, 0, 0, 0, 0, 0, 0, 0, 'Palomino M. (Per)', 'Legario F. (Per)', 'Espinoza J. (Per)', 'Estadio Huancayo (Huancayo)', 'Espinoza M. (Per)', 'Huaman D. (Per)', 0, 0, 0, 0, 0, 0, 0, 0, 'Perez R. B. (Per)', 'Lopez R. (Per)', 'Ordonez E. (Per)', 'Espinoza J. (Per)', 'Huaman D. (Per)', 'Legario F. (Per)', 'Barbagelatta G. (Per)', 0, 0, 0, 0, 0, 0, 0, 0, 0, 0, 0, 0, 0, 0, 0, 0]\n",
      "\n"
     ]
    },
    {
     "name": "stderr",
     "output_type": "stream",
     "text": [
      "[WDM] - ====== WebDriver manager ======\n",
      "[WDM] - Current google-chrome version is 104.0.5112\n",
      "[WDM] - Get LATEST chromedriver version for 104.0.5112 google-chrome\n",
      "[WDM] - Driver [C:\\Users\\PC-1\\.wdm\\drivers\\chromedriver\\win32\\104.0.5112.79\\chromedriver.exe] found in cache\n"
     ]
    },
    {
     "name": "stdout",
     "output_type": "stream",
     "text": [
      "Termino 188\n",
      "['Perez R. B. (Per)', 'Quiroz J. C. (Per)', 'Villegas H. (Per)', 'Lozano S. (Per)', 'Ortega K. (Per)', 'Menendez A. (Per)', 'Espinoza J. (Per)', 'Vasquez B. (Per)', 0, 0, 0, 0, 0, 0, 'Cartagena J. (Per)', 'Villegas H. (Per)', 'Cori V. (Per)', 'Villanueva A. (Per)', 'Legario F. (Per)', 'Blas W. (Per)', 'Seminario L. (Per)', 'Perez R. B. (Per)', 0, 0, 0, 0, 0, 0, 'Espinoza M. (Per)', 'Ordonez E. (Per)', 'Quiroz J. C. (Per)', 'Alarcon J. (Per)', 'Perez R. B. (Per)', 'Espinoza M. (Per)', 'Ortega K. (Per)', 0, 0, 0, 0, 0, 0, 0, 'Garay Evia L. (Per)', 'Lozano S. (Per)', 'Huaman D. (Per)', 'Vasquez B. (Per)', 'Legario F. (Per)', 'Villegas H. (Per)', 'Garay L. (Per)', 'Ureta D. (Per)', 0, 0, 0, 0, 0, 0, 'Alarcon J. (Per)', 'Ciriaco L. (Per)', 'Lozano C. (Arg)', 'Alarcon J. (Per)', 'Perez R. B. (Per)', 'Villegas H. (Per)', 'Seminario L. (Per)', 'Ordonez E. (Per)', 0, 0, 0, 0, 0, 0, 'Ureta D. (Per)', 'Garay L. (Per)', 'Quiroz J. (Per)', 'Estadio Inca Garcilaso de la Vega (Cusco)', 'Estadio Iván Elías Moreno (Lima)', 'Zamora J. (Per)', 0, 0, 0, 0, 0, 0, 0, 0, 'Estadio San Martin de Porres (Lima)', 'Alarcon J. (Per)', 'Perez R. B. (Per)', 'Villanueva A. (Per)', 'Villegas H. (Per)', 0, 0, 0, 0, 0, 0, 0, 0, 0, 'Alarcon J. (Per)', 'Ortega K. (Per)', 'Ureta D. (Per)', 'Seminario L. (Per)', 'Lozano Segado J. (Esp)', 'Barbagelatta G. (Per)', 'Perez R. B. (Per)', 'Legario F. (Per)', 0, 0, 0, 0, 0, 0, 'Legario F. (Per)', 'Barbagelatta G. (Per)', 'Cartagena J. (Per)', 'Villegas H. (Per)', 'Huaman D. (Per)', 'Seminario L. (Per)', 'Alarcon J. (Per)', 0, 0, 0, 0, 0, 0, 0, 'Espinoza J. (Per)', 'Seminario L. (Per)', 'Villegas H. (Per)', 'Ortega K. (Arg)', 'Menendez A. (Per)', 'Ortega K. (Per)', 'Cartagena J. (Per)', 0, 0, 0, 0, 0, 0, 0, 'Alarcon J. (Per)', 'Estadio Miguel Grau (Callao)', 'Villegas H. (Per)', 'Cartagena J. (Per)', 'Perez R. B. (Per)', 'Ortega K. (Per)', 'Ordonez E. (Per)', 0, 0, 0, 0, 0, 0, 0, 'Huaman D. (Per)', 'Perez R. B. (Per)', 'Seminario L. (Per)', 'Mendoza J. (Per)', 'Alarcon J. (Per)', 'Ordonez E. (Per)', 'Espinoza J. (Per)', 0, 0, 0, 0, 0, 0, 0, 'Alarcon J. (Per)', 'Zamora J. (Per)', 'Espinoza J. (Per)', 'Seminario L. (Per)', 'Ordonez E. (Per)', 'Lopez P. (Per)', 0, 0, 0, 0, 0, 0, 0, 0, 'Palomino M. (Per)', 'Legario F. (Per)', 'Espinoza J. (Per)', 'Estadio Huancayo (Huancayo)', 'Espinoza M. (Per)', 'Huaman D. (Per)', 'Perez R. B. (Per)', 0, 0, 0, 0, 0, 0, 0, 'Perez R. B. (Per)', 'Lopez R. (Per)', 'Ordonez E. (Per)', 'Espinoza J. (Per)', 'Huaman D. (Per)', 'Legario F. (Per)', 'Barbagelatta G. (Per)', 0, 0, 0, 0, 0, 0, 0, 0, 0, 0, 0, 0, 0, 0, 0, 0]\n",
      "\n"
     ]
    },
    {
     "name": "stderr",
     "output_type": "stream",
     "text": [
      "[WDM] - ====== WebDriver manager ======\n",
      "[WDM] - Current google-chrome version is 104.0.5112\n",
      "[WDM] - Get LATEST chromedriver version for 104.0.5112 google-chrome\n",
      "[WDM] - Driver [C:\\Users\\PC-1\\.wdm\\drivers\\chromedriver\\win32\\104.0.5112.79\\chromedriver.exe] found in cache\n"
     ]
    },
    {
     "name": "stdout",
     "output_type": "stream",
     "text": [
      "Termino 21\n",
      "['Perez R. B. (Per)', 'Quiroz J. C. (Per)', 'Villegas H. (Per)', 'Lozano S. (Per)', 'Ortega K. (Per)', 'Menendez A. (Per)', 'Espinoza J. (Per)', 'Vasquez B. (Per)', 0, 0, 0, 0, 0, 0, 'Cartagena J. (Per)', 'Villegas H. (Per)', 'Cori V. (Per)', 'Villanueva A. (Per)', 'Legario F. (Per)', 'Blas W. (Per)', 'Seminario L. (Per)', 'Perez R. B. (Per)', 0, 0, 0, 0, 0, 0, 'Espinoza M. (Per)', 'Ordonez E. (Per)', 'Quiroz J. C. (Per)', 'Alarcon J. (Per)', 'Perez R. B. (Per)', 'Espinoza M. (Per)', 'Ortega K. (Per)', 'Ordonez E. (Per)', 0, 0, 0, 0, 0, 0, 'Garay Evia L. (Per)', 'Lozano S. (Per)', 'Huaman D. (Per)', 'Vasquez B. (Per)', 'Legario F. (Per)', 'Villegas H. (Per)', 'Garay L. (Per)', 'Ureta D. (Per)', 0, 0, 0, 0, 0, 0, 'Alarcon J. (Per)', 'Ciriaco L. (Per)', 'Lozano C. (Arg)', 'Alarcon J. (Per)', 'Perez R. B. (Per)', 'Villegas H. (Per)', 'Seminario L. (Per)', 'Ordonez E. (Per)', 0, 0, 0, 0, 0, 0, 'Ureta D. (Per)', 'Garay L. (Per)', 'Quiroz J. (Per)', 'Estadio Inca Garcilaso de la Vega (Cusco)', 'Estadio Iván Elías Moreno (Lima)', 'Zamora J. (Per)', 0, 0, 0, 0, 0, 0, 0, 0, 'Estadio San Martin de Porres (Lima)', 'Alarcon J. (Per)', 'Perez R. B. (Per)', 'Villanueva A. (Per)', 'Villegas H. (Per)', 0, 0, 0, 0, 0, 0, 0, 0, 0, 'Alarcon J. (Per)', 'Ortega K. (Per)', 'Ureta D. (Per)', 'Seminario L. (Per)', 'Lozano Segado J. (Esp)', 'Barbagelatta G. (Per)', 'Perez R. B. (Per)', 'Legario F. (Per)', 0, 0, 0, 0, 0, 0, 'Legario F. (Per)', 'Barbagelatta G. (Per)', 'Cartagena J. (Per)', 'Villegas H. (Per)', 'Huaman D. (Per)', 'Seminario L. (Per)', 'Alarcon J. (Per)', 0, 0, 0, 0, 0, 0, 0, 'Espinoza J. (Per)', 'Seminario L. (Per)', 'Villegas H. (Per)', 'Ortega K. (Arg)', 'Menendez A. (Per)', 'Ortega K. (Per)', 'Cartagena J. (Per)', 0, 0, 0, 0, 0, 0, 0, 'Alarcon J. (Per)', 'Estadio Miguel Grau (Callao)', 'Villegas H. (Per)', 'Cartagena J. (Per)', 'Perez R. B. (Per)', 'Ortega K. (Per)', 'Ordonez E. (Per)', 0, 0, 0, 0, 0, 0, 0, 'Huaman D. (Per)', 'Perez R. B. (Per)', 'Seminario L. (Per)', 'Mendoza J. (Per)', 'Alarcon J. (Per)', 'Ordonez E. (Per)', 'Espinoza J. (Per)', 0, 0, 0, 0, 0, 0, 0, 'Alarcon J. (Per)', 'Zamora J. (Per)', 'Espinoza J. (Per)', 'Seminario L. (Per)', 'Ordonez E. (Per)', 'Lopez P. (Per)', 0, 0, 0, 0, 0, 0, 0, 0, 'Palomino M. (Per)', 'Legario F. (Per)', 'Espinoza J. (Per)', 'Estadio Huancayo (Huancayo)', 'Espinoza M. (Per)', 'Huaman D. (Per)', 'Perez R. B. (Per)', 0, 0, 0, 0, 0, 0, 0, 'Perez R. B. (Per)', 'Lopez R. (Per)', 'Ordonez E. (Per)', 'Espinoza J. (Per)', 'Huaman D. (Per)', 'Legario F. (Per)', 'Barbagelatta G. (Per)', 'Perez R. B. (Per)', 0, 0, 0, 0, 0, 0, 0, 0, 0, 0, 0, 0, 0, 0, 0]\n",
      "\n"
     ]
    },
    {
     "name": "stderr",
     "output_type": "stream",
     "text": [
      "[WDM] - ====== WebDriver manager ======\n",
      "[WDM] - Current google-chrome version is 104.0.5112\n",
      "[WDM] - Get LATEST chromedriver version for 104.0.5112 google-chrome\n",
      "[WDM] - Driver [C:\\Users\\PC-1\\.wdm\\drivers\\chromedriver\\win32\\104.0.5112.79\\chromedriver.exe] found in cache\n"
     ]
    },
    {
     "name": "stdout",
     "output_type": "stream",
     "text": [
      "Termino 63\n",
      "['Perez R. B. (Per)', 'Quiroz J. C. (Per)', 'Villegas H. (Per)', 'Lozano S. (Per)', 'Ortega K. (Per)', 'Menendez A. (Per)', 'Espinoza J. (Per)', 'Vasquez B. (Per)', 0, 0, 0, 0, 0, 0, 'Cartagena J. (Per)', 'Villegas H. (Per)', 'Cori V. (Per)', 'Villanueva A. (Per)', 'Legario F. (Per)', 'Blas W. (Per)', 'Seminario L. (Per)', 'Perez R. B. (Per)', 0, 0, 0, 0, 0, 0, 'Espinoza M. (Per)', 'Ordonez E. (Per)', 'Quiroz J. C. (Per)', 'Alarcon J. (Per)', 'Perez R. B. (Per)', 'Espinoza M. (Per)', 'Ortega K. (Per)', 'Ordonez E. (Per)', 0, 0, 0, 0, 0, 0, 'Garay Evia L. (Per)', 'Lozano S. (Per)', 'Huaman D. (Per)', 'Vasquez B. (Per)', 'Legario F. (Per)', 'Villegas H. (Per)', 'Garay L. (Per)', 'Ureta D. (Per)', 0, 0, 0, 0, 0, 0, 'Alarcon J. (Per)', 'Ciriaco L. (Per)', 'Lozano C. (Arg)', 'Alarcon J. (Per)', 'Perez R. B. (Per)', 'Villegas H. (Per)', 'Seminario L. (Per)', 'Ordonez E. (Per)', 0, 0, 0, 0, 0, 0, 'Ureta D. (Per)', 'Garay L. (Per)', 'Quiroz J. (Per)', 'Estadio Inca Garcilaso de la Vega (Cusco)', 'Estadio Iván Elías Moreno (Lima)', 'Zamora J. (Per)', 0, 0, 0, 0, 0, 0, 0, 0, 'Estadio San Martin de Porres (Lima)', 'Alarcon J. (Per)', 'Perez R. B. (Per)', 'Villanueva A. (Per)', 'Villegas H. (Per)', 'Lopez P. (Per)', 0, 0, 0, 0, 0, 0, 0, 0, 'Alarcon J. (Per)', 'Ortega K. (Per)', 'Ureta D. (Per)', 'Seminario L. (Per)', 'Lozano Segado J. (Esp)', 'Barbagelatta G. (Per)', 'Perez R. B. (Per)', 'Legario F. (Per)', 0, 0, 0, 0, 0, 0, 'Legario F. (Per)', 'Barbagelatta G. (Per)', 'Cartagena J. (Per)', 'Villegas H. (Per)', 'Huaman D. (Per)', 'Seminario L. (Per)', 'Alarcon J. (Per)', 0, 0, 0, 0, 0, 0, 0, 'Espinoza J. (Per)', 'Seminario L. (Per)', 'Villegas H. (Per)', 'Ortega K. (Arg)', 'Menendez A. (Per)', 'Ortega K. (Per)', 'Cartagena J. (Per)', 0, 0, 0, 0, 0, 0, 0, 'Alarcon J. (Per)', 'Estadio Miguel Grau (Callao)', 'Villegas H. (Per)', 'Cartagena J. (Per)', 'Perez R. B. (Per)', 'Ortega K. (Per)', 'Ordonez E. (Per)', 0, 0, 0, 0, 0, 0, 0, 'Huaman D. (Per)', 'Perez R. B. (Per)', 'Seminario L. (Per)', 'Mendoza J. (Per)', 'Alarcon J. (Per)', 'Ordonez E. (Per)', 'Espinoza J. (Per)', 'Menendez A. (Per)', 0, 0, 0, 0, 0, 0, 'Alarcon J. (Per)', 'Zamora J. (Per)', 'Espinoza J. (Per)', 'Seminario L. (Per)', 'Ordonez E. (Per)', 'Lopez P. (Per)', 'Espinoza M. (Per)', 0, 0, 0, 0, 0, 0, 0, 'Palomino M. (Per)', 'Legario F. (Per)', 'Espinoza J. (Per)', 'Estadio Huancayo (Huancayo)', 'Espinoza M. (Per)', 'Huaman D. (Per)', 'Perez R. B. (Per)', 0, 0, 0, 0, 0, 0, 0, 'Perez R. B. (Per)', 'Lopez R. (Per)', 'Ordonez E. (Per)', 'Espinoza J. (Per)', 'Huaman D. (Per)', 'Legario F. (Per)', 'Barbagelatta G. (Per)', 'Perez R. B. (Per)', 0, 0, 0, 0, 0, 0, 0, 0, 0, 0, 0, 0, 0, 0, 0]\n",
      "\n"
     ]
    },
    {
     "name": "stderr",
     "output_type": "stream",
     "text": [
      "[WDM] - ====== WebDriver manager ======\n"
     ]
    },
    {
     "name": "stdout",
     "output_type": "stream",
     "text": [
      "Termino 49\n",
      "['Perez R. B. (Per)', 'Quiroz J. C. (Per)', 'Villegas H. (Per)', 'Lozano S. (Per)', 'Ortega K. (Per)', 'Menendez A. (Per)', 'Espinoza J. (Per)', 'Vasquez B. (Per)', 0, 0, 0, 0, 0, 0, 'Cartagena J. (Per)', 'Villegas H. (Per)', 'Cori V. (Per)', 'Villanueva A. (Per)', 'Legario F. (Per)', 'Blas W. (Per)', 'Seminario L. (Per)', 'Perez R. B. (Per)', 0, 0, 0, 0, 0, 0, 'Espinoza M. (Per)', 'Ordonez E. (Per)', 'Quiroz J. C. (Per)', 'Alarcon J. (Per)', 'Perez R. B. (Per)', 'Espinoza M. (Per)', 'Ortega K. (Per)', 'Ordonez E. (Per)', 0, 0, 0, 0, 0, 0, 'Garay Evia L. (Per)', 'Lozano S. (Per)', 'Huaman D. (Per)', 'Vasquez B. (Per)', 'Legario F. (Per)', 'Villegas H. (Per)', 'Garay L. (Per)', 'Ureta D. (Per)', 0, 0, 0, 0, 0, 0, 'Alarcon J. (Per)', 'Ciriaco L. (Per)', 'Lozano C. (Arg)', 'Alarcon J. (Per)', 'Perez R. B. (Per)', 'Villegas H. (Per)', 'Seminario L. (Per)', 'Ordonez E. (Per)', 0, 0, 0, 0, 0, 0, 'Ureta D. (Per)', 'Garay L. (Per)', 'Quiroz J. (Per)', 'Estadio Inca Garcilaso de la Vega (Cusco)', 'Estadio Iván Elías Moreno (Lima)', 'Zamora J. (Per)', 0, 0, 0, 0, 0, 0, 0, 0, 'Estadio San Martin de Porres (Lima)', 'Alarcon J. (Per)', 'Perez R. B. (Per)', 'Villanueva A. (Per)', 'Villegas H. (Per)', 'Lopez P. (Per)', 0, 0, 0, 0, 0, 0, 0, 0, 'Alarcon J. (Per)', 'Ortega K. (Per)', 'Ureta D. (Per)', 'Seminario L. (Per)', 'Lozano Segado J. (Esp)', 'Barbagelatta G. (Per)', 'Perez R. B. (Per)', 'Legario F. (Per)', 0, 0, 0, 0, 0, 0, 'Legario F. (Per)', 'Barbagelatta G. (Per)', 'Cartagena J. (Per)', 'Villegas H. (Per)', 'Huaman D. (Per)', 'Seminario L. (Per)', 'Alarcon J. (Per)', 0, 0, 0, 0, 0, 0, 0, 'Espinoza J. (Per)', 'Seminario L. (Per)', 'Villegas H. (Per)', 'Ortega K. (Arg)', 'Menendez A. (Per)', 'Ortega K. (Per)', 'Cartagena J. (Per)', 0, 0, 0, 0, 0, 0, 0, 'Alarcon J. (Per)', 'Estadio Miguel Grau (Callao)', 'Villegas H. (Per)', 'Cartagena J. (Per)', 'Perez R. B. (Per)', 'Ortega K. (Per)', 'Ordonez E. (Per)', 0, 0, 0, 0, 0, 0, 0, 'Huaman D. (Per)', 'Perez R. B. (Per)', 'Seminario L. (Per)', 'Mendoza J. (Per)', 'Alarcon J. (Per)', 'Ordonez E. (Per)', 'Espinoza J. (Per)', 'Menendez A. (Per)', 0, 0, 0, 0, 0, 0, 'Alarcon J. (Per)', 'Zamora J. (Per)', 'Espinoza J. (Per)', 'Seminario L. (Per)', 'Ordonez E. (Per)', 'Lopez P. (Per)', 'Espinoza M. (Per)', 0, 0, 0, 0, 0, 0, 0, 'Palomino M. (Per)', 'Legario F. (Per)', 'Espinoza J. (Per)', 'Estadio Huancayo (Huancayo)', 'Espinoza M. (Per)', 'Huaman D. (Per)', 'Perez R. B. (Per)', 0, 0, 0, 0, 0, 0, 0, 'Perez R. B. (Per)', 'Lopez R. (Per)', 'Ordonez E. (Per)', 'Espinoza J. (Per)', 'Huaman D. (Per)', 'Legario F. (Per)', 'Barbagelatta G. (Per)', 'Perez R. B. (Per)', 0, 0, 0, 0, 0, 0, 0, 0, 0, 0, 0, 0, 0, 0, 0]\n",
      "\n"
     ]
    },
    {
     "name": "stderr",
     "output_type": "stream",
     "text": [
      "[WDM] - ====== WebDriver manager ======\n"
     ]
    },
    {
     "name": "stdout",
     "output_type": "stream",
     "text": [
      "Termino 105\n",
      "['Perez R. B. (Per)', 'Quiroz J. C. (Per)', 'Villegas H. (Per)', 'Lozano S. (Per)', 'Ortega K. (Per)', 'Menendez A. (Per)', 'Espinoza J. (Per)', 'Vasquez B. (Per)', 0, 0, 0, 0, 0, 0, 'Cartagena J. (Per)', 'Villegas H. (Per)', 'Cori V. (Per)', 'Villanueva A. (Per)', 'Legario F. (Per)', 'Blas W. (Per)', 'Seminario L. (Per)', 'Perez R. B. (Per)', 0, 0, 0, 0, 0, 0, 'Espinoza M. (Per)', 'Ordonez E. (Per)', 'Quiroz J. C. (Per)', 'Alarcon J. (Per)', 'Perez R. B. (Per)', 'Espinoza M. (Per)', 'Ortega K. (Per)', 'Ordonez E. (Per)', 0, 0, 0, 0, 0, 0, 'Garay Evia L. (Per)', 'Lozano S. (Per)', 'Huaman D. (Per)', 'Vasquez B. (Per)', 'Legario F. (Per)', 'Villegas H. (Per)', 'Garay L. (Per)', 'Ureta D. (Per)', 0, 0, 0, 0, 0, 0, 'Alarcon J. (Per)', 'Ciriaco L. (Per)', 'Lozano C. (Arg)', 'Alarcon J. (Per)', 'Perez R. B. (Per)', 'Villegas H. (Per)', 'Seminario L. (Per)', 'Ordonez E. (Per)', 0, 0, 0, 0, 0, 0, 'Ureta D. (Per)', 'Garay L. (Per)', 'Quiroz J. (Per)', 'Estadio Inca Garcilaso de la Vega (Cusco)', 'Estadio Iván Elías Moreno (Lima)', 'Zamora J. (Per)', 0, 0, 0, 0, 0, 0, 0, 0, 'Estadio San Martin de Porres (Lima)', 'Alarcon J. (Per)', 'Perez R. B. (Per)', 'Villanueva A. (Per)', 'Villegas H. (Per)', 'Lopez P. (Per)', 0, 0, 0, 0, 0, 0, 0, 0, 'Alarcon J. (Per)', 'Ortega K. (Per)', 'Ureta D. (Per)', 'Seminario L. (Per)', 'Lozano Segado J. (Esp)', 'Barbagelatta G. (Per)', 'Perez R. B. (Per)', 'Legario F. (Per)', 0, 0, 0, 0, 0, 0, 'Legario F. (Per)', 'Barbagelatta G. (Per)', 'Cartagena J. (Per)', 'Villegas H. (Per)', 'Huaman D. (Per)', 'Seminario L. (Per)', 'Alarcon J. (Per)', 0, 0, 0, 0, 0, 0, 0, 'Espinoza J. (Per)', 'Seminario L. (Per)', 'Villegas H. (Per)', 'Ortega K. (Arg)', 'Menendez A. (Per)', 'Ortega K. (Per)', 'Cartagena J. (Per)', 0, 0, 0, 0, 0, 0, 0, 'Alarcon J. (Per)', 'Estadio Miguel Grau (Callao)', 'Villegas H. (Per)', 'Cartagena J. (Per)', 'Perez R. B. (Per)', 'Ortega K. (Per)', 'Ordonez E. (Per)', 0, 0, 0, 0, 0, 0, 0, 'Huaman D. (Per)', 'Perez R. B. (Per)', 'Seminario L. (Per)', 'Mendoza J. (Per)', 'Alarcon J. (Per)', 'Ordonez E. (Per)', 'Espinoza J. (Per)', 'Menendez A. (Per)', 0, 0, 0, 0, 0, 0, 'Alarcon J. (Per)', 'Zamora J. (Per)', 'Espinoza J. (Per)', 'Seminario L. (Per)', 'Ordonez E. (Per)', 'Lopez P. (Per)', 'Espinoza M. (Per)', 0, 0, 0, 0, 0, 0, 0, 'Palomino M. (Per)', 'Legario F. (Per)', 'Espinoza J. (Per)', 'Estadio Huancayo (Huancayo)', 'Espinoza M. (Per)', 'Huaman D. (Per)', 'Perez R. B. (Per)', 0, 0, 0, 0, 0, 0, 0, 'Perez R. B. (Per)', 'Lopez R. (Per)', 'Ordonez E. (Per)', 'Espinoza J. (Per)', 'Huaman D. (Per)', 'Legario F. (Per)', 'Barbagelatta G. (Per)', 'Perez R. B. (Per)', 0, 0, 0, 0, 0, 0, 0, 0, 0, 0, 0, 0, 0, 0, 0]\n",
      "\n"
     ]
    },
    {
     "name": "stderr",
     "output_type": "stream",
     "text": [
      "[WDM] - ====== WebDriver manager ======\n",
      "[WDM] - Current google-chrome version is 104.0.5112\n",
      "[WDM] - Get LATEST chromedriver version for 104.0.5112 google-chrome\n",
      "[WDM] - Driver [C:\\Users\\PC-1\\.wdm\\drivers\\chromedriver\\win32\\104.0.5112.79\\chromedriver.exe] found in cache\n",
      "[WDM] - Current google-chrome version is 104.0.5112\n",
      "[WDM] - Get LATEST chromedriver version for 104.0.5112 google-chrome\n",
      "[WDM] - Current google-chrome version is 104.0.5112\n",
      "[WDM] - Get LATEST chromedriver version for 104.0.5112 google-chrome\n",
      "[WDM] - Driver [C:\\Users\\PC-1\\.wdm\\drivers\\chromedriver\\win32\\104.0.5112.79\\chromedriver.exe] found in cache\n",
      "[WDM] - Driver [C:\\Users\\PC-1\\.wdm\\drivers\\chromedriver\\win32\\104.0.5112.79\\chromedriver.exe] found in cache\n"
     ]
    },
    {
     "name": "stdout",
     "output_type": "stream",
     "text": [
      "Termino 89\n",
      "['Perez R. B. (Per)', 'Quiroz J. C. (Per)', 'Villegas H. (Per)', 'Lozano S. (Per)', 'Ortega K. (Per)', 'Menendez A. (Per)', 'Espinoza J. (Per)', 'Vasquez B. (Per)', 0, 0, 0, 0, 0, 0, 'Cartagena J. (Per)', 'Villegas H. (Per)', 'Cori V. (Per)', 'Villanueva A. (Per)', 'Legario F. (Per)', 'Blas W. (Per)', 'Seminario L. (Per)', 'Perez R. B. (Per)', 0, 0, 0, 0, 0, 0, 'Espinoza M. (Per)', 'Ordonez E. (Per)', 'Quiroz J. C. (Per)', 'Alarcon J. (Per)', 'Perez R. B. (Per)', 'Espinoza M. (Per)', 'Ortega K. (Per)', 'Ordonez E. (Per)', 0, 0, 0, 0, 0, 0, 'Garay Evia L. (Per)', 'Lozano S. (Per)', 'Huaman D. (Per)', 'Vasquez B. (Per)', 'Legario F. (Per)', 'Villegas H. (Per)', 'Garay L. (Per)', 'Ureta D. (Per)', 0, 0, 0, 0, 0, 0, 'Alarcon J. (Per)', 'Ciriaco L. (Per)', 'Lozano C. (Arg)', 'Alarcon J. (Per)', 'Perez R. B. (Per)', 'Villegas H. (Per)', 'Seminario L. (Per)', 'Ordonez E. (Per)', 0, 0, 0, 0, 0, 0, 'Ureta D. (Per)', 'Garay L. (Per)', 'Quiroz J. (Per)', 'Estadio Inca Garcilaso de la Vega (Cusco)', 'Estadio Iván Elías Moreno (Lima)', 'Zamora J. (Per)', 'Lopez Ramos P. (Esp)', 0, 0, 0, 0, 0, 0, 0, 'Estadio San Martin de Porres (Lima)', 'Alarcon J. (Per)', 'Perez R. B. (Per)', 'Villanueva A. (Per)', 'Villegas H. (Per)', 'Lopez P. (Per)', 0, 0, 0, 0, 0, 0, 0, 0, 'Alarcon J. (Per)', 'Ortega K. (Per)', 'Ureta D. (Per)', 'Seminario L. (Per)', 'Lozano Segado J. (Esp)', 'Barbagelatta G. (Per)', 'Perez R. B. (Per)', 'Legario F. (Per)', 0, 0, 0, 0, 0, 0, 'Legario F. (Per)', 'Barbagelatta G. (Per)', 'Cartagena J. (Per)', 'Villegas H. (Per)', 'Huaman D. (Per)', 'Seminario L. (Per)', 'Alarcon J. (Per)', 'Espinoza M. (Per)', 0, 0, 0, 0, 0, 0, 'Espinoza J. (Per)', 'Seminario L. (Per)', 'Villegas H. (Per)', 'Ortega K. (Arg)', 'Menendez A. (Per)', 'Ortega K. (Per)', 'Cartagena J. (Per)', 'Garay L. (Per)', 0, 0, 0, 0, 0, 0, 'Alarcon J. (Per)', 'Estadio Miguel Grau (Callao)', 'Villegas H. (Per)', 'Cartagena J. (Per)', 'Perez R. B. (Per)', 'Ortega K. (Per)', 'Ordonez E. (Per)', 'Espinoza M. (Per)', 0, 0, 0, 0, 0, 0, 'Huaman D. (Per)', 'Perez R. B. (Per)', 'Seminario L. (Per)', 'Mendoza J. (Per)', 'Alarcon J. (Per)', 'Ordonez E. (Per)', 'Espinoza J. (Per)', 'Menendez A. (Per)', 0, 0, 0, 0, 0, 0, 'Alarcon J. (Per)', 'Zamora J. (Per)', 'Espinoza J. (Per)', 'Seminario L. (Per)', 'Ordonez E. (Per)', 'Lopez P. (Per)', 'Espinoza M. (Per)', 0, 0, 0, 0, 0, 0, 0, 'Palomino M. (Per)', 'Legario F. (Per)', 'Espinoza J. (Per)', 'Estadio Huancayo (Huancayo)', 'Espinoza M. (Per)', 'Huaman D. (Per)', 'Perez R. B. (Per)', 0, 0, 0, 0, 0, 0, 0, 'Perez R. B. (Per)', 'Lopez R. (Per)', 'Ordonez E. (Per)', 'Espinoza J. (Per)', 'Huaman D. (Per)', 'Legario F. (Per)', 'Barbagelatta G. (Per)', 'Perez R. B. (Per)', 0, 0, 0, 0, 0, 0, 0, 0, 0, 0, 0, 0, 0, 0, 0]\n",
      "\n"
     ]
    },
    {
     "name": "stderr",
     "output_type": "stream",
     "text": [
      "[WDM] - ====== WebDriver manager ======\n"
     ]
    },
    {
     "name": "stdout",
     "output_type": "stream",
     "text": [
      "Termino 203\n",
      "['Perez R. B. (Per)', 'Quiroz J. C. (Per)', 'Villegas H. (Per)', 'Lozano S. (Per)', 'Ortega K. (Per)', 'Menendez A. (Per)', 'Espinoza J. (Per)', 'Vasquez B. (Per)', 0, 0, 0, 0, 0, 0, 'Cartagena J. (Per)', 'Villegas H. (Per)', 'Cori V. (Per)', 'Villanueva A. (Per)', 'Legario F. (Per)', 'Blas W. (Per)', 'Seminario L. (Per)', 'Perez R. B. (Per)', 0, 0, 0, 0, 0, 0, 'Espinoza M. (Per)', 'Ordonez E. (Per)', 'Quiroz J. C. (Per)', 'Alarcon J. (Per)', 'Perez R. B. (Per)', 'Espinoza M. (Per)', 'Ortega K. (Per)', 'Ordonez E. (Per)', 0, 0, 0, 0, 0, 0, 'Garay Evia L. (Per)', 'Lozano S. (Per)', 'Huaman D. (Per)', 'Vasquez B. (Per)', 'Legario F. (Per)', 'Villegas H. (Per)', 'Garay L. (Per)', 'Ureta D. (Per)', 0, 0, 0, 0, 0, 0, 'Alarcon J. (Per)', 'Ciriaco L. (Per)', 'Lozano C. (Arg)', 'Alarcon J. (Per)', 'Perez R. B. (Per)', 'Villegas H. (Per)', 'Seminario L. (Per)', 'Ordonez E. (Per)', 0, 0, 0, 0, 0, 0, 'Ureta D. (Per)', 'Garay L. (Per)', 'Quiroz J. (Per)', 'Estadio Inca Garcilaso de la Vega (Cusco)', 'Estadio Iván Elías Moreno (Lima)', 'Zamora J. (Per)', 'Lopez Ramos P. (Esp)', 0, 0, 0, 0, 0, 0, 0, 'Estadio San Martin de Porres (Lima)', 'Alarcon J. (Per)', 'Perez R. B. (Per)', 'Villanueva A. (Per)', 'Villegas H. (Per)', 'Lopez P. (Per)', 0, 0, 0, 0, 0, 0, 0, 0, 'Alarcon J. (Per)', 'Ortega K. (Per)', 'Ureta D. (Per)', 'Seminario L. (Per)', 'Lozano Segado J. (Esp)', 'Barbagelatta G. (Per)', 'Perez R. B. (Per)', 'Legario F. (Per)', 0, 0, 0, 0, 0, 0, 'Legario F. (Per)', 'Barbagelatta G. (Per)', 'Cartagena J. (Per)', 'Villegas H. (Per)', 'Huaman D. (Per)', 'Seminario L. (Per)', 'Alarcon J. (Per)', 'Espinoza M. (Per)', 0, 0, 0, 0, 0, 0, 'Espinoza J. (Per)', 'Seminario L. (Per)', 'Villegas H. (Per)', 'Ortega K. (Arg)', 'Menendez A. (Per)', 'Ortega K. (Per)', 'Cartagena J. (Per)', 'Garay L. (Per)', 0, 0, 0, 0, 0, 0, 'Alarcon J. (Per)', 'Estadio Miguel Grau (Callao)', 'Villegas H. (Per)', 'Cartagena J. (Per)', 'Perez R. B. (Per)', 'Ortega K. (Per)', 'Ordonez E. (Per)', 'Espinoza M. (Per)', 0, 0, 0, 0, 0, 0, 'Huaman D. (Per)', 'Perez R. B. (Per)', 'Seminario L. (Per)', 'Mendoza J. (Per)', 'Alarcon J. (Per)', 'Ordonez E. (Per)', 'Espinoza J. (Per)', 'Menendez A. (Per)', 0, 0, 0, 0, 0, 0, 'Alarcon J. (Per)', 'Zamora J. (Per)', 'Espinoza J. (Per)', 'Seminario L. (Per)', 'Ordonez E. (Per)', 'Lopez P. (Per)', 'Espinoza M. (Per)', 0, 0, 0, 0, 0, 0, 0, 'Palomino M. (Per)', 'Legario F. (Per)', 'Espinoza J. (Per)', 'Estadio Huancayo (Huancayo)', 'Espinoza M. (Per)', 'Huaman D. (Per)', 'Perez R. B. (Per)', 0, 0, 0, 0, 0, 0, 0, 'Perez R. B. (Per)', 'Lopez R. (Per)', 'Ordonez E. (Per)', 'Espinoza J. (Per)', 'Huaman D. (Per)', 'Legario F. (Per)', 'Barbagelatta G. (Per)', 'Perez R. B. (Per)', 0, 0, 0, 0, 0, 0, 0, 0, 0, 0, 0, 0, 0, 0, 0]\n",
      "\n"
     ]
    },
    {
     "name": "stderr",
     "output_type": "stream",
     "text": [
      "[WDM] - ====== WebDriver manager ======\n"
     ]
    },
    {
     "name": "stdout",
     "output_type": "stream",
     "text": [
      "Termino 161\n",
      "['Perez R. B. (Per)', 'Quiroz J. C. (Per)', 'Villegas H. (Per)', 'Lozano S. (Per)', 'Ortega K. (Per)', 'Menendez A. (Per)', 'Espinoza J. (Per)', 'Vasquez B. (Per)', 0, 0, 0, 0, 0, 0, 'Cartagena J. (Per)', 'Villegas H. (Per)', 'Cori V. (Per)', 'Villanueva A. (Per)', 'Legario F. (Per)', 'Blas W. (Per)', 'Seminario L. (Per)', 'Perez R. B. (Per)', 0, 0, 0, 0, 0, 0, 'Espinoza M. (Per)', 'Ordonez E. (Per)', 'Quiroz J. C. (Per)', 'Alarcon J. (Per)', 'Perez R. B. (Per)', 'Espinoza M. (Per)', 'Ortega K. (Per)', 'Ordonez E. (Per)', 0, 0, 0, 0, 0, 0, 'Garay Evia L. (Per)', 'Lozano S. (Per)', 'Huaman D. (Per)', 'Vasquez B. (Per)', 'Legario F. (Per)', 'Villegas H. (Per)', 'Garay L. (Per)', 'Ureta D. (Per)', 0, 0, 0, 0, 0, 0, 'Alarcon J. (Per)', 'Ciriaco L. (Per)', 'Lozano C. (Arg)', 'Alarcon J. (Per)', 'Perez R. B. (Per)', 'Villegas H. (Per)', 'Seminario L. (Per)', 'Ordonez E. (Per)', 0, 0, 0, 0, 0, 0, 'Ureta D. (Per)', 'Garay L. (Per)', 'Quiroz J. (Per)', 'Estadio Inca Garcilaso de la Vega (Cusco)', 'Estadio Iván Elías Moreno (Lima)', 'Zamora J. (Per)', 'Lopez Ramos P. (Esp)', 0, 0, 0, 0, 0, 0, 0, 'Estadio San Martin de Porres (Lima)', 'Alarcon J. (Per)', 'Perez R. B. (Per)', 'Villanueva A. (Per)', 'Villegas H. (Per)', 'Lopez P. (Per)', 0, 0, 0, 0, 0, 0, 0, 0, 'Alarcon J. (Per)', 'Ortega K. (Per)', 'Ureta D. (Per)', 'Seminario L. (Per)', 'Lozano Segado J. (Esp)', 'Barbagelatta G. (Per)', 'Perez R. B. (Per)', 'Legario F. (Per)', 0, 0, 0, 0, 0, 0, 'Legario F. (Per)', 'Barbagelatta G. (Per)', 'Cartagena J. (Per)', 'Villegas H. (Per)', 'Huaman D. (Per)', 'Seminario L. (Per)', 'Alarcon J. (Per)', 'Espinoza M. (Per)', 0, 0, 0, 0, 0, 0, 'Espinoza J. (Per)', 'Seminario L. (Per)', 'Villegas H. (Per)', 'Ortega K. (Arg)', 'Menendez A. (Per)', 'Ortega K. (Per)', 'Cartagena J. (Per)', 'Garay L. (Per)', 0, 0, 0, 0, 0, 0, 'Alarcon J. (Per)', 'Estadio Miguel Grau (Callao)', 'Villegas H. (Per)', 'Cartagena J. (Per)', 'Perez R. B. (Per)', 'Ortega K. (Per)', 'Ordonez E. (Per)', 'Espinoza M. (Per)', 0, 0, 0, 0, 0, 0, 'Huaman D. (Per)', 'Perez R. B. (Per)', 'Seminario L. (Per)', 'Mendoza J. (Per)', 'Alarcon J. (Per)', 'Ordonez E. (Per)', 'Espinoza J. (Per)', 'Menendez A. (Per)', 0, 0, 0, 0, 0, 0, 'Alarcon J. (Per)', 'Zamora J. (Per)', 'Espinoza J. (Per)', 'Seminario L. (Per)', 'Ordonez E. (Per)', 'Lopez P. (Per)', 'Espinoza M. (Per)', 0, 0, 0, 0, 0, 0, 0, 'Palomino M. (Per)', 'Legario F. (Per)', 'Espinoza J. (Per)', 'Estadio Huancayo (Huancayo)', 'Espinoza M. (Per)', 'Huaman D. (Per)', 'Perez R. B. (Per)', 0, 0, 0, 0, 0, 0, 0, 'Perez R. B. (Per)', 'Lopez R. (Per)', 'Ordonez E. (Per)', 'Espinoza J. (Per)', 'Huaman D. (Per)', 'Legario F. (Per)', 'Barbagelatta G. (Per)', 'Perez R. B. (Per)', 0, 0, 0, 0, 0, 0, 0, 0, 0, 0, 0, 0, 0, 0, 0]\n",
      "\n"
     ]
    },
    {
     "name": "stderr",
     "output_type": "stream",
     "text": [
      "[WDM] - ====== WebDriver manager ======\n"
     ]
    },
    {
     "name": "stdout",
     "output_type": "stream",
     "text": [
      "Termino 35\n",
      "['Perez R. B. (Per)', 'Quiroz J. C. (Per)', 'Villegas H. (Per)', 'Lozano S. (Per)', 'Ortega K. (Per)', 'Menendez A. (Per)', 'Espinoza J. (Per)', 'Vasquez B. (Per)', 0, 0, 0, 0, 0, 0, 'Cartagena J. (Per)', 'Villegas H. (Per)', 'Cori V. (Per)', 'Villanueva A. (Per)', 'Legario F. (Per)', 'Blas W. (Per)', 'Seminario L. (Per)', 'Perez R. B. (Per)', 0, 0, 0, 0, 0, 0, 'Espinoza M. (Per)', 'Ordonez E. (Per)', 'Quiroz J. C. (Per)', 'Alarcon J. (Per)', 'Perez R. B. (Per)', 'Espinoza M. (Per)', 'Ortega K. (Per)', 'Ordonez E. (Per)', 0, 0, 0, 0, 0, 0, 'Garay Evia L. (Per)', 'Lozano S. (Per)', 'Huaman D. (Per)', 'Vasquez B. (Per)', 'Legario F. (Per)', 'Villegas H. (Per)', 'Garay L. (Per)', 'Ureta D. (Per)', 0, 0, 0, 0, 0, 0, 'Alarcon J. (Per)', 'Ciriaco L. (Per)', 'Lozano C. (Arg)', 'Alarcon J. (Per)', 'Perez R. B. (Per)', 'Villegas H. (Per)', 'Seminario L. (Per)', 'Ordonez E. (Per)', 0, 0, 0, 0, 0, 0, 'Ureta D. (Per)', 'Garay L. (Per)', 'Quiroz J. (Per)', 'Estadio Inca Garcilaso de la Vega (Cusco)', 'Estadio Iván Elías Moreno (Lima)', 'Zamora J. (Per)', 'Lopez Ramos P. (Esp)', 0, 0, 0, 0, 0, 0, 0, 'Estadio San Martin de Porres (Lima)', 'Alarcon J. (Per)', 'Perez R. B. (Per)', 'Villanueva A. (Per)', 'Villegas H. (Per)', 'Lopez P. (Per)', 0, 0, 0, 0, 0, 0, 0, 0, 'Alarcon J. (Per)', 'Ortega K. (Per)', 'Ureta D. (Per)', 'Seminario L. (Per)', 'Lozano Segado J. (Esp)', 'Barbagelatta G. (Per)', 'Perez R. B. (Per)', 'Legario F. (Per)', 0, 0, 0, 0, 0, 0, 'Legario F. (Per)', 'Barbagelatta G. (Per)', 'Cartagena J. (Per)', 'Villegas H. (Per)', 'Huaman D. (Per)', 'Seminario L. (Per)', 'Alarcon J. (Per)', 'Espinoza M. (Per)', 0, 0, 0, 0, 0, 0, 'Espinoza J. (Per)', 'Seminario L. (Per)', 'Villegas H. (Per)', 'Ortega K. (Arg)', 'Menendez A. (Per)', 'Ortega K. (Per)', 'Cartagena J. (Per)', 'Garay L. (Per)', 0, 0, 0, 0, 0, 0, 'Alarcon J. (Per)', 'Estadio Miguel Grau (Callao)', 'Villegas H. (Per)', 'Cartagena J. (Per)', 'Perez R. B. (Per)', 'Ortega K. (Per)', 'Ordonez E. (Per)', 'Espinoza M. (Per)', 0, 0, 0, 0, 0, 0, 'Huaman D. (Per)', 'Perez R. B. (Per)', 'Seminario L. (Per)', 'Mendoza J. (Per)', 'Alarcon J. (Per)', 'Ordonez E. (Per)', 'Espinoza J. (Per)', 'Menendez A. (Per)', 0, 0, 0, 0, 0, 0, 'Alarcon J. (Per)', 'Zamora J. (Per)', 'Espinoza J. (Per)', 'Seminario L. (Per)', 'Ordonez E. (Per)', 'Lopez P. (Per)', 'Espinoza M. (Per)', 0, 0, 0, 0, 0, 0, 0, 'Palomino M. (Per)', 'Legario F. (Per)', 'Espinoza J. (Per)', 'Estadio Huancayo (Huancayo)', 'Espinoza M. (Per)', 'Huaman D. (Per)', 'Perez R. B. (Per)', 0, 0, 0, 0, 0, 0, 0, 'Perez R. B. (Per)', 'Lopez R. (Per)', 'Ordonez E. (Per)', 'Espinoza J. (Per)', 'Huaman D. (Per)', 'Legario F. (Per)', 'Barbagelatta G. (Per)', 'Perez R. B. (Per)', 0, 0, 0, 0, 0, 0, 0, 0, 0, 0, 0, 0, 0, 0, 0]\n",
      "\n"
     ]
    },
    {
     "name": "stderr",
     "output_type": "stream",
     "text": [
      "[WDM] - ====== WebDriver manager ======\n",
      "[WDM] - Current google-chrome version is 104.0.5112\n",
      "[WDM] - Get LATEST chromedriver version for 104.0.5112 google-chrome\n",
      "[WDM] - Current google-chrome version is 104.0.5112\n",
      "[WDM] - Get LATEST chromedriver version for 104.0.5112 google-chrome\n",
      "[WDM] - Current google-chrome version is 104.0.5112\n",
      "[WDM] - Get LATEST chromedriver version for 104.0.5112 google-chrome\n",
      "[WDM] - Driver [C:\\Users\\PC-1\\.wdm\\drivers\\chromedriver\\win32\\104.0.5112.79\\chromedriver.exe] found in cache\n",
      "[WDM] - Driver [C:\\Users\\PC-1\\.wdm\\drivers\\chromedriver\\win32\\104.0.5112.79\\chromedriver.exe] found in cache\n",
      "[WDM] - Driver [C:\\Users\\PC-1\\.wdm\\drivers\\chromedriver\\win32\\104.0.5112.79\\chromedriver.exe] found in cache\n",
      "[WDM] - Current google-chrome version is 104.0.5112\n",
      "[WDM] - Get LATEST chromedriver version for 104.0.5112 google-chrome\n",
      "[WDM] - Driver [C:\\Users\\PC-1\\.wdm\\drivers\\chromedriver\\win32\\104.0.5112.79\\chromedriver.exe] found in cache\n"
     ]
    },
    {
     "name": "stdout",
     "output_type": "stream",
     "text": [
      "Termino 133\n",
      "['Perez R. B. (Per)', 'Quiroz J. C. (Per)', 'Villegas H. (Per)', 'Lozano S. (Per)', 'Ortega K. (Per)', 'Menendez A. (Per)', 'Espinoza J. (Per)', 'Vasquez B. (Per)', 'Huamani J. (Per)', 0, 0, 0, 0, 0, 'Cartagena J. (Per)', 'Villegas H. (Per)', 'Cori V. (Per)', 'Villanueva A. (Per)', 'Legario F. (Per)', 'Blas W. (Per)', 'Seminario L. (Per)', 'Perez R. B. (Per)', 0, 0, 0, 0, 0, 0, 'Espinoza M. (Per)', 'Ordonez E. (Per)', 'Quiroz J. C. (Per)', 'Alarcon J. (Per)', 'Perez R. B. (Per)', 'Espinoza M. (Per)', 'Ortega K. (Per)', 'Ordonez E. (Per)', 0, 0, 0, 0, 0, 0, 'Garay Evia L. (Per)', 'Lozano S. (Per)', 'Huaman D. (Per)', 'Vasquez B. (Per)', 'Legario F. (Per)', 'Villegas H. (Per)', 'Garay L. (Per)', 'Ureta D. (Per)', 0, 0, 0, 0, 0, 0, 'Alarcon J. (Per)', 'Ciriaco L. (Per)', 'Lozano C. (Arg)', 'Alarcon J. (Per)', 'Perez R. B. (Per)', 'Villegas H. (Per)', 'Seminario L. (Per)', 'Ordonez E. (Per)', 0, 0, 0, 0, 0, 0, 'Ureta D. (Per)', 'Garay L. (Per)', 'Quiroz J. (Per)', 'Estadio Inca Garcilaso de la Vega (Cusco)', 'Estadio Iván Elías Moreno (Lima)', 'Zamora J. (Per)', 'Lopez Ramos P. (Esp)', 0, 0, 0, 0, 0, 0, 0, 'Estadio San Martin de Porres (Lima)', 'Alarcon J. (Per)', 'Perez R. B. (Per)', 'Villanueva A. (Per)', 'Villegas H. (Per)', 'Lopez P. (Per)', 0, 0, 0, 0, 0, 0, 0, 0, 'Alarcon J. (Per)', 'Ortega K. (Per)', 'Ureta D. (Per)', 'Seminario L. (Per)', 'Lozano Segado J. (Esp)', 'Barbagelatta G. (Per)', 'Perez R. B. (Per)', 'Legario F. (Per)', 0, 0, 0, 0, 0, 0, 'Legario F. (Per)', 'Barbagelatta G. (Per)', 'Cartagena J. (Per)', 'Villegas H. (Per)', 'Huaman D. (Per)', 'Seminario L. (Per)', 'Alarcon J. (Per)', 'Espinoza M. (Per)', 0, 0, 0, 0, 0, 0, 'Espinoza J. (Per)', 'Seminario L. (Per)', 'Villegas H. (Per)', 'Ortega K. (Arg)', 'Menendez A. (Per)', 'Ortega K. (Per)', 'Cartagena J. (Per)', 'Garay L. (Per)', 0, 0, 0, 0, 0, 0, 'Alarcon J. (Per)', 'Estadio Miguel Grau (Callao)', 'Villegas H. (Per)', 'Cartagena J. (Per)', 'Perez R. B. (Per)', 'Ortega K. (Per)', 'Ordonez E. (Per)', 'Espinoza M. (Per)', 0, 0, 0, 0, 0, 0, 'Huaman D. (Per)', 'Perez R. B. (Per)', 'Seminario L. (Per)', 'Mendoza J. (Per)', 'Alarcon J. (Per)', 'Ordonez E. (Per)', 'Espinoza J. (Per)', 'Menendez A. (Per)', 0, 0, 0, 0, 0, 0, 'Alarcon J. (Per)', 'Zamora J. (Per)', 'Espinoza J. (Per)', 'Seminario L. (Per)', 'Ordonez E. (Per)', 'Lopez P. (Per)', 'Espinoza M. (Per)', 0, 0, 0, 0, 0, 0, 0, 'Palomino M. (Per)', 'Legario F. (Per)', 'Espinoza J. (Per)', 'Estadio Huancayo (Huancayo)', 'Espinoza M. (Per)', 'Huaman D. (Per)', 'Perez R. B. (Per)', 0, 0, 0, 0, 0, 0, 0, 'Perez R. B. (Per)', 'Lopez R. (Per)', 'Ordonez E. (Per)', 'Espinoza J. (Per)', 'Huaman D. (Per)', 'Legario F. (Per)', 'Barbagelatta G. (Per)', 'Perez R. B. (Per)', 0, 0, 0, 0, 0, 0, 0, 0, 0, 0, 0, 0, 0, 0, 0]\n",
      "\n"
     ]
    },
    {
     "name": "stderr",
     "output_type": "stream",
     "text": [
      "[WDM] - ====== WebDriver manager ======\n"
     ]
    },
    {
     "name": "stdout",
     "output_type": "stream",
     "text": [
      "Termino 76\n",
      "['Perez R. B. (Per)', 'Quiroz J. C. (Per)', 'Villegas H. (Per)', 'Lozano S. (Per)', 'Ortega K. (Per)', 'Menendez A. (Per)', 'Espinoza J. (Per)', 'Vasquez B. (Per)', 'Huamani J. (Per)', 0, 0, 0, 0, 0, 'Cartagena J. (Per)', 'Villegas H. (Per)', 'Cori V. (Per)', 'Villanueva A. (Per)', 'Legario F. (Per)', 'Blas W. (Per)', 'Seminario L. (Per)', 'Perez R. B. (Per)', 0, 0, 0, 0, 0, 0, 'Espinoza M. (Per)', 'Ordonez E. (Per)', 'Quiroz J. C. (Per)', 'Alarcon J. (Per)', 'Perez R. B. (Per)', 'Espinoza M. (Per)', 'Ortega K. (Per)', 'Ordonez E. (Per)', 0, 0, 0, 0, 0, 0, 'Garay Evia L. (Per)', 'Lozano S. (Per)', 'Huaman D. (Per)', 'Vasquez B. (Per)', 'Legario F. (Per)', 'Villegas H. (Per)', 'Garay L. (Per)', 'Ureta D. (Per)', 0, 0, 0, 0, 0, 0, 'Alarcon J. (Per)', 'Ciriaco L. (Per)', 'Lozano C. (Arg)', 'Alarcon J. (Per)', 'Perez R. B. (Per)', 'Villegas H. (Per)', 'Seminario L. (Per)', 'Ordonez E. (Per)', 0, 0, 0, 0, 0, 0, 'Ureta D. (Per)', 'Garay L. (Per)', 'Quiroz J. (Per)', 'Estadio Inca Garcilaso de la Vega (Cusco)', 'Estadio Iván Elías Moreno (Lima)', 'Zamora J. (Per)', 'Lopez Ramos P. (Esp)', 0, 0, 0, 0, 0, 0, 0, 'Estadio San Martin de Porres (Lima)', 'Alarcon J. (Per)', 'Perez R. B. (Per)', 'Villanueva A. (Per)', 'Villegas H. (Per)', 'Lopez P. (Per)', 0, 0, 0, 0, 0, 0, 0, 0, 'Alarcon J. (Per)', 'Ortega K. (Per)', 'Ureta D. (Per)', 'Seminario L. (Per)', 'Lozano Segado J. (Esp)', 'Barbagelatta G. (Per)', 'Perez R. B. (Per)', 'Legario F. (Per)', 0, 0, 0, 0, 0, 0, 'Legario F. (Per)', 'Barbagelatta G. (Per)', 'Cartagena J. (Per)', 'Villegas H. (Per)', 'Huaman D. (Per)', 'Seminario L. (Per)', 'Alarcon J. (Per)', 'Espinoza M. (Per)', 0, 0, 0, 0, 0, 0, 'Espinoza J. (Per)', 'Seminario L. (Per)', 'Villegas H. (Per)', 'Ortega K. (Arg)', 'Menendez A. (Per)', 'Ortega K. (Per)', 'Cartagena J. (Per)', 'Garay L. (Per)', 0, 0, 0, 0, 0, 0, 'Alarcon J. (Per)', 'Estadio Miguel Grau (Callao)', 'Villegas H. (Per)', 'Cartagena J. (Per)', 'Perez R. B. (Per)', 'Ortega K. (Per)', 'Ordonez E. (Per)', 'Espinoza M. (Per)', 0, 0, 0, 0, 0, 0, 'Huaman D. (Per)', 'Perez R. B. (Per)', 'Seminario L. (Per)', 'Mendoza J. (Per)', 'Alarcon J. (Per)', 'Ordonez E. (Per)', 'Espinoza J. (Per)', 'Menendez A. (Per)', 0, 0, 0, 0, 0, 0, 'Alarcon J. (Per)', 'Zamora J. (Per)', 'Espinoza J. (Per)', 'Seminario L. (Per)', 'Ordonez E. (Per)', 'Lopez P. (Per)', 'Espinoza M. (Per)', 0, 0, 0, 0, 0, 0, 0, 'Palomino M. (Per)', 'Legario F. (Per)', 'Espinoza J. (Per)', 'Estadio Huancayo (Huancayo)', 'Espinoza M. (Per)', 'Huaman D. (Per)', 'Perez R. B. (Per)', 0, 0, 0, 0, 0, 0, 0, 'Perez R. B. (Per)', 'Lopez R. (Per)', 'Ordonez E. (Per)', 'Espinoza J. (Per)', 'Huaman D. (Per)', 'Legario F. (Per)', 'Barbagelatta G. (Per)', 'Perez R. B. (Per)', 0, 0, 0, 0, 0, 0, 0, 0, 0, 0, 0, 0, 0, 0, 0]\n",
      "\n"
     ]
    },
    {
     "name": "stderr",
     "output_type": "stream",
     "text": [
      "[WDM] - ====== WebDriver manager ======\n"
     ]
    },
    {
     "name": "stdout",
     "output_type": "stream",
     "text": [
      "Termino 147\n",
      "['Perez R. B. (Per)', 'Quiroz J. C. (Per)', 'Villegas H. (Per)', 'Lozano S. (Per)', 'Ortega K. (Per)', 'Menendez A. (Per)', 'Espinoza J. (Per)', 'Vasquez B. (Per)', 'Huamani J. (Per)', 0, 0, 0, 0, 0, 'Cartagena J. (Per)', 'Villegas H. (Per)', 'Cori V. (Per)', 'Villanueva A. (Per)', 'Legario F. (Per)', 'Blas W. (Per)', 'Seminario L. (Per)', 'Perez R. B. (Per)', 0, 0, 0, 0, 0, 0, 'Espinoza M. (Per)', 'Ordonez E. (Per)', 'Quiroz J. C. (Per)', 'Alarcon J. (Per)', 'Perez R. B. (Per)', 'Espinoza M. (Per)', 'Ortega K. (Per)', 'Ordonez E. (Per)', 0, 0, 0, 0, 0, 0, 'Garay Evia L. (Per)', 'Lozano S. (Per)', 'Huaman D. (Per)', 'Vasquez B. (Per)', 'Legario F. (Per)', 'Villegas H. (Per)', 'Garay L. (Per)', 'Ureta D. (Per)', 0, 0, 0, 0, 0, 0, 'Alarcon J. (Per)', 'Ciriaco L. (Per)', 'Lozano C. (Arg)', 'Alarcon J. (Per)', 'Perez R. B. (Per)', 'Villegas H. (Per)', 'Seminario L. (Per)', 'Ordonez E. (Per)', 0, 0, 0, 0, 0, 0, 'Ureta D. (Per)', 'Garay L. (Per)', 'Quiroz J. (Per)', 'Estadio Inca Garcilaso de la Vega (Cusco)', 'Estadio Iván Elías Moreno (Lima)', 'Zamora J. (Per)', 'Lopez Ramos P. (Esp)', 0, 0, 0, 0, 0, 0, 0, 'Estadio San Martin de Porres (Lima)', 'Alarcon J. (Per)', 'Perez R. B. (Per)', 'Villanueva A. (Per)', 'Villegas H. (Per)', 'Lopez P. (Per)', 0, 0, 0, 0, 0, 0, 0, 0, 'Alarcon J. (Per)', 'Ortega K. (Per)', 'Ureta D. (Per)', 'Seminario L. (Per)', 'Lozano Segado J. (Esp)', 'Barbagelatta G. (Per)', 'Perez R. B. (Per)', 'Legario F. (Per)', 0, 0, 0, 0, 0, 0, 'Legario F. (Per)', 'Barbagelatta G. (Per)', 'Cartagena J. (Per)', 'Villegas H. (Per)', 'Huaman D. (Per)', 'Seminario L. (Per)', 'Alarcon J. (Per)', 'Espinoza M. (Per)', 0, 0, 0, 0, 0, 0, 'Espinoza J. (Per)', 'Seminario L. (Per)', 'Villegas H. (Per)', 'Ortega K. (Arg)', 'Menendez A. (Per)', 'Ortega K. (Per)', 'Cartagena J. (Per)', 'Garay L. (Per)', 0, 0, 0, 0, 0, 0, 'Alarcon J. (Per)', 'Estadio Miguel Grau (Callao)', 'Villegas H. (Per)', 'Cartagena J. (Per)', 'Perez R. B. (Per)', 'Ortega K. (Per)', 'Ordonez E. (Per)', 'Espinoza M. (Per)', 0, 0, 0, 0, 0, 0, 'Huaman D. (Per)', 'Perez R. B. (Per)', 'Seminario L. (Per)', 'Mendoza J. (Per)', 'Alarcon J. (Per)', 'Ordonez E. (Per)', 'Espinoza J. (Per)', 'Menendez A. (Per)', 0, 0, 0, 0, 0, 0, 'Alarcon J. (Per)', 'Zamora J. (Per)', 'Espinoza J. (Per)', 'Seminario L. (Per)', 'Ordonez E. (Per)', 'Lopez P. (Per)', 'Espinoza M. (Per)', 0, 0, 0, 0, 0, 0, 0, 'Palomino M. (Per)', 'Legario F. (Per)', 'Espinoza J. (Per)', 'Estadio Huancayo (Huancayo)', 'Espinoza M. (Per)', 'Huaman D. (Per)', 'Perez R. B. (Per)', 0, 0, 0, 0, 0, 0, 0, 'Perez R. B. (Per)', 'Lopez R. (Per)', 'Ordonez E. (Per)', 'Espinoza J. (Per)', 'Huaman D. (Per)', 'Legario F. (Per)', 'Barbagelatta G. (Per)', 'Perez R. B. (Per)', 0, 0, 0, 0, 0, 0, 0, 0, 0, 0, 0, 0, 0, 0, 0]\n",
      "\n"
     ]
    },
    {
     "name": "stderr",
     "output_type": "stream",
     "text": [
      "[WDM] - ====== WebDriver manager ======\n",
      "[WDM] - Current google-chrome version is 104.0.5112\n",
      "[WDM] - Get LATEST chromedriver version for 104.0.5112 google-chrome\n",
      "[WDM] - Current google-chrome version is 104.0.5112\n",
      "[WDM] - Get LATEST chromedriver version for 104.0.5112 google-chrome\n"
     ]
    },
    {
     "name": "stdout",
     "output_type": "stream",
     "text": [
      "Termino 174\n",
      "['Perez R. B. (Per)', 'Quiroz J. C. (Per)', 'Villegas H. (Per)', 'Lozano S. (Per)', 'Ortega K. (Per)', 'Menendez A. (Per)', 'Espinoza J. (Per)', 'Vasquez B. (Per)', 'Huamani J. (Per)', 0, 0, 0, 0, 0, 'Cartagena J. (Per)', 'Villegas H. (Per)', 'Cori V. (Per)', 'Villanueva A. (Per)', 'Legario F. (Per)', 'Blas W. (Per)', 'Seminario L. (Per)', 'Perez R. B. (Per)', 0, 0, 0, 0, 0, 0, 'Espinoza M. (Per)', 'Ordonez E. (Per)', 'Quiroz J. C. (Per)', 'Alarcon J. (Per)', 'Perez R. B. (Per)', 'Espinoza M. (Per)', 'Ortega K. (Per)', 'Ordonez E. (Per)', 0, 0, 0, 0, 0, 0, 'Garay Evia L. (Per)', 'Lozano S. (Per)', 'Huaman D. (Per)', 'Vasquez B. (Per)', 'Legario F. (Per)', 'Villegas H. (Per)', 'Garay L. (Per)', 'Ureta D. (Per)', 0, 0, 0, 0, 0, 0, 'Alarcon J. (Per)', 'Ciriaco L. (Per)', 'Lozano C. (Arg)', 'Alarcon J. (Per)', 'Perez R. B. (Per)', 'Villegas H. (Per)', 'Seminario L. (Per)', 'Ordonez E. (Per)', 0, 0, 0, 0, 0, 0, 'Ureta D. (Per)', 'Garay L. (Per)', 'Quiroz J. (Per)', 'Estadio Inca Garcilaso de la Vega (Cusco)', 'Estadio Iván Elías Moreno (Lima)', 'Zamora J. (Per)', 'Lopez Ramos P. (Esp)', 0, 0, 0, 0, 0, 0, 0, 'Estadio San Martin de Porres (Lima)', 'Alarcon J. (Per)', 'Perez R. B. (Per)', 'Villanueva A. (Per)', 'Villegas H. (Per)', 'Lopez P. (Per)', 0, 0, 0, 0, 0, 0, 0, 0, 'Alarcon J. (Per)', 'Ortega K. (Per)', 'Ureta D. (Per)', 'Seminario L. (Per)', 'Lozano Segado J. (Esp)', 'Barbagelatta G. (Per)', 'Perez R. B. (Per)', 'Legario F. (Per)', 0, 0, 0, 0, 0, 0, 'Legario F. (Per)', 'Barbagelatta G. (Per)', 'Cartagena J. (Per)', 'Villegas H. (Per)', 'Huaman D. (Per)', 'Seminario L. (Per)', 'Alarcon J. (Per)', 'Espinoza M. (Per)', 0, 0, 0, 0, 0, 0, 'Espinoza J. (Per)', 'Seminario L. (Per)', 'Villegas H. (Per)', 'Ortega K. (Arg)', 'Menendez A. (Per)', 'Ortega K. (Per)', 'Cartagena J. (Per)', 'Garay L. (Per)', 0, 0, 0, 0, 0, 0, 'Alarcon J. (Per)', 'Estadio Miguel Grau (Callao)', 'Villegas H. (Per)', 'Cartagena J. (Per)', 'Perez R. B. (Per)', 'Ortega K. (Per)', 'Ordonez E. (Per)', 'Espinoza M. (Per)', 0, 0, 0, 0, 0, 0, 'Huaman D. (Per)', 'Perez R. B. (Per)', 'Seminario L. (Per)', 'Mendoza J. (Per)', 'Alarcon J. (Per)', 'Ordonez E. (Per)', 'Espinoza J. (Per)', 'Menendez A. (Per)', 0, 0, 0, 0, 0, 0, 'Alarcon J. (Per)', 'Zamora J. (Per)', 'Espinoza J. (Per)', 'Seminario L. (Per)', 'Ordonez E. (Per)', 'Lopez P. (Per)', 'Espinoza M. (Per)', 0, 0, 0, 0, 0, 0, 0, 'Palomino M. (Per)', 'Legario F. (Per)', 'Espinoza J. (Per)', 'Estadio Huancayo (Huancayo)', 'Espinoza M. (Per)', 'Huaman D. (Per)', 'Perez R. B. (Per)', 0, 0, 0, 0, 0, 0, 0, 'Perez R. B. (Per)', 'Lopez R. (Per)', 'Ordonez E. (Per)', 'Espinoza J. (Per)', 'Huaman D. (Per)', 'Legario F. (Per)', 'Barbagelatta G. (Per)', 'Perez R. B. (Per)', 0, 0, 0, 0, 0, 0, 0, 0, 0, 0, 0, 0, 0, 0, 0]\n",
      "\n"
     ]
    },
    {
     "name": "stderr",
     "output_type": "stream",
     "text": [
      "[WDM] - ====== WebDriver manager ======\n",
      "[WDM] - Driver [C:\\Users\\PC-1\\.wdm\\drivers\\chromedriver\\win32\\104.0.5112.79\\chromedriver.exe] found in cache\n",
      "[WDM] - Current google-chrome version is 104.0.5112\n",
      "[WDM] - Get LATEST chromedriver version for 104.0.5112 google-chrome\n",
      "[WDM] - Driver [C:\\Users\\PC-1\\.wdm\\drivers\\chromedriver\\win32\\104.0.5112.79\\chromedriver.exe] found in cache\n",
      "[WDM] - Driver [C:\\Users\\PC-1\\.wdm\\drivers\\chromedriver\\win32\\104.0.5112.79\\chromedriver.exe] found in cache\n",
      "[WDM] - Current google-chrome version is 104.0.5112\n",
      "[WDM] - Get LATEST chromedriver version for 104.0.5112 google-chrome\n",
      "[WDM] - Driver [C:\\Users\\PC-1\\.wdm\\drivers\\chromedriver\\win32\\104.0.5112.79\\chromedriver.exe] found in cache\n"
     ]
    },
    {
     "name": "stdout",
     "output_type": "stream",
     "text": [
      "Termino 8\n",
      "['Perez R. B. (Per)', 'Quiroz J. C. (Per)', 'Villegas H. (Per)', 'Lozano S. (Per)', 'Ortega K. (Per)', 'Menendez A. (Per)', 'Espinoza J. (Per)', 'Vasquez B. (Per)', 'Huamani J. (Per)', 0, 0, 0, 0, 0, 'Cartagena J. (Per)', 'Villegas H. (Per)', 'Cori V. (Per)', 'Villanueva A. (Per)', 'Legario F. (Per)', 'Blas W. (Per)', 'Seminario L. (Per)', 'Perez R. B. (Per)', 0, 0, 0, 0, 0, 0, 'Espinoza M. (Per)', 'Ordonez E. (Per)', 'Quiroz J. C. (Per)', 'Alarcon J. (Per)', 'Perez R. B. (Per)', 'Espinoza M. (Per)', 'Ortega K. (Per)', 'Ordonez E. (Per)', 0, 0, 0, 0, 0, 0, 'Garay Evia L. (Per)', 'Lozano S. (Per)', 'Huaman D. (Per)', 'Vasquez B. (Per)', 'Legario F. (Per)', 'Villegas H. (Per)', 'Garay L. (Per)', 'Ureta D. (Per)', 0, 0, 0, 0, 0, 0, 'Alarcon J. (Per)', 'Ciriaco L. (Per)', 'Lozano C. (Arg)', 'Alarcon J. (Per)', 'Perez R. B. (Per)', 'Villegas H. (Per)', 'Seminario L. (Per)', 'Ordonez E. (Per)', 0, 0, 0, 0, 0, 0, 'Ureta D. (Per)', 'Garay L. (Per)', 'Quiroz J. (Per)', 'Estadio Inca Garcilaso de la Vega (Cusco)', 'Estadio Iván Elías Moreno (Lima)', 'Zamora J. (Per)', 'Lopez Ramos P. (Esp)', 0, 0, 0, 0, 0, 0, 0, 'Estadio San Martin de Porres (Lima)', 'Alarcon J. (Per)', 'Perez R. B. (Per)', 'Villanueva A. (Per)', 'Villegas H. (Per)', 'Lopez P. (Per)', 0, 0, 0, 0, 0, 0, 0, 0, 'Alarcon J. (Per)', 'Ortega K. (Per)', 'Ureta D. (Per)', 'Seminario L. (Per)', 'Lozano Segado J. (Esp)', 'Barbagelatta G. (Per)', 'Perez R. B. (Per)', 'Legario F. (Per)', 0, 0, 0, 0, 0, 0, 'Legario F. (Per)', 'Barbagelatta G. (Per)', 'Cartagena J. (Per)', 'Villegas H. (Per)', 'Huaman D. (Per)', 'Seminario L. (Per)', 'Alarcon J. (Per)', 'Espinoza M. (Per)', 0, 0, 0, 0, 0, 0, 'Espinoza J. (Per)', 'Seminario L. (Per)', 'Villegas H. (Per)', 'Ortega K. (Arg)', 'Menendez A. (Per)', 'Ortega K. (Per)', 'Cartagena J. (Per)', 'Garay L. (Per)', 0, 0, 0, 0, 0, 0, 'Alarcon J. (Per)', 'Estadio Miguel Grau (Callao)', 'Villegas H. (Per)', 'Cartagena J. (Per)', 'Perez R. B. (Per)', 'Ortega K. (Per)', 'Ordonez E. (Per)', 'Espinoza M. (Per)', 0, 0, 0, 0, 0, 0, 'Huaman D. (Per)', 'Perez R. B. (Per)', 'Seminario L. (Per)', 'Mendoza J. (Per)', 'Alarcon J. (Per)', 'Ordonez E. (Per)', 'Espinoza J. (Per)', 'Menendez A. (Per)', 0, 0, 0, 0, 0, 0, 'Alarcon J. (Per)', 'Zamora J. (Per)', 'Espinoza J. (Per)', 'Seminario L. (Per)', 'Ordonez E. (Per)', 'Lopez P. (Per)', 'Espinoza M. (Per)', 0, 0, 0, 0, 0, 0, 0, 'Palomino M. (Per)', 'Legario F. (Per)', 'Espinoza J. (Per)', 'Estadio Huancayo (Huancayo)', 'Espinoza M. (Per)', 'Huaman D. (Per)', 'Perez R. B. (Per)', 0, 0, 0, 0, 0, 0, 0, 'Perez R. B. (Per)', 'Lopez R. (Per)', 'Ordonez E. (Per)', 'Espinoza J. (Per)', 'Huaman D. (Per)', 'Legario F. (Per)', 'Barbagelatta G. (Per)', 'Perez R. B. (Per)', 0, 0, 0, 0, 0, 0, 0, 0, 0, 0, 0, 0, 0, 0, 0]\n",
      "\n"
     ]
    },
    {
     "name": "stderr",
     "output_type": "stream",
     "text": [
      "[WDM] - ====== WebDriver manager ======\n"
     ]
    },
    {
     "name": "stdout",
     "output_type": "stream",
     "text": [
      "Termino 119\n",
      "['Perez R. B. (Per)', 'Quiroz J. C. (Per)', 'Villegas H. (Per)', 'Lozano S. (Per)', 'Ortega K. (Per)', 'Menendez A. (Per)', 'Espinoza J. (Per)', 'Vasquez B. (Per)', 'Huamani J. (Per)', 0, 0, 0, 0, 0, 'Cartagena J. (Per)', 'Villegas H. (Per)', 'Cori V. (Per)', 'Villanueva A. (Per)', 'Legario F. (Per)', 'Blas W. (Per)', 'Seminario L. (Per)', 'Perez R. B. (Per)', 0, 0, 0, 0, 0, 0, 'Espinoza M. (Per)', 'Ordonez E. (Per)', 'Quiroz J. C. (Per)', 'Alarcon J. (Per)', 'Perez R. B. (Per)', 'Espinoza M. (Per)', 'Ortega K. (Per)', 'Ordonez E. (Per)', 0, 0, 0, 0, 0, 0, 'Garay Evia L. (Per)', 'Lozano S. (Per)', 'Huaman D. (Per)', 'Vasquez B. (Per)', 'Legario F. (Per)', 'Villegas H. (Per)', 'Garay L. (Per)', 'Ureta D. (Per)', 0, 0, 0, 0, 0, 0, 'Alarcon J. (Per)', 'Ciriaco L. (Per)', 'Lozano C. (Arg)', 'Alarcon J. (Per)', 'Perez R. B. (Per)', 'Villegas H. (Per)', 'Seminario L. (Per)', 'Ordonez E. (Per)', 0, 0, 0, 0, 0, 0, 'Ureta D. (Per)', 'Garay L. (Per)', 'Quiroz J. (Per)', 'Estadio Inca Garcilaso de la Vega (Cusco)', 'Estadio Iván Elías Moreno (Lima)', 'Zamora J. (Per)', 'Lopez Ramos P. (Esp)', 0, 0, 0, 0, 0, 0, 0, 'Estadio San Martin de Porres (Lima)', 'Alarcon J. (Per)', 'Perez R. B. (Per)', 'Villanueva A. (Per)', 'Villegas H. (Per)', 'Lopez P. (Per)', 0, 0, 0, 0, 0, 0, 0, 0, 'Alarcon J. (Per)', 'Ortega K. (Per)', 'Ureta D. (Per)', 'Seminario L. (Per)', 'Lozano Segado J. (Esp)', 'Barbagelatta G. (Per)', 'Perez R. B. (Per)', 'Legario F. (Per)', 0, 0, 0, 0, 0, 0, 'Legario F. (Per)', 'Barbagelatta G. (Per)', 'Cartagena J. (Per)', 'Villegas H. (Per)', 'Huaman D. (Per)', 'Seminario L. (Per)', 'Alarcon J. (Per)', 'Espinoza M. (Per)', 0, 0, 0, 0, 0, 0, 'Espinoza J. (Per)', 'Seminario L. (Per)', 'Villegas H. (Per)', 'Ortega K. (Arg)', 'Menendez A. (Per)', 'Ortega K. (Per)', 'Cartagena J. (Per)', 'Garay L. (Per)', 0, 0, 0, 0, 0, 0, 'Alarcon J. (Per)', 'Estadio Miguel Grau (Callao)', 'Villegas H. (Per)', 'Cartagena J. (Per)', 'Perez R. B. (Per)', 'Ortega K. (Per)', 'Ordonez E. (Per)', 'Espinoza M. (Per)', 0, 0, 0, 0, 0, 0, 'Huaman D. (Per)', 'Perez R. B. (Per)', 'Seminario L. (Per)', 'Mendoza J. (Per)', 'Alarcon J. (Per)', 'Ordonez E. (Per)', 'Espinoza J. (Per)', 'Menendez A. (Per)', 0, 0, 0, 0, 0, 0, 'Alarcon J. (Per)', 'Zamora J. (Per)', 'Espinoza J. (Per)', 'Seminario L. (Per)', 'Ordonez E. (Per)', 'Lopez P. (Per)', 'Espinoza M. (Per)', 0, 0, 0, 0, 0, 0, 0, 'Palomino M. (Per)', 'Legario F. (Per)', 'Espinoza J. (Per)', 'Estadio Huancayo (Huancayo)', 'Espinoza M. (Per)', 'Huaman D. (Per)', 'Perez R. B. (Per)', 0, 0, 0, 0, 0, 0, 0, 'Perez R. B. (Per)', 'Lopez R. (Per)', 'Ordonez E. (Per)', 'Espinoza J. (Per)', 'Huaman D. (Per)', 'Legario F. (Per)', 'Barbagelatta G. (Per)', 'Perez R. B. (Per)', 0, 0, 0, 0, 0, 0, 0, 0, 0, 0, 0, 0, 0, 0, 0]\n",
      "\n"
     ]
    },
    {
     "name": "stderr",
     "output_type": "stream",
     "text": [
      "[WDM] - ====== WebDriver manager ======\n",
      "[WDM] - Current google-chrome version is 104.0.5112\n",
      "[WDM] - Get LATEST chromedriver version for 104.0.5112 google-chrome\n",
      "[WDM] - Current google-chrome version is 104.0.5112\n",
      "[WDM] - Get LATEST chromedriver version for 104.0.5112 google-chrome\n",
      "[WDM] - Driver [C:\\Users\\PC-1\\.wdm\\drivers\\chromedriver\\win32\\104.0.5112.79\\chromedriver.exe] found in cache\n",
      "[WDM] - Driver [C:\\Users\\PC-1\\.wdm\\drivers\\chromedriver\\win32\\104.0.5112.79\\chromedriver.exe] found in cache\n"
     ]
    },
    {
     "name": "stdout",
     "output_type": "stream",
     "text": [
      "Termino 189\n",
      "['Perez R. B. (Per)', 'Quiroz J. C. (Per)', 'Villegas H. (Per)', 'Lozano S. (Per)', 'Ortega K. (Per)', 'Menendez A. (Per)', 'Espinoza J. (Per)', 'Vasquez B. (Per)', 'Huamani J. (Per)', 0, 0, 0, 0, 0, 'Cartagena J. (Per)', 'Villegas H. (Per)', 'Cori V. (Per)', 'Villanueva A. (Per)', 'Legario F. (Per)', 'Blas W. (Per)', 'Seminario L. (Per)', 'Perez R. B. (Per)', 'Ureta D. (Per)', 0, 0, 0, 0, 0, 'Espinoza M. (Per)', 'Ordonez E. (Per)', 'Quiroz J. C. (Per)', 'Alarcon J. (Per)', 'Perez R. B. (Per)', 'Espinoza M. (Per)', 'Ortega K. (Per)', 'Ordonez E. (Per)', 0, 0, 0, 0, 0, 0, 'Garay Evia L. (Per)', 'Lozano S. (Per)', 'Huaman D. (Per)', 'Vasquez B. (Per)', 'Legario F. (Per)', 'Villegas H. (Per)', 'Garay L. (Per)', 'Ureta D. (Per)', 0, 0, 0, 0, 0, 0, 'Alarcon J. (Per)', 'Ciriaco L. (Per)', 'Lozano C. (Arg)', 'Alarcon J. (Per)', 'Perez R. B. (Per)', 'Villegas H. (Per)', 'Seminario L. (Per)', 'Ordonez E. (Per)', 0, 0, 0, 0, 0, 0, 'Ureta D. (Per)', 'Garay L. (Per)', 'Quiroz J. (Per)', 'Estadio Inca Garcilaso de la Vega (Cusco)', 'Estadio Iván Elías Moreno (Lima)', 'Zamora J. (Per)', 'Lopez Ramos P. (Esp)', 0, 0, 0, 0, 0, 0, 0, 'Estadio San Martin de Porres (Lima)', 'Alarcon J. (Per)', 'Perez R. B. (Per)', 'Villanueva A. (Per)', 'Villegas H. (Per)', 'Lopez P. (Per)', 0, 0, 0, 0, 0, 0, 0, 0, 'Alarcon J. (Per)', 'Ortega K. (Per)', 'Ureta D. (Per)', 'Seminario L. (Per)', 'Lozano Segado J. (Esp)', 'Barbagelatta G. (Per)', 'Perez R. B. (Per)', 'Legario F. (Per)', 0, 0, 0, 0, 0, 0, 'Legario F. (Per)', 'Barbagelatta G. (Per)', 'Cartagena J. (Per)', 'Villegas H. (Per)', 'Huaman D. (Per)', 'Seminario L. (Per)', 'Alarcon J. (Per)', 'Espinoza M. (Per)', 0, 0, 0, 0, 0, 0, 'Espinoza J. (Per)', 'Seminario L. (Per)', 'Villegas H. (Per)', 'Ortega K. (Arg)', 'Menendez A. (Per)', 'Ortega K. (Per)', 'Cartagena J. (Per)', 'Garay L. (Per)', 0, 0, 0, 0, 0, 0, 'Alarcon J. (Per)', 'Estadio Miguel Grau (Callao)', 'Villegas H. (Per)', 'Cartagena J. (Per)', 'Perez R. B. (Per)', 'Ortega K. (Per)', 'Ordonez E. (Per)', 'Espinoza M. (Per)', 0, 0, 0, 0, 0, 0, 'Huaman D. (Per)', 'Perez R. B. (Per)', 'Seminario L. (Per)', 'Mendoza J. (Per)', 'Alarcon J. (Per)', 'Ordonez E. (Per)', 'Espinoza J. (Per)', 'Menendez A. (Per)', 0, 0, 0, 0, 0, 0, 'Alarcon J. (Per)', 'Zamora J. (Per)', 'Espinoza J. (Per)', 'Seminario L. (Per)', 'Ordonez E. (Per)', 'Lopez P. (Per)', 'Espinoza M. (Per)', 0, 0, 0, 0, 0, 0, 0, 'Palomino M. (Per)', 'Legario F. (Per)', 'Espinoza J. (Per)', 'Estadio Huancayo (Huancayo)', 'Espinoza M. (Per)', 'Huaman D. (Per)', 'Perez R. B. (Per)', 'Legario F. (Per)', 0, 0, 0, 0, 0, 0, 'Perez R. B. (Per)', 'Lopez R. (Per)', 'Ordonez E. (Per)', 'Espinoza J. (Per)', 'Huaman D. (Per)', 'Legario F. (Per)', 'Barbagelatta G. (Per)', 'Perez R. B. (Per)', 0, 0, 0, 0, 0, 0, 0, 0, 0, 0, 0, 0, 0, 0, 0]\n",
      "\n"
     ]
    },
    {
     "name": "stderr",
     "output_type": "stream",
     "text": [
      "[WDM] - ====== WebDriver manager ======\n",
      "[WDM] - Current google-chrome version is 104.0.5112\n",
      "[WDM] - Get LATEST chromedriver version for 104.0.5112 google-chrome\n",
      "[WDM] - Driver [C:\\Users\\PC-1\\.wdm\\drivers\\chromedriver\\win32\\104.0.5112.79\\chromedriver.exe] found in cache\n"
     ]
    },
    {
     "name": "stdout",
     "output_type": "stream",
     "text": [
      "Termino 22\n",
      "['Perez R. B. (Per)', 'Quiroz J. C. (Per)', 'Villegas H. (Per)', 'Lozano S. (Per)', 'Ortega K. (Per)', 'Menendez A. (Per)', 'Espinoza J. (Per)', 'Vasquez B. (Per)', 'Huamani J. (Per)', 0, 0, 0, 0, 0, 'Cartagena J. (Per)', 'Villegas H. (Per)', 'Cori V. (Per)', 'Villanueva A. (Per)', 'Legario F. (Per)', 'Blas W. (Per)', 'Seminario L. (Per)', 'Perez R. B. (Per)', 'Ureta D. (Per)', 0, 0, 0, 0, 0, 'Espinoza M. (Per)', 'Ordonez E. (Per)', 'Quiroz J. C. (Per)', 'Alarcon J. (Per)', 'Perez R. B. (Per)', 'Espinoza M. (Per)', 'Ortega K. (Per)', 'Ordonez E. (Per)', 0, 0, 0, 0, 0, 0, 'Garay Evia L. (Per)', 'Lozano S. (Per)', 'Huaman D. (Per)', 'Vasquez B. (Per)', 'Legario F. (Per)', 'Villegas H. (Per)', 'Garay L. (Per)', 'Ureta D. (Per)', 'Espinoza M. (Per)', 0, 0, 0, 0, 0, 'Alarcon J. (Per)', 'Ciriaco L. (Per)', 'Lozano C. (Arg)', 'Alarcon J. (Per)', 'Perez R. B. (Per)', 'Villegas H. (Per)', 'Seminario L. (Per)', 'Ordonez E. (Per)', 'Cartagena J. (Per)', 0, 0, 0, 0, 0, 'Ureta D. (Per)', 'Garay L. (Per)', 'Quiroz J. (Per)', 'Estadio Inca Garcilaso de la Vega (Cusco)', 'Estadio Iván Elías Moreno (Lima)', 'Zamora J. (Per)', 'Lopez Ramos P. (Esp)', 0, 0, 0, 0, 0, 0, 0, 'Estadio San Martin de Porres (Lima)', 'Alarcon J. (Per)', 'Perez R. B. (Per)', 'Villanueva A. (Per)', 'Villegas H. (Per)', 'Lopez P. (Per)', 0, 0, 0, 0, 0, 0, 0, 0, 'Alarcon J. (Per)', 'Ortega K. (Per)', 'Ureta D. (Per)', 'Seminario L. (Per)', 'Lozano Segado J. (Esp)', 'Barbagelatta G. (Per)', 'Perez R. B. (Per)', 'Legario F. (Per)', 'Ortega K. (Per)', 0, 0, 0, 0, 0, 'Legario F. (Per)', 'Barbagelatta G. (Per)', 'Cartagena J. (Per)', 'Villegas H. (Per)', 'Huaman D. (Per)', 'Seminario L. (Per)', 'Alarcon J. (Per)', 'Espinoza M. (Per)', 0, 0, 0, 0, 0, 0, 'Espinoza J. (Per)', 'Seminario L. (Per)', 'Villegas H. (Per)', 'Ortega K. (Arg)', 'Menendez A. (Per)', 'Ortega K. (Per)', 'Cartagena J. (Per)', 'Garay L. (Per)', 0, 0, 0, 0, 0, 0, 'Alarcon J. (Per)', 'Estadio Miguel Grau (Callao)', 'Villegas H. (Per)', 'Cartagena J. (Per)', 'Perez R. B. (Per)', 'Ortega K. (Per)', 'Ordonez E. (Per)', 'Espinoza M. (Per)', 0, 0, 0, 0, 0, 0, 'Huaman D. (Per)', 'Perez R. B. (Per)', 'Seminario L. (Per)', 'Mendoza J. (Per)', 'Alarcon J. (Per)', 'Ordonez E. (Per)', 'Espinoza J. (Per)', 'Menendez A. (Per)', 0, 0, 0, 0, 0, 0, 'Alarcon J. (Per)', 'Zamora J. (Per)', 'Espinoza J. (Per)', 'Seminario L. (Per)', 'Ordonez E. (Per)', 'Lopez P. (Per)', 'Espinoza M. (Per)', 0, 0, 0, 0, 0, 0, 0, 'Palomino M. (Per)', 'Legario F. (Per)', 'Espinoza J. (Per)', 'Estadio Huancayo (Huancayo)', 'Espinoza M. (Per)', 'Huaman D. (Per)', 'Perez R. B. (Per)', 'Legario F. (Per)', 0, 0, 0, 0, 0, 0, 'Perez R. B. (Per)', 'Lopez R. (Per)', 'Ordonez E. (Per)', 'Espinoza J. (Per)', 'Huaman D. (Per)', 'Legario F. (Per)', 'Barbagelatta G. (Per)', 'Perez R. B. (Per)', 0, 0, 0, 0, 0, 0, 0, 0, 0, 0, 0, 0, 0, 0, 0]\n",
      "\n"
     ]
    },
    {
     "name": "stderr",
     "output_type": "stream",
     "text": [
      "[WDM] - ====== WebDriver manager ======\n"
     ]
    },
    {
     "name": "stdout",
     "output_type": "stream",
     "text": [
      "Termino 64\n",
      "['Perez R. B. (Per)', 'Quiroz J. C. (Per)', 'Villegas H. (Per)', 'Lozano S. (Per)', 'Ortega K. (Per)', 'Menendez A. (Per)', 'Espinoza J. (Per)', 'Vasquez B. (Per)', 'Huamani J. (Per)', 0, 0, 0, 0, 0, 'Cartagena J. (Per)', 'Villegas H. (Per)', 'Cori V. (Per)', 'Villanueva A. (Per)', 'Legario F. (Per)', 'Blas W. (Per)', 'Seminario L. (Per)', 'Perez R. B. (Per)', 'Ureta D. (Per)', 0, 0, 0, 0, 0, 'Espinoza M. (Per)', 'Ordonez E. (Per)', 'Quiroz J. C. (Per)', 'Alarcon J. (Per)', 'Perez R. B. (Per)', 'Espinoza M. (Per)', 'Ortega K. (Per)', 'Ordonez E. (Per)', 0, 0, 0, 0, 0, 0, 'Garay Evia L. (Per)', 'Lozano S. (Per)', 'Huaman D. (Per)', 'Vasquez B. (Per)', 'Legario F. (Per)', 'Villegas H. (Per)', 'Garay L. (Per)', 'Ureta D. (Per)', 'Espinoza M. (Per)', 0, 0, 0, 0, 0, 'Alarcon J. (Per)', 'Ciriaco L. (Per)', 'Lozano C. (Arg)', 'Alarcon J. (Per)', 'Perez R. B. (Per)', 'Villegas H. (Per)', 'Seminario L. (Per)', 'Ordonez E. (Per)', 'Cartagena J. (Per)', 0, 0, 0, 0, 0, 'Ureta D. (Per)', 'Garay L. (Per)', 'Quiroz J. (Per)', 'Estadio Inca Garcilaso de la Vega (Cusco)', 'Estadio Iván Elías Moreno (Lima)', 'Zamora J. (Per)', 'Lopez Ramos P. (Esp)', 0, 0, 0, 0, 0, 0, 0, 'Estadio San Martin de Porres (Lima)', 'Alarcon J. (Per)', 'Perez R. B. (Per)', 'Villanueva A. (Per)', 'Villegas H. (Per)', 'Lopez P. (Per)', 0, 0, 0, 0, 0, 0, 0, 0, 'Alarcon J. (Per)', 'Ortega K. (Per)', 'Ureta D. (Per)', 'Seminario L. (Per)', 'Lozano Segado J. (Esp)', 'Barbagelatta G. (Per)', 'Perez R. B. (Per)', 'Legario F. (Per)', 'Ortega K. (Per)', 0, 0, 0, 0, 0, 'Legario F. (Per)', 'Barbagelatta G. (Per)', 'Cartagena J. (Per)', 'Villegas H. (Per)', 'Huaman D. (Per)', 'Seminario L. (Per)', 'Alarcon J. (Per)', 'Espinoza M. (Per)', 0, 0, 0, 0, 0, 0, 'Espinoza J. (Per)', 'Seminario L. (Per)', 'Villegas H. (Per)', 'Ortega K. (Arg)', 'Menendez A. (Per)', 'Ortega K. (Per)', 'Cartagena J. (Per)', 'Garay L. (Per)', 0, 0, 0, 0, 0, 0, 'Alarcon J. (Per)', 'Estadio Miguel Grau (Callao)', 'Villegas H. (Per)', 'Cartagena J. (Per)', 'Perez R. B. (Per)', 'Ortega K. (Per)', 'Ordonez E. (Per)', 'Espinoza M. (Per)', 0, 0, 0, 0, 0, 0, 'Huaman D. (Per)', 'Perez R. B. (Per)', 'Seminario L. (Per)', 'Mendoza J. (Per)', 'Alarcon J. (Per)', 'Ordonez E. (Per)', 'Espinoza J. (Per)', 'Menendez A. (Per)', 0, 0, 0, 0, 0, 0, 'Alarcon J. (Per)', 'Zamora J. (Per)', 'Espinoza J. (Per)', 'Seminario L. (Per)', 'Ordonez E. (Per)', 'Lopez P. (Per)', 'Espinoza M. (Per)', 0, 0, 0, 0, 0, 0, 0, 'Palomino M. (Per)', 'Legario F. (Per)', 'Espinoza J. (Per)', 'Estadio Huancayo (Huancayo)', 'Espinoza M. (Per)', 'Huaman D. (Per)', 'Perez R. B. (Per)', 'Legario F. (Per)', 0, 0, 0, 0, 0, 0, 'Perez R. B. (Per)', 'Lopez R. (Per)', 'Ordonez E. (Per)', 'Espinoza J. (Per)', 'Huaman D. (Per)', 'Legario F. (Per)', 'Barbagelatta G. (Per)', 'Perez R. B. (Per)', 0, 0, 0, 0, 0, 0, 0, 0, 0, 0, 0, 0, 0, 0, 0]\n",
      "\n"
     ]
    },
    {
     "name": "stderr",
     "output_type": "stream",
     "text": [
      "[WDM] - ====== WebDriver manager ======\n",
      "[WDM] - Current google-chrome version is 104.0.5112\n",
      "[WDM] - Get LATEST chromedriver version for 104.0.5112 google-chrome\n",
      "[WDM] - Current google-chrome version is 104.0.5112\n",
      "[WDM] - Get LATEST chromedriver version for 104.0.5112 google-chrome\n",
      "[WDM] - Driver [C:\\Users\\PC-1\\.wdm\\drivers\\chromedriver\\win32\\104.0.5112.79\\chromedriver.exe] found in cache\n",
      "[WDM] - Driver [C:\\Users\\PC-1\\.wdm\\drivers\\chromedriver\\win32\\104.0.5112.79\\chromedriver.exe] found in cache\n"
     ]
    },
    {
     "name": "stdout",
     "output_type": "stream",
     "text": [
      "Termino 50\n",
      "['Perez R. B. (Per)', 'Quiroz J. C. (Per)', 'Villegas H. (Per)', 'Lozano S. (Per)', 'Ortega K. (Per)', 'Menendez A. (Per)', 'Espinoza J. (Per)', 'Vasquez B. (Per)', 'Huamani J. (Per)', 0, 0, 0, 0, 0, 'Cartagena J. (Per)', 'Villegas H. (Per)', 'Cori V. (Per)', 'Villanueva A. (Per)', 'Legario F. (Per)', 'Blas W. (Per)', 'Seminario L. (Per)', 'Perez R. B. (Per)', 'Ureta D. (Per)', 0, 0, 0, 0, 0, 'Espinoza M. (Per)', 'Ordonez E. (Per)', 'Quiroz J. C. (Per)', 'Alarcon J. (Per)', 'Perez R. B. (Per)', 'Espinoza M. (Per)', 'Ortega K. (Per)', 'Ordonez E. (Per)', 0, 0, 0, 0, 0, 0, 'Garay Evia L. (Per)', 'Lozano S. (Per)', 'Huaman D. (Per)', 'Vasquez B. (Per)', 'Legario F. (Per)', 'Villegas H. (Per)', 'Garay L. (Per)', 'Ureta D. (Per)', 'Espinoza M. (Per)', 0, 0, 0, 0, 0, 'Alarcon J. (Per)', 'Ciriaco L. (Per)', 'Lozano C. (Arg)', 'Alarcon J. (Per)', 'Perez R. B. (Per)', 'Villegas H. (Per)', 'Seminario L. (Per)', 'Ordonez E. (Per)', 'Cartagena J. (Per)', 0, 0, 0, 0, 0, 'Ureta D. (Per)', 'Garay L. (Per)', 'Quiroz J. (Per)', 'Estadio Inca Garcilaso de la Vega (Cusco)', 'Estadio Iván Elías Moreno (Lima)', 'Zamora J. (Per)', 'Lopez Ramos P. (Esp)', 0, 0, 0, 0, 0, 0, 0, 'Estadio San Martin de Porres (Lima)', 'Alarcon J. (Per)', 'Perez R. B. (Per)', 'Villanueva A. (Per)', 'Villegas H. (Per)', 'Lopez P. (Per)', 'Ortega K. (Per)', 0, 0, 0, 0, 0, 0, 0, 'Alarcon J. (Per)', 'Ortega K. (Per)', 'Ureta D. (Per)', 'Seminario L. (Per)', 'Lozano Segado J. (Esp)', 'Barbagelatta G. (Per)', 'Perez R. B. (Per)', 'Legario F. (Per)', 'Ortega K. (Per)', 0, 0, 0, 0, 0, 'Legario F. (Per)', 'Barbagelatta G. (Per)', 'Cartagena J. (Per)', 'Villegas H. (Per)', 'Huaman D. (Per)', 'Seminario L. (Per)', 'Alarcon J. (Per)', 'Espinoza M. (Per)', 0, 0, 0, 0, 0, 0, 'Espinoza J. (Per)', 'Seminario L. (Per)', 'Villegas H. (Per)', 'Ortega K. (Arg)', 'Menendez A. (Per)', 'Ortega K. (Per)', 'Cartagena J. (Per)', 'Garay L. (Per)', 0, 0, 0, 0, 0, 0, 'Alarcon J. (Per)', 'Estadio Miguel Grau (Callao)', 'Villegas H. (Per)', 'Cartagena J. (Per)', 'Perez R. B. (Per)', 'Ortega K. (Per)', 'Ordonez E. (Per)', 'Espinoza M. (Per)', 0, 0, 0, 0, 0, 0, 'Huaman D. (Per)', 'Perez R. B. (Per)', 'Seminario L. (Per)', 'Mendoza J. (Per)', 'Alarcon J. (Per)', 'Ordonez E. (Per)', 'Espinoza J. (Per)', 'Menendez A. (Per)', 0, 0, 0, 0, 0, 0, 'Alarcon J. (Per)', 'Zamora J. (Per)', 'Espinoza J. (Per)', 'Seminario L. (Per)', 'Ordonez E. (Per)', 'Lopez P. (Per)', 'Espinoza M. (Per)', 0, 0, 0, 0, 0, 0, 0, 'Palomino M. (Per)', 'Legario F. (Per)', 'Espinoza J. (Per)', 'Estadio Huancayo (Huancayo)', 'Espinoza M. (Per)', 'Huaman D. (Per)', 'Perez R. B. (Per)', 'Legario F. (Per)', 0, 0, 0, 0, 0, 0, 'Perez R. B. (Per)', 'Lopez R. (Per)', 'Ordonez E. (Per)', 'Espinoza J. (Per)', 'Huaman D. (Per)', 'Legario F. (Per)', 'Barbagelatta G. (Per)', 'Perez R. B. (Per)', 'Alarcon J. (Per)', 0, 0, 0, 0, 0, 0, 0, 0, 0, 0, 0, 0, 0, 0]\n",
      "\n"
     ]
    },
    {
     "name": "stderr",
     "output_type": "stream",
     "text": [
      "[WDM] - ====== WebDriver manager ======\n",
      "[WDM] - Current google-chrome version is 104.0.5112\n",
      "[WDM] - Get LATEST chromedriver version for 104.0.5112 google-chrome\n",
      "[WDM] - Driver [C:\\Users\\PC-1\\.wdm\\drivers\\chromedriver\\win32\\104.0.5112.79\\chromedriver.exe] found in cache\n"
     ]
    },
    {
     "name": "stdout",
     "output_type": "stream",
     "text": [
      "Termino 106\n",
      "['Perez R. B. (Per)', 'Quiroz J. C. (Per)', 'Villegas H. (Per)', 'Lozano S. (Per)', 'Ortega K. (Per)', 'Menendez A. (Per)', 'Espinoza J. (Per)', 'Vasquez B. (Per)', 'Huamani J. (Per)', 0, 0, 0, 0, 0, 'Cartagena J. (Per)', 'Villegas H. (Per)', 'Cori V. (Per)', 'Villanueva A. (Per)', 'Legario F. (Per)', 'Blas W. (Per)', 'Seminario L. (Per)', 'Perez R. B. (Per)', 'Ureta D. (Per)', 0, 0, 0, 0, 0, 'Espinoza M. (Per)', 'Ordonez E. (Per)', 'Quiroz J. C. (Per)', 'Alarcon J. (Per)', 'Perez R. B. (Per)', 'Espinoza M. (Per)', 'Ortega K. (Per)', 'Ordonez E. (Per)', 'Espinoza J. (Per)', 0, 0, 0, 0, 0, 'Garay Evia L. (Per)', 'Lozano S. (Per)', 'Huaman D. (Per)', 'Vasquez B. (Per)', 'Legario F. (Per)', 'Villegas H. (Per)', 'Garay L. (Per)', 'Ureta D. (Per)', 'Espinoza M. (Per)', 0, 0, 0, 0, 0, 'Alarcon J. (Per)', 'Ciriaco L. (Per)', 'Lozano C. (Arg)', 'Alarcon J. (Per)', 'Perez R. B. (Per)', 'Villegas H. (Per)', 'Seminario L. (Per)', 'Ordonez E. (Per)', 'Cartagena J. (Per)', 0, 0, 0, 0, 0, 'Ureta D. (Per)', 'Garay L. (Per)', 'Quiroz J. (Per)', 'Estadio Inca Garcilaso de la Vega (Cusco)', 'Estadio Iván Elías Moreno (Lima)', 'Zamora J. (Per)', 'Lopez Ramos P. (Esp)', 'Garay L. (Per)', 0, 0, 0, 0, 0, 0, 'Estadio San Martin de Porres (Lima)', 'Alarcon J. (Per)', 'Perez R. B. (Per)', 'Villanueva A. (Per)', 'Villegas H. (Per)', 'Lopez P. (Per)', 'Ortega K. (Per)', 0, 0, 0, 0, 0, 0, 0, 'Alarcon J. (Per)', 'Ortega K. (Per)', 'Ureta D. (Per)', 'Seminario L. (Per)', 'Lozano Segado J. (Esp)', 'Barbagelatta G. (Per)', 'Perez R. B. (Per)', 'Legario F. (Per)', 'Ortega K. (Per)', 0, 0, 0, 0, 0, 'Legario F. (Per)', 'Barbagelatta G. (Per)', 'Cartagena J. (Per)', 'Villegas H. (Per)', 'Huaman D. (Per)', 'Seminario L. (Per)', 'Alarcon J. (Per)', 'Espinoza M. (Per)', 0, 0, 0, 0, 0, 0, 'Espinoza J. (Per)', 'Seminario L. (Per)', 'Villegas H. (Per)', 'Ortega K. (Arg)', 'Menendez A. (Per)', 'Ortega K. (Per)', 'Cartagena J. (Per)', 'Garay L. (Per)', 'Perez R. B. (Per)', 0, 0, 0, 0, 0, 'Alarcon J. (Per)', 'Estadio Miguel Grau (Callao)', 'Villegas H. (Per)', 'Cartagena J. (Per)', 'Perez R. B. (Per)', 'Ortega K. (Per)', 'Ordonez E. (Per)', 'Espinoza M. (Per)', 'Estadio Monumental (Lima)', 0, 0, 0, 0, 0, 'Huaman D. (Per)', 'Perez R. B. (Per)', 'Seminario L. (Per)', 'Mendoza J. (Per)', 'Alarcon J. (Per)', 'Ordonez E. (Per)', 'Espinoza J. (Per)', 'Menendez A. (Per)', 'Cartagena J. (Per)', 0, 0, 0, 0, 0, 'Alarcon J. (Per)', 'Zamora J. (Per)', 'Espinoza J. (Per)', 'Seminario L. (Per)', 'Ordonez E. (Per)', 'Lopez P. (Per)', 'Espinoza M. (Per)', 'Alarcon J. (Per)', 0, 0, 0, 0, 0, 0, 'Palomino M. (Per)', 'Legario F. (Per)', 'Espinoza J. (Per)', 'Estadio Huancayo (Huancayo)', 'Espinoza M. (Per)', 'Huaman D. (Per)', 'Perez R. B. (Per)', 'Legario F. (Per)', 0, 0, 0, 0, 0, 0, 'Perez R. B. (Per)', 'Lopez R. (Per)', 'Ordonez E. (Per)', 'Espinoza J. (Per)', 'Huaman D. (Per)', 'Legario F. (Per)', 'Barbagelatta G. (Per)', 'Perez R. B. (Per)', 'Alarcon J. (Per)', 0, 0, 0, 0, 0, 0, 0, 0, 0, 0, 0, 0, 0, 0]\n",
      "\n"
     ]
    },
    {
     "name": "stderr",
     "output_type": "stream",
     "text": [
      "[WDM] - ====== WebDriver manager ======\n",
      "[WDM] - Current google-chrome version is 104.0.5112\n",
      "[WDM] - Get LATEST chromedriver version for 104.0.5112 google-chrome\n",
      "[WDM] - Driver [C:\\Users\\PC-1\\.wdm\\drivers\\chromedriver\\win32\\104.0.5112.79\\chromedriver.exe] found in cache\n"
     ]
    },
    {
     "name": "stdout",
     "output_type": "stream",
     "text": [
      "Termino 134\n",
      "['Perez R. B. (Per)', 'Quiroz J. C. (Per)', 'Villegas H. (Per)', 'Lozano S. (Per)', 'Ortega K. (Per)', 'Menendez A. (Per)', 'Espinoza J. (Per)', 'Vasquez B. (Per)', 'Huamani J. (Per)', 0, 0, 0, 0, 0, 'Cartagena J. (Per)', 'Villegas H. (Per)', 'Cori V. (Per)', 'Villanueva A. (Per)', 'Legario F. (Per)', 'Blas W. (Per)', 'Seminario L. (Per)', 'Perez R. B. (Per)', 'Ureta D. (Per)', 0, 0, 0, 0, 0, 'Espinoza M. (Per)', 'Ordonez E. (Per)', 'Quiroz J. C. (Per)', 'Alarcon J. (Per)', 'Perez R. B. (Per)', 'Espinoza M. (Per)', 'Ortega K. (Per)', 'Ordonez E. (Per)', 'Espinoza J. (Per)', 0, 0, 0, 0, 0, 'Garay Evia L. (Per)', 'Lozano S. (Per)', 'Huaman D. (Per)', 'Vasquez B. (Per)', 'Legario F. (Per)', 'Villegas H. (Per)', 'Garay L. (Per)', 'Ureta D. (Per)', 'Espinoza M. (Per)', 0, 0, 0, 0, 0, 'Alarcon J. (Per)', 'Ciriaco L. (Per)', 'Lozano C. (Arg)', 'Alarcon J. (Per)', 'Perez R. B. (Per)', 'Villegas H. (Per)', 'Seminario L. (Per)', 'Ordonez E. (Per)', 'Cartagena J. (Per)', 0, 0, 0, 0, 0, 'Ureta D. (Per)', 'Garay L. (Per)', 'Quiroz J. (Per)', 'Estadio Inca Garcilaso de la Vega (Cusco)', 'Estadio Iván Elías Moreno (Lima)', 'Zamora J. (Per)', 'Lopez Ramos P. (Esp)', 'Garay L. (Per)', 0, 0, 0, 0, 0, 0, 'Estadio San Martin de Porres (Lima)', 'Alarcon J. (Per)', 'Perez R. B. (Per)', 'Villanueva A. (Per)', 'Villegas H. (Per)', 'Lopez P. (Per)', 'Ortega K. (Per)', 0, 0, 0, 0, 0, 0, 0, 'Alarcon J. (Per)', 'Ortega K. (Per)', 'Ureta D. (Per)', 'Seminario L. (Per)', 'Lozano Segado J. (Esp)', 'Barbagelatta G. (Per)', 'Perez R. B. (Per)', 'Legario F. (Per)', 'Ortega K. (Per)', 0, 0, 0, 0, 0, 'Legario F. (Per)', 'Barbagelatta G. (Per)', 'Cartagena J. (Per)', 'Villegas H. (Per)', 'Huaman D. (Per)', 'Seminario L. (Per)', 'Alarcon J. (Per)', 'Espinoza M. (Per)', 0, 0, 0, 0, 0, 0, 'Espinoza J. (Per)', 'Seminario L. (Per)', 'Villegas H. (Per)', 'Ortega K. (Arg)', 'Menendez A. (Per)', 'Ortega K. (Per)', 'Cartagena J. (Per)', 'Garay L. (Per)', 'Perez R. B. (Per)', 0, 0, 0, 0, 0, 'Alarcon J. (Per)', 'Estadio Miguel Grau (Callao)', 'Villegas H. (Per)', 'Cartagena J. (Per)', 'Perez R. B. (Per)', 'Ortega K. (Per)', 'Ordonez E. (Per)', 'Espinoza M. (Per)', 'Estadio Monumental (Lima)', 0, 0, 0, 0, 0, 'Huaman D. (Per)', 'Perez R. B. (Per)', 'Seminario L. (Per)', 'Mendoza J. (Per)', 'Alarcon J. (Per)', 'Ordonez E. (Per)', 'Espinoza J. (Per)', 'Menendez A. (Per)', 'Cartagena J. (Per)', 0, 0, 0, 0, 0, 'Alarcon J. (Per)', 'Zamora J. (Per)', 'Espinoza J. (Per)', 'Seminario L. (Per)', 'Ordonez E. (Per)', 'Lopez P. (Per)', 'Espinoza M. (Per)', 'Alarcon J. (Per)', 0, 0, 0, 0, 0, 0, 'Palomino M. (Per)', 'Legario F. (Per)', 'Espinoza J. (Per)', 'Estadio Huancayo (Huancayo)', 'Espinoza M. (Per)', 'Huaman D. (Per)', 'Perez R. B. (Per)', 'Legario F. (Per)', 0, 0, 0, 0, 0, 0, 'Perez R. B. (Per)', 'Lopez R. (Per)', 'Ordonez E. (Per)', 'Espinoza J. (Per)', 'Huaman D. (Per)', 'Legario F. (Per)', 'Barbagelatta G. (Per)', 'Perez R. B. (Per)', 'Alarcon J. (Per)', 0, 0, 0, 0, 0, 0, 0, 0, 0, 0, 0, 0, 0, 0]\n",
      "\n"
     ]
    },
    {
     "name": "stderr",
     "output_type": "stream",
     "text": [
      "[WDM] - ====== WebDriver manager ======\n"
     ]
    },
    {
     "name": "stdout",
     "output_type": "stream",
     "text": [
      "Termino 77\n",
      "['Perez R. B. (Per)', 'Quiroz J. C. (Per)', 'Villegas H. (Per)', 'Lozano S. (Per)', 'Ortega K. (Per)', 'Menendez A. (Per)', 'Espinoza J. (Per)', 'Vasquez B. (Per)', 'Huamani J. (Per)', 0, 0, 0, 0, 0, 'Cartagena J. (Per)', 'Villegas H. (Per)', 'Cori V. (Per)', 'Villanueva A. (Per)', 'Legario F. (Per)', 'Blas W. (Per)', 'Seminario L. (Per)', 'Perez R. B. (Per)', 'Ureta D. (Per)', 0, 0, 0, 0, 0, 'Espinoza M. (Per)', 'Ordonez E. (Per)', 'Quiroz J. C. (Per)', 'Alarcon J. (Per)', 'Perez R. B. (Per)', 'Espinoza M. (Per)', 'Ortega K. (Per)', 'Ordonez E. (Per)', 'Espinoza J. (Per)', 0, 0, 0, 0, 0, 'Garay Evia L. (Per)', 'Lozano S. (Per)', 'Huaman D. (Per)', 'Vasquez B. (Per)', 'Legario F. (Per)', 'Villegas H. (Per)', 'Garay L. (Per)', 'Ureta D. (Per)', 'Espinoza M. (Per)', 0, 0, 0, 0, 0, 'Alarcon J. (Per)', 'Ciriaco L. (Per)', 'Lozano C. (Arg)', 'Alarcon J. (Per)', 'Perez R. B. (Per)', 'Villegas H. (Per)', 'Seminario L. (Per)', 'Ordonez E. (Per)', 'Cartagena J. (Per)', 0, 0, 0, 0, 0, 'Ureta D. (Per)', 'Garay L. (Per)', 'Quiroz J. (Per)', 'Estadio Inca Garcilaso de la Vega (Cusco)', 'Estadio Iván Elías Moreno (Lima)', 'Zamora J. (Per)', 'Lopez Ramos P. (Esp)', 'Garay L. (Per)', 0, 0, 0, 0, 0, 0, 'Estadio San Martin de Porres (Lima)', 'Alarcon J. (Per)', 'Perez R. B. (Per)', 'Villanueva A. (Per)', 'Villegas H. (Per)', 'Lopez P. (Per)', 'Ortega K. (Per)', 0, 0, 0, 0, 0, 0, 0, 'Alarcon J. (Per)', 'Ortega K. (Per)', 'Ureta D. (Per)', 'Seminario L. (Per)', 'Lozano Segado J. (Esp)', 'Barbagelatta G. (Per)', 'Perez R. B. (Per)', 'Legario F. (Per)', 'Ortega K. (Per)', 0, 0, 0, 0, 0, 'Legario F. (Per)', 'Barbagelatta G. (Per)', 'Cartagena J. (Per)', 'Villegas H. (Per)', 'Huaman D. (Per)', 'Seminario L. (Per)', 'Alarcon J. (Per)', 'Espinoza M. (Per)', 0, 0, 0, 0, 0, 0, 'Espinoza J. (Per)', 'Seminario L. (Per)', 'Villegas H. (Per)', 'Ortega K. (Arg)', 'Menendez A. (Per)', 'Ortega K. (Per)', 'Cartagena J. (Per)', 'Garay L. (Per)', 'Perez R. B. (Per)', 0, 0, 0, 0, 0, 'Alarcon J. (Per)', 'Estadio Miguel Grau (Callao)', 'Villegas H. (Per)', 'Cartagena J. (Per)', 'Perez R. B. (Per)', 'Ortega K. (Per)', 'Ordonez E. (Per)', 'Espinoza M. (Per)', 'Estadio Monumental (Lima)', 0, 0, 0, 0, 0, 'Huaman D. (Per)', 'Perez R. B. (Per)', 'Seminario L. (Per)', 'Mendoza J. (Per)', 'Alarcon J. (Per)', 'Ordonez E. (Per)', 'Espinoza J. (Per)', 'Menendez A. (Per)', 'Cartagena J. (Per)', 0, 0, 0, 0, 0, 'Alarcon J. (Per)', 'Zamora J. (Per)', 'Espinoza J. (Per)', 'Seminario L. (Per)', 'Ordonez E. (Per)', 'Lopez P. (Per)', 'Espinoza M. (Per)', 'Alarcon J. (Per)', 0, 0, 0, 0, 0, 0, 'Palomino M. (Per)', 'Legario F. (Per)', 'Espinoza J. (Per)', 'Estadio Huancayo (Huancayo)', 'Espinoza M. (Per)', 'Huaman D. (Per)', 'Perez R. B. (Per)', 'Legario F. (Per)', 0, 0, 0, 0, 0, 0, 'Perez R. B. (Per)', 'Lopez R. (Per)', 'Ordonez E. (Per)', 'Espinoza J. (Per)', 'Huaman D. (Per)', 'Legario F. (Per)', 'Barbagelatta G. (Per)', 'Perez R. B. (Per)', 'Alarcon J. (Per)', 0, 0, 0, 0, 0, 0, 0, 0, 0, 0, 0, 0, 0, 0]\n",
      "\n"
     ]
    },
    {
     "name": "stderr",
     "output_type": "stream",
     "text": [
      "[WDM] - ====== WebDriver manager ======\n",
      "[WDM] - Current google-chrome version is 104.0.5112\n",
      "[WDM] - Get LATEST chromedriver version for 104.0.5112 google-chrome\n",
      "[WDM] - Current google-chrome version is 104.0.5112\n",
      "[WDM] - Get LATEST chromedriver version for 104.0.5112 google-chrome\n",
      "[WDM] - Driver [C:\\Users\\PC-1\\.wdm\\drivers\\chromedriver\\win32\\104.0.5112.79\\chromedriver.exe] found in cache\n",
      "[WDM] - Driver [C:\\Users\\PC-1\\.wdm\\drivers\\chromedriver\\win32\\104.0.5112.79\\chromedriver.exe] found in cache\n"
     ]
    },
    {
     "name": "stdout",
     "output_type": "stream",
     "text": [
      "Termino 204\n",
      "['Perez R. B. (Per)', 'Quiroz J. C. (Per)', 'Villegas H. (Per)', 'Lozano S. (Per)', 'Ortega K. (Per)', 'Menendez A. (Per)', 'Espinoza J. (Per)', 'Vasquez B. (Per)', 'Huamani J. (Per)', 'Lopez Ramos P. (Esp)', 0, 0, 0, 0, 'Cartagena J. (Per)', 'Villegas H. (Per)', 'Cori V. (Per)', 'Villanueva A. (Per)', 'Legario F. (Per)', 'Blas W. (Per)', 'Seminario L. (Per)', 'Perez R. B. (Per)', 'Ureta D. (Per)', 0, 0, 0, 0, 0, 'Espinoza M. (Per)', 'Ordonez E. (Per)', 'Quiroz J. C. (Per)', 'Alarcon J. (Per)', 'Perez R. B. (Per)', 'Espinoza M. (Per)', 'Ortega K. (Per)', 'Ordonez E. (Per)', 'Espinoza J. (Per)', 0, 0, 0, 0, 0, 'Garay Evia L. (Per)', 'Lozano S. (Per)', 'Huaman D. (Per)', 'Vasquez B. (Per)', 'Legario F. (Per)', 'Villegas H. (Per)', 'Garay L. (Per)', 'Ureta D. (Per)', 'Espinoza M. (Per)', 0, 0, 0, 0, 0, 'Alarcon J. (Per)', 'Ciriaco L. (Per)', 'Lozano C. (Arg)', 'Alarcon J. (Per)', 'Perez R. B. (Per)', 'Villegas H. (Per)', 'Seminario L. (Per)', 'Ordonez E. (Per)', 'Cartagena J. (Per)', 0, 0, 0, 0, 0, 'Ureta D. (Per)', 'Garay L. (Per)', 'Quiroz J. (Per)', 'Estadio Inca Garcilaso de la Vega (Cusco)', 'Estadio Iván Elías Moreno (Lima)', 'Zamora J. (Per)', 'Lopez Ramos P. (Esp)', 'Garay L. (Per)', 0, 0, 0, 0, 0, 0, 'Estadio San Martin de Porres (Lima)', 'Alarcon J. (Per)', 'Perez R. B. (Per)', 'Villanueva A. (Per)', 'Villegas H. (Per)', 'Lopez P. (Per)', 'Ortega K. (Per)', 0, 0, 0, 0, 0, 0, 0, 'Alarcon J. (Per)', 'Ortega K. (Per)', 'Ureta D. (Per)', 'Seminario L. (Per)', 'Lozano Segado J. (Esp)', 'Barbagelatta G. (Per)', 'Perez R. B. (Per)', 'Legario F. (Per)', 'Ortega K. (Per)', 0, 0, 0, 0, 0, 'Legario F. (Per)', 'Barbagelatta G. (Per)', 'Cartagena J. (Per)', 'Villegas H. (Per)', 'Huaman D. (Per)', 'Seminario L. (Per)', 'Alarcon J. (Per)', 'Espinoza M. (Per)', 'Menendez A. (Per)', 0, 0, 0, 0, 0, 'Espinoza J. (Per)', 'Seminario L. (Per)', 'Villegas H. (Per)', 'Ortega K. (Arg)', 'Menendez A. (Per)', 'Ortega K. (Per)', 'Cartagena J. (Per)', 'Garay L. (Per)', 'Perez R. B. (Per)', 0, 0, 0, 0, 0, 'Alarcon J. (Per)', 'Estadio Miguel Grau (Callao)', 'Villegas H. (Per)', 'Cartagena J. (Per)', 'Perez R. B. (Per)', 'Ortega K. (Per)', 'Ordonez E. (Per)', 'Espinoza M. (Per)', 'Estadio Monumental (Lima)', 0, 0, 0, 0, 0, 'Huaman D. (Per)', 'Perez R. B. (Per)', 'Seminario L. (Per)', 'Mendoza J. (Per)', 'Alarcon J. (Per)', 'Ordonez E. (Per)', 'Espinoza J. (Per)', 'Menendez A. (Per)', 'Cartagena J. (Per)', 0, 0, 0, 0, 0, 'Alarcon J. (Per)', 'Zamora J. (Per)', 'Espinoza J. (Per)', 'Seminario L. (Per)', 'Ordonez E. (Per)', 'Lopez P. (Per)', 'Espinoza M. (Per)', 'Alarcon J. (Per)', 0, 0, 0, 0, 0, 0, 'Palomino M. (Per)', 'Legario F. (Per)', 'Espinoza J. (Per)', 'Estadio Huancayo (Huancayo)', 'Espinoza M. (Per)', 'Huaman D. (Per)', 'Perez R. B. (Per)', 'Legario F. (Per)', 0, 0, 0, 0, 0, 0, 'Perez R. B. (Per)', 'Lopez R. (Per)', 'Ordonez E. (Per)', 'Espinoza J. (Per)', 'Huaman D. (Per)', 'Legario F. (Per)', 'Barbagelatta G. (Per)', 'Perez R. B. (Per)', 'Alarcon J. (Per)', 0, 0, 0, 0, 0, 0, 0, 0, 0, 0, 0, 0, 0, 0]\n",
      "\n"
     ]
    },
    {
     "name": "stderr",
     "output_type": "stream",
     "text": [
      "[WDM] - ====== WebDriver manager ======\n"
     ]
    },
    {
     "name": "stdout",
     "output_type": "stream",
     "text": [
      "Termino 90\n",
      "['Perez R. B. (Per)', 'Quiroz J. C. (Per)', 'Villegas H. (Per)', 'Lozano S. (Per)', 'Ortega K. (Per)', 'Menendez A. (Per)', 'Espinoza J. (Per)', 'Vasquez B. (Per)', 'Huamani J. (Per)', 'Lopez Ramos P. (Esp)', 0, 0, 0, 0, 'Cartagena J. (Per)', 'Villegas H. (Per)', 'Cori V. (Per)', 'Villanueva A. (Per)', 'Legario F. (Per)', 'Blas W. (Per)', 'Seminario L. (Per)', 'Perez R. B. (Per)', 'Ureta D. (Per)', 0, 0, 0, 0, 0, 'Espinoza M. (Per)', 'Ordonez E. (Per)', 'Quiroz J. C. (Per)', 'Alarcon J. (Per)', 'Perez R. B. (Per)', 'Espinoza M. (Per)', 'Ortega K. (Per)', 'Ordonez E. (Per)', 'Espinoza J. (Per)', 0, 0, 0, 0, 0, 'Garay Evia L. (Per)', 'Lozano S. (Per)', 'Huaman D. (Per)', 'Vasquez B. (Per)', 'Legario F. (Per)', 'Villegas H. (Per)', 'Garay L. (Per)', 'Ureta D. (Per)', 'Espinoza M. (Per)', 0, 0, 0, 0, 0, 'Alarcon J. (Per)', 'Ciriaco L. (Per)', 'Lozano C. (Arg)', 'Alarcon J. (Per)', 'Perez R. B. (Per)', 'Villegas H. (Per)', 'Seminario L. (Per)', 'Ordonez E. (Per)', 'Cartagena J. (Per)', 0, 0, 0, 0, 0, 'Ureta D. (Per)', 'Garay L. (Per)', 'Quiroz J. (Per)', 'Estadio Inca Garcilaso de la Vega (Cusco)', 'Estadio Iván Elías Moreno (Lima)', 'Zamora J. (Per)', 'Lopez Ramos P. (Esp)', 'Garay L. (Per)', 0, 0, 0, 0, 0, 0, 'Estadio San Martin de Porres (Lima)', 'Alarcon J. (Per)', 'Perez R. B. (Per)', 'Villanueva A. (Per)', 'Villegas H. (Per)', 'Lopez P. (Per)', 'Ortega K. (Per)', 0, 0, 0, 0, 0, 0, 0, 'Alarcon J. (Per)', 'Ortega K. (Per)', 'Ureta D. (Per)', 'Seminario L. (Per)', 'Lozano Segado J. (Esp)', 'Barbagelatta G. (Per)', 'Perez R. B. (Per)', 'Legario F. (Per)', 'Ortega K. (Per)', 0, 0, 0, 0, 0, 'Legario F. (Per)', 'Barbagelatta G. (Per)', 'Cartagena J. (Per)', 'Villegas H. (Per)', 'Huaman D. (Per)', 'Seminario L. (Per)', 'Alarcon J. (Per)', 'Espinoza M. (Per)', 'Menendez A. (Per)', 0, 0, 0, 0, 0, 'Espinoza J. (Per)', 'Seminario L. (Per)', 'Villegas H. (Per)', 'Ortega K. (Arg)', 'Menendez A. (Per)', 'Ortega K. (Per)', 'Cartagena J. (Per)', 'Garay L. (Per)', 'Perez R. B. (Per)', 0, 0, 0, 0, 0, 'Alarcon J. (Per)', 'Estadio Miguel Grau (Callao)', 'Villegas H. (Per)', 'Cartagena J. (Per)', 'Perez R. B. (Per)', 'Ortega K. (Per)', 'Ordonez E. (Per)', 'Espinoza M. (Per)', 'Estadio Monumental (Lima)', 0, 0, 0, 0, 0, 'Huaman D. (Per)', 'Perez R. B. (Per)', 'Seminario L. (Per)', 'Mendoza J. (Per)', 'Alarcon J. (Per)', 'Ordonez E. (Per)', 'Espinoza J. (Per)', 'Menendez A. (Per)', 'Cartagena J. (Per)', 0, 0, 0, 0, 0, 'Alarcon J. (Per)', 'Zamora J. (Per)', 'Espinoza J. (Per)', 'Seminario L. (Per)', 'Ordonez E. (Per)', 'Lopez P. (Per)', 'Espinoza M. (Per)', 'Alarcon J. (Per)', 0, 0, 0, 0, 0, 0, 'Palomino M. (Per)', 'Legario F. (Per)', 'Espinoza J. (Per)', 'Estadio Huancayo (Huancayo)', 'Espinoza M. (Per)', 'Huaman D. (Per)', 'Perez R. B. (Per)', 'Legario F. (Per)', 0, 0, 0, 0, 0, 0, 'Perez R. B. (Per)', 'Lopez R. (Per)', 'Ordonez E. (Per)', 'Espinoza J. (Per)', 'Huaman D. (Per)', 'Legario F. (Per)', 'Barbagelatta G. (Per)', 'Perez R. B. (Per)', 'Alarcon J. (Per)', 0, 0, 0, 0, 0, 0, 0, 0, 0, 0, 0, 0, 0, 0]\n",
      "\n"
     ]
    },
    {
     "name": "stderr",
     "output_type": "stream",
     "text": [
      "[WDM] - ====== WebDriver manager ======\n",
      "[WDM] - Current google-chrome version is 104.0.5112\n",
      "[WDM] - Get LATEST chromedriver version for 104.0.5112 google-chrome\n"
     ]
    },
    {
     "name": "stdout",
     "output_type": "stream",
     "text": [
      "Termino 36\n",
      "['Perez R. B. (Per)', 'Quiroz J. C. (Per)', 'Villegas H. (Per)', 'Lozano S. (Per)', 'Ortega K. (Per)', 'Menendez A. (Per)', 'Espinoza J. (Per)', 'Vasquez B. (Per)', 'Huamani J. (Per)', 'Lopez Ramos P. (Esp)', 0, 0, 0, 0, 'Cartagena J. (Per)', 'Villegas H. (Per)', 'Cori V. (Per)', 'Villanueva A. (Per)', 'Legario F. (Per)', 'Blas W. (Per)', 'Seminario L. (Per)', 'Perez R. B. (Per)', 'Ureta D. (Per)', 0, 0, 0, 0, 0, 'Espinoza M. (Per)', 'Ordonez E. (Per)', 'Quiroz J. C. (Per)', 'Alarcon J. (Per)', 'Perez R. B. (Per)', 'Espinoza M. (Per)', 'Ortega K. (Per)', 'Ordonez E. (Per)', 'Espinoza J. (Per)', 0, 0, 0, 0, 0, 'Garay Evia L. (Per)', 'Lozano S. (Per)', 'Huaman D. (Per)', 'Vasquez B. (Per)', 'Legario F. (Per)', 'Villegas H. (Per)', 'Garay L. (Per)', 'Ureta D. (Per)', 'Espinoza M. (Per)', 0, 0, 0, 0, 0, 'Alarcon J. (Per)', 'Ciriaco L. (Per)', 'Lozano C. (Arg)', 'Alarcon J. (Per)', 'Perez R. B. (Per)', 'Villegas H. (Per)', 'Seminario L. (Per)', 'Ordonez E. (Per)', 'Cartagena J. (Per)', 0, 0, 0, 0, 0, 'Ureta D. (Per)', 'Garay L. (Per)', 'Quiroz J. (Per)', 'Estadio Inca Garcilaso de la Vega (Cusco)', 'Estadio Iván Elías Moreno (Lima)', 'Zamora J. (Per)', 'Lopez Ramos P. (Esp)', 'Garay L. (Per)', 0, 0, 0, 0, 0, 0, 'Estadio San Martin de Porres (Lima)', 'Alarcon J. (Per)', 'Perez R. B. (Per)', 'Villanueva A. (Per)', 'Villegas H. (Per)', 'Lopez P. (Per)', 'Ortega K. (Per)', 0, 0, 0, 0, 0, 0, 0, 'Alarcon J. (Per)', 'Ortega K. (Per)', 'Ureta D. (Per)', 'Seminario L. (Per)', 'Lozano Segado J. (Esp)', 'Barbagelatta G. (Per)', 'Perez R. B. (Per)', 'Legario F. (Per)', 'Ortega K. (Per)', 0, 0, 0, 0, 0, 'Legario F. (Per)', 'Barbagelatta G. (Per)', 'Cartagena J. (Per)', 'Villegas H. (Per)', 'Huaman D. (Per)', 'Seminario L. (Per)', 'Alarcon J. (Per)', 'Espinoza M. (Per)', 'Menendez A. (Per)', 0, 0, 0, 0, 0, 'Espinoza J. (Per)', 'Seminario L. (Per)', 'Villegas H. (Per)', 'Ortega K. (Arg)', 'Menendez A. (Per)', 'Ortega K. (Per)', 'Cartagena J. (Per)', 'Garay L. (Per)', 'Perez R. B. (Per)', 0, 0, 0, 0, 0, 'Alarcon J. (Per)', 'Estadio Miguel Grau (Callao)', 'Villegas H. (Per)', 'Cartagena J. (Per)', 'Perez R. B. (Per)', 'Ortega K. (Per)', 'Ordonez E. (Per)', 'Espinoza M. (Per)', 'Estadio Monumental (Lima)', 0, 0, 0, 0, 0, 'Huaman D. (Per)', 'Perez R. B. (Per)', 'Seminario L. (Per)', 'Mendoza J. (Per)', 'Alarcon J. (Per)', 'Ordonez E. (Per)', 'Espinoza J. (Per)', 'Menendez A. (Per)', 'Cartagena J. (Per)', 0, 0, 0, 0, 0, 'Alarcon J. (Per)', 'Zamora J. (Per)', 'Espinoza J. (Per)', 'Seminario L. (Per)', 'Ordonez E. (Per)', 'Lopez P. (Per)', 'Espinoza M. (Per)', 'Alarcon J. (Per)', 0, 0, 0, 0, 0, 0, 'Palomino M. (Per)', 'Legario F. (Per)', 'Espinoza J. (Per)', 'Estadio Huancayo (Huancayo)', 'Espinoza M. (Per)', 'Huaman D. (Per)', 'Perez R. B. (Per)', 'Legario F. (Per)', 0, 0, 0, 0, 0, 0, 'Perez R. B. (Per)', 'Lopez R. (Per)', 'Ordonez E. (Per)', 'Espinoza J. (Per)', 'Huaman D. (Per)', 'Legario F. (Per)', 'Barbagelatta G. (Per)', 'Perez R. B. (Per)', 'Alarcon J. (Per)', 0, 0, 0, 0, 0, 0, 0, 0, 0, 0, 0, 0, 0, 0]\n",
      "\n"
     ]
    },
    {
     "name": "stderr",
     "output_type": "stream",
     "text": [
      "[WDM] - ====== WebDriver manager ======\n"
     ]
    },
    {
     "name": "stdout",
     "output_type": "stream",
     "text": [
      "Termino 162\n",
      "['Perez R. B. (Per)', 'Quiroz J. C. (Per)', 'Villegas H. (Per)', 'Lozano S. (Per)', 'Ortega K. (Per)', 'Menendez A. (Per)', 'Espinoza J. (Per)', 'Vasquez B. (Per)', 'Huamani J. (Per)', 'Lopez Ramos P. (Esp)', 0, 0, 0, 0, 'Cartagena J. (Per)', 'Villegas H. (Per)', 'Cori V. (Per)', 'Villanueva A. (Per)', 'Legario F. (Per)', 'Blas W. (Per)', 'Seminario L. (Per)', 'Perez R. B. (Per)', 'Ureta D. (Per)', 0, 0, 0, 0, 0, 'Espinoza M. (Per)', 'Ordonez E. (Per)', 'Quiroz J. C. (Per)', 'Alarcon J. (Per)', 'Perez R. B. (Per)', 'Espinoza M. (Per)', 'Ortega K. (Per)', 'Ordonez E. (Per)', 'Espinoza J. (Per)', 0, 0, 0, 0, 0, 'Garay Evia L. (Per)', 'Lozano S. (Per)', 'Huaman D. (Per)', 'Vasquez B. (Per)', 'Legario F. (Per)', 'Villegas H. (Per)', 'Garay L. (Per)', 'Ureta D. (Per)', 'Espinoza M. (Per)', 0, 0, 0, 0, 0, 'Alarcon J. (Per)', 'Ciriaco L. (Per)', 'Lozano C. (Arg)', 'Alarcon J. (Per)', 'Perez R. B. (Per)', 'Villegas H. (Per)', 'Seminario L. (Per)', 'Ordonez E. (Per)', 'Cartagena J. (Per)', 0, 0, 0, 0, 0, 'Ureta D. (Per)', 'Garay L. (Per)', 'Quiroz J. (Per)', 'Estadio Inca Garcilaso de la Vega (Cusco)', 'Estadio Iván Elías Moreno (Lima)', 'Zamora J. (Per)', 'Lopez Ramos P. (Esp)', 'Garay L. (Per)', 0, 0, 0, 0, 0, 0, 'Estadio San Martin de Porres (Lima)', 'Alarcon J. (Per)', 'Perez R. B. (Per)', 'Villanueva A. (Per)', 'Villegas H. (Per)', 'Lopez P. (Per)', 'Ortega K. (Per)', 0, 0, 0, 0, 0, 0, 0, 'Alarcon J. (Per)', 'Ortega K. (Per)', 'Ureta D. (Per)', 'Seminario L. (Per)', 'Lozano Segado J. (Esp)', 'Barbagelatta G. (Per)', 'Perez R. B. (Per)', 'Legario F. (Per)', 'Ortega K. (Per)', 0, 0, 0, 0, 0, 'Legario F. (Per)', 'Barbagelatta G. (Per)', 'Cartagena J. (Per)', 'Villegas H. (Per)', 'Huaman D. (Per)', 'Seminario L. (Per)', 'Alarcon J. (Per)', 'Espinoza M. (Per)', 'Menendez A. (Per)', 0, 0, 0, 0, 0, 'Espinoza J. (Per)', 'Seminario L. (Per)', 'Villegas H. (Per)', 'Ortega K. (Arg)', 'Menendez A. (Per)', 'Ortega K. (Per)', 'Cartagena J. (Per)', 'Garay L. (Per)', 'Perez R. B. (Per)', 0, 0, 0, 0, 0, 'Alarcon J. (Per)', 'Estadio Miguel Grau (Callao)', 'Villegas H. (Per)', 'Cartagena J. (Per)', 'Perez R. B. (Per)', 'Ortega K. (Per)', 'Ordonez E. (Per)', 'Espinoza M. (Per)', 'Estadio Monumental (Lima)', 0, 0, 0, 0, 0, 'Huaman D. (Per)', 'Perez R. B. (Per)', 'Seminario L. (Per)', 'Mendoza J. (Per)', 'Alarcon J. (Per)', 'Ordonez E. (Per)', 'Espinoza J. (Per)', 'Menendez A. (Per)', 'Cartagena J. (Per)', 0, 0, 0, 0, 0, 'Alarcon J. (Per)', 'Zamora J. (Per)', 'Espinoza J. (Per)', 'Seminario L. (Per)', 'Ordonez E. (Per)', 'Lopez P. (Per)', 'Espinoza M. (Per)', 'Alarcon J. (Per)', 0, 0, 0, 0, 0, 0, 'Palomino M. (Per)', 'Legario F. (Per)', 'Espinoza J. (Per)', 'Estadio Huancayo (Huancayo)', 'Espinoza M. (Per)', 'Huaman D. (Per)', 'Perez R. B. (Per)', 'Legario F. (Per)', 0, 0, 0, 0, 0, 0, 'Perez R. B. (Per)', 'Lopez R. (Per)', 'Ordonez E. (Per)', 'Espinoza J. (Per)', 'Huaman D. (Per)', 'Legario F. (Per)', 'Barbagelatta G. (Per)', 'Perez R. B. (Per)', 'Alarcon J. (Per)', 0, 0, 0, 0, 0, 0, 0, 0, 0, 0, 0, 0, 0, 0]\n",
      "\n"
     ]
    },
    {
     "name": "stderr",
     "output_type": "stream",
     "text": [
      "[WDM] - ====== WebDriver manager ======\n",
      "[WDM] - Current google-chrome version is 104.0.5112\n",
      "[WDM] - Get LATEST chromedriver version for 104.0.5112 google-chrome\n",
      "[WDM] - Driver [C:\\Users\\PC-1\\.wdm\\drivers\\chromedriver\\win32\\104.0.5112.79\\chromedriver.exe] found in cache\n",
      "[WDM] - Driver [C:\\Users\\PC-1\\.wdm\\drivers\\chromedriver\\win32\\104.0.5112.79\\chromedriver.exe] found in cache\n",
      "[WDM] - Current google-chrome version is 104.0.5112\n",
      "[WDM] - Current google-chrome version is 104.0.5112\n",
      "[WDM] - Get LATEST chromedriver version for 104.0.5112 google-chrome\n",
      "[WDM] - Get LATEST chromedriver version for 104.0.5112 google-chrome\n",
      "[WDM] - Driver [C:\\Users\\PC-1\\.wdm\\drivers\\chromedriver\\win32\\104.0.5112.79\\chromedriver.exe] found in cache\n",
      "[WDM] - Driver [C:\\Users\\PC-1\\.wdm\\drivers\\chromedriver\\win32\\104.0.5112.79\\chromedriver.exe] found in cache\n"
     ]
    },
    {
     "name": "stdout",
     "output_type": "stream",
     "text": [
      "Termino 148\n",
      "['Perez R. B. (Per)', 'Quiroz J. C. (Per)', 'Villegas H. (Per)', 'Lozano S. (Per)', 'Ortega K. (Per)', 'Menendez A. (Per)', 'Espinoza J. (Per)', 'Vasquez B. (Per)', 'Huamani J. (Per)', 'Lopez Ramos P. (Esp)', 0, 0, 0, 0, 'Cartagena J. (Per)', 'Villegas H. (Per)', 'Cori V. (Per)', 'Villanueva A. (Per)', 'Legario F. (Per)', 'Blas W. (Per)', 'Seminario L. (Per)', 'Perez R. B. (Per)', 'Ureta D. (Per)', 0, 0, 0, 0, 0, 'Espinoza M. (Per)', 'Ordonez E. (Per)', 'Quiroz J. C. (Per)', 'Alarcon J. (Per)', 'Perez R. B. (Per)', 'Espinoza M. (Per)', 'Ortega K. (Per)', 'Ordonez E. (Per)', 'Espinoza J. (Per)', 0, 0, 0, 0, 0, 'Garay Evia L. (Per)', 'Lozano S. (Per)', 'Huaman D. (Per)', 'Vasquez B. (Per)', 'Legario F. (Per)', 'Villegas H. (Per)', 'Garay L. (Per)', 'Ureta D. (Per)', 'Espinoza M. (Per)', 0, 0, 0, 0, 0, 'Alarcon J. (Per)', 'Ciriaco L. (Per)', 'Lozano C. (Arg)', 'Alarcon J. (Per)', 'Perez R. B. (Per)', 'Villegas H. (Per)', 'Seminario L. (Per)', 'Ordonez E. (Per)', 'Cartagena J. (Per)', 0, 0, 0, 0, 0, 'Ureta D. (Per)', 'Garay L. (Per)', 'Quiroz J. (Per)', 'Estadio Inca Garcilaso de la Vega (Cusco)', 'Estadio Iván Elías Moreno (Lima)', 'Zamora J. (Per)', 'Lopez Ramos P. (Esp)', 'Garay L. (Per)', 0, 0, 0, 0, 0, 0, 'Estadio San Martin de Porres (Lima)', 'Alarcon J. (Per)', 'Perez R. B. (Per)', 'Villanueva A. (Per)', 'Villegas H. (Per)', 'Lopez P. (Per)', 'Ortega K. (Per)', 0, 0, 0, 0, 0, 0, 0, 'Alarcon J. (Per)', 'Ortega K. (Per)', 'Ureta D. (Per)', 'Seminario L. (Per)', 'Lozano Segado J. (Esp)', 'Barbagelatta G. (Per)', 'Perez R. B. (Per)', 'Legario F. (Per)', 'Ortega K. (Per)', 0, 0, 0, 0, 0, 'Legario F. (Per)', 'Barbagelatta G. (Per)', 'Cartagena J. (Per)', 'Villegas H. (Per)', 'Huaman D. (Per)', 'Seminario L. (Per)', 'Alarcon J. (Per)', 'Espinoza M. (Per)', 'Menendez A. (Per)', 0, 0, 0, 0, 0, 'Espinoza J. (Per)', 'Seminario L. (Per)', 'Villegas H. (Per)', 'Ortega K. (Arg)', 'Menendez A. (Per)', 'Ortega K. (Per)', 'Cartagena J. (Per)', 'Garay L. (Per)', 'Perez R. B. (Per)', 0, 0, 0, 0, 0, 'Alarcon J. (Per)', 'Estadio Miguel Grau (Callao)', 'Villegas H. (Per)', 'Cartagena J. (Per)', 'Perez R. B. (Per)', 'Ortega K. (Per)', 'Ordonez E. (Per)', 'Espinoza M. (Per)', 'Estadio Monumental (Lima)', 0, 0, 0, 0, 0, 'Huaman D. (Per)', 'Perez R. B. (Per)', 'Seminario L. (Per)', 'Mendoza J. (Per)', 'Alarcon J. (Per)', 'Ordonez E. (Per)', 'Espinoza J. (Per)', 'Menendez A. (Per)', 'Cartagena J. (Per)', 0, 0, 0, 0, 0, 'Alarcon J. (Per)', 'Zamora J. (Per)', 'Espinoza J. (Per)', 'Seminario L. (Per)', 'Ordonez E. (Per)', 'Lopez P. (Per)', 'Espinoza M. (Per)', 'Alarcon J. (Per)', 0, 0, 0, 0, 0, 0, 'Palomino M. (Per)', 'Legario F. (Per)', 'Espinoza J. (Per)', 'Estadio Huancayo (Huancayo)', 'Espinoza M. (Per)', 'Huaman D. (Per)', 'Perez R. B. (Per)', 'Legario F. (Per)', 0, 0, 0, 0, 0, 0, 'Perez R. B. (Per)', 'Lopez R. (Per)', 'Ordonez E. (Per)', 'Espinoza J. (Per)', 'Huaman D. (Per)', 'Legario F. (Per)', 'Barbagelatta G. (Per)', 'Perez R. B. (Per)', 'Alarcon J. (Per)', 0, 0, 0, 0, 0, 0, 0, 0, 0, 0, 0, 0, 0, 0]\n",
      "\n"
     ]
    },
    {
     "name": "stderr",
     "output_type": "stream",
     "text": [
      "[WDM] - ====== WebDriver manager ======\n"
     ]
    },
    {
     "name": "stdout",
     "output_type": "stream",
     "text": [
      "Termino 175\n",
      "['Perez R. B. (Per)', 'Quiroz J. C. (Per)', 'Villegas H. (Per)', 'Lozano S. (Per)', 'Ortega K. (Per)', 'Menendez A. (Per)', 'Espinoza J. (Per)', 'Vasquez B. (Per)', 'Huamani J. (Per)', 'Lopez Ramos P. (Esp)', 0, 0, 0, 0, 'Cartagena J. (Per)', 'Villegas H. (Per)', 'Cori V. (Per)', 'Villanueva A. (Per)', 'Legario F. (Per)', 'Blas W. (Per)', 'Seminario L. (Per)', 'Perez R. B. (Per)', 'Ureta D. (Per)', 0, 0, 0, 0, 0, 'Espinoza M. (Per)', 'Ordonez E. (Per)', 'Quiroz J. C. (Per)', 'Alarcon J. (Per)', 'Perez R. B. (Per)', 'Espinoza M. (Per)', 'Ortega K. (Per)', 'Ordonez E. (Per)', 'Espinoza J. (Per)', 0, 0, 0, 0, 0, 'Garay Evia L. (Per)', 'Lozano S. (Per)', 'Huaman D. (Per)', 'Vasquez B. (Per)', 'Legario F. (Per)', 'Villegas H. (Per)', 'Garay L. (Per)', 'Ureta D. (Per)', 'Espinoza M. (Per)', 0, 0, 0, 0, 0, 'Alarcon J. (Per)', 'Ciriaco L. (Per)', 'Lozano C. (Arg)', 'Alarcon J. (Per)', 'Perez R. B. (Per)', 'Villegas H. (Per)', 'Seminario L. (Per)', 'Ordonez E. (Per)', 'Cartagena J. (Per)', 0, 0, 0, 0, 0, 'Ureta D. (Per)', 'Garay L. (Per)', 'Quiroz J. (Per)', 'Estadio Inca Garcilaso de la Vega (Cusco)', 'Estadio Iván Elías Moreno (Lima)', 'Zamora J. (Per)', 'Lopez Ramos P. (Esp)', 'Garay L. (Per)', 0, 0, 0, 0, 0, 0, 'Estadio San Martin de Porres (Lima)', 'Alarcon J. (Per)', 'Perez R. B. (Per)', 'Villanueva A. (Per)', 'Villegas H. (Per)', 'Lopez P. (Per)', 'Ortega K. (Per)', 0, 0, 0, 0, 0, 0, 0, 'Alarcon J. (Per)', 'Ortega K. (Per)', 'Ureta D. (Per)', 'Seminario L. (Per)', 'Lozano Segado J. (Esp)', 'Barbagelatta G. (Per)', 'Perez R. B. (Per)', 'Legario F. (Per)', 'Ortega K. (Per)', 0, 0, 0, 0, 0, 'Legario F. (Per)', 'Barbagelatta G. (Per)', 'Cartagena J. (Per)', 'Villegas H. (Per)', 'Huaman D. (Per)', 'Seminario L. (Per)', 'Alarcon J. (Per)', 'Espinoza M. (Per)', 'Menendez A. (Per)', 0, 0, 0, 0, 0, 'Espinoza J. (Per)', 'Seminario L. (Per)', 'Villegas H. (Per)', 'Ortega K. (Arg)', 'Menendez A. (Per)', 'Ortega K. (Per)', 'Cartagena J. (Per)', 'Garay L. (Per)', 'Perez R. B. (Per)', 0, 0, 0, 0, 0, 'Alarcon J. (Per)', 'Estadio Miguel Grau (Callao)', 'Villegas H. (Per)', 'Cartagena J. (Per)', 'Perez R. B. (Per)', 'Ortega K. (Per)', 'Ordonez E. (Per)', 'Espinoza M. (Per)', 'Estadio Monumental (Lima)', 0, 0, 0, 0, 0, 'Huaman D. (Per)', 'Perez R. B. (Per)', 'Seminario L. (Per)', 'Mendoza J. (Per)', 'Alarcon J. (Per)', 'Ordonez E. (Per)', 'Espinoza J. (Per)', 'Menendez A. (Per)', 'Cartagena J. (Per)', 0, 0, 0, 0, 0, 'Alarcon J. (Per)', 'Zamora J. (Per)', 'Espinoza J. (Per)', 'Seminario L. (Per)', 'Ordonez E. (Per)', 'Lopez P. (Per)', 'Espinoza M. (Per)', 'Alarcon J. (Per)', 0, 0, 0, 0, 0, 0, 'Palomino M. (Per)', 'Legario F. (Per)', 'Espinoza J. (Per)', 'Estadio Huancayo (Huancayo)', 'Espinoza M. (Per)', 'Huaman D. (Per)', 'Perez R. B. (Per)', 'Legario F. (Per)', 0, 0, 0, 0, 0, 0, 'Perez R. B. (Per)', 'Lopez R. (Per)', 'Ordonez E. (Per)', 'Espinoza J. (Per)', 'Huaman D. (Per)', 'Legario F. (Per)', 'Barbagelatta G. (Per)', 'Perez R. B. (Per)', 'Alarcon J. (Per)', 0, 0, 0, 0, 0, 0, 0, 0, 0, 0, 0, 0, 0, 0]\n",
      "\n"
     ]
    },
    {
     "name": "stderr",
     "output_type": "stream",
     "text": [
      "[WDM] - ====== WebDriver manager ======\n",
      "[WDM] - Current google-chrome version is 104.0.5112\n",
      "[WDM] - Get LATEST chromedriver version for 104.0.5112 google-chrome\n"
     ]
    },
    {
     "name": "stdout",
     "output_type": "stream",
     "text": [
      "Termino 120\n",
      "['Perez R. B. (Per)', 'Quiroz J. C. (Per)', 'Villegas H. (Per)', 'Lozano S. (Per)', 'Ortega K. (Per)', 'Menendez A. (Per)', 'Espinoza J. (Per)', 'Vasquez B. (Per)', 'Huamani J. (Per)', 'Lopez Ramos P. (Esp)', 0, 0, 0, 0, 'Cartagena J. (Per)', 'Villegas H. (Per)', 'Cori V. (Per)', 'Villanueva A. (Per)', 'Legario F. (Per)', 'Blas W. (Per)', 'Seminario L. (Per)', 'Perez R. B. (Per)', 'Ureta D. (Per)', 0, 0, 0, 0, 0, 'Espinoza M. (Per)', 'Ordonez E. (Per)', 'Quiroz J. C. (Per)', 'Alarcon J. (Per)', 'Perez R. B. (Per)', 'Espinoza M. (Per)', 'Ortega K. (Per)', 'Ordonez E. (Per)', 'Espinoza J. (Per)', 0, 0, 0, 0, 0, 'Garay Evia L. (Per)', 'Lozano S. (Per)', 'Huaman D. (Per)', 'Vasquez B. (Per)', 'Legario F. (Per)', 'Villegas H. (Per)', 'Garay L. (Per)', 'Ureta D. (Per)', 'Espinoza M. (Per)', 0, 0, 0, 0, 0, 'Alarcon J. (Per)', 'Ciriaco L. (Per)', 'Lozano C. (Arg)', 'Alarcon J. (Per)', 'Perez R. B. (Per)', 'Villegas H. (Per)', 'Seminario L. (Per)', 'Ordonez E. (Per)', 'Cartagena J. (Per)', 0, 0, 0, 0, 0, 'Ureta D. (Per)', 'Garay L. (Per)', 'Quiroz J. (Per)', 'Estadio Inca Garcilaso de la Vega (Cusco)', 'Estadio Iván Elías Moreno (Lima)', 'Zamora J. (Per)', 'Lopez Ramos P. (Esp)', 'Garay L. (Per)', 0, 0, 0, 0, 0, 0, 'Estadio San Martin de Porres (Lima)', 'Alarcon J. (Per)', 'Perez R. B. (Per)', 'Villanueva A. (Per)', 'Villegas H. (Per)', 'Lopez P. (Per)', 'Ortega K. (Per)', 0, 0, 0, 0, 0, 0, 0, 'Alarcon J. (Per)', 'Ortega K. (Per)', 'Ureta D. (Per)', 'Seminario L. (Per)', 'Lozano Segado J. (Esp)', 'Barbagelatta G. (Per)', 'Perez R. B. (Per)', 'Legario F. (Per)', 'Ortega K. (Per)', 0, 0, 0, 0, 0, 'Legario F. (Per)', 'Barbagelatta G. (Per)', 'Cartagena J. (Per)', 'Villegas H. (Per)', 'Huaman D. (Per)', 'Seminario L. (Per)', 'Alarcon J. (Per)', 'Espinoza M. (Per)', 'Menendez A. (Per)', 0, 0, 0, 0, 0, 'Espinoza J. (Per)', 'Seminario L. (Per)', 'Villegas H. (Per)', 'Ortega K. (Arg)', 'Menendez A. (Per)', 'Ortega K. (Per)', 'Cartagena J. (Per)', 'Garay L. (Per)', 'Perez R. B. (Per)', 0, 0, 0, 0, 0, 'Alarcon J. (Per)', 'Estadio Miguel Grau (Callao)', 'Villegas H. (Per)', 'Cartagena J. (Per)', 'Perez R. B. (Per)', 'Ortega K. (Per)', 'Ordonez E. (Per)', 'Espinoza M. (Per)', 'Estadio Monumental (Lima)', 0, 0, 0, 0, 0, 'Huaman D. (Per)', 'Perez R. B. (Per)', 'Seminario L. (Per)', 'Mendoza J. (Per)', 'Alarcon J. (Per)', 'Ordonez E. (Per)', 'Espinoza J. (Per)', 'Menendez A. (Per)', 'Cartagena J. (Per)', 0, 0, 0, 0, 0, 'Alarcon J. (Per)', 'Zamora J. (Per)', 'Espinoza J. (Per)', 'Seminario L. (Per)', 'Ordonez E. (Per)', 'Lopez P. (Per)', 'Espinoza M. (Per)', 'Alarcon J. (Per)', 0, 0, 0, 0, 0, 0, 'Palomino M. (Per)', 'Legario F. (Per)', 'Espinoza J. (Per)', 'Estadio Huancayo (Huancayo)', 'Espinoza M. (Per)', 'Huaman D. (Per)', 'Perez R. B. (Per)', 'Legario F. (Per)', 'Garay L. (Per)', 0, 0, 0, 0, 0, 'Perez R. B. (Per)', 'Lopez R. (Per)', 'Ordonez E. (Per)', 'Espinoza J. (Per)', 'Huaman D. (Per)', 'Legario F. (Per)', 'Barbagelatta G. (Per)', 'Perez R. B. (Per)', 'Alarcon J. (Per)', 0, 0, 0, 0, 0, 0, 0, 0, 0, 0, 0, 0, 0, 0]\n",
      "\n"
     ]
    },
    {
     "name": "stderr",
     "output_type": "stream",
     "text": [
      "[WDM] - ====== WebDriver manager ======\n"
     ]
    },
    {
     "name": "stdout",
     "output_type": "stream",
     "text": [
      "Termino 9\n",
      "['Perez R. B. (Per)', 'Quiroz J. C. (Per)', 'Villegas H. (Per)', 'Lozano S. (Per)', 'Ortega K. (Per)', 'Menendez A. (Per)', 'Espinoza J. (Per)', 'Vasquez B. (Per)', 'Huamani J. (Per)', 'Lopez Ramos P. (Esp)', 0, 0, 0, 0, 'Cartagena J. (Per)', 'Villegas H. (Per)', 'Cori V. (Per)', 'Villanueva A. (Per)', 'Legario F. (Per)', 'Blas W. (Per)', 'Seminario L. (Per)', 'Perez R. B. (Per)', 'Ureta D. (Per)', 0, 0, 0, 0, 0, 'Espinoza M. (Per)', 'Ordonez E. (Per)', 'Quiroz J. C. (Per)', 'Alarcon J. (Per)', 'Perez R. B. (Per)', 'Espinoza M. (Per)', 'Ortega K. (Per)', 'Ordonez E. (Per)', 'Espinoza J. (Per)', 0, 0, 0, 0, 0, 'Garay Evia L. (Per)', 'Lozano S. (Per)', 'Huaman D. (Per)', 'Vasquez B. (Per)', 'Legario F. (Per)', 'Villegas H. (Per)', 'Garay L. (Per)', 'Ureta D. (Per)', 'Espinoza M. (Per)', 0, 0, 0, 0, 0, 'Alarcon J. (Per)', 'Ciriaco L. (Per)', 'Lozano C. (Arg)', 'Alarcon J. (Per)', 'Perez R. B. (Per)', 'Villegas H. (Per)', 'Seminario L. (Per)', 'Ordonez E. (Per)', 'Cartagena J. (Per)', 0, 0, 0, 0, 0, 'Ureta D. (Per)', 'Garay L. (Per)', 'Quiroz J. (Per)', 'Estadio Inca Garcilaso de la Vega (Cusco)', 'Estadio Iván Elías Moreno (Lima)', 'Zamora J. (Per)', 'Lopez Ramos P. (Esp)', 'Garay L. (Per)', 0, 0, 0, 0, 0, 0, 'Estadio San Martin de Porres (Lima)', 'Alarcon J. (Per)', 'Perez R. B. (Per)', 'Villanueva A. (Per)', 'Villegas H. (Per)', 'Lopez P. (Per)', 'Ortega K. (Per)', 0, 0, 0, 0, 0, 0, 0, 'Alarcon J. (Per)', 'Ortega K. (Per)', 'Ureta D. (Per)', 'Seminario L. (Per)', 'Lozano Segado J. (Esp)', 'Barbagelatta G. (Per)', 'Perez R. B. (Per)', 'Legario F. (Per)', 'Ortega K. (Per)', 0, 0, 0, 0, 0, 'Legario F. (Per)', 'Barbagelatta G. (Per)', 'Cartagena J. (Per)', 'Villegas H. (Per)', 'Huaman D. (Per)', 'Seminario L. (Per)', 'Alarcon J. (Per)', 'Espinoza M. (Per)', 'Menendez A. (Per)', 0, 0, 0, 0, 0, 'Espinoza J. (Per)', 'Seminario L. (Per)', 'Villegas H. (Per)', 'Ortega K. (Arg)', 'Menendez A. (Per)', 'Ortega K. (Per)', 'Cartagena J. (Per)', 'Garay L. (Per)', 'Perez R. B. (Per)', 0, 0, 0, 0, 0, 'Alarcon J. (Per)', 'Estadio Miguel Grau (Callao)', 'Villegas H. (Per)', 'Cartagena J. (Per)', 'Perez R. B. (Per)', 'Ortega K. (Per)', 'Ordonez E. (Per)', 'Espinoza M. (Per)', 'Estadio Monumental (Lima)', 0, 0, 0, 0, 0, 'Huaman D. (Per)', 'Perez R. B. (Per)', 'Seminario L. (Per)', 'Mendoza J. (Per)', 'Alarcon J. (Per)', 'Ordonez E. (Per)', 'Espinoza J. (Per)', 'Menendez A. (Per)', 'Cartagena J. (Per)', 0, 0, 0, 0, 0, 'Alarcon J. (Per)', 'Zamora J. (Per)', 'Espinoza J. (Per)', 'Seminario L. (Per)', 'Ordonez E. (Per)', 'Lopez P. (Per)', 'Espinoza M. (Per)', 'Alarcon J. (Per)', 0, 0, 0, 0, 0, 0, 'Palomino M. (Per)', 'Legario F. (Per)', 'Espinoza J. (Per)', 'Estadio Huancayo (Huancayo)', 'Espinoza M. (Per)', 'Huaman D. (Per)', 'Perez R. B. (Per)', 'Legario F. (Per)', 'Garay L. (Per)', 0, 0, 0, 0, 0, 'Perez R. B. (Per)', 'Lopez R. (Per)', 'Ordonez E. (Per)', 'Espinoza J. (Per)', 'Huaman D. (Per)', 'Legario F. (Per)', 'Barbagelatta G. (Per)', 'Perez R. B. (Per)', 'Alarcon J. (Per)', 0, 0, 0, 0, 0, 0, 0, 0, 0, 0, 0, 0, 0, 0]\n",
      "\n"
     ]
    },
    {
     "name": "stderr",
     "output_type": "stream",
     "text": [
      "[WDM] - ====== WebDriver manager ======\n",
      "[WDM] - Driver [C:\\Users\\PC-1\\.wdm\\drivers\\chromedriver\\win32\\104.0.5112.79\\chromedriver.exe] found in cache\n",
      "[WDM] - Current google-chrome version is 104.0.5112\n",
      "[WDM] - Get LATEST chromedriver version for 104.0.5112 google-chrome\n",
      "[WDM] - Driver [C:\\Users\\PC-1\\.wdm\\drivers\\chromedriver\\win32\\104.0.5112.79\\chromedriver.exe] found in cache\n",
      "[WDM] - Current google-chrome version is 104.0.5112\n",
      "[WDM] - Get LATEST chromedriver version for 104.0.5112 google-chrome\n",
      "[WDM] - Current google-chrome version is 104.0.5112\n",
      "[WDM] - Get LATEST chromedriver version for 104.0.5112 google-chrome\n",
      "[WDM] - Driver [C:\\Users\\PC-1\\.wdm\\drivers\\chromedriver\\win32\\104.0.5112.79\\chromedriver.exe] found in cache\n",
      "[WDM] - Driver [C:\\Users\\PC-1\\.wdm\\drivers\\chromedriver\\win32\\104.0.5112.79\\chromedriver.exe] found in cache\n"
     ]
    },
    {
     "name": "stdout",
     "output_type": "stream",
     "text": [
      "Termino 190\n",
      "['Perez R. B. (Per)', 'Quiroz J. C. (Per)', 'Villegas H. (Per)', 'Lozano S. (Per)', 'Ortega K. (Per)', 'Menendez A. (Per)', 'Espinoza J. (Per)', 'Vasquez B. (Per)', 'Huamani J. (Per)', 'Lopez Ramos P. (Esp)', 0, 0, 0, 0, 'Cartagena J. (Per)', 'Villegas H. (Per)', 'Cori V. (Per)', 'Villanueva A. (Per)', 'Legario F. (Per)', 'Blas W. (Per)', 'Seminario L. (Per)', 'Perez R. B. (Per)', 'Ureta D. (Per)', 0, 0, 0, 0, 0, 'Espinoza M. (Per)', 'Ordonez E. (Per)', 'Quiroz J. C. (Per)', 'Alarcon J. (Per)', 'Perez R. B. (Per)', 'Espinoza M. (Per)', 'Ortega K. (Per)', 'Ordonez E. (Per)', 'Espinoza J. (Per)', 0, 0, 0, 0, 0, 'Garay Evia L. (Per)', 'Lozano S. (Per)', 'Huaman D. (Per)', 'Vasquez B. (Per)', 'Legario F. (Per)', 'Villegas H. (Per)', 'Garay L. (Per)', 'Ureta D. (Per)', 'Espinoza M. (Per)', 0, 0, 0, 0, 0, 'Alarcon J. (Per)', 'Ciriaco L. (Per)', 'Lozano C. (Arg)', 'Alarcon J. (Per)', 'Perez R. B. (Per)', 'Villegas H. (Per)', 'Seminario L. (Per)', 'Ordonez E. (Per)', 'Cartagena J. (Per)', 0, 0, 0, 0, 0, 'Ureta D. (Per)', 'Garay L. (Per)', 'Quiroz J. (Per)', 'Estadio Inca Garcilaso de la Vega (Cusco)', 'Estadio Iván Elías Moreno (Lima)', 'Zamora J. (Per)', 'Lopez Ramos P. (Esp)', 'Garay L. (Per)', 0, 0, 0, 0, 0, 0, 'Estadio San Martin de Porres (Lima)', 'Alarcon J. (Per)', 'Perez R. B. (Per)', 'Villanueva A. (Per)', 'Villegas H. (Per)', 'Lopez P. (Per)', 'Ortega K. (Per)', 0, 0, 0, 0, 0, 0, 0, 'Alarcon J. (Per)', 'Ortega K. (Per)', 'Ureta D. (Per)', 'Seminario L. (Per)', 'Lozano Segado J. (Esp)', 'Barbagelatta G. (Per)', 'Perez R. B. (Per)', 'Legario F. (Per)', 'Ortega K. (Per)', 0, 0, 0, 0, 0, 'Legario F. (Per)', 'Barbagelatta G. (Per)', 'Cartagena J. (Per)', 'Villegas H. (Per)', 'Huaman D. (Per)', 'Seminario L. (Per)', 'Alarcon J. (Per)', 'Espinoza M. (Per)', 'Menendez A. (Per)', 0, 0, 0, 0, 0, 'Espinoza J. (Per)', 'Seminario L. (Per)', 'Villegas H. (Per)', 'Ortega K. (Arg)', 'Menendez A. (Per)', 'Ortega K. (Per)', 'Cartagena J. (Per)', 'Garay L. (Per)', 'Perez R. B. (Per)', 0, 0, 0, 0, 0, 'Alarcon J. (Per)', 'Estadio Miguel Grau (Callao)', 'Villegas H. (Per)', 'Cartagena J. (Per)', 'Perez R. B. (Per)', 'Ortega K. (Per)', 'Ordonez E. (Per)', 'Espinoza M. (Per)', 'Estadio Monumental (Lima)', 0, 0, 0, 0, 0, 'Huaman D. (Per)', 'Perez R. B. (Per)', 'Seminario L. (Per)', 'Mendoza J. (Per)', 'Alarcon J. (Per)', 'Ordonez E. (Per)', 'Espinoza J. (Per)', 'Menendez A. (Per)', 'Cartagena J. (Per)', 0, 0, 0, 0, 0, 'Alarcon J. (Per)', 'Zamora J. (Per)', 'Espinoza J. (Per)', 'Seminario L. (Per)', 'Ordonez E. (Per)', 'Lopez P. (Per)', 'Espinoza M. (Per)', 'Alarcon J. (Per)', 0, 0, 0, 0, 0, 0, 'Palomino M. (Per)', 'Legario F. (Per)', 'Espinoza J. (Per)', 'Estadio Huancayo (Huancayo)', 'Espinoza M. (Per)', 'Huaman D. (Per)', 'Perez R. B. (Per)', 'Legario F. (Per)', 'Garay L. (Per)', 0, 0, 0, 0, 0, 'Perez R. B. (Per)', 'Lopez R. (Per)', 'Ordonez E. (Per)', 'Espinoza J. (Per)', 'Huaman D. (Per)', 'Legario F. (Per)', 'Barbagelatta G. (Per)', 'Perez R. B. (Per)', 'Alarcon J. (Per)', 0, 0, 0, 0, 0, 0, 0, 0, 0, 0, 0, 0, 0, 0]\n",
      "\n"
     ]
    },
    {
     "name": "stderr",
     "output_type": "stream",
     "text": [
      "[WDM] - ====== WebDriver manager ======\n",
      "[WDM] - Current google-chrome version is 104.0.5112\n",
      "[WDM] - Get LATEST chromedriver version for 104.0.5112 google-chrome\n",
      "[WDM] - Driver [C:\\Users\\PC-1\\.wdm\\drivers\\chromedriver\\win32\\104.0.5112.79\\chromedriver.exe] found in cache\n"
     ]
    },
    {
     "name": "stdout",
     "output_type": "stream",
     "text": [
      "Termino 51\n",
      "['Perez R. B. (Per)', 'Quiroz J. C. (Per)', 'Villegas H. (Per)', 'Lozano S. (Per)', 'Ortega K. (Per)', 'Menendez A. (Per)', 'Espinoza J. (Per)', 'Vasquez B. (Per)', 'Huamani J. (Per)', 'Lopez Ramos P. (Esp)', 0, 0, 0, 0, 'Cartagena J. (Per)', 'Villegas H. (Per)', 'Cori V. (Per)', 'Villanueva A. (Per)', 'Legario F. (Per)', 'Blas W. (Per)', 'Seminario L. (Per)', 'Perez R. B. (Per)', 'Ureta D. (Per)', 'Lozano S. (Per)', 0, 0, 0, 0, 'Espinoza M. (Per)', 'Ordonez E. (Per)', 'Quiroz J. C. (Per)', 'Alarcon J. (Per)', 'Perez R. B. (Per)', 'Espinoza M. (Per)', 'Ortega K. (Per)', 'Ordonez E. (Per)', 'Espinoza J. (Per)', 0, 0, 0, 0, 0, 'Garay Evia L. (Per)', 'Lozano S. (Per)', 'Huaman D. (Per)', 'Vasquez B. (Per)', 'Legario F. (Per)', 'Villegas H. (Per)', 'Garay L. (Per)', 'Ureta D. (Per)', 'Espinoza M. (Per)', 'Cartagena J. (Per)', 0, 0, 0, 0, 'Alarcon J. (Per)', 'Ciriaco L. (Per)', 'Lozano C. (Arg)', 'Alarcon J. (Per)', 'Perez R. B. (Per)', 'Villegas H. (Per)', 'Seminario L. (Per)', 'Ordonez E. (Per)', 'Cartagena J. (Per)', 'Chambi J. (Per)', 0, 0, 0, 0, 'Ureta D. (Per)', 'Garay L. (Per)', 'Quiroz J. (Per)', 'Estadio Inca Garcilaso de la Vega (Cusco)', 'Estadio Iván Elías Moreno (Lima)', 'Zamora J. (Per)', 'Lopez Ramos P. (Esp)', 'Garay L. (Per)', 0, 0, 0, 0, 0, 0, 'Estadio San Martin de Porres (Lima)', 'Alarcon J. (Per)', 'Perez R. B. (Per)', 'Villanueva A. (Per)', 'Villegas H. (Per)', 'Lopez P. (Per)', 'Ortega K. (Per)', 0, 0, 0, 0, 0, 0, 0, 'Alarcon J. (Per)', 'Ortega K. (Per)', 'Ureta D. (Per)', 'Seminario L. (Per)', 'Lozano Segado J. (Esp)', 'Barbagelatta G. (Per)', 'Perez R. B. (Per)', 'Legario F. (Per)', 'Ortega K. (Per)', 'Alarcon J. (Per)', 0, 0, 0, 0, 'Legario F. (Per)', 'Barbagelatta G. (Per)', 'Cartagena J. (Per)', 'Villegas H. (Per)', 'Huaman D. (Per)', 'Seminario L. (Per)', 'Alarcon J. (Per)', 'Espinoza M. (Per)', 'Menendez A. (Per)', 0, 0, 0, 0, 0, 'Espinoza J. (Per)', 'Seminario L. (Per)', 'Villegas H. (Per)', 'Ortega K. (Arg)', 'Menendez A. (Per)', 'Ortega K. (Per)', 'Cartagena J. (Per)', 'Garay L. (Per)', 'Perez R. B. (Per)', 0, 0, 0, 0, 0, 'Alarcon J. (Per)', 'Estadio Miguel Grau (Callao)', 'Villegas H. (Per)', 'Cartagena J. (Per)', 'Perez R. B. (Per)', 'Ortega K. (Per)', 'Ordonez E. (Per)', 'Espinoza M. (Per)', 'Estadio Monumental (Lima)', 0, 0, 0, 0, 0, 'Huaman D. (Per)', 'Perez R. B. (Per)', 'Seminario L. (Per)', 'Mendoza J. (Per)', 'Alarcon J. (Per)', 'Ordonez E. (Per)', 'Espinoza J. (Per)', 'Menendez A. (Per)', 'Cartagena J. (Per)', 0, 0, 0, 0, 0, 'Alarcon J. (Per)', 'Zamora J. (Per)', 'Espinoza J. (Per)', 'Seminario L. (Per)', 'Ordonez E. (Per)', 'Lopez P. (Per)', 'Espinoza M. (Per)', 'Alarcon J. (Per)', 0, 0, 0, 0, 0, 0, 'Palomino M. (Per)', 'Legario F. (Per)', 'Espinoza J. (Per)', 'Estadio Huancayo (Huancayo)', 'Espinoza M. (Per)', 'Huaman D. (Per)', 'Perez R. B. (Per)', 'Legario F. (Per)', 'Garay L. (Per)', 0, 0, 0, 0, 0, 'Perez R. B. (Per)', 'Lopez R. (Per)', 'Ordonez E. (Per)', 'Espinoza J. (Per)', 'Huaman D. (Per)', 'Legario F. (Per)', 'Barbagelatta G. (Per)', 'Perez R. B. (Per)', 'Alarcon J. (Per)', 0, 0, 0, 0, 0, 0, 0, 0, 0, 0, 0, 0, 0, 0]\n",
      "\n"
     ]
    },
    {
     "name": "stderr",
     "output_type": "stream",
     "text": [
      "[WDM] - ====== WebDriver manager ======\n",
      "[WDM] - Current google-chrome version is 104.0.5112\n",
      "[WDM] - Get LATEST chromedriver version for 104.0.5112 google-chrome\n",
      "[WDM] - Driver [C:\\Users\\PC-1\\.wdm\\drivers\\chromedriver\\win32\\104.0.5112.79\\chromedriver.exe] found in cache\n"
     ]
    },
    {
     "name": "stdout",
     "output_type": "stream",
     "text": [
      "Termino 65\n",
      "['Perez R. B. (Per)', 'Quiroz J. C. (Per)', 'Villegas H. (Per)', 'Lozano S. (Per)', 'Ortega K. (Per)', 'Menendez A. (Per)', 'Espinoza J. (Per)', 'Vasquez B. (Per)', 'Huamani J. (Per)', 'Lopez Ramos P. (Esp)', 0, 0, 0, 0, 'Cartagena J. (Per)', 'Villegas H. (Per)', 'Cori V. (Per)', 'Villanueva A. (Per)', 'Legario F. (Per)', 'Blas W. (Per)', 'Seminario L. (Per)', 'Perez R. B. (Per)', 'Ureta D. (Per)', 'Lozano S. (Per)', 0, 0, 0, 0, 'Espinoza M. (Per)', 'Ordonez E. (Per)', 'Quiroz J. C. (Per)', 'Alarcon J. (Per)', 'Perez R. B. (Per)', 'Espinoza M. (Per)', 'Ortega K. (Per)', 'Ordonez E. (Per)', 'Espinoza J. (Per)', 0, 0, 0, 0, 0, 'Garay Evia L. (Per)', 'Lozano S. (Per)', 'Huaman D. (Per)', 'Vasquez B. (Per)', 'Legario F. (Per)', 'Villegas H. (Per)', 'Garay L. (Per)', 'Ureta D. (Per)', 'Espinoza M. (Per)', 'Cartagena J. (Per)', 0, 0, 0, 0, 'Alarcon J. (Per)', 'Ciriaco L. (Per)', 'Lozano C. (Arg)', 'Alarcon J. (Per)', 'Perez R. B. (Per)', 'Villegas H. (Per)', 'Seminario L. (Per)', 'Ordonez E. (Per)', 'Cartagena J. (Per)', 'Chambi J. (Per)', 0, 0, 0, 0, 'Ureta D. (Per)', 'Garay L. (Per)', 'Quiroz J. (Per)', 'Estadio Inca Garcilaso de la Vega (Cusco)', 'Estadio Iván Elías Moreno (Lima)', 'Zamora J. (Per)', 'Lopez Ramos P. (Esp)', 'Garay L. (Per)', 'Perez R. B. (Per)', 0, 0, 0, 0, 0, 'Estadio San Martin de Porres (Lima)', 'Alarcon J. (Per)', 'Perez R. B. (Per)', 'Villanueva A. (Per)', 'Villegas H. (Per)', 'Lopez P. (Per)', 'Ortega K. (Per)', 0, 0, 0, 0, 0, 0, 0, 'Alarcon J. (Per)', 'Ortega K. (Per)', 'Ureta D. (Per)', 'Seminario L. (Per)', 'Lozano Segado J. (Esp)', 'Barbagelatta G. (Per)', 'Perez R. B. (Per)', 'Legario F. (Per)', 'Ortega K. (Per)', 'Alarcon J. (Per)', 0, 0, 0, 0, 'Legario F. (Per)', 'Barbagelatta G. (Per)', 'Cartagena J. (Per)', 'Villegas H. (Per)', 'Huaman D. (Per)', 'Seminario L. (Per)', 'Alarcon J. (Per)', 'Espinoza M. (Per)', 'Menendez A. (Per)', 0, 0, 0, 0, 0, 'Espinoza J. (Per)', 'Seminario L. (Per)', 'Villegas H. (Per)', 'Ortega K. (Arg)', 'Menendez A. (Per)', 'Ortega K. (Per)', 'Cartagena J. (Per)', 'Garay L. (Per)', 'Perez R. B. (Per)', 'Ordonez E. (Per)', 0, 0, 0, 0, 'Alarcon J. (Per)', 'Estadio Miguel Grau (Callao)', 'Villegas H. (Per)', 'Cartagena J. (Per)', 'Perez R. B. (Per)', 'Ortega K. (Per)', 'Ordonez E. (Per)', 'Espinoza M. (Per)', 'Estadio Monumental (Lima)', 0, 0, 0, 0, 0, 'Huaman D. (Per)', 'Perez R. B. (Per)', 'Seminario L. (Per)', 'Mendoza J. (Per)', 'Alarcon J. (Per)', 'Ordonez E. (Per)', 'Espinoza J. (Per)', 'Menendez A. (Per)', 'Cartagena J. (Per)', 0, 0, 0, 0, 0, 'Alarcon J. (Per)', 'Zamora J. (Per)', 'Espinoza J. (Per)', 'Seminario L. (Per)', 'Ordonez E. (Per)', 'Lopez P. (Per)', 'Espinoza M. (Per)', 'Alarcon J. (Per)', 0, 0, 0, 0, 0, 0, 'Palomino M. (Per)', 'Legario F. (Per)', 'Espinoza J. (Per)', 'Estadio Huancayo (Huancayo)', 'Espinoza M. (Per)', 'Huaman D. (Per)', 'Perez R. B. (Per)', 'Legario F. (Per)', 'Garay L. (Per)', 0, 0, 0, 0, 0, 'Perez R. B. (Per)', 'Lopez R. (Per)', 'Ordonez E. (Per)', 'Espinoza J. (Per)', 'Huaman D. (Per)', 'Legario F. (Per)', 'Barbagelatta G. (Per)', 'Perez R. B. (Per)', 'Alarcon J. (Per)', 0, 0, 0, 0, 0, 0, 0, 0, 0, 0, 0, 0, 0, 0]\n",
      "\n"
     ]
    },
    {
     "name": "stderr",
     "output_type": "stream",
     "text": [
      "[WDM] - ====== WebDriver manager ======\n"
     ]
    },
    {
     "name": "stdout",
     "output_type": "stream",
     "text": [
      "Termino 23\n",
      "['Perez R. B. (Per)', 'Quiroz J. C. (Per)', 'Villegas H. (Per)', 'Lozano S. (Per)', 'Ortega K. (Per)', 'Menendez A. (Per)', 'Espinoza J. (Per)', 'Vasquez B. (Per)', 'Huamani J. (Per)', 'Lopez Ramos P. (Esp)', 0, 0, 0, 0, 'Cartagena J. (Per)', 'Villegas H. (Per)', 'Cori V. (Per)', 'Villanueva A. (Per)', 'Legario F. (Per)', 'Blas W. (Per)', 'Seminario L. (Per)', 'Perez R. B. (Per)', 'Ureta D. (Per)', 'Lozano S. (Per)', 0, 0, 0, 0, 'Espinoza M. (Per)', 'Ordonez E. (Per)', 'Quiroz J. C. (Per)', 'Alarcon J. (Per)', 'Perez R. B. (Per)', 'Espinoza M. (Per)', 'Ortega K. (Per)', 'Ordonez E. (Per)', 'Espinoza J. (Per)', 0, 0, 0, 0, 0, 'Garay Evia L. (Per)', 'Lozano S. (Per)', 'Huaman D. (Per)', 'Vasquez B. (Per)', 'Legario F. (Per)', 'Villegas H. (Per)', 'Garay L. (Per)', 'Ureta D. (Per)', 'Espinoza M. (Per)', 'Cartagena J. (Per)', 0, 0, 0, 0, 'Alarcon J. (Per)', 'Ciriaco L. (Per)', 'Lozano C. (Arg)', 'Alarcon J. (Per)', 'Perez R. B. (Per)', 'Villegas H. (Per)', 'Seminario L. (Per)', 'Ordonez E. (Per)', 'Cartagena J. (Per)', 'Chambi J. (Per)', 0, 0, 0, 0, 'Ureta D. (Per)', 'Garay L. (Per)', 'Quiroz J. (Per)', 'Estadio Inca Garcilaso de la Vega (Cusco)', 'Estadio Iván Elías Moreno (Lima)', 'Zamora J. (Per)', 'Lopez Ramos P. (Esp)', 'Garay L. (Per)', 'Perez R. B. (Per)', 0, 0, 0, 0, 0, 'Estadio San Martin de Porres (Lima)', 'Alarcon J. (Per)', 'Perez R. B. (Per)', 'Villanueva A. (Per)', 'Villegas H. (Per)', 'Lopez P. (Per)', 'Ortega K. (Per)', 0, 0, 0, 0, 0, 0, 0, 'Alarcon J. (Per)', 'Ortega K. (Per)', 'Ureta D. (Per)', 'Seminario L. (Per)', 'Lozano Segado J. (Esp)', 'Barbagelatta G. (Per)', 'Perez R. B. (Per)', 'Legario F. (Per)', 'Ortega K. (Per)', 'Alarcon J. (Per)', 0, 0, 0, 0, 'Legario F. (Per)', 'Barbagelatta G. (Per)', 'Cartagena J. (Per)', 'Villegas H. (Per)', 'Huaman D. (Per)', 'Seminario L. (Per)', 'Alarcon J. (Per)', 'Espinoza M. (Per)', 'Menendez A. (Per)', 0, 0, 0, 0, 0, 'Espinoza J. (Per)', 'Seminario L. (Per)', 'Villegas H. (Per)', 'Ortega K. (Arg)', 'Menendez A. (Per)', 'Ortega K. (Per)', 'Cartagena J. (Per)', 'Garay L. (Per)', 'Perez R. B. (Per)', 'Ordonez E. (Per)', 0, 0, 0, 0, 'Alarcon J. (Per)', 'Estadio Miguel Grau (Callao)', 'Villegas H. (Per)', 'Cartagena J. (Per)', 'Perez R. B. (Per)', 'Ortega K. (Per)', 'Ordonez E. (Per)', 'Espinoza M. (Per)', 'Estadio Monumental (Lima)', 0, 0, 0, 0, 0, 'Huaman D. (Per)', 'Perez R. B. (Per)', 'Seminario L. (Per)', 'Mendoza J. (Per)', 'Alarcon J. (Per)', 'Ordonez E. (Per)', 'Espinoza J. (Per)', 'Menendez A. (Per)', 'Cartagena J. (Per)', 0, 0, 0, 0, 0, 'Alarcon J. (Per)', 'Zamora J. (Per)', 'Espinoza J. (Per)', 'Seminario L. (Per)', 'Ordonez E. (Per)', 'Lopez P. (Per)', 'Espinoza M. (Per)', 'Alarcon J. (Per)', 0, 0, 0, 0, 0, 0, 'Palomino M. (Per)', 'Legario F. (Per)', 'Espinoza J. (Per)', 'Estadio Huancayo (Huancayo)', 'Espinoza M. (Per)', 'Huaman D. (Per)', 'Perez R. B. (Per)', 'Legario F. (Per)', 'Garay L. (Per)', 0, 0, 0, 0, 0, 'Perez R. B. (Per)', 'Lopez R. (Per)', 'Ordonez E. (Per)', 'Espinoza J. (Per)', 'Huaman D. (Per)', 'Legario F. (Per)', 'Barbagelatta G. (Per)', 'Perez R. B. (Per)', 'Alarcon J. (Per)', 0, 0, 0, 0, 0, 0, 0, 0, 0, 0, 0, 0, 0, 0]\n",
      "\n"
     ]
    },
    {
     "name": "stderr",
     "output_type": "stream",
     "text": [
      "[WDM] - ====== WebDriver manager ======\n",
      "[WDM] - Current google-chrome version is 104.0.5112\n",
      "[WDM] - Get LATEST chromedriver version for 104.0.5112 google-chrome\n",
      "[WDM] - Driver [C:\\Users\\PC-1\\.wdm\\drivers\\chromedriver\\win32\\104.0.5112.79\\chromedriver.exe] found in cache\n",
      "[WDM] - Current google-chrome version is 104.0.5112\n",
      "[WDM] - Get LATEST chromedriver version for 104.0.5112 google-chrome\n",
      "[WDM] - Driver [C:\\Users\\PC-1\\.wdm\\drivers\\chromedriver\\win32\\104.0.5112.79\\chromedriver.exe] found in cache\n"
     ]
    },
    {
     "name": "stdout",
     "output_type": "stream",
     "text": [
      "Termino 107\n",
      "['Perez R. B. (Per)', 'Quiroz J. C. (Per)', 'Villegas H. (Per)', 'Lozano S. (Per)', 'Ortega K. (Per)', 'Menendez A. (Per)', 'Espinoza J. (Per)', 'Vasquez B. (Per)', 'Huamani J. (Per)', 'Lopez Ramos P. (Esp)', 0, 0, 0, 0, 'Cartagena J. (Per)', 'Villegas H. (Per)', 'Cori V. (Per)', 'Villanueva A. (Per)', 'Legario F. (Per)', 'Blas W. (Per)', 'Seminario L. (Per)', 'Perez R. B. (Per)', 'Ureta D. (Per)', 'Lozano S. (Per)', 0, 0, 0, 0, 'Espinoza M. (Per)', 'Ordonez E. (Per)', 'Quiroz J. C. (Per)', 'Alarcon J. (Per)', 'Perez R. B. (Per)', 'Espinoza M. (Per)', 'Ortega K. (Per)', 'Ordonez E. (Per)', 'Espinoza J. (Per)', 'Huamani J. (Per)', 0, 0, 0, 0, 'Garay Evia L. (Per)', 'Lozano S. (Per)', 'Huaman D. (Per)', 'Vasquez B. (Per)', 'Legario F. (Per)', 'Villegas H. (Per)', 'Garay L. (Per)', 'Ureta D. (Per)', 'Espinoza M. (Per)', 'Cartagena J. (Per)', 0, 0, 0, 0, 'Alarcon J. (Per)', 'Ciriaco L. (Per)', 'Lozano C. (Arg)', 'Alarcon J. (Per)', 'Perez R. B. (Per)', 'Villegas H. (Per)', 'Seminario L. (Per)', 'Ordonez E. (Per)', 'Cartagena J. (Per)', 'Chambi J. (Per)', 0, 0, 0, 0, 'Ureta D. (Per)', 'Garay L. (Per)', 'Quiroz J. (Per)', 'Estadio Inca Garcilaso de la Vega (Cusco)', 'Estadio Iván Elías Moreno (Lima)', 'Zamora J. (Per)', 'Lopez Ramos P. (Esp)', 'Garay L. (Per)', 'Perez R. B. (Per)', 0, 0, 0, 0, 0, 'Estadio San Martin de Porres (Lima)', 'Alarcon J. (Per)', 'Perez R. B. (Per)', 'Villanueva A. (Per)', 'Villegas H. (Per)', 'Lopez P. (Per)', 'Ortega K. (Per)', 'Zamora J. (Per)', 0, 0, 0, 0, 0, 0, 'Alarcon J. (Per)', 'Ortega K. (Per)', 'Ureta D. (Per)', 'Seminario L. (Per)', 'Lozano Segado J. (Esp)', 'Barbagelatta G. (Per)', 'Perez R. B. (Per)', 'Legario F. (Per)', 'Ortega K. (Per)', 'Alarcon J. (Per)', 0, 0, 0, 0, 'Legario F. (Per)', 'Barbagelatta G. (Per)', 'Cartagena J. (Per)', 'Villegas H. (Per)', 'Huaman D. (Per)', 'Seminario L. (Per)', 'Alarcon J. (Per)', 'Espinoza M. (Per)', 'Menendez A. (Per)', 0, 0, 0, 0, 0, 'Espinoza J. (Per)', 'Seminario L. (Per)', 'Villegas H. (Per)', 'Ortega K. (Arg)', 'Menendez A. (Per)', 'Ortega K. (Per)', 'Cartagena J. (Per)', 'Garay L. (Per)', 'Perez R. B. (Per)', 'Ordonez E. (Per)', 0, 0, 0, 0, 'Alarcon J. (Per)', 'Estadio Miguel Grau (Callao)', 'Villegas H. (Per)', 'Cartagena J. (Per)', 'Perez R. B. (Per)', 'Ortega K. (Per)', 'Ordonez E. (Per)', 'Espinoza M. (Per)', 'Estadio Monumental (Lima)', 0, 0, 0, 0, 0, 'Huaman D. (Per)', 'Perez R. B. (Per)', 'Seminario L. (Per)', 'Mendoza J. (Per)', 'Alarcon J. (Per)', 'Ordonez E. (Per)', 'Espinoza J. (Per)', 'Menendez A. (Per)', 'Cartagena J. (Per)', 'Perez R. B. (Per)', 0, 0, 0, 0, 'Alarcon J. (Per)', 'Zamora J. (Per)', 'Espinoza J. (Per)', 'Seminario L. (Per)', 'Ordonez E. (Per)', 'Lopez P. (Per)', 'Espinoza M. (Per)', 'Alarcon J. (Per)', 0, 0, 0, 0, 0, 0, 'Palomino M. (Per)', 'Legario F. (Per)', 'Espinoza J. (Per)', 'Estadio Huancayo (Huancayo)', 'Espinoza M. (Per)', 'Huaman D. (Per)', 'Perez R. B. (Per)', 'Legario F. (Per)', 'Garay L. (Per)', 0, 0, 0, 0, 0, 'Perez R. B. (Per)', 'Lopez R. (Per)', 'Ordonez E. (Per)', 'Espinoza J. (Per)', 'Huaman D. (Per)', 'Legario F. (Per)', 'Barbagelatta G. (Per)', 'Perez R. B. (Per)', 'Alarcon J. (Per)', 'Espinoza M. (Per)', 0, 0, 0, 0, 0, 0, 0, 0, 0, 0, 0, 0, 0]\n",
      "\n"
     ]
    },
    {
     "name": "stderr",
     "output_type": "stream",
     "text": [
      "[WDM] - ====== WebDriver manager ======\n",
      "[WDM] - Current google-chrome version is 104.0.5112\n",
      "[WDM] - Get LATEST chromedriver version for 104.0.5112 google-chrome\n",
      "[WDM] - Driver [C:\\Users\\PC-1\\.wdm\\drivers\\chromedriver\\win32\\104.0.5112.79\\chromedriver.exe] found in cache\n"
     ]
    },
    {
     "name": "stdout",
     "output_type": "stream",
     "text": [
      "Termino 205\n",
      "['Perez R. B. (Per)', 'Quiroz J. C. (Per)', 'Villegas H. (Per)', 'Lozano S. (Per)', 'Ortega K. (Per)', 'Menendez A. (Per)', 'Espinoza J. (Per)', 'Vasquez B. (Per)', 'Huamani J. (Per)', 'Lopez Ramos P. (Esp)', 'Garay L. (Per)', 0, 0, 0, 'Cartagena J. (Per)', 'Villegas H. (Per)', 'Cori V. (Per)', 'Villanueva A. (Per)', 'Legario F. (Per)', 'Blas W. (Per)', 'Seminario L. (Per)', 'Perez R. B. (Per)', 'Ureta D. (Per)', 'Lozano S. (Per)', 0, 0, 0, 0, 'Espinoza M. (Per)', 'Ordonez E. (Per)', 'Quiroz J. C. (Per)', 'Alarcon J. (Per)', 'Perez R. B. (Per)', 'Espinoza M. (Per)', 'Ortega K. (Per)', 'Ordonez E. (Per)', 'Espinoza J. (Per)', 'Huamani J. (Per)', 0, 0, 0, 0, 'Garay Evia L. (Per)', 'Lozano S. (Per)', 'Huaman D. (Per)', 'Vasquez B. (Per)', 'Legario F. (Per)', 'Villegas H. (Per)', 'Garay L. (Per)', 'Ureta D. (Per)', 'Espinoza M. (Per)', 'Cartagena J. (Per)', 0, 0, 0, 0, 'Alarcon J. (Per)', 'Ciriaco L. (Per)', 'Lozano C. (Arg)', 'Alarcon J. (Per)', 'Perez R. B. (Per)', 'Villegas H. (Per)', 'Seminario L. (Per)', 'Ordonez E. (Per)', 'Cartagena J. (Per)', 'Chambi J. (Per)', 0, 0, 0, 0, 'Ureta D. (Per)', 'Garay L. (Per)', 'Quiroz J. (Per)', 'Estadio Inca Garcilaso de la Vega (Cusco)', 'Estadio Iván Elías Moreno (Lima)', 'Zamora J. (Per)', 'Lopez Ramos P. (Esp)', 'Garay L. (Per)', 'Perez R. B. (Per)', 0, 0, 0, 0, 0, 'Estadio San Martin de Porres (Lima)', 'Alarcon J. (Per)', 'Perez R. B. (Per)', 'Villanueva A. (Per)', 'Villegas H. (Per)', 'Lopez P. (Per)', 'Ortega K. (Per)', 'Zamora J. (Per)', 0, 0, 0, 0, 0, 0, 'Alarcon J. (Per)', 'Ortega K. (Per)', 'Ureta D. (Per)', 'Seminario L. (Per)', 'Lozano Segado J. (Esp)', 'Barbagelatta G. (Per)', 'Perez R. B. (Per)', 'Legario F. (Per)', 'Ortega K. (Per)', 'Alarcon J. (Per)', 0, 0, 0, 0, 'Legario F. (Per)', 'Barbagelatta G. (Per)', 'Cartagena J. (Per)', 'Villegas H. (Per)', 'Huaman D. (Per)', 'Seminario L. (Per)', 'Alarcon J. (Per)', 'Espinoza M. (Per)', 'Menendez A. (Per)', 'Espinoza M. (Per)', 0, 0, 0, 0, 'Espinoza J. (Per)', 'Seminario L. (Per)', 'Villegas H. (Per)', 'Ortega K. (Arg)', 'Menendez A. (Per)', 'Ortega K. (Per)', 'Cartagena J. (Per)', 'Garay L. (Per)', 'Perez R. B. (Per)', 'Ordonez E. (Per)', 0, 0, 0, 0, 'Alarcon J. (Per)', 'Estadio Miguel Grau (Callao)', 'Villegas H. (Per)', 'Cartagena J. (Per)', 'Perez R. B. (Per)', 'Ortega K. (Per)', 'Ordonez E. (Per)', 'Espinoza M. (Per)', 'Estadio Monumental (Lima)', 'Alarcon J. (Per)', 0, 0, 0, 0, 'Huaman D. (Per)', 'Perez R. B. (Per)', 'Seminario L. (Per)', 'Mendoza J. (Per)', 'Alarcon J. (Per)', 'Ordonez E. (Per)', 'Espinoza J. (Per)', 'Menendez A. (Per)', 'Cartagena J. (Per)', 'Perez R. B. (Per)', 0, 0, 0, 0, 'Alarcon J. (Per)', 'Zamora J. (Per)', 'Espinoza J. (Per)', 'Seminario L. (Per)', 'Ordonez E. (Per)', 'Lopez P. (Per)', 'Espinoza M. (Per)', 'Alarcon J. (Per)', 'Barbagelatta G. (Per)', 0, 0, 0, 0, 0, 'Palomino M. (Per)', 'Legario F. (Per)', 'Espinoza J. (Per)', 'Estadio Huancayo (Huancayo)', 'Espinoza M. (Per)', 'Huaman D. (Per)', 'Perez R. B. (Per)', 'Legario F. (Per)', 'Garay L. (Per)', 0, 0, 0, 0, 0, 'Perez R. B. (Per)', 'Lopez R. (Per)', 'Ordonez E. (Per)', 'Espinoza J. (Per)', 'Huaman D. (Per)', 'Legario F. (Per)', 'Barbagelatta G. (Per)', 'Perez R. B. (Per)', 'Alarcon J. (Per)', 'Espinoza M. (Per)', 0, 0, 0, 0, 0, 0, 0, 0, 0, 0, 0, 0, 0]\n",
      "\n"
     ]
    },
    {
     "name": "stderr",
     "output_type": "stream",
     "text": [
      "[WDM] - ====== WebDriver manager ======\n",
      "[WDM] - Current google-chrome version is 104.0.5112\n",
      "[WDM] - Get LATEST chromedriver version for 104.0.5112 google-chrome\n"
     ]
    },
    {
     "name": "stdout",
     "output_type": "stream",
     "text": [
      "Termino 135\n",
      "['Perez R. B. (Per)', 'Quiroz J. C. (Per)', 'Villegas H. (Per)', 'Lozano S. (Per)', 'Ortega K. (Per)', 'Menendez A. (Per)', 'Espinoza J. (Per)', 'Vasquez B. (Per)', 'Huamani J. (Per)', 'Lopez Ramos P. (Esp)', 'Garay L. (Per)', 0, 0, 0, 'Cartagena J. (Per)', 'Villegas H. (Per)', 'Cori V. (Per)', 'Villanueva A. (Per)', 'Legario F. (Per)', 'Blas W. (Per)', 'Seminario L. (Per)', 'Perez R. B. (Per)', 'Ureta D. (Per)', 'Lozano S. (Per)', 0, 0, 0, 0, 'Espinoza M. (Per)', 'Ordonez E. (Per)', 'Quiroz J. C. (Per)', 'Alarcon J. (Per)', 'Perez R. B. (Per)', 'Espinoza M. (Per)', 'Ortega K. (Per)', 'Ordonez E. (Per)', 'Espinoza J. (Per)', 'Huamani J. (Per)', 0, 0, 0, 0, 'Garay Evia L. (Per)', 'Lozano S. (Per)', 'Huaman D. (Per)', 'Vasquez B. (Per)', 'Legario F. (Per)', 'Villegas H. (Per)', 'Garay L. (Per)', 'Ureta D. (Per)', 'Espinoza M. (Per)', 'Cartagena J. (Per)', 0, 0, 0, 0, 'Alarcon J. (Per)', 'Ciriaco L. (Per)', 'Lozano C. (Arg)', 'Alarcon J. (Per)', 'Perez R. B. (Per)', 'Villegas H. (Per)', 'Seminario L. (Per)', 'Ordonez E. (Per)', 'Cartagena J. (Per)', 'Chambi J. (Per)', 0, 0, 0, 0, 'Ureta D. (Per)', 'Garay L. (Per)', 'Quiroz J. (Per)', 'Estadio Inca Garcilaso de la Vega (Cusco)', 'Estadio Iván Elías Moreno (Lima)', 'Zamora J. (Per)', 'Lopez Ramos P. (Esp)', 'Garay L. (Per)', 'Perez R. B. (Per)', 0, 0, 0, 0, 0, 'Estadio San Martin de Porres (Lima)', 'Alarcon J. (Per)', 'Perez R. B. (Per)', 'Villanueva A. (Per)', 'Villegas H. (Per)', 'Lopez P. (Per)', 'Ortega K. (Per)', 'Zamora J. (Per)', 0, 0, 0, 0, 0, 0, 'Alarcon J. (Per)', 'Ortega K. (Per)', 'Ureta D. (Per)', 'Seminario L. (Per)', 'Lozano Segado J. (Esp)', 'Barbagelatta G. (Per)', 'Perez R. B. (Per)', 'Legario F. (Per)', 'Ortega K. (Per)', 'Alarcon J. (Per)', 0, 0, 0, 0, 'Legario F. (Per)', 'Barbagelatta G. (Per)', 'Cartagena J. (Per)', 'Villegas H. (Per)', 'Huaman D. (Per)', 'Seminario L. (Per)', 'Alarcon J. (Per)', 'Espinoza M. (Per)', 'Menendez A. (Per)', 'Espinoza M. (Per)', 0, 0, 0, 0, 'Espinoza J. (Per)', 'Seminario L. (Per)', 'Villegas H. (Per)', 'Ortega K. (Arg)', 'Menendez A. (Per)', 'Ortega K. (Per)', 'Cartagena J. (Per)', 'Garay L. (Per)', 'Perez R. B. (Per)', 'Ordonez E. (Per)', 0, 0, 0, 0, 'Alarcon J. (Per)', 'Estadio Miguel Grau (Callao)', 'Villegas H. (Per)', 'Cartagena J. (Per)', 'Perez R. B. (Per)', 'Ortega K. (Per)', 'Ordonez E. (Per)', 'Espinoza M. (Per)', 'Estadio Monumental (Lima)', 'Alarcon J. (Per)', 0, 0, 0, 0, 'Huaman D. (Per)', 'Perez R. B. (Per)', 'Seminario L. (Per)', 'Mendoza J. (Per)', 'Alarcon J. (Per)', 'Ordonez E. (Per)', 'Espinoza J. (Per)', 'Menendez A. (Per)', 'Cartagena J. (Per)', 'Perez R. B. (Per)', 0, 0, 0, 0, 'Alarcon J. (Per)', 'Zamora J. (Per)', 'Espinoza J. (Per)', 'Seminario L. (Per)', 'Ordonez E. (Per)', 'Lopez P. (Per)', 'Espinoza M. (Per)', 'Alarcon J. (Per)', 'Barbagelatta G. (Per)', 0, 0, 0, 0, 0, 'Palomino M. (Per)', 'Legario F. (Per)', 'Espinoza J. (Per)', 'Estadio Huancayo (Huancayo)', 'Espinoza M. (Per)', 'Huaman D. (Per)', 'Perez R. B. (Per)', 'Legario F. (Per)', 'Garay L. (Per)', 0, 0, 0, 0, 0, 'Perez R. B. (Per)', 'Lopez R. (Per)', 'Ordonez E. (Per)', 'Espinoza J. (Per)', 'Huaman D. (Per)', 'Legario F. (Per)', 'Barbagelatta G. (Per)', 'Perez R. B. (Per)', 'Alarcon J. (Per)', 'Espinoza M. (Per)', 0, 0, 0, 0, 0, 0, 0, 0, 0, 0, 0, 0, 0]\n",
      "\n"
     ]
    },
    {
     "name": "stderr",
     "output_type": "stream",
     "text": [
      "[WDM] - ====== WebDriver manager ======\n",
      "[WDM] - Driver [C:\\Users\\PC-1\\.wdm\\drivers\\chromedriver\\win32\\104.0.5112.79\\chromedriver.exe] found in cache\n"
     ]
    },
    {
     "name": "stdout",
     "output_type": "stream",
     "text": [
      "Termino 78\n",
      "['Perez R. B. (Per)', 'Quiroz J. C. (Per)', 'Villegas H. (Per)', 'Lozano S. (Per)', 'Ortega K. (Per)', 'Menendez A. (Per)', 'Espinoza J. (Per)', 'Vasquez B. (Per)', 'Huamani J. (Per)', 'Lopez Ramos P. (Esp)', 'Garay L. (Per)', 0, 0, 0, 'Cartagena J. (Per)', 'Villegas H. (Per)', 'Cori V. (Per)', 'Villanueva A. (Per)', 'Legario F. (Per)', 'Blas W. (Per)', 'Seminario L. (Per)', 'Perez R. B. (Per)', 'Ureta D. (Per)', 'Lozano S. (Per)', 0, 0, 0, 0, 'Espinoza M. (Per)', 'Ordonez E. (Per)', 'Quiroz J. C. (Per)', 'Alarcon J. (Per)', 'Perez R. B. (Per)', 'Espinoza M. (Per)', 'Ortega K. (Per)', 'Ordonez E. (Per)', 'Espinoza J. (Per)', 'Huamani J. (Per)', 0, 0, 0, 0, 'Garay Evia L. (Per)', 'Lozano S. (Per)', 'Huaman D. (Per)', 'Vasquez B. (Per)', 'Legario F. (Per)', 'Villegas H. (Per)', 'Garay L. (Per)', 'Ureta D. (Per)', 'Espinoza M. (Per)', 'Cartagena J. (Per)', 0, 0, 0, 0, 'Alarcon J. (Per)', 'Ciriaco L. (Per)', 'Lozano C. (Arg)', 'Alarcon J. (Per)', 'Perez R. B. (Per)', 'Villegas H. (Per)', 'Seminario L. (Per)', 'Ordonez E. (Per)', 'Cartagena J. (Per)', 'Chambi J. (Per)', 0, 0, 0, 0, 'Ureta D. (Per)', 'Garay L. (Per)', 'Quiroz J. (Per)', 'Estadio Inca Garcilaso de la Vega (Cusco)', 'Estadio Iván Elías Moreno (Lima)', 'Zamora J. (Per)', 'Lopez Ramos P. (Esp)', 'Garay L. (Per)', 'Perez R. B. (Per)', 0, 0, 0, 0, 0, 'Estadio San Martin de Porres (Lima)', 'Alarcon J. (Per)', 'Perez R. B. (Per)', 'Villanueva A. (Per)', 'Villegas H. (Per)', 'Lopez P. (Per)', 'Ortega K. (Per)', 'Zamora J. (Per)', 0, 0, 0, 0, 0, 0, 'Alarcon J. (Per)', 'Ortega K. (Per)', 'Ureta D. (Per)', 'Seminario L. (Per)', 'Lozano Segado J. (Esp)', 'Barbagelatta G. (Per)', 'Perez R. B. (Per)', 'Legario F. (Per)', 'Ortega K. (Per)', 'Alarcon J. (Per)', 0, 0, 0, 0, 'Legario F. (Per)', 'Barbagelatta G. (Per)', 'Cartagena J. (Per)', 'Villegas H. (Per)', 'Huaman D. (Per)', 'Seminario L. (Per)', 'Alarcon J. (Per)', 'Espinoza M. (Per)', 'Menendez A. (Per)', 'Espinoza M. (Per)', 0, 0, 0, 0, 'Espinoza J. (Per)', 'Seminario L. (Per)', 'Villegas H. (Per)', 'Ortega K. (Arg)', 'Menendez A. (Per)', 'Ortega K. (Per)', 'Cartagena J. (Per)', 'Garay L. (Per)', 'Perez R. B. (Per)', 'Ordonez E. (Per)', 0, 0, 0, 0, 'Alarcon J. (Per)', 'Estadio Miguel Grau (Callao)', 'Villegas H. (Per)', 'Cartagena J. (Per)', 'Perez R. B. (Per)', 'Ortega K. (Per)', 'Ordonez E. (Per)', 'Espinoza M. (Per)', 'Estadio Monumental (Lima)', 'Alarcon J. (Per)', 0, 0, 0, 0, 'Huaman D. (Per)', 'Perez R. B. (Per)', 'Seminario L. (Per)', 'Mendoza J. (Per)', 'Alarcon J. (Per)', 'Ordonez E. (Per)', 'Espinoza J. (Per)', 'Menendez A. (Per)', 'Cartagena J. (Per)', 'Perez R. B. (Per)', 0, 0, 0, 0, 'Alarcon J. (Per)', 'Zamora J. (Per)', 'Espinoza J. (Per)', 'Seminario L. (Per)', 'Ordonez E. (Per)', 'Lopez P. (Per)', 'Espinoza M. (Per)', 'Alarcon J. (Per)', 'Barbagelatta G. (Per)', 0, 0, 0, 0, 0, 'Palomino M. (Per)', 'Legario F. (Per)', 'Espinoza J. (Per)', 'Estadio Huancayo (Huancayo)', 'Espinoza M. (Per)', 'Huaman D. (Per)', 'Perez R. B. (Per)', 'Legario F. (Per)', 'Garay L. (Per)', 0, 0, 0, 0, 0, 'Perez R. B. (Per)', 'Lopez R. (Per)', 'Ordonez E. (Per)', 'Espinoza J. (Per)', 'Huaman D. (Per)', 'Legario F. (Per)', 'Barbagelatta G. (Per)', 'Perez R. B. (Per)', 'Alarcon J. (Per)', 'Espinoza M. (Per)', 0, 0, 0, 0, 0, 0, 0, 0, 0, 0, 0, 0, 0]\n",
      "\n"
     ]
    },
    {
     "name": "stderr",
     "output_type": "stream",
     "text": [
      "[WDM] - ====== WebDriver manager ======\n",
      "[WDM] - Current google-chrome version is 104.0.5112\n",
      "[WDM] - Get LATEST chromedriver version for 104.0.5112 google-chrome\n",
      "[WDM] - Driver [C:\\Users\\PC-1\\.wdm\\drivers\\chromedriver\\win32\\104.0.5112.79\\chromedriver.exe] found in cache\n",
      "[WDM] - Current google-chrome version is 104.0.5112\n",
      "[WDM] - Get LATEST chromedriver version for 104.0.5112 google-chrome\n"
     ]
    },
    {
     "name": "stdout",
     "output_type": "stream",
     "text": [
      "Termino 149\n",
      "['Perez R. B. (Per)', 'Quiroz J. C. (Per)', 'Villegas H. (Per)', 'Lozano S. (Per)', 'Ortega K. (Per)', 'Menendez A. (Per)', 'Espinoza J. (Per)', 'Vasquez B. (Per)', 'Huamani J. (Per)', 'Lopez Ramos P. (Esp)', 'Garay L. (Per)', 0, 0, 0, 'Cartagena J. (Per)', 'Villegas H. (Per)', 'Cori V. (Per)', 'Villanueva A. (Per)', 'Legario F. (Per)', 'Blas W. (Per)', 'Seminario L. (Per)', 'Perez R. B. (Per)', 'Ureta D. (Per)', 'Lozano S. (Per)', 0, 0, 0, 0, 'Espinoza M. (Per)', 'Ordonez E. (Per)', 'Quiroz J. C. (Per)', 'Alarcon J. (Per)', 'Perez R. B. (Per)', 'Espinoza M. (Per)', 'Ortega K. (Per)', 'Ordonez E. (Per)', 'Espinoza J. (Per)', 'Huamani J. (Per)', 0, 0, 0, 0, 'Garay Evia L. (Per)', 'Lozano S. (Per)', 'Huaman D. (Per)', 'Vasquez B. (Per)', 'Legario F. (Per)', 'Villegas H. (Per)', 'Garay L. (Per)', 'Ureta D. (Per)', 'Espinoza M. (Per)', 'Cartagena J. (Per)', 0, 0, 0, 0, 'Alarcon J. (Per)', 'Ciriaco L. (Per)', 'Lozano C. (Arg)', 'Alarcon J. (Per)', 'Perez R. B. (Per)', 'Villegas H. (Per)', 'Seminario L. (Per)', 'Ordonez E. (Per)', 'Cartagena J. (Per)', 'Chambi J. (Per)', 0, 0, 0, 0, 'Ureta D. (Per)', 'Garay L. (Per)', 'Quiroz J. (Per)', 'Estadio Inca Garcilaso de la Vega (Cusco)', 'Estadio Iván Elías Moreno (Lima)', 'Zamora J. (Per)', 'Lopez Ramos P. (Esp)', 'Garay L. (Per)', 'Perez R. B. (Per)', 0, 0, 0, 0, 0, 'Estadio San Martin de Porres (Lima)', 'Alarcon J. (Per)', 'Perez R. B. (Per)', 'Villanueva A. (Per)', 'Villegas H. (Per)', 'Lopez P. (Per)', 'Ortega K. (Per)', 'Zamora J. (Per)', 0, 0, 0, 0, 0, 0, 'Alarcon J. (Per)', 'Ortega K. (Per)', 'Ureta D. (Per)', 'Seminario L. (Per)', 'Lozano Segado J. (Esp)', 'Barbagelatta G. (Per)', 'Perez R. B. (Per)', 'Legario F. (Per)', 'Ortega K. (Per)', 'Alarcon J. (Per)', 0, 0, 0, 0, 'Legario F. (Per)', 'Barbagelatta G. (Per)', 'Cartagena J. (Per)', 'Villegas H. (Per)', 'Huaman D. (Per)', 'Seminario L. (Per)', 'Alarcon J. (Per)', 'Espinoza M. (Per)', 'Menendez A. (Per)', 'Espinoza M. (Per)', 0, 0, 0, 0, 'Espinoza J. (Per)', 'Seminario L. (Per)', 'Villegas H. (Per)', 'Ortega K. (Arg)', 'Menendez A. (Per)', 'Ortega K. (Per)', 'Cartagena J. (Per)', 'Garay L. (Per)', 'Perez R. B. (Per)', 'Ordonez E. (Per)', 0, 0, 0, 0, 'Alarcon J. (Per)', 'Estadio Miguel Grau (Callao)', 'Villegas H. (Per)', 'Cartagena J. (Per)', 'Perez R. B. (Per)', 'Ortega K. (Per)', 'Ordonez E. (Per)', 'Espinoza M. (Per)', 'Estadio Monumental (Lima)', 'Alarcon J. (Per)', 0, 0, 0, 0, 'Huaman D. (Per)', 'Perez R. B. (Per)', 'Seminario L. (Per)', 'Mendoza J. (Per)', 'Alarcon J. (Per)', 'Ordonez E. (Per)', 'Espinoza J. (Per)', 'Menendez A. (Per)', 'Cartagena J. (Per)', 'Perez R. B. (Per)', 0, 0, 0, 0, 'Alarcon J. (Per)', 'Zamora J. (Per)', 'Espinoza J. (Per)', 'Seminario L. (Per)', 'Ordonez E. (Per)', 'Lopez P. (Per)', 'Espinoza M. (Per)', 'Alarcon J. (Per)', 'Barbagelatta G. (Per)', 0, 0, 0, 0, 0, 'Palomino M. (Per)', 'Legario F. (Per)', 'Espinoza J. (Per)', 'Estadio Huancayo (Huancayo)', 'Espinoza M. (Per)', 'Huaman D. (Per)', 'Perez R. B. (Per)', 'Legario F. (Per)', 'Garay L. (Per)', 0, 0, 0, 0, 0, 'Perez R. B. (Per)', 'Lopez R. (Per)', 'Ordonez E. (Per)', 'Espinoza J. (Per)', 'Huaman D. (Per)', 'Legario F. (Per)', 'Barbagelatta G. (Per)', 'Perez R. B. (Per)', 'Alarcon J. (Per)', 'Espinoza M. (Per)', 0, 0, 0, 0, 0, 0, 0, 0, 0, 0, 0, 0, 0]\n",
      "\n"
     ]
    },
    {
     "name": "stderr",
     "output_type": "stream",
     "text": [
      "[WDM] - ====== WebDriver manager ======\n",
      "[WDM] - Driver [C:\\Users\\PC-1\\.wdm\\drivers\\chromedriver\\win32\\104.0.5112.79\\chromedriver.exe] found in cache\n"
     ]
    },
    {
     "name": "stdout",
     "output_type": "stream",
     "text": [
      "Termino 91\n",
      "['Perez R. B. (Per)', 'Quiroz J. C. (Per)', 'Villegas H. (Per)', 'Lozano S. (Per)', 'Ortega K. (Per)', 'Menendez A. (Per)', 'Espinoza J. (Per)', 'Vasquez B. (Per)', 'Huamani J. (Per)', 'Lopez Ramos P. (Esp)', 'Garay L. (Per)', 0, 0, 0, 'Cartagena J. (Per)', 'Villegas H. (Per)', 'Cori V. (Per)', 'Villanueva A. (Per)', 'Legario F. (Per)', 'Blas W. (Per)', 'Seminario L. (Per)', 'Perez R. B. (Per)', 'Ureta D. (Per)', 'Lozano S. (Per)', 0, 0, 0, 0, 'Espinoza M. (Per)', 'Ordonez E. (Per)', 'Quiroz J. C. (Per)', 'Alarcon J. (Per)', 'Perez R. B. (Per)', 'Espinoza M. (Per)', 'Ortega K. (Per)', 'Ordonez E. (Per)', 'Espinoza J. (Per)', 'Huamani J. (Per)', 0, 0, 0, 0, 'Garay Evia L. (Per)', 'Lozano S. (Per)', 'Huaman D. (Per)', 'Vasquez B. (Per)', 'Legario F. (Per)', 'Villegas H. (Per)', 'Garay L. (Per)', 'Ureta D. (Per)', 'Espinoza M. (Per)', 'Cartagena J. (Per)', 0, 0, 0, 0, 'Alarcon J. (Per)', 'Ciriaco L. (Per)', 'Lozano C. (Arg)', 'Alarcon J. (Per)', 'Perez R. B. (Per)', 'Villegas H. (Per)', 'Seminario L. (Per)', 'Ordonez E. (Per)', 'Cartagena J. (Per)', 'Chambi J. (Per)', 0, 0, 0, 0, 'Ureta D. (Per)', 'Garay L. (Per)', 'Quiroz J. (Per)', 'Estadio Inca Garcilaso de la Vega (Cusco)', 'Estadio Iván Elías Moreno (Lima)', 'Zamora J. (Per)', 'Lopez Ramos P. (Esp)', 'Garay L. (Per)', 'Perez R. B. (Per)', 0, 0, 0, 0, 0, 'Estadio San Martin de Porres (Lima)', 'Alarcon J. (Per)', 'Perez R. B. (Per)', 'Villanueva A. (Per)', 'Villegas H. (Per)', 'Lopez P. (Per)', 'Ortega K. (Per)', 'Zamora J. (Per)', 0, 0, 0, 0, 0, 0, 'Alarcon J. (Per)', 'Ortega K. (Per)', 'Ureta D. (Per)', 'Seminario L. (Per)', 'Lozano Segado J. (Esp)', 'Barbagelatta G. (Per)', 'Perez R. B. (Per)', 'Legario F. (Per)', 'Ortega K. (Per)', 'Alarcon J. (Per)', 0, 0, 0, 0, 'Legario F. (Per)', 'Barbagelatta G. (Per)', 'Cartagena J. (Per)', 'Villegas H. (Per)', 'Huaman D. (Per)', 'Seminario L. (Per)', 'Alarcon J. (Per)', 'Espinoza M. (Per)', 'Menendez A. (Per)', 'Espinoza M. (Per)', 0, 0, 0, 0, 'Espinoza J. (Per)', 'Seminario L. (Per)', 'Villegas H. (Per)', 'Ortega K. (Arg)', 'Menendez A. (Per)', 'Ortega K. (Per)', 'Cartagena J. (Per)', 'Garay L. (Per)', 'Perez R. B. (Per)', 'Ordonez E. (Per)', 0, 0, 0, 0, 'Alarcon J. (Per)', 'Estadio Miguel Grau (Callao)', 'Villegas H. (Per)', 'Cartagena J. (Per)', 'Perez R. B. (Per)', 'Ortega K. (Per)', 'Ordonez E. (Per)', 'Espinoza M. (Per)', 'Estadio Monumental (Lima)', 'Alarcon J. (Per)', 0, 0, 0, 0, 'Huaman D. (Per)', 'Perez R. B. (Per)', 'Seminario L. (Per)', 'Mendoza J. (Per)', 'Alarcon J. (Per)', 'Ordonez E. (Per)', 'Espinoza J. (Per)', 'Menendez A. (Per)', 'Cartagena J. (Per)', 'Perez R. B. (Per)', 0, 0, 0, 0, 'Alarcon J. (Per)', 'Zamora J. (Per)', 'Espinoza J. (Per)', 'Seminario L. (Per)', 'Ordonez E. (Per)', 'Lopez P. (Per)', 'Espinoza M. (Per)', 'Alarcon J. (Per)', 'Barbagelatta G. (Per)', 0, 0, 0, 0, 0, 'Palomino M. (Per)', 'Legario F. (Per)', 'Espinoza J. (Per)', 'Estadio Huancayo (Huancayo)', 'Espinoza M. (Per)', 'Huaman D. (Per)', 'Perez R. B. (Per)', 'Legario F. (Per)', 'Garay L. (Per)', 0, 0, 0, 0, 0, 'Perez R. B. (Per)', 'Lopez R. (Per)', 'Ordonez E. (Per)', 'Espinoza J. (Per)', 'Huaman D. (Per)', 'Legario F. (Per)', 'Barbagelatta G. (Per)', 'Perez R. B. (Per)', 'Alarcon J. (Per)', 'Espinoza M. (Per)', 0, 0, 0, 0, 0, 0, 0, 0, 0, 0, 0, 0, 0]\n",
      "\n"
     ]
    },
    {
     "name": "stderr",
     "output_type": "stream",
     "text": [
      "[WDM] - ====== WebDriver manager ======\n"
     ]
    },
    {
     "name": "stdout",
     "output_type": "stream",
     "text": [
      "Termino 176\n",
      "['Perez R. B. (Per)', 'Quiroz J. C. (Per)', 'Villegas H. (Per)', 'Lozano S. (Per)', 'Ortega K. (Per)', 'Menendez A. (Per)', 'Espinoza J. (Per)', 'Vasquez B. (Per)', 'Huamani J. (Per)', 'Lopez Ramos P. (Esp)', 'Garay L. (Per)', 0, 0, 0, 'Cartagena J. (Per)', 'Villegas H. (Per)', 'Cori V. (Per)', 'Villanueva A. (Per)', 'Legario F. (Per)', 'Blas W. (Per)', 'Seminario L. (Per)', 'Perez R. B. (Per)', 'Ureta D. (Per)', 'Lozano S. (Per)', 0, 0, 0, 0, 'Espinoza M. (Per)', 'Ordonez E. (Per)', 'Quiroz J. C. (Per)', 'Alarcon J. (Per)', 'Perez R. B. (Per)', 'Espinoza M. (Per)', 'Ortega K. (Per)', 'Ordonez E. (Per)', 'Espinoza J. (Per)', 'Huamani J. (Per)', 0, 0, 0, 0, 'Garay Evia L. (Per)', 'Lozano S. (Per)', 'Huaman D. (Per)', 'Vasquez B. (Per)', 'Legario F. (Per)', 'Villegas H. (Per)', 'Garay L. (Per)', 'Ureta D. (Per)', 'Espinoza M. (Per)', 'Cartagena J. (Per)', 0, 0, 0, 0, 'Alarcon J. (Per)', 'Ciriaco L. (Per)', 'Lozano C. (Arg)', 'Alarcon J. (Per)', 'Perez R. B. (Per)', 'Villegas H. (Per)', 'Seminario L. (Per)', 'Ordonez E. (Per)', 'Cartagena J. (Per)', 'Chambi J. (Per)', 0, 0, 0, 0, 'Ureta D. (Per)', 'Garay L. (Per)', 'Quiroz J. (Per)', 'Estadio Inca Garcilaso de la Vega (Cusco)', 'Estadio Iván Elías Moreno (Lima)', 'Zamora J. (Per)', 'Lopez Ramos P. (Esp)', 'Garay L. (Per)', 'Perez R. B. (Per)', 0, 0, 0, 0, 0, 'Estadio San Martin de Porres (Lima)', 'Alarcon J. (Per)', 'Perez R. B. (Per)', 'Villanueva A. (Per)', 'Villegas H. (Per)', 'Lopez P. (Per)', 'Ortega K. (Per)', 'Zamora J. (Per)', 0, 0, 0, 0, 0, 0, 'Alarcon J. (Per)', 'Ortega K. (Per)', 'Ureta D. (Per)', 'Seminario L. (Per)', 'Lozano Segado J. (Esp)', 'Barbagelatta G. (Per)', 'Perez R. B. (Per)', 'Legario F. (Per)', 'Ortega K. (Per)', 'Alarcon J. (Per)', 0, 0, 0, 0, 'Legario F. (Per)', 'Barbagelatta G. (Per)', 'Cartagena J. (Per)', 'Villegas H. (Per)', 'Huaman D. (Per)', 'Seminario L. (Per)', 'Alarcon J. (Per)', 'Espinoza M. (Per)', 'Menendez A. (Per)', 'Espinoza M. (Per)', 0, 0, 0, 0, 'Espinoza J. (Per)', 'Seminario L. (Per)', 'Villegas H. (Per)', 'Ortega K. (Arg)', 'Menendez A. (Per)', 'Ortega K. (Per)', 'Cartagena J. (Per)', 'Garay L. (Per)', 'Perez R. B. (Per)', 'Ordonez E. (Per)', 0, 0, 0, 0, 'Alarcon J. (Per)', 'Estadio Miguel Grau (Callao)', 'Villegas H. (Per)', 'Cartagena J. (Per)', 'Perez R. B. (Per)', 'Ortega K. (Per)', 'Ordonez E. (Per)', 'Espinoza M. (Per)', 'Estadio Monumental (Lima)', 'Alarcon J. (Per)', 0, 0, 0, 0, 'Huaman D. (Per)', 'Perez R. B. (Per)', 'Seminario L. (Per)', 'Mendoza J. (Per)', 'Alarcon J. (Per)', 'Ordonez E. (Per)', 'Espinoza J. (Per)', 'Menendez A. (Per)', 'Cartagena J. (Per)', 'Perez R. B. (Per)', 0, 0, 0, 0, 'Alarcon J. (Per)', 'Zamora J. (Per)', 'Espinoza J. (Per)', 'Seminario L. (Per)', 'Ordonez E. (Per)', 'Lopez P. (Per)', 'Espinoza M. (Per)', 'Alarcon J. (Per)', 'Barbagelatta G. (Per)', 0, 0, 0, 0, 0, 'Palomino M. (Per)', 'Legario F. (Per)', 'Espinoza J. (Per)', 'Estadio Huancayo (Huancayo)', 'Espinoza M. (Per)', 'Huaman D. (Per)', 'Perez R. B. (Per)', 'Legario F. (Per)', 'Garay L. (Per)', 0, 0, 0, 0, 0, 'Perez R. B. (Per)', 'Lopez R. (Per)', 'Ordonez E. (Per)', 'Espinoza J. (Per)', 'Huaman D. (Per)', 'Legario F. (Per)', 'Barbagelatta G. (Per)', 'Perez R. B. (Per)', 'Alarcon J. (Per)', 'Espinoza M. (Per)', 0, 0, 0, 0, 0, 0, 0, 0, 0, 0, 0, 0, 0]\n",
      "\n"
     ]
    },
    {
     "name": "stderr",
     "output_type": "stream",
     "text": [
      "[WDM] - ====== WebDriver manager ======\n",
      "[WDM] - Current google-chrome version is 104.0.5112\n",
      "[WDM] - Get LATEST chromedriver version for 104.0.5112 google-chrome\n",
      "[WDM] - Current google-chrome version is 104.0.5112\n",
      "[WDM] - Get LATEST chromedriver version for 104.0.5112 google-chrome\n",
      "[WDM] - Driver [C:\\Users\\PC-1\\.wdm\\drivers\\chromedriver\\win32\\104.0.5112.79\\chromedriver.exe] found in cache\n",
      "[WDM] - Driver [C:\\Users\\PC-1\\.wdm\\drivers\\chromedriver\\win32\\104.0.5112.79\\chromedriver.exe] found in cache\n"
     ]
    },
    {
     "name": "stdout",
     "output_type": "stream",
     "text": [
      "Termino 37\n",
      "['Perez R. B. (Per)', 'Quiroz J. C. (Per)', 'Villegas H. (Per)', 'Lozano S. (Per)', 'Ortega K. (Per)', 'Menendez A. (Per)', 'Espinoza J. (Per)', 'Vasquez B. (Per)', 'Huamani J. (Per)', 'Lopez Ramos P. (Esp)', 'Garay L. (Per)', 0, 0, 0, 'Cartagena J. (Per)', 'Villegas H. (Per)', 'Cori V. (Per)', 'Villanueva A. (Per)', 'Legario F. (Per)', 'Blas W. (Per)', 'Seminario L. (Per)', 'Perez R. B. (Per)', 'Ureta D. (Per)', 'Lozano S. (Per)', 0, 0, 0, 0, 'Espinoza M. (Per)', 'Ordonez E. (Per)', 'Quiroz J. C. (Per)', 'Alarcon J. (Per)', 'Perez R. B. (Per)', 'Espinoza M. (Per)', 'Ortega K. (Per)', 'Ordonez E. (Per)', 'Espinoza J. (Per)', 'Huamani J. (Per)', 0, 0, 0, 0, 'Garay Evia L. (Per)', 'Lozano S. (Per)', 'Huaman D. (Per)', 'Vasquez B. (Per)', 'Legario F. (Per)', 'Villegas H. (Per)', 'Garay L. (Per)', 'Ureta D. (Per)', 'Espinoza M. (Per)', 'Cartagena J. (Per)', 0, 0, 0, 0, 'Alarcon J. (Per)', 'Ciriaco L. (Per)', 'Lozano C. (Arg)', 'Alarcon J. (Per)', 'Perez R. B. (Per)', 'Villegas H. (Per)', 'Seminario L. (Per)', 'Ordonez E. (Per)', 'Cartagena J. (Per)', 'Chambi J. (Per)', 0, 0, 0, 0, 'Ureta D. (Per)', 'Garay L. (Per)', 'Quiroz J. (Per)', 'Estadio Inca Garcilaso de la Vega (Cusco)', 'Estadio Iván Elías Moreno (Lima)', 'Zamora J. (Per)', 'Lopez Ramos P. (Esp)', 'Garay L. (Per)', 'Perez R. B. (Per)', 0, 0, 0, 0, 0, 'Estadio San Martin de Porres (Lima)', 'Alarcon J. (Per)', 'Perez R. B. (Per)', 'Villanueva A. (Per)', 'Villegas H. (Per)', 'Lopez P. (Per)', 'Ortega K. (Per)', 'Zamora J. (Per)', 0, 0, 0, 0, 0, 0, 'Alarcon J. (Per)', 'Ortega K. (Per)', 'Ureta D. (Per)', 'Seminario L. (Per)', 'Lozano Segado J. (Esp)', 'Barbagelatta G. (Per)', 'Perez R. B. (Per)', 'Legario F. (Per)', 'Ortega K. (Per)', 'Alarcon J. (Per)', 0, 0, 0, 0, 'Legario F. (Per)', 'Barbagelatta G. (Per)', 'Cartagena J. (Per)', 'Villegas H. (Per)', 'Huaman D. (Per)', 'Seminario L. (Per)', 'Alarcon J. (Per)', 'Espinoza M. (Per)', 'Menendez A. (Per)', 'Espinoza M. (Per)', 0, 0, 0, 0, 'Espinoza J. (Per)', 'Seminario L. (Per)', 'Villegas H. (Per)', 'Ortega K. (Arg)', 'Menendez A. (Per)', 'Ortega K. (Per)', 'Cartagena J. (Per)', 'Garay L. (Per)', 'Perez R. B. (Per)', 'Ordonez E. (Per)', 0, 0, 0, 0, 'Alarcon J. (Per)', 'Estadio Miguel Grau (Callao)', 'Villegas H. (Per)', 'Cartagena J. (Per)', 'Perez R. B. (Per)', 'Ortega K. (Per)', 'Ordonez E. (Per)', 'Espinoza M. (Per)', 'Estadio Monumental (Lima)', 'Alarcon J. (Per)', 0, 0, 0, 0, 'Huaman D. (Per)', 'Perez R. B. (Per)', 'Seminario L. (Per)', 'Mendoza J. (Per)', 'Alarcon J. (Per)', 'Ordonez E. (Per)', 'Espinoza J. (Per)', 'Menendez A. (Per)', 'Cartagena J. (Per)', 'Perez R. B. (Per)', 0, 0, 0, 0, 'Alarcon J. (Per)', 'Zamora J. (Per)', 'Espinoza J. (Per)', 'Seminario L. (Per)', 'Ordonez E. (Per)', 'Lopez P. (Per)', 'Espinoza M. (Per)', 'Alarcon J. (Per)', 'Barbagelatta G. (Per)', 0, 0, 0, 0, 0, 'Palomino M. (Per)', 'Legario F. (Per)', 'Espinoza J. (Per)', 'Estadio Huancayo (Huancayo)', 'Espinoza M. (Per)', 'Huaman D. (Per)', 'Perez R. B. (Per)', 'Legario F. (Per)', 'Garay L. (Per)', 'Ordonez E. (Per)', 0, 0, 0, 0, 'Perez R. B. (Per)', 'Lopez R. (Per)', 'Ordonez E. (Per)', 'Espinoza J. (Per)', 'Huaman D. (Per)', 'Legario F. (Per)', 'Barbagelatta G. (Per)', 'Perez R. B. (Per)', 'Alarcon J. (Per)', 'Espinoza M. (Per)', 0, 0, 0, 0, 0, 0, 0, 0, 0, 0, 0, 0, 0]\n",
      "\n"
     ]
    },
    {
     "name": "stderr",
     "output_type": "stream",
     "text": [
      "[WDM] - ====== WebDriver manager ======\n"
     ]
    },
    {
     "name": "stdout",
     "output_type": "stream",
     "text": [
      "Termino 10\n",
      "['Perez R. B. (Per)', 'Quiroz J. C. (Per)', 'Villegas H. (Per)', 'Lozano S. (Per)', 'Ortega K. (Per)', 'Menendez A. (Per)', 'Espinoza J. (Per)', 'Vasquez B. (Per)', 'Huamani J. (Per)', 'Lopez Ramos P. (Esp)', 'Garay L. (Per)', 0, 0, 0, 'Cartagena J. (Per)', 'Villegas H. (Per)', 'Cori V. (Per)', 'Villanueva A. (Per)', 'Legario F. (Per)', 'Blas W. (Per)', 'Seminario L. (Per)', 'Perez R. B. (Per)', 'Ureta D. (Per)', 'Lozano S. (Per)', 0, 0, 0, 0, 'Espinoza M. (Per)', 'Ordonez E. (Per)', 'Quiroz J. C. (Per)', 'Alarcon J. (Per)', 'Perez R. B. (Per)', 'Espinoza M. (Per)', 'Ortega K. (Per)', 'Ordonez E. (Per)', 'Espinoza J. (Per)', 'Huamani J. (Per)', 0, 0, 0, 0, 'Garay Evia L. (Per)', 'Lozano S. (Per)', 'Huaman D. (Per)', 'Vasquez B. (Per)', 'Legario F. (Per)', 'Villegas H. (Per)', 'Garay L. (Per)', 'Ureta D. (Per)', 'Espinoza M. (Per)', 'Cartagena J. (Per)', 0, 0, 0, 0, 'Alarcon J. (Per)', 'Ciriaco L. (Per)', 'Lozano C. (Arg)', 'Alarcon J. (Per)', 'Perez R. B. (Per)', 'Villegas H. (Per)', 'Seminario L. (Per)', 'Ordonez E. (Per)', 'Cartagena J. (Per)', 'Chambi J. (Per)', 0, 0, 0, 0, 'Ureta D. (Per)', 'Garay L. (Per)', 'Quiroz J. (Per)', 'Estadio Inca Garcilaso de la Vega (Cusco)', 'Estadio Iván Elías Moreno (Lima)', 'Zamora J. (Per)', 'Lopez Ramos P. (Esp)', 'Garay L. (Per)', 'Perez R. B. (Per)', 0, 0, 0, 0, 0, 'Estadio San Martin de Porres (Lima)', 'Alarcon J. (Per)', 'Perez R. B. (Per)', 'Villanueva A. (Per)', 'Villegas H. (Per)', 'Lopez P. (Per)', 'Ortega K. (Per)', 'Zamora J. (Per)', 0, 0, 0, 0, 0, 0, 'Alarcon J. (Per)', 'Ortega K. (Per)', 'Ureta D. (Per)', 'Seminario L. (Per)', 'Lozano Segado J. (Esp)', 'Barbagelatta G. (Per)', 'Perez R. B. (Per)', 'Legario F. (Per)', 'Ortega K. (Per)', 'Alarcon J. (Per)', 0, 0, 0, 0, 'Legario F. (Per)', 'Barbagelatta G. (Per)', 'Cartagena J. (Per)', 'Villegas H. (Per)', 'Huaman D. (Per)', 'Seminario L. (Per)', 'Alarcon J. (Per)', 'Espinoza M. (Per)', 'Menendez A. (Per)', 'Espinoza M. (Per)', 0, 0, 0, 0, 'Espinoza J. (Per)', 'Seminario L. (Per)', 'Villegas H. (Per)', 'Ortega K. (Arg)', 'Menendez A. (Per)', 'Ortega K. (Per)', 'Cartagena J. (Per)', 'Garay L. (Per)', 'Perez R. B. (Per)', 'Ordonez E. (Per)', 0, 0, 0, 0, 'Alarcon J. (Per)', 'Estadio Miguel Grau (Callao)', 'Villegas H. (Per)', 'Cartagena J. (Per)', 'Perez R. B. (Per)', 'Ortega K. (Per)', 'Ordonez E. (Per)', 'Espinoza M. (Per)', 'Estadio Monumental (Lima)', 'Alarcon J. (Per)', 0, 0, 0, 0, 'Huaman D. (Per)', 'Perez R. B. (Per)', 'Seminario L. (Per)', 'Mendoza J. (Per)', 'Alarcon J. (Per)', 'Ordonez E. (Per)', 'Espinoza J. (Per)', 'Menendez A. (Per)', 'Cartagena J. (Per)', 'Perez R. B. (Per)', 0, 0, 0, 0, 'Alarcon J. (Per)', 'Zamora J. (Per)', 'Espinoza J. (Per)', 'Seminario L. (Per)', 'Ordonez E. (Per)', 'Lopez P. (Per)', 'Espinoza M. (Per)', 'Alarcon J. (Per)', 'Barbagelatta G. (Per)', 0, 0, 0, 0, 0, 'Palomino M. (Per)', 'Legario F. (Per)', 'Espinoza J. (Per)', 'Estadio Huancayo (Huancayo)', 'Espinoza M. (Per)', 'Huaman D. (Per)', 'Perez R. B. (Per)', 'Legario F. (Per)', 'Garay L. (Per)', 'Ordonez E. (Per)', 0, 0, 0, 0, 'Perez R. B. (Per)', 'Lopez R. (Per)', 'Ordonez E. (Per)', 'Espinoza J. (Per)', 'Huaman D. (Per)', 'Legario F. (Per)', 'Barbagelatta G. (Per)', 'Perez R. B. (Per)', 'Alarcon J. (Per)', 'Espinoza M. (Per)', 0, 0, 0, 0, 0, 0, 0, 0, 0, 0, 0, 0, 0]\n",
      "\n"
     ]
    },
    {
     "name": "stderr",
     "output_type": "stream",
     "text": [
      "[WDM] - ====== WebDriver manager ======\n",
      "[WDM] - Current google-chrome version is 104.0.5112\n",
      "[WDM] - Get LATEST chromedriver version for 104.0.5112 google-chrome\n",
      "[WDM] - Driver [C:\\Users\\PC-1\\.wdm\\drivers\\chromedriver\\win32\\104.0.5112.79\\chromedriver.exe] found in cache\n",
      "[WDM] - Current google-chrome version is 104.0.5112\n",
      "[WDM] - Get LATEST chromedriver version for 104.0.5112 google-chrome\n",
      "[WDM] - Current google-chrome version is 104.0.5112\n",
      "[WDM] - Get LATEST chromedriver version for 104.0.5112 google-chrome\n",
      "[WDM] - Driver [C:\\Users\\PC-1\\.wdm\\drivers\\chromedriver\\win32\\104.0.5112.79\\chromedriver.exe] found in cache\n",
      "[WDM] - Driver [C:\\Users\\PC-1\\.wdm\\drivers\\chromedriver\\win32\\104.0.5112.79\\chromedriver.exe] found in cache\n"
     ]
    },
    {
     "name": "stdout",
     "output_type": "stream",
     "text": [
      "Termino 163\n",
      "['Perez R. B. (Per)', 'Quiroz J. C. (Per)', 'Villegas H. (Per)', 'Lozano S. (Per)', 'Ortega K. (Per)', 'Menendez A. (Per)', 'Espinoza J. (Per)', 'Vasquez B. (Per)', 'Huamani J. (Per)', 'Lopez Ramos P. (Esp)', 'Garay L. (Per)', 0, 0, 0, 'Cartagena J. (Per)', 'Villegas H. (Per)', 'Cori V. (Per)', 'Villanueva A. (Per)', 'Legario F. (Per)', 'Blas W. (Per)', 'Seminario L. (Per)', 'Perez R. B. (Per)', 'Ureta D. (Per)', 'Lozano S. (Per)', 0, 0, 0, 0, 'Espinoza M. (Per)', 'Ordonez E. (Per)', 'Quiroz J. C. (Per)', 'Alarcon J. (Per)', 'Perez R. B. (Per)', 'Espinoza M. (Per)', 'Ortega K. (Per)', 'Ordonez E. (Per)', 'Espinoza J. (Per)', 'Huamani J. (Per)', 0, 0, 0, 0, 'Garay Evia L. (Per)', 'Lozano S. (Per)', 'Huaman D. (Per)', 'Vasquez B. (Per)', 'Legario F. (Per)', 'Villegas H. (Per)', 'Garay L. (Per)', 'Ureta D. (Per)', 'Espinoza M. (Per)', 'Cartagena J. (Per)', 0, 0, 0, 0, 'Alarcon J. (Per)', 'Ciriaco L. (Per)', 'Lozano C. (Arg)', 'Alarcon J. (Per)', 'Perez R. B. (Per)', 'Villegas H. (Per)', 'Seminario L. (Per)', 'Ordonez E. (Per)', 'Cartagena J. (Per)', 'Chambi J. (Per)', 0, 0, 0, 0, 'Ureta D. (Per)', 'Garay L. (Per)', 'Quiroz J. (Per)', 'Estadio Inca Garcilaso de la Vega (Cusco)', 'Estadio Iván Elías Moreno (Lima)', 'Zamora J. (Per)', 'Lopez Ramos P. (Esp)', 'Garay L. (Per)', 'Perez R. B. (Per)', 0, 0, 0, 0, 0, 'Estadio San Martin de Porres (Lima)', 'Alarcon J. (Per)', 'Perez R. B. (Per)', 'Villanueva A. (Per)', 'Villegas H. (Per)', 'Lopez P. (Per)', 'Ortega K. (Per)', 'Zamora J. (Per)', 0, 0, 0, 0, 0, 0, 'Alarcon J. (Per)', 'Ortega K. (Per)', 'Ureta D. (Per)', 'Seminario L. (Per)', 'Lozano Segado J. (Esp)', 'Barbagelatta G. (Per)', 'Perez R. B. (Per)', 'Legario F. (Per)', 'Ortega K. (Per)', 'Alarcon J. (Per)', 0, 0, 0, 0, 'Legario F. (Per)', 'Barbagelatta G. (Per)', 'Cartagena J. (Per)', 'Villegas H. (Per)', 'Huaman D. (Per)', 'Seminario L. (Per)', 'Alarcon J. (Per)', 'Espinoza M. (Per)', 'Menendez A. (Per)', 'Espinoza M. (Per)', 0, 0, 0, 0, 'Espinoza J. (Per)', 'Seminario L. (Per)', 'Villegas H. (Per)', 'Ortega K. (Arg)', 'Menendez A. (Per)', 'Ortega K. (Per)', 'Cartagena J. (Per)', 'Garay L. (Per)', 'Perez R. B. (Per)', 'Ordonez E. (Per)', 0, 0, 0, 0, 'Alarcon J. (Per)', 'Estadio Miguel Grau (Callao)', 'Villegas H. (Per)', 'Cartagena J. (Per)', 'Perez R. B. (Per)', 'Ortega K. (Per)', 'Ordonez E. (Per)', 'Espinoza M. (Per)', 'Estadio Monumental (Lima)', 'Alarcon J. (Per)', 0, 0, 0, 0, 'Huaman D. (Per)', 'Perez R. B. (Per)', 'Seminario L. (Per)', 'Mendoza J. (Per)', 'Alarcon J. (Per)', 'Ordonez E. (Per)', 'Espinoza J. (Per)', 'Menendez A. (Per)', 'Cartagena J. (Per)', 'Perez R. B. (Per)', 0, 0, 0, 0, 'Alarcon J. (Per)', 'Zamora J. (Per)', 'Espinoza J. (Per)', 'Seminario L. (Per)', 'Ordonez E. (Per)', 'Lopez P. (Per)', 'Espinoza M. (Per)', 'Alarcon J. (Per)', 'Barbagelatta G. (Per)', 0, 0, 0, 0, 0, 'Palomino M. (Per)', 'Legario F. (Per)', 'Espinoza J. (Per)', 'Estadio Huancayo (Huancayo)', 'Espinoza M. (Per)', 'Huaman D. (Per)', 'Perez R. B. (Per)', 'Legario F. (Per)', 'Garay L. (Per)', 'Ordonez E. (Per)', 0, 0, 0, 0, 'Perez R. B. (Per)', 'Lopez R. (Per)', 'Ordonez E. (Per)', 'Espinoza J. (Per)', 'Huaman D. (Per)', 'Legario F. (Per)', 'Barbagelatta G. (Per)', 'Perez R. B. (Per)', 'Alarcon J. (Per)', 'Espinoza M. (Per)', 0, 0, 0, 0, 0, 0, 0, 0, 0, 0, 0, 0, 0]\n",
      "\n"
     ]
    },
    {
     "name": "stderr",
     "output_type": "stream",
     "text": [
      "[WDM] - ====== WebDriver manager ======\n",
      "[WDM] - Current google-chrome version is 104.0.5112\n",
      "[WDM] - Get LATEST chromedriver version for 104.0.5112 google-chrome\n",
      "[WDM] - Driver [C:\\Users\\PC-1\\.wdm\\drivers\\chromedriver\\win32\\104.0.5112.79\\chromedriver.exe] found in cache\n"
     ]
    },
    {
     "name": "stdout",
     "output_type": "stream",
     "text": [
      "Termino 121\n",
      "['Perez R. B. (Per)', 'Quiroz J. C. (Per)', 'Villegas H. (Per)', 'Lozano S. (Per)', 'Ortega K. (Per)', 'Menendez A. (Per)', 'Espinoza J. (Per)', 'Vasquez B. (Per)', 'Huamani J. (Per)', 'Lopez Ramos P. (Esp)', 'Garay L. (Per)', 0, 0, 0, 'Cartagena J. (Per)', 'Villegas H. (Per)', 'Cori V. (Per)', 'Villanueva A. (Per)', 'Legario F. (Per)', 'Blas W. (Per)', 'Seminario L. (Per)', 'Perez R. B. (Per)', 'Ureta D. (Per)', 'Lozano S. (Per)', 0, 0, 0, 0, 'Espinoza M. (Per)', 'Ordonez E. (Per)', 'Quiroz J. C. (Per)', 'Alarcon J. (Per)', 'Perez R. B. (Per)', 'Espinoza M. (Per)', 'Ortega K. (Per)', 'Ordonez E. (Per)', 'Espinoza J. (Per)', 'Huamani J. (Per)', 0, 0, 0, 0, 'Garay Evia L. (Per)', 'Lozano S. (Per)', 'Huaman D. (Per)', 'Vasquez B. (Per)', 'Legario F. (Per)', 'Villegas H. (Per)', 'Garay L. (Per)', 'Ureta D. (Per)', 'Espinoza M. (Per)', 'Cartagena J. (Per)', 0, 0, 0, 0, 'Alarcon J. (Per)', 'Ciriaco L. (Per)', 'Lozano C. (Arg)', 'Alarcon J. (Per)', 'Perez R. B. (Per)', 'Villegas H. (Per)', 'Seminario L. (Per)', 'Ordonez E. (Per)', 'Cartagena J. (Per)', 'Chambi J. (Per)', 0, 0, 0, 0, 'Ureta D. (Per)', 'Garay L. (Per)', 'Quiroz J. (Per)', 'Estadio Inca Garcilaso de la Vega (Cusco)', 'Estadio Iván Elías Moreno (Lima)', 'Zamora J. (Per)', 'Lopez Ramos P. (Esp)', 'Garay L. (Per)', 'Perez R. B. (Per)', 0, 0, 0, 0, 0, 'Estadio San Martin de Porres (Lima)', 'Alarcon J. (Per)', 'Perez R. B. (Per)', 'Villanueva A. (Per)', 'Villegas H. (Per)', 'Lopez P. (Per)', 'Ortega K. (Per)', 'Zamora J. (Per)', 0, 0, 0, 0, 0, 0, 'Alarcon J. (Per)', 'Ortega K. (Per)', 'Ureta D. (Per)', 'Seminario L. (Per)', 'Lozano Segado J. (Esp)', 'Barbagelatta G. (Per)', 'Perez R. B. (Per)', 'Legario F. (Per)', 'Ortega K. (Per)', 'Alarcon J. (Per)', 0, 0, 0, 0, 'Legario F. (Per)', 'Barbagelatta G. (Per)', 'Cartagena J. (Per)', 'Villegas H. (Per)', 'Huaman D. (Per)', 'Seminario L. (Per)', 'Alarcon J. (Per)', 'Espinoza M. (Per)', 'Menendez A. (Per)', 'Espinoza M. (Per)', 0, 0, 0, 0, 'Espinoza J. (Per)', 'Seminario L. (Per)', 'Villegas H. (Per)', 'Ortega K. (Arg)', 'Menendez A. (Per)', 'Ortega K. (Per)', 'Cartagena J. (Per)', 'Garay L. (Per)', 'Perez R. B. (Per)', 'Ordonez E. (Per)', 0, 0, 0, 0, 'Alarcon J. (Per)', 'Estadio Miguel Grau (Callao)', 'Villegas H. (Per)', 'Cartagena J. (Per)', 'Perez R. B. (Per)', 'Ortega K. (Per)', 'Ordonez E. (Per)', 'Espinoza M. (Per)', 'Estadio Monumental (Lima)', 'Alarcon J. (Per)', 0, 0, 0, 0, 'Huaman D. (Per)', 'Perez R. B. (Per)', 'Seminario L. (Per)', 'Mendoza J. (Per)', 'Alarcon J. (Per)', 'Ordonez E. (Per)', 'Espinoza J. (Per)', 'Menendez A. (Per)', 'Cartagena J. (Per)', 'Perez R. B. (Per)', 0, 0, 0, 0, 'Alarcon J. (Per)', 'Zamora J. (Per)', 'Espinoza J. (Per)', 'Seminario L. (Per)', 'Ordonez E. (Per)', 'Lopez P. (Per)', 'Espinoza M. (Per)', 'Alarcon J. (Per)', 'Barbagelatta G. (Per)', 0, 0, 0, 0, 0, 'Palomino M. (Per)', 'Legario F. (Per)', 'Espinoza J. (Per)', 'Estadio Huancayo (Huancayo)', 'Espinoza M. (Per)', 'Huaman D. (Per)', 'Perez R. B. (Per)', 'Legario F. (Per)', 'Garay L. (Per)', 'Ordonez E. (Per)', 0, 0, 0, 0, 'Perez R. B. (Per)', 'Lopez R. (Per)', 'Ordonez E. (Per)', 'Espinoza J. (Per)', 'Huaman D. (Per)', 'Legario F. (Per)', 'Barbagelatta G. (Per)', 'Perez R. B. (Per)', 'Alarcon J. (Per)', 'Espinoza M. (Per)', 0, 0, 0, 0, 0, 0, 0, 0, 0, 0, 0, 0, 0]\n",
      "\n"
     ]
    },
    {
     "name": "stderr",
     "output_type": "stream",
     "text": [
      "[WDM] - ====== WebDriver manager ======\n"
     ]
    },
    {
     "name": "stdout",
     "output_type": "stream",
     "text": [
      "Termino 191\n",
      "['Perez R. B. (Per)', 'Quiroz J. C. (Per)', 'Villegas H. (Per)', 'Lozano S. (Per)', 'Ortega K. (Per)', 'Menendez A. (Per)', 'Espinoza J. (Per)', 'Vasquez B. (Per)', 'Huamani J. (Per)', 'Lopez Ramos P. (Esp)', 'Garay L. (Per)', 0, 0, 0, 'Cartagena J. (Per)', 'Villegas H. (Per)', 'Cori V. (Per)', 'Villanueva A. (Per)', 'Legario F. (Per)', 'Blas W. (Per)', 'Seminario L. (Per)', 'Perez R. B. (Per)', 'Ureta D. (Per)', 'Lozano S. (Per)', 0, 0, 0, 0, 'Espinoza M. (Per)', 'Ordonez E. (Per)', 'Quiroz J. C. (Per)', 'Alarcon J. (Per)', 'Perez R. B. (Per)', 'Espinoza M. (Per)', 'Ortega K. (Per)', 'Ordonez E. (Per)', 'Espinoza J. (Per)', 'Huamani J. (Per)', 0, 0, 0, 0, 'Garay Evia L. (Per)', 'Lozano S. (Per)', 'Huaman D. (Per)', 'Vasquez B. (Per)', 'Legario F. (Per)', 'Villegas H. (Per)', 'Garay L. (Per)', 'Ureta D. (Per)', 'Espinoza M. (Per)', 'Cartagena J. (Per)', 0, 0, 0, 0, 'Alarcon J. (Per)', 'Ciriaco L. (Per)', 'Lozano C. (Arg)', 'Alarcon J. (Per)', 'Perez R. B. (Per)', 'Villegas H. (Per)', 'Seminario L. (Per)', 'Ordonez E. (Per)', 'Cartagena J. (Per)', 'Chambi J. (Per)', 0, 0, 0, 0, 'Ureta D. (Per)', 'Garay L. (Per)', 'Quiroz J. (Per)', 'Estadio Inca Garcilaso de la Vega (Cusco)', 'Estadio Iván Elías Moreno (Lima)', 'Zamora J. (Per)', 'Lopez Ramos P. (Esp)', 'Garay L. (Per)', 'Perez R. B. (Per)', 0, 0, 0, 0, 0, 'Estadio San Martin de Porres (Lima)', 'Alarcon J. (Per)', 'Perez R. B. (Per)', 'Villanueva A. (Per)', 'Villegas H. (Per)', 'Lopez P. (Per)', 'Ortega K. (Per)', 'Zamora J. (Per)', 0, 0, 0, 0, 0, 0, 'Alarcon J. (Per)', 'Ortega K. (Per)', 'Ureta D. (Per)', 'Seminario L. (Per)', 'Lozano Segado J. (Esp)', 'Barbagelatta G. (Per)', 'Perez R. B. (Per)', 'Legario F. (Per)', 'Ortega K. (Per)', 'Alarcon J. (Per)', 0, 0, 0, 0, 'Legario F. (Per)', 'Barbagelatta G. (Per)', 'Cartagena J. (Per)', 'Villegas H. (Per)', 'Huaman D. (Per)', 'Seminario L. (Per)', 'Alarcon J. (Per)', 'Espinoza M. (Per)', 'Menendez A. (Per)', 'Espinoza M. (Per)', 0, 0, 0, 0, 'Espinoza J. (Per)', 'Seminario L. (Per)', 'Villegas H. (Per)', 'Ortega K. (Arg)', 'Menendez A. (Per)', 'Ortega K. (Per)', 'Cartagena J. (Per)', 'Garay L. (Per)', 'Perez R. B. (Per)', 'Ordonez E. (Per)', 0, 0, 0, 0, 'Alarcon J. (Per)', 'Estadio Miguel Grau (Callao)', 'Villegas H. (Per)', 'Cartagena J. (Per)', 'Perez R. B. (Per)', 'Ortega K. (Per)', 'Ordonez E. (Per)', 'Espinoza M. (Per)', 'Estadio Monumental (Lima)', 'Alarcon J. (Per)', 0, 0, 0, 0, 'Huaman D. (Per)', 'Perez R. B. (Per)', 'Seminario L. (Per)', 'Mendoza J. (Per)', 'Alarcon J. (Per)', 'Ordonez E. (Per)', 'Espinoza J. (Per)', 'Menendez A. (Per)', 'Cartagena J. (Per)', 'Perez R. B. (Per)', 0, 0, 0, 0, 'Alarcon J. (Per)', 'Zamora J. (Per)', 'Espinoza J. (Per)', 'Seminario L. (Per)', 'Ordonez E. (Per)', 'Lopez P. (Per)', 'Espinoza M. (Per)', 'Alarcon J. (Per)', 'Barbagelatta G. (Per)', 0, 0, 0, 0, 0, 'Palomino M. (Per)', 'Legario F. (Per)', 'Espinoza J. (Per)', 'Estadio Huancayo (Huancayo)', 'Espinoza M. (Per)', 'Huaman D. (Per)', 'Perez R. B. (Per)', 'Legario F. (Per)', 'Garay L. (Per)', 'Ordonez E. (Per)', 0, 0, 0, 0, 'Perez R. B. (Per)', 'Lopez R. (Per)', 'Ordonez E. (Per)', 'Espinoza J. (Per)', 'Huaman D. (Per)', 'Legario F. (Per)', 'Barbagelatta G. (Per)', 'Perez R. B. (Per)', 'Alarcon J. (Per)', 'Espinoza M. (Per)', 0, 0, 0, 0, 0, 0, 0, 0, 0, 0, 0, 0, 0]\n",
      "\n"
     ]
    },
    {
     "name": "stderr",
     "output_type": "stream",
     "text": [
      "[WDM] - ====== WebDriver manager ======\n",
      "[WDM] - Current google-chrome version is 104.0.5112\n",
      "[WDM] - Get LATEST chromedriver version for 104.0.5112 google-chrome\n",
      "[WDM] - Current google-chrome version is 104.0.5112\n",
      "[WDM] - Get LATEST chromedriver version for 104.0.5112 google-chrome\n",
      "[WDM] - Driver [C:\\Users\\PC-1\\.wdm\\drivers\\chromedriver\\win32\\104.0.5112.79\\chromedriver.exe] found in cache\n",
      "[WDM] - Driver [C:\\Users\\PC-1\\.wdm\\drivers\\chromedriver\\win32\\104.0.5112.79\\chromedriver.exe] found in cache\n"
     ]
    },
    {
     "name": "stdout",
     "output_type": "stream",
     "text": [
      "Termino 52\n",
      "['Perez R. B. (Per)', 'Quiroz J. C. (Per)', 'Villegas H. (Per)', 'Lozano S. (Per)', 'Ortega K. (Per)', 'Menendez A. (Per)', 'Espinoza J. (Per)', 'Vasquez B. (Per)', 'Huamani J. (Per)', 'Lopez Ramos P. (Esp)', 'Garay L. (Per)', 0, 0, 0, 'Cartagena J. (Per)', 'Villegas H. (Per)', 'Cori V. (Per)', 'Villanueva A. (Per)', 'Legario F. (Per)', 'Blas W. (Per)', 'Seminario L. (Per)', 'Perez R. B. (Per)', 'Ureta D. (Per)', 'Lozano S. (Per)', 'Ortega K. (Per)', 0, 0, 0, 'Espinoza M. (Per)', 'Ordonez E. (Per)', 'Quiroz J. C. (Per)', 'Alarcon J. (Per)', 'Perez R. B. (Per)', 'Espinoza M. (Per)', 'Ortega K. (Per)', 'Ordonez E. (Per)', 'Espinoza J. (Per)', 'Huamani J. (Per)', 0, 0, 0, 0, 'Garay Evia L. (Per)', 'Lozano S. (Per)', 'Huaman D. (Per)', 'Vasquez B. (Per)', 'Legario F. (Per)', 'Villegas H. (Per)', 'Garay L. (Per)', 'Ureta D. (Per)', 'Espinoza M. (Per)', 'Cartagena J. (Per)', 'Cori V. (Per)', 0, 0, 0, 'Alarcon J. (Per)', 'Ciriaco L. (Per)', 'Lozano C. (Arg)', 'Alarcon J. (Per)', 'Perez R. B. (Per)', 'Villegas H. (Per)', 'Seminario L. (Per)', 'Ordonez E. (Per)', 'Cartagena J. (Per)', 'Chambi J. (Per)', 'Perez R. B. (Per)', 0, 0, 0, 'Ureta D. (Per)', 'Garay L. (Per)', 'Quiroz J. (Per)', 'Estadio Inca Garcilaso de la Vega (Cusco)', 'Estadio Iván Elías Moreno (Lima)', 'Zamora J. (Per)', 'Lopez Ramos P. (Esp)', 'Garay L. (Per)', 'Perez R. B. (Per)', 0, 0, 0, 0, 0, 'Estadio San Martin de Porres (Lima)', 'Alarcon J. (Per)', 'Perez R. B. (Per)', 'Villanueva A. (Per)', 'Villegas H. (Per)', 'Lopez P. (Per)', 'Ortega K. (Per)', 'Zamora J. (Per)', 0, 0, 0, 0, 0, 0, 'Alarcon J. (Per)', 'Ortega K. (Per)', 'Ureta D. (Per)', 'Seminario L. (Per)', 'Lozano Segado J. (Esp)', 'Barbagelatta G. (Per)', 'Perez R. B. (Per)', 'Legario F. (Per)', 'Ortega K. (Per)', 'Alarcon J. (Per)', 'Seminario L. (Per)', 0, 0, 0, 'Legario F. (Per)', 'Barbagelatta G. (Per)', 'Cartagena J. (Per)', 'Villegas H. (Per)', 'Huaman D. (Per)', 'Seminario L. (Per)', 'Alarcon J. (Per)', 'Espinoza M. (Per)', 'Menendez A. (Per)', 'Espinoza M. (Per)', 0, 0, 0, 0, 'Espinoza J. (Per)', 'Seminario L. (Per)', 'Villegas H. (Per)', 'Ortega K. (Arg)', 'Menendez A. (Per)', 'Ortega K. (Per)', 'Cartagena J. (Per)', 'Garay L. (Per)', 'Perez R. B. (Per)', 'Ordonez E. (Per)', 0, 0, 0, 0, 'Alarcon J. (Per)', 'Estadio Miguel Grau (Callao)', 'Villegas H. (Per)', 'Cartagena J. (Per)', 'Perez R. B. (Per)', 'Ortega K. (Per)', 'Ordonez E. (Per)', 'Espinoza M. (Per)', 'Estadio Monumental (Lima)', 'Alarcon J. (Per)', 0, 0, 0, 0, 'Huaman D. (Per)', 'Perez R. B. (Per)', 'Seminario L. (Per)', 'Mendoza J. (Per)', 'Alarcon J. (Per)', 'Ordonez E. (Per)', 'Espinoza J. (Per)', 'Menendez A. (Per)', 'Cartagena J. (Per)', 'Perez R. B. (Per)', 0, 0, 0, 0, 'Alarcon J. (Per)', 'Zamora J. (Per)', 'Espinoza J. (Per)', 'Seminario L. (Per)', 'Ordonez E. (Per)', 'Lopez P. (Per)', 'Espinoza M. (Per)', 'Alarcon J. (Per)', 'Barbagelatta G. (Per)', 0, 0, 0, 0, 0, 'Palomino M. (Per)', 'Legario F. (Per)', 'Espinoza J. (Per)', 'Estadio Huancayo (Huancayo)', 'Espinoza M. (Per)', 'Huaman D. (Per)', 'Perez R. B. (Per)', 'Legario F. (Per)', 'Garay L. (Per)', 'Ordonez E. (Per)', 0, 0, 0, 0, 'Perez R. B. (Per)', 'Lopez R. (Per)', 'Ordonez E. (Per)', 'Espinoza J. (Per)', 'Huaman D. (Per)', 'Legario F. (Per)', 'Barbagelatta G. (Per)', 'Perez R. B. (Per)', 'Alarcon J. (Per)', 'Espinoza M. (Per)', 0, 0, 0, 0, 0, 0, 0, 0, 0, 0, 0, 0, 0]\n",
      "\n"
     ]
    },
    {
     "name": "stderr",
     "output_type": "stream",
     "text": [
      "[WDM] - ====== WebDriver manager ======\n",
      "[WDM] - Current google-chrome version is 104.0.5112\n",
      "[WDM] - Get LATEST chromedriver version for 104.0.5112 google-chrome\n",
      "[WDM] - Driver [C:\\Users\\PC-1\\.wdm\\drivers\\chromedriver\\win32\\104.0.5112.79\\chromedriver.exe] found in cache\n"
     ]
    },
    {
     "name": "stdout",
     "output_type": "stream",
     "text": [
      "Termino 24\n",
      "['Perez R. B. (Per)', 'Quiroz J. C. (Per)', 'Villegas H. (Per)', 'Lozano S. (Per)', 'Ortega K. (Per)', 'Menendez A. (Per)', 'Espinoza J. (Per)', 'Vasquez B. (Per)', 'Huamani J. (Per)', 'Lopez Ramos P. (Esp)', 'Garay L. (Per)', 0, 0, 0, 'Cartagena J. (Per)', 'Villegas H. (Per)', 'Cori V. (Per)', 'Villanueva A. (Per)', 'Legario F. (Per)', 'Blas W. (Per)', 'Seminario L. (Per)', 'Perez R. B. (Per)', 'Ureta D. (Per)', 'Lozano S. (Per)', 'Ortega K. (Per)', 0, 0, 0, 'Espinoza M. (Per)', 'Ordonez E. (Per)', 'Quiroz J. C. (Per)', 'Alarcon J. (Per)', 'Perez R. B. (Per)', 'Espinoza M. (Per)', 'Ortega K. (Per)', 'Ordonez E. (Per)', 'Espinoza J. (Per)', 'Huamani J. (Per)', 0, 0, 0, 0, 'Garay Evia L. (Per)', 'Lozano S. (Per)', 'Huaman D. (Per)', 'Vasquez B. (Per)', 'Legario F. (Per)', 'Villegas H. (Per)', 'Garay L. (Per)', 'Ureta D. (Per)', 'Espinoza M. (Per)', 'Cartagena J. (Per)', 'Cori V. (Per)', 0, 0, 0, 'Alarcon J. (Per)', 'Ciriaco L. (Per)', 'Lozano C. (Arg)', 'Alarcon J. (Per)', 'Perez R. B. (Per)', 'Villegas H. (Per)', 'Seminario L. (Per)', 'Ordonez E. (Per)', 'Cartagena J. (Per)', 'Chambi J. (Per)', 'Perez R. B. (Per)', 0, 0, 0, 'Ureta D. (Per)', 'Garay L. (Per)', 'Quiroz J. (Per)', 'Estadio Inca Garcilaso de la Vega (Cusco)', 'Estadio Iván Elías Moreno (Lima)', 'Zamora J. (Per)', 'Lopez Ramos P. (Esp)', 'Garay L. (Per)', 'Perez R. B. (Per)', 0, 0, 0, 0, 0, 'Estadio San Martin de Porres (Lima)', 'Alarcon J. (Per)', 'Perez R. B. (Per)', 'Villanueva A. (Per)', 'Villegas H. (Per)', 'Lopez P. (Per)', 'Ortega K. (Per)', 'Zamora J. (Per)', 0, 0, 0, 0, 0, 0, 'Alarcon J. (Per)', 'Ortega K. (Per)', 'Ureta D. (Per)', 'Seminario L. (Per)', 'Lozano Segado J. (Esp)', 'Barbagelatta G. (Per)', 'Perez R. B. (Per)', 'Legario F. (Per)', 'Ortega K. (Per)', 'Alarcon J. (Per)', 'Seminario L. (Per)', 0, 0, 0, 'Legario F. (Per)', 'Barbagelatta G. (Per)', 'Cartagena J. (Per)', 'Villegas H. (Per)', 'Huaman D. (Per)', 'Seminario L. (Per)', 'Alarcon J. (Per)', 'Espinoza M. (Per)', 'Menendez A. (Per)', 'Espinoza M. (Per)', 0, 0, 0, 0, 'Espinoza J. (Per)', 'Seminario L. (Per)', 'Villegas H. (Per)', 'Ortega K. (Arg)', 'Menendez A. (Per)', 'Ortega K. (Per)', 'Cartagena J. (Per)', 'Garay L. (Per)', 'Perez R. B. (Per)', 'Ordonez E. (Per)', 0, 0, 0, 0, 'Alarcon J. (Per)', 'Estadio Miguel Grau (Callao)', 'Villegas H. (Per)', 'Cartagena J. (Per)', 'Perez R. B. (Per)', 'Ortega K. (Per)', 'Ordonez E. (Per)', 'Espinoza M. (Per)', 'Estadio Monumental (Lima)', 'Alarcon J. (Per)', 0, 0, 0, 0, 'Huaman D. (Per)', 'Perez R. B. (Per)', 'Seminario L. (Per)', 'Mendoza J. (Per)', 'Alarcon J. (Per)', 'Ordonez E. (Per)', 'Espinoza J. (Per)', 'Menendez A. (Per)', 'Cartagena J. (Per)', 'Perez R. B. (Per)', 0, 0, 0, 0, 'Alarcon J. (Per)', 'Zamora J. (Per)', 'Espinoza J. (Per)', 'Seminario L. (Per)', 'Ordonez E. (Per)', 'Lopez P. (Per)', 'Espinoza M. (Per)', 'Alarcon J. (Per)', 'Barbagelatta G. (Per)', 0, 0, 0, 0, 0, 'Palomino M. (Per)', 'Legario F. (Per)', 'Espinoza J. (Per)', 'Estadio Huancayo (Huancayo)', 'Espinoza M. (Per)', 'Huaman D. (Per)', 'Perez R. B. (Per)', 'Legario F. (Per)', 'Garay L. (Per)', 'Ordonez E. (Per)', 0, 0, 0, 0, 'Perez R. B. (Per)', 'Lopez R. (Per)', 'Ordonez E. (Per)', 'Espinoza J. (Per)', 'Huaman D. (Per)', 'Legario F. (Per)', 'Barbagelatta G. (Per)', 'Perez R. B. (Per)', 'Alarcon J. (Per)', 'Espinoza M. (Per)', 0, 0, 0, 0, 0, 0, 0, 0, 0, 0, 0, 0, 0]\n",
      "\n"
     ]
    },
    {
     "name": "stderr",
     "output_type": "stream",
     "text": [
      "[WDM] - ====== WebDriver manager ======\n",
      "[WDM] - Current google-chrome version is 104.0.5112\n",
      "[WDM] - Get LATEST chromedriver version for 104.0.5112 google-chrome\n",
      "[WDM] - Driver [C:\\Users\\PC-1\\.wdm\\drivers\\chromedriver\\win32\\104.0.5112.79\\chromedriver.exe] found in cache\n"
     ]
    },
    {
     "name": "stdout",
     "output_type": "stream",
     "text": [
      "Termino 108\n",
      "['Perez R. B. (Per)', 'Quiroz J. C. (Per)', 'Villegas H. (Per)', 'Lozano S. (Per)', 'Ortega K. (Per)', 'Menendez A. (Per)', 'Espinoza J. (Per)', 'Vasquez B. (Per)', 'Huamani J. (Per)', 'Lopez Ramos P. (Esp)', 'Garay L. (Per)', 0, 0, 0, 'Cartagena J. (Per)', 'Villegas H. (Per)', 'Cori V. (Per)', 'Villanueva A. (Per)', 'Legario F. (Per)', 'Blas W. (Per)', 'Seminario L. (Per)', 'Perez R. B. (Per)', 'Ureta D. (Per)', 'Lozano S. (Per)', 'Ortega K. (Per)', 0, 0, 0, 'Espinoza M. (Per)', 'Ordonez E. (Per)', 'Quiroz J. C. (Per)', 'Alarcon J. (Per)', 'Perez R. B. (Per)', 'Espinoza M. (Per)', 'Ortega K. (Per)', 'Ordonez E. (Per)', 'Espinoza J. (Per)', 'Huamani J. (Per)', 0, 0, 0, 0, 'Garay Evia L. (Per)', 'Lozano S. (Per)', 'Huaman D. (Per)', 'Vasquez B. (Per)', 'Legario F. (Per)', 'Villegas H. (Per)', 'Garay L. (Per)', 'Ureta D. (Per)', 'Espinoza M. (Per)', 'Cartagena J. (Per)', 'Cori V. (Per)', 0, 0, 0, 'Alarcon J. (Per)', 'Ciriaco L. (Per)', 'Lozano C. (Arg)', 'Alarcon J. (Per)', 'Perez R. B. (Per)', 'Villegas H. (Per)', 'Seminario L. (Per)', 'Ordonez E. (Per)', 'Cartagena J. (Per)', 'Chambi J. (Per)', 'Perez R. B. (Per)', 0, 0, 0, 'Ureta D. (Per)', 'Garay L. (Per)', 'Quiroz J. (Per)', 'Estadio Inca Garcilaso de la Vega (Cusco)', 'Estadio Iván Elías Moreno (Lima)', 'Zamora J. (Per)', 'Lopez Ramos P. (Esp)', 'Garay L. (Per)', 'Perez R. B. (Per)', 0, 0, 0, 0, 0, 'Estadio San Martin de Porres (Lima)', 'Alarcon J. (Per)', 'Perez R. B. (Per)', 'Villanueva A. (Per)', 'Villegas H. (Per)', 'Lopez P. (Per)', 'Ortega K. (Per)', 'Zamora J. (Per)', 0, 0, 0, 0, 0, 0, 'Alarcon J. (Per)', 'Ortega K. (Per)', 'Ureta D. (Per)', 'Seminario L. (Per)', 'Lozano Segado J. (Esp)', 'Barbagelatta G. (Per)', 'Perez R. B. (Per)', 'Legario F. (Per)', 'Ortega K. (Per)', 'Alarcon J. (Per)', 'Seminario L. (Per)', 0, 0, 0, 'Legario F. (Per)', 'Barbagelatta G. (Per)', 'Cartagena J. (Per)', 'Villegas H. (Per)', 'Huaman D. (Per)', 'Seminario L. (Per)', 'Alarcon J. (Per)', 'Espinoza M. (Per)', 'Menendez A. (Per)', 'Espinoza M. (Per)', 0, 0, 0, 0, 'Espinoza J. (Per)', 'Seminario L. (Per)', 'Villegas H. (Per)', 'Ortega K. (Arg)', 'Menendez A. (Per)', 'Ortega K. (Per)', 'Cartagena J. (Per)', 'Garay L. (Per)', 'Perez R. B. (Per)', 'Ordonez E. (Per)', 'Estadio Miguel Grau (Piura)', 0, 0, 0, 'Alarcon J. (Per)', 'Estadio Miguel Grau (Callao)', 'Villegas H. (Per)', 'Cartagena J. (Per)', 'Perez R. B. (Per)', 'Ortega K. (Per)', 'Ordonez E. (Per)', 'Espinoza M. (Per)', 'Estadio Monumental (Lima)', 'Alarcon J. (Per)', 0, 0, 0, 0, 'Huaman D. (Per)', 'Perez R. B. (Per)', 'Seminario L. (Per)', 'Mendoza J. (Per)', 'Alarcon J. (Per)', 'Ordonez E. (Per)', 'Espinoza J. (Per)', 'Menendez A. (Per)', 'Cartagena J. (Per)', 'Perez R. B. (Per)', 0, 0, 0, 0, 'Alarcon J. (Per)', 'Zamora J. (Per)', 'Espinoza J. (Per)', 'Seminario L. (Per)', 'Ordonez E. (Per)', 'Lopez P. (Per)', 'Espinoza M. (Per)', 'Alarcon J. (Per)', 'Barbagelatta G. (Per)', 0, 0, 0, 0, 0, 'Palomino M. (Per)', 'Legario F. (Per)', 'Espinoza J. (Per)', 'Estadio Huancayo (Huancayo)', 'Espinoza M. (Per)', 'Huaman D. (Per)', 'Perez R. B. (Per)', 'Legario F. (Per)', 'Garay L. (Per)', 'Ordonez E. (Per)', 0, 0, 0, 0, 'Perez R. B. (Per)', 'Lopez R. (Per)', 'Ordonez E. (Per)', 'Espinoza J. (Per)', 'Huaman D. (Per)', 'Legario F. (Per)', 'Barbagelatta G. (Per)', 'Perez R. B. (Per)', 'Alarcon J. (Per)', 'Espinoza M. (Per)', 'Legario F. (Per)', 0, 0, 0, 0, 0, 0, 0, 0, 0, 0, 0, 0]\n",
      "\n"
     ]
    },
    {
     "name": "stderr",
     "output_type": "stream",
     "text": [
      "[WDM] - ====== WebDriver manager ======\n"
     ]
    },
    {
     "name": "stdout",
     "output_type": "stream",
     "text": [
      "Termino 66\n",
      "['Perez R. B. (Per)', 'Quiroz J. C. (Per)', 'Villegas H. (Per)', 'Lozano S. (Per)', 'Ortega K. (Per)', 'Menendez A. (Per)', 'Espinoza J. (Per)', 'Vasquez B. (Per)', 'Huamani J. (Per)', 'Lopez Ramos P. (Esp)', 'Garay L. (Per)', 0, 0, 0, 'Cartagena J. (Per)', 'Villegas H. (Per)', 'Cori V. (Per)', 'Villanueva A. (Per)', 'Legario F. (Per)', 'Blas W. (Per)', 'Seminario L. (Per)', 'Perez R. B. (Per)', 'Ureta D. (Per)', 'Lozano S. (Per)', 'Ortega K. (Per)', 0, 0, 0, 'Espinoza M. (Per)', 'Ordonez E. (Per)', 'Quiroz J. C. (Per)', 'Alarcon J. (Per)', 'Perez R. B. (Per)', 'Espinoza M. (Per)', 'Ortega K. (Per)', 'Ordonez E. (Per)', 'Espinoza J. (Per)', 'Huamani J. (Per)', 0, 0, 0, 0, 'Garay Evia L. (Per)', 'Lozano S. (Per)', 'Huaman D. (Per)', 'Vasquez B. (Per)', 'Legario F. (Per)', 'Villegas H. (Per)', 'Garay L. (Per)', 'Ureta D. (Per)', 'Espinoza M. (Per)', 'Cartagena J. (Per)', 'Cori V. (Per)', 0, 0, 0, 'Alarcon J. (Per)', 'Ciriaco L. (Per)', 'Lozano C. (Arg)', 'Alarcon J. (Per)', 'Perez R. B. (Per)', 'Villegas H. (Per)', 'Seminario L. (Per)', 'Ordonez E. (Per)', 'Cartagena J. (Per)', 'Chambi J. (Per)', 'Perez R. B. (Per)', 0, 0, 0, 'Ureta D. (Per)', 'Garay L. (Per)', 'Quiroz J. (Per)', 'Estadio Inca Garcilaso de la Vega (Cusco)', 'Estadio Iván Elías Moreno (Lima)', 'Zamora J. (Per)', 'Lopez Ramos P. (Esp)', 'Garay L. (Per)', 'Perez R. B. (Per)', 'Ordonez E. (Per)', 0, 0, 0, 0, 'Estadio San Martin de Porres (Lima)', 'Alarcon J. (Per)', 'Perez R. B. (Per)', 'Villanueva A. (Per)', 'Villegas H. (Per)', 'Lopez P. (Per)', 'Ortega K. (Per)', 'Zamora J. (Per)', 0, 0, 0, 0, 0, 0, 'Alarcon J. (Per)', 'Ortega K. (Per)', 'Ureta D. (Per)', 'Seminario L. (Per)', 'Lozano Segado J. (Esp)', 'Barbagelatta G. (Per)', 'Perez R. B. (Per)', 'Legario F. (Per)', 'Ortega K. (Per)', 'Alarcon J. (Per)', 'Seminario L. (Per)', 0, 0, 0, 'Legario F. (Per)', 'Barbagelatta G. (Per)', 'Cartagena J. (Per)', 'Villegas H. (Per)', 'Huaman D. (Per)', 'Seminario L. (Per)', 'Alarcon J. (Per)', 'Espinoza M. (Per)', 'Menendez A. (Per)', 'Espinoza M. (Per)', 0, 0, 0, 0, 'Espinoza J. (Per)', 'Seminario L. (Per)', 'Villegas H. (Per)', 'Ortega K. (Arg)', 'Menendez A. (Per)', 'Ortega K. (Per)', 'Cartagena J. (Per)', 'Garay L. (Per)', 'Perez R. B. (Per)', 'Ordonez E. (Per)', 'Estadio Miguel Grau (Piura)', 0, 0, 0, 'Alarcon J. (Per)', 'Estadio Miguel Grau (Callao)', 'Villegas H. (Per)', 'Cartagena J. (Per)', 'Perez R. B. (Per)', 'Ortega K. (Per)', 'Ordonez E. (Per)', 'Espinoza M. (Per)', 'Estadio Monumental (Lima)', 'Alarcon J. (Per)', 0, 0, 0, 0, 'Huaman D. (Per)', 'Perez R. B. (Per)', 'Seminario L. (Per)', 'Mendoza J. (Per)', 'Alarcon J. (Per)', 'Ordonez E. (Per)', 'Espinoza J. (Per)', 'Menendez A. (Per)', 'Cartagena J. (Per)', 'Perez R. B. (Per)', 0, 0, 0, 0, 'Alarcon J. (Per)', 'Zamora J. (Per)', 'Espinoza J. (Per)', 'Seminario L. (Per)', 'Ordonez E. (Per)', 'Lopez P. (Per)', 'Espinoza M. (Per)', 'Alarcon J. (Per)', 'Barbagelatta G. (Per)', 0, 0, 0, 0, 0, 'Palomino M. (Per)', 'Legario F. (Per)', 'Espinoza J. (Per)', 'Estadio Huancayo (Huancayo)', 'Espinoza M. (Per)', 'Huaman D. (Per)', 'Perez R. B. (Per)', 'Legario F. (Per)', 'Garay L. (Per)', 'Ordonez E. (Per)', 0, 0, 0, 0, 'Perez R. B. (Per)', 'Lopez R. (Per)', 'Ordonez E. (Per)', 'Espinoza J. (Per)', 'Huaman D. (Per)', 'Legario F. (Per)', 'Barbagelatta G. (Per)', 'Perez R. B. (Per)', 'Alarcon J. (Per)', 'Espinoza M. (Per)', 'Legario F. (Per)', 0, 0, 0, 0, 0, 0, 0, 0, 0, 0, 0, 0]\n",
      "\n"
     ]
    },
    {
     "name": "stderr",
     "output_type": "stream",
     "text": [
      "[WDM] - ====== WebDriver manager ======\n",
      "[WDM] - Current google-chrome version is 104.0.5112\n",
      "[WDM] - Get LATEST chromedriver version for 104.0.5112 google-chrome\n",
      "[WDM] - Driver [C:\\Users\\PC-1\\.wdm\\drivers\\chromedriver\\win32\\104.0.5112.79\\chromedriver.exe] found in cache\n",
      "[WDM] - Current google-chrome version is 104.0.5112\n",
      "[WDM] - Get LATEST chromedriver version for 104.0.5112 google-chrome\n",
      "[WDM] - Driver [C:\\Users\\PC-1\\.wdm\\drivers\\chromedriver\\win32\\104.0.5112.79\\chromedriver.exe] found in cache\n"
     ]
    },
    {
     "name": "stdout",
     "output_type": "stream",
     "text": [
      "Termino 206\n",
      "['Perez R. B. (Per)', 'Quiroz J. C. (Per)', 'Villegas H. (Per)', 'Lozano S. (Per)', 'Ortega K. (Per)', 'Menendez A. (Per)', 'Espinoza J. (Per)', 'Vasquez B. (Per)', 'Huamani J. (Per)', 'Lopez Ramos P. (Esp)', 'Garay L. (Per)', 0, 0, 0, 'Cartagena J. (Per)', 'Villegas H. (Per)', 'Cori V. (Per)', 'Villanueva A. (Per)', 'Legario F. (Per)', 'Blas W. (Per)', 'Seminario L. (Per)', 'Perez R. B. (Per)', 'Ureta D. (Per)', 'Lozano S. (Per)', 'Ortega K. (Per)', 0, 0, 0, 'Espinoza M. (Per)', 'Ordonez E. (Per)', 'Quiroz J. C. (Per)', 'Alarcon J. (Per)', 'Perez R. B. (Per)', 'Espinoza M. (Per)', 'Ortega K. (Per)', 'Ordonez E. (Per)', 'Espinoza J. (Per)', 'Huamani J. (Per)', 0, 0, 0, 0, 'Garay Evia L. (Per)', 'Lozano S. (Per)', 'Huaman D. (Per)', 'Vasquez B. (Per)', 'Legario F. (Per)', 'Villegas H. (Per)', 'Garay L. (Per)', 'Ureta D. (Per)', 'Espinoza M. (Per)', 'Cartagena J. (Per)', 'Cori V. (Per)', 0, 0, 0, 'Alarcon J. (Per)', 'Ciriaco L. (Per)', 'Lozano C. (Arg)', 'Alarcon J. (Per)', 'Perez R. B. (Per)', 'Villegas H. (Per)', 'Seminario L. (Per)', 'Ordonez E. (Per)', 'Cartagena J. (Per)', 'Chambi J. (Per)', 'Perez R. B. (Per)', 0, 0, 0, 'Ureta D. (Per)', 'Garay L. (Per)', 'Quiroz J. (Per)', 'Estadio Inca Garcilaso de la Vega (Cusco)', 'Estadio Iván Elías Moreno (Lima)', 'Zamora J. (Per)', 'Lopez Ramos P. (Esp)', 'Garay L. (Per)', 'Perez R. B. (Per)', 'Ordonez E. (Per)', 0, 0, 0, 0, 'Estadio San Martin de Porres (Lima)', 'Alarcon J. (Per)', 'Perez R. B. (Per)', 'Villanueva A. (Per)', 'Villegas H. (Per)', 'Lopez P. (Per)', 'Ortega K. (Per)', 'Zamora J. (Per)', 'Vasquez B. (Per)', 0, 0, 0, 0, 0, 'Alarcon J. (Per)', 'Ortega K. (Per)', 'Ureta D. (Per)', 'Seminario L. (Per)', 'Lozano Segado J. (Esp)', 'Barbagelatta G. (Per)', 'Perez R. B. (Per)', 'Legario F. (Per)', 'Ortega K. (Per)', 'Alarcon J. (Per)', 'Seminario L. (Per)', 0, 0, 0, 'Legario F. (Per)', 'Barbagelatta G. (Per)', 'Cartagena J. (Per)', 'Villegas H. (Per)', 'Huaman D. (Per)', 'Seminario L. (Per)', 'Alarcon J. (Per)', 'Espinoza M. (Per)', 'Menendez A. (Per)', 'Espinoza M. (Per)', 0, 0, 0, 0, 'Espinoza J. (Per)', 'Seminario L. (Per)', 'Villegas H. (Per)', 'Ortega K. (Arg)', 'Menendez A. (Per)', 'Ortega K. (Per)', 'Cartagena J. (Per)', 'Garay L. (Per)', 'Perez R. B. (Per)', 'Ordonez E. (Per)', 'Estadio Miguel Grau (Piura)', 0, 0, 0, 'Alarcon J. (Per)', 'Estadio Miguel Grau (Callao)', 'Villegas H. (Per)', 'Cartagena J. (Per)', 'Perez R. B. (Per)', 'Ortega K. (Per)', 'Ordonez E. (Per)', 'Espinoza M. (Per)', 'Estadio Monumental (Lima)', 'Alarcon J. (Per)', 'Espinoza J. (Per)', 0, 0, 0, 'Huaman D. (Per)', 'Perez R. B. (Per)', 'Seminario L. (Per)', 'Mendoza J. (Per)', 'Alarcon J. (Per)', 'Ordonez E. (Per)', 'Espinoza J. (Per)', 'Menendez A. (Per)', 'Cartagena J. (Per)', 'Perez R. B. (Per)', 0, 0, 0, 0, 'Alarcon J. (Per)', 'Zamora J. (Per)', 'Espinoza J. (Per)', 'Seminario L. (Per)', 'Ordonez E. (Per)', 'Lopez P. (Per)', 'Espinoza M. (Per)', 'Alarcon J. (Per)', 'Barbagelatta G. (Per)', 'Estadio Alejandro Villanueva (Lima)', 0, 0, 0, 0, 'Palomino M. (Per)', 'Legario F. (Per)', 'Espinoza J. (Per)', 'Estadio Huancayo (Huancayo)', 'Espinoza M. (Per)', 'Huaman D. (Per)', 'Perez R. B. (Per)', 'Legario F. (Per)', 'Garay L. (Per)', 'Ordonez E. (Per)', 0, 0, 0, 0, 'Perez R. B. (Per)', 'Lopez R. (Per)', 'Ordonez E. (Per)', 'Espinoza J. (Per)', 'Huaman D. (Per)', 'Legario F. (Per)', 'Barbagelatta G. (Per)', 'Perez R. B. (Per)', 'Alarcon J. (Per)', 'Espinoza M. (Per)', 'Legario F. (Per)', 0, 0, 0, 0, 0, 0, 0, 0, 0, 0, 0, 0]\n",
      "\n"
     ]
    },
    {
     "name": "stderr",
     "output_type": "stream",
     "text": [
      "[WDM] - ====== WebDriver manager ======\n"
     ]
    },
    {
     "name": "stdout",
     "output_type": "stream",
     "text": [
      "Termino 136\n",
      "['Perez R. B. (Per)', 'Quiroz J. C. (Per)', 'Villegas H. (Per)', 'Lozano S. (Per)', 'Ortega K. (Per)', 'Menendez A. (Per)', 'Espinoza J. (Per)', 'Vasquez B. (Per)', 'Huamani J. (Per)', 'Lopez Ramos P. (Esp)', 'Garay L. (Per)', 0, 0, 0, 'Cartagena J. (Per)', 'Villegas H. (Per)', 'Cori V. (Per)', 'Villanueva A. (Per)', 'Legario F. (Per)', 'Blas W. (Per)', 'Seminario L. (Per)', 'Perez R. B. (Per)', 'Ureta D. (Per)', 'Lozano S. (Per)', 'Ortega K. (Per)', 0, 0, 0, 'Espinoza M. (Per)', 'Ordonez E. (Per)', 'Quiroz J. C. (Per)', 'Alarcon J. (Per)', 'Perez R. B. (Per)', 'Espinoza M. (Per)', 'Ortega K. (Per)', 'Ordonez E. (Per)', 'Espinoza J. (Per)', 'Huamani J. (Per)', 0, 0, 0, 0, 'Garay Evia L. (Per)', 'Lozano S. (Per)', 'Huaman D. (Per)', 'Vasquez B. (Per)', 'Legario F. (Per)', 'Villegas H. (Per)', 'Garay L. (Per)', 'Ureta D. (Per)', 'Espinoza M. (Per)', 'Cartagena J. (Per)', 'Cori V. (Per)', 0, 0, 0, 'Alarcon J. (Per)', 'Ciriaco L. (Per)', 'Lozano C. (Arg)', 'Alarcon J. (Per)', 'Perez R. B. (Per)', 'Villegas H. (Per)', 'Seminario L. (Per)', 'Ordonez E. (Per)', 'Cartagena J. (Per)', 'Chambi J. (Per)', 'Perez R. B. (Per)', 0, 0, 0, 'Ureta D. (Per)', 'Garay L. (Per)', 'Quiroz J. (Per)', 'Estadio Inca Garcilaso de la Vega (Cusco)', 'Estadio Iván Elías Moreno (Lima)', 'Zamora J. (Per)', 'Lopez Ramos P. (Esp)', 'Garay L. (Per)', 'Perez R. B. (Per)', 'Ordonez E. (Per)', 0, 0, 0, 0, 'Estadio San Martin de Porres (Lima)', 'Alarcon J. (Per)', 'Perez R. B. (Per)', 'Villanueva A. (Per)', 'Villegas H. (Per)', 'Lopez P. (Per)', 'Ortega K. (Per)', 'Zamora J. (Per)', 'Vasquez B. (Per)', 0, 0, 0, 0, 0, 'Alarcon J. (Per)', 'Ortega K. (Per)', 'Ureta D. (Per)', 'Seminario L. (Per)', 'Lozano Segado J. (Esp)', 'Barbagelatta G. (Per)', 'Perez R. B. (Per)', 'Legario F. (Per)', 'Ortega K. (Per)', 'Alarcon J. (Per)', 'Seminario L. (Per)', 0, 0, 0, 'Legario F. (Per)', 'Barbagelatta G. (Per)', 'Cartagena J. (Per)', 'Villegas H. (Per)', 'Huaman D. (Per)', 'Seminario L. (Per)', 'Alarcon J. (Per)', 'Espinoza M. (Per)', 'Menendez A. (Per)', 'Espinoza M. (Per)', 0, 0, 0, 0, 'Espinoza J. (Per)', 'Seminario L. (Per)', 'Villegas H. (Per)', 'Ortega K. (Arg)', 'Menendez A. (Per)', 'Ortega K. (Per)', 'Cartagena J. (Per)', 'Garay L. (Per)', 'Perez R. B. (Per)', 'Ordonez E. (Per)', 'Estadio Miguel Grau (Piura)', 0, 0, 0, 'Alarcon J. (Per)', 'Estadio Miguel Grau (Callao)', 'Villegas H. (Per)', 'Cartagena J. (Per)', 'Perez R. B. (Per)', 'Ortega K. (Per)', 'Ordonez E. (Per)', 'Espinoza M. (Per)', 'Estadio Monumental (Lima)', 'Alarcon J. (Per)', 'Espinoza J. (Per)', 0, 0, 0, 'Huaman D. (Per)', 'Perez R. B. (Per)', 'Seminario L. (Per)', 'Mendoza J. (Per)', 'Alarcon J. (Per)', 'Ordonez E. (Per)', 'Espinoza J. (Per)', 'Menendez A. (Per)', 'Cartagena J. (Per)', 'Perez R. B. (Per)', 0, 0, 0, 0, 'Alarcon J. (Per)', 'Zamora J. (Per)', 'Espinoza J. (Per)', 'Seminario L. (Per)', 'Ordonez E. (Per)', 'Lopez P. (Per)', 'Espinoza M. (Per)', 'Alarcon J. (Per)', 'Barbagelatta G. (Per)', 'Estadio Alejandro Villanueva (Lima)', 0, 0, 0, 0, 'Palomino M. (Per)', 'Legario F. (Per)', 'Espinoza J. (Per)', 'Estadio Huancayo (Huancayo)', 'Espinoza M. (Per)', 'Huaman D. (Per)', 'Perez R. B. (Per)', 'Legario F. (Per)', 'Garay L. (Per)', 'Ordonez E. (Per)', 0, 0, 0, 0, 'Perez R. B. (Per)', 'Lopez R. (Per)', 'Ordonez E. (Per)', 'Espinoza J. (Per)', 'Huaman D. (Per)', 'Legario F. (Per)', 'Barbagelatta G. (Per)', 'Perez R. B. (Per)', 'Alarcon J. (Per)', 'Espinoza M. (Per)', 'Legario F. (Per)', 0, 0, 0, 0, 0, 0, 0, 0, 0, 0, 0, 0]\n",
      "\n"
     ]
    },
    {
     "name": "stderr",
     "output_type": "stream",
     "text": [
      "[WDM] - ====== WebDriver manager ======\n",
      "[WDM] - Current google-chrome version is 104.0.5112\n",
      "[WDM] - Get LATEST chromedriver version for 104.0.5112 google-chrome\n",
      "[WDM] - Driver [C:\\Users\\PC-1\\.wdm\\drivers\\chromedriver\\win32\\104.0.5112.79\\chromedriver.exe] found in cache\n",
      "[WDM] - Current google-chrome version is 104.0.5112\n",
      "[WDM] - Get LATEST chromedriver version for 104.0.5112 google-chrome\n",
      "[WDM] - Driver [C:\\Users\\PC-1\\.wdm\\drivers\\chromedriver\\win32\\104.0.5112.79\\chromedriver.exe] found in cache\n"
     ]
    },
    {
     "name": "stdout",
     "output_type": "stream",
     "text": [
      "Termino 79\n",
      "['Perez R. B. (Per)', 'Quiroz J. C. (Per)', 'Villegas H. (Per)', 'Lozano S. (Per)', 'Ortega K. (Per)', 'Menendez A. (Per)', 'Espinoza J. (Per)', 'Vasquez B. (Per)', 'Huamani J. (Per)', 'Lopez Ramos P. (Esp)', 'Garay L. (Per)', 'Ureta D. (Per)', 0, 0, 'Cartagena J. (Per)', 'Villegas H. (Per)', 'Cori V. (Per)', 'Villanueva A. (Per)', 'Legario F. (Per)', 'Blas W. (Per)', 'Seminario L. (Per)', 'Perez R. B. (Per)', 'Ureta D. (Per)', 'Lozano S. (Per)', 'Ortega K. (Per)', 0, 0, 0, 'Espinoza M. (Per)', 'Ordonez E. (Per)', 'Quiroz J. C. (Per)', 'Alarcon J. (Per)', 'Perez R. B. (Per)', 'Espinoza M. (Per)', 'Ortega K. (Per)', 'Ordonez E. (Per)', 'Espinoza J. (Per)', 'Huamani J. (Per)', 0, 0, 0, 0, 'Garay Evia L. (Per)', 'Lozano S. (Per)', 'Huaman D. (Per)', 'Vasquez B. (Per)', 'Legario F. (Per)', 'Villegas H. (Per)', 'Garay L. (Per)', 'Ureta D. (Per)', 'Espinoza M. (Per)', 'Cartagena J. (Per)', 'Cori V. (Per)', 0, 0, 0, 'Alarcon J. (Per)', 'Ciriaco L. (Per)', 'Lozano C. (Arg)', 'Alarcon J. (Per)', 'Perez R. B. (Per)', 'Villegas H. (Per)', 'Seminario L. (Per)', 'Ordonez E. (Per)', 'Cartagena J. (Per)', 'Chambi J. (Per)', 'Perez R. B. (Per)', 0, 0, 0, 'Ureta D. (Per)', 'Garay L. (Per)', 'Quiroz J. (Per)', 'Estadio Inca Garcilaso de la Vega (Cusco)', 'Estadio Iván Elías Moreno (Lima)', 'Zamora J. (Per)', 'Lopez Ramos P. (Esp)', 'Garay L. (Per)', 'Perez R. B. (Per)', 'Ordonez E. (Per)', 0, 0, 0, 0, 'Estadio San Martin de Porres (Lima)', 'Alarcon J. (Per)', 'Perez R. B. (Per)', 'Villanueva A. (Per)', 'Villegas H. (Per)', 'Lopez P. (Per)', 'Ortega K. (Per)', 'Zamora J. (Per)', 'Vasquez B. (Per)', 0, 0, 0, 0, 0, 'Alarcon J. (Per)', 'Ortega K. (Per)', 'Ureta D. (Per)', 'Seminario L. (Per)', 'Lozano Segado J. (Esp)', 'Barbagelatta G. (Per)', 'Perez R. B. (Per)', 'Legario F. (Per)', 'Ortega K. (Per)', 'Alarcon J. (Per)', 'Seminario L. (Per)', 0, 0, 0, 'Legario F. (Per)', 'Barbagelatta G. (Per)', 'Cartagena J. (Per)', 'Villegas H. (Per)', 'Huaman D. (Per)', 'Seminario L. (Per)', 'Alarcon J. (Per)', 'Espinoza M. (Per)', 'Menendez A. (Per)', 'Espinoza M. (Per)', 0, 0, 0, 0, 'Espinoza J. (Per)', 'Seminario L. (Per)', 'Villegas H. (Per)', 'Ortega K. (Arg)', 'Menendez A. (Per)', 'Ortega K. (Per)', 'Cartagena J. (Per)', 'Garay L. (Per)', 'Perez R. B. (Per)', 'Ordonez E. (Per)', 'Estadio Miguel Grau (Piura)', 0, 0, 0, 'Alarcon J. (Per)', 'Estadio Miguel Grau (Callao)', 'Villegas H. (Per)', 'Cartagena J. (Per)', 'Perez R. B. (Per)', 'Ortega K. (Per)', 'Ordonez E. (Per)', 'Espinoza M. (Per)', 'Estadio Monumental (Lima)', 'Alarcon J. (Per)', 'Espinoza J. (Per)', 0, 0, 0, 'Huaman D. (Per)', 'Perez R. B. (Per)', 'Seminario L. (Per)', 'Mendoza J. (Per)', 'Alarcon J. (Per)', 'Ordonez E. (Per)', 'Espinoza J. (Per)', 'Menendez A. (Per)', 'Cartagena J. (Per)', 'Perez R. B. (Per)', 'Lopez R. (Per)', 0, 0, 0, 'Alarcon J. (Per)', 'Zamora J. (Per)', 'Espinoza J. (Per)', 'Seminario L. (Per)', 'Ordonez E. (Per)', 'Lopez P. (Per)', 'Espinoza M. (Per)', 'Alarcon J. (Per)', 'Barbagelatta G. (Per)', 'Estadio Alejandro Villanueva (Lima)', 0, 0, 0, 0, 'Palomino M. (Per)', 'Legario F. (Per)', 'Espinoza J. (Per)', 'Estadio Huancayo (Huancayo)', 'Espinoza M. (Per)', 'Huaman D. (Per)', 'Perez R. B. (Per)', 'Legario F. (Per)', 'Garay L. (Per)', 'Ordonez E. (Per)', 0, 0, 0, 0, 'Perez R. B. (Per)', 'Lopez R. (Per)', 'Ordonez E. (Per)', 'Espinoza J. (Per)', 'Huaman D. (Per)', 'Legario F. (Per)', 'Barbagelatta G. (Per)', 'Perez R. B. (Per)', 'Alarcon J. (Per)', 'Espinoza M. (Per)', 'Legario F. (Per)', 0, 0, 0, 0, 0, 0, 0, 0, 0, 0, 0, 0]\n",
      "\n"
     ]
    },
    {
     "name": "stderr",
     "output_type": "stream",
     "text": [
      "[WDM] - ====== WebDriver manager ======\n",
      "[WDM] - Current google-chrome version is 104.0.5112\n",
      "[WDM] - Get LATEST chromedriver version for 104.0.5112 google-chrome\n"
     ]
    },
    {
     "name": "stdout",
     "output_type": "stream",
     "text": [
      "Termino 150\n",
      "['Perez R. B. (Per)', 'Quiroz J. C. (Per)', 'Villegas H. (Per)', 'Lozano S. (Per)', 'Ortega K. (Per)', 'Menendez A. (Per)', 'Espinoza J. (Per)', 'Vasquez B. (Per)', 'Huamani J. (Per)', 'Lopez Ramos P. (Esp)', 'Garay L. (Per)', 'Ureta D. (Per)', 0, 0, 'Cartagena J. (Per)', 'Villegas H. (Per)', 'Cori V. (Per)', 'Villanueva A. (Per)', 'Legario F. (Per)', 'Blas W. (Per)', 'Seminario L. (Per)', 'Perez R. B. (Per)', 'Ureta D. (Per)', 'Lozano S. (Per)', 'Ortega K. (Per)', 0, 0, 0, 'Espinoza M. (Per)', 'Ordonez E. (Per)', 'Quiroz J. C. (Per)', 'Alarcon J. (Per)', 'Perez R. B. (Per)', 'Espinoza M. (Per)', 'Ortega K. (Per)', 'Ordonez E. (Per)', 'Espinoza J. (Per)', 'Huamani J. (Per)', 'Blas A. (Per)', 0, 0, 0, 'Garay Evia L. (Per)', 'Lozano S. (Per)', 'Huaman D. (Per)', 'Vasquez B. (Per)', 'Legario F. (Per)', 'Villegas H. (Per)', 'Garay L. (Per)', 'Ureta D. (Per)', 'Espinoza M. (Per)', 'Cartagena J. (Per)', 'Cori V. (Per)', 0, 0, 0, 'Alarcon J. (Per)', 'Ciriaco L. (Per)', 'Lozano C. (Arg)', 'Alarcon J. (Per)', 'Perez R. B. (Per)', 'Villegas H. (Per)', 'Seminario L. (Per)', 'Ordonez E. (Per)', 'Cartagena J. (Per)', 'Chambi J. (Per)', 'Perez R. B. (Per)', 0, 0, 0, 'Ureta D. (Per)', 'Garay L. (Per)', 'Quiroz J. (Per)', 'Estadio Inca Garcilaso de la Vega (Cusco)', 'Estadio Iván Elías Moreno (Lima)', 'Zamora J. (Per)', 'Lopez Ramos P. (Esp)', 'Garay L. (Per)', 'Perez R. B. (Per)', 'Ordonez E. (Per)', 0, 0, 0, 0, 'Estadio San Martin de Porres (Lima)', 'Alarcon J. (Per)', 'Perez R. B. (Per)', 'Villanueva A. (Per)', 'Villegas H. (Per)', 'Lopez P. (Per)', 'Ortega K. (Per)', 'Zamora J. (Per)', 'Vasquez B. (Per)', 0, 0, 0, 0, 0, 'Alarcon J. (Per)', 'Ortega K. (Per)', 'Ureta D. (Per)', 'Seminario L. (Per)', 'Lozano Segado J. (Esp)', 'Barbagelatta G. (Per)', 'Perez R. B. (Per)', 'Legario F. (Per)', 'Ortega K. (Per)', 'Alarcon J. (Per)', 'Seminario L. (Per)', 0, 0, 0, 'Legario F. (Per)', 'Barbagelatta G. (Per)', 'Cartagena J. (Per)', 'Villegas H. (Per)', 'Huaman D. (Per)', 'Seminario L. (Per)', 'Alarcon J. (Per)', 'Espinoza M. (Per)', 'Menendez A. (Per)', 'Espinoza M. (Per)', 0, 0, 0, 0, 'Espinoza J. (Per)', 'Seminario L. (Per)', 'Villegas H. (Per)', 'Ortega K. (Arg)', 'Menendez A. (Per)', 'Ortega K. (Per)', 'Cartagena J. (Per)', 'Garay L. (Per)', 'Perez R. B. (Per)', 'Ordonez E. (Per)', 'Estadio Miguel Grau (Piura)', 0, 0, 0, 'Alarcon J. (Per)', 'Estadio Miguel Grau (Callao)', 'Villegas H. (Per)', 'Cartagena J. (Per)', 'Perez R. B. (Per)', 'Ortega K. (Per)', 'Ordonez E. (Per)', 'Espinoza M. (Per)', 'Estadio Monumental (Lima)', 'Alarcon J. (Per)', 'Espinoza J. (Per)', 0, 0, 0, 'Huaman D. (Per)', 'Perez R. B. (Per)', 'Seminario L. (Per)', 'Mendoza J. (Per)', 'Alarcon J. (Per)', 'Ordonez E. (Per)', 'Espinoza J. (Per)', 'Menendez A. (Per)', 'Cartagena J. (Per)', 'Perez R. B. (Per)', 'Lopez R. (Per)', 0, 0, 0, 'Alarcon J. (Per)', 'Zamora J. (Per)', 'Espinoza J. (Per)', 'Seminario L. (Per)', 'Ordonez E. (Per)', 'Lopez P. (Per)', 'Espinoza M. (Per)', 'Alarcon J. (Per)', 'Barbagelatta G. (Per)', 'Estadio Alejandro Villanueva (Lima)', 0, 0, 0, 0, 'Palomino M. (Per)', 'Legario F. (Per)', 'Espinoza J. (Per)', 'Estadio Huancayo (Huancayo)', 'Espinoza M. (Per)', 'Huaman D. (Per)', 'Perez R. B. (Per)', 'Legario F. (Per)', 'Garay L. (Per)', 'Ordonez E. (Per)', 0, 0, 0, 0, 'Perez R. B. (Per)', 'Lopez R. (Per)', 'Ordonez E. (Per)', 'Espinoza J. (Per)', 'Huaman D. (Per)', 'Legario F. (Per)', 'Barbagelatta G. (Per)', 'Perez R. B. (Per)', 'Alarcon J. (Per)', 'Espinoza M. (Per)', 'Legario F. (Per)', 0, 0, 0, 0, 0, 0, 0, 0, 0, 0, 0, 0]\n",
      "\n"
     ]
    },
    {
     "name": "stderr",
     "output_type": "stream",
     "text": [
      "[WDM] - ====== WebDriver manager ======\n",
      "[WDM] - Driver [C:\\Users\\PC-1\\.wdm\\drivers\\chromedriver\\win32\\104.0.5112.79\\chromedriver.exe] found in cache\n"
     ]
    },
    {
     "name": "stdout",
     "output_type": "stream",
     "text": [
      "Termino 92\n",
      "['Perez R. B. (Per)', 'Quiroz J. C. (Per)', 'Villegas H. (Per)', 'Lozano S. (Per)', 'Ortega K. (Per)', 'Menendez A. (Per)', 'Espinoza J. (Per)', 'Vasquez B. (Per)', 'Huamani J. (Per)', 'Lopez Ramos P. (Esp)', 'Garay L. (Per)', 'Ureta D. (Per)', 0, 0, 'Cartagena J. (Per)', 'Villegas H. (Per)', 'Cori V. (Per)', 'Villanueva A. (Per)', 'Legario F. (Per)', 'Blas W. (Per)', 'Seminario L. (Per)', 'Perez R. B. (Per)', 'Ureta D. (Per)', 'Lozano S. (Per)', 'Ortega K. (Per)', 0, 0, 0, 'Espinoza M. (Per)', 'Ordonez E. (Per)', 'Quiroz J. C. (Per)', 'Alarcon J. (Per)', 'Perez R. B. (Per)', 'Espinoza M. (Per)', 'Ortega K. (Per)', 'Ordonez E. (Per)', 'Espinoza J. (Per)', 'Huamani J. (Per)', 'Blas A. (Per)', 0, 0, 0, 'Garay Evia L. (Per)', 'Lozano S. (Per)', 'Huaman D. (Per)', 'Vasquez B. (Per)', 'Legario F. (Per)', 'Villegas H. (Per)', 'Garay L. (Per)', 'Ureta D. (Per)', 'Espinoza M. (Per)', 'Cartagena J. (Per)', 'Cori V. (Per)', 0, 0, 0, 'Alarcon J. (Per)', 'Ciriaco L. (Per)', 'Lozano C. (Arg)', 'Alarcon J. (Per)', 'Perez R. B. (Per)', 'Villegas H. (Per)', 'Seminario L. (Per)', 'Ordonez E. (Per)', 'Cartagena J. (Per)', 'Chambi J. (Per)', 'Perez R. B. (Per)', 0, 0, 0, 'Ureta D. (Per)', 'Garay L. (Per)', 'Quiroz J. (Per)', 'Estadio Inca Garcilaso de la Vega (Cusco)', 'Estadio Iván Elías Moreno (Lima)', 'Zamora J. (Per)', 'Lopez Ramos P. (Esp)', 'Garay L. (Per)', 'Perez R. B. (Per)', 'Ordonez E. (Per)', 0, 0, 0, 0, 'Estadio San Martin de Porres (Lima)', 'Alarcon J. (Per)', 'Perez R. B. (Per)', 'Villanueva A. (Per)', 'Villegas H. (Per)', 'Lopez P. (Per)', 'Ortega K. (Per)', 'Zamora J. (Per)', 'Vasquez B. (Per)', 0, 0, 0, 0, 0, 'Alarcon J. (Per)', 'Ortega K. (Per)', 'Ureta D. (Per)', 'Seminario L. (Per)', 'Lozano Segado J. (Esp)', 'Barbagelatta G. (Per)', 'Perez R. B. (Per)', 'Legario F. (Per)', 'Ortega K. (Per)', 'Alarcon J. (Per)', 'Seminario L. (Per)', 0, 0, 0, 'Legario F. (Per)', 'Barbagelatta G. (Per)', 'Cartagena J. (Per)', 'Villegas H. (Per)', 'Huaman D. (Per)', 'Seminario L. (Per)', 'Alarcon J. (Per)', 'Espinoza M. (Per)', 'Menendez A. (Per)', 'Espinoza M. (Per)', 0, 0, 0, 0, 'Espinoza J. (Per)', 'Seminario L. (Per)', 'Villegas H. (Per)', 'Ortega K. (Arg)', 'Menendez A. (Per)', 'Ortega K. (Per)', 'Cartagena J. (Per)', 'Garay L. (Per)', 'Perez R. B. (Per)', 'Ordonez E. (Per)', 'Estadio Miguel Grau (Piura)', 0, 0, 0, 'Alarcon J. (Per)', 'Estadio Miguel Grau (Callao)', 'Villegas H. (Per)', 'Cartagena J. (Per)', 'Perez R. B. (Per)', 'Ortega K. (Per)', 'Ordonez E. (Per)', 'Espinoza M. (Per)', 'Estadio Monumental (Lima)', 'Alarcon J. (Per)', 'Espinoza J. (Per)', 0, 0, 0, 'Huaman D. (Per)', 'Perez R. B. (Per)', 'Seminario L. (Per)', 'Mendoza J. (Per)', 'Alarcon J. (Per)', 'Ordonez E. (Per)', 'Espinoza J. (Per)', 'Menendez A. (Per)', 'Cartagena J. (Per)', 'Perez R. B. (Per)', 'Lopez R. (Per)', 0, 0, 0, 'Alarcon J. (Per)', 'Zamora J. (Per)', 'Espinoza J. (Per)', 'Seminario L. (Per)', 'Ordonez E. (Per)', 'Lopez P. (Per)', 'Espinoza M. (Per)', 'Alarcon J. (Per)', 'Barbagelatta G. (Per)', 'Estadio Alejandro Villanueva (Lima)', 0, 0, 0, 0, 'Palomino M. (Per)', 'Legario F. (Per)', 'Espinoza J. (Per)', 'Estadio Huancayo (Huancayo)', 'Espinoza M. (Per)', 'Huaman D. (Per)', 'Perez R. B. (Per)', 'Legario F. (Per)', 'Garay L. (Per)', 'Ordonez E. (Per)', 0, 0, 0, 0, 'Perez R. B. (Per)', 'Lopez R. (Per)', 'Ordonez E. (Per)', 'Espinoza J. (Per)', 'Huaman D. (Per)', 'Legario F. (Per)', 'Barbagelatta G. (Per)', 'Perez R. B. (Per)', 'Alarcon J. (Per)', 'Espinoza M. (Per)', 'Legario F. (Per)', 0, 0, 0, 0, 0, 0, 0, 0, 0, 0, 0, 0]\n",
      "\n"
     ]
    },
    {
     "name": "stderr",
     "output_type": "stream",
     "text": [
      "[WDM] - ====== WebDriver manager ======\n",
      "[WDM] - Current google-chrome version is 104.0.5112\n",
      "[WDM] - Get LATEST chromedriver version for 104.0.5112 google-chrome\n",
      "[WDM] - Driver [C:\\Users\\PC-1\\.wdm\\drivers\\chromedriver\\win32\\104.0.5112.79\\chromedriver.exe] found in cache\n",
      "[WDM] - Current google-chrome version is 104.0.5112\n",
      "[WDM] - Get LATEST chromedriver version for 104.0.5112 google-chrome\n",
      "[WDM] - Driver [C:\\Users\\PC-1\\.wdm\\drivers\\chromedriver\\win32\\104.0.5112.79\\chromedriver.exe] found in cache\n"
     ]
    },
    {
     "name": "stdout",
     "output_type": "stream",
     "text": [
      "Termino 164\n",
      "['Perez R. B. (Per)', 'Quiroz J. C. (Per)', 'Villegas H. (Per)', 'Lozano S. (Per)', 'Ortega K. (Per)', 'Menendez A. (Per)', 'Espinoza J. (Per)', 'Vasquez B. (Per)', 'Huamani J. (Per)', 'Lopez Ramos P. (Esp)', 'Garay L. (Per)', 'Ureta D. (Per)', 0, 0, 'Cartagena J. (Per)', 'Villegas H. (Per)', 'Cori V. (Per)', 'Villanueva A. (Per)', 'Legario F. (Per)', 'Blas W. (Per)', 'Seminario L. (Per)', 'Perez R. B. (Per)', 'Ureta D. (Per)', 'Lozano S. (Per)', 'Ortega K. (Per)', 0, 0, 0, 'Espinoza M. (Per)', 'Ordonez E. (Per)', 'Quiroz J. C. (Per)', 'Alarcon J. (Per)', 'Perez R. B. (Per)', 'Espinoza M. (Per)', 'Ortega K. (Per)', 'Ordonez E. (Per)', 'Espinoza J. (Per)', 'Huamani J. (Per)', 'Blas A. (Per)', 0, 0, 0, 'Garay Evia L. (Per)', 'Lozano S. (Per)', 'Huaman D. (Per)', 'Vasquez B. (Per)', 'Legario F. (Per)', 'Villegas H. (Per)', 'Garay L. (Per)', 'Ureta D. (Per)', 'Espinoza M. (Per)', 'Cartagena J. (Per)', 'Cori V. (Per)', 0, 0, 0, 'Alarcon J. (Per)', 'Ciriaco L. (Per)', 'Lozano C. (Arg)', 'Alarcon J. (Per)', 'Perez R. B. (Per)', 'Villegas H. (Per)', 'Seminario L. (Per)', 'Ordonez E. (Per)', 'Cartagena J. (Per)', 'Chambi J. (Per)', 'Perez R. B. (Per)', 0, 0, 0, 'Ureta D. (Per)', 'Garay L. (Per)', 'Quiroz J. (Per)', 'Estadio Inca Garcilaso de la Vega (Cusco)', 'Estadio Iván Elías Moreno (Lima)', 'Zamora J. (Per)', 'Lopez Ramos P. (Esp)', 'Garay L. (Per)', 'Perez R. B. (Per)', 'Ordonez E. (Per)', 0, 0, 0, 0, 'Estadio San Martin de Porres (Lima)', 'Alarcon J. (Per)', 'Perez R. B. (Per)', 'Villanueva A. (Per)', 'Villegas H. (Per)', 'Lopez P. (Per)', 'Ortega K. (Per)', 'Zamora J. (Per)', 'Vasquez B. (Per)', 0, 0, 0, 0, 0, 'Alarcon J. (Per)', 'Ortega K. (Per)', 'Ureta D. (Per)', 'Seminario L. (Per)', 'Lozano Segado J. (Esp)', 'Barbagelatta G. (Per)', 'Perez R. B. (Per)', 'Legario F. (Per)', 'Ortega K. (Per)', 'Alarcon J. (Per)', 'Seminario L. (Per)', 0, 0, 0, 'Legario F. (Per)', 'Barbagelatta G. (Per)', 'Cartagena J. (Per)', 'Villegas H. (Per)', 'Huaman D. (Per)', 'Seminario L. (Per)', 'Alarcon J. (Per)', 'Espinoza M. (Per)', 'Menendez A. (Per)', 'Espinoza M. (Per)', 'Garay Evia L. (Per)', 0, 0, 0, 'Espinoza J. (Per)', 'Seminario L. (Per)', 'Villegas H. (Per)', 'Ortega K. (Arg)', 'Menendez A. (Per)', 'Ortega K. (Per)', 'Cartagena J. (Per)', 'Garay L. (Per)', 'Perez R. B. (Per)', 'Ordonez E. (Per)', 'Estadio Miguel Grau (Piura)', 0, 0, 0, 'Alarcon J. (Per)', 'Estadio Miguel Grau (Callao)', 'Villegas H. (Per)', 'Cartagena J. (Per)', 'Perez R. B. (Per)', 'Ortega K. (Per)', 'Ordonez E. (Per)', 'Espinoza M. (Per)', 'Estadio Monumental (Lima)', 'Alarcon J. (Per)', 'Espinoza J. (Per)', 0, 0, 0, 'Huaman D. (Per)', 'Perez R. B. (Per)', 'Seminario L. (Per)', 'Mendoza J. (Per)', 'Alarcon J. (Per)', 'Ordonez E. (Per)', 'Espinoza J. (Per)', 'Menendez A. (Per)', 'Cartagena J. (Per)', 'Perez R. B. (Per)', 'Lopez R. (Per)', 0, 0, 0, 'Alarcon J. (Per)', 'Zamora J. (Per)', 'Espinoza J. (Per)', 'Seminario L. (Per)', 'Ordonez E. (Per)', 'Lopez P. (Per)', 'Espinoza M. (Per)', 'Alarcon J. (Per)', 'Barbagelatta G. (Per)', 'Estadio Alejandro Villanueva (Lima)', 0, 0, 0, 0, 'Palomino M. (Per)', 'Legario F. (Per)', 'Espinoza J. (Per)', 'Estadio Huancayo (Huancayo)', 'Espinoza M. (Per)', 'Huaman D. (Per)', 'Perez R. B. (Per)', 'Legario F. (Per)', 'Garay L. (Per)', 'Ordonez E. (Per)', 'Cartagena J. (Per)', 0, 0, 0, 'Perez R. B. (Per)', 'Lopez R. (Per)', 'Ordonez E. (Per)', 'Espinoza J. (Per)', 'Huaman D. (Per)', 'Legario F. (Per)', 'Barbagelatta G. (Per)', 'Perez R. B. (Per)', 'Alarcon J. (Per)', 'Espinoza M. (Per)', 'Legario F. (Per)', 0, 0, 0, 0, 0, 0, 0, 0, 0, 0, 0, 0]\n",
      "\n"
     ]
    },
    {
     "name": "stderr",
     "output_type": "stream",
     "text": [
      "[WDM] - ====== WebDriver manager ======\n"
     ]
    },
    {
     "name": "stdout",
     "output_type": "stream",
     "text": [
      "Termino 38\n",
      "['Perez R. B. (Per)', 'Quiroz J. C. (Per)', 'Villegas H. (Per)', 'Lozano S. (Per)', 'Ortega K. (Per)', 'Menendez A. (Per)', 'Espinoza J. (Per)', 'Vasquez B. (Per)', 'Huamani J. (Per)', 'Lopez Ramos P. (Esp)', 'Garay L. (Per)', 'Ureta D. (Per)', 0, 0, 'Cartagena J. (Per)', 'Villegas H. (Per)', 'Cori V. (Per)', 'Villanueva A. (Per)', 'Legario F. (Per)', 'Blas W. (Per)', 'Seminario L. (Per)', 'Perez R. B. (Per)', 'Ureta D. (Per)', 'Lozano S. (Per)', 'Ortega K. (Per)', 0, 0, 0, 'Espinoza M. (Per)', 'Ordonez E. (Per)', 'Quiroz J. C. (Per)', 'Alarcon J. (Per)', 'Perez R. B. (Per)', 'Espinoza M. (Per)', 'Ortega K. (Per)', 'Ordonez E. (Per)', 'Espinoza J. (Per)', 'Huamani J. (Per)', 'Blas A. (Per)', 0, 0, 0, 'Garay Evia L. (Per)', 'Lozano S. (Per)', 'Huaman D. (Per)', 'Vasquez B. (Per)', 'Legario F. (Per)', 'Villegas H. (Per)', 'Garay L. (Per)', 'Ureta D. (Per)', 'Espinoza M. (Per)', 'Cartagena J. (Per)', 'Cori V. (Per)', 0, 0, 0, 'Alarcon J. (Per)', 'Ciriaco L. (Per)', 'Lozano C. (Arg)', 'Alarcon J. (Per)', 'Perez R. B. (Per)', 'Villegas H. (Per)', 'Seminario L. (Per)', 'Ordonez E. (Per)', 'Cartagena J. (Per)', 'Chambi J. (Per)', 'Perez R. B. (Per)', 0, 0, 0, 'Ureta D. (Per)', 'Garay L. (Per)', 'Quiroz J. (Per)', 'Estadio Inca Garcilaso de la Vega (Cusco)', 'Estadio Iván Elías Moreno (Lima)', 'Zamora J. (Per)', 'Lopez Ramos P. (Esp)', 'Garay L. (Per)', 'Perez R. B. (Per)', 'Ordonez E. (Per)', 0, 0, 0, 0, 'Estadio San Martin de Porres (Lima)', 'Alarcon J. (Per)', 'Perez R. B. (Per)', 'Villanueva A. (Per)', 'Villegas H. (Per)', 'Lopez P. (Per)', 'Ortega K. (Per)', 'Zamora J. (Per)', 'Vasquez B. (Per)', 0, 0, 0, 0, 0, 'Alarcon J. (Per)', 'Ortega K. (Per)', 'Ureta D. (Per)', 'Seminario L. (Per)', 'Lozano Segado J. (Esp)', 'Barbagelatta G. (Per)', 'Perez R. B. (Per)', 'Legario F. (Per)', 'Ortega K. (Per)', 'Alarcon J. (Per)', 'Seminario L. (Per)', 0, 0, 0, 'Legario F. (Per)', 'Barbagelatta G. (Per)', 'Cartagena J. (Per)', 'Villegas H. (Per)', 'Huaman D. (Per)', 'Seminario L. (Per)', 'Alarcon J. (Per)', 'Espinoza M. (Per)', 'Menendez A. (Per)', 'Espinoza M. (Per)', 'Garay Evia L. (Per)', 0, 0, 0, 'Espinoza J. (Per)', 'Seminario L. (Per)', 'Villegas H. (Per)', 'Ortega K. (Arg)', 'Menendez A. (Per)', 'Ortega K. (Per)', 'Cartagena J. (Per)', 'Garay L. (Per)', 'Perez R. B. (Per)', 'Ordonez E. (Per)', 'Estadio Miguel Grau (Piura)', 0, 0, 0, 'Alarcon J. (Per)', 'Estadio Miguel Grau (Callao)', 'Villegas H. (Per)', 'Cartagena J. (Per)', 'Perez R. B. (Per)', 'Ortega K. (Per)', 'Ordonez E. (Per)', 'Espinoza M. (Per)', 'Estadio Monumental (Lima)', 'Alarcon J. (Per)', 'Espinoza J. (Per)', 0, 0, 0, 'Huaman D. (Per)', 'Perez R. B. (Per)', 'Seminario L. (Per)', 'Mendoza J. (Per)', 'Alarcon J. (Per)', 'Ordonez E. (Per)', 'Espinoza J. (Per)', 'Menendez A. (Per)', 'Cartagena J. (Per)', 'Perez R. B. (Per)', 'Lopez R. (Per)', 0, 0, 0, 'Alarcon J. (Per)', 'Zamora J. (Per)', 'Espinoza J. (Per)', 'Seminario L. (Per)', 'Ordonez E. (Per)', 'Lopez P. (Per)', 'Espinoza M. (Per)', 'Alarcon J. (Per)', 'Barbagelatta G. (Per)', 'Estadio Alejandro Villanueva (Lima)', 0, 0, 0, 0, 'Palomino M. (Per)', 'Legario F. (Per)', 'Espinoza J. (Per)', 'Estadio Huancayo (Huancayo)', 'Espinoza M. (Per)', 'Huaman D. (Per)', 'Perez R. B. (Per)', 'Legario F. (Per)', 'Garay L. (Per)', 'Ordonez E. (Per)', 'Cartagena J. (Per)', 0, 0, 0, 'Perez R. B. (Per)', 'Lopez R. (Per)', 'Ordonez E. (Per)', 'Espinoza J. (Per)', 'Huaman D. (Per)', 'Legario F. (Per)', 'Barbagelatta G. (Per)', 'Perez R. B. (Per)', 'Alarcon J. (Per)', 'Espinoza M. (Per)', 'Legario F. (Per)', 0, 0, 0, 0, 0, 0, 0, 0, 0, 0, 0, 0]\n",
      "\n"
     ]
    },
    {
     "name": "stderr",
     "output_type": "stream",
     "text": [
      "[WDM] - ====== WebDriver manager ======\n",
      "[WDM] - Current google-chrome version is 104.0.5112\n",
      "[WDM] - Get LATEST chromedriver version for 104.0.5112 google-chrome\n"
     ]
    },
    {
     "name": "stdout",
     "output_type": "stream",
     "text": [
      "Termino 177\n",
      "['Perez R. B. (Per)', 'Quiroz J. C. (Per)', 'Villegas H. (Per)', 'Lozano S. (Per)', 'Ortega K. (Per)', 'Menendez A. (Per)', 'Espinoza J. (Per)', 'Vasquez B. (Per)', 'Huamani J. (Per)', 'Lopez Ramos P. (Esp)', 'Garay L. (Per)', 'Ureta D. (Per)', 0, 0, 'Cartagena J. (Per)', 'Villegas H. (Per)', 'Cori V. (Per)', 'Villanueva A. (Per)', 'Legario F. (Per)', 'Blas W. (Per)', 'Seminario L. (Per)', 'Perez R. B. (Per)', 'Ureta D. (Per)', 'Lozano S. (Per)', 'Ortega K. (Per)', 0, 0, 0, 'Espinoza M. (Per)', 'Ordonez E. (Per)', 'Quiroz J. C. (Per)', 'Alarcon J. (Per)', 'Perez R. B. (Per)', 'Espinoza M. (Per)', 'Ortega K. (Per)', 'Ordonez E. (Per)', 'Espinoza J. (Per)', 'Huamani J. (Per)', 'Blas A. (Per)', 0, 0, 0, 'Garay Evia L. (Per)', 'Lozano S. (Per)', 'Huaman D. (Per)', 'Vasquez B. (Per)', 'Legario F. (Per)', 'Villegas H. (Per)', 'Garay L. (Per)', 'Ureta D. (Per)', 'Espinoza M. (Per)', 'Cartagena J. (Per)', 'Cori V. (Per)', 0, 0, 0, 'Alarcon J. (Per)', 'Ciriaco L. (Per)', 'Lozano C. (Arg)', 'Alarcon J. (Per)', 'Perez R. B. (Per)', 'Villegas H. (Per)', 'Seminario L. (Per)', 'Ordonez E. (Per)', 'Cartagena J. (Per)', 'Chambi J. (Per)', 'Perez R. B. (Per)', 0, 0, 0, 'Ureta D. (Per)', 'Garay L. (Per)', 'Quiroz J. (Per)', 'Estadio Inca Garcilaso de la Vega (Cusco)', 'Estadio Iván Elías Moreno (Lima)', 'Zamora J. (Per)', 'Lopez Ramos P. (Esp)', 'Garay L. (Per)', 'Perez R. B. (Per)', 'Ordonez E. (Per)', 0, 0, 0, 0, 'Estadio San Martin de Porres (Lima)', 'Alarcon J. (Per)', 'Perez R. B. (Per)', 'Villanueva A. (Per)', 'Villegas H. (Per)', 'Lopez P. (Per)', 'Ortega K. (Per)', 'Zamora J. (Per)', 'Vasquez B. (Per)', 0, 0, 0, 0, 0, 'Alarcon J. (Per)', 'Ortega K. (Per)', 'Ureta D. (Per)', 'Seminario L. (Per)', 'Lozano Segado J. (Esp)', 'Barbagelatta G. (Per)', 'Perez R. B. (Per)', 'Legario F. (Per)', 'Ortega K. (Per)', 'Alarcon J. (Per)', 'Seminario L. (Per)', 0, 0, 0, 'Legario F. (Per)', 'Barbagelatta G. (Per)', 'Cartagena J. (Per)', 'Villegas H. (Per)', 'Huaman D. (Per)', 'Seminario L. (Per)', 'Alarcon J. (Per)', 'Espinoza M. (Per)', 'Menendez A. (Per)', 'Espinoza M. (Per)', 'Garay Evia L. (Per)', 0, 0, 0, 'Espinoza J. (Per)', 'Seminario L. (Per)', 'Villegas H. (Per)', 'Ortega K. (Arg)', 'Menendez A. (Per)', 'Ortega K. (Per)', 'Cartagena J. (Per)', 'Garay L. (Per)', 'Perez R. B. (Per)', 'Ordonez E. (Per)', 'Estadio Miguel Grau (Piura)', 0, 0, 0, 'Alarcon J. (Per)', 'Estadio Miguel Grau (Callao)', 'Villegas H. (Per)', 'Cartagena J. (Per)', 'Perez R. B. (Per)', 'Ortega K. (Per)', 'Ordonez E. (Per)', 'Espinoza M. (Per)', 'Estadio Monumental (Lima)', 'Alarcon J. (Per)', 'Espinoza J. (Per)', 0, 0, 0, 'Huaman D. (Per)', 'Perez R. B. (Per)', 'Seminario L. (Per)', 'Mendoza J. (Per)', 'Alarcon J. (Per)', 'Ordonez E. (Per)', 'Espinoza J. (Per)', 'Menendez A. (Per)', 'Cartagena J. (Per)', 'Perez R. B. (Per)', 'Lopez R. (Per)', 0, 0, 0, 'Alarcon J. (Per)', 'Zamora J. (Per)', 'Espinoza J. (Per)', 'Seminario L. (Per)', 'Ordonez E. (Per)', 'Lopez P. (Per)', 'Espinoza M. (Per)', 'Alarcon J. (Per)', 'Barbagelatta G. (Per)', 'Estadio Alejandro Villanueva (Lima)', 0, 0, 0, 0, 'Palomino M. (Per)', 'Legario F. (Per)', 'Espinoza J. (Per)', 'Estadio Huancayo (Huancayo)', 'Espinoza M. (Per)', 'Huaman D. (Per)', 'Perez R. B. (Per)', 'Legario F. (Per)', 'Garay L. (Per)', 'Ordonez E. (Per)', 'Cartagena J. (Per)', 0, 0, 0, 'Perez R. B. (Per)', 'Lopez R. (Per)', 'Ordonez E. (Per)', 'Espinoza J. (Per)', 'Huaman D. (Per)', 'Legario F. (Per)', 'Barbagelatta G. (Per)', 'Perez R. B. (Per)', 'Alarcon J. (Per)', 'Espinoza M. (Per)', 'Legario F. (Per)', 0, 0, 0, 0, 0, 0, 0, 0, 0, 0, 0, 0]\n",
      "\n"
     ]
    },
    {
     "name": "stderr",
     "output_type": "stream",
     "text": [
      "[WDM] - ====== WebDriver manager ======\n",
      "[WDM] - Driver [C:\\Users\\PC-1\\.wdm\\drivers\\chromedriver\\win32\\104.0.5112.79\\chromedriver.exe] found in cache\n",
      "[WDM] - Current google-chrome version is 104.0.5112\n",
      "[WDM] - Get LATEST chromedriver version for 104.0.5112 google-chrome\n",
      "[WDM] - Driver [C:\\Users\\PC-1\\.wdm\\drivers\\chromedriver\\win32\\104.0.5112.79\\chromedriver.exe] found in cache\n"
     ]
    },
    {
     "name": "stdout",
     "output_type": "stream",
     "text": [
      "Termino 11\n",
      "['Perez R. B. (Per)', 'Quiroz J. C. (Per)', 'Villegas H. (Per)', 'Lozano S. (Per)', 'Ortega K. (Per)', 'Menendez A. (Per)', 'Espinoza J. (Per)', 'Vasquez B. (Per)', 'Huamani J. (Per)', 'Lopez Ramos P. (Esp)', 'Garay L. (Per)', 'Ureta D. (Per)', 0, 0, 'Cartagena J. (Per)', 'Villegas H. (Per)', 'Cori V. (Per)', 'Villanueva A. (Per)', 'Legario F. (Per)', 'Blas W. (Per)', 'Seminario L. (Per)', 'Perez R. B. (Per)', 'Ureta D. (Per)', 'Lozano S. (Per)', 'Ortega K. (Per)', 0, 0, 0, 'Espinoza M. (Per)', 'Ordonez E. (Per)', 'Quiroz J. C. (Per)', 'Alarcon J. (Per)', 'Perez R. B. (Per)', 'Espinoza M. (Per)', 'Ortega K. (Per)', 'Ordonez E. (Per)', 'Espinoza J. (Per)', 'Huamani J. (Per)', 'Blas A. (Per)', 0, 0, 0, 'Garay Evia L. (Per)', 'Lozano S. (Per)', 'Huaman D. (Per)', 'Vasquez B. (Per)', 'Legario F. (Per)', 'Villegas H. (Per)', 'Garay L. (Per)', 'Ureta D. (Per)', 'Espinoza M. (Per)', 'Cartagena J. (Per)', 'Cori V. (Per)', 0, 0, 0, 'Alarcon J. (Per)', 'Ciriaco L. (Per)', 'Lozano C. (Arg)', 'Alarcon J. (Per)', 'Perez R. B. (Per)', 'Villegas H. (Per)', 'Seminario L. (Per)', 'Ordonez E. (Per)', 'Cartagena J. (Per)', 'Chambi J. (Per)', 'Perez R. B. (Per)', 0, 0, 0, 'Ureta D. (Per)', 'Garay L. (Per)', 'Quiroz J. (Per)', 'Estadio Inca Garcilaso de la Vega (Cusco)', 'Estadio Iván Elías Moreno (Lima)', 'Zamora J. (Per)', 'Lopez Ramos P. (Esp)', 'Garay L. (Per)', 'Perez R. B. (Per)', 'Ordonez E. (Per)', 0, 0, 0, 0, 'Estadio San Martin de Porres (Lima)', 'Alarcon J. (Per)', 'Perez R. B. (Per)', 'Villanueva A. (Per)', 'Villegas H. (Per)', 'Lopez P. (Per)', 'Ortega K. (Per)', 'Zamora J. (Per)', 'Vasquez B. (Per)', 0, 0, 0, 0, 0, 'Alarcon J. (Per)', 'Ortega K. (Per)', 'Ureta D. (Per)', 'Seminario L. (Per)', 'Lozano Segado J. (Esp)', 'Barbagelatta G. (Per)', 'Perez R. B. (Per)', 'Legario F. (Per)', 'Ortega K. (Per)', 'Alarcon J. (Per)', 'Seminario L. (Per)', 0, 0, 0, 'Legario F. (Per)', 'Barbagelatta G. (Per)', 'Cartagena J. (Per)', 'Villegas H. (Per)', 'Huaman D. (Per)', 'Seminario L. (Per)', 'Alarcon J. (Per)', 'Espinoza M. (Per)', 'Menendez A. (Per)', 'Espinoza M. (Per)', 'Garay Evia L. (Per)', 0, 0, 0, 'Espinoza J. (Per)', 'Seminario L. (Per)', 'Villegas H. (Per)', 'Ortega K. (Arg)', 'Menendez A. (Per)', 'Ortega K. (Per)', 'Cartagena J. (Per)', 'Garay L. (Per)', 'Perez R. B. (Per)', 'Ordonez E. (Per)', 'Estadio Miguel Grau (Piura)', 0, 0, 0, 'Alarcon J. (Per)', 'Estadio Miguel Grau (Callao)', 'Villegas H. (Per)', 'Cartagena J. (Per)', 'Perez R. B. (Per)', 'Ortega K. (Per)', 'Ordonez E. (Per)', 'Espinoza M. (Per)', 'Estadio Monumental (Lima)', 'Alarcon J. (Per)', 'Espinoza J. (Per)', 0, 0, 0, 'Huaman D. (Per)', 'Perez R. B. (Per)', 'Seminario L. (Per)', 'Mendoza J. (Per)', 'Alarcon J. (Per)', 'Ordonez E. (Per)', 'Espinoza J. (Per)', 'Menendez A. (Per)', 'Cartagena J. (Per)', 'Perez R. B. (Per)', 'Lopez R. (Per)', 0, 0, 0, 'Alarcon J. (Per)', 'Zamora J. (Per)', 'Espinoza J. (Per)', 'Seminario L. (Per)', 'Ordonez E. (Per)', 'Lopez P. (Per)', 'Espinoza M. (Per)', 'Alarcon J. (Per)', 'Barbagelatta G. (Per)', 'Estadio Alejandro Villanueva (Lima)', 0, 0, 0, 0, 'Palomino M. (Per)', 'Legario F. (Per)', 'Espinoza J. (Per)', 'Estadio Huancayo (Huancayo)', 'Espinoza M. (Per)', 'Huaman D. (Per)', 'Perez R. B. (Per)', 'Legario F. (Per)', 'Garay L. (Per)', 'Ordonez E. (Per)', 'Cartagena J. (Per)', 0, 0, 0, 'Perez R. B. (Per)', 'Lopez R. (Per)', 'Ordonez E. (Per)', 'Espinoza J. (Per)', 'Huaman D. (Per)', 'Legario F. (Per)', 'Barbagelatta G. (Per)', 'Perez R. B. (Per)', 'Alarcon J. (Per)', 'Espinoza M. (Per)', 'Legario F. (Per)', 0, 0, 0, 0, 0, 0, 0, 0, 0, 0, 0, 0]\n",
      "\n"
     ]
    },
    {
     "name": "stderr",
     "output_type": "stream",
     "text": [
      "[WDM] - ====== WebDriver manager ======\n",
      "[WDM] - Current google-chrome version is 104.0.5112\n",
      "[WDM] - Get LATEST chromedriver version for 104.0.5112 google-chrome\n",
      "[WDM] - Driver [C:\\Users\\PC-1\\.wdm\\drivers\\chromedriver\\win32\\104.0.5112.79\\chromedriver.exe] found in cache\n"
     ]
    },
    {
     "name": "stdout",
     "output_type": "stream",
     "text": [
      "Termino 122\n",
      "['Perez R. B. (Per)', 'Quiroz J. C. (Per)', 'Villegas H. (Per)', 'Lozano S. (Per)', 'Ortega K. (Per)', 'Menendez A. (Per)', 'Espinoza J. (Per)', 'Vasquez B. (Per)', 'Huamani J. (Per)', 'Lopez Ramos P. (Esp)', 'Garay L. (Per)', 'Ureta D. (Per)', 0, 0, 'Cartagena J. (Per)', 'Villegas H. (Per)', 'Cori V. (Per)', 'Villanueva A. (Per)', 'Legario F. (Per)', 'Blas W. (Per)', 'Seminario L. (Per)', 'Perez R. B. (Per)', 'Ureta D. (Per)', 'Lozano S. (Per)', 'Ortega K. (Per)', 0, 0, 0, 'Espinoza M. (Per)', 'Ordonez E. (Per)', 'Quiroz J. C. (Per)', 'Alarcon J. (Per)', 'Perez R. B. (Per)', 'Espinoza M. (Per)', 'Ortega K. (Per)', 'Ordonez E. (Per)', 'Espinoza J. (Per)', 'Huamani J. (Per)', 'Blas A. (Per)', 0, 0, 0, 'Garay Evia L. (Per)', 'Lozano S. (Per)', 'Huaman D. (Per)', 'Vasquez B. (Per)', 'Legario F. (Per)', 'Villegas H. (Per)', 'Garay L. (Per)', 'Ureta D. (Per)', 'Espinoza M. (Per)', 'Cartagena J. (Per)', 'Cori V. (Per)', 'Ordonez E. (Per)', 0, 0, 'Alarcon J. (Per)', 'Ciriaco L. (Per)', 'Lozano C. (Arg)', 'Alarcon J. (Per)', 'Perez R. B. (Per)', 'Villegas H. (Per)', 'Seminario L. (Per)', 'Ordonez E. (Per)', 'Cartagena J. (Per)', 'Chambi J. (Per)', 'Perez R. B. (Per)', 0, 0, 0, 'Ureta D. (Per)', 'Garay L. (Per)', 'Quiroz J. (Per)', 'Estadio Inca Garcilaso de la Vega (Cusco)', 'Estadio Iván Elías Moreno (Lima)', 'Zamora J. (Per)', 'Lopez Ramos P. (Esp)', 'Garay L. (Per)', 'Perez R. B. (Per)', 'Ordonez E. (Per)', 0, 0, 0, 0, 'Estadio San Martin de Porres (Lima)', 'Alarcon J. (Per)', 'Perez R. B. (Per)', 'Villanueva A. (Per)', 'Villegas H. (Per)', 'Lopez P. (Per)', 'Ortega K. (Per)', 'Zamora J. (Per)', 'Vasquez B. (Per)', 0, 0, 0, 0, 0, 'Alarcon J. (Per)', 'Ortega K. (Per)', 'Ureta D. (Per)', 'Seminario L. (Per)', 'Lozano Segado J. (Esp)', 'Barbagelatta G. (Per)', 'Perez R. B. (Per)', 'Legario F. (Per)', 'Ortega K. (Per)', 'Alarcon J. (Per)', 'Seminario L. (Per)', 0, 0, 0, 'Legario F. (Per)', 'Barbagelatta G. (Per)', 'Cartagena J. (Per)', 'Villegas H. (Per)', 'Huaman D. (Per)', 'Seminario L. (Per)', 'Alarcon J. (Per)', 'Espinoza M. (Per)', 'Menendez A. (Per)', 'Espinoza M. (Per)', 'Garay Evia L. (Per)', 0, 0, 0, 'Espinoza J. (Per)', 'Seminario L. (Per)', 'Villegas H. (Per)', 'Ortega K. (Arg)', 'Menendez A. (Per)', 'Ortega K. (Per)', 'Cartagena J. (Per)', 'Garay L. (Per)', 'Perez R. B. (Per)', 'Ordonez E. (Per)', 'Estadio Miguel Grau (Piura)', 0, 0, 0, 'Alarcon J. (Per)', 'Estadio Miguel Grau (Callao)', 'Villegas H. (Per)', 'Cartagena J. (Per)', 'Perez R. B. (Per)', 'Ortega K. (Per)', 'Ordonez E. (Per)', 'Espinoza M. (Per)', 'Estadio Monumental (Lima)', 'Alarcon J. (Per)', 'Espinoza J. (Per)', 0, 0, 0, 'Huaman D. (Per)', 'Perez R. B. (Per)', 'Seminario L. (Per)', 'Mendoza J. (Per)', 'Alarcon J. (Per)', 'Ordonez E. (Per)', 'Espinoza J. (Per)', 'Menendez A. (Per)', 'Cartagena J. (Per)', 'Perez R. B. (Per)', 'Lopez R. (Per)', 0, 0, 0, 'Alarcon J. (Per)', 'Zamora J. (Per)', 'Espinoza J. (Per)', 'Seminario L. (Per)', 'Ordonez E. (Per)', 'Lopez P. (Per)', 'Espinoza M. (Per)', 'Alarcon J. (Per)', 'Barbagelatta G. (Per)', 'Estadio Alejandro Villanueva (Lima)', 0, 0, 0, 0, 'Palomino M. (Per)', 'Legario F. (Per)', 'Espinoza J. (Per)', 'Estadio Huancayo (Huancayo)', 'Espinoza M. (Per)', 'Huaman D. (Per)', 'Perez R. B. (Per)', 'Legario F. (Per)', 'Garay L. (Per)', 'Ordonez E. (Per)', 'Cartagena J. (Per)', 0, 0, 0, 'Perez R. B. (Per)', 'Lopez R. (Per)', 'Ordonez E. (Per)', 'Espinoza J. (Per)', 'Huaman D. (Per)', 'Legario F. (Per)', 'Barbagelatta G. (Per)', 'Perez R. B. (Per)', 'Alarcon J. (Per)', 'Espinoza M. (Per)', 'Legario F. (Per)', 0, 0, 0, 0, 0, 0, 0, 0, 0, 0, 0, 0]\n",
      "\n"
     ]
    },
    {
     "name": "stderr",
     "output_type": "stream",
     "text": [
      "[WDM] - ====== WebDriver manager ======\n",
      "[WDM] - Current google-chrome version is 104.0.5112\n",
      "[WDM] - Get LATEST chromedriver version for 104.0.5112 google-chrome\n",
      "[WDM] - Driver [C:\\Users\\PC-1\\.wdm\\drivers\\chromedriver\\win32\\104.0.5112.79\\chromedriver.exe] found in cache\n"
     ]
    },
    {
     "name": "stdout",
     "output_type": "stream",
     "text": [
      "Termino 192\n",
      "['Perez R. B. (Per)', 'Quiroz J. C. (Per)', 'Villegas H. (Per)', 'Lozano S. (Per)', 'Ortega K. (Per)', 'Menendez A. (Per)', 'Espinoza J. (Per)', 'Vasquez B. (Per)', 'Huamani J. (Per)', 'Lopez Ramos P. (Esp)', 'Garay L. (Per)', 'Ureta D. (Per)', 0, 0, 'Cartagena J. (Per)', 'Villegas H. (Per)', 'Cori V. (Per)', 'Villanueva A. (Per)', 'Legario F. (Per)', 'Blas W. (Per)', 'Seminario L. (Per)', 'Perez R. B. (Per)', 'Ureta D. (Per)', 'Lozano S. (Per)', 'Ortega K. (Per)', 0, 0, 0, 'Espinoza M. (Per)', 'Ordonez E. (Per)', 'Quiroz J. C. (Per)', 'Alarcon J. (Per)', 'Perez R. B. (Per)', 'Espinoza M. (Per)', 'Ortega K. (Per)', 'Ordonez E. (Per)', 'Espinoza J. (Per)', 'Huamani J. (Per)', 'Blas A. (Per)', 0, 0, 0, 'Garay Evia L. (Per)', 'Lozano S. (Per)', 'Huaman D. (Per)', 'Vasquez B. (Per)', 'Legario F. (Per)', 'Villegas H. (Per)', 'Garay L. (Per)', 'Ureta D. (Per)', 'Espinoza M. (Per)', 'Cartagena J. (Per)', 'Cori V. (Per)', 'Ordonez E. (Per)', 0, 0, 'Alarcon J. (Per)', 'Ciriaco L. (Per)', 'Lozano C. (Arg)', 'Alarcon J. (Per)', 'Perez R. B. (Per)', 'Villegas H. (Per)', 'Seminario L. (Per)', 'Ordonez E. (Per)', 'Cartagena J. (Per)', 'Chambi J. (Per)', 'Perez R. B. (Per)', 0, 0, 0, 'Ureta D. (Per)', 'Garay L. (Per)', 'Quiroz J. (Per)', 'Estadio Inca Garcilaso de la Vega (Cusco)', 'Estadio Iván Elías Moreno (Lima)', 'Zamora J. (Per)', 'Lopez Ramos P. (Esp)', 'Garay L. (Per)', 'Perez R. B. (Per)', 'Ordonez E. (Per)', 0, 0, 0, 0, 'Estadio San Martin de Porres (Lima)', 'Alarcon J. (Per)', 'Perez R. B. (Per)', 'Villanueva A. (Per)', 'Villegas H. (Per)', 'Lopez P. (Per)', 'Ortega K. (Per)', 'Zamora J. (Per)', 'Vasquez B. (Per)', 0, 0, 0, 0, 0, 'Alarcon J. (Per)', 'Ortega K. (Per)', 'Ureta D. (Per)', 'Seminario L. (Per)', 'Lozano Segado J. (Esp)', 'Barbagelatta G. (Per)', 'Perez R. B. (Per)', 'Legario F. (Per)', 'Ortega K. (Per)', 'Alarcon J. (Per)', 'Seminario L. (Per)', 0, 0, 0, 'Legario F. (Per)', 'Barbagelatta G. (Per)', 'Cartagena J. (Per)', 'Villegas H. (Per)', 'Huaman D. (Per)', 'Seminario L. (Per)', 'Alarcon J. (Per)', 'Espinoza M. (Per)', 'Menendez A. (Per)', 'Espinoza M. (Per)', 'Garay Evia L. (Per)', 0, 0, 0, 'Espinoza J. (Per)', 'Seminario L. (Per)', 'Villegas H. (Per)', 'Ortega K. (Arg)', 'Menendez A. (Per)', 'Ortega K. (Per)', 'Cartagena J. (Per)', 'Garay L. (Per)', 'Perez R. B. (Per)', 'Ordonez E. (Per)', 'Estadio Miguel Grau (Piura)', 0, 0, 0, 'Alarcon J. (Per)', 'Estadio Miguel Grau (Callao)', 'Villegas H. (Per)', 'Cartagena J. (Per)', 'Perez R. B. (Per)', 'Ortega K. (Per)', 'Ordonez E. (Per)', 'Espinoza M. (Per)', 'Estadio Monumental (Lima)', 'Alarcon J. (Per)', 'Espinoza J. (Per)', 0, 0, 0, 'Huaman D. (Per)', 'Perez R. B. (Per)', 'Seminario L. (Per)', 'Mendoza J. (Per)', 'Alarcon J. (Per)', 'Ordonez E. (Per)', 'Espinoza J. (Per)', 'Menendez A. (Per)', 'Cartagena J. (Per)', 'Perez R. B. (Per)', 'Lopez R. (Per)', 0, 0, 0, 'Alarcon J. (Per)', 'Zamora J. (Per)', 'Espinoza J. (Per)', 'Seminario L. (Per)', 'Ordonez E. (Per)', 'Lopez P. (Per)', 'Espinoza M. (Per)', 'Alarcon J. (Per)', 'Barbagelatta G. (Per)', 'Estadio Alejandro Villanueva (Lima)', 0, 0, 0, 0, 'Palomino M. (Per)', 'Legario F. (Per)', 'Espinoza J. (Per)', 'Estadio Huancayo (Huancayo)', 'Espinoza M. (Per)', 'Huaman D. (Per)', 'Perez R. B. (Per)', 'Legario F. (Per)', 'Garay L. (Per)', 'Ordonez E. (Per)', 'Cartagena J. (Per)', 0, 0, 0, 'Perez R. B. (Per)', 'Lopez R. (Per)', 'Ordonez E. (Per)', 'Espinoza J. (Per)', 'Huaman D. (Per)', 'Legario F. (Per)', 'Barbagelatta G. (Per)', 'Perez R. B. (Per)', 'Alarcon J. (Per)', 'Espinoza M. (Per)', 'Legario F. (Per)', 0, 0, 0, 0, 0, 0, 0, 0, 0, 0, 0, 0]\n",
      "\n"
     ]
    },
    {
     "name": "stderr",
     "output_type": "stream",
     "text": [
      "[WDM] - ====== WebDriver manager ======\n",
      "[WDM] - Current google-chrome version is 104.0.5112\n",
      "[WDM] - Get LATEST chromedriver version for 104.0.5112 google-chrome\n",
      "[WDM] - Driver [C:\\Users\\PC-1\\.wdm\\drivers\\chromedriver\\win32\\104.0.5112.79\\chromedriver.exe] found in cache\n"
     ]
    },
    {
     "name": "stdout",
     "output_type": "stream",
     "text": [
      "Termino 53\n",
      "['Perez R. B. (Per)', 'Quiroz J. C. (Per)', 'Villegas H. (Per)', 'Lozano S. (Per)', 'Ortega K. (Per)', 'Menendez A. (Per)', 'Espinoza J. (Per)', 'Vasquez B. (Per)', 'Huamani J. (Per)', 'Lopez Ramos P. (Esp)', 'Garay L. (Per)', 'Ureta D. (Per)', 0, 0, 'Cartagena J. (Per)', 'Villegas H. (Per)', 'Cori V. (Per)', 'Villanueva A. (Per)', 'Legario F. (Per)', 'Blas W. (Per)', 'Seminario L. (Per)', 'Perez R. B. (Per)', 'Ureta D. (Per)', 'Lozano S. (Per)', 'Ortega K. (Per)', 'Garay L. (Per)', 0, 0, 'Espinoza M. (Per)', 'Ordonez E. (Per)', 'Quiroz J. C. (Per)', 'Alarcon J. (Per)', 'Perez R. B. (Per)', 'Espinoza M. (Per)', 'Ortega K. (Per)', 'Ordonez E. (Per)', 'Espinoza J. (Per)', 'Huamani J. (Per)', 'Blas A. (Per)', 0, 0, 0, 'Garay Evia L. (Per)', 'Lozano S. (Per)', 'Huaman D. (Per)', 'Vasquez B. (Per)', 'Legario F. (Per)', 'Villegas H. (Per)', 'Garay L. (Per)', 'Ureta D. (Per)', 'Espinoza M. (Per)', 'Cartagena J. (Per)', 'Cori V. (Per)', 'Ordonez E. (Per)', 0, 0, 'Alarcon J. (Per)', 'Ciriaco L. (Per)', 'Lozano C. (Arg)', 'Alarcon J. (Per)', 'Perez R. B. (Per)', 'Villegas H. (Per)', 'Seminario L. (Per)', 'Ordonez E. (Per)', 'Cartagena J. (Per)', 'Chambi J. (Per)', 'Perez R. B. (Per)', 0, 0, 0, 'Ureta D. (Per)', 'Garay L. (Per)', 'Quiroz J. (Per)', 'Estadio Inca Garcilaso de la Vega (Cusco)', 'Estadio Iván Elías Moreno (Lima)', 'Zamora J. (Per)', 'Lopez Ramos P. (Esp)', 'Garay L. (Per)', 'Perez R. B. (Per)', 'Ordonez E. (Per)', 0, 0, 0, 0, 'Estadio San Martin de Porres (Lima)', 'Alarcon J. (Per)', 'Perez R. B. (Per)', 'Villanueva A. (Per)', 'Villegas H. (Per)', 'Lopez P. (Per)', 'Ortega K. (Per)', 'Zamora J. (Per)', 'Vasquez B. (Per)', 0, 0, 0, 0, 0, 'Alarcon J. (Per)', 'Ortega K. (Per)', 'Ureta D. (Per)', 'Seminario L. (Per)', 'Lozano Segado J. (Esp)', 'Barbagelatta G. (Per)', 'Perez R. B. (Per)', 'Legario F. (Per)', 'Ortega K. (Per)', 'Alarcon J. (Per)', 'Seminario L. (Per)', 'Lopez P. (Per)', 0, 0, 'Legario F. (Per)', 'Barbagelatta G. (Per)', 'Cartagena J. (Per)', 'Villegas H. (Per)', 'Huaman D. (Per)', 'Seminario L. (Per)', 'Alarcon J. (Per)', 'Espinoza M. (Per)', 'Menendez A. (Per)', 'Espinoza M. (Per)', 'Garay Evia L. (Per)', 0, 0, 0, 'Espinoza J. (Per)', 'Seminario L. (Per)', 'Villegas H. (Per)', 'Ortega K. (Arg)', 'Menendez A. (Per)', 'Ortega K. (Per)', 'Cartagena J. (Per)', 'Garay L. (Per)', 'Perez R. B. (Per)', 'Ordonez E. (Per)', 'Estadio Miguel Grau (Piura)', 0, 0, 0, 'Alarcon J. (Per)', 'Estadio Miguel Grau (Callao)', 'Villegas H. (Per)', 'Cartagena J. (Per)', 'Perez R. B. (Per)', 'Ortega K. (Per)', 'Ordonez E. (Per)', 'Espinoza M. (Per)', 'Estadio Monumental (Lima)', 'Alarcon J. (Per)', 'Espinoza J. (Per)', 0, 0, 0, 'Huaman D. (Per)', 'Perez R. B. (Per)', 'Seminario L. (Per)', 'Mendoza J. (Per)', 'Alarcon J. (Per)', 'Ordonez E. (Per)', 'Espinoza J. (Per)', 'Menendez A. (Per)', 'Cartagena J. (Per)', 'Perez R. B. (Per)', 'Lopez R. (Per)', 0, 0, 0, 'Alarcon J. (Per)', 'Zamora J. (Per)', 'Espinoza J. (Per)', 'Seminario L. (Per)', 'Ordonez E. (Per)', 'Lopez P. (Per)', 'Espinoza M. (Per)', 'Alarcon J. (Per)', 'Barbagelatta G. (Per)', 'Estadio Alejandro Villanueva (Lima)', 0, 0, 0, 0, 'Palomino M. (Per)', 'Legario F. (Per)', 'Espinoza J. (Per)', 'Estadio Huancayo (Huancayo)', 'Espinoza M. (Per)', 'Huaman D. (Per)', 'Perez R. B. (Per)', 'Legario F. (Per)', 'Garay L. (Per)', 'Ordonez E. (Per)', 'Cartagena J. (Per)', 0, 0, 0, 'Perez R. B. (Per)', 'Lopez R. (Per)', 'Ordonez E. (Per)', 'Espinoza J. (Per)', 'Huaman D. (Per)', 'Legario F. (Per)', 'Barbagelatta G. (Per)', 'Perez R. B. (Per)', 'Alarcon J. (Per)', 'Espinoza M. (Per)', 'Legario F. (Per)', 0, 0, 0, 0, 0, 0, 0, 0, 0, 0, 0, 0]\n",
      "\n"
     ]
    },
    {
     "name": "stderr",
     "output_type": "stream",
     "text": [
      "[WDM] - ====== WebDriver manager ======\n",
      "[WDM] - Current google-chrome version is 104.0.5112\n",
      "[WDM] - Get LATEST chromedriver version for 104.0.5112 google-chrome\n",
      "[WDM] - Driver [C:\\Users\\PC-1\\.wdm\\drivers\\chromedriver\\win32\\104.0.5112.79\\chromedriver.exe] found in cache\n"
     ]
    },
    {
     "name": "stdout",
     "output_type": "stream",
     "text": [
      "Termino 25\n",
      "['Perez R. B. (Per)', 'Quiroz J. C. (Per)', 'Villegas H. (Per)', 'Lozano S. (Per)', 'Ortega K. (Per)', 'Menendez A. (Per)', 'Espinoza J. (Per)', 'Vasquez B. (Per)', 'Huamani J. (Per)', 'Lopez Ramos P. (Esp)', 'Garay L. (Per)', 'Ureta D. (Per)', 0, 0, 'Cartagena J. (Per)', 'Villegas H. (Per)', 'Cori V. (Per)', 'Villanueva A. (Per)', 'Legario F. (Per)', 'Blas W. (Per)', 'Seminario L. (Per)', 'Perez R. B. (Per)', 'Ureta D. (Per)', 'Lozano S. (Per)', 'Ortega K. (Per)', 'Garay L. (Per)', 0, 0, 'Espinoza M. (Per)', 'Ordonez E. (Per)', 'Quiroz J. C. (Per)', 'Alarcon J. (Per)', 'Perez R. B. (Per)', 'Espinoza M. (Per)', 'Ortega K. (Per)', 'Ordonez E. (Per)', 'Espinoza J. (Per)', 'Huamani J. (Per)', 'Blas A. (Per)', 0, 0, 0, 'Garay Evia L. (Per)', 'Lozano S. (Per)', 'Huaman D. (Per)', 'Vasquez B. (Per)', 'Legario F. (Per)', 'Villegas H. (Per)', 'Garay L. (Per)', 'Ureta D. (Per)', 'Espinoza M. (Per)', 'Cartagena J. (Per)', 'Cori V. (Per)', 'Ordonez E. (Per)', 0, 0, 'Alarcon J. (Per)', 'Ciriaco L. (Per)', 'Lozano C. (Arg)', 'Alarcon J. (Per)', 'Perez R. B. (Per)', 'Villegas H. (Per)', 'Seminario L. (Per)', 'Ordonez E. (Per)', 'Cartagena J. (Per)', 'Chambi J. (Per)', 'Perez R. B. (Per)', 'Espinoza M. (Per)', 0, 0, 'Ureta D. (Per)', 'Garay L. (Per)', 'Quiroz J. (Per)', 'Estadio Inca Garcilaso de la Vega (Cusco)', 'Estadio Iván Elías Moreno (Lima)', 'Zamora J. (Per)', 'Lopez Ramos P. (Esp)', 'Garay L. (Per)', 'Perez R. B. (Per)', 'Ordonez E. (Per)', 0, 0, 0, 0, 'Estadio San Martin de Porres (Lima)', 'Alarcon J. (Per)', 'Perez R. B. (Per)', 'Villanueva A. (Per)', 'Villegas H. (Per)', 'Lopez P. (Per)', 'Ortega K. (Per)', 'Zamora J. (Per)', 'Vasquez B. (Per)', 0, 0, 0, 0, 0, 'Alarcon J. (Per)', 'Ortega K. (Per)', 'Ureta D. (Per)', 'Seminario L. (Per)', 'Lozano Segado J. (Esp)', 'Barbagelatta G. (Per)', 'Perez R. B. (Per)', 'Legario F. (Per)', 'Ortega K. (Per)', 'Alarcon J. (Per)', 'Seminario L. (Per)', 'Lopez P. (Per)', 0, 0, 'Legario F. (Per)', 'Barbagelatta G. (Per)', 'Cartagena J. (Per)', 'Villegas H. (Per)', 'Huaman D. (Per)', 'Seminario L. (Per)', 'Alarcon J. (Per)', 'Espinoza M. (Per)', 'Menendez A. (Per)', 'Espinoza M. (Per)', 'Garay Evia L. (Per)', 0, 0, 0, 'Espinoza J. (Per)', 'Seminario L. (Per)', 'Villegas H. (Per)', 'Ortega K. (Arg)', 'Menendez A. (Per)', 'Ortega K. (Per)', 'Cartagena J. (Per)', 'Garay L. (Per)', 'Perez R. B. (Per)', 'Ordonez E. (Per)', 'Estadio Miguel Grau (Piura)', 0, 0, 0, 'Alarcon J. (Per)', 'Estadio Miguel Grau (Callao)', 'Villegas H. (Per)', 'Cartagena J. (Per)', 'Perez R. B. (Per)', 'Ortega K. (Per)', 'Ordonez E. (Per)', 'Espinoza M. (Per)', 'Estadio Monumental (Lima)', 'Alarcon J. (Per)', 'Espinoza J. (Per)', 0, 0, 0, 'Huaman D. (Per)', 'Perez R. B. (Per)', 'Seminario L. (Per)', 'Mendoza J. (Per)', 'Alarcon J. (Per)', 'Ordonez E. (Per)', 'Espinoza J. (Per)', 'Menendez A. (Per)', 'Cartagena J. (Per)', 'Perez R. B. (Per)', 'Lopez R. (Per)', 0, 0, 0, 'Alarcon J. (Per)', 'Zamora J. (Per)', 'Espinoza J. (Per)', 'Seminario L. (Per)', 'Ordonez E. (Per)', 'Lopez P. (Per)', 'Espinoza M. (Per)', 'Alarcon J. (Per)', 'Barbagelatta G. (Per)', 'Estadio Alejandro Villanueva (Lima)', 0, 0, 0, 0, 'Palomino M. (Per)', 'Legario F. (Per)', 'Espinoza J. (Per)', 'Estadio Huancayo (Huancayo)', 'Espinoza M. (Per)', 'Huaman D. (Per)', 'Perez R. B. (Per)', 'Legario F. (Per)', 'Garay L. (Per)', 'Ordonez E. (Per)', 'Cartagena J. (Per)', 0, 0, 0, 'Perez R. B. (Per)', 'Lopez R. (Per)', 'Ordonez E. (Per)', 'Espinoza J. (Per)', 'Huaman D. (Per)', 'Legario F. (Per)', 'Barbagelatta G. (Per)', 'Perez R. B. (Per)', 'Alarcon J. (Per)', 'Espinoza M. (Per)', 'Legario F. (Per)', 0, 0, 0, 0, 0, 0, 0, 0, 0, 0, 0, 0]\n",
      "\n"
     ]
    },
    {
     "name": "stderr",
     "output_type": "stream",
     "text": [
      "[WDM] - ====== WebDriver manager ======\n",
      "[WDM] - Current google-chrome version is 104.0.5112\n",
      "[WDM] - Get LATEST chromedriver version for 104.0.5112 google-chrome\n",
      "[WDM] - Driver [C:\\Users\\PC-1\\.wdm\\drivers\\chromedriver\\win32\\104.0.5112.79\\chromedriver.exe] found in cache\n"
     ]
    },
    {
     "name": "stdout",
     "output_type": "stream",
     "text": [
      "Termino 67\n",
      "['Perez R. B. (Per)', 'Quiroz J. C. (Per)', 'Villegas H. (Per)', 'Lozano S. (Per)', 'Ortega K. (Per)', 'Menendez A. (Per)', 'Espinoza J. (Per)', 'Vasquez B. (Per)', 'Huamani J. (Per)', 'Lopez Ramos P. (Esp)', 'Garay L. (Per)', 'Ureta D. (Per)', 0, 0, 'Cartagena J. (Per)', 'Villegas H. (Per)', 'Cori V. (Per)', 'Villanueva A. (Per)', 'Legario F. (Per)', 'Blas W. (Per)', 'Seminario L. (Per)', 'Perez R. B. (Per)', 'Ureta D. (Per)', 'Lozano S. (Per)', 'Ortega K. (Per)', 'Garay L. (Per)', 0, 0, 'Espinoza M. (Per)', 'Ordonez E. (Per)', 'Quiroz J. C. (Per)', 'Alarcon J. (Per)', 'Perez R. B. (Per)', 'Espinoza M. (Per)', 'Ortega K. (Per)', 'Ordonez E. (Per)', 'Espinoza J. (Per)', 'Huamani J. (Per)', 'Blas A. (Per)', 0, 0, 0, 'Garay Evia L. (Per)', 'Lozano S. (Per)', 'Huaman D. (Per)', 'Vasquez B. (Per)', 'Legario F. (Per)', 'Villegas H. (Per)', 'Garay L. (Per)', 'Ureta D. (Per)', 'Espinoza M. (Per)', 'Cartagena J. (Per)', 'Cori V. (Per)', 'Ordonez E. (Per)', 0, 0, 'Alarcon J. (Per)', 'Ciriaco L. (Per)', 'Lozano C. (Arg)', 'Alarcon J. (Per)', 'Perez R. B. (Per)', 'Villegas H. (Per)', 'Seminario L. (Per)', 'Ordonez E. (Per)', 'Cartagena J. (Per)', 'Chambi J. (Per)', 'Perez R. B. (Per)', 'Espinoza M. (Per)', 0, 0, 'Ureta D. (Per)', 'Garay L. (Per)', 'Quiroz J. (Per)', 'Estadio Inca Garcilaso de la Vega (Cusco)', 'Estadio Iván Elías Moreno (Lima)', 'Zamora J. (Per)', 'Lopez Ramos P. (Esp)', 'Garay L. (Per)', 'Perez R. B. (Per)', 'Ordonez E. (Per)', 0, 0, 0, 0, 'Estadio San Martin de Porres (Lima)', 'Alarcon J. (Per)', 'Perez R. B. (Per)', 'Villanueva A. (Per)', 'Villegas H. (Per)', 'Lopez P. (Per)', 'Ortega K. (Per)', 'Zamora J. (Per)', 'Vasquez B. (Per)', 0, 0, 0, 0, 0, 'Alarcon J. (Per)', 'Ortega K. (Per)', 'Ureta D. (Per)', 'Seminario L. (Per)', 'Lozano Segado J. (Esp)', 'Barbagelatta G. (Per)', 'Perez R. B. (Per)', 'Legario F. (Per)', 'Ortega K. (Per)', 'Alarcon J. (Per)', 'Seminario L. (Per)', 'Lopez P. (Per)', 0, 0, 'Legario F. (Per)', 'Barbagelatta G. (Per)', 'Cartagena J. (Per)', 'Villegas H. (Per)', 'Huaman D. (Per)', 'Seminario L. (Per)', 'Alarcon J. (Per)', 'Espinoza M. (Per)', 'Menendez A. (Per)', 'Espinoza M. (Per)', 'Garay Evia L. (Per)', 0, 0, 0, 'Espinoza J. (Per)', 'Seminario L. (Per)', 'Villegas H. (Per)', 'Ortega K. (Arg)', 'Menendez A. (Per)', 'Ortega K. (Per)', 'Cartagena J. (Per)', 'Garay L. (Per)', 'Perez R. B. (Per)', 'Ordonez E. (Per)', 'Estadio Miguel Grau (Piura)', 'Legario F. (Per)', 0, 0, 'Alarcon J. (Per)', 'Estadio Miguel Grau (Callao)', 'Villegas H. (Per)', 'Cartagena J. (Per)', 'Perez R. B. (Per)', 'Ortega K. (Per)', 'Ordonez E. (Per)', 'Espinoza M. (Per)', 'Estadio Monumental (Lima)', 'Alarcon J. (Per)', 'Espinoza J. (Per)', 0, 0, 0, 'Huaman D. (Per)', 'Perez R. B. (Per)', 'Seminario L. (Per)', 'Mendoza J. (Per)', 'Alarcon J. (Per)', 'Ordonez E. (Per)', 'Espinoza J. (Per)', 'Menendez A. (Per)', 'Cartagena J. (Per)', 'Perez R. B. (Per)', 'Lopez R. (Per)', 0, 0, 0, 'Alarcon J. (Per)', 'Zamora J. (Per)', 'Espinoza J. (Per)', 'Seminario L. (Per)', 'Ordonez E. (Per)', 'Lopez P. (Per)', 'Espinoza M. (Per)', 'Alarcon J. (Per)', 'Barbagelatta G. (Per)', 'Estadio Alejandro Villanueva (Lima)', 0, 0, 0, 0, 'Palomino M. (Per)', 'Legario F. (Per)', 'Espinoza J. (Per)', 'Estadio Huancayo (Huancayo)', 'Espinoza M. (Per)', 'Huaman D. (Per)', 'Perez R. B. (Per)', 'Legario F. (Per)', 'Garay L. (Per)', 'Ordonez E. (Per)', 'Cartagena J. (Per)', 0, 0, 0, 'Perez R. B. (Per)', 'Lopez R. (Per)', 'Ordonez E. (Per)', 'Espinoza J. (Per)', 'Huaman D. (Per)', 'Legario F. (Per)', 'Barbagelatta G. (Per)', 'Perez R. B. (Per)', 'Alarcon J. (Per)', 'Espinoza M. (Per)', 'Legario F. (Per)', 'Cartagena J. (Per)', 0, 0, 0, 0, 0, 0, 0, 0, 0, 0, 0]\n",
      "\n"
     ]
    },
    {
     "name": "stderr",
     "output_type": "stream",
     "text": [
      "[WDM] - ====== WebDriver manager ======\n",
      "[WDM] - Current google-chrome version is 104.0.5112\n",
      "[WDM] - Get LATEST chromedriver version for 104.0.5112 google-chrome\n",
      "[WDM] - Driver [C:\\Users\\PC-1\\.wdm\\drivers\\chromedriver\\win32\\104.0.5112.79\\chromedriver.exe] found in cache\n"
     ]
    },
    {
     "name": "stdout",
     "output_type": "stream",
     "text": [
      "Termino 207\n",
      "['Perez R. B. (Per)', 'Quiroz J. C. (Per)', 'Villegas H. (Per)', 'Lozano S. (Per)', 'Ortega K. (Per)', 'Menendez A. (Per)', 'Espinoza J. (Per)', 'Vasquez B. (Per)', 'Huamani J. (Per)', 'Lopez Ramos P. (Esp)', 'Garay L. (Per)', 'Ureta D. (Per)', 0, 0, 'Cartagena J. (Per)', 'Villegas H. (Per)', 'Cori V. (Per)', 'Villanueva A. (Per)', 'Legario F. (Per)', 'Blas W. (Per)', 'Seminario L. (Per)', 'Perez R. B. (Per)', 'Ureta D. (Per)', 'Lozano S. (Per)', 'Ortega K. (Per)', 'Garay L. (Per)', 0, 0, 'Espinoza M. (Per)', 'Ordonez E. (Per)', 'Quiroz J. C. (Per)', 'Alarcon J. (Per)', 'Perez R. B. (Per)', 'Espinoza M. (Per)', 'Ortega K. (Per)', 'Ordonez E. (Per)', 'Espinoza J. (Per)', 'Huamani J. (Per)', 'Blas A. (Per)', 0, 0, 0, 'Garay Evia L. (Per)', 'Lozano S. (Per)', 'Huaman D. (Per)', 'Vasquez B. (Per)', 'Legario F. (Per)', 'Villegas H. (Per)', 'Garay L. (Per)', 'Ureta D. (Per)', 'Espinoza M. (Per)', 'Cartagena J. (Per)', 'Cori V. (Per)', 'Ordonez E. (Per)', 0, 0, 'Alarcon J. (Per)', 'Ciriaco L. (Per)', 'Lozano C. (Arg)', 'Alarcon J. (Per)', 'Perez R. B. (Per)', 'Villegas H. (Per)', 'Seminario L. (Per)', 'Ordonez E. (Per)', 'Cartagena J. (Per)', 'Chambi J. (Per)', 'Perez R. B. (Per)', 'Espinoza M. (Per)', 0, 0, 'Ureta D. (Per)', 'Garay L. (Per)', 'Quiroz J. (Per)', 'Estadio Inca Garcilaso de la Vega (Cusco)', 'Estadio Iván Elías Moreno (Lima)', 'Zamora J. (Per)', 'Lopez Ramos P. (Esp)', 'Garay L. (Per)', 'Perez R. B. (Per)', 'Ordonez E. (Per)', 'Espinoza M. (Per)', 0, 0, 0, 'Estadio San Martin de Porres (Lima)', 'Alarcon J. (Per)', 'Perez R. B. (Per)', 'Villanueva A. (Per)', 'Villegas H. (Per)', 'Lopez P. (Per)', 'Ortega K. (Per)', 'Zamora J. (Per)', 'Vasquez B. (Per)', 0, 0, 0, 0, 0, 'Alarcon J. (Per)', 'Ortega K. (Per)', 'Ureta D. (Per)', 'Seminario L. (Per)', 'Lozano Segado J. (Esp)', 'Barbagelatta G. (Per)', 'Perez R. B. (Per)', 'Legario F. (Per)', 'Ortega K. (Per)', 'Alarcon J. (Per)', 'Seminario L. (Per)', 'Lopez P. (Per)', 0, 0, 'Legario F. (Per)', 'Barbagelatta G. (Per)', 'Cartagena J. (Per)', 'Villegas H. (Per)', 'Huaman D. (Per)', 'Seminario L. (Per)', 'Alarcon J. (Per)', 'Espinoza M. (Per)', 'Menendez A. (Per)', 'Espinoza M. (Per)', 'Garay Evia L. (Per)', 0, 0, 0, 'Espinoza J. (Per)', 'Seminario L. (Per)', 'Villegas H. (Per)', 'Ortega K. (Arg)', 'Menendez A. (Per)', 'Ortega K. (Per)', 'Cartagena J. (Per)', 'Garay L. (Per)', 'Perez R. B. (Per)', 'Ordonez E. (Per)', 'Estadio Miguel Grau (Piura)', 'Legario F. (Per)', 0, 0, 'Alarcon J. (Per)', 'Estadio Miguel Grau (Callao)', 'Villegas H. (Per)', 'Cartagena J. (Per)', 'Perez R. B. (Per)', 'Ortega K. (Per)', 'Ordonez E. (Per)', 'Espinoza M. (Per)', 'Estadio Monumental (Lima)', 'Alarcon J. (Per)', 'Espinoza J. (Per)', 'Garay Evia L. (Per)', 0, 0, 'Huaman D. (Per)', 'Perez R. B. (Per)', 'Seminario L. (Per)', 'Mendoza J. (Per)', 'Alarcon J. (Per)', 'Ordonez E. (Per)', 'Espinoza J. (Per)', 'Menendez A. (Per)', 'Cartagena J. (Per)', 'Perez R. B. (Per)', 'Lopez R. (Per)', 0, 0, 0, 'Alarcon J. (Per)', 'Zamora J. (Per)', 'Espinoza J. (Per)', 'Seminario L. (Per)', 'Ordonez E. (Per)', 'Lopez P. (Per)', 'Espinoza M. (Per)', 'Alarcon J. (Per)', 'Barbagelatta G. (Per)', 'Estadio Alejandro Villanueva (Lima)', 0, 0, 0, 0, 'Palomino M. (Per)', 'Legario F. (Per)', 'Espinoza J. (Per)', 'Estadio Huancayo (Huancayo)', 'Espinoza M. (Per)', 'Huaman D. (Per)', 'Perez R. B. (Per)', 'Legario F. (Per)', 'Garay L. (Per)', 'Ordonez E. (Per)', 'Cartagena J. (Per)', 0, 0, 0, 'Perez R. B. (Per)', 'Lopez R. (Per)', 'Ordonez E. (Per)', 'Espinoza J. (Per)', 'Huaman D. (Per)', 'Legario F. (Per)', 'Barbagelatta G. (Per)', 'Perez R. B. (Per)', 'Alarcon J. (Per)', 'Espinoza M. (Per)', 'Legario F. (Per)', 'Cartagena J. (Per)', 0, 0, 0, 0, 0, 0, 0, 0, 0, 0, 0]\n",
      "\n"
     ]
    },
    {
     "name": "stderr",
     "output_type": "stream",
     "text": [
      "[WDM] - ====== WebDriver manager ======\n"
     ]
    },
    {
     "name": "stdout",
     "output_type": "stream",
     "text": [
      "Termino 109\n",
      "['Perez R. B. (Per)', 'Quiroz J. C. (Per)', 'Villegas H. (Per)', 'Lozano S. (Per)', 'Ortega K. (Per)', 'Menendez A. (Per)', 'Espinoza J. (Per)', 'Vasquez B. (Per)', 'Huamani J. (Per)', 'Lopez Ramos P. (Esp)', 'Garay L. (Per)', 'Ureta D. (Per)', 0, 0, 'Cartagena J. (Per)', 'Villegas H. (Per)', 'Cori V. (Per)', 'Villanueva A. (Per)', 'Legario F. (Per)', 'Blas W. (Per)', 'Seminario L. (Per)', 'Perez R. B. (Per)', 'Ureta D. (Per)', 'Lozano S. (Per)', 'Ortega K. (Per)', 'Garay L. (Per)', 0, 0, 'Espinoza M. (Per)', 'Ordonez E. (Per)', 'Quiroz J. C. (Per)', 'Alarcon J. (Per)', 'Perez R. B. (Per)', 'Espinoza M. (Per)', 'Ortega K. (Per)', 'Ordonez E. (Per)', 'Espinoza J. (Per)', 'Huamani J. (Per)', 'Blas A. (Per)', 0, 0, 0, 'Garay Evia L. (Per)', 'Lozano S. (Per)', 'Huaman D. (Per)', 'Vasquez B. (Per)', 'Legario F. (Per)', 'Villegas H. (Per)', 'Garay L. (Per)', 'Ureta D. (Per)', 'Espinoza M. (Per)', 'Cartagena J. (Per)', 'Cori V. (Per)', 'Ordonez E. (Per)', 0, 0, 'Alarcon J. (Per)', 'Ciriaco L. (Per)', 'Lozano C. (Arg)', 'Alarcon J. (Per)', 'Perez R. B. (Per)', 'Villegas H. (Per)', 'Seminario L. (Per)', 'Ordonez E. (Per)', 'Cartagena J. (Per)', 'Chambi J. (Per)', 'Perez R. B. (Per)', 'Espinoza M. (Per)', 0, 0, 'Ureta D. (Per)', 'Garay L. (Per)', 'Quiroz J. (Per)', 'Estadio Inca Garcilaso de la Vega (Cusco)', 'Estadio Iván Elías Moreno (Lima)', 'Zamora J. (Per)', 'Lopez Ramos P. (Esp)', 'Garay L. (Per)', 'Perez R. B. (Per)', 'Ordonez E. (Per)', 'Espinoza M. (Per)', 0, 0, 0, 'Estadio San Martin de Porres (Lima)', 'Alarcon J. (Per)', 'Perez R. B. (Per)', 'Villanueva A. (Per)', 'Villegas H. (Per)', 'Lopez P. (Per)', 'Ortega K. (Per)', 'Zamora J. (Per)', 'Vasquez B. (Per)', 0, 0, 0, 0, 0, 'Alarcon J. (Per)', 'Ortega K. (Per)', 'Ureta D. (Per)', 'Seminario L. (Per)', 'Lozano Segado J. (Esp)', 'Barbagelatta G. (Per)', 'Perez R. B. (Per)', 'Legario F. (Per)', 'Ortega K. (Per)', 'Alarcon J. (Per)', 'Seminario L. (Per)', 'Lopez P. (Per)', 0, 0, 'Legario F. (Per)', 'Barbagelatta G. (Per)', 'Cartagena J. (Per)', 'Villegas H. (Per)', 'Huaman D. (Per)', 'Seminario L. (Per)', 'Alarcon J. (Per)', 'Espinoza M. (Per)', 'Menendez A. (Per)', 'Espinoza M. (Per)', 'Garay Evia L. (Per)', 0, 0, 0, 'Espinoza J. (Per)', 'Seminario L. (Per)', 'Villegas H. (Per)', 'Ortega K. (Arg)', 'Menendez A. (Per)', 'Ortega K. (Per)', 'Cartagena J. (Per)', 'Garay L. (Per)', 'Perez R. B. (Per)', 'Ordonez E. (Per)', 'Estadio Miguel Grau (Piura)', 'Legario F. (Per)', 0, 0, 'Alarcon J. (Per)', 'Estadio Miguel Grau (Callao)', 'Villegas H. (Per)', 'Cartagena J. (Per)', 'Perez R. B. (Per)', 'Ortega K. (Per)', 'Ordonez E. (Per)', 'Espinoza M. (Per)', 'Estadio Monumental (Lima)', 'Alarcon J. (Per)', 'Espinoza J. (Per)', 'Garay Evia L. (Per)', 0, 0, 'Huaman D. (Per)', 'Perez R. B. (Per)', 'Seminario L. (Per)', 'Mendoza J. (Per)', 'Alarcon J. (Per)', 'Ordonez E. (Per)', 'Espinoza J. (Per)', 'Menendez A. (Per)', 'Cartagena J. (Per)', 'Perez R. B. (Per)', 'Lopez R. (Per)', 0, 0, 0, 'Alarcon J. (Per)', 'Zamora J. (Per)', 'Espinoza J. (Per)', 'Seminario L. (Per)', 'Ordonez E. (Per)', 'Lopez P. (Per)', 'Espinoza M. (Per)', 'Alarcon J. (Per)', 'Barbagelatta G. (Per)', 'Estadio Alejandro Villanueva (Lima)', 0, 0, 0, 0, 'Palomino M. (Per)', 'Legario F. (Per)', 'Espinoza J. (Per)', 'Estadio Huancayo (Huancayo)', 'Espinoza M. (Per)', 'Huaman D. (Per)', 'Perez R. B. (Per)', 'Legario F. (Per)', 'Garay L. (Per)', 'Ordonez E. (Per)', 'Cartagena J. (Per)', 0, 0, 0, 'Perez R. B. (Per)', 'Lopez R. (Per)', 'Ordonez E. (Per)', 'Espinoza J. (Per)', 'Huaman D. (Per)', 'Legario F. (Per)', 'Barbagelatta G. (Per)', 'Perez R. B. (Per)', 'Alarcon J. (Per)', 'Espinoza M. (Per)', 'Legario F. (Per)', 'Cartagena J. (Per)', 0, 0, 0, 0, 0, 0, 0, 0, 0, 0, 0]\n",
      "\n"
     ]
    },
    {
     "name": "stderr",
     "output_type": "stream",
     "text": [
      "[WDM] - ====== WebDriver manager ======\n",
      "[WDM] - Current google-chrome version is 104.0.5112\n",
      "[WDM] - Get LATEST chromedriver version for 104.0.5112 google-chrome\n",
      "[WDM] - Current google-chrome version is 104.0.5112\n",
      "[WDM] - Get LATEST chromedriver version for 104.0.5112 google-chrome\n",
      "[WDM] - Driver [C:\\Users\\PC-1\\.wdm\\drivers\\chromedriver\\win32\\104.0.5112.79\\chromedriver.exe] found in cache\n",
      "[WDM] - Driver [C:\\Users\\PC-1\\.wdm\\drivers\\chromedriver\\win32\\104.0.5112.79\\chromedriver.exe] found in cache\n"
     ]
    },
    {
     "name": "stdout",
     "output_type": "stream",
     "text": [
      "Termino 137\n",
      "['Perez R. B. (Per)', 'Quiroz J. C. (Per)', 'Villegas H. (Per)', 'Lozano S. (Per)', 'Ortega K. (Per)', 'Menendez A. (Per)', 'Espinoza J. (Per)', 'Vasquez B. (Per)', 'Huamani J. (Per)', 'Lopez Ramos P. (Esp)', 'Garay L. (Per)', 'Ureta D. (Per)', 0, 0, 'Cartagena J. (Per)', 'Villegas H. (Per)', 'Cori V. (Per)', 'Villanueva A. (Per)', 'Legario F. (Per)', 'Blas W. (Per)', 'Seminario L. (Per)', 'Perez R. B. (Per)', 'Ureta D. (Per)', 'Lozano S. (Per)', 'Ortega K. (Per)', 'Garay L. (Per)', 0, 0, 'Espinoza M. (Per)', 'Ordonez E. (Per)', 'Quiroz J. C. (Per)', 'Alarcon J. (Per)', 'Perez R. B. (Per)', 'Espinoza M. (Per)', 'Ortega K. (Per)', 'Ordonez E. (Per)', 'Espinoza J. (Per)', 'Huamani J. (Per)', 'Blas A. (Per)', 0, 0, 0, 'Garay Evia L. (Per)', 'Lozano S. (Per)', 'Huaman D. (Per)', 'Vasquez B. (Per)', 'Legario F. (Per)', 'Villegas H. (Per)', 'Garay L. (Per)', 'Ureta D. (Per)', 'Espinoza M. (Per)', 'Cartagena J. (Per)', 'Cori V. (Per)', 'Ordonez E. (Per)', 0, 0, 'Alarcon J. (Per)', 'Ciriaco L. (Per)', 'Lozano C. (Arg)', 'Alarcon J. (Per)', 'Perez R. B. (Per)', 'Villegas H. (Per)', 'Seminario L. (Per)', 'Ordonez E. (Per)', 'Cartagena J. (Per)', 'Chambi J. (Per)', 'Perez R. B. (Per)', 'Espinoza M. (Per)', 0, 0, 'Ureta D. (Per)', 'Garay L. (Per)', 'Quiroz J. (Per)', 'Estadio Inca Garcilaso de la Vega (Cusco)', 'Estadio Iván Elías Moreno (Lima)', 'Zamora J. (Per)', 'Lopez Ramos P. (Esp)', 'Garay L. (Per)', 'Perez R. B. (Per)', 'Ordonez E. (Per)', 'Espinoza M. (Per)', 0, 0, 0, 'Estadio San Martin de Porres (Lima)', 'Alarcon J. (Per)', 'Perez R. B. (Per)', 'Villanueva A. (Per)', 'Villegas H. (Per)', 'Lopez P. (Per)', 'Ortega K. (Per)', 'Zamora J. (Per)', 'Vasquez B. (Per)', 'Garay L. (Per)', 0, 0, 0, 0, 'Alarcon J. (Per)', 'Ortega K. (Per)', 'Ureta D. (Per)', 'Seminario L. (Per)', 'Lozano Segado J. (Esp)', 'Barbagelatta G. (Per)', 'Perez R. B. (Per)', 'Legario F. (Per)', 'Ortega K. (Per)', 'Alarcon J. (Per)', 'Seminario L. (Per)', 'Lopez P. (Per)', 0, 0, 'Legario F. (Per)', 'Barbagelatta G. (Per)', 'Cartagena J. (Per)', 'Villegas H. (Per)', 'Huaman D. (Per)', 'Seminario L. (Per)', 'Alarcon J. (Per)', 'Espinoza M. (Per)', 'Menendez A. (Per)', 'Espinoza M. (Per)', 'Garay Evia L. (Per)', 0, 0, 0, 'Espinoza J. (Per)', 'Seminario L. (Per)', 'Villegas H. (Per)', 'Ortega K. (Arg)', 'Menendez A. (Per)', 'Ortega K. (Per)', 'Cartagena J. (Per)', 'Garay L. (Per)', 'Perez R. B. (Per)', 'Ordonez E. (Per)', 'Estadio Miguel Grau (Piura)', 'Legario F. (Per)', 0, 0, 'Alarcon J. (Per)', 'Estadio Miguel Grau (Callao)', 'Villegas H. (Per)', 'Cartagena J. (Per)', 'Perez R. B. (Per)', 'Ortega K. (Per)', 'Ordonez E. (Per)', 'Espinoza M. (Per)', 'Estadio Monumental (Lima)', 'Alarcon J. (Per)', 'Espinoza J. (Per)', 'Garay Evia L. (Per)', 0, 0, 'Huaman D. (Per)', 'Perez R. B. (Per)', 'Seminario L. (Per)', 'Mendoza J. (Per)', 'Alarcon J. (Per)', 'Ordonez E. (Per)', 'Espinoza J. (Per)', 'Menendez A. (Per)', 'Cartagena J. (Per)', 'Perez R. B. (Per)', 'Lopez R. (Per)', 0, 0, 0, 'Alarcon J. (Per)', 'Zamora J. (Per)', 'Espinoza J. (Per)', 'Seminario L. (Per)', 'Ordonez E. (Per)', 'Lopez P. (Per)', 'Espinoza M. (Per)', 'Alarcon J. (Per)', 'Barbagelatta G. (Per)', 'Estadio Alejandro Villanueva (Lima)', 0, 0, 0, 0, 'Palomino M. (Per)', 'Legario F. (Per)', 'Espinoza J. (Per)', 'Estadio Huancayo (Huancayo)', 'Espinoza M. (Per)', 'Huaman D. (Per)', 'Perez R. B. (Per)', 'Legario F. (Per)', 'Garay L. (Per)', 'Ordonez E. (Per)', 'Cartagena J. (Per)', 0, 0, 0, 'Perez R. B. (Per)', 'Lopez R. (Per)', 'Ordonez E. (Per)', 'Espinoza J. (Per)', 'Huaman D. (Per)', 'Legario F. (Per)', 'Barbagelatta G. (Per)', 'Perez R. B. (Per)', 'Alarcon J. (Per)', 'Espinoza M. (Per)', 'Legario F. (Per)', 'Cartagena J. (Per)', 0, 0, 0, 0, 0, 0, 0, 0, 0, 0, 0]\n",
      "\n"
     ]
    },
    {
     "name": "stderr",
     "output_type": "stream",
     "text": [
      "[WDM] - ====== WebDriver manager ======\n",
      "[WDM] - Current google-chrome version is 104.0.5112\n",
      "[WDM] - Get LATEST chromedriver version for 104.0.5112 google-chrome\n",
      "[WDM] - Driver [C:\\Users\\PC-1\\.wdm\\drivers\\chromedriver\\win32\\104.0.5112.79\\chromedriver.exe] found in cache\n"
     ]
    },
    {
     "name": "stdout",
     "output_type": "stream",
     "text": [
      "Termino 80\n",
      "['Perez R. B. (Per)', 'Quiroz J. C. (Per)', 'Villegas H. (Per)', 'Lozano S. (Per)', 'Ortega K. (Per)', 'Menendez A. (Per)', 'Espinoza J. (Per)', 'Vasquez B. (Per)', 'Huamani J. (Per)', 'Lopez Ramos P. (Esp)', 'Garay L. (Per)', 'Ureta D. (Per)', 0, 0, 'Cartagena J. (Per)', 'Villegas H. (Per)', 'Cori V. (Per)', 'Villanueva A. (Per)', 'Legario F. (Per)', 'Blas W. (Per)', 'Seminario L. (Per)', 'Perez R. B. (Per)', 'Ureta D. (Per)', 'Lozano S. (Per)', 'Ortega K. (Per)', 'Garay L. (Per)', 0, 0, 'Espinoza M. (Per)', 'Ordonez E. (Per)', 'Quiroz J. C. (Per)', 'Alarcon J. (Per)', 'Perez R. B. (Per)', 'Espinoza M. (Per)', 'Ortega K. (Per)', 'Ordonez E. (Per)', 'Espinoza J. (Per)', 'Huamani J. (Per)', 'Blas A. (Per)', 0, 0, 0, 'Garay Evia L. (Per)', 'Lozano S. (Per)', 'Huaman D. (Per)', 'Vasquez B. (Per)', 'Legario F. (Per)', 'Villegas H. (Per)', 'Garay L. (Per)', 'Ureta D. (Per)', 'Espinoza M. (Per)', 'Cartagena J. (Per)', 'Cori V. (Per)', 'Ordonez E. (Per)', 0, 0, 'Alarcon J. (Per)', 'Ciriaco L. (Per)', 'Lozano C. (Arg)', 'Alarcon J. (Per)', 'Perez R. B. (Per)', 'Villegas H. (Per)', 'Seminario L. (Per)', 'Ordonez E. (Per)', 'Cartagena J. (Per)', 'Chambi J. (Per)', 'Perez R. B. (Per)', 'Espinoza M. (Per)', 0, 0, 'Ureta D. (Per)', 'Garay L. (Per)', 'Quiroz J. (Per)', 'Estadio Inca Garcilaso de la Vega (Cusco)', 'Estadio Iván Elías Moreno (Lima)', 'Zamora J. (Per)', 'Lopez Ramos P. (Esp)', 'Garay L. (Per)', 'Perez R. B. (Per)', 'Ordonez E. (Per)', 'Espinoza M. (Per)', 0, 0, 0, 'Estadio San Martin de Porres (Lima)', 'Alarcon J. (Per)', 'Perez R. B. (Per)', 'Villanueva A. (Per)', 'Villegas H. (Per)', 'Lopez P. (Per)', 'Ortega K. (Per)', 'Zamora J. (Per)', 'Vasquez B. (Per)', 'Garay L. (Per)', 0, 0, 0, 0, 'Alarcon J. (Per)', 'Ortega K. (Per)', 'Ureta D. (Per)', 'Seminario L. (Per)', 'Lozano Segado J. (Esp)', 'Barbagelatta G. (Per)', 'Perez R. B. (Per)', 'Legario F. (Per)', 'Ortega K. (Per)', 'Alarcon J. (Per)', 'Seminario L. (Per)', 'Lopez P. (Per)', 0, 0, 'Legario F. (Per)', 'Barbagelatta G. (Per)', 'Cartagena J. (Per)', 'Villegas H. (Per)', 'Huaman D. (Per)', 'Seminario L. (Per)', 'Alarcon J. (Per)', 'Espinoza M. (Per)', 'Menendez A. (Per)', 'Espinoza M. (Per)', 'Garay Evia L. (Per)', 0, 0, 0, 'Espinoza J. (Per)', 'Seminario L. (Per)', 'Villegas H. (Per)', 'Ortega K. (Arg)', 'Menendez A. (Per)', 'Ortega K. (Per)', 'Cartagena J. (Per)', 'Garay L. (Per)', 'Perez R. B. (Per)', 'Ordonez E. (Per)', 'Estadio Miguel Grau (Piura)', 'Legario F. (Per)', 0, 0, 'Alarcon J. (Per)', 'Estadio Miguel Grau (Callao)', 'Villegas H. (Per)', 'Cartagena J. (Per)', 'Perez R. B. (Per)', 'Ortega K. (Per)', 'Ordonez E. (Per)', 'Espinoza M. (Per)', 'Estadio Monumental (Lima)', 'Alarcon J. (Per)', 'Espinoza J. (Per)', 'Garay Evia L. (Per)', 0, 0, 'Huaman D. (Per)', 'Perez R. B. (Per)', 'Seminario L. (Per)', 'Mendoza J. (Per)', 'Alarcon J. (Per)', 'Ordonez E. (Per)', 'Espinoza J. (Per)', 'Menendez A. (Per)', 'Cartagena J. (Per)', 'Perez R. B. (Per)', 'Lopez R. (Per)', 'Garay L. (Per)', 0, 0, 'Alarcon J. (Per)', 'Zamora J. (Per)', 'Espinoza J. (Per)', 'Seminario L. (Per)', 'Ordonez E. (Per)', 'Lopez P. (Per)', 'Espinoza M. (Per)', 'Alarcon J. (Per)', 'Barbagelatta G. (Per)', 'Estadio Alejandro Villanueva (Lima)', 0, 0, 0, 0, 'Palomino M. (Per)', 'Legario F. (Per)', 'Espinoza J. (Per)', 'Estadio Huancayo (Huancayo)', 'Espinoza M. (Per)', 'Huaman D. (Per)', 'Perez R. B. (Per)', 'Legario F. (Per)', 'Garay L. (Per)', 'Ordonez E. (Per)', 'Cartagena J. (Per)', 0, 0, 0, 'Perez R. B. (Per)', 'Lopez R. (Per)', 'Ordonez E. (Per)', 'Espinoza J. (Per)', 'Huaman D. (Per)', 'Legario F. (Per)', 'Barbagelatta G. (Per)', 'Perez R. B. (Per)', 'Alarcon J. (Per)', 'Espinoza M. (Per)', 'Legario F. (Per)', 'Cartagena J. (Per)', 0, 0, 0, 0, 0, 0, 0, 0, 0, 0, 0]\n",
      "\n"
     ]
    },
    {
     "name": "stderr",
     "output_type": "stream",
     "text": [
      "[WDM] - ====== WebDriver manager ======\n",
      "[WDM] - Current google-chrome version is 104.0.5112\n",
      "[WDM] - Get LATEST chromedriver version for 104.0.5112 google-chrome\n",
      "[WDM] - Driver [C:\\Users\\PC-1\\.wdm\\drivers\\chromedriver\\win32\\104.0.5112.79\\chromedriver.exe] found in cache\n"
     ]
    },
    {
     "name": "stdout",
     "output_type": "stream",
     "text": [
      "Termino 93\n",
      "['Perez R. B. (Per)', 'Quiroz J. C. (Per)', 'Villegas H. (Per)', 'Lozano S. (Per)', 'Ortega K. (Per)', 'Menendez A. (Per)', 'Espinoza J. (Per)', 'Vasquez B. (Per)', 'Huamani J. (Per)', 'Lopez Ramos P. (Esp)', 'Garay L. (Per)', 'Ureta D. (Per)', 0, 0, 'Cartagena J. (Per)', 'Villegas H. (Per)', 'Cori V. (Per)', 'Villanueva A. (Per)', 'Legario F. (Per)', 'Blas W. (Per)', 'Seminario L. (Per)', 'Perez R. B. (Per)', 'Ureta D. (Per)', 'Lozano S. (Per)', 'Ortega K. (Per)', 'Garay L. (Per)', 0, 0, 'Espinoza M. (Per)', 'Ordonez E. (Per)', 'Quiroz J. C. (Per)', 'Alarcon J. (Per)', 'Perez R. B. (Per)', 'Espinoza M. (Per)', 'Ortega K. (Per)', 'Ordonez E. (Per)', 'Espinoza J. (Per)', 'Huamani J. (Per)', 'Blas A. (Per)', 'Lopez P. (Per)', 0, 0, 'Garay Evia L. (Per)', 'Lozano S. (Per)', 'Huaman D. (Per)', 'Vasquez B. (Per)', 'Legario F. (Per)', 'Villegas H. (Per)', 'Garay L. (Per)', 'Ureta D. (Per)', 'Espinoza M. (Per)', 'Cartagena J. (Per)', 'Cori V. (Per)', 'Ordonez E. (Per)', 0, 0, 'Alarcon J. (Per)', 'Ciriaco L. (Per)', 'Lozano C. (Arg)', 'Alarcon J. (Per)', 'Perez R. B. (Per)', 'Villegas H. (Per)', 'Seminario L. (Per)', 'Ordonez E. (Per)', 'Cartagena J. (Per)', 'Chambi J. (Per)', 'Perez R. B. (Per)', 'Espinoza M. (Per)', 0, 0, 'Ureta D. (Per)', 'Garay L. (Per)', 'Quiroz J. (Per)', 'Estadio Inca Garcilaso de la Vega (Cusco)', 'Estadio Iván Elías Moreno (Lima)', 'Zamora J. (Per)', 'Lopez Ramos P. (Esp)', 'Garay L. (Per)', 'Perez R. B. (Per)', 'Ordonez E. (Per)', 'Espinoza M. (Per)', 0, 0, 0, 'Estadio San Martin de Porres (Lima)', 'Alarcon J. (Per)', 'Perez R. B. (Per)', 'Villanueva A. (Per)', 'Villegas H. (Per)', 'Lopez P. (Per)', 'Ortega K. (Per)', 'Zamora J. (Per)', 'Vasquez B. (Per)', 'Garay L. (Per)', 0, 0, 0, 0, 'Alarcon J. (Per)', 'Ortega K. (Per)', 'Ureta D. (Per)', 'Seminario L. (Per)', 'Lozano Segado J. (Esp)', 'Barbagelatta G. (Per)', 'Perez R. B. (Per)', 'Legario F. (Per)', 'Ortega K. (Per)', 'Alarcon J. (Per)', 'Seminario L. (Per)', 'Lopez P. (Per)', 0, 0, 'Legario F. (Per)', 'Barbagelatta G. (Per)', 'Cartagena J. (Per)', 'Villegas H. (Per)', 'Huaman D. (Per)', 'Seminario L. (Per)', 'Alarcon J. (Per)', 'Espinoza M. (Per)', 'Menendez A. (Per)', 'Espinoza M. (Per)', 'Garay Evia L. (Per)', 0, 0, 0, 'Espinoza J. (Per)', 'Seminario L. (Per)', 'Villegas H. (Per)', 'Ortega K. (Arg)', 'Menendez A. (Per)', 'Ortega K. (Per)', 'Cartagena J. (Per)', 'Garay L. (Per)', 'Perez R. B. (Per)', 'Ordonez E. (Per)', 'Estadio Miguel Grau (Piura)', 'Legario F. (Per)', 0, 0, 'Alarcon J. (Per)', 'Estadio Miguel Grau (Callao)', 'Villegas H. (Per)', 'Cartagena J. (Per)', 'Perez R. B. (Per)', 'Ortega K. (Per)', 'Ordonez E. (Per)', 'Espinoza M. (Per)', 'Estadio Monumental (Lima)', 'Alarcon J. (Per)', 'Espinoza J. (Per)', 'Garay Evia L. (Per)', 0, 0, 'Huaman D. (Per)', 'Perez R. B. (Per)', 'Seminario L. (Per)', 'Mendoza J. (Per)', 'Alarcon J. (Per)', 'Ordonez E. (Per)', 'Espinoza J. (Per)', 'Menendez A. (Per)', 'Cartagena J. (Per)', 'Perez R. B. (Per)', 'Lopez R. (Per)', 'Garay L. (Per)', 0, 0, 'Alarcon J. (Per)', 'Zamora J. (Per)', 'Espinoza J. (Per)', 'Seminario L. (Per)', 'Ordonez E. (Per)', 'Lopez P. (Per)', 'Espinoza M. (Per)', 'Alarcon J. (Per)', 'Barbagelatta G. (Per)', 'Estadio Alejandro Villanueva (Lima)', 0, 0, 0, 0, 'Palomino M. (Per)', 'Legario F. (Per)', 'Espinoza J. (Per)', 'Estadio Huancayo (Huancayo)', 'Espinoza M. (Per)', 'Huaman D. (Per)', 'Perez R. B. (Per)', 'Legario F. (Per)', 'Garay L. (Per)', 'Ordonez E. (Per)', 'Cartagena J. (Per)', 0, 0, 0, 'Perez R. B. (Per)', 'Lopez R. (Per)', 'Ordonez E. (Per)', 'Espinoza J. (Per)', 'Huaman D. (Per)', 'Legario F. (Per)', 'Barbagelatta G. (Per)', 'Perez R. B. (Per)', 'Alarcon J. (Per)', 'Espinoza M. (Per)', 'Legario F. (Per)', 'Cartagena J. (Per)', 0, 0, 0, 0, 0, 0, 0, 0, 0, 0, 0]\n",
      "\n"
     ]
    },
    {
     "name": "stderr",
     "output_type": "stream",
     "text": [
      "[WDM] - ====== WebDriver manager ======\n",
      "[WDM] - Current google-chrome version is 104.0.5112\n",
      "[WDM] - Get LATEST chromedriver version for 104.0.5112 google-chrome\n",
      "[WDM] - Driver [C:\\Users\\PC-1\\.wdm\\drivers\\chromedriver\\win32\\104.0.5112.79\\chromedriver.exe] found in cache\n"
     ]
    },
    {
     "name": "stdout",
     "output_type": "stream",
     "text": [
      "Termino 39\n",
      "['Perez R. B. (Per)', 'Quiroz J. C. (Per)', 'Villegas H. (Per)', 'Lozano S. (Per)', 'Ortega K. (Per)', 'Menendez A. (Per)', 'Espinoza J. (Per)', 'Vasquez B. (Per)', 'Huamani J. (Per)', 'Lopez Ramos P. (Esp)', 'Garay L. (Per)', 'Ureta D. (Per)', 'Zamora J. (Per)', 0, 'Cartagena J. (Per)', 'Villegas H. (Per)', 'Cori V. (Per)', 'Villanueva A. (Per)', 'Legario F. (Per)', 'Blas W. (Per)', 'Seminario L. (Per)', 'Perez R. B. (Per)', 'Ureta D. (Per)', 'Lozano S. (Per)', 'Ortega K. (Per)', 'Garay L. (Per)', 0, 0, 'Espinoza M. (Per)', 'Ordonez E. (Per)', 'Quiroz J. C. (Per)', 'Alarcon J. (Per)', 'Perez R. B. (Per)', 'Espinoza M. (Per)', 'Ortega K. (Per)', 'Ordonez E. (Per)', 'Espinoza J. (Per)', 'Huamani J. (Per)', 'Blas A. (Per)', 'Lopez P. (Per)', 0, 0, 'Garay Evia L. (Per)', 'Lozano S. (Per)', 'Huaman D. (Per)', 'Vasquez B. (Per)', 'Legario F. (Per)', 'Villegas H. (Per)', 'Garay L. (Per)', 'Ureta D. (Per)', 'Espinoza M. (Per)', 'Cartagena J. (Per)', 'Cori V. (Per)', 'Ordonez E. (Per)', 0, 0, 'Alarcon J. (Per)', 'Ciriaco L. (Per)', 'Lozano C. (Arg)', 'Alarcon J. (Per)', 'Perez R. B. (Per)', 'Villegas H. (Per)', 'Seminario L. (Per)', 'Ordonez E. (Per)', 'Cartagena J. (Per)', 'Chambi J. (Per)', 'Perez R. B. (Per)', 'Espinoza M. (Per)', 0, 0, 'Ureta D. (Per)', 'Garay L. (Per)', 'Quiroz J. (Per)', 'Estadio Inca Garcilaso de la Vega (Cusco)', 'Estadio Iván Elías Moreno (Lima)', 'Zamora J. (Per)', 'Lopez Ramos P. (Esp)', 'Garay L. (Per)', 'Perez R. B. (Per)', 'Ordonez E. (Per)', 'Espinoza M. (Per)', 0, 0, 0, 'Estadio San Martin de Porres (Lima)', 'Alarcon J. (Per)', 'Perez R. B. (Per)', 'Villanueva A. (Per)', 'Villegas H. (Per)', 'Lopez P. (Per)', 'Ortega K. (Per)', 'Zamora J. (Per)', 'Vasquez B. (Per)', 'Garay L. (Per)', 0, 0, 0, 0, 'Alarcon J. (Per)', 'Ortega K. (Per)', 'Ureta D. (Per)', 'Seminario L. (Per)', 'Lozano Segado J. (Esp)', 'Barbagelatta G. (Per)', 'Perez R. B. (Per)', 'Legario F. (Per)', 'Ortega K. (Per)', 'Alarcon J. (Per)', 'Seminario L. (Per)', 'Lopez P. (Per)', 0, 0, 'Legario F. (Per)', 'Barbagelatta G. (Per)', 'Cartagena J. (Per)', 'Villegas H. (Per)', 'Huaman D. (Per)', 'Seminario L. (Per)', 'Alarcon J. (Per)', 'Espinoza M. (Per)', 'Menendez A. (Per)', 'Espinoza M. (Per)', 'Garay Evia L. (Per)', 0, 0, 0, 'Espinoza J. (Per)', 'Seminario L. (Per)', 'Villegas H. (Per)', 'Ortega K. (Arg)', 'Menendez A. (Per)', 'Ortega K. (Per)', 'Cartagena J. (Per)', 'Garay L. (Per)', 'Perez R. B. (Per)', 'Ordonez E. (Per)', 'Estadio Miguel Grau (Piura)', 'Legario F. (Per)', 0, 0, 'Alarcon J. (Per)', 'Estadio Miguel Grau (Callao)', 'Villegas H. (Per)', 'Cartagena J. (Per)', 'Perez R. B. (Per)', 'Ortega K. (Per)', 'Ordonez E. (Per)', 'Espinoza M. (Per)', 'Estadio Monumental (Lima)', 'Alarcon J. (Per)', 'Espinoza J. (Per)', 'Garay Evia L. (Per)', 0, 0, 'Huaman D. (Per)', 'Perez R. B. (Per)', 'Seminario L. (Per)', 'Mendoza J. (Per)', 'Alarcon J. (Per)', 'Ordonez E. (Per)', 'Espinoza J. (Per)', 'Menendez A. (Per)', 'Cartagena J. (Per)', 'Perez R. B. (Per)', 'Lopez R. (Per)', 'Garay L. (Per)', 0, 0, 'Alarcon J. (Per)', 'Zamora J. (Per)', 'Espinoza J. (Per)', 'Seminario L. (Per)', 'Ordonez E. (Per)', 'Lopez P. (Per)', 'Espinoza M. (Per)', 'Alarcon J. (Per)', 'Barbagelatta G. (Per)', 'Estadio Alejandro Villanueva (Lima)', 0, 0, 0, 0, 'Palomino M. (Per)', 'Legario F. (Per)', 'Espinoza J. (Per)', 'Estadio Huancayo (Huancayo)', 'Espinoza M. (Per)', 'Huaman D. (Per)', 'Perez R. B. (Per)', 'Legario F. (Per)', 'Garay L. (Per)', 'Ordonez E. (Per)', 'Cartagena J. (Per)', 0, 0, 0, 'Perez R. B. (Per)', 'Lopez R. (Per)', 'Ordonez E. (Per)', 'Espinoza J. (Per)', 'Huaman D. (Per)', 'Legario F. (Per)', 'Barbagelatta G. (Per)', 'Perez R. B. (Per)', 'Alarcon J. (Per)', 'Espinoza M. (Per)', 'Legario F. (Per)', 'Cartagena J. (Per)', 0, 0, 0, 0, 0, 0, 0, 0, 0, 0, 0]\n",
      "\n"
     ]
    },
    {
     "name": "stderr",
     "output_type": "stream",
     "text": [
      "[WDM] - ====== WebDriver manager ======\n"
     ]
    },
    {
     "name": "stdout",
     "output_type": "stream",
     "text": [
      "Termino 151\n",
      "['Perez R. B. (Per)', 'Quiroz J. C. (Per)', 'Villegas H. (Per)', 'Lozano S. (Per)', 'Ortega K. (Per)', 'Menendez A. (Per)', 'Espinoza J. (Per)', 'Vasquez B. (Per)', 'Huamani J. (Per)', 'Lopez Ramos P. (Esp)', 'Garay L. (Per)', 'Ureta D. (Per)', 'Zamora J. (Per)', 0, 'Cartagena J. (Per)', 'Villegas H. (Per)', 'Cori V. (Per)', 'Villanueva A. (Per)', 'Legario F. (Per)', 'Blas W. (Per)', 'Seminario L. (Per)', 'Perez R. B. (Per)', 'Ureta D. (Per)', 'Lozano S. (Per)', 'Ortega K. (Per)', 'Garay L. (Per)', 0, 0, 'Espinoza M. (Per)', 'Ordonez E. (Per)', 'Quiroz J. C. (Per)', 'Alarcon J. (Per)', 'Perez R. B. (Per)', 'Espinoza M. (Per)', 'Ortega K. (Per)', 'Ordonez E. (Per)', 'Espinoza J. (Per)', 'Huamani J. (Per)', 'Blas A. (Per)', 'Lopez P. (Per)', 0, 0, 'Garay Evia L. (Per)', 'Lozano S. (Per)', 'Huaman D. (Per)', 'Vasquez B. (Per)', 'Legario F. (Per)', 'Villegas H. (Per)', 'Garay L. (Per)', 'Ureta D. (Per)', 'Espinoza M. (Per)', 'Cartagena J. (Per)', 'Cori V. (Per)', 'Ordonez E. (Per)', 0, 0, 'Alarcon J. (Per)', 'Ciriaco L. (Per)', 'Lozano C. (Arg)', 'Alarcon J. (Per)', 'Perez R. B. (Per)', 'Villegas H. (Per)', 'Seminario L. (Per)', 'Ordonez E. (Per)', 'Cartagena J. (Per)', 'Chambi J. (Per)', 'Perez R. B. (Per)', 'Espinoza M. (Per)', 0, 0, 'Ureta D. (Per)', 'Garay L. (Per)', 'Quiroz J. (Per)', 'Estadio Inca Garcilaso de la Vega (Cusco)', 'Estadio Iván Elías Moreno (Lima)', 'Zamora J. (Per)', 'Lopez Ramos P. (Esp)', 'Garay L. (Per)', 'Perez R. B. (Per)', 'Ordonez E. (Per)', 'Espinoza M. (Per)', 0, 0, 0, 'Estadio San Martin de Porres (Lima)', 'Alarcon J. (Per)', 'Perez R. B. (Per)', 'Villanueva A. (Per)', 'Villegas H. (Per)', 'Lopez P. (Per)', 'Ortega K. (Per)', 'Zamora J. (Per)', 'Vasquez B. (Per)', 'Garay L. (Per)', 0, 0, 0, 0, 'Alarcon J. (Per)', 'Ortega K. (Per)', 'Ureta D. (Per)', 'Seminario L. (Per)', 'Lozano Segado J. (Esp)', 'Barbagelatta G. (Per)', 'Perez R. B. (Per)', 'Legario F. (Per)', 'Ortega K. (Per)', 'Alarcon J. (Per)', 'Seminario L. (Per)', 'Lopez P. (Per)', 0, 0, 'Legario F. (Per)', 'Barbagelatta G. (Per)', 'Cartagena J. (Per)', 'Villegas H. (Per)', 'Huaman D. (Per)', 'Seminario L. (Per)', 'Alarcon J. (Per)', 'Espinoza M. (Per)', 'Menendez A. (Per)', 'Espinoza M. (Per)', 'Garay Evia L. (Per)', 0, 0, 0, 'Espinoza J. (Per)', 'Seminario L. (Per)', 'Villegas H. (Per)', 'Ortega K. (Arg)', 'Menendez A. (Per)', 'Ortega K. (Per)', 'Cartagena J. (Per)', 'Garay L. (Per)', 'Perez R. B. (Per)', 'Ordonez E. (Per)', 'Estadio Miguel Grau (Piura)', 'Legario F. (Per)', 0, 0, 'Alarcon J. (Per)', 'Estadio Miguel Grau (Callao)', 'Villegas H. (Per)', 'Cartagena J. (Per)', 'Perez R. B. (Per)', 'Ortega K. (Per)', 'Ordonez E. (Per)', 'Espinoza M. (Per)', 'Estadio Monumental (Lima)', 'Alarcon J. (Per)', 'Espinoza J. (Per)', 'Garay Evia L. (Per)', 0, 0, 'Huaman D. (Per)', 'Perez R. B. (Per)', 'Seminario L. (Per)', 'Mendoza J. (Per)', 'Alarcon J. (Per)', 'Ordonez E. (Per)', 'Espinoza J. (Per)', 'Menendez A. (Per)', 'Cartagena J. (Per)', 'Perez R. B. (Per)', 'Lopez R. (Per)', 'Garay L. (Per)', 0, 0, 'Alarcon J. (Per)', 'Zamora J. (Per)', 'Espinoza J. (Per)', 'Seminario L. (Per)', 'Ordonez E. (Per)', 'Lopez P. (Per)', 'Espinoza M. (Per)', 'Alarcon J. (Per)', 'Barbagelatta G. (Per)', 'Estadio Alejandro Villanueva (Lima)', 0, 0, 0, 0, 'Palomino M. (Per)', 'Legario F. (Per)', 'Espinoza J. (Per)', 'Estadio Huancayo (Huancayo)', 'Espinoza M. (Per)', 'Huaman D. (Per)', 'Perez R. B. (Per)', 'Legario F. (Per)', 'Garay L. (Per)', 'Ordonez E. (Per)', 'Cartagena J. (Per)', 0, 0, 0, 'Perez R. B. (Per)', 'Lopez R. (Per)', 'Ordonez E. (Per)', 'Espinoza J. (Per)', 'Huaman D. (Per)', 'Legario F. (Per)', 'Barbagelatta G. (Per)', 'Perez R. B. (Per)', 'Alarcon J. (Per)', 'Espinoza M. (Per)', 'Legario F. (Per)', 'Cartagena J. (Per)', 0, 0, 0, 0, 0, 0, 0, 0, 0, 0, 0]\n",
      "\n"
     ]
    },
    {
     "name": "stderr",
     "output_type": "stream",
     "text": [
      "[WDM] - ====== WebDriver manager ======\n",
      "[WDM] - Current google-chrome version is 104.0.5112\n",
      "[WDM] - Get LATEST chromedriver version for 104.0.5112 google-chrome\n",
      "[WDM] - Current google-chrome version is 104.0.5112\n",
      "[WDM] - Get LATEST chromedriver version for 104.0.5112 google-chrome\n",
      "[WDM] - Driver [C:\\Users\\PC-1\\.wdm\\drivers\\chromedriver\\win32\\104.0.5112.79\\chromedriver.exe] found in cache\n",
      "[WDM] - Driver [C:\\Users\\PC-1\\.wdm\\drivers\\chromedriver\\win32\\104.0.5112.79\\chromedriver.exe] found in cache\n"
     ]
    },
    {
     "name": "stdout",
     "output_type": "stream",
     "text": [
      "Termino 165\n",
      "['Perez R. B. (Per)', 'Quiroz J. C. (Per)', 'Villegas H. (Per)', 'Lozano S. (Per)', 'Ortega K. (Per)', 'Menendez A. (Per)', 'Espinoza J. (Per)', 'Vasquez B. (Per)', 'Huamani J. (Per)', 'Lopez Ramos P. (Esp)', 'Garay L. (Per)', 'Ureta D. (Per)', 'Zamora J. (Per)', 0, 'Cartagena J. (Per)', 'Villegas H. (Per)', 'Cori V. (Per)', 'Villanueva A. (Per)', 'Legario F. (Per)', 'Blas W. (Per)', 'Seminario L. (Per)', 'Perez R. B. (Per)', 'Ureta D. (Per)', 'Lozano S. (Per)', 'Ortega K. (Per)', 'Garay L. (Per)', 0, 0, 'Espinoza M. (Per)', 'Ordonez E. (Per)', 'Quiroz J. C. (Per)', 'Alarcon J. (Per)', 'Perez R. B. (Per)', 'Espinoza M. (Per)', 'Ortega K. (Per)', 'Ordonez E. (Per)', 'Espinoza J. (Per)', 'Huamani J. (Per)', 'Blas A. (Per)', 'Lopez P. (Per)', 0, 0, 'Garay Evia L. (Per)', 'Lozano S. (Per)', 'Huaman D. (Per)', 'Vasquez B. (Per)', 'Legario F. (Per)', 'Villegas H. (Per)', 'Garay L. (Per)', 'Ureta D. (Per)', 'Espinoza M. (Per)', 'Cartagena J. (Per)', 'Cori V. (Per)', 'Ordonez E. (Per)', 0, 0, 'Alarcon J. (Per)', 'Ciriaco L. (Per)', 'Lozano C. (Arg)', 'Alarcon J. (Per)', 'Perez R. B. (Per)', 'Villegas H. (Per)', 'Seminario L. (Per)', 'Ordonez E. (Per)', 'Cartagena J. (Per)', 'Chambi J. (Per)', 'Perez R. B. (Per)', 'Espinoza M. (Per)', 0, 0, 'Ureta D. (Per)', 'Garay L. (Per)', 'Quiroz J. (Per)', 'Estadio Inca Garcilaso de la Vega (Cusco)', 'Estadio Iván Elías Moreno (Lima)', 'Zamora J. (Per)', 'Lopez Ramos P. (Esp)', 'Garay L. (Per)', 'Perez R. B. (Per)', 'Ordonez E. (Per)', 'Espinoza M. (Per)', 0, 0, 0, 'Estadio San Martin de Porres (Lima)', 'Alarcon J. (Per)', 'Perez R. B. (Per)', 'Villanueva A. (Per)', 'Villegas H. (Per)', 'Lopez P. (Per)', 'Ortega K. (Per)', 'Zamora J. (Per)', 'Vasquez B. (Per)', 'Garay L. (Per)', 0, 0, 0, 0, 'Alarcon J. (Per)', 'Ortega K. (Per)', 'Ureta D. (Per)', 'Seminario L. (Per)', 'Lozano Segado J. (Esp)', 'Barbagelatta G. (Per)', 'Perez R. B. (Per)', 'Legario F. (Per)', 'Ortega K. (Per)', 'Alarcon J. (Per)', 'Seminario L. (Per)', 'Lopez P. (Per)', 0, 0, 'Legario F. (Per)', 'Barbagelatta G. (Per)', 'Cartagena J. (Per)', 'Villegas H. (Per)', 'Huaman D. (Per)', 'Seminario L. (Per)', 'Alarcon J. (Per)', 'Espinoza M. (Per)', 'Menendez A. (Per)', 'Espinoza M. (Per)', 'Garay Evia L. (Per)', 'Ureta D. (Per)', 0, 0, 'Espinoza J. (Per)', 'Seminario L. (Per)', 'Villegas H. (Per)', 'Ortega K. (Arg)', 'Menendez A. (Per)', 'Ortega K. (Per)', 'Cartagena J. (Per)', 'Garay L. (Per)', 'Perez R. B. (Per)', 'Ordonez E. (Per)', 'Estadio Miguel Grau (Piura)', 'Legario F. (Per)', 0, 0, 'Alarcon J. (Per)', 'Estadio Miguel Grau (Callao)', 'Villegas H. (Per)', 'Cartagena J. (Per)', 'Perez R. B. (Per)', 'Ortega K. (Per)', 'Ordonez E. (Per)', 'Espinoza M. (Per)', 'Estadio Monumental (Lima)', 'Alarcon J. (Per)', 'Espinoza J. (Per)', 'Garay Evia L. (Per)', 0, 0, 'Huaman D. (Per)', 'Perez R. B. (Per)', 'Seminario L. (Per)', 'Mendoza J. (Per)', 'Alarcon J. (Per)', 'Ordonez E. (Per)', 'Espinoza J. (Per)', 'Menendez A. (Per)', 'Cartagena J. (Per)', 'Perez R. B. (Per)', 'Lopez R. (Per)', 'Garay L. (Per)', 0, 0, 'Alarcon J. (Per)', 'Zamora J. (Per)', 'Espinoza J. (Per)', 'Seminario L. (Per)', 'Ordonez E. (Per)', 'Lopez P. (Per)', 'Espinoza M. (Per)', 'Alarcon J. (Per)', 'Barbagelatta G. (Per)', 'Estadio Alejandro Villanueva (Lima)', 0, 0, 0, 0, 'Palomino M. (Per)', 'Legario F. (Per)', 'Espinoza J. (Per)', 'Estadio Huancayo (Huancayo)', 'Espinoza M. (Per)', 'Huaman D. (Per)', 'Perez R. B. (Per)', 'Legario F. (Per)', 'Garay L. (Per)', 'Ordonez E. (Per)', 'Cartagena J. (Per)', 'Espinoza M. (Per)', 0, 0, 'Perez R. B. (Per)', 'Lopez R. (Per)', 'Ordonez E. (Per)', 'Espinoza J. (Per)', 'Huaman D. (Per)', 'Legario F. (Per)', 'Barbagelatta G. (Per)', 'Perez R. B. (Per)', 'Alarcon J. (Per)', 'Espinoza M. (Per)', 'Legario F. (Per)', 'Cartagena J. (Per)', 0, 0, 0, 0, 0, 0, 0, 0, 0, 0, 0]\n",
      "\n"
     ]
    },
    {
     "name": "stderr",
     "output_type": "stream",
     "text": [
      "[WDM] - ====== WebDriver manager ======\n",
      "[WDM] - Current google-chrome version is 104.0.5112\n",
      "[WDM] - Get LATEST chromedriver version for 104.0.5112 google-chrome\n",
      "[WDM] - Driver [C:\\Users\\PC-1\\.wdm\\drivers\\chromedriver\\win32\\104.0.5112.79\\chromedriver.exe] found in cache\n"
     ]
    },
    {
     "name": "stdout",
     "output_type": "stream",
     "text": [
      "Termino 123\n",
      "['Perez R. B. (Per)', 'Quiroz J. C. (Per)', 'Villegas H. (Per)', 'Lozano S. (Per)', 'Ortega K. (Per)', 'Menendez A. (Per)', 'Espinoza J. (Per)', 'Vasquez B. (Per)', 'Huamani J. (Per)', 'Lopez Ramos P. (Esp)', 'Garay L. (Per)', 'Ureta D. (Per)', 'Zamora J. (Per)', 0, 'Cartagena J. (Per)', 'Villegas H. (Per)', 'Cori V. (Per)', 'Villanueva A. (Per)', 'Legario F. (Per)', 'Blas W. (Per)', 'Seminario L. (Per)', 'Perez R. B. (Per)', 'Ureta D. (Per)', 'Lozano S. (Per)', 'Ortega K. (Per)', 'Garay L. (Per)', 0, 0, 'Espinoza M. (Per)', 'Ordonez E. (Per)', 'Quiroz J. C. (Per)', 'Alarcon J. (Per)', 'Perez R. B. (Per)', 'Espinoza M. (Per)', 'Ortega K. (Per)', 'Ordonez E. (Per)', 'Espinoza J. (Per)', 'Huamani J. (Per)', 'Blas A. (Per)', 'Lopez P. (Per)', 0, 0, 'Garay Evia L. (Per)', 'Lozano S. (Per)', 'Huaman D. (Per)', 'Vasquez B. (Per)', 'Legario F. (Per)', 'Villegas H. (Per)', 'Garay L. (Per)', 'Ureta D. (Per)', 'Espinoza M. (Per)', 'Cartagena J. (Per)', 'Cori V. (Per)', 'Ordonez E. (Per)', 'Estadio Inca Garcilaso de la Vega (Cusco)', 0, 'Alarcon J. (Per)', 'Ciriaco L. (Per)', 'Lozano C. (Arg)', 'Alarcon J. (Per)', 'Perez R. B. (Per)', 'Villegas H. (Per)', 'Seminario L. (Per)', 'Ordonez E. (Per)', 'Cartagena J. (Per)', 'Chambi J. (Per)', 'Perez R. B. (Per)', 'Espinoza M. (Per)', 0, 0, 'Ureta D. (Per)', 'Garay L. (Per)', 'Quiroz J. (Per)', 'Estadio Inca Garcilaso de la Vega (Cusco)', 'Estadio Iván Elías Moreno (Lima)', 'Zamora J. (Per)', 'Lopez Ramos P. (Esp)', 'Garay L. (Per)', 'Perez R. B. (Per)', 'Ordonez E. (Per)', 'Espinoza M. (Per)', 0, 0, 0, 'Estadio San Martin de Porres (Lima)', 'Alarcon J. (Per)', 'Perez R. B. (Per)', 'Villanueva A. (Per)', 'Villegas H. (Per)', 'Lopez P. (Per)', 'Ortega K. (Per)', 'Zamora J. (Per)', 'Vasquez B. (Per)', 'Garay L. (Per)', 0, 0, 0, 0, 'Alarcon J. (Per)', 'Ortega K. (Per)', 'Ureta D. (Per)', 'Seminario L. (Per)', 'Lozano Segado J. (Esp)', 'Barbagelatta G. (Per)', 'Perez R. B. (Per)', 'Legario F. (Per)', 'Ortega K. (Per)', 'Alarcon J. (Per)', 'Seminario L. (Per)', 'Lopez P. (Per)', 0, 0, 'Legario F. (Per)', 'Barbagelatta G. (Per)', 'Cartagena J. (Per)', 'Villegas H. (Per)', 'Huaman D. (Per)', 'Seminario L. (Per)', 'Alarcon J. (Per)', 'Espinoza M. (Per)', 'Menendez A. (Per)', 'Espinoza M. (Per)', 'Garay Evia L. (Per)', 'Ureta D. (Per)', 0, 0, 'Espinoza J. (Per)', 'Seminario L. (Per)', 'Villegas H. (Per)', 'Ortega K. (Arg)', 'Menendez A. (Per)', 'Ortega K. (Per)', 'Cartagena J. (Per)', 'Garay L. (Per)', 'Perez R. B. (Per)', 'Ordonez E. (Per)', 'Estadio Miguel Grau (Piura)', 'Legario F. (Per)', 0, 0, 'Alarcon J. (Per)', 'Estadio Miguel Grau (Callao)', 'Villegas H. (Per)', 'Cartagena J. (Per)', 'Perez R. B. (Per)', 'Ortega K. (Per)', 'Ordonez E. (Per)', 'Espinoza M. (Per)', 'Estadio Monumental (Lima)', 'Alarcon J. (Per)', 'Espinoza J. (Per)', 'Garay Evia L. (Per)', 0, 0, 'Huaman D. (Per)', 'Perez R. B. (Per)', 'Seminario L. (Per)', 'Mendoza J. (Per)', 'Alarcon J. (Per)', 'Ordonez E. (Per)', 'Espinoza J. (Per)', 'Menendez A. (Per)', 'Cartagena J. (Per)', 'Perez R. B. (Per)', 'Lopez R. (Per)', 'Garay L. (Per)', 0, 0, 'Alarcon J. (Per)', 'Zamora J. (Per)', 'Espinoza J. (Per)', 'Seminario L. (Per)', 'Ordonez E. (Per)', 'Lopez P. (Per)', 'Espinoza M. (Per)', 'Alarcon J. (Per)', 'Barbagelatta G. (Per)', 'Estadio Alejandro Villanueva (Lima)', 0, 0, 0, 0, 'Palomino M. (Per)', 'Legario F. (Per)', 'Espinoza J. (Per)', 'Estadio Huancayo (Huancayo)', 'Espinoza M. (Per)', 'Huaman D. (Per)', 'Perez R. B. (Per)', 'Legario F. (Per)', 'Garay L. (Per)', 'Ordonez E. (Per)', 'Cartagena J. (Per)', 'Espinoza M. (Per)', 0, 0, 'Perez R. B. (Per)', 'Lopez R. (Per)', 'Ordonez E. (Per)', 'Espinoza J. (Per)', 'Huaman D. (Per)', 'Legario F. (Per)', 'Barbagelatta G. (Per)', 'Perez R. B. (Per)', 'Alarcon J. (Per)', 'Espinoza M. (Per)', 'Legario F. (Per)', 'Cartagena J. (Per)', 0, 0, 0, 0, 0, 0, 0, 0, 0, 0, 0]\n",
      "\n"
     ]
    },
    {
     "name": "stderr",
     "output_type": "stream",
     "text": [
      "[WDM] - ====== WebDriver manager ======\n"
     ]
    },
    {
     "name": "stdout",
     "output_type": "stream",
     "text": [
      "Termino 12\n",
      "['Perez R. B. (Per)', 'Quiroz J. C. (Per)', 'Villegas H. (Per)', 'Lozano S. (Per)', 'Ortega K. (Per)', 'Menendez A. (Per)', 'Espinoza J. (Per)', 'Vasquez B. (Per)', 'Huamani J. (Per)', 'Lopez Ramos P. (Esp)', 'Garay L. (Per)', 'Ureta D. (Per)', 'Zamora J. (Per)', 0, 'Cartagena J. (Per)', 'Villegas H. (Per)', 'Cori V. (Per)', 'Villanueva A. (Per)', 'Legario F. (Per)', 'Blas W. (Per)', 'Seminario L. (Per)', 'Perez R. B. (Per)', 'Ureta D. (Per)', 'Lozano S. (Per)', 'Ortega K. (Per)', 'Garay L. (Per)', 0, 0, 'Espinoza M. (Per)', 'Ordonez E. (Per)', 'Quiroz J. C. (Per)', 'Alarcon J. (Per)', 'Perez R. B. (Per)', 'Espinoza M. (Per)', 'Ortega K. (Per)', 'Ordonez E. (Per)', 'Espinoza J. (Per)', 'Huamani J. (Per)', 'Blas A. (Per)', 'Lopez P. (Per)', 0, 0, 'Garay Evia L. (Per)', 'Lozano S. (Per)', 'Huaman D. (Per)', 'Vasquez B. (Per)', 'Legario F. (Per)', 'Villegas H. (Per)', 'Garay L. (Per)', 'Ureta D. (Per)', 'Espinoza M. (Per)', 'Cartagena J. (Per)', 'Cori V. (Per)', 'Ordonez E. (Per)', 'Estadio Inca Garcilaso de la Vega (Cusco)', 0, 'Alarcon J. (Per)', 'Ciriaco L. (Per)', 'Lozano C. (Arg)', 'Alarcon J. (Per)', 'Perez R. B. (Per)', 'Villegas H. (Per)', 'Seminario L. (Per)', 'Ordonez E. (Per)', 'Cartagena J. (Per)', 'Chambi J. (Per)', 'Perez R. B. (Per)', 'Espinoza M. (Per)', 0, 0, 'Ureta D. (Per)', 'Garay L. (Per)', 'Quiroz J. (Per)', 'Estadio Inca Garcilaso de la Vega (Cusco)', 'Estadio Iván Elías Moreno (Lima)', 'Zamora J. (Per)', 'Lopez Ramos P. (Esp)', 'Garay L. (Per)', 'Perez R. B. (Per)', 'Ordonez E. (Per)', 'Espinoza M. (Per)', 0, 0, 0, 'Estadio San Martin de Porres (Lima)', 'Alarcon J. (Per)', 'Perez R. B. (Per)', 'Villanueva A. (Per)', 'Villegas H. (Per)', 'Lopez P. (Per)', 'Ortega K. (Per)', 'Zamora J. (Per)', 'Vasquez B. (Per)', 'Garay L. (Per)', 0, 0, 0, 0, 'Alarcon J. (Per)', 'Ortega K. (Per)', 'Ureta D. (Per)', 'Seminario L. (Per)', 'Lozano Segado J. (Esp)', 'Barbagelatta G. (Per)', 'Perez R. B. (Per)', 'Legario F. (Per)', 'Ortega K. (Per)', 'Alarcon J. (Per)', 'Seminario L. (Per)', 'Lopez P. (Per)', 0, 0, 'Legario F. (Per)', 'Barbagelatta G. (Per)', 'Cartagena J. (Per)', 'Villegas H. (Per)', 'Huaman D. (Per)', 'Seminario L. (Per)', 'Alarcon J. (Per)', 'Espinoza M. (Per)', 'Menendez A. (Per)', 'Espinoza M. (Per)', 'Garay Evia L. (Per)', 'Ureta D. (Per)', 0, 0, 'Espinoza J. (Per)', 'Seminario L. (Per)', 'Villegas H. (Per)', 'Ortega K. (Arg)', 'Menendez A. (Per)', 'Ortega K. (Per)', 'Cartagena J. (Per)', 'Garay L. (Per)', 'Perez R. B. (Per)', 'Ordonez E. (Per)', 'Estadio Miguel Grau (Piura)', 'Legario F. (Per)', 0, 0, 'Alarcon J. (Per)', 'Estadio Miguel Grau (Callao)', 'Villegas H. (Per)', 'Cartagena J. (Per)', 'Perez R. B. (Per)', 'Ortega K. (Per)', 'Ordonez E. (Per)', 'Espinoza M. (Per)', 'Estadio Monumental (Lima)', 'Alarcon J. (Per)', 'Espinoza J. (Per)', 'Garay Evia L. (Per)', 0, 0, 'Huaman D. (Per)', 'Perez R. B. (Per)', 'Seminario L. (Per)', 'Mendoza J. (Per)', 'Alarcon J. (Per)', 'Ordonez E. (Per)', 'Espinoza J. (Per)', 'Menendez A. (Per)', 'Cartagena J. (Per)', 'Perez R. B. (Per)', 'Lopez R. (Per)', 'Garay L. (Per)', 0, 0, 'Alarcon J. (Per)', 'Zamora J. (Per)', 'Espinoza J. (Per)', 'Seminario L. (Per)', 'Ordonez E. (Per)', 'Lopez P. (Per)', 'Espinoza M. (Per)', 'Alarcon J. (Per)', 'Barbagelatta G. (Per)', 'Estadio Alejandro Villanueva (Lima)', 0, 0, 0, 0, 'Palomino M. (Per)', 'Legario F. (Per)', 'Espinoza J. (Per)', 'Estadio Huancayo (Huancayo)', 'Espinoza M. (Per)', 'Huaman D. (Per)', 'Perez R. B. (Per)', 'Legario F. (Per)', 'Garay L. (Per)', 'Ordonez E. (Per)', 'Cartagena J. (Per)', 'Espinoza M. (Per)', 0, 0, 'Perez R. B. (Per)', 'Lopez R. (Per)', 'Ordonez E. (Per)', 'Espinoza J. (Per)', 'Huaman D. (Per)', 'Legario F. (Per)', 'Barbagelatta G. (Per)', 'Perez R. B. (Per)', 'Alarcon J. (Per)', 'Espinoza M. (Per)', 'Legario F. (Per)', 'Cartagena J. (Per)', 0, 0, 0, 0, 0, 0, 0, 0, 0, 0, 0]\n",
      "\n"
     ]
    },
    {
     "name": "stderr",
     "output_type": "stream",
     "text": [
      "[WDM] - ====== WebDriver manager ======\n"
     ]
    },
    {
     "name": "stdout",
     "output_type": "stream",
     "text": [
      "Termino 193\n",
      "['Perez R. B. (Per)', 'Quiroz J. C. (Per)', 'Villegas H. (Per)', 'Lozano S. (Per)', 'Ortega K. (Per)', 'Menendez A. (Per)', 'Espinoza J. (Per)', 'Vasquez B. (Per)', 'Huamani J. (Per)', 'Lopez Ramos P. (Esp)', 'Garay L. (Per)', 'Ureta D. (Per)', 'Zamora J. (Per)', 0, 'Cartagena J. (Per)', 'Villegas H. (Per)', 'Cori V. (Per)', 'Villanueva A. (Per)', 'Legario F. (Per)', 'Blas W. (Per)', 'Seminario L. (Per)', 'Perez R. B. (Per)', 'Ureta D. (Per)', 'Lozano S. (Per)', 'Ortega K. (Per)', 'Garay L. (Per)', 0, 0, 'Espinoza M. (Per)', 'Ordonez E. (Per)', 'Quiroz J. C. (Per)', 'Alarcon J. (Per)', 'Perez R. B. (Per)', 'Espinoza M. (Per)', 'Ortega K. (Per)', 'Ordonez E. (Per)', 'Espinoza J. (Per)', 'Huamani J. (Per)', 'Blas A. (Per)', 'Lopez P. (Per)', 0, 0, 'Garay Evia L. (Per)', 'Lozano S. (Per)', 'Huaman D. (Per)', 'Vasquez B. (Per)', 'Legario F. (Per)', 'Villegas H. (Per)', 'Garay L. (Per)', 'Ureta D. (Per)', 'Espinoza M. (Per)', 'Cartagena J. (Per)', 'Cori V. (Per)', 'Ordonez E. (Per)', 'Estadio Inca Garcilaso de la Vega (Cusco)', 0, 'Alarcon J. (Per)', 'Ciriaco L. (Per)', 'Lozano C. (Arg)', 'Alarcon J. (Per)', 'Perez R. B. (Per)', 'Villegas H. (Per)', 'Seminario L. (Per)', 'Ordonez E. (Per)', 'Cartagena J. (Per)', 'Chambi J. (Per)', 'Perez R. B. (Per)', 'Espinoza M. (Per)', 0, 0, 'Ureta D. (Per)', 'Garay L. (Per)', 'Quiroz J. (Per)', 'Estadio Inca Garcilaso de la Vega (Cusco)', 'Estadio Iván Elías Moreno (Lima)', 'Zamora J. (Per)', 'Lopez Ramos P. (Esp)', 'Garay L. (Per)', 'Perez R. B. (Per)', 'Ordonez E. (Per)', 'Espinoza M. (Per)', 0, 0, 0, 'Estadio San Martin de Porres (Lima)', 'Alarcon J. (Per)', 'Perez R. B. (Per)', 'Villanueva A. (Per)', 'Villegas H. (Per)', 'Lopez P. (Per)', 'Ortega K. (Per)', 'Zamora J. (Per)', 'Vasquez B. (Per)', 'Garay L. (Per)', 0, 0, 0, 0, 'Alarcon J. (Per)', 'Ortega K. (Per)', 'Ureta D. (Per)', 'Seminario L. (Per)', 'Lozano Segado J. (Esp)', 'Barbagelatta G. (Per)', 'Perez R. B. (Per)', 'Legario F. (Per)', 'Ortega K. (Per)', 'Alarcon J. (Per)', 'Seminario L. (Per)', 'Lopez P. (Per)', 0, 0, 'Legario F. (Per)', 'Barbagelatta G. (Per)', 'Cartagena J. (Per)', 'Villegas H. (Per)', 'Huaman D. (Per)', 'Seminario L. (Per)', 'Alarcon J. (Per)', 'Espinoza M. (Per)', 'Menendez A. (Per)', 'Espinoza M. (Per)', 'Garay Evia L. (Per)', 'Ureta D. (Per)', 0, 0, 'Espinoza J. (Per)', 'Seminario L. (Per)', 'Villegas H. (Per)', 'Ortega K. (Arg)', 'Menendez A. (Per)', 'Ortega K. (Per)', 'Cartagena J. (Per)', 'Garay L. (Per)', 'Perez R. B. (Per)', 'Ordonez E. (Per)', 'Estadio Miguel Grau (Piura)', 'Legario F. (Per)', 0, 0, 'Alarcon J. (Per)', 'Estadio Miguel Grau (Callao)', 'Villegas H. (Per)', 'Cartagena J. (Per)', 'Perez R. B. (Per)', 'Ortega K. (Per)', 'Ordonez E. (Per)', 'Espinoza M. (Per)', 'Estadio Monumental (Lima)', 'Alarcon J. (Per)', 'Espinoza J. (Per)', 'Garay Evia L. (Per)', 0, 0, 'Huaman D. (Per)', 'Perez R. B. (Per)', 'Seminario L. (Per)', 'Mendoza J. (Per)', 'Alarcon J. (Per)', 'Ordonez E. (Per)', 'Espinoza J. (Per)', 'Menendez A. (Per)', 'Cartagena J. (Per)', 'Perez R. B. (Per)', 'Lopez R. (Per)', 'Garay L. (Per)', 0, 0, 'Alarcon J. (Per)', 'Zamora J. (Per)', 'Espinoza J. (Per)', 'Seminario L. (Per)', 'Ordonez E. (Per)', 'Lopez P. (Per)', 'Espinoza M. (Per)', 'Alarcon J. (Per)', 'Barbagelatta G. (Per)', 'Estadio Alejandro Villanueva (Lima)', 0, 0, 0, 0, 'Palomino M. (Per)', 'Legario F. (Per)', 'Espinoza J. (Per)', 'Estadio Huancayo (Huancayo)', 'Espinoza M. (Per)', 'Huaman D. (Per)', 'Perez R. B. (Per)', 'Legario F. (Per)', 'Garay L. (Per)', 'Ordonez E. (Per)', 'Cartagena J. (Per)', 'Espinoza M. (Per)', 0, 0, 'Perez R. B. (Per)', 'Lopez R. (Per)', 'Ordonez E. (Per)', 'Espinoza J. (Per)', 'Huaman D. (Per)', 'Legario F. (Per)', 'Barbagelatta G. (Per)', 'Perez R. B. (Per)', 'Alarcon J. (Per)', 'Espinoza M. (Per)', 'Legario F. (Per)', 'Cartagena J. (Per)', 0, 0, 0, 0, 0, 0, 0, 0, 0, 0, 0]\n",
      "\n"
     ]
    },
    {
     "name": "stderr",
     "output_type": "stream",
     "text": [
      "[WDM] - ====== WebDriver manager ======\n",
      "[WDM] - Current google-chrome version is 104.0.5112\n",
      "[WDM] - Get LATEST chromedriver version for 104.0.5112 google-chrome\n",
      "[WDM] - Driver [C:\\Users\\PC-1\\.wdm\\drivers\\chromedriver\\win32\\104.0.5112.79\\chromedriver.exe] found in cache\n",
      "[WDM] - Current google-chrome version is 104.0.5112\n",
      "[WDM] - Get LATEST chromedriver version for 104.0.5112 google-chrome\n",
      "[WDM] - Current google-chrome version is 104.0.5112\n",
      "[WDM] - Get LATEST chromedriver version for 104.0.5112 google-chrome\n",
      "[WDM] - Current google-chrome version is 104.0.5112\n",
      "[WDM] - Get LATEST chromedriver version for 104.0.5112 google-chrome\n",
      "[WDM] - Driver [C:\\Users\\PC-1\\.wdm\\drivers\\chromedriver\\win32\\104.0.5112.79\\chromedriver.exe] found in cache\n",
      "[WDM] - Driver [C:\\Users\\PC-1\\.wdm\\drivers\\chromedriver\\win32\\104.0.5112.79\\chromedriver.exe] found in cache\n",
      "[WDM] - Driver [C:\\Users\\PC-1\\.wdm\\drivers\\chromedriver\\win32\\104.0.5112.79\\chromedriver.exe] found in cache\n"
     ]
    },
    {
     "name": "stdout",
     "output_type": "stream",
     "text": [
      "Termino 54\n",
      "['Perez R. B. (Per)', 'Quiroz J. C. (Per)', 'Villegas H. (Per)', 'Lozano S. (Per)', 'Ortega K. (Per)', 'Menendez A. (Per)', 'Espinoza J. (Per)', 'Vasquez B. (Per)', 'Huamani J. (Per)', 'Lopez Ramos P. (Esp)', 'Garay L. (Per)', 'Ureta D. (Per)', 'Zamora J. (Per)', 0, 'Cartagena J. (Per)', 'Villegas H. (Per)', 'Cori V. (Per)', 'Villanueva A. (Per)', 'Legario F. (Per)', 'Blas W. (Per)', 'Seminario L. (Per)', 'Perez R. B. (Per)', 'Ureta D. (Per)', 'Lozano S. (Per)', 'Ortega K. (Per)', 'Garay L. (Per)', 'Lopez Ramos P. (Esp)', 0, 'Espinoza M. (Per)', 'Ordonez E. (Per)', 'Quiroz J. C. (Per)', 'Alarcon J. (Per)', 'Perez R. B. (Per)', 'Espinoza M. (Per)', 'Ortega K. (Per)', 'Ordonez E. (Per)', 'Espinoza J. (Per)', 'Huamani J. (Per)', 'Blas A. (Per)', 'Lopez P. (Per)', 0, 0, 'Garay Evia L. (Per)', 'Lozano S. (Per)', 'Huaman D. (Per)', 'Vasquez B. (Per)', 'Legario F. (Per)', 'Villegas H. (Per)', 'Garay L. (Per)', 'Ureta D. (Per)', 'Espinoza M. (Per)', 'Cartagena J. (Per)', 'Cori V. (Per)', 'Ordonez E. (Per)', 'Estadio Inca Garcilaso de la Vega (Cusco)', 0, 'Alarcon J. (Per)', 'Ciriaco L. (Per)', 'Lozano C. (Arg)', 'Alarcon J. (Per)', 'Perez R. B. (Per)', 'Villegas H. (Per)', 'Seminario L. (Per)', 'Ordonez E. (Per)', 'Cartagena J. (Per)', 'Chambi J. (Per)', 'Perez R. B. (Per)', 'Espinoza M. (Per)', 'Segura R. (Per)', 0, 'Ureta D. (Per)', 'Garay L. (Per)', 'Quiroz J. (Per)', 'Estadio Inca Garcilaso de la Vega (Cusco)', 'Estadio Iván Elías Moreno (Lima)', 'Zamora J. (Per)', 'Lopez Ramos P. (Esp)', 'Garay L. (Per)', 'Perez R. B. (Per)', 'Ordonez E. (Per)', 'Espinoza M. (Per)', 0, 0, 0, 'Estadio San Martin de Porres (Lima)', 'Alarcon J. (Per)', 'Perez R. B. (Per)', 'Villanueva A. (Per)', 'Villegas H. (Per)', 'Lopez P. (Per)', 'Ortega K. (Per)', 'Zamora J. (Per)', 'Vasquez B. (Per)', 'Garay L. (Per)', 0, 0, 0, 0, 'Alarcon J. (Per)', 'Ortega K. (Per)', 'Ureta D. (Per)', 'Seminario L. (Per)', 'Lozano Segado J. (Esp)', 'Barbagelatta G. (Per)', 'Perez R. B. (Per)', 'Legario F. (Per)', 'Ortega K. (Per)', 'Alarcon J. (Per)', 'Seminario L. (Per)', 'Lopez P. (Per)', 0, 0, 'Legario F. (Per)', 'Barbagelatta G. (Per)', 'Cartagena J. (Per)', 'Villegas H. (Per)', 'Huaman D. (Per)', 'Seminario L. (Per)', 'Alarcon J. (Per)', 'Espinoza M. (Per)', 'Menendez A. (Per)', 'Espinoza M. (Per)', 'Garay Evia L. (Per)', 'Ureta D. (Per)', 0, 0, 'Espinoza J. (Per)', 'Seminario L. (Per)', 'Villegas H. (Per)', 'Ortega K. (Arg)', 'Menendez A. (Per)', 'Ortega K. (Per)', 'Cartagena J. (Per)', 'Garay L. (Per)', 'Perez R. B. (Per)', 'Ordonez E. (Per)', 'Estadio Miguel Grau (Piura)', 'Legario F. (Per)', 'Alarcon J. (Per)', 0, 'Alarcon J. (Per)', 'Estadio Miguel Grau (Callao)', 'Villegas H. (Per)', 'Cartagena J. (Per)', 'Perez R. B. (Per)', 'Ortega K. (Per)', 'Ordonez E. (Per)', 'Espinoza M. (Per)', 'Estadio Monumental (Lima)', 'Alarcon J. (Per)', 'Espinoza J. (Per)', 'Garay Evia L. (Per)', 0, 0, 'Huaman D. (Per)', 'Perez R. B. (Per)', 'Seminario L. (Per)', 'Mendoza J. (Per)', 'Alarcon J. (Per)', 'Ordonez E. (Per)', 'Espinoza J. (Per)', 'Menendez A. (Per)', 'Cartagena J. (Per)', 'Perez R. B. (Per)', 'Lopez R. (Per)', 'Garay L. (Per)', 0, 0, 'Alarcon J. (Per)', 'Zamora J. (Per)', 'Espinoza J. (Per)', 'Seminario L. (Per)', 'Ordonez E. (Per)', 'Lopez P. (Per)', 'Espinoza M. (Per)', 'Alarcon J. (Per)', 'Barbagelatta G. (Per)', 'Estadio Alejandro Villanueva (Lima)', 0, 0, 0, 0, 'Palomino M. (Per)', 'Legario F. (Per)', 'Espinoza J. (Per)', 'Estadio Huancayo (Huancayo)', 'Espinoza M. (Per)', 'Huaman D. (Per)', 'Perez R. B. (Per)', 'Legario F. (Per)', 'Garay L. (Per)', 'Ordonez E. (Per)', 'Cartagena J. (Per)', 'Espinoza M. (Per)', 0, 0, 'Perez R. B. (Per)', 'Lopez R. (Per)', 'Ordonez E. (Per)', 'Espinoza J. (Per)', 'Huaman D. (Per)', 'Legario F. (Per)', 'Barbagelatta G. (Per)', 'Perez R. B. (Per)', 'Alarcon J. (Per)', 'Espinoza M. (Per)', 'Legario F. (Per)', 'Cartagena J. (Per)', 'Espinoza J. (Per)', 0, 0, 0, 0, 0, 0, 0, 0, 0, 0]\n",
      "\n"
     ]
    },
    {
     "name": "stderr",
     "output_type": "stream",
     "text": [
      "[WDM] - ====== WebDriver manager ======\n"
     ]
    },
    {
     "name": "stdout",
     "output_type": "stream",
     "text": [
      "Termino 68\n",
      "['Perez R. B. (Per)', 'Quiroz J. C. (Per)', 'Villegas H. (Per)', 'Lozano S. (Per)', 'Ortega K. (Per)', 'Menendez A. (Per)', 'Espinoza J. (Per)', 'Vasquez B. (Per)', 'Huamani J. (Per)', 'Lopez Ramos P. (Esp)', 'Garay L. (Per)', 'Ureta D. (Per)', 'Zamora J. (Per)', 0, 'Cartagena J. (Per)', 'Villegas H. (Per)', 'Cori V. (Per)', 'Villanueva A. (Per)', 'Legario F. (Per)', 'Blas W. (Per)', 'Seminario L. (Per)', 'Perez R. B. (Per)', 'Ureta D. (Per)', 'Lozano S. (Per)', 'Ortega K. (Per)', 'Garay L. (Per)', 'Lopez Ramos P. (Esp)', 0, 'Espinoza M. (Per)', 'Ordonez E. (Per)', 'Quiroz J. C. (Per)', 'Alarcon J. (Per)', 'Perez R. B. (Per)', 'Espinoza M. (Per)', 'Ortega K. (Per)', 'Ordonez E. (Per)', 'Espinoza J. (Per)', 'Huamani J. (Per)', 'Blas A. (Per)', 'Lopez P. (Per)', 0, 0, 'Garay Evia L. (Per)', 'Lozano S. (Per)', 'Huaman D. (Per)', 'Vasquez B. (Per)', 'Legario F. (Per)', 'Villegas H. (Per)', 'Garay L. (Per)', 'Ureta D. (Per)', 'Espinoza M. (Per)', 'Cartagena J. (Per)', 'Cori V. (Per)', 'Ordonez E. (Per)', 'Estadio Inca Garcilaso de la Vega (Cusco)', 0, 'Alarcon J. (Per)', 'Ciriaco L. (Per)', 'Lozano C. (Arg)', 'Alarcon J. (Per)', 'Perez R. B. (Per)', 'Villegas H. (Per)', 'Seminario L. (Per)', 'Ordonez E. (Per)', 'Cartagena J. (Per)', 'Chambi J. (Per)', 'Perez R. B. (Per)', 'Espinoza M. (Per)', 'Segura R. (Per)', 0, 'Ureta D. (Per)', 'Garay L. (Per)', 'Quiroz J. (Per)', 'Estadio Inca Garcilaso de la Vega (Cusco)', 'Estadio Iván Elías Moreno (Lima)', 'Zamora J. (Per)', 'Lopez Ramos P. (Esp)', 'Garay L. (Per)', 'Perez R. B. (Per)', 'Ordonez E. (Per)', 'Espinoza M. (Per)', 0, 0, 0, 'Estadio San Martin de Porres (Lima)', 'Alarcon J. (Per)', 'Perez R. B. (Per)', 'Villanueva A. (Per)', 'Villegas H. (Per)', 'Lopez P. (Per)', 'Ortega K. (Per)', 'Zamora J. (Per)', 'Vasquez B. (Per)', 'Garay L. (Per)', 0, 0, 0, 0, 'Alarcon J. (Per)', 'Ortega K. (Per)', 'Ureta D. (Per)', 'Seminario L. (Per)', 'Lozano Segado J. (Esp)', 'Barbagelatta G. (Per)', 'Perez R. B. (Per)', 'Legario F. (Per)', 'Ortega K. (Per)', 'Alarcon J. (Per)', 'Seminario L. (Per)', 'Lopez P. (Per)', 'Estadio Monumental (Lima)', 0, 'Legario F. (Per)', 'Barbagelatta G. (Per)', 'Cartagena J. (Per)', 'Villegas H. (Per)', 'Huaman D. (Per)', 'Seminario L. (Per)', 'Alarcon J. (Per)', 'Espinoza M. (Per)', 'Menendez A. (Per)', 'Espinoza M. (Per)', 'Garay Evia L. (Per)', 'Ureta D. (Per)', 0, 0, 'Espinoza J. (Per)', 'Seminario L. (Per)', 'Villegas H. (Per)', 'Ortega K. (Arg)', 'Menendez A. (Per)', 'Ortega K. (Per)', 'Cartagena J. (Per)', 'Garay L. (Per)', 'Perez R. B. (Per)', 'Ordonez E. (Per)', 'Estadio Miguel Grau (Piura)', 'Legario F. (Per)', 'Alarcon J. (Per)', 0, 'Alarcon J. (Per)', 'Estadio Miguel Grau (Callao)', 'Villegas H. (Per)', 'Cartagena J. (Per)', 'Perez R. B. (Per)', 'Ortega K. (Per)', 'Ordonez E. (Per)', 'Espinoza M. (Per)', 'Estadio Monumental (Lima)', 'Alarcon J. (Per)', 'Espinoza J. (Per)', 'Garay Evia L. (Per)', 0, 0, 'Huaman D. (Per)', 'Perez R. B. (Per)', 'Seminario L. (Per)', 'Mendoza J. (Per)', 'Alarcon J. (Per)', 'Ordonez E. (Per)', 'Espinoza J. (Per)', 'Menendez A. (Per)', 'Cartagena J. (Per)', 'Perez R. B. (Per)', 'Lopez R. (Per)', 'Garay L. (Per)', 0, 0, 'Alarcon J. (Per)', 'Zamora J. (Per)', 'Espinoza J. (Per)', 'Seminario L. (Per)', 'Ordonez E. (Per)', 'Lopez P. (Per)', 'Espinoza M. (Per)', 'Alarcon J. (Per)', 'Barbagelatta G. (Per)', 'Estadio Alejandro Villanueva (Lima)', 0, 0, 0, 0, 'Palomino M. (Per)', 'Legario F. (Per)', 'Espinoza J. (Per)', 'Estadio Huancayo (Huancayo)', 'Espinoza M. (Per)', 'Huaman D. (Per)', 'Perez R. B. (Per)', 'Legario F. (Per)', 'Garay L. (Per)', 'Ordonez E. (Per)', 'Cartagena J. (Per)', 'Espinoza M. (Per)', 0, 0, 'Perez R. B. (Per)', 'Lopez R. (Per)', 'Ordonez E. (Per)', 'Espinoza J. (Per)', 'Huaman D. (Per)', 'Legario F. (Per)', 'Barbagelatta G. (Per)', 'Perez R. B. (Per)', 'Alarcon J. (Per)', 'Espinoza M. (Per)', 'Legario F. (Per)', 'Cartagena J. (Per)', 'Espinoza J. (Per)', 0, 0, 0, 0, 0, 0, 0, 0, 0, 0]\n",
      "\n"
     ]
    },
    {
     "name": "stderr",
     "output_type": "stream",
     "text": [
      "[WDM] - ====== WebDriver manager ======\n",
      "[WDM] - Current google-chrome version is 104.0.5112\n",
      "[WDM] - Get LATEST chromedriver version for 104.0.5112 google-chrome\n",
      "[WDM] - Current google-chrome version is 104.0.5112\n",
      "[WDM] - Get LATEST chromedriver version for 104.0.5112 google-chrome\n"
     ]
    },
    {
     "name": "stdout",
     "output_type": "stream",
     "text": [
      "Termino 26\n",
      "['Perez R. B. (Per)', 'Quiroz J. C. (Per)', 'Villegas H. (Per)', 'Lozano S. (Per)', 'Ortega K. (Per)', 'Menendez A. (Per)', 'Espinoza J. (Per)', 'Vasquez B. (Per)', 'Huamani J. (Per)', 'Lopez Ramos P. (Esp)', 'Garay L. (Per)', 'Ureta D. (Per)', 'Zamora J. (Per)', 0, 'Cartagena J. (Per)', 'Villegas H. (Per)', 'Cori V. (Per)', 'Villanueva A. (Per)', 'Legario F. (Per)', 'Blas W. (Per)', 'Seminario L. (Per)', 'Perez R. B. (Per)', 'Ureta D. (Per)', 'Lozano S. (Per)', 'Ortega K. (Per)', 'Garay L. (Per)', 'Lopez Ramos P. (Esp)', 0, 'Espinoza M. (Per)', 'Ordonez E. (Per)', 'Quiroz J. C. (Per)', 'Alarcon J. (Per)', 'Perez R. B. (Per)', 'Espinoza M. (Per)', 'Ortega K. (Per)', 'Ordonez E. (Per)', 'Espinoza J. (Per)', 'Huamani J. (Per)', 'Blas A. (Per)', 'Lopez P. (Per)', 0, 0, 'Garay Evia L. (Per)', 'Lozano S. (Per)', 'Huaman D. (Per)', 'Vasquez B. (Per)', 'Legario F. (Per)', 'Villegas H. (Per)', 'Garay L. (Per)', 'Ureta D. (Per)', 'Espinoza M. (Per)', 'Cartagena J. (Per)', 'Cori V. (Per)', 'Ordonez E. (Per)', 'Estadio Inca Garcilaso de la Vega (Cusco)', 0, 'Alarcon J. (Per)', 'Ciriaco L. (Per)', 'Lozano C. (Arg)', 'Alarcon J. (Per)', 'Perez R. B. (Per)', 'Villegas H. (Per)', 'Seminario L. (Per)', 'Ordonez E. (Per)', 'Cartagena J. (Per)', 'Chambi J. (Per)', 'Perez R. B. (Per)', 'Espinoza M. (Per)', 'Segura R. (Per)', 0, 'Ureta D. (Per)', 'Garay L. (Per)', 'Quiroz J. (Per)', 'Estadio Inca Garcilaso de la Vega (Cusco)', 'Estadio Iván Elías Moreno (Lima)', 'Zamora J. (Per)', 'Lopez Ramos P. (Esp)', 'Garay L. (Per)', 'Perez R. B. (Per)', 'Ordonez E. (Per)', 'Espinoza M. (Per)', 'Zamora J. (Per)', 0, 0, 'Estadio San Martin de Porres (Lima)', 'Alarcon J. (Per)', 'Perez R. B. (Per)', 'Villanueva A. (Per)', 'Villegas H. (Per)', 'Lopez P. (Per)', 'Ortega K. (Per)', 'Zamora J. (Per)', 'Vasquez B. (Per)', 'Garay L. (Per)', 0, 0, 0, 0, 'Alarcon J. (Per)', 'Ortega K. (Per)', 'Ureta D. (Per)', 'Seminario L. (Per)', 'Lozano Segado J. (Esp)', 'Barbagelatta G. (Per)', 'Perez R. B. (Per)', 'Legario F. (Per)', 'Ortega K. (Per)', 'Alarcon J. (Per)', 'Seminario L. (Per)', 'Lopez P. (Per)', 'Estadio Monumental (Lima)', 0, 'Legario F. (Per)', 'Barbagelatta G. (Per)', 'Cartagena J. (Per)', 'Villegas H. (Per)', 'Huaman D. (Per)', 'Seminario L. (Per)', 'Alarcon J. (Per)', 'Espinoza M. (Per)', 'Menendez A. (Per)', 'Espinoza M. (Per)', 'Garay Evia L. (Per)', 'Ureta D. (Per)', 0, 0, 'Espinoza J. (Per)', 'Seminario L. (Per)', 'Villegas H. (Per)', 'Ortega K. (Arg)', 'Menendez A. (Per)', 'Ortega K. (Per)', 'Cartagena J. (Per)', 'Garay L. (Per)', 'Perez R. B. (Per)', 'Ordonez E. (Per)', 'Estadio Miguel Grau (Piura)', 'Legario F. (Per)', 'Alarcon J. (Per)', 0, 'Alarcon J. (Per)', 'Estadio Miguel Grau (Callao)', 'Villegas H. (Per)', 'Cartagena J. (Per)', 'Perez R. B. (Per)', 'Ortega K. (Per)', 'Ordonez E. (Per)', 'Espinoza M. (Per)', 'Estadio Monumental (Lima)', 'Alarcon J. (Per)', 'Espinoza J. (Per)', 'Garay Evia L. (Per)', 0, 0, 'Huaman D. (Per)', 'Perez R. B. (Per)', 'Seminario L. (Per)', 'Mendoza J. (Per)', 'Alarcon J. (Per)', 'Ordonez E. (Per)', 'Espinoza J. (Per)', 'Menendez A. (Per)', 'Cartagena J. (Per)', 'Perez R. B. (Per)', 'Lopez R. (Per)', 'Garay L. (Per)', 0, 0, 'Alarcon J. (Per)', 'Zamora J. (Per)', 'Espinoza J. (Per)', 'Seminario L. (Per)', 'Ordonez E. (Per)', 'Lopez P. (Per)', 'Espinoza M. (Per)', 'Alarcon J. (Per)', 'Barbagelatta G. (Per)', 'Estadio Alejandro Villanueva (Lima)', 0, 0, 0, 0, 'Palomino M. (Per)', 'Legario F. (Per)', 'Espinoza J. (Per)', 'Estadio Huancayo (Huancayo)', 'Espinoza M. (Per)', 'Huaman D. (Per)', 'Perez R. B. (Per)', 'Legario F. (Per)', 'Garay L. (Per)', 'Ordonez E. (Per)', 'Cartagena J. (Per)', 'Espinoza M. (Per)', 0, 0, 'Perez R. B. (Per)', 'Lopez R. (Per)', 'Ordonez E. (Per)', 'Espinoza J. (Per)', 'Huaman D. (Per)', 'Legario F. (Per)', 'Barbagelatta G. (Per)', 'Perez R. B. (Per)', 'Alarcon J. (Per)', 'Espinoza M. (Per)', 'Legario F. (Per)', 'Cartagena J. (Per)', 'Espinoza J. (Per)', 0, 0, 0, 0, 0, 0, 0, 0, 0, 0]\n",
      "\n"
     ]
    },
    {
     "name": "stderr",
     "output_type": "stream",
     "text": [
      "[WDM] - ====== WebDriver manager ======\n",
      "[WDM] - Driver [C:\\Users\\PC-1\\.wdm\\drivers\\chromedriver\\win32\\104.0.5112.79\\chromedriver.exe] found in cache\n",
      "[WDM] - Driver [C:\\Users\\PC-1\\.wdm\\drivers\\chromedriver\\win32\\104.0.5112.79\\chromedriver.exe] found in cache\n",
      "[WDM] - Current google-chrome version is 104.0.5112\n",
      "[WDM] - Get LATEST chromedriver version for 104.0.5112 google-chrome\n",
      "[WDM] - Driver [C:\\Users\\PC-1\\.wdm\\drivers\\chromedriver\\win32\\104.0.5112.79\\chromedriver.exe] found in cache\n"
     ]
    },
    {
     "name": "stdout",
     "output_type": "stream",
     "text": [
      "Termino 138\n",
      "['Perez R. B. (Per)', 'Quiroz J. C. (Per)', 'Villegas H. (Per)', 'Lozano S. (Per)', 'Ortega K. (Per)', 'Menendez A. (Per)', 'Espinoza J. (Per)', 'Vasquez B. (Per)', 'Huamani J. (Per)', 'Lopez Ramos P. (Esp)', 'Garay L. (Per)', 'Ureta D. (Per)', 'Zamora J. (Per)', 0, 'Cartagena J. (Per)', 'Villegas H. (Per)', 'Cori V. (Per)', 'Villanueva A. (Per)', 'Legario F. (Per)', 'Blas W. (Per)', 'Seminario L. (Per)', 'Perez R. B. (Per)', 'Ureta D. (Per)', 'Lozano S. (Per)', 'Ortega K. (Per)', 'Garay L. (Per)', 'Lopez Ramos P. (Esp)', 0, 'Espinoza M. (Per)', 'Ordonez E. (Per)', 'Quiroz J. C. (Per)', 'Alarcon J. (Per)', 'Perez R. B. (Per)', 'Espinoza M. (Per)', 'Ortega K. (Per)', 'Ordonez E. (Per)', 'Espinoza J. (Per)', 'Huamani J. (Per)', 'Blas A. (Per)', 'Lopez P. (Per)', 0, 0, 'Garay Evia L. (Per)', 'Lozano S. (Per)', 'Huaman D. (Per)', 'Vasquez B. (Per)', 'Legario F. (Per)', 'Villegas H. (Per)', 'Garay L. (Per)', 'Ureta D. (Per)', 'Espinoza M. (Per)', 'Cartagena J. (Per)', 'Cori V. (Per)', 'Ordonez E. (Per)', 'Estadio Inca Garcilaso de la Vega (Cusco)', 0, 'Alarcon J. (Per)', 'Ciriaco L. (Per)', 'Lozano C. (Arg)', 'Alarcon J. (Per)', 'Perez R. B. (Per)', 'Villegas H. (Per)', 'Seminario L. (Per)', 'Ordonez E. (Per)', 'Cartagena J. (Per)', 'Chambi J. (Per)', 'Perez R. B. (Per)', 'Espinoza M. (Per)', 'Segura R. (Per)', 0, 'Ureta D. (Per)', 'Garay L. (Per)', 'Quiroz J. (Per)', 'Estadio Inca Garcilaso de la Vega (Cusco)', 'Estadio Iván Elías Moreno (Lima)', 'Zamora J. (Per)', 'Lopez Ramos P. (Esp)', 'Garay L. (Per)', 'Perez R. B. (Per)', 'Ordonez E. (Per)', 'Espinoza M. (Per)', 'Zamora J. (Per)', 0, 0, 'Estadio San Martin de Porres (Lima)', 'Alarcon J. (Per)', 'Perez R. B. (Per)', 'Villanueva A. (Per)', 'Villegas H. (Per)', 'Lopez P. (Per)', 'Ortega K. (Per)', 'Zamora J. (Per)', 'Vasquez B. (Per)', 'Garay L. (Per)', 'Lopez R. (Per)', 0, 0, 0, 'Alarcon J. (Per)', 'Ortega K. (Per)', 'Ureta D. (Per)', 'Seminario L. (Per)', 'Lozano Segado J. (Esp)', 'Barbagelatta G. (Per)', 'Perez R. B. (Per)', 'Legario F. (Per)', 'Ortega K. (Per)', 'Alarcon J. (Per)', 'Seminario L. (Per)', 'Lopez P. (Per)', 'Estadio Monumental (Lima)', 0, 'Legario F. (Per)', 'Barbagelatta G. (Per)', 'Cartagena J. (Per)', 'Villegas H. (Per)', 'Huaman D. (Per)', 'Seminario L. (Per)', 'Alarcon J. (Per)', 'Espinoza M. (Per)', 'Menendez A. (Per)', 'Espinoza M. (Per)', 'Garay Evia L. (Per)', 'Ureta D. (Per)', 0, 0, 'Espinoza J. (Per)', 'Seminario L. (Per)', 'Villegas H. (Per)', 'Ortega K. (Arg)', 'Menendez A. (Per)', 'Ortega K. (Per)', 'Cartagena J. (Per)', 'Garay L. (Per)', 'Perez R. B. (Per)', 'Ordonez E. (Per)', 'Estadio Miguel Grau (Piura)', 'Legario F. (Per)', 'Alarcon J. (Per)', 0, 'Alarcon J. (Per)', 'Estadio Miguel Grau (Callao)', 'Villegas H. (Per)', 'Cartagena J. (Per)', 'Perez R. B. (Per)', 'Ortega K. (Per)', 'Ordonez E. (Per)', 'Espinoza M. (Per)', 'Estadio Monumental (Lima)', 'Alarcon J. (Per)', 'Espinoza J. (Per)', 'Garay Evia L. (Per)', 0, 0, 'Huaman D. (Per)', 'Perez R. B. (Per)', 'Seminario L. (Per)', 'Mendoza J. (Per)', 'Alarcon J. (Per)', 'Ordonez E. (Per)', 'Espinoza J. (Per)', 'Menendez A. (Per)', 'Cartagena J. (Per)', 'Perez R. B. (Per)', 'Lopez R. (Per)', 'Garay L. (Per)', 0, 0, 'Alarcon J. (Per)', 'Zamora J. (Per)', 'Espinoza J. (Per)', 'Seminario L. (Per)', 'Ordonez E. (Per)', 'Lopez P. (Per)', 'Espinoza M. (Per)', 'Alarcon J. (Per)', 'Barbagelatta G. (Per)', 'Estadio Alejandro Villanueva (Lima)', 0, 0, 0, 0, 'Palomino M. (Per)', 'Legario F. (Per)', 'Espinoza J. (Per)', 'Estadio Huancayo (Huancayo)', 'Espinoza M. (Per)', 'Huaman D. (Per)', 'Perez R. B. (Per)', 'Legario F. (Per)', 'Garay L. (Per)', 'Ordonez E. (Per)', 'Cartagena J. (Per)', 'Espinoza M. (Per)', 0, 0, 'Perez R. B. (Per)', 'Lopez R. (Per)', 'Ordonez E. (Per)', 'Espinoza J. (Per)', 'Huaman D. (Per)', 'Legario F. (Per)', 'Barbagelatta G. (Per)', 'Perez R. B. (Per)', 'Alarcon J. (Per)', 'Espinoza M. (Per)', 'Legario F. (Per)', 'Cartagena J. (Per)', 'Espinoza J. (Per)', 0, 0, 0, 0, 0, 0, 0, 0, 0, 0]\n",
      "\n"
     ]
    },
    {
     "name": "stderr",
     "output_type": "stream",
     "text": [
      "[WDM] - ====== WebDriver manager ======\n"
     ]
    },
    {
     "name": "stdout",
     "output_type": "stream",
     "text": [
      "Termino 208\n",
      "['Perez R. B. (Per)', 'Quiroz J. C. (Per)', 'Villegas H. (Per)', 'Lozano S. (Per)', 'Ortega K. (Per)', 'Menendez A. (Per)', 'Espinoza J. (Per)', 'Vasquez B. (Per)', 'Huamani J. (Per)', 'Lopez Ramos P. (Esp)', 'Garay L. (Per)', 'Ureta D. (Per)', 'Zamora J. (Per)', 0, 'Cartagena J. (Per)', 'Villegas H. (Per)', 'Cori V. (Per)', 'Villanueva A. (Per)', 'Legario F. (Per)', 'Blas W. (Per)', 'Seminario L. (Per)', 'Perez R. B. (Per)', 'Ureta D. (Per)', 'Lozano S. (Per)', 'Ortega K. (Per)', 'Garay L. (Per)', 'Lopez Ramos P. (Esp)', 0, 'Espinoza M. (Per)', 'Ordonez E. (Per)', 'Quiroz J. C. (Per)', 'Alarcon J. (Per)', 'Perez R. B. (Per)', 'Espinoza M. (Per)', 'Ortega K. (Per)', 'Ordonez E. (Per)', 'Espinoza J. (Per)', 'Huamani J. (Per)', 'Blas A. (Per)', 'Lopez P. (Per)', 0, 0, 'Garay Evia L. (Per)', 'Lozano S. (Per)', 'Huaman D. (Per)', 'Vasquez B. (Per)', 'Legario F. (Per)', 'Villegas H. (Per)', 'Garay L. (Per)', 'Ureta D. (Per)', 'Espinoza M. (Per)', 'Cartagena J. (Per)', 'Cori V. (Per)', 'Ordonez E. (Per)', 'Estadio Inca Garcilaso de la Vega (Cusco)', 0, 'Alarcon J. (Per)', 'Ciriaco L. (Per)', 'Lozano C. (Arg)', 'Alarcon J. (Per)', 'Perez R. B. (Per)', 'Villegas H. (Per)', 'Seminario L. (Per)', 'Ordonez E. (Per)', 'Cartagena J. (Per)', 'Chambi J. (Per)', 'Perez R. B. (Per)', 'Espinoza M. (Per)', 'Segura R. (Per)', 0, 'Ureta D. (Per)', 'Garay L. (Per)', 'Quiroz J. (Per)', 'Estadio Inca Garcilaso de la Vega (Cusco)', 'Estadio Iván Elías Moreno (Lima)', 'Zamora J. (Per)', 'Lopez Ramos P. (Esp)', 'Garay L. (Per)', 'Perez R. B. (Per)', 'Ordonez E. (Per)', 'Espinoza M. (Per)', 'Zamora J. (Per)', 0, 0, 'Estadio San Martin de Porres (Lima)', 'Alarcon J. (Per)', 'Perez R. B. (Per)', 'Villanueva A. (Per)', 'Villegas H. (Per)', 'Lopez P. (Per)', 'Ortega K. (Per)', 'Zamora J. (Per)', 'Vasquez B. (Per)', 'Garay L. (Per)', 'Lopez R. (Per)', 0, 0, 0, 'Alarcon J. (Per)', 'Ortega K. (Per)', 'Ureta D. (Per)', 'Seminario L. (Per)', 'Lozano Segado J. (Esp)', 'Barbagelatta G. (Per)', 'Perez R. B. (Per)', 'Legario F. (Per)', 'Ortega K. (Per)', 'Alarcon J. (Per)', 'Seminario L. (Per)', 'Lopez P. (Per)', 'Estadio Monumental (Lima)', 0, 'Legario F. (Per)', 'Barbagelatta G. (Per)', 'Cartagena J. (Per)', 'Villegas H. (Per)', 'Huaman D. (Per)', 'Seminario L. (Per)', 'Alarcon J. (Per)', 'Espinoza M. (Per)', 'Menendez A. (Per)', 'Espinoza M. (Per)', 'Garay Evia L. (Per)', 'Ureta D. (Per)', 0, 0, 'Espinoza J. (Per)', 'Seminario L. (Per)', 'Villegas H. (Per)', 'Ortega K. (Arg)', 'Menendez A. (Per)', 'Ortega K. (Per)', 'Cartagena J. (Per)', 'Garay L. (Per)', 'Perez R. B. (Per)', 'Ordonez E. (Per)', 'Estadio Miguel Grau (Piura)', 'Legario F. (Per)', 'Alarcon J. (Per)', 0, 'Alarcon J. (Per)', 'Estadio Miguel Grau (Callao)', 'Villegas H. (Per)', 'Cartagena J. (Per)', 'Perez R. B. (Per)', 'Ortega K. (Per)', 'Ordonez E. (Per)', 'Espinoza M. (Per)', 'Estadio Monumental (Lima)', 'Alarcon J. (Per)', 'Espinoza J. (Per)', 'Garay Evia L. (Per)', 0, 0, 'Huaman D. (Per)', 'Perez R. B. (Per)', 'Seminario L. (Per)', 'Mendoza J. (Per)', 'Alarcon J. (Per)', 'Ordonez E. (Per)', 'Espinoza J. (Per)', 'Menendez A. (Per)', 'Cartagena J. (Per)', 'Perez R. B. (Per)', 'Lopez R. (Per)', 'Garay L. (Per)', 0, 0, 'Alarcon J. (Per)', 'Zamora J. (Per)', 'Espinoza J. (Per)', 'Seminario L. (Per)', 'Ordonez E. (Per)', 'Lopez P. (Per)', 'Espinoza M. (Per)', 'Alarcon J. (Per)', 'Barbagelatta G. (Per)', 'Estadio Alejandro Villanueva (Lima)', 0, 0, 0, 0, 'Palomino M. (Per)', 'Legario F. (Per)', 'Espinoza J. (Per)', 'Estadio Huancayo (Huancayo)', 'Espinoza M. (Per)', 'Huaman D. (Per)', 'Perez R. B. (Per)', 'Legario F. (Per)', 'Garay L. (Per)', 'Ordonez E. (Per)', 'Cartagena J. (Per)', 'Espinoza M. (Per)', 0, 0, 'Perez R. B. (Per)', 'Lopez R. (Per)', 'Ordonez E. (Per)', 'Espinoza J. (Per)', 'Huaman D. (Per)', 'Legario F. (Per)', 'Barbagelatta G. (Per)', 'Perez R. B. (Per)', 'Alarcon J. (Per)', 'Espinoza M. (Per)', 'Legario F. (Per)', 'Cartagena J. (Per)', 'Espinoza J. (Per)', 0, 0, 0, 0, 0, 0, 0, 0, 0, 0]\n",
      "\n"
     ]
    },
    {
     "name": "stderr",
     "output_type": "stream",
     "text": [
      "[WDM] - ====== WebDriver manager ======\n"
     ]
    },
    {
     "name": "stdout",
     "output_type": "stream",
     "text": [
      "Termino 110\n",
      "['Perez R. B. (Per)', 'Quiroz J. C. (Per)', 'Villegas H. (Per)', 'Lozano S. (Per)', 'Ortega K. (Per)', 'Menendez A. (Per)', 'Espinoza J. (Per)', 'Vasquez B. (Per)', 'Huamani J. (Per)', 'Lopez Ramos P. (Esp)', 'Garay L. (Per)', 'Ureta D. (Per)', 'Zamora J. (Per)', 0, 'Cartagena J. (Per)', 'Villegas H. (Per)', 'Cori V. (Per)', 'Villanueva A. (Per)', 'Legario F. (Per)', 'Blas W. (Per)', 'Seminario L. (Per)', 'Perez R. B. (Per)', 'Ureta D. (Per)', 'Lozano S. (Per)', 'Ortega K. (Per)', 'Garay L. (Per)', 'Lopez Ramos P. (Esp)', 0, 'Espinoza M. (Per)', 'Ordonez E. (Per)', 'Quiroz J. C. (Per)', 'Alarcon J. (Per)', 'Perez R. B. (Per)', 'Espinoza M. (Per)', 'Ortega K. (Per)', 'Ordonez E. (Per)', 'Espinoza J. (Per)', 'Huamani J. (Per)', 'Blas A. (Per)', 'Lopez P. (Per)', 0, 0, 'Garay Evia L. (Per)', 'Lozano S. (Per)', 'Huaman D. (Per)', 'Vasquez B. (Per)', 'Legario F. (Per)', 'Villegas H. (Per)', 'Garay L. (Per)', 'Ureta D. (Per)', 'Espinoza M. (Per)', 'Cartagena J. (Per)', 'Cori V. (Per)', 'Ordonez E. (Per)', 'Estadio Inca Garcilaso de la Vega (Cusco)', 0, 'Alarcon J. (Per)', 'Ciriaco L. (Per)', 'Lozano C. (Arg)', 'Alarcon J. (Per)', 'Perez R. B. (Per)', 'Villegas H. (Per)', 'Seminario L. (Per)', 'Ordonez E. (Per)', 'Cartagena J. (Per)', 'Chambi J. (Per)', 'Perez R. B. (Per)', 'Espinoza M. (Per)', 'Segura R. (Per)', 0, 'Ureta D. (Per)', 'Garay L. (Per)', 'Quiroz J. (Per)', 'Estadio Inca Garcilaso de la Vega (Cusco)', 'Estadio Iván Elías Moreno (Lima)', 'Zamora J. (Per)', 'Lopez Ramos P. (Esp)', 'Garay L. (Per)', 'Perez R. B. (Per)', 'Ordonez E. (Per)', 'Espinoza M. (Per)', 'Zamora J. (Per)', 0, 0, 'Estadio San Martin de Porres (Lima)', 'Alarcon J. (Per)', 'Perez R. B. (Per)', 'Villanueva A. (Per)', 'Villegas H. (Per)', 'Lopez P. (Per)', 'Ortega K. (Per)', 'Zamora J. (Per)', 'Vasquez B. (Per)', 'Garay L. (Per)', 'Lopez R. (Per)', 0, 0, 0, 'Alarcon J. (Per)', 'Ortega K. (Per)', 'Ureta D. (Per)', 'Seminario L. (Per)', 'Lozano Segado J. (Esp)', 'Barbagelatta G. (Per)', 'Perez R. B. (Per)', 'Legario F. (Per)', 'Ortega K. (Per)', 'Alarcon J. (Per)', 'Seminario L. (Per)', 'Lopez P. (Per)', 'Estadio Monumental (Lima)', 0, 'Legario F. (Per)', 'Barbagelatta G. (Per)', 'Cartagena J. (Per)', 'Villegas H. (Per)', 'Huaman D. (Per)', 'Seminario L. (Per)', 'Alarcon J. (Per)', 'Espinoza M. (Per)', 'Menendez A. (Per)', 'Espinoza M. (Per)', 'Garay Evia L. (Per)', 'Ureta D. (Per)', 0, 0, 'Espinoza J. (Per)', 'Seminario L. (Per)', 'Villegas H. (Per)', 'Ortega K. (Arg)', 'Menendez A. (Per)', 'Ortega K. (Per)', 'Cartagena J. (Per)', 'Garay L. (Per)', 'Perez R. B. (Per)', 'Ordonez E. (Per)', 'Estadio Miguel Grau (Piura)', 'Legario F. (Per)', 'Alarcon J. (Per)', 0, 'Alarcon J. (Per)', 'Estadio Miguel Grau (Callao)', 'Villegas H. (Per)', 'Cartagena J. (Per)', 'Perez R. B. (Per)', 'Ortega K. (Per)', 'Ordonez E. (Per)', 'Espinoza M. (Per)', 'Estadio Monumental (Lima)', 'Alarcon J. (Per)', 'Espinoza J. (Per)', 'Garay Evia L. (Per)', 0, 0, 'Huaman D. (Per)', 'Perez R. B. (Per)', 'Seminario L. (Per)', 'Mendoza J. (Per)', 'Alarcon J. (Per)', 'Ordonez E. (Per)', 'Espinoza J. (Per)', 'Menendez A. (Per)', 'Cartagena J. (Per)', 'Perez R. B. (Per)', 'Lopez R. (Per)', 'Garay L. (Per)', 0, 0, 'Alarcon J. (Per)', 'Zamora J. (Per)', 'Espinoza J. (Per)', 'Seminario L. (Per)', 'Ordonez E. (Per)', 'Lopez P. (Per)', 'Espinoza M. (Per)', 'Alarcon J. (Per)', 'Barbagelatta G. (Per)', 'Estadio Alejandro Villanueva (Lima)', 0, 0, 0, 0, 'Palomino M. (Per)', 'Legario F. (Per)', 'Espinoza J. (Per)', 'Estadio Huancayo (Huancayo)', 'Espinoza M. (Per)', 'Huaman D. (Per)', 'Perez R. B. (Per)', 'Legario F. (Per)', 'Garay L. (Per)', 'Ordonez E. (Per)', 'Cartagena J. (Per)', 'Espinoza M. (Per)', 0, 0, 'Perez R. B. (Per)', 'Lopez R. (Per)', 'Ordonez E. (Per)', 'Espinoza J. (Per)', 'Huaman D. (Per)', 'Legario F. (Per)', 'Barbagelatta G. (Per)', 'Perez R. B. (Per)', 'Alarcon J. (Per)', 'Espinoza M. (Per)', 'Legario F. (Per)', 'Cartagena J. (Per)', 'Espinoza J. (Per)', 0, 0, 0, 0, 0, 0, 0, 0, 0, 0]\n",
      "\n"
     ]
    },
    {
     "name": "stderr",
     "output_type": "stream",
     "text": [
      "[WDM] - ====== WebDriver manager ======\n",
      "[WDM] - Current google-chrome version is 104.0.5112\n",
      "[WDM] - Get LATEST chromedriver version for 104.0.5112 google-chrome\n",
      "[WDM] - Current google-chrome version is 104.0.5112\n",
      "[WDM] - Get LATEST chromedriver version for 104.0.5112 google-chrome\n",
      "[WDM] - Current google-chrome version is 104.0.5112\n",
      "[WDM] - Get LATEST chromedriver version for 104.0.5112 google-chrome\n",
      "[WDM] - Driver [C:\\Users\\PC-1\\.wdm\\drivers\\chromedriver\\win32\\104.0.5112.79\\chromedriver.exe] found in cache\n",
      "[WDM] - Driver [C:\\Users\\PC-1\\.wdm\\drivers\\chromedriver\\win32\\104.0.5112.79\\chromedriver.exe] found in cache\n",
      "[WDM] - Driver [C:\\Users\\PC-1\\.wdm\\drivers\\chromedriver\\win32\\104.0.5112.79\\chromedriver.exe] found in cache\n"
     ]
    },
    {
     "name": "stdout",
     "output_type": "stream",
     "text": [
      "Termino 94\n",
      "['Perez R. B. (Per)', 'Quiroz J. C. (Per)', 'Villegas H. (Per)', 'Lozano S. (Per)', 'Ortega K. (Per)', 'Menendez A. (Per)', 'Espinoza J. (Per)', 'Vasquez B. (Per)', 'Huamani J. (Per)', 'Lopez Ramos P. (Esp)', 'Garay L. (Per)', 'Ureta D. (Per)', 'Zamora J. (Per)', 0, 'Cartagena J. (Per)', 'Villegas H. (Per)', 'Cori V. (Per)', 'Villanueva A. (Per)', 'Legario F. (Per)', 'Blas W. (Per)', 'Seminario L. (Per)', 'Perez R. B. (Per)', 'Ureta D. (Per)', 'Lozano S. (Per)', 'Ortega K. (Per)', 'Garay L. (Per)', 'Lopez Ramos P. (Esp)', 0, 'Espinoza M. (Per)', 'Ordonez E. (Per)', 'Quiroz J. C. (Per)', 'Alarcon J. (Per)', 'Perez R. B. (Per)', 'Espinoza M. (Per)', 'Ortega K. (Per)', 'Ordonez E. (Per)', 'Espinoza J. (Per)', 'Huamani J. (Per)', 'Blas A. (Per)', 'Lopez P. (Per)', 'Seminario L. (Per)', 0, 'Garay Evia L. (Per)', 'Lozano S. (Per)', 'Huaman D. (Per)', 'Vasquez B. (Per)', 'Legario F. (Per)', 'Villegas H. (Per)', 'Garay L. (Per)', 'Ureta D. (Per)', 'Espinoza M. (Per)', 'Cartagena J. (Per)', 'Cori V. (Per)', 'Ordonez E. (Per)', 'Estadio Inca Garcilaso de la Vega (Cusco)', 0, 'Alarcon J. (Per)', 'Ciriaco L. (Per)', 'Lozano C. (Arg)', 'Alarcon J. (Per)', 'Perez R. B. (Per)', 'Villegas H. (Per)', 'Seminario L. (Per)', 'Ordonez E. (Per)', 'Cartagena J. (Per)', 'Chambi J. (Per)', 'Perez R. B. (Per)', 'Espinoza M. (Per)', 'Segura R. (Per)', 0, 'Ureta D. (Per)', 'Garay L. (Per)', 'Quiroz J. (Per)', 'Estadio Inca Garcilaso de la Vega (Cusco)', 'Estadio Iván Elías Moreno (Lima)', 'Zamora J. (Per)', 'Lopez Ramos P. (Esp)', 'Garay L. (Per)', 'Perez R. B. (Per)', 'Ordonez E. (Per)', 'Espinoza M. (Per)', 'Zamora J. (Per)', 0, 0, 'Estadio San Martin de Porres (Lima)', 'Alarcon J. (Per)', 'Perez R. B. (Per)', 'Villanueva A. (Per)', 'Villegas H. (Per)', 'Lopez P. (Per)', 'Ortega K. (Per)', 'Zamora J. (Per)', 'Vasquez B. (Per)', 'Garay L. (Per)', 'Lopez R. (Per)', 0, 0, 0, 'Alarcon J. (Per)', 'Ortega K. (Per)', 'Ureta D. (Per)', 'Seminario L. (Per)', 'Lozano Segado J. (Esp)', 'Barbagelatta G. (Per)', 'Perez R. B. (Per)', 'Legario F. (Per)', 'Ortega K. (Per)', 'Alarcon J. (Per)', 'Seminario L. (Per)', 'Lopez P. (Per)', 'Estadio Monumental (Lima)', 0, 'Legario F. (Per)', 'Barbagelatta G. (Per)', 'Cartagena J. (Per)', 'Villegas H. (Per)', 'Huaman D. (Per)', 'Seminario L. (Per)', 'Alarcon J. (Per)', 'Espinoza M. (Per)', 'Menendez A. (Per)', 'Espinoza M. (Per)', 'Garay Evia L. (Per)', 'Ureta D. (Per)', 0, 0, 'Espinoza J. (Per)', 'Seminario L. (Per)', 'Villegas H. (Per)', 'Ortega K. (Arg)', 'Menendez A. (Per)', 'Ortega K. (Per)', 'Cartagena J. (Per)', 'Garay L. (Per)', 'Perez R. B. (Per)', 'Ordonez E. (Per)', 'Estadio Miguel Grau (Piura)', 'Legario F. (Per)', 'Alarcon J. (Per)', 0, 'Alarcon J. (Per)', 'Estadio Miguel Grau (Callao)', 'Villegas H. (Per)', 'Cartagena J. (Per)', 'Perez R. B. (Per)', 'Ortega K. (Per)', 'Ordonez E. (Per)', 'Espinoza M. (Per)', 'Estadio Monumental (Lima)', 'Alarcon J. (Per)', 'Espinoza J. (Per)', 'Garay Evia L. (Per)', 'Ordonez E. (Per)', 0, 'Huaman D. (Per)', 'Perez R. B. (Per)', 'Seminario L. (Per)', 'Mendoza J. (Per)', 'Alarcon J. (Per)', 'Ordonez E. (Per)', 'Espinoza J. (Per)', 'Menendez A. (Per)', 'Cartagena J. (Per)', 'Perez R. B. (Per)', 'Lopez R. (Per)', 'Garay L. (Per)', 0, 0, 'Alarcon J. (Per)', 'Zamora J. (Per)', 'Espinoza J. (Per)', 'Seminario L. (Per)', 'Ordonez E. (Per)', 'Lopez P. (Per)', 'Espinoza M. (Per)', 'Alarcon J. (Per)', 'Barbagelatta G. (Per)', 'Estadio Alejandro Villanueva (Lima)', 0, 0, 0, 0, 'Palomino M. (Per)', 'Legario F. (Per)', 'Espinoza J. (Per)', 'Estadio Huancayo (Huancayo)', 'Espinoza M. (Per)', 'Huaman D. (Per)', 'Perez R. B. (Per)', 'Legario F. (Per)', 'Garay L. (Per)', 'Ordonez E. (Per)', 'Cartagena J. (Per)', 'Espinoza M. (Per)', 0, 0, 'Perez R. B. (Per)', 'Lopez R. (Per)', 'Ordonez E. (Per)', 'Espinoza J. (Per)', 'Huaman D. (Per)', 'Legario F. (Per)', 'Barbagelatta G. (Per)', 'Perez R. B. (Per)', 'Alarcon J. (Per)', 'Espinoza M. (Per)', 'Legario F. (Per)', 'Cartagena J. (Per)', 'Espinoza J. (Per)', 0, 0, 0, 0, 0, 0, 0, 0, 0, 0]\n",
      "\n"
     ]
    },
    {
     "name": "stderr",
     "output_type": "stream",
     "text": [
      "[WDM] - ====== WebDriver manager ======\n",
      "[WDM] - Current google-chrome version is 104.0.5112\n",
      "[WDM] - Get LATEST chromedriver version for 104.0.5112 google-chrome\n"
     ]
    },
    {
     "name": "stdout",
     "output_type": "stream",
     "text": [
      "Termino 81\n",
      "['Perez R. B. (Per)', 'Quiroz J. C. (Per)', 'Villegas H. (Per)', 'Lozano S. (Per)', 'Ortega K. (Per)', 'Menendez A. (Per)', 'Espinoza J. (Per)', 'Vasquez B. (Per)', 'Huamani J. (Per)', 'Lopez Ramos P. (Esp)', 'Garay L. (Per)', 'Ureta D. (Per)', 'Zamora J. (Per)', 0, 'Cartagena J. (Per)', 'Villegas H. (Per)', 'Cori V. (Per)', 'Villanueva A. (Per)', 'Legario F. (Per)', 'Blas W. (Per)', 'Seminario L. (Per)', 'Perez R. B. (Per)', 'Ureta D. (Per)', 'Lozano S. (Per)', 'Ortega K. (Per)', 'Garay L. (Per)', 'Lopez Ramos P. (Esp)', 0, 'Espinoza M. (Per)', 'Ordonez E. (Per)', 'Quiroz J. C. (Per)', 'Alarcon J. (Per)', 'Perez R. B. (Per)', 'Espinoza M. (Per)', 'Ortega K. (Per)', 'Ordonez E. (Per)', 'Espinoza J. (Per)', 'Huamani J. (Per)', 'Blas A. (Per)', 'Lopez P. (Per)', 'Seminario L. (Per)', 0, 'Garay Evia L. (Per)', 'Lozano S. (Per)', 'Huaman D. (Per)', 'Vasquez B. (Per)', 'Legario F. (Per)', 'Villegas H. (Per)', 'Garay L. (Per)', 'Ureta D. (Per)', 'Espinoza M. (Per)', 'Cartagena J. (Per)', 'Cori V. (Per)', 'Ordonez E. (Per)', 'Estadio Inca Garcilaso de la Vega (Cusco)', 0, 'Alarcon J. (Per)', 'Ciriaco L. (Per)', 'Lozano C. (Arg)', 'Alarcon J. (Per)', 'Perez R. B. (Per)', 'Villegas H. (Per)', 'Seminario L. (Per)', 'Ordonez E. (Per)', 'Cartagena J. (Per)', 'Chambi J. (Per)', 'Perez R. B. (Per)', 'Espinoza M. (Per)', 'Segura R. (Per)', 0, 'Ureta D. (Per)', 'Garay L. (Per)', 'Quiroz J. (Per)', 'Estadio Inca Garcilaso de la Vega (Cusco)', 'Estadio Iván Elías Moreno (Lima)', 'Zamora J. (Per)', 'Lopez Ramos P. (Esp)', 'Garay L. (Per)', 'Perez R. B. (Per)', 'Ordonez E. (Per)', 'Espinoza M. (Per)', 'Zamora J. (Per)', 0, 0, 'Estadio San Martin de Porres (Lima)', 'Alarcon J. (Per)', 'Perez R. B. (Per)', 'Villanueva A. (Per)', 'Villegas H. (Per)', 'Lopez P. (Per)', 'Ortega K. (Per)', 'Zamora J. (Per)', 'Vasquez B. (Per)', 'Garay L. (Per)', 'Lopez R. (Per)', 0, 0, 0, 'Alarcon J. (Per)', 'Ortega K. (Per)', 'Ureta D. (Per)', 'Seminario L. (Per)', 'Lozano Segado J. (Esp)', 'Barbagelatta G. (Per)', 'Perez R. B. (Per)', 'Legario F. (Per)', 'Ortega K. (Per)', 'Alarcon J. (Per)', 'Seminario L. (Per)', 'Lopez P. (Per)', 'Estadio Monumental (Lima)', 0, 'Legario F. (Per)', 'Barbagelatta G. (Per)', 'Cartagena J. (Per)', 'Villegas H. (Per)', 'Huaman D. (Per)', 'Seminario L. (Per)', 'Alarcon J. (Per)', 'Espinoza M. (Per)', 'Menendez A. (Per)', 'Espinoza M. (Per)', 'Garay Evia L. (Per)', 'Ureta D. (Per)', 0, 0, 'Espinoza J. (Per)', 'Seminario L. (Per)', 'Villegas H. (Per)', 'Ortega K. (Arg)', 'Menendez A. (Per)', 'Ortega K. (Per)', 'Cartagena J. (Per)', 'Garay L. (Per)', 'Perez R. B. (Per)', 'Ordonez E. (Per)', 'Estadio Miguel Grau (Piura)', 'Legario F. (Per)', 'Alarcon J. (Per)', 0, 'Alarcon J. (Per)', 'Estadio Miguel Grau (Callao)', 'Villegas H. (Per)', 'Cartagena J. (Per)', 'Perez R. B. (Per)', 'Ortega K. (Per)', 'Ordonez E. (Per)', 'Espinoza M. (Per)', 'Estadio Monumental (Lima)', 'Alarcon J. (Per)', 'Espinoza J. (Per)', 'Garay Evia L. (Per)', 'Ordonez E. (Per)', 0, 'Huaman D. (Per)', 'Perez R. B. (Per)', 'Seminario L. (Per)', 'Mendoza J. (Per)', 'Alarcon J. (Per)', 'Ordonez E. (Per)', 'Espinoza J. (Per)', 'Menendez A. (Per)', 'Cartagena J. (Per)', 'Perez R. B. (Per)', 'Lopez R. (Per)', 'Garay L. (Per)', 'Garay Evia L. (Per)', 0, 'Alarcon J. (Per)', 'Zamora J. (Per)', 'Espinoza J. (Per)', 'Seminario L. (Per)', 'Ordonez E. (Per)', 'Lopez P. (Per)', 'Espinoza M. (Per)', 'Alarcon J. (Per)', 'Barbagelatta G. (Per)', 'Estadio Alejandro Villanueva (Lima)', 0, 0, 0, 0, 'Palomino M. (Per)', 'Legario F. (Per)', 'Espinoza J. (Per)', 'Estadio Huancayo (Huancayo)', 'Espinoza M. (Per)', 'Huaman D. (Per)', 'Perez R. B. (Per)', 'Legario F. (Per)', 'Garay L. (Per)', 'Ordonez E. (Per)', 'Cartagena J. (Per)', 'Espinoza M. (Per)', 0, 0, 'Perez R. B. (Per)', 'Lopez R. (Per)', 'Ordonez E. (Per)', 'Espinoza J. (Per)', 'Huaman D. (Per)', 'Legario F. (Per)', 'Barbagelatta G. (Per)', 'Perez R. B. (Per)', 'Alarcon J. (Per)', 'Espinoza M. (Per)', 'Legario F. (Per)', 'Cartagena J. (Per)', 'Espinoza J. (Per)', 0, 0, 0, 0, 0, 0, 0, 0, 0, 0]\n",
      "\n"
     ]
    },
    {
     "name": "stderr",
     "output_type": "stream",
     "text": [
      "[WDM] - ====== WebDriver manager ======\n",
      "[WDM] - Driver [C:\\Users\\PC-1\\.wdm\\drivers\\chromedriver\\win32\\104.0.5112.79\\chromedriver.exe] found in cache\n"
     ]
    },
    {
     "name": "stdout",
     "output_type": "stream",
     "text": [
      "Termino 40\n",
      "['Perez R. B. (Per)', 'Quiroz J. C. (Per)', 'Villegas H. (Per)', 'Lozano S. (Per)', 'Ortega K. (Per)', 'Menendez A. (Per)', 'Espinoza J. (Per)', 'Vasquez B. (Per)', 'Huamani J. (Per)', 'Lopez Ramos P. (Esp)', 'Garay L. (Per)', 'Ureta D. (Per)', 'Zamora J. (Per)', 0, 'Cartagena J. (Per)', 'Villegas H. (Per)', 'Cori V. (Per)', 'Villanueva A. (Per)', 'Legario F. (Per)', 'Blas W. (Per)', 'Seminario L. (Per)', 'Perez R. B. (Per)', 'Ureta D. (Per)', 'Lozano S. (Per)', 'Ortega K. (Per)', 'Garay L. (Per)', 'Lopez Ramos P. (Esp)', 0, 'Espinoza M. (Per)', 'Ordonez E. (Per)', 'Quiroz J. C. (Per)', 'Alarcon J. (Per)', 'Perez R. B. (Per)', 'Espinoza M. (Per)', 'Ortega K. (Per)', 'Ordonez E. (Per)', 'Espinoza J. (Per)', 'Huamani J. (Per)', 'Blas A. (Per)', 'Lopez P. (Per)', 'Seminario L. (Per)', 0, 'Garay Evia L. (Per)', 'Lozano S. (Per)', 'Huaman D. (Per)', 'Vasquez B. (Per)', 'Legario F. (Per)', 'Villegas H. (Per)', 'Garay L. (Per)', 'Ureta D. (Per)', 'Espinoza M. (Per)', 'Cartagena J. (Per)', 'Cori V. (Per)', 'Ordonez E. (Per)', 'Estadio Inca Garcilaso de la Vega (Cusco)', 0, 'Alarcon J. (Per)', 'Ciriaco L. (Per)', 'Lozano C. (Arg)', 'Alarcon J. (Per)', 'Perez R. B. (Per)', 'Villegas H. (Per)', 'Seminario L. (Per)', 'Ordonez E. (Per)', 'Cartagena J. (Per)', 'Chambi J. (Per)', 'Perez R. B. (Per)', 'Espinoza M. (Per)', 'Segura R. (Per)', 0, 'Ureta D. (Per)', 'Garay L. (Per)', 'Quiroz J. (Per)', 'Estadio Inca Garcilaso de la Vega (Cusco)', 'Estadio Iván Elías Moreno (Lima)', 'Zamora J. (Per)', 'Lopez Ramos P. (Esp)', 'Garay L. (Per)', 'Perez R. B. (Per)', 'Ordonez E. (Per)', 'Espinoza M. (Per)', 'Zamora J. (Per)', 0, 0, 'Estadio San Martin de Porres (Lima)', 'Alarcon J. (Per)', 'Perez R. B. (Per)', 'Villanueva A. (Per)', 'Villegas H. (Per)', 'Lopez P. (Per)', 'Ortega K. (Per)', 'Zamora J. (Per)', 'Vasquez B. (Per)', 'Garay L. (Per)', 'Lopez R. (Per)', 0, 0, 0, 'Alarcon J. (Per)', 'Ortega K. (Per)', 'Ureta D. (Per)', 'Seminario L. (Per)', 'Lozano Segado J. (Esp)', 'Barbagelatta G. (Per)', 'Perez R. B. (Per)', 'Legario F. (Per)', 'Ortega K. (Per)', 'Alarcon J. (Per)', 'Seminario L. (Per)', 'Lopez P. (Per)', 'Estadio Monumental (Lima)', 0, 'Legario F. (Per)', 'Barbagelatta G. (Per)', 'Cartagena J. (Per)', 'Villegas H. (Per)', 'Huaman D. (Per)', 'Seminario L. (Per)', 'Alarcon J. (Per)', 'Espinoza M. (Per)', 'Menendez A. (Per)', 'Espinoza M. (Per)', 'Garay Evia L. (Per)', 'Ureta D. (Per)', 0, 0, 'Espinoza J. (Per)', 'Seminario L. (Per)', 'Villegas H. (Per)', 'Ortega K. (Arg)', 'Menendez A. (Per)', 'Ortega K. (Per)', 'Cartagena J. (Per)', 'Garay L. (Per)', 'Perez R. B. (Per)', 'Ordonez E. (Per)', 'Estadio Miguel Grau (Piura)', 'Legario F. (Per)', 'Alarcon J. (Per)', 0, 'Alarcon J. (Per)', 'Estadio Miguel Grau (Callao)', 'Villegas H. (Per)', 'Cartagena J. (Per)', 'Perez R. B. (Per)', 'Ortega K. (Per)', 'Ordonez E. (Per)', 'Espinoza M. (Per)', 'Estadio Monumental (Lima)', 'Alarcon J. (Per)', 'Espinoza J. (Per)', 'Garay Evia L. (Per)', 'Ordonez E. (Per)', 0, 'Huaman D. (Per)', 'Perez R. B. (Per)', 'Seminario L. (Per)', 'Mendoza J. (Per)', 'Alarcon J. (Per)', 'Ordonez E. (Per)', 'Espinoza J. (Per)', 'Menendez A. (Per)', 'Cartagena J. (Per)', 'Perez R. B. (Per)', 'Lopez R. (Per)', 'Garay L. (Per)', 'Garay Evia L. (Per)', 0, 'Alarcon J. (Per)', 'Zamora J. (Per)', 'Espinoza J. (Per)', 'Seminario L. (Per)', 'Ordonez E. (Per)', 'Lopez P. (Per)', 'Espinoza M. (Per)', 'Alarcon J. (Per)', 'Barbagelatta G. (Per)', 'Estadio Alejandro Villanueva (Lima)', 0, 0, 0, 0, 'Palomino M. (Per)', 'Legario F. (Per)', 'Espinoza J. (Per)', 'Estadio Huancayo (Huancayo)', 'Espinoza M. (Per)', 'Huaman D. (Per)', 'Perez R. B. (Per)', 'Legario F. (Per)', 'Garay L. (Per)', 'Ordonez E. (Per)', 'Cartagena J. (Per)', 'Espinoza M. (Per)', 0, 0, 'Perez R. B. (Per)', 'Lopez R. (Per)', 'Ordonez E. (Per)', 'Espinoza J. (Per)', 'Huaman D. (Per)', 'Legario F. (Per)', 'Barbagelatta G. (Per)', 'Perez R. B. (Per)', 'Alarcon J. (Per)', 'Espinoza M. (Per)', 'Legario F. (Per)', 'Cartagena J. (Per)', 'Espinoza J. (Per)', 0, 0, 0, 0, 0, 0, 0, 0, 0, 0]\n",
      "\n"
     ]
    },
    {
     "name": "stderr",
     "output_type": "stream",
     "text": [
      "[WDM] - ====== WebDriver manager ======\n"
     ]
    },
    {
     "name": "stdout",
     "output_type": "stream",
     "text": [
      "Termino 152\n",
      "['Perez R. B. (Per)', 'Quiroz J. C. (Per)', 'Villegas H. (Per)', 'Lozano S. (Per)', 'Ortega K. (Per)', 'Menendez A. (Per)', 'Espinoza J. (Per)', 'Vasquez B. (Per)', 'Huamani J. (Per)', 'Lopez Ramos P. (Esp)', 'Garay L. (Per)', 'Ureta D. (Per)', 'Zamora J. (Per)', 0, 'Cartagena J. (Per)', 'Villegas H. (Per)', 'Cori V. (Per)', 'Villanueva A. (Per)', 'Legario F. (Per)', 'Blas W. (Per)', 'Seminario L. (Per)', 'Perez R. B. (Per)', 'Ureta D. (Per)', 'Lozano S. (Per)', 'Ortega K. (Per)', 'Garay L. (Per)', 'Lopez Ramos P. (Esp)', 0, 'Espinoza M. (Per)', 'Ordonez E. (Per)', 'Quiroz J. C. (Per)', 'Alarcon J. (Per)', 'Perez R. B. (Per)', 'Espinoza M. (Per)', 'Ortega K. (Per)', 'Ordonez E. (Per)', 'Espinoza J. (Per)', 'Huamani J. (Per)', 'Blas A. (Per)', 'Lopez P. (Per)', 'Seminario L. (Per)', 0, 'Garay Evia L. (Per)', 'Lozano S. (Per)', 'Huaman D. (Per)', 'Vasquez B. (Per)', 'Legario F. (Per)', 'Villegas H. (Per)', 'Garay L. (Per)', 'Ureta D. (Per)', 'Espinoza M. (Per)', 'Cartagena J. (Per)', 'Cori V. (Per)', 'Ordonez E. (Per)', 'Estadio Inca Garcilaso de la Vega (Cusco)', 0, 'Alarcon J. (Per)', 'Ciriaco L. (Per)', 'Lozano C. (Arg)', 'Alarcon J. (Per)', 'Perez R. B. (Per)', 'Villegas H. (Per)', 'Seminario L. (Per)', 'Ordonez E. (Per)', 'Cartagena J. (Per)', 'Chambi J. (Per)', 'Perez R. B. (Per)', 'Espinoza M. (Per)', 'Segura R. (Per)', 0, 'Ureta D. (Per)', 'Garay L. (Per)', 'Quiroz J. (Per)', 'Estadio Inca Garcilaso de la Vega (Cusco)', 'Estadio Iván Elías Moreno (Lima)', 'Zamora J. (Per)', 'Lopez Ramos P. (Esp)', 'Garay L. (Per)', 'Perez R. B. (Per)', 'Ordonez E. (Per)', 'Espinoza M. (Per)', 'Zamora J. (Per)', 0, 0, 'Estadio San Martin de Porres (Lima)', 'Alarcon J. (Per)', 'Perez R. B. (Per)', 'Villanueva A. (Per)', 'Villegas H. (Per)', 'Lopez P. (Per)', 'Ortega K. (Per)', 'Zamora J. (Per)', 'Vasquez B. (Per)', 'Garay L. (Per)', 'Lopez R. (Per)', 0, 0, 0, 'Alarcon J. (Per)', 'Ortega K. (Per)', 'Ureta D. (Per)', 'Seminario L. (Per)', 'Lozano Segado J. (Esp)', 'Barbagelatta G. (Per)', 'Perez R. B. (Per)', 'Legario F. (Per)', 'Ortega K. (Per)', 'Alarcon J. (Per)', 'Seminario L. (Per)', 'Lopez P. (Per)', 'Estadio Monumental (Lima)', 0, 'Legario F. (Per)', 'Barbagelatta G. (Per)', 'Cartagena J. (Per)', 'Villegas H. (Per)', 'Huaman D. (Per)', 'Seminario L. (Per)', 'Alarcon J. (Per)', 'Espinoza M. (Per)', 'Menendez A. (Per)', 'Espinoza M. (Per)', 'Garay Evia L. (Per)', 'Ureta D. (Per)', 'Ciriaco L. (Per)', 0, 'Espinoza J. (Per)', 'Seminario L. (Per)', 'Villegas H. (Per)', 'Ortega K. (Arg)', 'Menendez A. (Per)', 'Ortega K. (Per)', 'Cartagena J. (Per)', 'Garay L. (Per)', 'Perez R. B. (Per)', 'Ordonez E. (Per)', 'Estadio Miguel Grau (Piura)', 'Legario F. (Per)', 'Alarcon J. (Per)', 0, 'Alarcon J. (Per)', 'Estadio Miguel Grau (Callao)', 'Villegas H. (Per)', 'Cartagena J. (Per)', 'Perez R. B. (Per)', 'Ortega K. (Per)', 'Ordonez E. (Per)', 'Espinoza M. (Per)', 'Estadio Monumental (Lima)', 'Alarcon J. (Per)', 'Espinoza J. (Per)', 'Garay Evia L. (Per)', 'Ordonez E. (Per)', 0, 'Huaman D. (Per)', 'Perez R. B. (Per)', 'Seminario L. (Per)', 'Mendoza J. (Per)', 'Alarcon J. (Per)', 'Ordonez E. (Per)', 'Espinoza J. (Per)', 'Menendez A. (Per)', 'Cartagena J. (Per)', 'Perez R. B. (Per)', 'Lopez R. (Per)', 'Garay L. (Per)', 'Garay Evia L. (Per)', 0, 'Alarcon J. (Per)', 'Zamora J. (Per)', 'Espinoza J. (Per)', 'Seminario L. (Per)', 'Ordonez E. (Per)', 'Lopez P. (Per)', 'Espinoza M. (Per)', 'Alarcon J. (Per)', 'Barbagelatta G. (Per)', 'Estadio Alejandro Villanueva (Lima)', 0, 0, 0, 0, 'Palomino M. (Per)', 'Legario F. (Per)', 'Espinoza J. (Per)', 'Estadio Huancayo (Huancayo)', 'Espinoza M. (Per)', 'Huaman D. (Per)', 'Perez R. B. (Per)', 'Legario F. (Per)', 'Garay L. (Per)', 'Ordonez E. (Per)', 'Cartagena J. (Per)', 'Espinoza M. (Per)', 0, 0, 'Perez R. B. (Per)', 'Lopez R. (Per)', 'Ordonez E. (Per)', 'Espinoza J. (Per)', 'Huaman D. (Per)', 'Legario F. (Per)', 'Barbagelatta G. (Per)', 'Perez R. B. (Per)', 'Alarcon J. (Per)', 'Espinoza M. (Per)', 'Legario F. (Per)', 'Cartagena J. (Per)', 'Espinoza J. (Per)', 0, 0, 0, 0, 0, 0, 0, 0, 0, 0]\n",
      "\n"
     ]
    },
    {
     "name": "stderr",
     "output_type": "stream",
     "text": [
      "[WDM] - ====== WebDriver manager ======\n",
      "[WDM] - Current google-chrome version is 104.0.5112\n",
      "[WDM] - Get LATEST chromedriver version for 104.0.5112 google-chrome\n",
      "[WDM] - Driver [C:\\Users\\PC-1\\.wdm\\drivers\\chromedriver\\win32\\104.0.5112.79\\chromedriver.exe] found in cache\n",
      "[WDM] - Current google-chrome version is 104.0.5112\n",
      "[WDM] - Get LATEST chromedriver version for 104.0.5112 google-chrome\n",
      "[WDM] - Driver [C:\\Users\\PC-1\\.wdm\\drivers\\chromedriver\\win32\\104.0.5112.79\\chromedriver.exe] found in cache\n"
     ]
    },
    {
     "name": "stdout",
     "output_type": "stream",
     "text": [
      "Termino 166\n",
      "['Perez R. B. (Per)', 'Quiroz J. C. (Per)', 'Villegas H. (Per)', 'Lozano S. (Per)', 'Ortega K. (Per)', 'Menendez A. (Per)', 'Espinoza J. (Per)', 'Vasquez B. (Per)', 'Huamani J. (Per)', 'Lopez Ramos P. (Esp)', 'Garay L. (Per)', 'Ureta D. (Per)', 'Zamora J. (Per)', 0, 'Cartagena J. (Per)', 'Villegas H. (Per)', 'Cori V. (Per)', 'Villanueva A. (Per)', 'Legario F. (Per)', 'Blas W. (Per)', 'Seminario L. (Per)', 'Perez R. B. (Per)', 'Ureta D. (Per)', 'Lozano S. (Per)', 'Ortega K. (Per)', 'Garay L. (Per)', 'Lopez Ramos P. (Esp)', 0, 'Espinoza M. (Per)', 'Ordonez E. (Per)', 'Quiroz J. C. (Per)', 'Alarcon J. (Per)', 'Perez R. B. (Per)', 'Espinoza M. (Per)', 'Ortega K. (Per)', 'Ordonez E. (Per)', 'Espinoza J. (Per)', 'Huamani J. (Per)', 'Blas A. (Per)', 'Lopez P. (Per)', 'Seminario L. (Per)', 0, 'Garay Evia L. (Per)', 'Lozano S. (Per)', 'Huaman D. (Per)', 'Vasquez B. (Per)', 'Legario F. (Per)', 'Villegas H. (Per)', 'Garay L. (Per)', 'Ureta D. (Per)', 'Espinoza M. (Per)', 'Cartagena J. (Per)', 'Cori V. (Per)', 'Ordonez E. (Per)', 'Estadio Inca Garcilaso de la Vega (Cusco)', 0, 'Alarcon J. (Per)', 'Ciriaco L. (Per)', 'Lozano C. (Arg)', 'Alarcon J. (Per)', 'Perez R. B. (Per)', 'Villegas H. (Per)', 'Seminario L. (Per)', 'Ordonez E. (Per)', 'Cartagena J. (Per)', 'Chambi J. (Per)', 'Perez R. B. (Per)', 'Espinoza M. (Per)', 'Segura R. (Per)', 0, 'Ureta D. (Per)', 'Garay L. (Per)', 'Quiroz J. (Per)', 'Estadio Inca Garcilaso de la Vega (Cusco)', 'Estadio Iván Elías Moreno (Lima)', 'Zamora J. (Per)', 'Lopez Ramos P. (Esp)', 'Garay L. (Per)', 'Perez R. B. (Per)', 'Ordonez E. (Per)', 'Espinoza M. (Per)', 'Zamora J. (Per)', 0, 0, 'Estadio San Martin de Porres (Lima)', 'Alarcon J. (Per)', 'Perez R. B. (Per)', 'Villanueva A. (Per)', 'Villegas H. (Per)', 'Lopez P. (Per)', 'Ortega K. (Per)', 'Zamora J. (Per)', 'Vasquez B. (Per)', 'Garay L. (Per)', 'Lopez R. (Per)', 0, 0, 0, 'Alarcon J. (Per)', 'Ortega K. (Per)', 'Ureta D. (Per)', 'Seminario L. (Per)', 'Lozano Segado J. (Esp)', 'Barbagelatta G. (Per)', 'Perez R. B. (Per)', 'Legario F. (Per)', 'Ortega K. (Per)', 'Alarcon J. (Per)', 'Seminario L. (Per)', 'Lopez P. (Per)', 'Estadio Monumental (Lima)', 0, 'Legario F. (Per)', 'Barbagelatta G. (Per)', 'Cartagena J. (Per)', 'Villegas H. (Per)', 'Huaman D. (Per)', 'Seminario L. (Per)', 'Alarcon J. (Per)', 'Espinoza M. (Per)', 'Menendez A. (Per)', 'Espinoza M. (Per)', 'Garay Evia L. (Per)', 'Ureta D. (Per)', 'Ciriaco L. (Per)', 0, 'Espinoza J. (Per)', 'Seminario L. (Per)', 'Villegas H. (Per)', 'Ortega K. (Arg)', 'Menendez A. (Per)', 'Ortega K. (Per)', 'Cartagena J. (Per)', 'Garay L. (Per)', 'Perez R. B. (Per)', 'Ordonez E. (Per)', 'Estadio Miguel Grau (Piura)', 'Legario F. (Per)', 'Alarcon J. (Per)', 0, 'Alarcon J. (Per)', 'Estadio Miguel Grau (Callao)', 'Villegas H. (Per)', 'Cartagena J. (Per)', 'Perez R. B. (Per)', 'Ortega K. (Per)', 'Ordonez E. (Per)', 'Espinoza M. (Per)', 'Estadio Monumental (Lima)', 'Alarcon J. (Per)', 'Espinoza J. (Per)', 'Garay Evia L. (Per)', 'Ordonez E. (Per)', 0, 'Huaman D. (Per)', 'Perez R. B. (Per)', 'Seminario L. (Per)', 'Mendoza J. (Per)', 'Alarcon J. (Per)', 'Ordonez E. (Per)', 'Espinoza J. (Per)', 'Menendez A. (Per)', 'Cartagena J. (Per)', 'Perez R. B. (Per)', 'Lopez R. (Per)', 'Garay L. (Per)', 'Garay Evia L. (Per)', 0, 'Alarcon J. (Per)', 'Zamora J. (Per)', 'Espinoza J. (Per)', 'Seminario L. (Per)', 'Ordonez E. (Per)', 'Lopez P. (Per)', 'Espinoza M. (Per)', 'Alarcon J. (Per)', 'Barbagelatta G. (Per)', 'Estadio Alejandro Villanueva (Lima)', 'Ordonez E. (Per)', 0, 0, 0, 'Palomino M. (Per)', 'Legario F. (Per)', 'Espinoza J. (Per)', 'Estadio Huancayo (Huancayo)', 'Espinoza M. (Per)', 'Huaman D. (Per)', 'Perez R. B. (Per)', 'Legario F. (Per)', 'Garay L. (Per)', 'Ordonez E. (Per)', 'Cartagena J. (Per)', 'Espinoza M. (Per)', 0, 0, 'Perez R. B. (Per)', 'Lopez R. (Per)', 'Ordonez E. (Per)', 'Espinoza J. (Per)', 'Huaman D. (Per)', 'Legario F. (Per)', 'Barbagelatta G. (Per)', 'Perez R. B. (Per)', 'Alarcon J. (Per)', 'Espinoza M. (Per)', 'Legario F. (Per)', 'Cartagena J. (Per)', 'Espinoza J. (Per)', 0, 0, 0, 0, 0, 0, 0, 0, 0, 0]\n",
      "\n"
     ]
    },
    {
     "name": "stderr",
     "output_type": "stream",
     "text": [
      "[WDM] - ====== WebDriver manager ======\n",
      "[WDM] - Current google-chrome version is 104.0.5112\n",
      "[WDM] - Get LATEST chromedriver version for 104.0.5112 google-chrome\n",
      "[WDM] - Driver [C:\\Users\\PC-1\\.wdm\\drivers\\chromedriver\\win32\\104.0.5112.79\\chromedriver.exe] found in cache\n"
     ]
    },
    {
     "name": "stdout",
     "output_type": "stream",
     "text": [
      "Termino 124\n",
      "['Perez R. B. (Per)', 'Quiroz J. C. (Per)', 'Villegas H. (Per)', 'Lozano S. (Per)', 'Ortega K. (Per)', 'Menendez A. (Per)', 'Espinoza J. (Per)', 'Vasquez B. (Per)', 'Huamani J. (Per)', 'Lopez Ramos P. (Esp)', 'Garay L. (Per)', 'Ureta D. (Per)', 'Zamora J. (Per)', 'Alarcon J. (Per)', 'Cartagena J. (Per)', 'Villegas H. (Per)', 'Cori V. (Per)', 'Villanueva A. (Per)', 'Legario F. (Per)', 'Blas W. (Per)', 'Seminario L. (Per)', 'Perez R. B. (Per)', 'Ureta D. (Per)', 'Lozano S. (Per)', 'Ortega K. (Per)', 'Garay L. (Per)', 'Lopez Ramos P. (Esp)', 0, 'Espinoza M. (Per)', 'Ordonez E. (Per)', 'Quiroz J. C. (Per)', 'Alarcon J. (Per)', 'Perez R. B. (Per)', 'Espinoza M. (Per)', 'Ortega K. (Per)', 'Ordonez E. (Per)', 'Espinoza J. (Per)', 'Huamani J. (Per)', 'Blas A. (Per)', 'Lopez P. (Per)', 'Seminario L. (Per)', 0, 'Garay Evia L. (Per)', 'Lozano S. (Per)', 'Huaman D. (Per)', 'Vasquez B. (Per)', 'Legario F. (Per)', 'Villegas H. (Per)', 'Garay L. (Per)', 'Ureta D. (Per)', 'Espinoza M. (Per)', 'Cartagena J. (Per)', 'Cori V. (Per)', 'Ordonez E. (Per)', 'Estadio Inca Garcilaso de la Vega (Cusco)', 'Villanueva A. (Per)', 'Alarcon J. (Per)', 'Ciriaco L. (Per)', 'Lozano C. (Arg)', 'Alarcon J. (Per)', 'Perez R. B. (Per)', 'Villegas H. (Per)', 'Seminario L. (Per)', 'Ordonez E. (Per)', 'Cartagena J. (Per)', 'Chambi J. (Per)', 'Perez R. B. (Per)', 'Espinoza M. (Per)', 'Segura R. (Per)', 0, 'Ureta D. (Per)', 'Garay L. (Per)', 'Quiroz J. (Per)', 'Estadio Inca Garcilaso de la Vega (Cusco)', 'Estadio Iván Elías Moreno (Lima)', 'Zamora J. (Per)', 'Lopez Ramos P. (Esp)', 'Garay L. (Per)', 'Perez R. B. (Per)', 'Ordonez E. (Per)', 'Espinoza M. (Per)', 'Zamora J. (Per)', 0, 0, 'Estadio San Martin de Porres (Lima)', 'Alarcon J. (Per)', 'Perez R. B. (Per)', 'Villanueva A. (Per)', 'Villegas H. (Per)', 'Lopez P. (Per)', 'Ortega K. (Per)', 'Zamora J. (Per)', 'Vasquez B. (Per)', 'Garay L. (Per)', 'Lopez R. (Per)', 0, 0, 0, 'Alarcon J. (Per)', 'Ortega K. (Per)', 'Ureta D. (Per)', 'Seminario L. (Per)', 'Lozano Segado J. (Esp)', 'Barbagelatta G. (Per)', 'Perez R. B. (Per)', 'Legario F. (Per)', 'Ortega K. (Per)', 'Alarcon J. (Per)', 'Seminario L. (Per)', 'Lopez P. (Per)', 'Estadio Monumental (Lima)', 0, 'Legario F. (Per)', 'Barbagelatta G. (Per)', 'Cartagena J. (Per)', 'Villegas H. (Per)', 'Huaman D. (Per)', 'Seminario L. (Per)', 'Alarcon J. (Per)', 'Espinoza M. (Per)', 'Menendez A. (Per)', 'Espinoza M. (Per)', 'Garay Evia L. (Per)', 'Ureta D. (Per)', 'Ciriaco L. (Per)', 0, 'Espinoza J. (Per)', 'Seminario L. (Per)', 'Villegas H. (Per)', 'Ortega K. (Arg)', 'Menendez A. (Per)', 'Ortega K. (Per)', 'Cartagena J. (Per)', 'Garay L. (Per)', 'Perez R. B. (Per)', 'Ordonez E. (Per)', 'Estadio Miguel Grau (Piura)', 'Legario F. (Per)', 'Alarcon J. (Per)', 0, 'Alarcon J. (Per)', 'Estadio Miguel Grau (Callao)', 'Villegas H. (Per)', 'Cartagena J. (Per)', 'Perez R. B. (Per)', 'Ortega K. (Per)', 'Ordonez E. (Per)', 'Espinoza M. (Per)', 'Estadio Monumental (Lima)', 'Alarcon J. (Per)', 'Espinoza J. (Per)', 'Garay Evia L. (Per)', 'Ordonez E. (Per)', 0, 'Huaman D. (Per)', 'Perez R. B. (Per)', 'Seminario L. (Per)', 'Mendoza J. (Per)', 'Alarcon J. (Per)', 'Ordonez E. (Per)', 'Espinoza J. (Per)', 'Menendez A. (Per)', 'Cartagena J. (Per)', 'Perez R. B. (Per)', 'Lopez R. (Per)', 'Garay L. (Per)', 'Garay Evia L. (Per)', 0, 'Alarcon J. (Per)', 'Zamora J. (Per)', 'Espinoza J. (Per)', 'Seminario L. (Per)', 'Ordonez E. (Per)', 'Lopez P. (Per)', 'Espinoza M. (Per)', 'Alarcon J. (Per)', 'Barbagelatta G. (Per)', 'Estadio Alejandro Villanueva (Lima)', 'Ordonez E. (Per)', 0, 0, 0, 'Palomino M. (Per)', 'Legario F. (Per)', 'Espinoza J. (Per)', 'Estadio Huancayo (Huancayo)', 'Espinoza M. (Per)', 'Huaman D. (Per)', 'Perez R. B. (Per)', 'Legario F. (Per)', 'Garay L. (Per)', 'Ordonez E. (Per)', 'Cartagena J. (Per)', 'Espinoza M. (Per)', 'Cartagena J. (Per)', 0, 'Perez R. B. (Per)', 'Lopez R. (Per)', 'Ordonez E. (Per)', 'Espinoza J. (Per)', 'Huaman D. (Per)', 'Legario F. (Per)', 'Barbagelatta G. (Per)', 'Perez R. B. (Per)', 'Alarcon J. (Per)', 'Espinoza M. (Per)', 'Legario F. (Per)', 'Cartagena J. (Per)', 'Espinoza J. (Per)', 0, 0, 0, 0, 0, 0, 0, 0, 0, 0]\n",
      "\n"
     ]
    },
    {
     "name": "stderr",
     "output_type": "stream",
     "text": [
      "[WDM] - ====== WebDriver manager ======\n",
      "[WDM] - Current google-chrome version is 104.0.5112\n",
      "[WDM] - Get LATEST chromedriver version for 104.0.5112 google-chrome\n",
      "[WDM] - Driver [C:\\Users\\PC-1\\.wdm\\drivers\\chromedriver\\win32\\104.0.5112.79\\chromedriver.exe] found in cache\n"
     ]
    },
    {
     "name": "stdout",
     "output_type": "stream",
     "text": [
      "Termino 178\n",
      "['Perez R. B. (Per)', 'Quiroz J. C. (Per)', 'Villegas H. (Per)', 'Lozano S. (Per)', 'Ortega K. (Per)', 'Menendez A. (Per)', 'Espinoza J. (Per)', 'Vasquez B. (Per)', 'Huamani J. (Per)', 'Lopez Ramos P. (Esp)', 'Garay L. (Per)', 'Ureta D. (Per)', 'Zamora J. (Per)', 'Alarcon J. (Per)', 'Cartagena J. (Per)', 'Villegas H. (Per)', 'Cori V. (Per)', 'Villanueva A. (Per)', 'Legario F. (Per)', 'Blas W. (Per)', 'Seminario L. (Per)', 'Perez R. B. (Per)', 'Ureta D. (Per)', 'Lozano S. (Per)', 'Ortega K. (Per)', 'Garay L. (Per)', 'Lopez Ramos P. (Esp)', 0, 'Espinoza M. (Per)', 'Ordonez E. (Per)', 'Quiroz J. C. (Per)', 'Alarcon J. (Per)', 'Perez R. B. (Per)', 'Espinoza M. (Per)', 'Ortega K. (Per)', 'Ordonez E. (Per)', 'Espinoza J. (Per)', 'Huamani J. (Per)', 'Blas A. (Per)', 'Lopez P. (Per)', 'Seminario L. (Per)', 0, 'Garay Evia L. (Per)', 'Lozano S. (Per)', 'Huaman D. (Per)', 'Vasquez B. (Per)', 'Legario F. (Per)', 'Villegas H. (Per)', 'Garay L. (Per)', 'Ureta D. (Per)', 'Espinoza M. (Per)', 'Cartagena J. (Per)', 'Cori V. (Per)', 'Ordonez E. (Per)', 'Estadio Inca Garcilaso de la Vega (Cusco)', 'Villanueva A. (Per)', 'Alarcon J. (Per)', 'Ciriaco L. (Per)', 'Lozano C. (Arg)', 'Alarcon J. (Per)', 'Perez R. B. (Per)', 'Villegas H. (Per)', 'Seminario L. (Per)', 'Ordonez E. (Per)', 'Cartagena J. (Per)', 'Chambi J. (Per)', 'Perez R. B. (Per)', 'Espinoza M. (Per)', 'Segura R. (Per)', 'Espinoza J. (Per)', 'Ureta D. (Per)', 'Garay L. (Per)', 'Quiroz J. (Per)', 'Estadio Inca Garcilaso de la Vega (Cusco)', 'Estadio Iván Elías Moreno (Lima)', 'Zamora J. (Per)', 'Lopez Ramos P. (Esp)', 'Garay L. (Per)', 'Perez R. B. (Per)', 'Ordonez E. (Per)', 'Espinoza M. (Per)', 'Zamora J. (Per)', 0, 0, 'Estadio San Martin de Porres (Lima)', 'Alarcon J. (Per)', 'Perez R. B. (Per)', 'Villanueva A. (Per)', 'Villegas H. (Per)', 'Lopez P. (Per)', 'Ortega K. (Per)', 'Zamora J. (Per)', 'Vasquez B. (Per)', 'Garay L. (Per)', 'Lopez R. (Per)', 0, 0, 0, 'Alarcon J. (Per)', 'Ortega K. (Per)', 'Ureta D. (Per)', 'Seminario L. (Per)', 'Lozano Segado J. (Esp)', 'Barbagelatta G. (Per)', 'Perez R. B. (Per)', 'Legario F. (Per)', 'Ortega K. (Per)', 'Alarcon J. (Per)', 'Seminario L. (Per)', 'Lopez P. (Per)', 'Estadio Monumental (Lima)', 0, 'Legario F. (Per)', 'Barbagelatta G. (Per)', 'Cartagena J. (Per)', 'Villegas H. (Per)', 'Huaman D. (Per)', 'Seminario L. (Per)', 'Alarcon J. (Per)', 'Espinoza M. (Per)', 'Menendez A. (Per)', 'Espinoza M. (Per)', 'Garay Evia L. (Per)', 'Ureta D. (Per)', 'Ciriaco L. (Per)', 0, 'Espinoza J. (Per)', 'Seminario L. (Per)', 'Villegas H. (Per)', 'Ortega K. (Arg)', 'Menendez A. (Per)', 'Ortega K. (Per)', 'Cartagena J. (Per)', 'Garay L. (Per)', 'Perez R. B. (Per)', 'Ordonez E. (Per)', 'Estadio Miguel Grau (Piura)', 'Legario F. (Per)', 'Alarcon J. (Per)', 0, 'Alarcon J. (Per)', 'Estadio Miguel Grau (Callao)', 'Villegas H. (Per)', 'Cartagena J. (Per)', 'Perez R. B. (Per)', 'Ortega K. (Per)', 'Ordonez E. (Per)', 'Espinoza M. (Per)', 'Estadio Monumental (Lima)', 'Alarcon J. (Per)', 'Espinoza J. (Per)', 'Garay Evia L. (Per)', 'Ordonez E. (Per)', 0, 'Huaman D. (Per)', 'Perez R. B. (Per)', 'Seminario L. (Per)', 'Mendoza J. (Per)', 'Alarcon J. (Per)', 'Ordonez E. (Per)', 'Espinoza J. (Per)', 'Menendez A. (Per)', 'Cartagena J. (Per)', 'Perez R. B. (Per)', 'Lopez R. (Per)', 'Garay L. (Per)', 'Garay Evia L. (Per)', 0, 'Alarcon J. (Per)', 'Zamora J. (Per)', 'Espinoza J. (Per)', 'Seminario L. (Per)', 'Ordonez E. (Per)', 'Lopez P. (Per)', 'Espinoza M. (Per)', 'Alarcon J. (Per)', 'Barbagelatta G. (Per)', 'Estadio Alejandro Villanueva (Lima)', 'Ordonez E. (Per)', 0, 0, 0, 'Palomino M. (Per)', 'Legario F. (Per)', 'Espinoza J. (Per)', 'Estadio Huancayo (Huancayo)', 'Espinoza M. (Per)', 'Huaman D. (Per)', 'Perez R. B. (Per)', 'Legario F. (Per)', 'Garay L. (Per)', 'Ordonez E. (Per)', 'Cartagena J. (Per)', 'Espinoza M. (Per)', 'Cartagena J. (Per)', 0, 'Perez R. B. (Per)', 'Lopez R. (Per)', 'Ordonez E. (Per)', 'Espinoza J. (Per)', 'Huaman D. (Per)', 'Legario F. (Per)', 'Barbagelatta G. (Per)', 'Perez R. B. (Per)', 'Alarcon J. (Per)', 'Espinoza M. (Per)', 'Legario F. (Per)', 'Cartagena J. (Per)', 'Espinoza J. (Per)', 0, 0, 0, 0, 0, 0, 0, 0, 0, 0]\n",
      "\n"
     ]
    },
    {
     "name": "stderr",
     "output_type": "stream",
     "text": [
      "[WDM] - ====== WebDriver manager ======\n",
      "[WDM] - Current google-chrome version is 104.0.5112\n",
      "[WDM] - Get LATEST chromedriver version for 104.0.5112 google-chrome\n",
      "[WDM] - Driver [C:\\Users\\PC-1\\.wdm\\drivers\\chromedriver\\win32\\104.0.5112.79\\chromedriver.exe] found in cache\n"
     ]
    },
    {
     "name": "stdout",
     "output_type": "stream",
     "text": [
      "Termino 194\n",
      "['Perez R. B. (Per)', 'Quiroz J. C. (Per)', 'Villegas H. (Per)', 'Lozano S. (Per)', 'Ortega K. (Per)', 'Menendez A. (Per)', 'Espinoza J. (Per)', 'Vasquez B. (Per)', 'Huamani J. (Per)', 'Lopez Ramos P. (Esp)', 'Garay L. (Per)', 'Ureta D. (Per)', 'Zamora J. (Per)', 'Alarcon J. (Per)', 'Cartagena J. (Per)', 'Villegas H. (Per)', 'Cori V. (Per)', 'Villanueva A. (Per)', 'Legario F. (Per)', 'Blas W. (Per)', 'Seminario L. (Per)', 'Perez R. B. (Per)', 'Ureta D. (Per)', 'Lozano S. (Per)', 'Ortega K. (Per)', 'Garay L. (Per)', 'Lopez Ramos P. (Esp)', 'Segura R. (Per)', 'Espinoza M. (Per)', 'Ordonez E. (Per)', 'Quiroz J. C. (Per)', 'Alarcon J. (Per)', 'Perez R. B. (Per)', 'Espinoza M. (Per)', 'Ortega K. (Per)', 'Ordonez E. (Per)', 'Espinoza J. (Per)', 'Huamani J. (Per)', 'Blas A. (Per)', 'Lopez P. (Per)', 'Seminario L. (Per)', 0, 'Garay Evia L. (Per)', 'Lozano S. (Per)', 'Huaman D. (Per)', 'Vasquez B. (Per)', 'Legario F. (Per)', 'Villegas H. (Per)', 'Garay L. (Per)', 'Ureta D. (Per)', 'Espinoza M. (Per)', 'Cartagena J. (Per)', 'Cori V. (Per)', 'Ordonez E. (Per)', 'Estadio Inca Garcilaso de la Vega (Cusco)', 'Villanueva A. (Per)', 'Alarcon J. (Per)', 'Ciriaco L. (Per)', 'Lozano C. (Arg)', 'Alarcon J. (Per)', 'Perez R. B. (Per)', 'Villegas H. (Per)', 'Seminario L. (Per)', 'Ordonez E. (Per)', 'Cartagena J. (Per)', 'Chambi J. (Per)', 'Perez R. B. (Per)', 'Espinoza M. (Per)', 'Segura R. (Per)', 'Espinoza J. (Per)', 'Ureta D. (Per)', 'Garay L. (Per)', 'Quiroz J. (Per)', 'Estadio Inca Garcilaso de la Vega (Cusco)', 'Estadio Iván Elías Moreno (Lima)', 'Zamora J. (Per)', 'Lopez Ramos P. (Esp)', 'Garay L. (Per)', 'Perez R. B. (Per)', 'Ordonez E. (Per)', 'Espinoza M. (Per)', 'Zamora J. (Per)', 0, 0, 'Estadio San Martin de Porres (Lima)', 'Alarcon J. (Per)', 'Perez R. B. (Per)', 'Villanueva A. (Per)', 'Villegas H. (Per)', 'Lopez P. (Per)', 'Ortega K. (Per)', 'Zamora J. (Per)', 'Vasquez B. (Per)', 'Garay L. (Per)', 'Lopez R. (Per)', 0, 0, 0, 'Alarcon J. (Per)', 'Ortega K. (Per)', 'Ureta D. (Per)', 'Seminario L. (Per)', 'Lozano Segado J. (Esp)', 'Barbagelatta G. (Per)', 'Perez R. B. (Per)', 'Legario F. (Per)', 'Ortega K. (Per)', 'Alarcon J. (Per)', 'Seminario L. (Per)', 'Lopez P. (Per)', 'Estadio Monumental (Lima)', 'Menendez A. (Per)', 'Legario F. (Per)', 'Barbagelatta G. (Per)', 'Cartagena J. (Per)', 'Villegas H. (Per)', 'Huaman D. (Per)', 'Seminario L. (Per)', 'Alarcon J. (Per)', 'Espinoza M. (Per)', 'Menendez A. (Per)', 'Espinoza M. (Per)', 'Garay Evia L. (Per)', 'Ureta D. (Per)', 'Ciriaco L. (Per)', 0, 'Espinoza J. (Per)', 'Seminario L. (Per)', 'Villegas H. (Per)', 'Ortega K. (Arg)', 'Menendez A. (Per)', 'Ortega K. (Per)', 'Cartagena J. (Per)', 'Garay L. (Per)', 'Perez R. B. (Per)', 'Ordonez E. (Per)', 'Estadio Miguel Grau (Piura)', 'Legario F. (Per)', 'Alarcon J. (Per)', 'Espinoza J. (Per)', 'Alarcon J. (Per)', 'Estadio Miguel Grau (Callao)', 'Villegas H. (Per)', 'Cartagena J. (Per)', 'Perez R. B. (Per)', 'Ortega K. (Per)', 'Ordonez E. (Per)', 'Espinoza M. (Per)', 'Estadio Monumental (Lima)', 'Alarcon J. (Per)', 'Espinoza J. (Per)', 'Garay Evia L. (Per)', 'Ordonez E. (Per)', 0, 'Huaman D. (Per)', 'Perez R. B. (Per)', 'Seminario L. (Per)', 'Mendoza J. (Per)', 'Alarcon J. (Per)', 'Ordonez E. (Per)', 'Espinoza J. (Per)', 'Menendez A. (Per)', 'Cartagena J. (Per)', 'Perez R. B. (Per)', 'Lopez R. (Per)', 'Garay L. (Per)', 'Garay Evia L. (Per)', 0, 'Alarcon J. (Per)', 'Zamora J. (Per)', 'Espinoza J. (Per)', 'Seminario L. (Per)', 'Ordonez E. (Per)', 'Lopez P. (Per)', 'Espinoza M. (Per)', 'Alarcon J. (Per)', 'Barbagelatta G. (Per)', 'Estadio Alejandro Villanueva (Lima)', 'Ordonez E. (Per)', 0, 0, 0, 'Palomino M. (Per)', 'Legario F. (Per)', 'Espinoza J. (Per)', 'Estadio Huancayo (Huancayo)', 'Espinoza M. (Per)', 'Huaman D. (Per)', 'Perez R. B. (Per)', 'Legario F. (Per)', 'Garay L. (Per)', 'Ordonez E. (Per)', 'Cartagena J. (Per)', 'Espinoza M. (Per)', 'Cartagena J. (Per)', 0, 'Perez R. B. (Per)', 'Lopez R. (Per)', 'Ordonez E. (Per)', 'Espinoza J. (Per)', 'Huaman D. (Per)', 'Legario F. (Per)', 'Barbagelatta G. (Per)', 'Perez R. B. (Per)', 'Alarcon J. (Per)', 'Espinoza M. (Per)', 'Legario F. (Per)', 'Cartagena J. (Per)', 'Espinoza J. (Per)', 'Palomino M. (Per)', 0, 0, 0, 0, 0, 0, 0, 0, 0]\n",
      "\n"
     ]
    },
    {
     "name": "stderr",
     "output_type": "stream",
     "text": [
      "[WDM] - ====== WebDriver manager ======\n"
     ]
    },
    {
     "name": "stdout",
     "output_type": "stream",
     "text": [
      "Termino 13\n",
      "['Perez R. B. (Per)', 'Quiroz J. C. (Per)', 'Villegas H. (Per)', 'Lozano S. (Per)', 'Ortega K. (Per)', 'Menendez A. (Per)', 'Espinoza J. (Per)', 'Vasquez B. (Per)', 'Huamani J. (Per)', 'Lopez Ramos P. (Esp)', 'Garay L. (Per)', 'Ureta D. (Per)', 'Zamora J. (Per)', 'Alarcon J. (Per)', 'Cartagena J. (Per)', 'Villegas H. (Per)', 'Cori V. (Per)', 'Villanueva A. (Per)', 'Legario F. (Per)', 'Blas W. (Per)', 'Seminario L. (Per)', 'Perez R. B. (Per)', 'Ureta D. (Per)', 'Lozano S. (Per)', 'Ortega K. (Per)', 'Garay L. (Per)', 'Lopez Ramos P. (Esp)', 'Segura R. (Per)', 'Espinoza M. (Per)', 'Ordonez E. (Per)', 'Quiroz J. C. (Per)', 'Alarcon J. (Per)', 'Perez R. B. (Per)', 'Espinoza M. (Per)', 'Ortega K. (Per)', 'Ordonez E. (Per)', 'Espinoza J. (Per)', 'Huamani J. (Per)', 'Blas A. (Per)', 'Lopez P. (Per)', 'Seminario L. (Per)', 0, 'Garay Evia L. (Per)', 'Lozano S. (Per)', 'Huaman D. (Per)', 'Vasquez B. (Per)', 'Legario F. (Per)', 'Villegas H. (Per)', 'Garay L. (Per)', 'Ureta D. (Per)', 'Espinoza M. (Per)', 'Cartagena J. (Per)', 'Cori V. (Per)', 'Ordonez E. (Per)', 'Estadio Inca Garcilaso de la Vega (Cusco)', 'Villanueva A. (Per)', 'Alarcon J. (Per)', 'Ciriaco L. (Per)', 'Lozano C. (Arg)', 'Alarcon J. (Per)', 'Perez R. B. (Per)', 'Villegas H. (Per)', 'Seminario L. (Per)', 'Ordonez E. (Per)', 'Cartagena J. (Per)', 'Chambi J. (Per)', 'Perez R. B. (Per)', 'Espinoza M. (Per)', 'Segura R. (Per)', 'Espinoza J. (Per)', 'Ureta D. (Per)', 'Garay L. (Per)', 'Quiroz J. (Per)', 'Estadio Inca Garcilaso de la Vega (Cusco)', 'Estadio Iván Elías Moreno (Lima)', 'Zamora J. (Per)', 'Lopez Ramos P. (Esp)', 'Garay L. (Per)', 'Perez R. B. (Per)', 'Ordonez E. (Per)', 'Espinoza M. (Per)', 'Zamora J. (Per)', 0, 0, 'Estadio San Martin de Porres (Lima)', 'Alarcon J. (Per)', 'Perez R. B. (Per)', 'Villanueva A. (Per)', 'Villegas H. (Per)', 'Lopez P. (Per)', 'Ortega K. (Per)', 'Zamora J. (Per)', 'Vasquez B. (Per)', 'Garay L. (Per)', 'Lopez R. (Per)', 0, 0, 0, 'Alarcon J. (Per)', 'Ortega K. (Per)', 'Ureta D. (Per)', 'Seminario L. (Per)', 'Lozano Segado J. (Esp)', 'Barbagelatta G. (Per)', 'Perez R. B. (Per)', 'Legario F. (Per)', 'Ortega K. (Per)', 'Alarcon J. (Per)', 'Seminario L. (Per)', 'Lopez P. (Per)', 'Estadio Monumental (Lima)', 'Menendez A. (Per)', 'Legario F. (Per)', 'Barbagelatta G. (Per)', 'Cartagena J. (Per)', 'Villegas H. (Per)', 'Huaman D. (Per)', 'Seminario L. (Per)', 'Alarcon J. (Per)', 'Espinoza M. (Per)', 'Menendez A. (Per)', 'Espinoza M. (Per)', 'Garay Evia L. (Per)', 'Ureta D. (Per)', 'Ciriaco L. (Per)', 0, 'Espinoza J. (Per)', 'Seminario L. (Per)', 'Villegas H. (Per)', 'Ortega K. (Arg)', 'Menendez A. (Per)', 'Ortega K. (Per)', 'Cartagena J. (Per)', 'Garay L. (Per)', 'Perez R. B. (Per)', 'Ordonez E. (Per)', 'Estadio Miguel Grau (Piura)', 'Legario F. (Per)', 'Alarcon J. (Per)', 'Espinoza J. (Per)', 'Alarcon J. (Per)', 'Estadio Miguel Grau (Callao)', 'Villegas H. (Per)', 'Cartagena J. (Per)', 'Perez R. B. (Per)', 'Ortega K. (Per)', 'Ordonez E. (Per)', 'Espinoza M. (Per)', 'Estadio Monumental (Lima)', 'Alarcon J. (Per)', 'Espinoza J. (Per)', 'Garay Evia L. (Per)', 'Ordonez E. (Per)', 0, 'Huaman D. (Per)', 'Perez R. B. (Per)', 'Seminario L. (Per)', 'Mendoza J. (Per)', 'Alarcon J. (Per)', 'Ordonez E. (Per)', 'Espinoza J. (Per)', 'Menendez A. (Per)', 'Cartagena J. (Per)', 'Perez R. B. (Per)', 'Lopez R. (Per)', 'Garay L. (Per)', 'Garay Evia L. (Per)', 0, 'Alarcon J. (Per)', 'Zamora J. (Per)', 'Espinoza J. (Per)', 'Seminario L. (Per)', 'Ordonez E. (Per)', 'Lopez P. (Per)', 'Espinoza M. (Per)', 'Alarcon J. (Per)', 'Barbagelatta G. (Per)', 'Estadio Alejandro Villanueva (Lima)', 'Ordonez E. (Per)', 0, 0, 0, 'Palomino M. (Per)', 'Legario F. (Per)', 'Espinoza J. (Per)', 'Estadio Huancayo (Huancayo)', 'Espinoza M. (Per)', 'Huaman D. (Per)', 'Perez R. B. (Per)', 'Legario F. (Per)', 'Garay L. (Per)', 'Ordonez E. (Per)', 'Cartagena J. (Per)', 'Espinoza M. (Per)', 'Cartagena J. (Per)', 0, 'Perez R. B. (Per)', 'Lopez R. (Per)', 'Ordonez E. (Per)', 'Espinoza J. (Per)', 'Huaman D. (Per)', 'Legario F. (Per)', 'Barbagelatta G. (Per)', 'Perez R. B. (Per)', 'Alarcon J. (Per)', 'Espinoza M. (Per)', 'Legario F. (Per)', 'Cartagena J. (Per)', 'Espinoza J. (Per)', 'Palomino M. (Per)', 0, 0, 0, 0, 0, 0, 0, 0, 0]\n"
     ]
    },
    {
     "name": "stderr",
     "output_type": "stream",
     "text": [
      "[WDM] - Current google-chrome version is 104.0.5112\n",
      "[WDM] - Get LATEST chromedriver version for 104.0.5112 google-chrome\n",
      "[WDM] - Driver [C:\\Users\\PC-1\\.wdm\\drivers\\chromedriver\\win32\\104.0.5112.79\\chromedriver.exe] found in cache\n"
     ]
    },
    {
     "name": "stdout",
     "output_type": "stream",
     "text": [
      "Termino 55\n",
      "['Perez R. B. (Per)', 'Quiroz J. C. (Per)', 'Villegas H. (Per)', 'Lozano S. (Per)', 'Ortega K. (Per)', 'Menendez A. (Per)', 'Espinoza J. (Per)', 'Vasquez B. (Per)', 'Huamani J. (Per)', 'Lopez Ramos P. (Esp)', 'Garay L. (Per)', 'Ureta D. (Per)', 'Zamora J. (Per)', 'Alarcon J. (Per)', 'Cartagena J. (Per)', 'Villegas H. (Per)', 'Cori V. (Per)', 'Villanueva A. (Per)', 'Legario F. (Per)', 'Blas W. (Per)', 'Seminario L. (Per)', 'Perez R. B. (Per)', 'Ureta D. (Per)', 'Lozano S. (Per)', 'Ortega K. (Per)', 'Garay L. (Per)', 'Lopez Ramos P. (Esp)', 'Segura R. (Per)', 'Espinoza M. (Per)', 'Ordonez E. (Per)', 'Quiroz J. C. (Per)', 'Alarcon J. (Per)', 'Perez R. B. (Per)', 'Espinoza M. (Per)', 'Ortega K. (Per)', 'Ordonez E. (Per)', 'Espinoza J. (Per)', 'Huamani J. (Per)', 'Blas A. (Per)', 'Lopez P. (Per)', 'Seminario L. (Per)', 0, 'Garay Evia L. (Per)', 'Lozano S. (Per)', 'Huaman D. (Per)', 'Vasquez B. (Per)', 'Legario F. (Per)', 'Villegas H. (Per)', 'Garay L. (Per)', 'Ureta D. (Per)', 'Espinoza M. (Per)', 'Cartagena J. (Per)', 'Cori V. (Per)', 'Ordonez E. (Per)', 'Estadio Inca Garcilaso de la Vega (Cusco)', 'Villanueva A. (Per)', 'Alarcon J. (Per)', 'Ciriaco L. (Per)', 'Lozano C. (Arg)', 'Alarcon J. (Per)', 'Perez R. B. (Per)', 'Villegas H. (Per)', 'Seminario L. (Per)', 'Ordonez E. (Per)', 'Cartagena J. (Per)', 'Chambi J. (Per)', 'Perez R. B. (Per)', 'Espinoza M. (Per)', 'Segura R. (Per)', 'Espinoza J. (Per)', 'Ureta D. (Per)', 'Garay L. (Per)', 'Quiroz J. (Per)', 'Estadio Inca Garcilaso de la Vega (Cusco)', 'Estadio Iván Elías Moreno (Lima)', 'Zamora J. (Per)', 'Lopez Ramos P. (Esp)', 'Garay L. (Per)', 'Perez R. B. (Per)', 'Ordonez E. (Per)', 'Espinoza M. (Per)', 'Zamora J. (Per)', 0, 0, 'Estadio San Martin de Porres (Lima)', 'Alarcon J. (Per)', 'Perez R. B. (Per)', 'Villanueva A. (Per)', 'Villegas H. (Per)', 'Lopez P. (Per)', 'Ortega K. (Per)', 'Zamora J. (Per)', 'Vasquez B. (Per)', 'Garay L. (Per)', 'Lopez R. (Per)', 'Espinoza J. (Per)', 0, 0, 'Alarcon J. (Per)', 'Ortega K. (Per)', 'Ureta D. (Per)', 'Seminario L. (Per)', 'Lozano Segado J. (Esp)', 'Barbagelatta G. (Per)', 'Perez R. B. (Per)', 'Legario F. (Per)', 'Ortega K. (Per)', 'Alarcon J. (Per)', 'Seminario L. (Per)', 'Lopez P. (Per)', 'Estadio Monumental (Lima)', 'Menendez A. (Per)', 'Legario F. (Per)', 'Barbagelatta G. (Per)', 'Cartagena J. (Per)', 'Villegas H. (Per)', 'Huaman D. (Per)', 'Seminario L. (Per)', 'Alarcon J. (Per)', 'Espinoza M. (Per)', 'Menendez A. (Per)', 'Espinoza M. (Per)', 'Garay Evia L. (Per)', 'Ureta D. (Per)', 'Ciriaco L. (Per)', 0, 'Espinoza J. (Per)', 'Seminario L. (Per)', 'Villegas H. (Per)', 'Ortega K. (Arg)', 'Menendez A. (Per)', 'Ortega K. (Per)', 'Cartagena J. (Per)', 'Garay L. (Per)', 'Perez R. B. (Per)', 'Ordonez E. (Per)', 'Estadio Miguel Grau (Piura)', 'Legario F. (Per)', 'Alarcon J. (Per)', 'Espinoza J. (Per)', 'Alarcon J. (Per)', 'Estadio Miguel Grau (Callao)', 'Villegas H. (Per)', 'Cartagena J. (Per)', 'Perez R. B. (Per)', 'Ortega K. (Per)', 'Ordonez E. (Per)', 'Espinoza M. (Per)', 'Estadio Monumental (Lima)', 'Alarcon J. (Per)', 'Espinoza J. (Per)', 'Garay Evia L. (Per)', 'Ordonez E. (Per)', 0, 'Huaman D. (Per)', 'Perez R. B. (Per)', 'Seminario L. (Per)', 'Mendoza J. (Per)', 'Alarcon J. (Per)', 'Ordonez E. (Per)', 'Espinoza J. (Per)', 'Menendez A. (Per)', 'Cartagena J. (Per)', 'Perez R. B. (Per)', 'Lopez R. (Per)', 'Garay L. (Per)', 'Garay Evia L. (Per)', 0, 'Alarcon J. (Per)', 'Zamora J. (Per)', 'Espinoza J. (Per)', 'Seminario L. (Per)', 'Ordonez E. (Per)', 'Lopez P. (Per)', 'Espinoza M. (Per)', 'Alarcon J. (Per)', 'Barbagelatta G. (Per)', 'Estadio Alejandro Villanueva (Lima)', 'Ordonez E. (Per)', 0, 0, 0, 'Palomino M. (Per)', 'Legario F. (Per)', 'Espinoza J. (Per)', 'Estadio Huancayo (Huancayo)', 'Espinoza M. (Per)', 'Huaman D. (Per)', 'Perez R. B. (Per)', 'Legario F. (Per)', 'Garay L. (Per)', 'Ordonez E. (Per)', 'Cartagena J. (Per)', 'Espinoza M. (Per)', 'Cartagena J. (Per)', 0, 'Perez R. B. (Per)', 'Lopez R. (Per)', 'Ordonez E. (Per)', 'Espinoza J. (Per)', 'Huaman D. (Per)', 'Legario F. (Per)', 'Barbagelatta G. (Per)', 'Perez R. B. (Per)', 'Alarcon J. (Per)', 'Espinoza M. (Per)', 'Legario F. (Per)', 'Cartagena J. (Per)', 'Espinoza J. (Per)', 'Palomino M. (Per)', 0, 0, 0, 0, 0, 0, 0, 0, 0]\n",
      "Termino 69\n",
      "['Perez R. B. (Per)', 'Quiroz J. C. (Per)', 'Villegas H. (Per)', 'Lozano S. (Per)', 'Ortega K. (Per)', 'Menendez A. (Per)', 'Espinoza J. (Per)', 'Vasquez B. (Per)', 'Huamani J. (Per)', 'Lopez Ramos P. (Esp)', 'Garay L. (Per)', 'Ureta D. (Per)', 'Zamora J. (Per)', 'Alarcon J. (Per)', 'Cartagena J. (Per)', 'Villegas H. (Per)', 'Cori V. (Per)', 'Villanueva A. (Per)', 'Legario F. (Per)', 'Blas W. (Per)', 'Seminario L. (Per)', 'Perez R. B. (Per)', 'Ureta D. (Per)', 'Lozano S. (Per)', 'Ortega K. (Per)', 'Garay L. (Per)', 'Lopez Ramos P. (Esp)', 'Segura R. (Per)', 'Espinoza M. (Per)', 'Ordonez E. (Per)', 'Quiroz J. C. (Per)', 'Alarcon J. (Per)', 'Perez R. B. (Per)', 'Espinoza M. (Per)', 'Ortega K. (Per)', 'Ordonez E. (Per)', 'Espinoza J. (Per)', 'Huamani J. (Per)', 'Blas A. (Per)', 'Lopez P. (Per)', 'Seminario L. (Per)', 0, 'Garay Evia L. (Per)', 'Lozano S. (Per)', 'Huaman D. (Per)', 'Vasquez B. (Per)', 'Legario F. (Per)', 'Villegas H. (Per)', 'Garay L. (Per)', 'Ureta D. (Per)', 'Espinoza M. (Per)', 'Cartagena J. (Per)', 'Cori V. (Per)', 'Ordonez E. (Per)', 'Estadio Inca Garcilaso de la Vega (Cusco)', 'Villanueva A. (Per)', 'Alarcon J. (Per)', 'Ciriaco L. (Per)', 'Lozano C. (Arg)', 'Alarcon J. (Per)', 'Perez R. B. (Per)', 'Villegas H. (Per)', 'Seminario L. (Per)', 'Ordonez E. (Per)', 'Cartagena J. (Per)', 'Chambi J. (Per)', 'Perez R. B. (Per)', 'Espinoza M. (Per)', 'Segura R. (Per)', 'Espinoza J. (Per)', 'Ureta D. (Per)', 'Garay L. (Per)', 'Quiroz J. (Per)', 'Estadio Inca Garcilaso de la Vega (Cusco)', 'Estadio Iván Elías Moreno (Lima)', 'Zamora J. (Per)', 'Lopez Ramos P. (Esp)', 'Garay L. (Per)', 'Perez R. B. (Per)', 'Ordonez E. (Per)', 'Espinoza M. (Per)', 'Zamora J. (Per)', 0, 0, 'Estadio San Martin de Porres (Lima)', 'Alarcon J. (Per)', 'Perez R. B. (Per)', 'Villanueva A. (Per)', 'Villegas H. (Per)', 'Lopez P. (Per)', 'Ortega K. (Per)', 'Zamora J. (Per)', 'Vasquez B. (Per)', 'Garay L. (Per)', 'Lopez R. (Per)', 'Espinoza J. (Per)', 0, 0, 'Alarcon J. (Per)', 'Ortega K. (Per)', 'Ureta D. (Per)', 'Seminario L. (Per)', 'Lozano Segado J. (Esp)', 'Barbagelatta G. (Per)', 'Perez R. B. (Per)', 'Legario F. (Per)', 'Ortega K. (Per)', 'Alarcon J. (Per)', 'Seminario L. (Per)', 'Lopez P. (Per)', 'Estadio Monumental (Lima)', 'Menendez A. (Per)', 'Legario F. (Per)', 'Barbagelatta G. (Per)', 'Cartagena J. (Per)', 'Villegas H. (Per)', 'Huaman D. (Per)', 'Seminario L. (Per)', 'Alarcon J. (Per)', 'Espinoza M. (Per)', 'Menendez A. (Per)', 'Espinoza M. (Per)', 'Garay Evia L. (Per)', 'Ureta D. (Per)', 'Ciriaco L. (Per)', 0, 'Espinoza J. (Per)', 'Seminario L. (Per)', 'Villegas H. (Per)', 'Ortega K. (Arg)', 'Menendez A. (Per)', 'Ortega K. (Per)', 'Cartagena J. (Per)', 'Garay L. (Per)', 'Perez R. B. (Per)', 'Ordonez E. (Per)', 'Estadio Miguel Grau (Piura)', 'Legario F. (Per)', 'Alarcon J. (Per)', 'Espinoza J. (Per)', 'Alarcon J. (Per)', 'Estadio Miguel Grau (Callao)', 'Villegas H. (Per)', 'Cartagena J. (Per)', 'Perez R. B. (Per)', 'Ortega K. (Per)', 'Ordonez E. (Per)', 'Espinoza M. (Per)', 'Estadio Monumental (Lima)', 'Alarcon J. (Per)', 'Espinoza J. (Per)', 'Garay Evia L. (Per)', 'Ordonez E. (Per)', 0, 'Huaman D. (Per)', 'Perez R. B. (Per)', 'Seminario L. (Per)', 'Mendoza J. (Per)', 'Alarcon J. (Per)', 'Ordonez E. (Per)', 'Espinoza J. (Per)', 'Menendez A. (Per)', 'Cartagena J. (Per)', 'Perez R. B. (Per)', 'Lopez R. (Per)', 'Garay L. (Per)', 'Garay Evia L. (Per)', 0, 'Alarcon J. (Per)', 'Zamora J. (Per)', 'Espinoza J. (Per)', 'Seminario L. (Per)', 'Ordonez E. (Per)', 'Lopez P. (Per)', 'Espinoza M. (Per)', 'Alarcon J. (Per)', 'Barbagelatta G. (Per)', 'Estadio Alejandro Villanueva (Lima)', 'Ordonez E. (Per)', 0, 0, 0, 'Palomino M. (Per)', 'Legario F. (Per)', 'Espinoza J. (Per)', 'Estadio Huancayo (Huancayo)', 'Espinoza M. (Per)', 'Huaman D. (Per)', 'Perez R. B. (Per)', 'Legario F. (Per)', 'Garay L. (Per)', 'Ordonez E. (Per)', 'Cartagena J. (Per)', 'Espinoza M. (Per)', 'Cartagena J. (Per)', 0, 'Perez R. B. (Per)', 'Lopez R. (Per)', 'Ordonez E. (Per)', 'Espinoza J. (Per)', 'Huaman D. (Per)', 'Legario F. (Per)', 'Barbagelatta G. (Per)', 'Perez R. B. (Per)', 'Alarcon J. (Per)', 'Espinoza M. (Per)', 'Legario F. (Per)', 'Cartagena J. (Per)', 'Espinoza J. (Per)', 'Palomino M. (Per)', 0, 0, 0, 0, 0, 0, 0, 0, 0]\n",
      "Termino 27\n",
      "['Perez R. B. (Per)', 'Quiroz J. C. (Per)', 'Villegas H. (Per)', 'Lozano S. (Per)', 'Ortega K. (Per)', 'Menendez A. (Per)', 'Espinoza J. (Per)', 'Vasquez B. (Per)', 'Huamani J. (Per)', 'Lopez Ramos P. (Esp)', 'Garay L. (Per)', 'Ureta D. (Per)', 'Zamora J. (Per)', 'Alarcon J. (Per)', 'Cartagena J. (Per)', 'Villegas H. (Per)', 'Cori V. (Per)', 'Villanueva A. (Per)', 'Legario F. (Per)', 'Blas W. (Per)', 'Seminario L. (Per)', 'Perez R. B. (Per)', 'Ureta D. (Per)', 'Lozano S. (Per)', 'Ortega K. (Per)', 'Garay L. (Per)', 'Lopez Ramos P. (Esp)', 'Segura R. (Per)', 'Espinoza M. (Per)', 'Ordonez E. (Per)', 'Quiroz J. C. (Per)', 'Alarcon J. (Per)', 'Perez R. B. (Per)', 'Espinoza M. (Per)', 'Ortega K. (Per)', 'Ordonez E. (Per)', 'Espinoza J. (Per)', 'Huamani J. (Per)', 'Blas A. (Per)', 'Lopez P. (Per)', 'Seminario L. (Per)', 0, 'Garay Evia L. (Per)', 'Lozano S. (Per)', 'Huaman D. (Per)', 'Vasquez B. (Per)', 'Legario F. (Per)', 'Villegas H. (Per)', 'Garay L. (Per)', 'Ureta D. (Per)', 'Espinoza M. (Per)', 'Cartagena J. (Per)', 'Cori V. (Per)', 'Ordonez E. (Per)', 'Estadio Inca Garcilaso de la Vega (Cusco)', 'Villanueva A. (Per)', 'Alarcon J. (Per)', 'Ciriaco L. (Per)', 'Lozano C. (Arg)', 'Alarcon J. (Per)', 'Perez R. B. (Per)', 'Villegas H. (Per)', 'Seminario L. (Per)', 'Ordonez E. (Per)', 'Cartagena J. (Per)', 'Chambi J. (Per)', 'Perez R. B. (Per)', 'Espinoza M. (Per)', 'Segura R. (Per)', 'Espinoza J. (Per)', 'Ureta D. (Per)', 'Garay L. (Per)', 'Quiroz J. (Per)', 'Estadio Inca Garcilaso de la Vega (Cusco)', 'Estadio Iván Elías Moreno (Lima)', 'Zamora J. (Per)', 'Lopez Ramos P. (Esp)', 'Garay L. (Per)', 'Perez R. B. (Per)', 'Ordonez E. (Per)', 'Espinoza M. (Per)', 'Zamora J. (Per)', 0, 0, 'Estadio San Martin de Porres (Lima)', 'Alarcon J. (Per)', 'Perez R. B. (Per)', 'Villanueva A. (Per)', 'Villegas H. (Per)', 'Lopez P. (Per)', 'Ortega K. (Per)', 'Zamora J. (Per)', 'Vasquez B. (Per)', 'Garay L. (Per)', 'Lopez R. (Per)', 'Espinoza J. (Per)', 0, 0, 'Alarcon J. (Per)', 'Ortega K. (Per)', 'Ureta D. (Per)', 'Seminario L. (Per)', 'Lozano Segado J. (Esp)', 'Barbagelatta G. (Per)', 'Perez R. B. (Per)', 'Legario F. (Per)', 'Ortega K. (Per)', 'Alarcon J. (Per)', 'Seminario L. (Per)', 'Lopez P. (Per)', 'Estadio Monumental (Lima)', 'Menendez A. (Per)', 'Legario F. (Per)', 'Barbagelatta G. (Per)', 'Cartagena J. (Per)', 'Villegas H. (Per)', 'Huaman D. (Per)', 'Seminario L. (Per)', 'Alarcon J. (Per)', 'Espinoza M. (Per)', 'Menendez A. (Per)', 'Espinoza M. (Per)', 'Garay Evia L. (Per)', 'Ureta D. (Per)', 'Ciriaco L. (Per)', 0, 'Espinoza J. (Per)', 'Seminario L. (Per)', 'Villegas H. (Per)', 'Ortega K. (Arg)', 'Menendez A. (Per)', 'Ortega K. (Per)', 'Cartagena J. (Per)', 'Garay L. (Per)', 'Perez R. B. (Per)', 'Ordonez E. (Per)', 'Estadio Miguel Grau (Piura)', 'Legario F. (Per)', 'Alarcon J. (Per)', 'Espinoza J. (Per)', 'Alarcon J. (Per)', 'Estadio Miguel Grau (Callao)', 'Villegas H. (Per)', 'Cartagena J. (Per)', 'Perez R. B. (Per)', 'Ortega K. (Per)', 'Ordonez E. (Per)', 'Espinoza M. (Per)', 'Estadio Monumental (Lima)', 'Alarcon J. (Per)', 'Espinoza J. (Per)', 'Garay Evia L. (Per)', 'Ordonez E. (Per)', 0, 'Huaman D. (Per)', 'Perez R. B. (Per)', 'Seminario L. (Per)', 'Mendoza J. (Per)', 'Alarcon J. (Per)', 'Ordonez E. (Per)', 'Espinoza J. (Per)', 'Menendez A. (Per)', 'Cartagena J. (Per)', 'Perez R. B. (Per)', 'Lopez R. (Per)', 'Garay L. (Per)', 'Garay Evia L. (Per)', 0, 'Alarcon J. (Per)', 'Zamora J. (Per)', 'Espinoza J. (Per)', 'Seminario L. (Per)', 'Ordonez E. (Per)', 'Lopez P. (Per)', 'Espinoza M. (Per)', 'Alarcon J. (Per)', 'Barbagelatta G. (Per)', 'Estadio Alejandro Villanueva (Lima)', 'Ordonez E. (Per)', 0, 0, 0, 'Palomino M. (Per)', 'Legario F. (Per)', 'Espinoza J. (Per)', 'Estadio Huancayo (Huancayo)', 'Espinoza M. (Per)', 'Huaman D. (Per)', 'Perez R. B. (Per)', 'Legario F. (Per)', 'Garay L. (Per)', 'Ordonez E. (Per)', 'Cartagena J. (Per)', 'Espinoza M. (Per)', 'Cartagena J. (Per)', 0, 'Perez R. B. (Per)', 'Lopez R. (Per)', 'Ordonez E. (Per)', 'Espinoza J. (Per)', 'Huaman D. (Per)', 'Legario F. (Per)', 'Barbagelatta G. (Per)', 'Perez R. B. (Per)', 'Alarcon J. (Per)', 'Espinoza M. (Per)', 'Legario F. (Per)', 'Cartagena J. (Per)', 'Espinoza J. (Per)', 'Palomino M. (Per)', 0, 0, 0, 0, 0, 0, 0, 0, 0]\n",
      "Termino 139\n",
      "['Perez R. B. (Per)', 'Quiroz J. C. (Per)', 'Villegas H. (Per)', 'Lozano S. (Per)', 'Ortega K. (Per)', 'Menendez A. (Per)', 'Espinoza J. (Per)', 'Vasquez B. (Per)', 'Huamani J. (Per)', 'Lopez Ramos P. (Esp)', 'Garay L. (Per)', 'Ureta D. (Per)', 'Zamora J. (Per)', 'Alarcon J. (Per)', 'Cartagena J. (Per)', 'Villegas H. (Per)', 'Cori V. (Per)', 'Villanueva A. (Per)', 'Legario F. (Per)', 'Blas W. (Per)', 'Seminario L. (Per)', 'Perez R. B. (Per)', 'Ureta D. (Per)', 'Lozano S. (Per)', 'Ortega K. (Per)', 'Garay L. (Per)', 'Lopez Ramos P. (Esp)', 'Segura R. (Per)', 'Espinoza M. (Per)', 'Ordonez E. (Per)', 'Quiroz J. C. (Per)', 'Alarcon J. (Per)', 'Perez R. B. (Per)', 'Espinoza M. (Per)', 'Ortega K. (Per)', 'Ordonez E. (Per)', 'Espinoza J. (Per)', 'Huamani J. (Per)', 'Blas A. (Per)', 'Lopez P. (Per)', 'Seminario L. (Per)', 'Barbagelatta G. (Per)', 'Garay Evia L. (Per)', 'Lozano S. (Per)', 'Huaman D. (Per)', 'Vasquez B. (Per)', 'Legario F. (Per)', 'Villegas H. (Per)', 'Garay L. (Per)', 'Ureta D. (Per)', 'Espinoza M. (Per)', 'Cartagena J. (Per)', 'Cori V. (Per)', 'Ordonez E. (Per)', 'Estadio Inca Garcilaso de la Vega (Cusco)', 'Villanueva A. (Per)', 'Alarcon J. (Per)', 'Ciriaco L. (Per)', 'Lozano C. (Arg)', 'Alarcon J. (Per)', 'Perez R. B. (Per)', 'Villegas H. (Per)', 'Seminario L. (Per)', 'Ordonez E. (Per)', 'Cartagena J. (Per)', 'Chambi J. (Per)', 'Perez R. B. (Per)', 'Espinoza M. (Per)', 'Segura R. (Per)', 'Espinoza J. (Per)', 'Ureta D. (Per)', 'Garay L. (Per)', 'Quiroz J. (Per)', 'Estadio Inca Garcilaso de la Vega (Cusco)', 'Estadio Iván Elías Moreno (Lima)', 'Zamora J. (Per)', 'Lopez Ramos P. (Esp)', 'Garay L. (Per)', 'Perez R. B. (Per)', 'Ordonez E. (Per)', 'Espinoza M. (Per)', 'Zamora J. (Per)', 0, 0, 'Estadio San Martin de Porres (Lima)', 'Alarcon J. (Per)', 'Perez R. B. (Per)', 'Villanueva A. (Per)', 'Villegas H. (Per)', 'Lopez P. (Per)', 'Ortega K. (Per)', 'Zamora J. (Per)', 'Vasquez B. (Per)', 'Garay L. (Per)', 'Lopez R. (Per)', 'Espinoza J. (Per)', 0, 0, 'Alarcon J. (Per)', 'Ortega K. (Per)', 'Ureta D. (Per)', 'Seminario L. (Per)', 'Lozano Segado J. (Esp)', 'Barbagelatta G. (Per)', 'Perez R. B. (Per)', 'Legario F. (Per)', 'Ortega K. (Per)', 'Alarcon J. (Per)', 'Seminario L. (Per)', 'Lopez P. (Per)', 'Estadio Monumental (Lima)', 'Menendez A. (Per)', 'Legario F. (Per)', 'Barbagelatta G. (Per)', 'Cartagena J. (Per)', 'Villegas H. (Per)', 'Huaman D. (Per)', 'Seminario L. (Per)', 'Alarcon J. (Per)', 'Espinoza M. (Per)', 'Menendez A. (Per)', 'Espinoza M. (Per)', 'Garay Evia L. (Per)', 'Ureta D. (Per)', 'Ciriaco L. (Per)', 0, 'Espinoza J. (Per)', 'Seminario L. (Per)', 'Villegas H. (Per)', 'Ortega K. (Arg)', 'Menendez A. (Per)', 'Ortega K. (Per)', 'Cartagena J. (Per)', 'Garay L. (Per)', 'Perez R. B. (Per)', 'Ordonez E. (Per)', 'Estadio Miguel Grau (Piura)', 'Legario F. (Per)', 'Alarcon J. (Per)', 'Espinoza J. (Per)', 'Alarcon J. (Per)', 'Estadio Miguel Grau (Callao)', 'Villegas H. (Per)', 'Cartagena J. (Per)', 'Perez R. B. (Per)', 'Ortega K. (Per)', 'Ordonez E. (Per)', 'Espinoza M. (Per)', 'Estadio Monumental (Lima)', 'Alarcon J. (Per)', 'Espinoza J. (Per)', 'Garay Evia L. (Per)', 'Ordonez E. (Per)', 'Menendez A. (Per)', 'Huaman D. (Per)', 'Perez R. B. (Per)', 'Seminario L. (Per)', 'Mendoza J. (Per)', 'Alarcon J. (Per)', 'Ordonez E. (Per)', 'Espinoza J. (Per)', 'Menendez A. (Per)', 'Cartagena J. (Per)', 'Perez R. B. (Per)', 'Lopez R. (Per)', 'Garay L. (Per)', 'Garay Evia L. (Per)', 0, 'Alarcon J. (Per)', 'Zamora J. (Per)', 'Espinoza J. (Per)', 'Seminario L. (Per)', 'Ordonez E. (Per)', 'Lopez P. (Per)', 'Espinoza M. (Per)', 'Alarcon J. (Per)', 'Barbagelatta G. (Per)', 'Estadio Alejandro Villanueva (Lima)', 'Ordonez E. (Per)', 0, 0, 0, 'Palomino M. (Per)', 'Legario F. (Per)', 'Espinoza J. (Per)', 'Estadio Huancayo (Huancayo)', 'Espinoza M. (Per)', 'Huaman D. (Per)', 'Perez R. B. (Per)', 'Legario F. (Per)', 'Garay L. (Per)', 'Ordonez E. (Per)', 'Cartagena J. (Per)', 'Espinoza M. (Per)', 'Cartagena J. (Per)', 0, 'Perez R. B. (Per)', 'Lopez R. (Per)', 'Ordonez E. (Per)', 'Espinoza J. (Per)', 'Huaman D. (Per)', 'Legario F. (Per)', 'Barbagelatta G. (Per)', 'Perez R. B. (Per)', 'Alarcon J. (Per)', 'Espinoza M. (Per)', 'Legario F. (Per)', 'Cartagena J. (Per)', 'Espinoza J. (Per)', 'Palomino M. (Per)', 0, 0, 0, 0, 0, 0, 0, 0, 0]\n",
      "Termino 111\n",
      "['Perez R. B. (Per)', 'Quiroz J. C. (Per)', 'Villegas H. (Per)', 'Lozano S. (Per)', 'Ortega K. (Per)', 'Menendez A. (Per)', 'Espinoza J. (Per)', 'Vasquez B. (Per)', 'Huamani J. (Per)', 'Lopez Ramos P. (Esp)', 'Garay L. (Per)', 'Ureta D. (Per)', 'Zamora J. (Per)', 'Alarcon J. (Per)', 'Cartagena J. (Per)', 'Villegas H. (Per)', 'Cori V. (Per)', 'Villanueva A. (Per)', 'Legario F. (Per)', 'Blas W. (Per)', 'Seminario L. (Per)', 'Perez R. B. (Per)', 'Ureta D. (Per)', 'Lozano S. (Per)', 'Ortega K. (Per)', 'Garay L. (Per)', 'Lopez Ramos P. (Esp)', 'Segura R. (Per)', 'Espinoza M. (Per)', 'Ordonez E. (Per)', 'Quiroz J. C. (Per)', 'Alarcon J. (Per)', 'Perez R. B. (Per)', 'Espinoza M. (Per)', 'Ortega K. (Per)', 'Ordonez E. (Per)', 'Espinoza J. (Per)', 'Huamani J. (Per)', 'Blas A. (Per)', 'Lopez P. (Per)', 'Seminario L. (Per)', 'Barbagelatta G. (Per)', 'Garay Evia L. (Per)', 'Lozano S. (Per)', 'Huaman D. (Per)', 'Vasquez B. (Per)', 'Legario F. (Per)', 'Villegas H. (Per)', 'Garay L. (Per)', 'Ureta D. (Per)', 'Espinoza M. (Per)', 'Cartagena J. (Per)', 'Cori V. (Per)', 'Ordonez E. (Per)', 'Estadio Inca Garcilaso de la Vega (Cusco)', 'Villanueva A. (Per)', 'Alarcon J. (Per)', 'Ciriaco L. (Per)', 'Lozano C. (Arg)', 'Alarcon J. (Per)', 'Perez R. B. (Per)', 'Villegas H. (Per)', 'Seminario L. (Per)', 'Ordonez E. (Per)', 'Cartagena J. (Per)', 'Chambi J. (Per)', 'Perez R. B. (Per)', 'Espinoza M. (Per)', 'Segura R. (Per)', 'Espinoza J. (Per)', 'Ureta D. (Per)', 'Garay L. (Per)', 'Quiroz J. (Per)', 'Estadio Inca Garcilaso de la Vega (Cusco)', 'Estadio Iván Elías Moreno (Lima)', 'Zamora J. (Per)', 'Lopez Ramos P. (Esp)', 'Garay L. (Per)', 'Perez R. B. (Per)', 'Ordonez E. (Per)', 'Espinoza M. (Per)', 'Zamora J. (Per)', 0, 0, 'Estadio San Martin de Porres (Lima)', 'Alarcon J. (Per)', 'Perez R. B. (Per)', 'Villanueva A. (Per)', 'Villegas H. (Per)', 'Lopez P. (Per)', 'Ortega K. (Per)', 'Zamora J. (Per)', 'Vasquez B. (Per)', 'Garay L. (Per)', 'Lopez R. (Per)', 'Espinoza J. (Per)', 0, 0, 'Alarcon J. (Per)', 'Ortega K. (Per)', 'Ureta D. (Per)', 'Seminario L. (Per)', 'Lozano Segado J. (Esp)', 'Barbagelatta G. (Per)', 'Perez R. B. (Per)', 'Legario F. (Per)', 'Ortega K. (Per)', 'Alarcon J. (Per)', 'Seminario L. (Per)', 'Lopez P. (Per)', 'Estadio Monumental (Lima)', 'Menendez A. (Per)', 'Legario F. (Per)', 'Barbagelatta G. (Per)', 'Cartagena J. (Per)', 'Villegas H. (Per)', 'Huaman D. (Per)', 'Seminario L. (Per)', 'Alarcon J. (Per)', 'Espinoza M. (Per)', 'Menendez A. (Per)', 'Espinoza M. (Per)', 'Garay Evia L. (Per)', 'Ureta D. (Per)', 'Ciriaco L. (Per)', 0, 'Espinoza J. (Per)', 'Seminario L. (Per)', 'Villegas H. (Per)', 'Ortega K. (Arg)', 'Menendez A. (Per)', 'Ortega K. (Per)', 'Cartagena J. (Per)', 'Garay L. (Per)', 'Perez R. B. (Per)', 'Ordonez E. (Per)', 'Estadio Miguel Grau (Piura)', 'Legario F. (Per)', 'Alarcon J. (Per)', 'Espinoza J. (Per)', 'Alarcon J. (Per)', 'Estadio Miguel Grau (Callao)', 'Villegas H. (Per)', 'Cartagena J. (Per)', 'Perez R. B. (Per)', 'Ortega K. (Per)', 'Ordonez E. (Per)', 'Espinoza M. (Per)', 'Estadio Monumental (Lima)', 'Alarcon J. (Per)', 'Espinoza J. (Per)', 'Garay Evia L. (Per)', 'Ordonez E. (Per)', 'Menendez A. (Per)', 'Huaman D. (Per)', 'Perez R. B. (Per)', 'Seminario L. (Per)', 'Mendoza J. (Per)', 'Alarcon J. (Per)', 'Ordonez E. (Per)', 'Espinoza J. (Per)', 'Menendez A. (Per)', 'Cartagena J. (Per)', 'Perez R. B. (Per)', 'Lopez R. (Per)', 'Garay L. (Per)', 'Garay Evia L. (Per)', 0, 'Alarcon J. (Per)', 'Zamora J. (Per)', 'Espinoza J. (Per)', 'Seminario L. (Per)', 'Ordonez E. (Per)', 'Lopez P. (Per)', 'Espinoza M. (Per)', 'Alarcon J. (Per)', 'Barbagelatta G. (Per)', 'Estadio Alejandro Villanueva (Lima)', 'Ordonez E. (Per)', 0, 0, 0, 'Palomino M. (Per)', 'Legario F. (Per)', 'Espinoza J. (Per)', 'Estadio Huancayo (Huancayo)', 'Espinoza M. (Per)', 'Huaman D. (Per)', 'Perez R. B. (Per)', 'Legario F. (Per)', 'Garay L. (Per)', 'Ordonez E. (Per)', 'Cartagena J. (Per)', 'Espinoza M. (Per)', 'Cartagena J. (Per)', 0, 'Perez R. B. (Per)', 'Lopez R. (Per)', 'Ordonez E. (Per)', 'Espinoza J. (Per)', 'Huaman D. (Per)', 'Legario F. (Per)', 'Barbagelatta G. (Per)', 'Perez R. B. (Per)', 'Alarcon J. (Per)', 'Espinoza M. (Per)', 'Legario F. (Per)', 'Cartagena J. (Per)', 'Espinoza J. (Per)', 'Palomino M. (Per)', 0, 0, 0, 0, 0, 0, 0, 0, 0]\n",
      "Termino 209\n",
      "['Perez R. B. (Per)', 'Quiroz J. C. (Per)', 'Villegas H. (Per)', 'Lozano S. (Per)', 'Ortega K. (Per)', 'Menendez A. (Per)', 'Espinoza J. (Per)', 'Vasquez B. (Per)', 'Huamani J. (Per)', 'Lopez Ramos P. (Esp)', 'Garay L. (Per)', 'Ureta D. (Per)', 'Zamora J. (Per)', 'Alarcon J. (Per)', 'Cartagena J. (Per)', 'Villegas H. (Per)', 'Cori V. (Per)', 'Villanueva A. (Per)', 'Legario F. (Per)', 'Blas W. (Per)', 'Seminario L. (Per)', 'Perez R. B. (Per)', 'Ureta D. (Per)', 'Lozano S. (Per)', 'Ortega K. (Per)', 'Garay L. (Per)', 'Lopez Ramos P. (Esp)', 'Segura R. (Per)', 'Espinoza M. (Per)', 'Ordonez E. (Per)', 'Quiroz J. C. (Per)', 'Alarcon J. (Per)', 'Perez R. B. (Per)', 'Espinoza M. (Per)', 'Ortega K. (Per)', 'Ordonez E. (Per)', 'Espinoza J. (Per)', 'Huamani J. (Per)', 'Blas A. (Per)', 'Lopez P. (Per)', 'Seminario L. (Per)', 'Barbagelatta G. (Per)', 'Garay Evia L. (Per)', 'Lozano S. (Per)', 'Huaman D. (Per)', 'Vasquez B. (Per)', 'Legario F. (Per)', 'Villegas H. (Per)', 'Garay L. (Per)', 'Ureta D. (Per)', 'Espinoza M. (Per)', 'Cartagena J. (Per)', 'Cori V. (Per)', 'Ordonez E. (Per)', 'Estadio Inca Garcilaso de la Vega (Cusco)', 'Villanueva A. (Per)', 'Alarcon J. (Per)', 'Ciriaco L. (Per)', 'Lozano C. (Arg)', 'Alarcon J. (Per)', 'Perez R. B. (Per)', 'Villegas H. (Per)', 'Seminario L. (Per)', 'Ordonez E. (Per)', 'Cartagena J. (Per)', 'Chambi J. (Per)', 'Perez R. B. (Per)', 'Espinoza M. (Per)', 'Segura R. (Per)', 'Espinoza J. (Per)', 'Ureta D. (Per)', 'Garay L. (Per)', 'Quiroz J. (Per)', 'Estadio Inca Garcilaso de la Vega (Cusco)', 'Estadio Iván Elías Moreno (Lima)', 'Zamora J. (Per)', 'Lopez Ramos P. (Esp)', 'Garay L. (Per)', 'Perez R. B. (Per)', 'Ordonez E. (Per)', 'Espinoza M. (Per)', 'Zamora J. (Per)', 0, 0, 'Estadio San Martin de Porres (Lima)', 'Alarcon J. (Per)', 'Perez R. B. (Per)', 'Villanueva A. (Per)', 'Villegas H. (Per)', 'Lopez P. (Per)', 'Ortega K. (Per)', 'Zamora J. (Per)', 'Vasquez B. (Per)', 'Garay L. (Per)', 'Lopez R. (Per)', 'Espinoza J. (Per)', 0, 0, 'Alarcon J. (Per)', 'Ortega K. (Per)', 'Ureta D. (Per)', 'Seminario L. (Per)', 'Lozano Segado J. (Esp)', 'Barbagelatta G. (Per)', 'Perez R. B. (Per)', 'Legario F. (Per)', 'Ortega K. (Per)', 'Alarcon J. (Per)', 'Seminario L. (Per)', 'Lopez P. (Per)', 'Estadio Monumental (Lima)', 'Menendez A. (Per)', 'Legario F. (Per)', 'Barbagelatta G. (Per)', 'Cartagena J. (Per)', 'Villegas H. (Per)', 'Huaman D. (Per)', 'Seminario L. (Per)', 'Alarcon J. (Per)', 'Espinoza M. (Per)', 'Menendez A. (Per)', 'Espinoza M. (Per)', 'Garay Evia L. (Per)', 'Ureta D. (Per)', 'Ciriaco L. (Per)', 0, 'Espinoza J. (Per)', 'Seminario L. (Per)', 'Villegas H. (Per)', 'Ortega K. (Arg)', 'Menendez A. (Per)', 'Ortega K. (Per)', 'Cartagena J. (Per)', 'Garay L. (Per)', 'Perez R. B. (Per)', 'Ordonez E. (Per)', 'Estadio Miguel Grau (Piura)', 'Legario F. (Per)', 'Alarcon J. (Per)', 'Espinoza J. (Per)', 'Alarcon J. (Per)', 'Estadio Miguel Grau (Callao)', 'Villegas H. (Per)', 'Cartagena J. (Per)', 'Perez R. B. (Per)', 'Ortega K. (Per)', 'Ordonez E. (Per)', 'Espinoza M. (Per)', 'Estadio Monumental (Lima)', 'Alarcon J. (Per)', 'Espinoza J. (Per)', 'Garay Evia L. (Per)', 'Ordonez E. (Per)', 'Menendez A. (Per)', 'Huaman D. (Per)', 'Perez R. B. (Per)', 'Seminario L. (Per)', 'Mendoza J. (Per)', 'Alarcon J. (Per)', 'Ordonez E. (Per)', 'Espinoza J. (Per)', 'Menendez A. (Per)', 'Cartagena J. (Per)', 'Perez R. B. (Per)', 'Lopez R. (Per)', 'Garay L. (Per)', 'Garay Evia L. (Per)', 0, 'Alarcon J. (Per)', 'Zamora J. (Per)', 'Espinoza J. (Per)', 'Seminario L. (Per)', 'Ordonez E. (Per)', 'Lopez P. (Per)', 'Espinoza M. (Per)', 'Alarcon J. (Per)', 'Barbagelatta G. (Per)', 'Estadio Alejandro Villanueva (Lima)', 'Ordonez E. (Per)', 0, 0, 0, 'Palomino M. (Per)', 'Legario F. (Per)', 'Espinoza J. (Per)', 'Estadio Huancayo (Huancayo)', 'Espinoza M. (Per)', 'Huaman D. (Per)', 'Perez R. B. (Per)', 'Legario F. (Per)', 'Garay L. (Per)', 'Ordonez E. (Per)', 'Cartagena J. (Per)', 'Espinoza M. (Per)', 'Cartagena J. (Per)', 0, 'Perez R. B. (Per)', 'Lopez R. (Per)', 'Ordonez E. (Per)', 'Espinoza J. (Per)', 'Huaman D. (Per)', 'Legario F. (Per)', 'Barbagelatta G. (Per)', 'Perez R. B. (Per)', 'Alarcon J. (Per)', 'Espinoza M. (Per)', 'Legario F. (Per)', 'Cartagena J. (Per)', 'Espinoza J. (Per)', 'Palomino M. (Per)', 0, 0, 0, 0, 0, 0, 0, 0, 0]\n",
      "Termino 95\n",
      "['Perez R. B. (Per)', 'Quiroz J. C. (Per)', 'Villegas H. (Per)', 'Lozano S. (Per)', 'Ortega K. (Per)', 'Menendez A. (Per)', 'Espinoza J. (Per)', 'Vasquez B. (Per)', 'Huamani J. (Per)', 'Lopez Ramos P. (Esp)', 'Garay L. (Per)', 'Ureta D. (Per)', 'Zamora J. (Per)', 'Alarcon J. (Per)', 'Cartagena J. (Per)', 'Villegas H. (Per)', 'Cori V. (Per)', 'Villanueva A. (Per)', 'Legario F. (Per)', 'Blas W. (Per)', 'Seminario L. (Per)', 'Perez R. B. (Per)', 'Ureta D. (Per)', 'Lozano S. (Per)', 'Ortega K. (Per)', 'Garay L. (Per)', 'Lopez Ramos P. (Esp)', 'Segura R. (Per)', 'Espinoza M. (Per)', 'Ordonez E. (Per)', 'Quiroz J. C. (Per)', 'Alarcon J. (Per)', 'Perez R. B. (Per)', 'Espinoza M. (Per)', 'Ortega K. (Per)', 'Ordonez E. (Per)', 'Espinoza J. (Per)', 'Huamani J. (Per)', 'Blas A. (Per)', 'Lopez P. (Per)', 'Seminario L. (Per)', 'Barbagelatta G. (Per)', 'Garay Evia L. (Per)', 'Lozano S. (Per)', 'Huaman D. (Per)', 'Vasquez B. (Per)', 'Legario F. (Per)', 'Villegas H. (Per)', 'Garay L. (Per)', 'Ureta D. (Per)', 'Espinoza M. (Per)', 'Cartagena J. (Per)', 'Cori V. (Per)', 'Ordonez E. (Per)', 'Estadio Inca Garcilaso de la Vega (Cusco)', 'Villanueva A. (Per)', 'Alarcon J. (Per)', 'Ciriaco L. (Per)', 'Lozano C. (Arg)', 'Alarcon J. (Per)', 'Perez R. B. (Per)', 'Villegas H. (Per)', 'Seminario L. (Per)', 'Ordonez E. (Per)', 'Cartagena J. (Per)', 'Chambi J. (Per)', 'Perez R. B. (Per)', 'Espinoza M. (Per)', 'Segura R. (Per)', 'Espinoza J. (Per)', 'Ureta D. (Per)', 'Garay L. (Per)', 'Quiroz J. (Per)', 'Estadio Inca Garcilaso de la Vega (Cusco)', 'Estadio Iván Elías Moreno (Lima)', 'Zamora J. (Per)', 'Lopez Ramos P. (Esp)', 'Garay L. (Per)', 'Perez R. B. (Per)', 'Ordonez E. (Per)', 'Espinoza M. (Per)', 'Zamora J. (Per)', 0, 0, 'Estadio San Martin de Porres (Lima)', 'Alarcon J. (Per)', 'Perez R. B. (Per)', 'Villanueva A. (Per)', 'Villegas H. (Per)', 'Lopez P. (Per)', 'Ortega K. (Per)', 'Zamora J. (Per)', 'Vasquez B. (Per)', 'Garay L. (Per)', 'Lopez R. (Per)', 'Espinoza J. (Per)', 0, 0, 'Alarcon J. (Per)', 'Ortega K. (Per)', 'Ureta D. (Per)', 'Seminario L. (Per)', 'Lozano Segado J. (Esp)', 'Barbagelatta G. (Per)', 'Perez R. B. (Per)', 'Legario F. (Per)', 'Ortega K. (Per)', 'Alarcon J. (Per)', 'Seminario L. (Per)', 'Lopez P. (Per)', 'Estadio Monumental (Lima)', 'Menendez A. (Per)', 'Legario F. (Per)', 'Barbagelatta G. (Per)', 'Cartagena J. (Per)', 'Villegas H. (Per)', 'Huaman D. (Per)', 'Seminario L. (Per)', 'Alarcon J. (Per)', 'Espinoza M. (Per)', 'Menendez A. (Per)', 'Espinoza M. (Per)', 'Garay Evia L. (Per)', 'Ureta D. (Per)', 'Ciriaco L. (Per)', 0, 'Espinoza J. (Per)', 'Seminario L. (Per)', 'Villegas H. (Per)', 'Ortega K. (Arg)', 'Menendez A. (Per)', 'Ortega K. (Per)', 'Cartagena J. (Per)', 'Garay L. (Per)', 'Perez R. B. (Per)', 'Ordonez E. (Per)', 'Estadio Miguel Grau (Piura)', 'Legario F. (Per)', 'Alarcon J. (Per)', 'Espinoza J. (Per)', 'Alarcon J. (Per)', 'Estadio Miguel Grau (Callao)', 'Villegas H. (Per)', 'Cartagena J. (Per)', 'Perez R. B. (Per)', 'Ortega K. (Per)', 'Ordonez E. (Per)', 'Espinoza M. (Per)', 'Estadio Monumental (Lima)', 'Alarcon J. (Per)', 'Espinoza J. (Per)', 'Garay Evia L. (Per)', 'Ordonez E. (Per)', 'Menendez A. (Per)', 'Huaman D. (Per)', 'Perez R. B. (Per)', 'Seminario L. (Per)', 'Mendoza J. (Per)', 'Alarcon J. (Per)', 'Ordonez E. (Per)', 'Espinoza J. (Per)', 'Menendez A. (Per)', 'Cartagena J. (Per)', 'Perez R. B. (Per)', 'Lopez R. (Per)', 'Garay L. (Per)', 'Garay Evia L. (Per)', 'Legario F. (Per)', 'Alarcon J. (Per)', 'Zamora J. (Per)', 'Espinoza J. (Per)', 'Seminario L. (Per)', 'Ordonez E. (Per)', 'Lopez P. (Per)', 'Espinoza M. (Per)', 'Alarcon J. (Per)', 'Barbagelatta G. (Per)', 'Estadio Alejandro Villanueva (Lima)', 'Ordonez E. (Per)', 0, 0, 0, 'Palomino M. (Per)', 'Legario F. (Per)', 'Espinoza J. (Per)', 'Estadio Huancayo (Huancayo)', 'Espinoza M. (Per)', 'Huaman D. (Per)', 'Perez R. B. (Per)', 'Legario F. (Per)', 'Garay L. (Per)', 'Ordonez E. (Per)', 'Cartagena J. (Per)', 'Espinoza M. (Per)', 'Cartagena J. (Per)', 0, 'Perez R. B. (Per)', 'Lopez R. (Per)', 'Ordonez E. (Per)', 'Espinoza J. (Per)', 'Huaman D. (Per)', 'Legario F. (Per)', 'Barbagelatta G. (Per)', 'Perez R. B. (Per)', 'Alarcon J. (Per)', 'Espinoza M. (Per)', 'Legario F. (Per)', 'Cartagena J. (Per)', 'Espinoza J. (Per)', 'Palomino M. (Per)', 0, 0, 0, 0, 0, 0, 0, 0, 0]\n",
      "\n"
     ]
    },
    {
     "name": "stderr",
     "output_type": "stream",
     "text": [
      "[WDM] - ====== WebDriver manager ======\n",
      "[WDM] - Current google-chrome version is 104.0.5112\n",
      "[WDM] - Get LATEST chromedriver version for 104.0.5112 google-chrome\n",
      "[WDM] - Driver [C:\\Users\\PC-1\\.wdm\\drivers\\chromedriver\\win32\\104.0.5112.79\\chromedriver.exe] found in cache\n",
      "[WDM] - Current google-chrome version is 104.0.5112\n",
      "[WDM] - Get LATEST chromedriver version for 104.0.5112 google-chrome\n",
      "[WDM] - Driver [C:\\Users\\PC-1\\.wdm\\drivers\\chromedriver\\win32\\104.0.5112.79\\chromedriver.exe] found in cache\n"
     ]
    },
    {
     "name": "stdout",
     "output_type": "stream",
     "text": [
      "Termino 41\n",
      "['Perez R. B. (Per)', 'Quiroz J. C. (Per)', 'Villegas H. (Per)', 'Lozano S. (Per)', 'Ortega K. (Per)', 'Menendez A. (Per)', 'Espinoza J. (Per)', 'Vasquez B. (Per)', 'Huamani J. (Per)', 'Lopez Ramos P. (Esp)', 'Garay L. (Per)', 'Ureta D. (Per)', 'Zamora J. (Per)', 'Alarcon J. (Per)', 'Cartagena J. (Per)', 'Villegas H. (Per)', 'Cori V. (Per)', 'Villanueva A. (Per)', 'Legario F. (Per)', 'Blas W. (Per)', 'Seminario L. (Per)', 'Perez R. B. (Per)', 'Ureta D. (Per)', 'Lozano S. (Per)', 'Ortega K. (Per)', 'Garay L. (Per)', 'Lopez Ramos P. (Esp)', 'Segura R. (Per)', 'Espinoza M. (Per)', 'Ordonez E. (Per)', 'Quiroz J. C. (Per)', 'Alarcon J. (Per)', 'Perez R. B. (Per)', 'Espinoza M. (Per)', 'Ortega K. (Per)', 'Ordonez E. (Per)', 'Espinoza J. (Per)', 'Huamani J. (Per)', 'Blas A. (Per)', 'Lopez P. (Per)', 'Seminario L. (Per)', 'Barbagelatta G. (Per)', 'Garay Evia L. (Per)', 'Lozano S. (Per)', 'Huaman D. (Per)', 'Vasquez B. (Per)', 'Legario F. (Per)', 'Villegas H. (Per)', 'Garay L. (Per)', 'Ureta D. (Per)', 'Espinoza M. (Per)', 'Cartagena J. (Per)', 'Cori V. (Per)', 'Ordonez E. (Per)', 'Estadio Inca Garcilaso de la Vega (Cusco)', 'Villanueva A. (Per)', 'Alarcon J. (Per)', 'Ciriaco L. (Per)', 'Lozano C. (Arg)', 'Alarcon J. (Per)', 'Perez R. B. (Per)', 'Villegas H. (Per)', 'Seminario L. (Per)', 'Ordonez E. (Per)', 'Cartagena J. (Per)', 'Chambi J. (Per)', 'Perez R. B. (Per)', 'Espinoza M. (Per)', 'Segura R. (Per)', 'Espinoza J. (Per)', 'Ureta D. (Per)', 'Garay L. (Per)', 'Quiroz J. (Per)', 'Estadio Inca Garcilaso de la Vega (Cusco)', 'Estadio Iván Elías Moreno (Lima)', 'Zamora J. (Per)', 'Lopez Ramos P. (Esp)', 'Garay L. (Per)', 'Perez R. B. (Per)', 'Ordonez E. (Per)', 'Espinoza M. (Per)', 'Zamora J. (Per)', 0, 0, 'Estadio San Martin de Porres (Lima)', 'Alarcon J. (Per)', 'Perez R. B. (Per)', 'Villanueva A. (Per)', 'Villegas H. (Per)', 'Lopez P. (Per)', 'Ortega K. (Per)', 'Zamora J. (Per)', 'Vasquez B. (Per)', 'Garay L. (Per)', 'Lopez R. (Per)', 'Espinoza J. (Per)', 0, 0, 'Alarcon J. (Per)', 'Ortega K. (Per)', 'Ureta D. (Per)', 'Seminario L. (Per)', 'Lozano Segado J. (Esp)', 'Barbagelatta G. (Per)', 'Perez R. B. (Per)', 'Legario F. (Per)', 'Ortega K. (Per)', 'Alarcon J. (Per)', 'Seminario L. (Per)', 'Lopez P. (Per)', 'Estadio Monumental (Lima)', 'Menendez A. (Per)', 'Legario F. (Per)', 'Barbagelatta G. (Per)', 'Cartagena J. (Per)', 'Villegas H. (Per)', 'Huaman D. (Per)', 'Seminario L. (Per)', 'Alarcon J. (Per)', 'Espinoza M. (Per)', 'Menendez A. (Per)', 'Espinoza M. (Per)', 'Garay Evia L. (Per)', 'Ureta D. (Per)', 'Ciriaco L. (Per)', 'Cartagena J. (Per)', 'Espinoza J. (Per)', 'Seminario L. (Per)', 'Villegas H. (Per)', 'Ortega K. (Arg)', 'Menendez A. (Per)', 'Ortega K. (Per)', 'Cartagena J. (Per)', 'Garay L. (Per)', 'Perez R. B. (Per)', 'Ordonez E. (Per)', 'Estadio Miguel Grau (Piura)', 'Legario F. (Per)', 'Alarcon J. (Per)', 'Espinoza J. (Per)', 'Alarcon J. (Per)', 'Estadio Miguel Grau (Callao)', 'Villegas H. (Per)', 'Cartagena J. (Per)', 'Perez R. B. (Per)', 'Ortega K. (Per)', 'Ordonez E. (Per)', 'Espinoza M. (Per)', 'Estadio Monumental (Lima)', 'Alarcon J. (Per)', 'Espinoza J. (Per)', 'Garay Evia L. (Per)', 'Ordonez E. (Per)', 'Menendez A. (Per)', 'Huaman D. (Per)', 'Perez R. B. (Per)', 'Seminario L. (Per)', 'Mendoza J. (Per)', 'Alarcon J. (Per)', 'Ordonez E. (Per)', 'Espinoza J. (Per)', 'Menendez A. (Per)', 'Cartagena J. (Per)', 'Perez R. B. (Per)', 'Lopez R. (Per)', 'Garay L. (Per)', 'Garay Evia L. (Per)', 'Legario F. (Per)', 'Alarcon J. (Per)', 'Zamora J. (Per)', 'Espinoza J. (Per)', 'Seminario L. (Per)', 'Ordonez E. (Per)', 'Lopez P. (Per)', 'Espinoza M. (Per)', 'Alarcon J. (Per)', 'Barbagelatta G. (Per)', 'Estadio Alejandro Villanueva (Lima)', 'Ordonez E. (Per)', 0, 0, 0, 'Palomino M. (Per)', 'Legario F. (Per)', 'Espinoza J. (Per)', 'Estadio Huancayo (Huancayo)', 'Espinoza M. (Per)', 'Huaman D. (Per)', 'Perez R. B. (Per)', 'Legario F. (Per)', 'Garay L. (Per)', 'Ordonez E. (Per)', 'Cartagena J. (Per)', 'Espinoza M. (Per)', 'Cartagena J. (Per)', 0, 'Perez R. B. (Per)', 'Lopez R. (Per)', 'Ordonez E. (Per)', 'Espinoza J. (Per)', 'Huaman D. (Per)', 'Legario F. (Per)', 'Barbagelatta G. (Per)', 'Perez R. B. (Per)', 'Alarcon J. (Per)', 'Espinoza M. (Per)', 'Legario F. (Per)', 'Cartagena J. (Per)', 'Espinoza J. (Per)', 'Palomino M. (Per)', 0, 0, 0, 0, 0, 0, 0, 0, 0]\n",
      "Termino 153\n",
      "['Perez R. B. (Per)', 'Quiroz J. C. (Per)', 'Villegas H. (Per)', 'Lozano S. (Per)', 'Ortega K. (Per)', 'Menendez A. (Per)', 'Espinoza J. (Per)', 'Vasquez B. (Per)', 'Huamani J. (Per)', 'Lopez Ramos P. (Esp)', 'Garay L. (Per)', 'Ureta D. (Per)', 'Zamora J. (Per)', 'Alarcon J. (Per)', 'Cartagena J. (Per)', 'Villegas H. (Per)', 'Cori V. (Per)', 'Villanueva A. (Per)', 'Legario F. (Per)', 'Blas W. (Per)', 'Seminario L. (Per)', 'Perez R. B. (Per)', 'Ureta D. (Per)', 'Lozano S. (Per)', 'Ortega K. (Per)', 'Garay L. (Per)', 'Lopez Ramos P. (Esp)', 'Segura R. (Per)', 'Espinoza M. (Per)', 'Ordonez E. (Per)', 'Quiroz J. C. (Per)', 'Alarcon J. (Per)', 'Perez R. B. (Per)', 'Espinoza M. (Per)', 'Ortega K. (Per)', 'Ordonez E. (Per)', 'Espinoza J. (Per)', 'Huamani J. (Per)', 'Blas A. (Per)', 'Lopez P. (Per)', 'Seminario L. (Per)', 'Barbagelatta G. (Per)', 'Garay Evia L. (Per)', 'Lozano S. (Per)', 'Huaman D. (Per)', 'Vasquez B. (Per)', 'Legario F. (Per)', 'Villegas H. (Per)', 'Garay L. (Per)', 'Ureta D. (Per)', 'Espinoza M. (Per)', 'Cartagena J. (Per)', 'Cori V. (Per)', 'Ordonez E. (Per)', 'Estadio Inca Garcilaso de la Vega (Cusco)', 'Villanueva A. (Per)', 'Alarcon J. (Per)', 'Ciriaco L. (Per)', 'Lozano C. (Arg)', 'Alarcon J. (Per)', 'Perez R. B. (Per)', 'Villegas H. (Per)', 'Seminario L. (Per)', 'Ordonez E. (Per)', 'Cartagena J. (Per)', 'Chambi J. (Per)', 'Perez R. B. (Per)', 'Espinoza M. (Per)', 'Segura R. (Per)', 'Espinoza J. (Per)', 'Ureta D. (Per)', 'Garay L. (Per)', 'Quiroz J. (Per)', 'Estadio Inca Garcilaso de la Vega (Cusco)', 'Estadio Iván Elías Moreno (Lima)', 'Zamora J. (Per)', 'Lopez Ramos P. (Esp)', 'Garay L. (Per)', 'Perez R. B. (Per)', 'Ordonez E. (Per)', 'Espinoza M. (Per)', 'Zamora J. (Per)', 0, 0, 'Estadio San Martin de Porres (Lima)', 'Alarcon J. (Per)', 'Perez R. B. (Per)', 'Villanueva A. (Per)', 'Villegas H. (Per)', 'Lopez P. (Per)', 'Ortega K. (Per)', 'Zamora J. (Per)', 'Vasquez B. (Per)', 'Garay L. (Per)', 'Lopez R. (Per)', 'Espinoza J. (Per)', 0, 0, 'Alarcon J. (Per)', 'Ortega K. (Per)', 'Ureta D. (Per)', 'Seminario L. (Per)', 'Lozano Segado J. (Esp)', 'Barbagelatta G. (Per)', 'Perez R. B. (Per)', 'Legario F. (Per)', 'Ortega K. (Per)', 'Alarcon J. (Per)', 'Seminario L. (Per)', 'Lopez P. (Per)', 'Estadio Monumental (Lima)', 'Menendez A. (Per)', 'Legario F. (Per)', 'Barbagelatta G. (Per)', 'Cartagena J. (Per)', 'Villegas H. (Per)', 'Huaman D. (Per)', 'Seminario L. (Per)', 'Alarcon J. (Per)', 'Espinoza M. (Per)', 'Menendez A. (Per)', 'Espinoza M. (Per)', 'Garay Evia L. (Per)', 'Ureta D. (Per)', 'Ciriaco L. (Per)', 'Cartagena J. (Per)', 'Espinoza J. (Per)', 'Seminario L. (Per)', 'Villegas H. (Per)', 'Ortega K. (Arg)', 'Menendez A. (Per)', 'Ortega K. (Per)', 'Cartagena J. (Per)', 'Garay L. (Per)', 'Perez R. B. (Per)', 'Ordonez E. (Per)', 'Estadio Miguel Grau (Piura)', 'Legario F. (Per)', 'Alarcon J. (Per)', 'Espinoza J. (Per)', 'Alarcon J. (Per)', 'Estadio Miguel Grau (Callao)', 'Villegas H. (Per)', 'Cartagena J. (Per)', 'Perez R. B. (Per)', 'Ortega K. (Per)', 'Ordonez E. (Per)', 'Espinoza M. (Per)', 'Estadio Monumental (Lima)', 'Alarcon J. (Per)', 'Espinoza J. (Per)', 'Garay Evia L. (Per)', 'Ordonez E. (Per)', 'Menendez A. (Per)', 'Huaman D. (Per)', 'Perez R. B. (Per)', 'Seminario L. (Per)', 'Mendoza J. (Per)', 'Alarcon J. (Per)', 'Ordonez E. (Per)', 'Espinoza J. (Per)', 'Menendez A. (Per)', 'Cartagena J. (Per)', 'Perez R. B. (Per)', 'Lopez R. (Per)', 'Garay L. (Per)', 'Garay Evia L. (Per)', 'Legario F. (Per)', 'Alarcon J. (Per)', 'Zamora J. (Per)', 'Espinoza J. (Per)', 'Seminario L. (Per)', 'Ordonez E. (Per)', 'Lopez P. (Per)', 'Espinoza M. (Per)', 'Alarcon J. (Per)', 'Barbagelatta G. (Per)', 'Estadio Alejandro Villanueva (Lima)', 'Ordonez E. (Per)', 'Villegas H. (Per)', 0, 0, 'Palomino M. (Per)', 'Legario F. (Per)', 'Espinoza J. (Per)', 'Estadio Huancayo (Huancayo)', 'Espinoza M. (Per)', 'Huaman D. (Per)', 'Perez R. B. (Per)', 'Legario F. (Per)', 'Garay L. (Per)', 'Ordonez E. (Per)', 'Cartagena J. (Per)', 'Espinoza M. (Per)', 'Cartagena J. (Per)', 0, 'Perez R. B. (Per)', 'Lopez R. (Per)', 'Ordonez E. (Per)', 'Espinoza J. (Per)', 'Huaman D. (Per)', 'Legario F. (Per)', 'Barbagelatta G. (Per)', 'Perez R. B. (Per)', 'Alarcon J. (Per)', 'Espinoza M. (Per)', 'Legario F. (Per)', 'Cartagena J. (Per)', 'Espinoza J. (Per)', 'Palomino M. (Per)', 0, 0, 0, 0, 0, 0, 0, 0, 0]\n",
      "Termino 167\n",
      "['Perez R. B. (Per)', 'Quiroz J. C. (Per)', 'Villegas H. (Per)', 'Lozano S. (Per)', 'Ortega K. (Per)', 'Menendez A. (Per)', 'Espinoza J. (Per)', 'Vasquez B. (Per)', 'Huamani J. (Per)', 'Lopez Ramos P. (Esp)', 'Garay L. (Per)', 'Ureta D. (Per)', 'Zamora J. (Per)', 'Alarcon J. (Per)', 'Cartagena J. (Per)', 'Villegas H. (Per)', 'Cori V. (Per)', 'Villanueva A. (Per)', 'Legario F. (Per)', 'Blas W. (Per)', 'Seminario L. (Per)', 'Perez R. B. (Per)', 'Ureta D. (Per)', 'Lozano S. (Per)', 'Ortega K. (Per)', 'Garay L. (Per)', 'Lopez Ramos P. (Esp)', 'Segura R. (Per)', 'Espinoza M. (Per)', 'Ordonez E. (Per)', 'Quiroz J. C. (Per)', 'Alarcon J. (Per)', 'Perez R. B. (Per)', 'Espinoza M. (Per)', 'Ortega K. (Per)', 'Ordonez E. (Per)', 'Espinoza J. (Per)', 'Huamani J. (Per)', 'Blas A. (Per)', 'Lopez P. (Per)', 'Seminario L. (Per)', 'Barbagelatta G. (Per)', 'Garay Evia L. (Per)', 'Lozano S. (Per)', 'Huaman D. (Per)', 'Vasquez B. (Per)', 'Legario F. (Per)', 'Villegas H. (Per)', 'Garay L. (Per)', 'Ureta D. (Per)', 'Espinoza M. (Per)', 'Cartagena J. (Per)', 'Cori V. (Per)', 'Ordonez E. (Per)', 'Estadio Inca Garcilaso de la Vega (Cusco)', 'Villanueva A. (Per)', 'Alarcon J. (Per)', 'Ciriaco L. (Per)', 'Lozano C. (Arg)', 'Alarcon J. (Per)', 'Perez R. B. (Per)', 'Villegas H. (Per)', 'Seminario L. (Per)', 'Ordonez E. (Per)', 'Cartagena J. (Per)', 'Chambi J. (Per)', 'Perez R. B. (Per)', 'Espinoza M. (Per)', 'Segura R. (Per)', 'Espinoza J. (Per)', 'Ureta D. (Per)', 'Garay L. (Per)', 'Quiroz J. (Per)', 'Estadio Inca Garcilaso de la Vega (Cusco)', 'Estadio Iván Elías Moreno (Lima)', 'Zamora J. (Per)', 'Lopez Ramos P. (Esp)', 'Garay L. (Per)', 'Perez R. B. (Per)', 'Ordonez E. (Per)', 'Espinoza M. (Per)', 'Zamora J. (Per)', 0, 0, 'Estadio San Martin de Porres (Lima)', 'Alarcon J. (Per)', 'Perez R. B. (Per)', 'Villanueva A. (Per)', 'Villegas H. (Per)', 'Lopez P. (Per)', 'Ortega K. (Per)', 'Zamora J. (Per)', 'Vasquez B. (Per)', 'Garay L. (Per)', 'Lopez R. (Per)', 'Espinoza J. (Per)', 0, 0, 'Alarcon J. (Per)', 'Ortega K. (Per)', 'Ureta D. (Per)', 'Seminario L. (Per)', 'Lozano Segado J. (Esp)', 'Barbagelatta G. (Per)', 'Perez R. B. (Per)', 'Legario F. (Per)', 'Ortega K. (Per)', 'Alarcon J. (Per)', 'Seminario L. (Per)', 'Lopez P. (Per)', 'Estadio Monumental (Lima)', 'Menendez A. (Per)', 'Legario F. (Per)', 'Barbagelatta G. (Per)', 'Cartagena J. (Per)', 'Villegas H. (Per)', 'Huaman D. (Per)', 'Seminario L. (Per)', 'Alarcon J. (Per)', 'Espinoza M. (Per)', 'Menendez A. (Per)', 'Espinoza M. (Per)', 'Garay Evia L. (Per)', 'Ureta D. (Per)', 'Ciriaco L. (Per)', 'Cartagena J. (Per)', 'Espinoza J. (Per)', 'Seminario L. (Per)', 'Villegas H. (Per)', 'Ortega K. (Arg)', 'Menendez A. (Per)', 'Ortega K. (Per)', 'Cartagena J. (Per)', 'Garay L. (Per)', 'Perez R. B. (Per)', 'Ordonez E. (Per)', 'Estadio Miguel Grau (Piura)', 'Legario F. (Per)', 'Alarcon J. (Per)', 'Espinoza J. (Per)', 'Alarcon J. (Per)', 'Estadio Miguel Grau (Callao)', 'Villegas H. (Per)', 'Cartagena J. (Per)', 'Perez R. B. (Per)', 'Ortega K. (Per)', 'Ordonez E. (Per)', 'Espinoza M. (Per)', 'Estadio Monumental (Lima)', 'Alarcon J. (Per)', 'Espinoza J. (Per)', 'Garay Evia L. (Per)', 'Ordonez E. (Per)', 'Menendez A. (Per)', 'Huaman D. (Per)', 'Perez R. B. (Per)', 'Seminario L. (Per)', 'Mendoza J. (Per)', 'Alarcon J. (Per)', 'Ordonez E. (Per)', 'Espinoza J. (Per)', 'Menendez A. (Per)', 'Cartagena J. (Per)', 'Perez R. B. (Per)', 'Lopez R. (Per)', 'Garay L. (Per)', 'Garay Evia L. (Per)', 'Legario F. (Per)', 'Alarcon J. (Per)', 'Zamora J. (Per)', 'Espinoza J. (Per)', 'Seminario L. (Per)', 'Ordonez E. (Per)', 'Lopez P. (Per)', 'Espinoza M. (Per)', 'Alarcon J. (Per)', 'Barbagelatta G. (Per)', 'Estadio Alejandro Villanueva (Lima)', 'Ordonez E. (Per)', 'Villegas H. (Per)', 0, 0, 'Palomino M. (Per)', 'Legario F. (Per)', 'Espinoza J. (Per)', 'Estadio Huancayo (Huancayo)', 'Espinoza M. (Per)', 'Huaman D. (Per)', 'Perez R. B. (Per)', 'Legario F. (Per)', 'Garay L. (Per)', 'Ordonez E. (Per)', 'Cartagena J. (Per)', 'Espinoza M. (Per)', 'Cartagena J. (Per)', 'Alarcon J. (Per)', 'Perez R. B. (Per)', 'Lopez R. (Per)', 'Ordonez E. (Per)', 'Espinoza J. (Per)', 'Huaman D. (Per)', 'Legario F. (Per)', 'Barbagelatta G. (Per)', 'Perez R. B. (Per)', 'Alarcon J. (Per)', 'Espinoza M. (Per)', 'Legario F. (Per)', 'Cartagena J. (Per)', 'Espinoza J. (Per)', 'Palomino M. (Per)', 0, 0, 0, 0, 0, 0, 0, 0, 0]\n",
      "Termino 125\n",
      "['Perez R. B. (Per)', 'Quiroz J. C. (Per)', 'Villegas H. (Per)', 'Lozano S. (Per)', 'Ortega K. (Per)', 'Menendez A. (Per)', 'Espinoza J. (Per)', 'Vasquez B. (Per)', 'Huamani J. (Per)', 'Lopez Ramos P. (Esp)', 'Garay L. (Per)', 'Ureta D. (Per)', 'Zamora J. (Per)', 'Alarcon J. (Per)', 'Cartagena J. (Per)', 'Villegas H. (Per)', 'Cori V. (Per)', 'Villanueva A. (Per)', 'Legario F. (Per)', 'Blas W. (Per)', 'Seminario L. (Per)', 'Perez R. B. (Per)', 'Ureta D. (Per)', 'Lozano S. (Per)', 'Ortega K. (Per)', 'Garay L. (Per)', 'Lopez Ramos P. (Esp)', 'Segura R. (Per)', 'Espinoza M. (Per)', 'Ordonez E. (Per)', 'Quiroz J. C. (Per)', 'Alarcon J. (Per)', 'Perez R. B. (Per)', 'Espinoza M. (Per)', 'Ortega K. (Per)', 'Ordonez E. (Per)', 'Espinoza J. (Per)', 'Huamani J. (Per)', 'Blas A. (Per)', 'Lopez P. (Per)', 'Seminario L. (Per)', 'Barbagelatta G. (Per)', 'Garay Evia L. (Per)', 'Lozano S. (Per)', 'Huaman D. (Per)', 'Vasquez B. (Per)', 'Legario F. (Per)', 'Villegas H. (Per)', 'Garay L. (Per)', 'Ureta D. (Per)', 'Espinoza M. (Per)', 'Cartagena J. (Per)', 'Cori V. (Per)', 'Ordonez E. (Per)', 'Estadio Inca Garcilaso de la Vega (Cusco)', 'Villanueva A. (Per)', 'Alarcon J. (Per)', 'Ciriaco L. (Per)', 'Lozano C. (Arg)', 'Alarcon J. (Per)', 'Perez R. B. (Per)', 'Villegas H. (Per)', 'Seminario L. (Per)', 'Ordonez E. (Per)', 'Cartagena J. (Per)', 'Chambi J. (Per)', 'Perez R. B. (Per)', 'Espinoza M. (Per)', 'Segura R. (Per)', 'Espinoza J. (Per)', 'Ureta D. (Per)', 'Garay L. (Per)', 'Quiroz J. (Per)', 'Estadio Inca Garcilaso de la Vega (Cusco)', 'Estadio Iván Elías Moreno (Lima)', 'Zamora J. (Per)', 'Lopez Ramos P. (Esp)', 'Garay L. (Per)', 'Perez R. B. (Per)', 'Ordonez E. (Per)', 'Espinoza M. (Per)', 'Zamora J. (Per)', 0, 0, 'Estadio San Martin de Porres (Lima)', 'Alarcon J. (Per)', 'Perez R. B. (Per)', 'Villanueva A. (Per)', 'Villegas H. (Per)', 'Lopez P. (Per)', 'Ortega K. (Per)', 'Zamora J. (Per)', 'Vasquez B. (Per)', 'Garay L. (Per)', 'Lopez R. (Per)', 'Espinoza J. (Per)', 0, 0, 'Alarcon J. (Per)', 'Ortega K. (Per)', 'Ureta D. (Per)', 'Seminario L. (Per)', 'Lozano Segado J. (Esp)', 'Barbagelatta G. (Per)', 'Perez R. B. (Per)', 'Legario F. (Per)', 'Ortega K. (Per)', 'Alarcon J. (Per)', 'Seminario L. (Per)', 'Lopez P. (Per)', 'Estadio Monumental (Lima)', 'Menendez A. (Per)', 'Legario F. (Per)', 'Barbagelatta G. (Per)', 'Cartagena J. (Per)', 'Villegas H. (Per)', 'Huaman D. (Per)', 'Seminario L. (Per)', 'Alarcon J. (Per)', 'Espinoza M. (Per)', 'Menendez A. (Per)', 'Espinoza M. (Per)', 'Garay Evia L. (Per)', 'Ureta D. (Per)', 'Ciriaco L. (Per)', 'Cartagena J. (Per)', 'Espinoza J. (Per)', 'Seminario L. (Per)', 'Villegas H. (Per)', 'Ortega K. (Arg)', 'Menendez A. (Per)', 'Ortega K. (Per)', 'Cartagena J. (Per)', 'Garay L. (Per)', 'Perez R. B. (Per)', 'Ordonez E. (Per)', 'Estadio Miguel Grau (Piura)', 'Legario F. (Per)', 'Alarcon J. (Per)', 'Espinoza J. (Per)', 'Alarcon J. (Per)', 'Estadio Miguel Grau (Callao)', 'Villegas H. (Per)', 'Cartagena J. (Per)', 'Perez R. B. (Per)', 'Ortega K. (Per)', 'Ordonez E. (Per)', 'Espinoza M. (Per)', 'Estadio Monumental (Lima)', 'Alarcon J. (Per)', 'Espinoza J. (Per)', 'Garay Evia L. (Per)', 'Ordonez E. (Per)', 'Menendez A. (Per)', 'Huaman D. (Per)', 'Perez R. B. (Per)', 'Seminario L. (Per)', 'Mendoza J. (Per)', 'Alarcon J. (Per)', 'Ordonez E. (Per)', 'Espinoza J. (Per)', 'Menendez A. (Per)', 'Cartagena J. (Per)', 'Perez R. B. (Per)', 'Lopez R. (Per)', 'Garay L. (Per)', 'Garay Evia L. (Per)', 'Legario F. (Per)', 'Alarcon J. (Per)', 'Zamora J. (Per)', 'Espinoza J. (Per)', 'Seminario L. (Per)', 'Ordonez E. (Per)', 'Lopez P. (Per)', 'Espinoza M. (Per)', 'Alarcon J. (Per)', 'Barbagelatta G. (Per)', 'Estadio Alejandro Villanueva (Lima)', 'Ordonez E. (Per)', 'Villegas H. (Per)', 0, 0, 'Palomino M. (Per)', 'Legario F. (Per)', 'Espinoza J. (Per)', 'Estadio Huancayo (Huancayo)', 'Espinoza M. (Per)', 'Huaman D. (Per)', 'Perez R. B. (Per)', 'Legario F. (Per)', 'Garay L. (Per)', 'Ordonez E. (Per)', 'Cartagena J. (Per)', 'Espinoza M. (Per)', 'Cartagena J. (Per)', 'Alarcon J. (Per)', 'Perez R. B. (Per)', 'Lopez R. (Per)', 'Ordonez E. (Per)', 'Espinoza J. (Per)', 'Huaman D. (Per)', 'Legario F. (Per)', 'Barbagelatta G. (Per)', 'Perez R. B. (Per)', 'Alarcon J. (Per)', 'Espinoza M. (Per)', 'Legario F. (Per)', 'Cartagena J. (Per)', 'Espinoza J. (Per)', 'Palomino M. (Per)', 0, 0, 0, 0, 0, 0, 0, 0, 0]\n",
      "Termino 179\n",
      "['Perez R. B. (Per)', 'Quiroz J. C. (Per)', 'Villegas H. (Per)', 'Lozano S. (Per)', 'Ortega K. (Per)', 'Menendez A. (Per)', 'Espinoza J. (Per)', 'Vasquez B. (Per)', 'Huamani J. (Per)', 'Lopez Ramos P. (Esp)', 'Garay L. (Per)', 'Ureta D. (Per)', 'Zamora J. (Per)', 'Alarcon J. (Per)', 'Cartagena J. (Per)', 'Villegas H. (Per)', 'Cori V. (Per)', 'Villanueva A. (Per)', 'Legario F. (Per)', 'Blas W. (Per)', 'Seminario L. (Per)', 'Perez R. B. (Per)', 'Ureta D. (Per)', 'Lozano S. (Per)', 'Ortega K. (Per)', 'Garay L. (Per)', 'Lopez Ramos P. (Esp)', 'Segura R. (Per)', 'Espinoza M. (Per)', 'Ordonez E. (Per)', 'Quiroz J. C. (Per)', 'Alarcon J. (Per)', 'Perez R. B. (Per)', 'Espinoza M. (Per)', 'Ortega K. (Per)', 'Ordonez E. (Per)', 'Espinoza J. (Per)', 'Huamani J. (Per)', 'Blas A. (Per)', 'Lopez P. (Per)', 'Seminario L. (Per)', 'Barbagelatta G. (Per)', 'Garay Evia L. (Per)', 'Lozano S. (Per)', 'Huaman D. (Per)', 'Vasquez B. (Per)', 'Legario F. (Per)', 'Villegas H. (Per)', 'Garay L. (Per)', 'Ureta D. (Per)', 'Espinoza M. (Per)', 'Cartagena J. (Per)', 'Cori V. (Per)', 'Ordonez E. (Per)', 'Estadio Inca Garcilaso de la Vega (Cusco)', 'Villanueva A. (Per)', 'Alarcon J. (Per)', 'Ciriaco L. (Per)', 'Lozano C. (Arg)', 'Alarcon J. (Per)', 'Perez R. B. (Per)', 'Villegas H. (Per)', 'Seminario L. (Per)', 'Ordonez E. (Per)', 'Cartagena J. (Per)', 'Chambi J. (Per)', 'Perez R. B. (Per)', 'Espinoza M. (Per)', 'Segura R. (Per)', 'Espinoza J. (Per)', 'Ureta D. (Per)', 'Garay L. (Per)', 'Quiroz J. (Per)', 'Estadio Inca Garcilaso de la Vega (Cusco)', 'Estadio Iván Elías Moreno (Lima)', 'Zamora J. (Per)', 'Lopez Ramos P. (Esp)', 'Garay L. (Per)', 'Perez R. B. (Per)', 'Ordonez E. (Per)', 'Espinoza M. (Per)', 'Zamora J. (Per)', 0, 0, 'Estadio San Martin de Porres (Lima)', 'Alarcon J. (Per)', 'Perez R. B. (Per)', 'Villanueva A. (Per)', 'Villegas H. (Per)', 'Lopez P. (Per)', 'Ortega K. (Per)', 'Zamora J. (Per)', 'Vasquez B. (Per)', 'Garay L. (Per)', 'Lopez R. (Per)', 'Espinoza J. (Per)', 0, 0, 'Alarcon J. (Per)', 'Ortega K. (Per)', 'Ureta D. (Per)', 'Seminario L. (Per)', 'Lozano Segado J. (Esp)', 'Barbagelatta G. (Per)', 'Perez R. B. (Per)', 'Legario F. (Per)', 'Ortega K. (Per)', 'Alarcon J. (Per)', 'Seminario L. (Per)', 'Lopez P. (Per)', 'Estadio Monumental (Lima)', 'Menendez A. (Per)', 'Legario F. (Per)', 'Barbagelatta G. (Per)', 'Cartagena J. (Per)', 'Villegas H. (Per)', 'Huaman D. (Per)', 'Seminario L. (Per)', 'Alarcon J. (Per)', 'Espinoza M. (Per)', 'Menendez A. (Per)', 'Espinoza M. (Per)', 'Garay Evia L. (Per)', 'Ureta D. (Per)', 'Ciriaco L. (Per)', 'Cartagena J. (Per)', 'Espinoza J. (Per)', 'Seminario L. (Per)', 'Villegas H. (Per)', 'Ortega K. (Arg)', 'Menendez A. (Per)', 'Ortega K. (Per)', 'Cartagena J. (Per)', 'Garay L. (Per)', 'Perez R. B. (Per)', 'Ordonez E. (Per)', 'Estadio Miguel Grau (Piura)', 'Legario F. (Per)', 'Alarcon J. (Per)', 'Espinoza J. (Per)', 'Alarcon J. (Per)', 'Estadio Miguel Grau (Callao)', 'Villegas H. (Per)', 'Cartagena J. (Per)', 'Perez R. B. (Per)', 'Ortega K. (Per)', 'Ordonez E. (Per)', 'Espinoza M. (Per)', 'Estadio Monumental (Lima)', 'Alarcon J. (Per)', 'Espinoza J. (Per)', 'Garay Evia L. (Per)', 'Ordonez E. (Per)', 'Menendez A. (Per)', 'Huaman D. (Per)', 'Perez R. B. (Per)', 'Seminario L. (Per)', 'Mendoza J. (Per)', 'Alarcon J. (Per)', 'Ordonez E. (Per)', 'Espinoza J. (Per)', 'Menendez A. (Per)', 'Cartagena J. (Per)', 'Perez R. B. (Per)', 'Lopez R. (Per)', 'Garay L. (Per)', 'Garay Evia L. (Per)', 'Legario F. (Per)', 'Alarcon J. (Per)', 'Zamora J. (Per)', 'Espinoza J. (Per)', 'Seminario L. (Per)', 'Ordonez E. (Per)', 'Lopez P. (Per)', 'Espinoza M. (Per)', 'Alarcon J. (Per)', 'Barbagelatta G. (Per)', 'Estadio Alejandro Villanueva (Lima)', 'Ordonez E. (Per)', 'Villegas H. (Per)', 0, 0, 'Palomino M. (Per)', 'Legario F. (Per)', 'Espinoza J. (Per)', 'Estadio Huancayo (Huancayo)', 'Espinoza M. (Per)', 'Huaman D. (Per)', 'Perez R. B. (Per)', 'Legario F. (Per)', 'Garay L. (Per)', 'Ordonez E. (Per)', 'Cartagena J. (Per)', 'Espinoza M. (Per)', 'Cartagena J. (Per)', 'Alarcon J. (Per)', 'Perez R. B. (Per)', 'Lopez R. (Per)', 'Ordonez E. (Per)', 'Espinoza J. (Per)', 'Huaman D. (Per)', 'Legario F. (Per)', 'Barbagelatta G. (Per)', 'Perez R. B. (Per)', 'Alarcon J. (Per)', 'Espinoza M. (Per)', 'Legario F. (Per)', 'Cartagena J. (Per)', 'Espinoza J. (Per)', 'Palomino M. (Per)', 0, 0, 0, 0, 0, 0, 0, 0, 0]\n",
      "\n"
     ]
    },
    {
     "name": "stderr",
     "output_type": "stream",
     "text": [
      "[WDM] - ====== WebDriver manager ======\n",
      "[WDM] - Current google-chrome version is 104.0.5112\n",
      "[WDM] - Get LATEST chromedriver version for 104.0.5112 google-chrome\n",
      "[WDM] - Driver [C:\\Users\\PC-1\\.wdm\\drivers\\chromedriver\\win32\\104.0.5112.79\\chromedriver.exe] found in cache\n"
     ]
    },
    {
     "name": "stdout",
     "output_type": "stream",
     "text": [
      "Termino 195\n",
      "['Perez R. B. (Per)', 'Quiroz J. C. (Per)', 'Villegas H. (Per)', 'Lozano S. (Per)', 'Ortega K. (Per)', 'Menendez A. (Per)', 'Espinoza J. (Per)', 'Vasquez B. (Per)', 'Huamani J. (Per)', 'Lopez Ramos P. (Esp)', 'Garay L. (Per)', 'Ureta D. (Per)', 'Zamora J. (Per)', 'Alarcon J. (Per)', 'Cartagena J. (Per)', 'Villegas H. (Per)', 'Cori V. (Per)', 'Villanueva A. (Per)', 'Legario F. (Per)', 'Blas W. (Per)', 'Seminario L. (Per)', 'Perez R. B. (Per)', 'Ureta D. (Per)', 'Lozano S. (Per)', 'Ortega K. (Per)', 'Garay L. (Per)', 'Lopez Ramos P. (Esp)', 'Segura R. (Per)', 'Espinoza M. (Per)', 'Ordonez E. (Per)', 'Quiroz J. C. (Per)', 'Alarcon J. (Per)', 'Perez R. B. (Per)', 'Espinoza M. (Per)', 'Ortega K. (Per)', 'Ordonez E. (Per)', 'Espinoza J. (Per)', 'Huamani J. (Per)', 'Blas A. (Per)', 'Lopez P. (Per)', 'Seminario L. (Per)', 'Barbagelatta G. (Per)', 'Garay Evia L. (Per)', 'Lozano S. (Per)', 'Huaman D. (Per)', 'Vasquez B. (Per)', 'Legario F. (Per)', 'Villegas H. (Per)', 'Garay L. (Per)', 'Ureta D. (Per)', 'Espinoza M. (Per)', 'Cartagena J. (Per)', 'Cori V. (Per)', 'Ordonez E. (Per)', 'Estadio Inca Garcilaso de la Vega (Cusco)', 'Villanueva A. (Per)', 'Alarcon J. (Per)', 'Ciriaco L. (Per)', 'Lozano C. (Arg)', 'Alarcon J. (Per)', 'Perez R. B. (Per)', 'Villegas H. (Per)', 'Seminario L. (Per)', 'Ordonez E. (Per)', 'Cartagena J. (Per)', 'Chambi J. (Per)', 'Perez R. B. (Per)', 'Espinoza M. (Per)', 'Segura R. (Per)', 'Espinoza J. (Per)', 'Ureta D. (Per)', 'Garay L. (Per)', 'Quiroz J. (Per)', 'Estadio Inca Garcilaso de la Vega (Cusco)', 'Estadio Iván Elías Moreno (Lima)', 'Zamora J. (Per)', 'Lopez Ramos P. (Esp)', 'Garay L. (Per)', 'Perez R. B. (Per)', 'Ordonez E. (Per)', 'Espinoza M. (Per)', 'Zamora J. (Per)', 0, 0, 'Estadio San Martin de Porres (Lima)', 'Alarcon J. (Per)', 'Perez R. B. (Per)', 'Villanueva A. (Per)', 'Villegas H. (Per)', 'Lopez P. (Per)', 'Ortega K. (Per)', 'Zamora J. (Per)', 'Vasquez B. (Per)', 'Garay L. (Per)', 'Lopez R. (Per)', 'Espinoza J. (Per)', 0, 0, 'Alarcon J. (Per)', 'Ortega K. (Per)', 'Ureta D. (Per)', 'Seminario L. (Per)', 'Lozano Segado J. (Esp)', 'Barbagelatta G. (Per)', 'Perez R. B. (Per)', 'Legario F. (Per)', 'Ortega K. (Per)', 'Alarcon J. (Per)', 'Seminario L. (Per)', 'Lopez P. (Per)', 'Estadio Monumental (Lima)', 'Menendez A. (Per)', 'Legario F. (Per)', 'Barbagelatta G. (Per)', 'Cartagena J. (Per)', 'Villegas H. (Per)', 'Huaman D. (Per)', 'Seminario L. (Per)', 'Alarcon J. (Per)', 'Espinoza M. (Per)', 'Menendez A. (Per)', 'Espinoza M. (Per)', 'Garay Evia L. (Per)', 'Ureta D. (Per)', 'Ciriaco L. (Per)', 'Cartagena J. (Per)', 'Espinoza J. (Per)', 'Seminario L. (Per)', 'Villegas H. (Per)', 'Ortega K. (Arg)', 'Menendez A. (Per)', 'Ortega K. (Per)', 'Cartagena J. (Per)', 'Garay L. (Per)', 'Perez R. B. (Per)', 'Ordonez E. (Per)', 'Estadio Miguel Grau (Piura)', 'Legario F. (Per)', 'Alarcon J. (Per)', 'Espinoza J. (Per)', 'Alarcon J. (Per)', 'Estadio Miguel Grau (Callao)', 'Villegas H. (Per)', 'Cartagena J. (Per)', 'Perez R. B. (Per)', 'Ortega K. (Per)', 'Ordonez E. (Per)', 'Espinoza M. (Per)', 'Estadio Monumental (Lima)', 'Alarcon J. (Per)', 'Espinoza J. (Per)', 'Garay Evia L. (Per)', 'Ordonez E. (Per)', 'Menendez A. (Per)', 'Huaman D. (Per)', 'Perez R. B. (Per)', 'Seminario L. (Per)', 'Mendoza J. (Per)', 'Alarcon J. (Per)', 'Ordonez E. (Per)', 'Espinoza J. (Per)', 'Menendez A. (Per)', 'Cartagena J. (Per)', 'Perez R. B. (Per)', 'Lopez R. (Per)', 'Garay L. (Per)', 'Garay Evia L. (Per)', 'Legario F. (Per)', 'Alarcon J. (Per)', 'Zamora J. (Per)', 'Espinoza J. (Per)', 'Seminario L. (Per)', 'Ordonez E. (Per)', 'Lopez P. (Per)', 'Espinoza M. (Per)', 'Alarcon J. (Per)', 'Barbagelatta G. (Per)', 'Estadio Alejandro Villanueva (Lima)', 'Ordonez E. (Per)', 'Villegas H. (Per)', 0, 0, 'Palomino M. (Per)', 'Legario F. (Per)', 'Espinoza J. (Per)', 'Estadio Huancayo (Huancayo)', 'Espinoza M. (Per)', 'Huaman D. (Per)', 'Perez R. B. (Per)', 'Legario F. (Per)', 'Garay L. (Per)', 'Ordonez E. (Per)', 'Cartagena J. (Per)', 'Espinoza M. (Per)', 'Cartagena J. (Per)', 'Alarcon J. (Per)', 'Perez R. B. (Per)', 'Lopez R. (Per)', 'Ordonez E. (Per)', 'Espinoza J. (Per)', 'Huaman D. (Per)', 'Legario F. (Per)', 'Barbagelatta G. (Per)', 'Perez R. B. (Per)', 'Alarcon J. (Per)', 'Espinoza M. (Per)', 'Legario F. (Per)', 'Cartagena J. (Per)', 'Espinoza J. (Per)', 'Palomino M. (Per)', 0, 0, 0, 0, 0, 0, 0, 0, 0]\n",
      "Termino 96\n",
      "['Perez R. B. (Per)', 'Quiroz J. C. (Per)', 'Villegas H. (Per)', 'Lozano S. (Per)', 'Ortega K. (Per)', 'Menendez A. (Per)', 'Espinoza J. (Per)', 'Vasquez B. (Per)', 'Huamani J. (Per)', 'Lopez Ramos P. (Esp)', 'Garay L. (Per)', 'Ureta D. (Per)', 'Zamora J. (Per)', 'Alarcon J. (Per)', 'Cartagena J. (Per)', 'Villegas H. (Per)', 'Cori V. (Per)', 'Villanueva A. (Per)', 'Legario F. (Per)', 'Blas W. (Per)', 'Seminario L. (Per)', 'Perez R. B. (Per)', 'Ureta D. (Per)', 'Lozano S. (Per)', 'Ortega K. (Per)', 'Garay L. (Per)', 'Lopez Ramos P. (Esp)', 'Segura R. (Per)', 'Espinoza M. (Per)', 'Ordonez E. (Per)', 'Quiroz J. C. (Per)', 'Alarcon J. (Per)', 'Perez R. B. (Per)', 'Espinoza M. (Per)', 'Ortega K. (Per)', 'Ordonez E. (Per)', 'Espinoza J. (Per)', 'Huamani J. (Per)', 'Blas A. (Per)', 'Lopez P. (Per)', 'Seminario L. (Per)', 'Barbagelatta G. (Per)', 'Garay Evia L. (Per)', 'Lozano S. (Per)', 'Huaman D. (Per)', 'Vasquez B. (Per)', 'Legario F. (Per)', 'Villegas H. (Per)', 'Garay L. (Per)', 'Ureta D. (Per)', 'Espinoza M. (Per)', 'Cartagena J. (Per)', 'Cori V. (Per)', 'Ordonez E. (Per)', 'Estadio Inca Garcilaso de la Vega (Cusco)', 'Villanueva A. (Per)', 'Alarcon J. (Per)', 'Ciriaco L. (Per)', 'Lozano C. (Arg)', 'Alarcon J. (Per)', 'Perez R. B. (Per)', 'Villegas H. (Per)', 'Seminario L. (Per)', 'Ordonez E. (Per)', 'Cartagena J. (Per)', 'Chambi J. (Per)', 'Perez R. B. (Per)', 'Espinoza M. (Per)', 'Segura R. (Per)', 'Espinoza J. (Per)', 'Ureta D. (Per)', 'Garay L. (Per)', 'Quiroz J. (Per)', 'Estadio Inca Garcilaso de la Vega (Cusco)', 'Estadio Iván Elías Moreno (Lima)', 'Zamora J. (Per)', 'Lopez Ramos P. (Esp)', 'Garay L. (Per)', 'Perez R. B. (Per)', 'Ordonez E. (Per)', 'Espinoza M. (Per)', 'Zamora J. (Per)', 'Ureta D. (Per)', 0, 'Estadio San Martin de Porres (Lima)', 'Alarcon J. (Per)', 'Perez R. B. (Per)', 'Villanueva A. (Per)', 'Villegas H. (Per)', 'Lopez P. (Per)', 'Ortega K. (Per)', 'Zamora J. (Per)', 'Vasquez B. (Per)', 'Garay L. (Per)', 'Lopez R. (Per)', 'Espinoza J. (Per)', 'Villegas H. (Per)', 0, 'Alarcon J. (Per)', 'Ortega K. (Per)', 'Ureta D. (Per)', 'Seminario L. (Per)', 'Lozano Segado J. (Esp)', 'Barbagelatta G. (Per)', 'Perez R. B. (Per)', 'Legario F. (Per)', 'Ortega K. (Per)', 'Alarcon J. (Per)', 'Seminario L. (Per)', 'Lopez P. (Per)', 'Estadio Monumental (Lima)', 'Menendez A. (Per)', 'Legario F. (Per)', 'Barbagelatta G. (Per)', 'Cartagena J. (Per)', 'Villegas H. (Per)', 'Huaman D. (Per)', 'Seminario L. (Per)', 'Alarcon J. (Per)', 'Espinoza M. (Per)', 'Menendez A. (Per)', 'Espinoza M. (Per)', 'Garay Evia L. (Per)', 'Ureta D. (Per)', 'Ciriaco L. (Per)', 'Cartagena J. (Per)', 'Espinoza J. (Per)', 'Seminario L. (Per)', 'Villegas H. (Per)', 'Ortega K. (Arg)', 'Menendez A. (Per)', 'Ortega K. (Per)', 'Cartagena J. (Per)', 'Garay L. (Per)', 'Perez R. B. (Per)', 'Ordonez E. (Per)', 'Estadio Miguel Grau (Piura)', 'Legario F. (Per)', 'Alarcon J. (Per)', 'Espinoza J. (Per)', 'Alarcon J. (Per)', 'Estadio Miguel Grau (Callao)', 'Villegas H. (Per)', 'Cartagena J. (Per)', 'Perez R. B. (Per)', 'Ortega K. (Per)', 'Ordonez E. (Per)', 'Espinoza M. (Per)', 'Estadio Monumental (Lima)', 'Alarcon J. (Per)', 'Espinoza J. (Per)', 'Garay Evia L. (Per)', 'Ordonez E. (Per)', 'Menendez A. (Per)', 'Huaman D. (Per)', 'Perez R. B. (Per)', 'Seminario L. (Per)', 'Mendoza J. (Per)', 'Alarcon J. (Per)', 'Ordonez E. (Per)', 'Espinoza J. (Per)', 'Menendez A. (Per)', 'Cartagena J. (Per)', 'Perez R. B. (Per)', 'Lopez R. (Per)', 'Garay L. (Per)', 'Garay Evia L. (Per)', 'Legario F. (Per)', 'Alarcon J. (Per)', 'Zamora J. (Per)', 'Espinoza J. (Per)', 'Seminario L. (Per)', 'Ordonez E. (Per)', 'Lopez P. (Per)', 'Espinoza M. (Per)', 'Alarcon J. (Per)', 'Barbagelatta G. (Per)', 'Estadio Alejandro Villanueva (Lima)', 'Ordonez E. (Per)', 'Villegas H. (Per)', 0, 0, 'Palomino M. (Per)', 'Legario F. (Per)', 'Espinoza J. (Per)', 'Estadio Huancayo (Huancayo)', 'Espinoza M. (Per)', 'Huaman D. (Per)', 'Perez R. B. (Per)', 'Legario F. (Per)', 'Garay L. (Per)', 'Ordonez E. (Per)', 'Cartagena J. (Per)', 'Espinoza M. (Per)', 'Cartagena J. (Per)', 'Alarcon J. (Per)', 'Perez R. B. (Per)', 'Lopez R. (Per)', 'Ordonez E. (Per)', 'Espinoza J. (Per)', 'Huaman D. (Per)', 'Legario F. (Per)', 'Barbagelatta G. (Per)', 'Perez R. B. (Per)', 'Alarcon J. (Per)', 'Espinoza M. (Per)', 'Legario F. (Per)', 'Cartagena J. (Per)', 'Espinoza J. (Per)', 'Palomino M. (Per)', 0, 0, 0, 0, 0, 0, 0, 0, 0]\n",
      "\n"
     ]
    },
    {
     "name": "stderr",
     "output_type": "stream",
     "text": [
      "[WDM] - ====== WebDriver manager ======\n",
      "[WDM] - Current google-chrome version is 104.0.5112\n",
      "[WDM] - Get LATEST chromedriver version for 104.0.5112 google-chrome\n",
      "[WDM] - Driver [C:\\Users\\PC-1\\.wdm\\drivers\\chromedriver\\win32\\104.0.5112.79\\chromedriver.exe] found in cache\n"
     ]
    },
    {
     "name": "stdout",
     "output_type": "stream",
     "text": [
      "Termino 82\n",
      "['Perez R. B. (Per)', 'Quiroz J. C. (Per)', 'Villegas H. (Per)', 'Lozano S. (Per)', 'Ortega K. (Per)', 'Menendez A. (Per)', 'Espinoza J. (Per)', 'Vasquez B. (Per)', 'Huamani J. (Per)', 'Lopez Ramos P. (Esp)', 'Garay L. (Per)', 'Ureta D. (Per)', 'Zamora J. (Per)', 'Alarcon J. (Per)', 'Cartagena J. (Per)', 'Villegas H. (Per)', 'Cori V. (Per)', 'Villanueva A. (Per)', 'Legario F. (Per)', 'Blas W. (Per)', 'Seminario L. (Per)', 'Perez R. B. (Per)', 'Ureta D. (Per)', 'Lozano S. (Per)', 'Ortega K. (Per)', 'Garay L. (Per)', 'Lopez Ramos P. (Esp)', 'Segura R. (Per)', 'Espinoza M. (Per)', 'Ordonez E. (Per)', 'Quiroz J. C. (Per)', 'Alarcon J. (Per)', 'Perez R. B. (Per)', 'Espinoza M. (Per)', 'Ortega K. (Per)', 'Ordonez E. (Per)', 'Espinoza J. (Per)', 'Huamani J. (Per)', 'Blas A. (Per)', 'Lopez P. (Per)', 'Seminario L. (Per)', 'Barbagelatta G. (Per)', 'Garay Evia L. (Per)', 'Lozano S. (Per)', 'Huaman D. (Per)', 'Vasquez B. (Per)', 'Legario F. (Per)', 'Villegas H. (Per)', 'Garay L. (Per)', 'Ureta D. (Per)', 'Espinoza M. (Per)', 'Cartagena J. (Per)', 'Cori V. (Per)', 'Ordonez E. (Per)', 'Estadio Inca Garcilaso de la Vega (Cusco)', 'Villanueva A. (Per)', 'Alarcon J. (Per)', 'Ciriaco L. (Per)', 'Lozano C. (Arg)', 'Alarcon J. (Per)', 'Perez R. B. (Per)', 'Villegas H. (Per)', 'Seminario L. (Per)', 'Ordonez E. (Per)', 'Cartagena J. (Per)', 'Chambi J. (Per)', 'Perez R. B. (Per)', 'Espinoza M. (Per)', 'Segura R. (Per)', 'Espinoza J. (Per)', 'Ureta D. (Per)', 'Garay L. (Per)', 'Quiroz J. (Per)', 'Estadio Inca Garcilaso de la Vega (Cusco)', 'Estadio Iván Elías Moreno (Lima)', 'Zamora J. (Per)', 'Lopez Ramos P. (Esp)', 'Garay L. (Per)', 'Perez R. B. (Per)', 'Ordonez E. (Per)', 'Espinoza M. (Per)', 'Zamora J. (Per)', 'Ureta D. (Per)', 0, 'Estadio San Martin de Porres (Lima)', 'Alarcon J. (Per)', 'Perez R. B. (Per)', 'Villanueva A. (Per)', 'Villegas H. (Per)', 'Lopez P. (Per)', 'Ortega K. (Per)', 'Zamora J. (Per)', 'Vasquez B. (Per)', 'Garay L. (Per)', 'Lopez R. (Per)', 'Espinoza J. (Per)', 'Villegas H. (Per)', 0, 'Alarcon J. (Per)', 'Ortega K. (Per)', 'Ureta D. (Per)', 'Seminario L. (Per)', 'Lozano Segado J. (Esp)', 'Barbagelatta G. (Per)', 'Perez R. B. (Per)', 'Legario F. (Per)', 'Ortega K. (Per)', 'Alarcon J. (Per)', 'Seminario L. (Per)', 'Lopez P. (Per)', 'Estadio Monumental (Lima)', 'Menendez A. (Per)', 'Legario F. (Per)', 'Barbagelatta G. (Per)', 'Cartagena J. (Per)', 'Villegas H. (Per)', 'Huaman D. (Per)', 'Seminario L. (Per)', 'Alarcon J. (Per)', 'Espinoza M. (Per)', 'Menendez A. (Per)', 'Espinoza M. (Per)', 'Garay Evia L. (Per)', 'Ureta D. (Per)', 'Ciriaco L. (Per)', 'Cartagena J. (Per)', 'Espinoza J. (Per)', 'Seminario L. (Per)', 'Villegas H. (Per)', 'Ortega K. (Arg)', 'Menendez A. (Per)', 'Ortega K. (Per)', 'Cartagena J. (Per)', 'Garay L. (Per)', 'Perez R. B. (Per)', 'Ordonez E. (Per)', 'Estadio Miguel Grau (Piura)', 'Legario F. (Per)', 'Alarcon J. (Per)', 'Espinoza J. (Per)', 'Alarcon J. (Per)', 'Estadio Miguel Grau (Callao)', 'Villegas H. (Per)', 'Cartagena J. (Per)', 'Perez R. B. (Per)', 'Ortega K. (Per)', 'Ordonez E. (Per)', 'Espinoza M. (Per)', 'Estadio Monumental (Lima)', 'Alarcon J. (Per)', 'Espinoza J. (Per)', 'Garay Evia L. (Per)', 'Ordonez E. (Per)', 'Menendez A. (Per)', 'Huaman D. (Per)', 'Perez R. B. (Per)', 'Seminario L. (Per)', 'Mendoza J. (Per)', 'Alarcon J. (Per)', 'Ordonez E. (Per)', 'Espinoza J. (Per)', 'Menendez A. (Per)', 'Cartagena J. (Per)', 'Perez R. B. (Per)', 'Lopez R. (Per)', 'Garay L. (Per)', 'Garay Evia L. (Per)', 'Legario F. (Per)', 'Alarcon J. (Per)', 'Zamora J. (Per)', 'Espinoza J. (Per)', 'Seminario L. (Per)', 'Ordonez E. (Per)', 'Lopez P. (Per)', 'Espinoza M. (Per)', 'Alarcon J. (Per)', 'Barbagelatta G. (Per)', 'Estadio Alejandro Villanueva (Lima)', 'Ordonez E. (Per)', 'Villegas H. (Per)', 0, 0, 'Palomino M. (Per)', 'Legario F. (Per)', 'Espinoza J. (Per)', 'Estadio Huancayo (Huancayo)', 'Espinoza M. (Per)', 'Huaman D. (Per)', 'Perez R. B. (Per)', 'Legario F. (Per)', 'Garay L. (Per)', 'Ordonez E. (Per)', 'Cartagena J. (Per)', 'Espinoza M. (Per)', 'Cartagena J. (Per)', 'Alarcon J. (Per)', 'Perez R. B. (Per)', 'Lopez R. (Per)', 'Ordonez E. (Per)', 'Espinoza J. (Per)', 'Huaman D. (Per)', 'Legario F. (Per)', 'Barbagelatta G. (Per)', 'Perez R. B. (Per)', 'Alarcon J. (Per)', 'Espinoza M. (Per)', 'Legario F. (Per)', 'Cartagena J. (Per)', 'Espinoza J. (Per)', 'Palomino M. (Per)', 0, 0, 0, 0, 0, 0, 0, 0, 0]\n",
      "\n"
     ]
    },
    {
     "name": "stderr",
     "output_type": "stream",
     "text": [
      "[WDM] - ====== WebDriver manager ======\n",
      "[WDM] - Current google-chrome version is 104.0.5112\n",
      "[WDM] - Get LATEST chromedriver version for 104.0.5112 google-chrome\n",
      "[WDM] - Driver [C:\\Users\\PC-1\\.wdm\\drivers\\chromedriver\\win32\\104.0.5112.79\\chromedriver.exe] found in cache\n"
     ]
    },
    {
     "name": "stdout",
     "output_type": "stream",
     "text": [
      "Termino 180\n",
      "['Perez R. B. (Per)', 'Quiroz J. C. (Per)', 'Villegas H. (Per)', 'Lozano S. (Per)', 'Ortega K. (Per)', 'Menendez A. (Per)', 'Espinoza J. (Per)', 'Vasquez B. (Per)', 'Huamani J. (Per)', 'Lopez Ramos P. (Esp)', 'Garay L. (Per)', 'Ureta D. (Per)', 'Zamora J. (Per)', 'Alarcon J. (Per)', 'Cartagena J. (Per)', 'Villegas H. (Per)', 'Cori V. (Per)', 'Villanueva A. (Per)', 'Legario F. (Per)', 'Blas W. (Per)', 'Seminario L. (Per)', 'Perez R. B. (Per)', 'Ureta D. (Per)', 'Lozano S. (Per)', 'Ortega K. (Per)', 'Garay L. (Per)', 'Lopez Ramos P. (Esp)', 'Segura R. (Per)', 'Espinoza M. (Per)', 'Ordonez E. (Per)', 'Quiroz J. C. (Per)', 'Alarcon J. (Per)', 'Perez R. B. (Per)', 'Espinoza M. (Per)', 'Ortega K. (Per)', 'Ordonez E. (Per)', 'Espinoza J. (Per)', 'Huamani J. (Per)', 'Blas A. (Per)', 'Lopez P. (Per)', 'Seminario L. (Per)', 'Barbagelatta G. (Per)', 'Garay Evia L. (Per)', 'Lozano S. (Per)', 'Huaman D. (Per)', 'Vasquez B. (Per)', 'Legario F. (Per)', 'Villegas H. (Per)', 'Garay L. (Per)', 'Ureta D. (Per)', 'Espinoza M. (Per)', 'Cartagena J. (Per)', 'Cori V. (Per)', 'Ordonez E. (Per)', 'Estadio Inca Garcilaso de la Vega (Cusco)', 'Villanueva A. (Per)', 'Alarcon J. (Per)', 'Ciriaco L. (Per)', 'Lozano C. (Arg)', 'Alarcon J. (Per)', 'Perez R. B. (Per)', 'Villegas H. (Per)', 'Seminario L. (Per)', 'Ordonez E. (Per)', 'Cartagena J. (Per)', 'Chambi J. (Per)', 'Perez R. B. (Per)', 'Espinoza M. (Per)', 'Segura R. (Per)', 'Espinoza J. (Per)', 'Ureta D. (Per)', 'Garay L. (Per)', 'Quiroz J. (Per)', 'Estadio Inca Garcilaso de la Vega (Cusco)', 'Estadio Iván Elías Moreno (Lima)', 'Zamora J. (Per)', 'Lopez Ramos P. (Esp)', 'Garay L. (Per)', 'Perez R. B. (Per)', 'Ordonez E. (Per)', 'Espinoza M. (Per)', 'Zamora J. (Per)', 'Ureta D. (Per)', 0, 'Estadio San Martin de Porres (Lima)', 'Alarcon J. (Per)', 'Perez R. B. (Per)', 'Villanueva A. (Per)', 'Villegas H. (Per)', 'Lopez P. (Per)', 'Ortega K. (Per)', 'Zamora J. (Per)', 'Vasquez B. (Per)', 'Garay L. (Per)', 'Lopez R. (Per)', 'Espinoza J. (Per)', 'Villegas H. (Per)', 0, 'Alarcon J. (Per)', 'Ortega K. (Per)', 'Ureta D. (Per)', 'Seminario L. (Per)', 'Lozano Segado J. (Esp)', 'Barbagelatta G. (Per)', 'Perez R. B. (Per)', 'Legario F. (Per)', 'Ortega K. (Per)', 'Alarcon J. (Per)', 'Seminario L. (Per)', 'Lopez P. (Per)', 'Estadio Monumental (Lima)', 'Menendez A. (Per)', 'Legario F. (Per)', 'Barbagelatta G. (Per)', 'Cartagena J. (Per)', 'Villegas H. (Per)', 'Huaman D. (Per)', 'Seminario L. (Per)', 'Alarcon J. (Per)', 'Espinoza M. (Per)', 'Menendez A. (Per)', 'Espinoza M. (Per)', 'Garay Evia L. (Per)', 'Ureta D. (Per)', 'Ciriaco L. (Per)', 'Cartagena J. (Per)', 'Espinoza J. (Per)', 'Seminario L. (Per)', 'Villegas H. (Per)', 'Ortega K. (Arg)', 'Menendez A. (Per)', 'Ortega K. (Per)', 'Cartagena J. (Per)', 'Garay L. (Per)', 'Perez R. B. (Per)', 'Ordonez E. (Per)', 'Estadio Miguel Grau (Piura)', 'Legario F. (Per)', 'Alarcon J. (Per)', 'Espinoza J. (Per)', 'Alarcon J. (Per)', 'Estadio Miguel Grau (Callao)', 'Villegas H. (Per)', 'Cartagena J. (Per)', 'Perez R. B. (Per)', 'Ortega K. (Per)', 'Ordonez E. (Per)', 'Espinoza M. (Per)', 'Estadio Monumental (Lima)', 'Alarcon J. (Per)', 'Espinoza J. (Per)', 'Garay Evia L. (Per)', 'Ordonez E. (Per)', 'Menendez A. (Per)', 'Huaman D. (Per)', 'Perez R. B. (Per)', 'Seminario L. (Per)', 'Mendoza J. (Per)', 'Alarcon J. (Per)', 'Ordonez E. (Per)', 'Espinoza J. (Per)', 'Menendez A. (Per)', 'Cartagena J. (Per)', 'Perez R. B. (Per)', 'Lopez R. (Per)', 'Garay L. (Per)', 'Garay Evia L. (Per)', 'Legario F. (Per)', 'Alarcon J. (Per)', 'Zamora J. (Per)', 'Espinoza J. (Per)', 'Seminario L. (Per)', 'Ordonez E. (Per)', 'Lopez P. (Per)', 'Espinoza M. (Per)', 'Alarcon J. (Per)', 'Barbagelatta G. (Per)', 'Estadio Alejandro Villanueva (Lima)', 'Ordonez E. (Per)', 'Villegas H. (Per)', 'Maza P. (Chi)', 0, 'Palomino M. (Per)', 'Legario F. (Per)', 'Espinoza J. (Per)', 'Estadio Huancayo (Huancayo)', 'Espinoza M. (Per)', 'Huaman D. (Per)', 'Perez R. B. (Per)', 'Legario F. (Per)', 'Garay L. (Per)', 'Ordonez E. (Per)', 'Cartagena J. (Per)', 'Espinoza M. (Per)', 'Cartagena J. (Per)', 'Alarcon J. (Per)', 'Perez R. B. (Per)', 'Lopez R. (Per)', 'Ordonez E. (Per)', 'Espinoza J. (Per)', 'Huaman D. (Per)', 'Legario F. (Per)', 'Barbagelatta G. (Per)', 'Perez R. B. (Per)', 'Alarcon J. (Per)', 'Espinoza M. (Per)', 'Legario F. (Per)', 'Cartagena J. (Per)', 'Espinoza J. (Per)', 'Palomino M. (Per)', 0, 0, 0, 0, 0, 0, 0, 0, 0]\n",
      "\n"
     ]
    },
    {
     "name": "stderr",
     "output_type": "stream",
     "text": [
      "[WDM] - ====== WebDriver manager ======\n",
      "[WDM] - Current google-chrome version is 104.0.5112\n",
      "[WDM] - Get LATEST chromedriver version for 104.0.5112 google-chrome\n",
      "[WDM] - Driver [C:\\Users\\PC-1\\.wdm\\drivers\\chromedriver\\win32\\104.0.5112.79\\chromedriver.exe] found in cache\n"
     ]
    },
    {
     "name": "stdout",
     "output_type": "stream",
     "text": [
      "Termino 97\n",
      "['Perez R. B. (Per)', 'Quiroz J. C. (Per)', 'Villegas H. (Per)', 'Lozano S. (Per)', 'Ortega K. (Per)', 'Menendez A. (Per)', 'Espinoza J. (Per)', 'Vasquez B. (Per)', 'Huamani J. (Per)', 'Lopez Ramos P. (Esp)', 'Garay L. (Per)', 'Ureta D. (Per)', 'Zamora J. (Per)', 'Alarcon J. (Per)', 'Cartagena J. (Per)', 'Villegas H. (Per)', 'Cori V. (Per)', 'Villanueva A. (Per)', 'Legario F. (Per)', 'Blas W. (Per)', 'Seminario L. (Per)', 'Perez R. B. (Per)', 'Ureta D. (Per)', 'Lozano S. (Per)', 'Ortega K. (Per)', 'Garay L. (Per)', 'Lopez Ramos P. (Esp)', 'Segura R. (Per)', 'Espinoza M. (Per)', 'Ordonez E. (Per)', 'Quiroz J. C. (Per)', 'Alarcon J. (Per)', 'Perez R. B. (Per)', 'Espinoza M. (Per)', 'Ortega K. (Per)', 'Ordonez E. (Per)', 'Espinoza J. (Per)', 'Huamani J. (Per)', 'Blas A. (Per)', 'Lopez P. (Per)', 'Seminario L. (Per)', 'Barbagelatta G. (Per)', 'Garay Evia L. (Per)', 'Lozano S. (Per)', 'Huaman D. (Per)', 'Vasquez B. (Per)', 'Legario F. (Per)', 'Villegas H. (Per)', 'Garay L. (Per)', 'Ureta D. (Per)', 'Espinoza M. (Per)', 'Cartagena J. (Per)', 'Cori V. (Per)', 'Ordonez E. (Per)', 'Estadio Inca Garcilaso de la Vega (Cusco)', 'Villanueva A. (Per)', 'Alarcon J. (Per)', 'Ciriaco L. (Per)', 'Lozano C. (Arg)', 'Alarcon J. (Per)', 'Perez R. B. (Per)', 'Villegas H. (Per)', 'Seminario L. (Per)', 'Ordonez E. (Per)', 'Cartagena J. (Per)', 'Chambi J. (Per)', 'Perez R. B. (Per)', 'Espinoza M. (Per)', 'Segura R. (Per)', 'Espinoza J. (Per)', 'Ureta D. (Per)', 'Garay L. (Per)', 'Quiroz J. (Per)', 'Estadio Inca Garcilaso de la Vega (Cusco)', 'Estadio Iván Elías Moreno (Lima)', 'Zamora J. (Per)', 'Lopez Ramos P. (Esp)', 'Garay L. (Per)', 'Perez R. B. (Per)', 'Ordonez E. (Per)', 'Espinoza M. (Per)', 'Zamora J. (Per)', 'Ureta D. (Per)', 'Menendez A. (Per)', 'Estadio San Martin de Porres (Lima)', 'Alarcon J. (Per)', 'Perez R. B. (Per)', 'Villanueva A. (Per)', 'Villegas H. (Per)', 'Lopez P. (Per)', 'Ortega K. (Per)', 'Zamora J. (Per)', 'Vasquez B. (Per)', 'Garay L. (Per)', 'Lopez R. (Per)', 'Espinoza J. (Per)', 'Villegas H. (Per)', 'Legario F. (Per)', 'Alarcon J. (Per)', 'Ortega K. (Per)', 'Ureta D. (Per)', 'Seminario L. (Per)', 'Lozano Segado J. (Esp)', 'Barbagelatta G. (Per)', 'Perez R. B. (Per)', 'Legario F. (Per)', 'Ortega K. (Per)', 'Alarcon J. (Per)', 'Seminario L. (Per)', 'Lopez P. (Per)', 'Estadio Monumental (Lima)', 'Menendez A. (Per)', 'Legario F. (Per)', 'Barbagelatta G. (Per)', 'Cartagena J. (Per)', 'Villegas H. (Per)', 'Huaman D. (Per)', 'Seminario L. (Per)', 'Alarcon J. (Per)', 'Espinoza M. (Per)', 'Menendez A. (Per)', 'Espinoza M. (Per)', 'Garay Evia L. (Per)', 'Ureta D. (Per)', 'Ciriaco L. (Per)', 'Cartagena J. (Per)', 'Espinoza J. (Per)', 'Seminario L. (Per)', 'Villegas H. (Per)', 'Ortega K. (Arg)', 'Menendez A. (Per)', 'Ortega K. (Per)', 'Cartagena J. (Per)', 'Garay L. (Per)', 'Perez R. B. (Per)', 'Ordonez E. (Per)', 'Estadio Miguel Grau (Piura)', 'Legario F. (Per)', 'Alarcon J. (Per)', 'Espinoza J. (Per)', 'Alarcon J. (Per)', 'Estadio Miguel Grau (Callao)', 'Villegas H. (Per)', 'Cartagena J. (Per)', 'Perez R. B. (Per)', 'Ortega K. (Per)', 'Ordonez E. (Per)', 'Espinoza M. (Per)', 'Estadio Monumental (Lima)', 'Alarcon J. (Per)', 'Espinoza J. (Per)', 'Garay Evia L. (Per)', 'Ordonez E. (Per)', 'Menendez A. (Per)', 'Huaman D. (Per)', 'Perez R. B. (Per)', 'Seminario L. (Per)', 'Mendoza J. (Per)', 'Alarcon J. (Per)', 'Ordonez E. (Per)', 'Espinoza J. (Per)', 'Menendez A. (Per)', 'Cartagena J. (Per)', 'Perez R. B. (Per)', 'Lopez R. (Per)', 'Garay L. (Per)', 'Garay Evia L. (Per)', 'Legario F. (Per)', 'Alarcon J. (Per)', 'Zamora J. (Per)', 'Espinoza J. (Per)', 'Seminario L. (Per)', 'Ordonez E. (Per)', 'Lopez P. (Per)', 'Espinoza M. (Per)', 'Alarcon J. (Per)', 'Barbagelatta G. (Per)', 'Estadio Alejandro Villanueva (Lima)', 'Ordonez E. (Per)', 'Villegas H. (Per)', 'Maza P. (Chi)', 0, 'Palomino M. (Per)', 'Legario F. (Per)', 'Espinoza J. (Per)', 'Estadio Huancayo (Huancayo)', 'Espinoza M. (Per)', 'Huaman D. (Per)', 'Perez R. B. (Per)', 'Legario F. (Per)', 'Garay L. (Per)', 'Ordonez E. (Per)', 'Cartagena J. (Per)', 'Espinoza M. (Per)', 'Cartagena J. (Per)', 'Alarcon J. (Per)', 'Perez R. B. (Per)', 'Lopez R. (Per)', 'Ordonez E. (Per)', 'Espinoza J. (Per)', 'Huaman D. (Per)', 'Legario F. (Per)', 'Barbagelatta G. (Per)', 'Perez R. B. (Per)', 'Alarcon J. (Per)', 'Espinoza M. (Per)', 'Legario F. (Per)', 'Cartagena J. (Per)', 'Espinoza J. (Per)', 'Palomino M. (Per)', 0, 0, 0, 0, 0, 0, 0, 0, 0]\n",
      "Termino 83\n",
      "['Perez R. B. (Per)', 'Quiroz J. C. (Per)', 'Villegas H. (Per)', 'Lozano S. (Per)', 'Ortega K. (Per)', 'Menendez A. (Per)', 'Espinoza J. (Per)', 'Vasquez B. (Per)', 'Huamani J. (Per)', 'Lopez Ramos P. (Esp)', 'Garay L. (Per)', 'Ureta D. (Per)', 'Zamora J. (Per)', 'Alarcon J. (Per)', 'Cartagena J. (Per)', 'Villegas H. (Per)', 'Cori V. (Per)', 'Villanueva A. (Per)', 'Legario F. (Per)', 'Blas W. (Per)', 'Seminario L. (Per)', 'Perez R. B. (Per)', 'Ureta D. (Per)', 'Lozano S. (Per)', 'Ortega K. (Per)', 'Garay L. (Per)', 'Lopez Ramos P. (Esp)', 'Segura R. (Per)', 'Espinoza M. (Per)', 'Ordonez E. (Per)', 'Quiroz J. C. (Per)', 'Alarcon J. (Per)', 'Perez R. B. (Per)', 'Espinoza M. (Per)', 'Ortega K. (Per)', 'Ordonez E. (Per)', 'Espinoza J. (Per)', 'Huamani J. (Per)', 'Blas A. (Per)', 'Lopez P. (Per)', 'Seminario L. (Per)', 'Barbagelatta G. (Per)', 'Garay Evia L. (Per)', 'Lozano S. (Per)', 'Huaman D. (Per)', 'Vasquez B. (Per)', 'Legario F. (Per)', 'Villegas H. (Per)', 'Garay L. (Per)', 'Ureta D. (Per)', 'Espinoza M. (Per)', 'Cartagena J. (Per)', 'Cori V. (Per)', 'Ordonez E. (Per)', 'Estadio Inca Garcilaso de la Vega (Cusco)', 'Villanueva A. (Per)', 'Alarcon J. (Per)', 'Ciriaco L. (Per)', 'Lozano C. (Arg)', 'Alarcon J. (Per)', 'Perez R. B. (Per)', 'Villegas H. (Per)', 'Seminario L. (Per)', 'Ordonez E. (Per)', 'Cartagena J. (Per)', 'Chambi J. (Per)', 'Perez R. B. (Per)', 'Espinoza M. (Per)', 'Segura R. (Per)', 'Espinoza J. (Per)', 'Ureta D. (Per)', 'Garay L. (Per)', 'Quiroz J. (Per)', 'Estadio Inca Garcilaso de la Vega (Cusco)', 'Estadio Iván Elías Moreno (Lima)', 'Zamora J. (Per)', 'Lopez Ramos P. (Esp)', 'Garay L. (Per)', 'Perez R. B. (Per)', 'Ordonez E. (Per)', 'Espinoza M. (Per)', 'Zamora J. (Per)', 'Ureta D. (Per)', 'Menendez A. (Per)', 'Estadio San Martin de Porres (Lima)', 'Alarcon J. (Per)', 'Perez R. B. (Per)', 'Villanueva A. (Per)', 'Villegas H. (Per)', 'Lopez P. (Per)', 'Ortega K. (Per)', 'Zamora J. (Per)', 'Vasquez B. (Per)', 'Garay L. (Per)', 'Lopez R. (Per)', 'Espinoza J. (Per)', 'Villegas H. (Per)', 'Legario F. (Per)', 'Alarcon J. (Per)', 'Ortega K. (Per)', 'Ureta D. (Per)', 'Seminario L. (Per)', 'Lozano Segado J. (Esp)', 'Barbagelatta G. (Per)', 'Perez R. B. (Per)', 'Legario F. (Per)', 'Ortega K. (Per)', 'Alarcon J. (Per)', 'Seminario L. (Per)', 'Lopez P. (Per)', 'Estadio Monumental (Lima)', 'Menendez A. (Per)', 'Legario F. (Per)', 'Barbagelatta G. (Per)', 'Cartagena J. (Per)', 'Villegas H. (Per)', 'Huaman D. (Per)', 'Seminario L. (Per)', 'Alarcon J. (Per)', 'Espinoza M. (Per)', 'Menendez A. (Per)', 'Espinoza M. (Per)', 'Garay Evia L. (Per)', 'Ureta D. (Per)', 'Ciriaco L. (Per)', 'Cartagena J. (Per)', 'Espinoza J. (Per)', 'Seminario L. (Per)', 'Villegas H. (Per)', 'Ortega K. (Arg)', 'Menendez A. (Per)', 'Ortega K. (Per)', 'Cartagena J. (Per)', 'Garay L. (Per)', 'Perez R. B. (Per)', 'Ordonez E. (Per)', 'Estadio Miguel Grau (Piura)', 'Legario F. (Per)', 'Alarcon J. (Per)', 'Espinoza J. (Per)', 'Alarcon J. (Per)', 'Estadio Miguel Grau (Callao)', 'Villegas H. (Per)', 'Cartagena J. (Per)', 'Perez R. B. (Per)', 'Ortega K. (Per)', 'Ordonez E. (Per)', 'Espinoza M. (Per)', 'Estadio Monumental (Lima)', 'Alarcon J. (Per)', 'Espinoza J. (Per)', 'Garay Evia L. (Per)', 'Ordonez E. (Per)', 'Menendez A. (Per)', 'Huaman D. (Per)', 'Perez R. B. (Per)', 'Seminario L. (Per)', 'Mendoza J. (Per)', 'Alarcon J. (Per)', 'Ordonez E. (Per)', 'Espinoza J. (Per)', 'Menendez A. (Per)', 'Cartagena J. (Per)', 'Perez R. B. (Per)', 'Lopez R. (Per)', 'Garay L. (Per)', 'Garay Evia L. (Per)', 'Legario F. (Per)', 'Alarcon J. (Per)', 'Zamora J. (Per)', 'Espinoza J. (Per)', 'Seminario L. (Per)', 'Ordonez E. (Per)', 'Lopez P. (Per)', 'Espinoza M. (Per)', 'Alarcon J. (Per)', 'Barbagelatta G. (Per)', 'Estadio Alejandro Villanueva (Lima)', 'Ordonez E. (Per)', 'Villegas H. (Per)', 'Maza P. (Chi)', 0, 'Palomino M. (Per)', 'Legario F. (Per)', 'Espinoza J. (Per)', 'Estadio Huancayo (Huancayo)', 'Espinoza M. (Per)', 'Huaman D. (Per)', 'Perez R. B. (Per)', 'Legario F. (Per)', 'Garay L. (Per)', 'Ordonez E. (Per)', 'Cartagena J. (Per)', 'Espinoza M. (Per)', 'Cartagena J. (Per)', 'Alarcon J. (Per)', 'Perez R. B. (Per)', 'Lopez R. (Per)', 'Ordonez E. (Per)', 'Espinoza J. (Per)', 'Huaman D. (Per)', 'Legario F. (Per)', 'Barbagelatta G. (Per)', 'Perez R. B. (Per)', 'Alarcon J. (Per)', 'Espinoza M. (Per)', 'Legario F. (Per)', 'Cartagena J. (Per)', 'Espinoza J. (Per)', 'Palomino M. (Per)', 0, 0, 0, 0, 0, 0, 0, 0, 0]\n",
      "Termino 181\n",
      "['Perez R. B. (Per)', 'Quiroz J. C. (Per)', 'Villegas H. (Per)', 'Lozano S. (Per)', 'Ortega K. (Per)', 'Menendez A. (Per)', 'Espinoza J. (Per)', 'Vasquez B. (Per)', 'Huamani J. (Per)', 'Lopez Ramos P. (Esp)', 'Garay L. (Per)', 'Ureta D. (Per)', 'Zamora J. (Per)', 'Alarcon J. (Per)', 'Cartagena J. (Per)', 'Villegas H. (Per)', 'Cori V. (Per)', 'Villanueva A. (Per)', 'Legario F. (Per)', 'Blas W. (Per)', 'Seminario L. (Per)', 'Perez R. B. (Per)', 'Ureta D. (Per)', 'Lozano S. (Per)', 'Ortega K. (Per)', 'Garay L. (Per)', 'Lopez Ramos P. (Esp)', 'Segura R. (Per)', 'Espinoza M. (Per)', 'Ordonez E. (Per)', 'Quiroz J. C. (Per)', 'Alarcon J. (Per)', 'Perez R. B. (Per)', 'Espinoza M. (Per)', 'Ortega K. (Per)', 'Ordonez E. (Per)', 'Espinoza J. (Per)', 'Huamani J. (Per)', 'Blas A. (Per)', 'Lopez P. (Per)', 'Seminario L. (Per)', 'Barbagelatta G. (Per)', 'Garay Evia L. (Per)', 'Lozano S. (Per)', 'Huaman D. (Per)', 'Vasquez B. (Per)', 'Legario F. (Per)', 'Villegas H. (Per)', 'Garay L. (Per)', 'Ureta D. (Per)', 'Espinoza M. (Per)', 'Cartagena J. (Per)', 'Cori V. (Per)', 'Ordonez E. (Per)', 'Estadio Inca Garcilaso de la Vega (Cusco)', 'Villanueva A. (Per)', 'Alarcon J. (Per)', 'Ciriaco L. (Per)', 'Lozano C. (Arg)', 'Alarcon J. (Per)', 'Perez R. B. (Per)', 'Villegas H. (Per)', 'Seminario L. (Per)', 'Ordonez E. (Per)', 'Cartagena J. (Per)', 'Chambi J. (Per)', 'Perez R. B. (Per)', 'Espinoza M. (Per)', 'Segura R. (Per)', 'Espinoza J. (Per)', 'Ureta D. (Per)', 'Garay L. (Per)', 'Quiroz J. (Per)', 'Estadio Inca Garcilaso de la Vega (Cusco)', 'Estadio Iván Elías Moreno (Lima)', 'Zamora J. (Per)', 'Lopez Ramos P. (Esp)', 'Garay L. (Per)', 'Perez R. B. (Per)', 'Ordonez E. (Per)', 'Espinoza M. (Per)', 'Zamora J. (Per)', 'Ureta D. (Per)', 'Menendez A. (Per)', 'Estadio San Martin de Porres (Lima)', 'Alarcon J. (Per)', 'Perez R. B. (Per)', 'Villanueva A. (Per)', 'Villegas H. (Per)', 'Lopez P. (Per)', 'Ortega K. (Per)', 'Zamora J. (Per)', 'Vasquez B. (Per)', 'Garay L. (Per)', 'Lopez R. (Per)', 'Espinoza J. (Per)', 'Villegas H. (Per)', 'Legario F. (Per)', 'Alarcon J. (Per)', 'Ortega K. (Per)', 'Ureta D. (Per)', 'Seminario L. (Per)', 'Lozano Segado J. (Esp)', 'Barbagelatta G. (Per)', 'Perez R. B. (Per)', 'Legario F. (Per)', 'Ortega K. (Per)', 'Alarcon J. (Per)', 'Seminario L. (Per)', 'Lopez P. (Per)', 'Estadio Monumental (Lima)', 'Menendez A. (Per)', 'Legario F. (Per)', 'Barbagelatta G. (Per)', 'Cartagena J. (Per)', 'Villegas H. (Per)', 'Huaman D. (Per)', 'Seminario L. (Per)', 'Alarcon J. (Per)', 'Espinoza M. (Per)', 'Menendez A. (Per)', 'Espinoza M. (Per)', 'Garay Evia L. (Per)', 'Ureta D. (Per)', 'Ciriaco L. (Per)', 'Cartagena J. (Per)', 'Espinoza J. (Per)', 'Seminario L. (Per)', 'Villegas H. (Per)', 'Ortega K. (Arg)', 'Menendez A. (Per)', 'Ortega K. (Per)', 'Cartagena J. (Per)', 'Garay L. (Per)', 'Perez R. B. (Per)', 'Ordonez E. (Per)', 'Estadio Miguel Grau (Piura)', 'Legario F. (Per)', 'Alarcon J. (Per)', 'Espinoza J. (Per)', 'Alarcon J. (Per)', 'Estadio Miguel Grau (Callao)', 'Villegas H. (Per)', 'Cartagena J. (Per)', 'Perez R. B. (Per)', 'Ortega K. (Per)', 'Ordonez E. (Per)', 'Espinoza M. (Per)', 'Estadio Monumental (Lima)', 'Alarcon J. (Per)', 'Espinoza J. (Per)', 'Garay Evia L. (Per)', 'Ordonez E. (Per)', 'Menendez A. (Per)', 'Huaman D. (Per)', 'Perez R. B. (Per)', 'Seminario L. (Per)', 'Mendoza J. (Per)', 'Alarcon J. (Per)', 'Ordonez E. (Per)', 'Espinoza J. (Per)', 'Menendez A. (Per)', 'Cartagena J. (Per)', 'Perez R. B. (Per)', 'Lopez R. (Per)', 'Garay L. (Per)', 'Garay Evia L. (Per)', 'Legario F. (Per)', 'Alarcon J. (Per)', 'Zamora J. (Per)', 'Espinoza J. (Per)', 'Seminario L. (Per)', 'Ordonez E. (Per)', 'Lopez P. (Per)', 'Espinoza M. (Per)', 'Alarcon J. (Per)', 'Barbagelatta G. (Per)', 'Estadio Alejandro Villanueva (Lima)', 'Ordonez E. (Per)', 'Villegas H. (Per)', 'Maza P. (Chi)', 'Perez R. B. (Per)', 'Palomino M. (Per)', 'Legario F. (Per)', 'Espinoza J. (Per)', 'Estadio Huancayo (Huancayo)', 'Espinoza M. (Per)', 'Huaman D. (Per)', 'Perez R. B. (Per)', 'Legario F. (Per)', 'Garay L. (Per)', 'Ordonez E. (Per)', 'Cartagena J. (Per)', 'Espinoza M. (Per)', 'Cartagena J. (Per)', 'Alarcon J. (Per)', 'Perez R. B. (Per)', 'Lopez R. (Per)', 'Ordonez E. (Per)', 'Espinoza J. (Per)', 'Huaman D. (Per)', 'Legario F. (Per)', 'Barbagelatta G. (Per)', 'Perez R. B. (Per)', 'Alarcon J. (Per)', 'Espinoza M. (Per)', 'Legario F. (Per)', 'Cartagena J. (Per)', 'Espinoza J. (Per)', 'Palomino M. (Per)', 0, 0, 0, 0, 0, 0, 0, 0, 0]\n",
      " \n",
      "--------------------------------------------------------------------------------------------------------------------------------------\n",
      "El tiempo total fue de 300.85 segundos.\n",
      "--------------------------------------------------------------------------------------------------------------------------------------\n"
     ]
    }
   ],
   "source": [
    "arbitro=[0]*len(result_buscar)\n",
    "def referee(min_i,max_i):\n",
    "    for i in range(min_i,max_i):\n",
    "        driver = webdriver.Chrome(ChromeDriverManager().install())\n",
    "        driver.get('https://www.flashscore.pe/partido/'+f'{result_buscar[i]}'+'/#/resumen-del-partido/resumen-del-partido')\n",
    "        time.sleep(6)\n",
    "        driver.find_element(By.XPATH, \"//*[@id='onetrust-accept-btn-handler']\").click()\n",
    "        driver.maximize_window()\n",
    "        time.sleep(0.5)\n",
    "        driver.execute_script(\"window.scrollBy(0, document.body.scrollHeight);\")\n",
    "        if i==148:\n",
    "            arbitro[i]=driver.find_element(By.XPATH,\"//*[@id='detail']/div[10]/div[2]/div/span[2]\").text #Revisar aquí por actualizaciones    \n",
    "        elif i==156:\n",
    "            arbitro[i]=driver.find_element(By.XPATH,\"//*[@id='detail']/div[11]/div[2]/div[1]/span[2]\").text #Revisar aquí por actualizaciones\n",
    "        else:\n",
    "            arbitro[i]=driver.find_element(By.XPATH,\"//*[@id='detail']/div[10]/div[2]/div[1]/span[2]\").text #Revisar aquí por actualizaciones\n",
    "        time.sleep(3)\n",
    "        driver.close()\n",
    "        print('Termino '+str(i))\n",
    "        print(arbitro)\n",
    "#---------------------------------------------------------------------------------------------------------------------------------------------\n",
    "# Número total de threads usados\n",
    "n_threads=15\n",
    "#---------------------------------------------------------------------------------------------------------------------------------------------\n",
    "p=len(result_buscar)//n_threads\n",
    "inicios=list()\n",
    "finales=list()\n",
    "inicio=0\n",
    "fin=p\n",
    "for i in range(n_threads):\n",
    "    inicios.append(inicio)\n",
    "    finales.append(fin)\n",
    "    inicio+=p\n",
    "    fin+=p\n",
    "time_inicio = time.time()\n",
    "threads=list()\n",
    "for j in range(len(inicios)):\n",
    "    t=threading.Thread(target=referee, args=(inicios[j],finales[j],))\n",
    "    threads.append(t)\n",
    "    t.start()\n",
    "for t in threads:\n",
    "    t.join()\n",
    "print(' ')\n",
    "print('--------------------------------------------------------------------------------------------------------------------------------------')\n",
    "print('El tiempo total fue de '+str(round(time.time()-time_inicio,2))+' segundos.')\n",
    "print('--------------------------------------------------------------------------------------------------------------------------------------')"
   ]
  },
  {
   "cell_type": "markdown",
   "id": "335faec3",
   "metadata": {},
   "source": [
    "Algunos \"codigos identificadores\" extraidos quedaron fuera del rango de los threads. El tiempo que le tomo fue de 2.66 minutos para 8 casos, empleando una regla de tres simples determinamos que el tiempo total, sin threads, hubiera sido de 72.82 minutos. "
   ]
  },
  {
   "cell_type": "code",
   "execution_count": 34,
   "id": "69b8f962",
   "metadata": {},
   "outputs": [
    {
     "name": "stdout",
     "output_type": "stream",
     "text": [
      "\n"
     ]
    },
    {
     "name": "stderr",
     "output_type": "stream",
     "text": [
      "[WDM] - ====== WebDriver manager ======\n",
      "[WDM] - Current google-chrome version is 104.0.5112\n",
      "[WDM] - Get LATEST chromedriver version for 104.0.5112 google-chrome\n",
      "[WDM] - Driver [C:\\Users\\PC-1\\.wdm\\drivers\\chromedriver\\win32\\104.0.5112.79\\chromedriver.exe] found in cache\n",
      "C:\\Users\\PC-1\\AppData\\Local\\Temp\\ipykernel_24140\\2968724897.py:4: DeprecationWarning: executable_path has been deprecated, please pass in a Service object\n",
      "  driver = webdriver.Chrome(ChromeDriverManager().install())\n"
     ]
    },
    {
     "name": "stdout",
     "output_type": "stream",
     "text": [
      "Termino 210\n",
      "['Perez R. B. (Per)', 'Quiroz J. C. (Per)', 'Villegas H. (Per)', 'Lozano S. (Per)', 'Ortega K. (Per)', 'Menendez A. (Per)', 'Espinoza J. (Per)', 'Vasquez B. (Per)', 'Huamani J. (Per)', 'Lopez Ramos P. (Esp)', 'Garay L. (Per)', 'Ureta D. (Per)', 'Zamora J. (Per)', 'Alarcon J. (Per)', 'Cartagena J. (Per)', 'Villegas H. (Per)', 'Cori V. (Per)', 'Villanueva A. (Per)', 'Legario F. (Per)', 'Blas W. (Per)', 'Seminario L. (Per)', 'Perez R. B. (Per)', 'Ureta D. (Per)', 'Lozano S. (Per)', 'Ortega K. (Per)', 'Garay L. (Per)', 'Lopez Ramos P. (Esp)', 'Segura R. (Per)', 'Espinoza M. (Per)', 'Ordonez E. (Per)', 'Quiroz J. C. (Per)', 'Alarcon J. (Per)', 'Perez R. B. (Per)', 'Espinoza M. (Per)', 'Ortega K. (Per)', 'Ordonez E. (Per)', 'Espinoza J. (Per)', 'Huamani J. (Per)', 'Blas A. (Per)', 'Lopez P. (Per)', 'Seminario L. (Per)', 'Barbagelatta G. (Per)', 'Garay Evia L. (Per)', 'Lozano S. (Per)', 'Huaman D. (Per)', 'Vasquez B. (Per)', 'Legario F. (Per)', 'Villegas H. (Per)', 'Garay L. (Per)', 'Ureta D. (Per)', 'Espinoza M. (Per)', 'Cartagena J. (Per)', 'Cori V. (Per)', 'Ordonez E. (Per)', 'Estadio Inca Garcilaso de la Vega (Cusco)', 'Villanueva A. (Per)', 'Alarcon J. (Per)', 'Ciriaco L. (Per)', 'Lozano C. (Arg)', 'Alarcon J. (Per)', 'Perez R. B. (Per)', 'Villegas H. (Per)', 'Seminario L. (Per)', 'Ordonez E. (Per)', 'Cartagena J. (Per)', 'Chambi J. (Per)', 'Perez R. B. (Per)', 'Espinoza M. (Per)', 'Segura R. (Per)', 'Espinoza J. (Per)', 'Ureta D. (Per)', 'Garay L. (Per)', 'Quiroz J. (Per)', 'Estadio Inca Garcilaso de la Vega (Cusco)', 'Estadio Iván Elías Moreno (Lima)', 'Zamora J. (Per)', 'Lopez Ramos P. (Esp)', 'Garay L. (Per)', 'Perez R. B. (Per)', 'Ordonez E. (Per)', 'Espinoza M. (Per)', 'Zamora J. (Per)', 'Ureta D. (Per)', 'Menendez A. (Per)', 'Estadio San Martin de Porres (Lima)', 'Alarcon J. (Per)', 'Perez R. B. (Per)', 'Villanueva A. (Per)', 'Villegas H. (Per)', 'Lopez P. (Per)', 'Ortega K. (Per)', 'Zamora J. (Per)', 'Vasquez B. (Per)', 'Garay L. (Per)', 'Lopez R. (Per)', 'Espinoza J. (Per)', 'Villegas H. (Per)', 'Legario F. (Per)', 'Alarcon J. (Per)', 'Ortega K. (Per)', 'Ureta D. (Per)', 'Seminario L. (Per)', 'Lozano Segado J. (Esp)', 'Barbagelatta G. (Per)', 'Perez R. B. (Per)', 'Legario F. (Per)', 'Ortega K. (Per)', 'Alarcon J. (Per)', 'Seminario L. (Per)', 'Lopez P. (Per)', 'Estadio Monumental (Lima)', 'Menendez A. (Per)', 'Legario F. (Per)', 'Barbagelatta G. (Per)', 'Cartagena J. (Per)', 'Villegas H. (Per)', 'Huaman D. (Per)', 'Seminario L. (Per)', 'Alarcon J. (Per)', 'Espinoza M. (Per)', 'Menendez A. (Per)', 'Espinoza M. (Per)', 'Garay Evia L. (Per)', 'Ureta D. (Per)', 'Ciriaco L. (Per)', 'Cartagena J. (Per)', 'Espinoza J. (Per)', 'Seminario L. (Per)', 'Villegas H. (Per)', 'Ortega K. (Arg)', 'Menendez A. (Per)', 'Ortega K. (Per)', 'Cartagena J. (Per)', 'Garay L. (Per)', 'Perez R. B. (Per)', 'Ordonez E. (Per)', 'Estadio Miguel Grau (Piura)', 'Legario F. (Per)', 'Alarcon J. (Per)', 'Espinoza J. (Per)', 'Alarcon J. (Per)', 'Estadio Miguel Grau (Callao)', 'Villegas H. (Per)', 'Cartagena J. (Per)', 'Perez R. B. (Per)', 'Ortega K. (Per)', 'Ordonez E. (Per)', 'Espinoza M. (Per)', 'Estadio Monumental (Lima)', 'Alarcon J. (Per)', 'Espinoza J. (Per)', 'Garay Evia L. (Per)', 'Ordonez E. (Per)', 'Menendez A. (Per)', 'Huaman D. (Per)', 'Perez R. B. (Per)', 'Seminario L. (Per)', 'Mendoza J. (Per)', 'Alarcon J. (Per)', 'Ordonez E. (Per)', 'Espinoza J. (Per)', 'Menendez A. (Per)', 'Cartagena J. (Per)', 'Perez R. B. (Per)', 'Lopez R. (Per)', 'Garay L. (Per)', 'Garay Evia L. (Per)', 'Legario F. (Per)', 'Alarcon J. (Per)', 'Zamora J. (Per)', 'Espinoza J. (Per)', 'Seminario L. (Per)', 'Ordonez E. (Per)', 'Lopez P. (Per)', 'Espinoza M. (Per)', 'Alarcon J. (Per)', 'Barbagelatta G. (Per)', 'Estadio Alejandro Villanueva (Lima)', 'Ordonez E. (Per)', 'Villegas H. (Per)', 'Maza P. (Chi)', 'Perez R. B. (Per)', 'Palomino M. (Per)', 'Legario F. (Per)', 'Espinoza J. (Per)', 'Estadio Huancayo (Huancayo)', 'Espinoza M. (Per)', 'Huaman D. (Per)', 'Perez R. B. (Per)', 'Legario F. (Per)', 'Garay L. (Per)', 'Ordonez E. (Per)', 'Cartagena J. (Per)', 'Espinoza M. (Per)', 'Cartagena J. (Per)', 'Alarcon J. (Per)', 'Perez R. B. (Per)', 'Lopez R. (Per)', 'Ordonez E. (Per)', 'Espinoza J. (Per)', 'Huaman D. (Per)', 'Legario F. (Per)', 'Barbagelatta G. (Per)', 'Perez R. B. (Per)', 'Alarcon J. (Per)', 'Espinoza M. (Per)', 'Legario F. (Per)', 'Cartagena J. (Per)', 'Espinoza J. (Per)', 'Palomino M. (Per)', 'Ortega K. (Per)', 0, 0, 0, 0, 0, 0, 0, 0]\n",
      "\n"
     ]
    },
    {
     "name": "stderr",
     "output_type": "stream",
     "text": [
      "[WDM] - ====== WebDriver manager ======\n",
      "[WDM] - Current google-chrome version is 104.0.5112\n",
      "[WDM] - Get LATEST chromedriver version for 104.0.5112 google-chrome\n",
      "[WDM] - Driver [C:\\Users\\PC-1\\.wdm\\drivers\\chromedriver\\win32\\104.0.5112.79\\chromedriver.exe] found in cache\n"
     ]
    },
    {
     "name": "stdout",
     "output_type": "stream",
     "text": [
      "Termino 211\n",
      "['Perez R. B. (Per)', 'Quiroz J. C. (Per)', 'Villegas H. (Per)', 'Lozano S. (Per)', 'Ortega K. (Per)', 'Menendez A. (Per)', 'Espinoza J. (Per)', 'Vasquez B. (Per)', 'Huamani J. (Per)', 'Lopez Ramos P. (Esp)', 'Garay L. (Per)', 'Ureta D. (Per)', 'Zamora J. (Per)', 'Alarcon J. (Per)', 'Cartagena J. (Per)', 'Villegas H. (Per)', 'Cori V. (Per)', 'Villanueva A. (Per)', 'Legario F. (Per)', 'Blas W. (Per)', 'Seminario L. (Per)', 'Perez R. B. (Per)', 'Ureta D. (Per)', 'Lozano S. (Per)', 'Ortega K. (Per)', 'Garay L. (Per)', 'Lopez Ramos P. (Esp)', 'Segura R. (Per)', 'Espinoza M. (Per)', 'Ordonez E. (Per)', 'Quiroz J. C. (Per)', 'Alarcon J. (Per)', 'Perez R. B. (Per)', 'Espinoza M. (Per)', 'Ortega K. (Per)', 'Ordonez E. (Per)', 'Espinoza J. (Per)', 'Huamani J. (Per)', 'Blas A. (Per)', 'Lopez P. (Per)', 'Seminario L. (Per)', 'Barbagelatta G. (Per)', 'Garay Evia L. (Per)', 'Lozano S. (Per)', 'Huaman D. (Per)', 'Vasquez B. (Per)', 'Legario F. (Per)', 'Villegas H. (Per)', 'Garay L. (Per)', 'Ureta D. (Per)', 'Espinoza M. (Per)', 'Cartagena J. (Per)', 'Cori V. (Per)', 'Ordonez E. (Per)', 'Estadio Inca Garcilaso de la Vega (Cusco)', 'Villanueva A. (Per)', 'Alarcon J. (Per)', 'Ciriaco L. (Per)', 'Lozano C. (Arg)', 'Alarcon J. (Per)', 'Perez R. B. (Per)', 'Villegas H. (Per)', 'Seminario L. (Per)', 'Ordonez E. (Per)', 'Cartagena J. (Per)', 'Chambi J. (Per)', 'Perez R. B. (Per)', 'Espinoza M. (Per)', 'Segura R. (Per)', 'Espinoza J. (Per)', 'Ureta D. (Per)', 'Garay L. (Per)', 'Quiroz J. (Per)', 'Estadio Inca Garcilaso de la Vega (Cusco)', 'Estadio Iván Elías Moreno (Lima)', 'Zamora J. (Per)', 'Lopez Ramos P. (Esp)', 'Garay L. (Per)', 'Perez R. B. (Per)', 'Ordonez E. (Per)', 'Espinoza M. (Per)', 'Zamora J. (Per)', 'Ureta D. (Per)', 'Menendez A. (Per)', 'Estadio San Martin de Porres (Lima)', 'Alarcon J. (Per)', 'Perez R. B. (Per)', 'Villanueva A. (Per)', 'Villegas H. (Per)', 'Lopez P. (Per)', 'Ortega K. (Per)', 'Zamora J. (Per)', 'Vasquez B. (Per)', 'Garay L. (Per)', 'Lopez R. (Per)', 'Espinoza J. (Per)', 'Villegas H. (Per)', 'Legario F. (Per)', 'Alarcon J. (Per)', 'Ortega K. (Per)', 'Ureta D. (Per)', 'Seminario L. (Per)', 'Lozano Segado J. (Esp)', 'Barbagelatta G. (Per)', 'Perez R. B. (Per)', 'Legario F. (Per)', 'Ortega K. (Per)', 'Alarcon J. (Per)', 'Seminario L. (Per)', 'Lopez P. (Per)', 'Estadio Monumental (Lima)', 'Menendez A. (Per)', 'Legario F. (Per)', 'Barbagelatta G. (Per)', 'Cartagena J. (Per)', 'Villegas H. (Per)', 'Huaman D. (Per)', 'Seminario L. (Per)', 'Alarcon J. (Per)', 'Espinoza M. (Per)', 'Menendez A. (Per)', 'Espinoza M. (Per)', 'Garay Evia L. (Per)', 'Ureta D. (Per)', 'Ciriaco L. (Per)', 'Cartagena J. (Per)', 'Espinoza J. (Per)', 'Seminario L. (Per)', 'Villegas H. (Per)', 'Ortega K. (Arg)', 'Menendez A. (Per)', 'Ortega K. (Per)', 'Cartagena J. (Per)', 'Garay L. (Per)', 'Perez R. B. (Per)', 'Ordonez E. (Per)', 'Estadio Miguel Grau (Piura)', 'Legario F. (Per)', 'Alarcon J. (Per)', 'Espinoza J. (Per)', 'Alarcon J. (Per)', 'Estadio Miguel Grau (Callao)', 'Villegas H. (Per)', 'Cartagena J. (Per)', 'Perez R. B. (Per)', 'Ortega K. (Per)', 'Ordonez E. (Per)', 'Espinoza M. (Per)', 'Estadio Monumental (Lima)', 'Alarcon J. (Per)', 'Espinoza J. (Per)', 'Garay Evia L. (Per)', 'Ordonez E. (Per)', 'Menendez A. (Per)', 'Huaman D. (Per)', 'Perez R. B. (Per)', 'Seminario L. (Per)', 'Mendoza J. (Per)', 'Alarcon J. (Per)', 'Ordonez E. (Per)', 'Espinoza J. (Per)', 'Menendez A. (Per)', 'Cartagena J. (Per)', 'Perez R. B. (Per)', 'Lopez R. (Per)', 'Garay L. (Per)', 'Garay Evia L. (Per)', 'Legario F. (Per)', 'Alarcon J. (Per)', 'Zamora J. (Per)', 'Espinoza J. (Per)', 'Seminario L. (Per)', 'Ordonez E. (Per)', 'Lopez P. (Per)', 'Espinoza M. (Per)', 'Alarcon J. (Per)', 'Barbagelatta G. (Per)', 'Estadio Alejandro Villanueva (Lima)', 'Ordonez E. (Per)', 'Villegas H. (Per)', 'Maza P. (Chi)', 'Perez R. B. (Per)', 'Palomino M. (Per)', 'Legario F. (Per)', 'Espinoza J. (Per)', 'Estadio Huancayo (Huancayo)', 'Espinoza M. (Per)', 'Huaman D. (Per)', 'Perez R. B. (Per)', 'Legario F. (Per)', 'Garay L. (Per)', 'Ordonez E. (Per)', 'Cartagena J. (Per)', 'Espinoza M. (Per)', 'Cartagena J. (Per)', 'Alarcon J. (Per)', 'Perez R. B. (Per)', 'Lopez R. (Per)', 'Ordonez E. (Per)', 'Espinoza J. (Per)', 'Huaman D. (Per)', 'Legario F. (Per)', 'Barbagelatta G. (Per)', 'Perez R. B. (Per)', 'Alarcon J. (Per)', 'Espinoza M. (Per)', 'Legario F. (Per)', 'Cartagena J. (Per)', 'Espinoza J. (Per)', 'Palomino M. (Per)', 'Ortega K. (Per)', 'Cartagena J. (Per)', 0, 0, 0, 0, 0, 0, 0]\n",
      "\n"
     ]
    },
    {
     "name": "stderr",
     "output_type": "stream",
     "text": [
      "[WDM] - ====== WebDriver manager ======\n",
      "[WDM] - Current google-chrome version is 104.0.5112\n",
      "[WDM] - Get LATEST chromedriver version for 104.0.5112 google-chrome\n",
      "[WDM] - Driver [C:\\Users\\PC-1\\.wdm\\drivers\\chromedriver\\win32\\104.0.5112.79\\chromedriver.exe] found in cache\n"
     ]
    },
    {
     "name": "stdout",
     "output_type": "stream",
     "text": [
      "Termino 212\n",
      "['Perez R. B. (Per)', 'Quiroz J. C. (Per)', 'Villegas H. (Per)', 'Lozano S. (Per)', 'Ortega K. (Per)', 'Menendez A. (Per)', 'Espinoza J. (Per)', 'Vasquez B. (Per)', 'Huamani J. (Per)', 'Lopez Ramos P. (Esp)', 'Garay L. (Per)', 'Ureta D. (Per)', 'Zamora J. (Per)', 'Alarcon J. (Per)', 'Cartagena J. (Per)', 'Villegas H. (Per)', 'Cori V. (Per)', 'Villanueva A. (Per)', 'Legario F. (Per)', 'Blas W. (Per)', 'Seminario L. (Per)', 'Perez R. B. (Per)', 'Ureta D. (Per)', 'Lozano S. (Per)', 'Ortega K. (Per)', 'Garay L. (Per)', 'Lopez Ramos P. (Esp)', 'Segura R. (Per)', 'Espinoza M. (Per)', 'Ordonez E. (Per)', 'Quiroz J. C. (Per)', 'Alarcon J. (Per)', 'Perez R. B. (Per)', 'Espinoza M. (Per)', 'Ortega K. (Per)', 'Ordonez E. (Per)', 'Espinoza J. (Per)', 'Huamani J. (Per)', 'Blas A. (Per)', 'Lopez P. (Per)', 'Seminario L. (Per)', 'Barbagelatta G. (Per)', 'Garay Evia L. (Per)', 'Lozano S. (Per)', 'Huaman D. (Per)', 'Vasquez B. (Per)', 'Legario F. (Per)', 'Villegas H. (Per)', 'Garay L. (Per)', 'Ureta D. (Per)', 'Espinoza M. (Per)', 'Cartagena J. (Per)', 'Cori V. (Per)', 'Ordonez E. (Per)', 'Estadio Inca Garcilaso de la Vega (Cusco)', 'Villanueva A. (Per)', 'Alarcon J. (Per)', 'Ciriaco L. (Per)', 'Lozano C. (Arg)', 'Alarcon J. (Per)', 'Perez R. B. (Per)', 'Villegas H. (Per)', 'Seminario L. (Per)', 'Ordonez E. (Per)', 'Cartagena J. (Per)', 'Chambi J. (Per)', 'Perez R. B. (Per)', 'Espinoza M. (Per)', 'Segura R. (Per)', 'Espinoza J. (Per)', 'Ureta D. (Per)', 'Garay L. (Per)', 'Quiroz J. (Per)', 'Estadio Inca Garcilaso de la Vega (Cusco)', 'Estadio Iván Elías Moreno (Lima)', 'Zamora J. (Per)', 'Lopez Ramos P. (Esp)', 'Garay L. (Per)', 'Perez R. B. (Per)', 'Ordonez E. (Per)', 'Espinoza M. (Per)', 'Zamora J. (Per)', 'Ureta D. (Per)', 'Menendez A. (Per)', 'Estadio San Martin de Porres (Lima)', 'Alarcon J. (Per)', 'Perez R. B. (Per)', 'Villanueva A. (Per)', 'Villegas H. (Per)', 'Lopez P. (Per)', 'Ortega K. (Per)', 'Zamora J. (Per)', 'Vasquez B. (Per)', 'Garay L. (Per)', 'Lopez R. (Per)', 'Espinoza J. (Per)', 'Villegas H. (Per)', 'Legario F. (Per)', 'Alarcon J. (Per)', 'Ortega K. (Per)', 'Ureta D. (Per)', 'Seminario L. (Per)', 'Lozano Segado J. (Esp)', 'Barbagelatta G. (Per)', 'Perez R. B. (Per)', 'Legario F. (Per)', 'Ortega K. (Per)', 'Alarcon J. (Per)', 'Seminario L. (Per)', 'Lopez P. (Per)', 'Estadio Monumental (Lima)', 'Menendez A. (Per)', 'Legario F. (Per)', 'Barbagelatta G. (Per)', 'Cartagena J. (Per)', 'Villegas H. (Per)', 'Huaman D. (Per)', 'Seminario L. (Per)', 'Alarcon J. (Per)', 'Espinoza M. (Per)', 'Menendez A. (Per)', 'Espinoza M. (Per)', 'Garay Evia L. (Per)', 'Ureta D. (Per)', 'Ciriaco L. (Per)', 'Cartagena J. (Per)', 'Espinoza J. (Per)', 'Seminario L. (Per)', 'Villegas H. (Per)', 'Ortega K. (Arg)', 'Menendez A. (Per)', 'Ortega K. (Per)', 'Cartagena J. (Per)', 'Garay L. (Per)', 'Perez R. B. (Per)', 'Ordonez E. (Per)', 'Estadio Miguel Grau (Piura)', 'Legario F. (Per)', 'Alarcon J. (Per)', 'Espinoza J. (Per)', 'Alarcon J. (Per)', 'Estadio Miguel Grau (Callao)', 'Villegas H. (Per)', 'Cartagena J. (Per)', 'Perez R. B. (Per)', 'Ortega K. (Per)', 'Ordonez E. (Per)', 'Espinoza M. (Per)', 'Estadio Monumental (Lima)', 'Alarcon J. (Per)', 'Espinoza J. (Per)', 'Garay Evia L. (Per)', 'Ordonez E. (Per)', 'Menendez A. (Per)', 'Huaman D. (Per)', 'Perez R. B. (Per)', 'Seminario L. (Per)', 'Mendoza J. (Per)', 'Alarcon J. (Per)', 'Ordonez E. (Per)', 'Espinoza J. (Per)', 'Menendez A. (Per)', 'Cartagena J. (Per)', 'Perez R. B. (Per)', 'Lopez R. (Per)', 'Garay L. (Per)', 'Garay Evia L. (Per)', 'Legario F. (Per)', 'Alarcon J. (Per)', 'Zamora J. (Per)', 'Espinoza J. (Per)', 'Seminario L. (Per)', 'Ordonez E. (Per)', 'Lopez P. (Per)', 'Espinoza M. (Per)', 'Alarcon J. (Per)', 'Barbagelatta G. (Per)', 'Estadio Alejandro Villanueva (Lima)', 'Ordonez E. (Per)', 'Villegas H. (Per)', 'Maza P. (Chi)', 'Perez R. B. (Per)', 'Palomino M. (Per)', 'Legario F. (Per)', 'Espinoza J. (Per)', 'Estadio Huancayo (Huancayo)', 'Espinoza M. (Per)', 'Huaman D. (Per)', 'Perez R. B. (Per)', 'Legario F. (Per)', 'Garay L. (Per)', 'Ordonez E. (Per)', 'Cartagena J. (Per)', 'Espinoza M. (Per)', 'Cartagena J. (Per)', 'Alarcon J. (Per)', 'Perez R. B. (Per)', 'Lopez R. (Per)', 'Ordonez E. (Per)', 'Espinoza J. (Per)', 'Huaman D. (Per)', 'Legario F. (Per)', 'Barbagelatta G. (Per)', 'Perez R. B. (Per)', 'Alarcon J. (Per)', 'Espinoza M. (Per)', 'Legario F. (Per)', 'Cartagena J. (Per)', 'Espinoza J. (Per)', 'Palomino M. (Per)', 'Ortega K. (Per)', 'Cartagena J. (Per)', 'Huaman D. (Per)', 0, 0, 0, 0, 0, 0]\n",
      "\n"
     ]
    },
    {
     "name": "stderr",
     "output_type": "stream",
     "text": [
      "[WDM] - ====== WebDriver manager ======\n",
      "[WDM] - Current google-chrome version is 104.0.5112\n",
      "[WDM] - Get LATEST chromedriver version for 104.0.5112 google-chrome\n",
      "[WDM] - Driver [C:\\Users\\PC-1\\.wdm\\drivers\\chromedriver\\win32\\104.0.5112.79\\chromedriver.exe] found in cache\n"
     ]
    },
    {
     "name": "stdout",
     "output_type": "stream",
     "text": [
      "Termino 213\n",
      "['Perez R. B. (Per)', 'Quiroz J. C. (Per)', 'Villegas H. (Per)', 'Lozano S. (Per)', 'Ortega K. (Per)', 'Menendez A. (Per)', 'Espinoza J. (Per)', 'Vasquez B. (Per)', 'Huamani J. (Per)', 'Lopez Ramos P. (Esp)', 'Garay L. (Per)', 'Ureta D. (Per)', 'Zamora J. (Per)', 'Alarcon J. (Per)', 'Cartagena J. (Per)', 'Villegas H. (Per)', 'Cori V. (Per)', 'Villanueva A. (Per)', 'Legario F. (Per)', 'Blas W. (Per)', 'Seminario L. (Per)', 'Perez R. B. (Per)', 'Ureta D. (Per)', 'Lozano S. (Per)', 'Ortega K. (Per)', 'Garay L. (Per)', 'Lopez Ramos P. (Esp)', 'Segura R. (Per)', 'Espinoza M. (Per)', 'Ordonez E. (Per)', 'Quiroz J. C. (Per)', 'Alarcon J. (Per)', 'Perez R. B. (Per)', 'Espinoza M. (Per)', 'Ortega K. (Per)', 'Ordonez E. (Per)', 'Espinoza J. (Per)', 'Huamani J. (Per)', 'Blas A. (Per)', 'Lopez P. (Per)', 'Seminario L. (Per)', 'Barbagelatta G. (Per)', 'Garay Evia L. (Per)', 'Lozano S. (Per)', 'Huaman D. (Per)', 'Vasquez B. (Per)', 'Legario F. (Per)', 'Villegas H. (Per)', 'Garay L. (Per)', 'Ureta D. (Per)', 'Espinoza M. (Per)', 'Cartagena J. (Per)', 'Cori V. (Per)', 'Ordonez E. (Per)', 'Estadio Inca Garcilaso de la Vega (Cusco)', 'Villanueva A. (Per)', 'Alarcon J. (Per)', 'Ciriaco L. (Per)', 'Lozano C. (Arg)', 'Alarcon J. (Per)', 'Perez R. B. (Per)', 'Villegas H. (Per)', 'Seminario L. (Per)', 'Ordonez E. (Per)', 'Cartagena J. (Per)', 'Chambi J. (Per)', 'Perez R. B. (Per)', 'Espinoza M. (Per)', 'Segura R. (Per)', 'Espinoza J. (Per)', 'Ureta D. (Per)', 'Garay L. (Per)', 'Quiroz J. (Per)', 'Estadio Inca Garcilaso de la Vega (Cusco)', 'Estadio Iván Elías Moreno (Lima)', 'Zamora J. (Per)', 'Lopez Ramos P. (Esp)', 'Garay L. (Per)', 'Perez R. B. (Per)', 'Ordonez E. (Per)', 'Espinoza M. (Per)', 'Zamora J. (Per)', 'Ureta D. (Per)', 'Menendez A. (Per)', 'Estadio San Martin de Porres (Lima)', 'Alarcon J. (Per)', 'Perez R. B. (Per)', 'Villanueva A. (Per)', 'Villegas H. (Per)', 'Lopez P. (Per)', 'Ortega K. (Per)', 'Zamora J. (Per)', 'Vasquez B. (Per)', 'Garay L. (Per)', 'Lopez R. (Per)', 'Espinoza J. (Per)', 'Villegas H. (Per)', 'Legario F. (Per)', 'Alarcon J. (Per)', 'Ortega K. (Per)', 'Ureta D. (Per)', 'Seminario L. (Per)', 'Lozano Segado J. (Esp)', 'Barbagelatta G. (Per)', 'Perez R. B. (Per)', 'Legario F. (Per)', 'Ortega K. (Per)', 'Alarcon J. (Per)', 'Seminario L. (Per)', 'Lopez P. (Per)', 'Estadio Monumental (Lima)', 'Menendez A. (Per)', 'Legario F. (Per)', 'Barbagelatta G. (Per)', 'Cartagena J. (Per)', 'Villegas H. (Per)', 'Huaman D. (Per)', 'Seminario L. (Per)', 'Alarcon J. (Per)', 'Espinoza M. (Per)', 'Menendez A. (Per)', 'Espinoza M. (Per)', 'Garay Evia L. (Per)', 'Ureta D. (Per)', 'Ciriaco L. (Per)', 'Cartagena J. (Per)', 'Espinoza J. (Per)', 'Seminario L. (Per)', 'Villegas H. (Per)', 'Ortega K. (Arg)', 'Menendez A. (Per)', 'Ortega K. (Per)', 'Cartagena J. (Per)', 'Garay L. (Per)', 'Perez R. B. (Per)', 'Ordonez E. (Per)', 'Estadio Miguel Grau (Piura)', 'Legario F. (Per)', 'Alarcon J. (Per)', 'Espinoza J. (Per)', 'Alarcon J. (Per)', 'Estadio Miguel Grau (Callao)', 'Villegas H. (Per)', 'Cartagena J. (Per)', 'Perez R. B. (Per)', 'Ortega K. (Per)', 'Ordonez E. (Per)', 'Espinoza M. (Per)', 'Estadio Monumental (Lima)', 'Alarcon J. (Per)', 'Espinoza J. (Per)', 'Garay Evia L. (Per)', 'Ordonez E. (Per)', 'Menendez A. (Per)', 'Huaman D. (Per)', 'Perez R. B. (Per)', 'Seminario L. (Per)', 'Mendoza J. (Per)', 'Alarcon J. (Per)', 'Ordonez E. (Per)', 'Espinoza J. (Per)', 'Menendez A. (Per)', 'Cartagena J. (Per)', 'Perez R. B. (Per)', 'Lopez R. (Per)', 'Garay L. (Per)', 'Garay Evia L. (Per)', 'Legario F. (Per)', 'Alarcon J. (Per)', 'Zamora J. (Per)', 'Espinoza J. (Per)', 'Seminario L. (Per)', 'Ordonez E. (Per)', 'Lopez P. (Per)', 'Espinoza M. (Per)', 'Alarcon J. (Per)', 'Barbagelatta G. (Per)', 'Estadio Alejandro Villanueva (Lima)', 'Ordonez E. (Per)', 'Villegas H. (Per)', 'Maza P. (Chi)', 'Perez R. B. (Per)', 'Palomino M. (Per)', 'Legario F. (Per)', 'Espinoza J. (Per)', 'Estadio Huancayo (Huancayo)', 'Espinoza M. (Per)', 'Huaman D. (Per)', 'Perez R. B. (Per)', 'Legario F. (Per)', 'Garay L. (Per)', 'Ordonez E. (Per)', 'Cartagena J. (Per)', 'Espinoza M. (Per)', 'Cartagena J. (Per)', 'Alarcon J. (Per)', 'Perez R. B. (Per)', 'Lopez R. (Per)', 'Ordonez E. (Per)', 'Espinoza J. (Per)', 'Huaman D. (Per)', 'Legario F. (Per)', 'Barbagelatta G. (Per)', 'Perez R. B. (Per)', 'Alarcon J. (Per)', 'Espinoza M. (Per)', 'Legario F. (Per)', 'Cartagena J. (Per)', 'Espinoza J. (Per)', 'Palomino M. (Per)', 'Ortega K. (Per)', 'Cartagena J. (Per)', 'Huaman D. (Per)', 'Legario F. (Per)', 0, 0, 0, 0, 0]\n",
      "\n"
     ]
    },
    {
     "name": "stderr",
     "output_type": "stream",
     "text": [
      "[WDM] - ====== WebDriver manager ======\n",
      "[WDM] - Current google-chrome version is 104.0.5112\n",
      "[WDM] - Get LATEST chromedriver version for 104.0.5112 google-chrome\n",
      "[WDM] - Driver [C:\\Users\\PC-1\\.wdm\\drivers\\chromedriver\\win32\\104.0.5112.79\\chromedriver.exe] found in cache\n"
     ]
    },
    {
     "name": "stdout",
     "output_type": "stream",
     "text": [
      "Termino 214\n",
      "['Perez R. B. (Per)', 'Quiroz J. C. (Per)', 'Villegas H. (Per)', 'Lozano S. (Per)', 'Ortega K. (Per)', 'Menendez A. (Per)', 'Espinoza J. (Per)', 'Vasquez B. (Per)', 'Huamani J. (Per)', 'Lopez Ramos P. (Esp)', 'Garay L. (Per)', 'Ureta D. (Per)', 'Zamora J. (Per)', 'Alarcon J. (Per)', 'Cartagena J. (Per)', 'Villegas H. (Per)', 'Cori V. (Per)', 'Villanueva A. (Per)', 'Legario F. (Per)', 'Blas W. (Per)', 'Seminario L. (Per)', 'Perez R. B. (Per)', 'Ureta D. (Per)', 'Lozano S. (Per)', 'Ortega K. (Per)', 'Garay L. (Per)', 'Lopez Ramos P. (Esp)', 'Segura R. (Per)', 'Espinoza M. (Per)', 'Ordonez E. (Per)', 'Quiroz J. C. (Per)', 'Alarcon J. (Per)', 'Perez R. B. (Per)', 'Espinoza M. (Per)', 'Ortega K. (Per)', 'Ordonez E. (Per)', 'Espinoza J. (Per)', 'Huamani J. (Per)', 'Blas A. (Per)', 'Lopez P. (Per)', 'Seminario L. (Per)', 'Barbagelatta G. (Per)', 'Garay Evia L. (Per)', 'Lozano S. (Per)', 'Huaman D. (Per)', 'Vasquez B. (Per)', 'Legario F. (Per)', 'Villegas H. (Per)', 'Garay L. (Per)', 'Ureta D. (Per)', 'Espinoza M. (Per)', 'Cartagena J. (Per)', 'Cori V. (Per)', 'Ordonez E. (Per)', 'Estadio Inca Garcilaso de la Vega (Cusco)', 'Villanueva A. (Per)', 'Alarcon J. (Per)', 'Ciriaco L. (Per)', 'Lozano C. (Arg)', 'Alarcon J. (Per)', 'Perez R. B. (Per)', 'Villegas H. (Per)', 'Seminario L. (Per)', 'Ordonez E. (Per)', 'Cartagena J. (Per)', 'Chambi J. (Per)', 'Perez R. B. (Per)', 'Espinoza M. (Per)', 'Segura R. (Per)', 'Espinoza J. (Per)', 'Ureta D. (Per)', 'Garay L. (Per)', 'Quiroz J. (Per)', 'Estadio Inca Garcilaso de la Vega (Cusco)', 'Estadio Iván Elías Moreno (Lima)', 'Zamora J. (Per)', 'Lopez Ramos P. (Esp)', 'Garay L. (Per)', 'Perez R. B. (Per)', 'Ordonez E. (Per)', 'Espinoza M. (Per)', 'Zamora J. (Per)', 'Ureta D. (Per)', 'Menendez A. (Per)', 'Estadio San Martin de Porres (Lima)', 'Alarcon J. (Per)', 'Perez R. B. (Per)', 'Villanueva A. (Per)', 'Villegas H. (Per)', 'Lopez P. (Per)', 'Ortega K. (Per)', 'Zamora J. (Per)', 'Vasquez B. (Per)', 'Garay L. (Per)', 'Lopez R. (Per)', 'Espinoza J. (Per)', 'Villegas H. (Per)', 'Legario F. (Per)', 'Alarcon J. (Per)', 'Ortega K. (Per)', 'Ureta D. (Per)', 'Seminario L. (Per)', 'Lozano Segado J. (Esp)', 'Barbagelatta G. (Per)', 'Perez R. B. (Per)', 'Legario F. (Per)', 'Ortega K. (Per)', 'Alarcon J. (Per)', 'Seminario L. (Per)', 'Lopez P. (Per)', 'Estadio Monumental (Lima)', 'Menendez A. (Per)', 'Legario F. (Per)', 'Barbagelatta G. (Per)', 'Cartagena J. (Per)', 'Villegas H. (Per)', 'Huaman D. (Per)', 'Seminario L. (Per)', 'Alarcon J. (Per)', 'Espinoza M. (Per)', 'Menendez A. (Per)', 'Espinoza M. (Per)', 'Garay Evia L. (Per)', 'Ureta D. (Per)', 'Ciriaco L. (Per)', 'Cartagena J. (Per)', 'Espinoza J. (Per)', 'Seminario L. (Per)', 'Villegas H. (Per)', 'Ortega K. (Arg)', 'Menendez A. (Per)', 'Ortega K. (Per)', 'Cartagena J. (Per)', 'Garay L. (Per)', 'Perez R. B. (Per)', 'Ordonez E. (Per)', 'Estadio Miguel Grau (Piura)', 'Legario F. (Per)', 'Alarcon J. (Per)', 'Espinoza J. (Per)', 'Alarcon J. (Per)', 'Estadio Miguel Grau (Callao)', 'Villegas H. (Per)', 'Cartagena J. (Per)', 'Perez R. B. (Per)', 'Ortega K. (Per)', 'Ordonez E. (Per)', 'Espinoza M. (Per)', 'Estadio Monumental (Lima)', 'Alarcon J. (Per)', 'Espinoza J. (Per)', 'Garay Evia L. (Per)', 'Ordonez E. (Per)', 'Menendez A. (Per)', 'Huaman D. (Per)', 'Perez R. B. (Per)', 'Seminario L. (Per)', 'Mendoza J. (Per)', 'Alarcon J. (Per)', 'Ordonez E. (Per)', 'Espinoza J. (Per)', 'Menendez A. (Per)', 'Cartagena J. (Per)', 'Perez R. B. (Per)', 'Lopez R. (Per)', 'Garay L. (Per)', 'Garay Evia L. (Per)', 'Legario F. (Per)', 'Alarcon J. (Per)', 'Zamora J. (Per)', 'Espinoza J. (Per)', 'Seminario L. (Per)', 'Ordonez E. (Per)', 'Lopez P. (Per)', 'Espinoza M. (Per)', 'Alarcon J. (Per)', 'Barbagelatta G. (Per)', 'Estadio Alejandro Villanueva (Lima)', 'Ordonez E. (Per)', 'Villegas H. (Per)', 'Maza P. (Chi)', 'Perez R. B. (Per)', 'Palomino M. (Per)', 'Legario F. (Per)', 'Espinoza J. (Per)', 'Estadio Huancayo (Huancayo)', 'Espinoza M. (Per)', 'Huaman D. (Per)', 'Perez R. B. (Per)', 'Legario F. (Per)', 'Garay L. (Per)', 'Ordonez E. (Per)', 'Cartagena J. (Per)', 'Espinoza M. (Per)', 'Cartagena J. (Per)', 'Alarcon J. (Per)', 'Perez R. B. (Per)', 'Lopez R. (Per)', 'Ordonez E. (Per)', 'Espinoza J. (Per)', 'Huaman D. (Per)', 'Legario F. (Per)', 'Barbagelatta G. (Per)', 'Perez R. B. (Per)', 'Alarcon J. (Per)', 'Espinoza M. (Per)', 'Legario F. (Per)', 'Cartagena J. (Per)', 'Espinoza J. (Per)', 'Palomino M. (Per)', 'Ortega K. (Per)', 'Cartagena J. (Per)', 'Huaman D. (Per)', 'Legario F. (Per)', 'Estadio Huancayo (Huancayo)', 0, 0, 0, 0]\n",
      "\n"
     ]
    },
    {
     "name": "stderr",
     "output_type": "stream",
     "text": [
      "[WDM] - ====== WebDriver manager ======\n",
      "[WDM] - Current google-chrome version is 104.0.5112\n",
      "[WDM] - Get LATEST chromedriver version for 104.0.5112 google-chrome\n",
      "[WDM] - Driver [C:\\Users\\PC-1\\.wdm\\drivers\\chromedriver\\win32\\104.0.5112.79\\chromedriver.exe] found in cache\n"
     ]
    },
    {
     "name": "stdout",
     "output_type": "stream",
     "text": [
      "Termino 215\n",
      "['Perez R. B. (Per)', 'Quiroz J. C. (Per)', 'Villegas H. (Per)', 'Lozano S. (Per)', 'Ortega K. (Per)', 'Menendez A. (Per)', 'Espinoza J. (Per)', 'Vasquez B. (Per)', 'Huamani J. (Per)', 'Lopez Ramos P. (Esp)', 'Garay L. (Per)', 'Ureta D. (Per)', 'Zamora J. (Per)', 'Alarcon J. (Per)', 'Cartagena J. (Per)', 'Villegas H. (Per)', 'Cori V. (Per)', 'Villanueva A. (Per)', 'Legario F. (Per)', 'Blas W. (Per)', 'Seminario L. (Per)', 'Perez R. B. (Per)', 'Ureta D. (Per)', 'Lozano S. (Per)', 'Ortega K. (Per)', 'Garay L. (Per)', 'Lopez Ramos P. (Esp)', 'Segura R. (Per)', 'Espinoza M. (Per)', 'Ordonez E. (Per)', 'Quiroz J. C. (Per)', 'Alarcon J. (Per)', 'Perez R. B. (Per)', 'Espinoza M. (Per)', 'Ortega K. (Per)', 'Ordonez E. (Per)', 'Espinoza J. (Per)', 'Huamani J. (Per)', 'Blas A. (Per)', 'Lopez P. (Per)', 'Seminario L. (Per)', 'Barbagelatta G. (Per)', 'Garay Evia L. (Per)', 'Lozano S. (Per)', 'Huaman D. (Per)', 'Vasquez B. (Per)', 'Legario F. (Per)', 'Villegas H. (Per)', 'Garay L. (Per)', 'Ureta D. (Per)', 'Espinoza M. (Per)', 'Cartagena J. (Per)', 'Cori V. (Per)', 'Ordonez E. (Per)', 'Estadio Inca Garcilaso de la Vega (Cusco)', 'Villanueva A. (Per)', 'Alarcon J. (Per)', 'Ciriaco L. (Per)', 'Lozano C. (Arg)', 'Alarcon J. (Per)', 'Perez R. B. (Per)', 'Villegas H. (Per)', 'Seminario L. (Per)', 'Ordonez E. (Per)', 'Cartagena J. (Per)', 'Chambi J. (Per)', 'Perez R. B. (Per)', 'Espinoza M. (Per)', 'Segura R. (Per)', 'Espinoza J. (Per)', 'Ureta D. (Per)', 'Garay L. (Per)', 'Quiroz J. (Per)', 'Estadio Inca Garcilaso de la Vega (Cusco)', 'Estadio Iván Elías Moreno (Lima)', 'Zamora J. (Per)', 'Lopez Ramos P. (Esp)', 'Garay L. (Per)', 'Perez R. B. (Per)', 'Ordonez E. (Per)', 'Espinoza M. (Per)', 'Zamora J. (Per)', 'Ureta D. (Per)', 'Menendez A. (Per)', 'Estadio San Martin de Porres (Lima)', 'Alarcon J. (Per)', 'Perez R. B. (Per)', 'Villanueva A. (Per)', 'Villegas H. (Per)', 'Lopez P. (Per)', 'Ortega K. (Per)', 'Zamora J. (Per)', 'Vasquez B. (Per)', 'Garay L. (Per)', 'Lopez R. (Per)', 'Espinoza J. (Per)', 'Villegas H. (Per)', 'Legario F. (Per)', 'Alarcon J. (Per)', 'Ortega K. (Per)', 'Ureta D. (Per)', 'Seminario L. (Per)', 'Lozano Segado J. (Esp)', 'Barbagelatta G. (Per)', 'Perez R. B. (Per)', 'Legario F. (Per)', 'Ortega K. (Per)', 'Alarcon J. (Per)', 'Seminario L. (Per)', 'Lopez P. (Per)', 'Estadio Monumental (Lima)', 'Menendez A. (Per)', 'Legario F. (Per)', 'Barbagelatta G. (Per)', 'Cartagena J. (Per)', 'Villegas H. (Per)', 'Huaman D. (Per)', 'Seminario L. (Per)', 'Alarcon J. (Per)', 'Espinoza M. (Per)', 'Menendez A. (Per)', 'Espinoza M. (Per)', 'Garay Evia L. (Per)', 'Ureta D. (Per)', 'Ciriaco L. (Per)', 'Cartagena J. (Per)', 'Espinoza J. (Per)', 'Seminario L. (Per)', 'Villegas H. (Per)', 'Ortega K. (Arg)', 'Menendez A. (Per)', 'Ortega K. (Per)', 'Cartagena J. (Per)', 'Garay L. (Per)', 'Perez R. B. (Per)', 'Ordonez E. (Per)', 'Estadio Miguel Grau (Piura)', 'Legario F. (Per)', 'Alarcon J. (Per)', 'Espinoza J. (Per)', 'Alarcon J. (Per)', 'Estadio Miguel Grau (Callao)', 'Villegas H. (Per)', 'Cartagena J. (Per)', 'Perez R. B. (Per)', 'Ortega K. (Per)', 'Ordonez E. (Per)', 'Espinoza M. (Per)', 'Estadio Monumental (Lima)', 'Alarcon J. (Per)', 'Espinoza J. (Per)', 'Garay Evia L. (Per)', 'Ordonez E. (Per)', 'Menendez A. (Per)', 'Huaman D. (Per)', 'Perez R. B. (Per)', 'Seminario L. (Per)', 'Mendoza J. (Per)', 'Alarcon J. (Per)', 'Ordonez E. (Per)', 'Espinoza J. (Per)', 'Menendez A. (Per)', 'Cartagena J. (Per)', 'Perez R. B. (Per)', 'Lopez R. (Per)', 'Garay L. (Per)', 'Garay Evia L. (Per)', 'Legario F. (Per)', 'Alarcon J. (Per)', 'Zamora J. (Per)', 'Espinoza J. (Per)', 'Seminario L. (Per)', 'Ordonez E. (Per)', 'Lopez P. (Per)', 'Espinoza M. (Per)', 'Alarcon J. (Per)', 'Barbagelatta G. (Per)', 'Estadio Alejandro Villanueva (Lima)', 'Ordonez E. (Per)', 'Villegas H. (Per)', 'Maza P. (Chi)', 'Perez R. B. (Per)', 'Palomino M. (Per)', 'Legario F. (Per)', 'Espinoza J. (Per)', 'Estadio Huancayo (Huancayo)', 'Espinoza M. (Per)', 'Huaman D. (Per)', 'Perez R. B. (Per)', 'Legario F. (Per)', 'Garay L. (Per)', 'Ordonez E. (Per)', 'Cartagena J. (Per)', 'Espinoza M. (Per)', 'Cartagena J. (Per)', 'Alarcon J. (Per)', 'Perez R. B. (Per)', 'Lopez R. (Per)', 'Ordonez E. (Per)', 'Espinoza J. (Per)', 'Huaman D. (Per)', 'Legario F. (Per)', 'Barbagelatta G. (Per)', 'Perez R. B. (Per)', 'Alarcon J. (Per)', 'Espinoza M. (Per)', 'Legario F. (Per)', 'Cartagena J. (Per)', 'Espinoza J. (Per)', 'Palomino M. (Per)', 'Ortega K. (Per)', 'Cartagena J. (Per)', 'Huaman D. (Per)', 'Legario F. (Per)', 'Estadio Huancayo (Huancayo)', 'Alarcon J. (Per)', 0, 0, 0]\n",
      "\n"
     ]
    },
    {
     "name": "stderr",
     "output_type": "stream",
     "text": [
      "[WDM] - ====== WebDriver manager ======\n",
      "[WDM] - Current google-chrome version is 104.0.5112\n",
      "[WDM] - Get LATEST chromedriver version for 104.0.5112 google-chrome\n",
      "[WDM] - Driver [C:\\Users\\PC-1\\.wdm\\drivers\\chromedriver\\win32\\104.0.5112.79\\chromedriver.exe] found in cache\n"
     ]
    },
    {
     "name": "stdout",
     "output_type": "stream",
     "text": [
      "Termino 216\n",
      "['Perez R. B. (Per)', 'Quiroz J. C. (Per)', 'Villegas H. (Per)', 'Lozano S. (Per)', 'Ortega K. (Per)', 'Menendez A. (Per)', 'Espinoza J. (Per)', 'Vasquez B. (Per)', 'Huamani J. (Per)', 'Lopez Ramos P. (Esp)', 'Garay L. (Per)', 'Ureta D. (Per)', 'Zamora J. (Per)', 'Alarcon J. (Per)', 'Cartagena J. (Per)', 'Villegas H. (Per)', 'Cori V. (Per)', 'Villanueva A. (Per)', 'Legario F. (Per)', 'Blas W. (Per)', 'Seminario L. (Per)', 'Perez R. B. (Per)', 'Ureta D. (Per)', 'Lozano S. (Per)', 'Ortega K. (Per)', 'Garay L. (Per)', 'Lopez Ramos P. (Esp)', 'Segura R. (Per)', 'Espinoza M. (Per)', 'Ordonez E. (Per)', 'Quiroz J. C. (Per)', 'Alarcon J. (Per)', 'Perez R. B. (Per)', 'Espinoza M. (Per)', 'Ortega K. (Per)', 'Ordonez E. (Per)', 'Espinoza J. (Per)', 'Huamani J. (Per)', 'Blas A. (Per)', 'Lopez P. (Per)', 'Seminario L. (Per)', 'Barbagelatta G. (Per)', 'Garay Evia L. (Per)', 'Lozano S. (Per)', 'Huaman D. (Per)', 'Vasquez B. (Per)', 'Legario F. (Per)', 'Villegas H. (Per)', 'Garay L. (Per)', 'Ureta D. (Per)', 'Espinoza M. (Per)', 'Cartagena J. (Per)', 'Cori V. (Per)', 'Ordonez E. (Per)', 'Estadio Inca Garcilaso de la Vega (Cusco)', 'Villanueva A. (Per)', 'Alarcon J. (Per)', 'Ciriaco L. (Per)', 'Lozano C. (Arg)', 'Alarcon J. (Per)', 'Perez R. B. (Per)', 'Villegas H. (Per)', 'Seminario L. (Per)', 'Ordonez E. (Per)', 'Cartagena J. (Per)', 'Chambi J. (Per)', 'Perez R. B. (Per)', 'Espinoza M. (Per)', 'Segura R. (Per)', 'Espinoza J. (Per)', 'Ureta D. (Per)', 'Garay L. (Per)', 'Quiroz J. (Per)', 'Estadio Inca Garcilaso de la Vega (Cusco)', 'Estadio Iván Elías Moreno (Lima)', 'Zamora J. (Per)', 'Lopez Ramos P. (Esp)', 'Garay L. (Per)', 'Perez R. B. (Per)', 'Ordonez E. (Per)', 'Espinoza M. (Per)', 'Zamora J. (Per)', 'Ureta D. (Per)', 'Menendez A. (Per)', 'Estadio San Martin de Porres (Lima)', 'Alarcon J. (Per)', 'Perez R. B. (Per)', 'Villanueva A. (Per)', 'Villegas H. (Per)', 'Lopez P. (Per)', 'Ortega K. (Per)', 'Zamora J. (Per)', 'Vasquez B. (Per)', 'Garay L. (Per)', 'Lopez R. (Per)', 'Espinoza J. (Per)', 'Villegas H. (Per)', 'Legario F. (Per)', 'Alarcon J. (Per)', 'Ortega K. (Per)', 'Ureta D. (Per)', 'Seminario L. (Per)', 'Lozano Segado J. (Esp)', 'Barbagelatta G. (Per)', 'Perez R. B. (Per)', 'Legario F. (Per)', 'Ortega K. (Per)', 'Alarcon J. (Per)', 'Seminario L. (Per)', 'Lopez P. (Per)', 'Estadio Monumental (Lima)', 'Menendez A. (Per)', 'Legario F. (Per)', 'Barbagelatta G. (Per)', 'Cartagena J. (Per)', 'Villegas H. (Per)', 'Huaman D. (Per)', 'Seminario L. (Per)', 'Alarcon J. (Per)', 'Espinoza M. (Per)', 'Menendez A. (Per)', 'Espinoza M. (Per)', 'Garay Evia L. (Per)', 'Ureta D. (Per)', 'Ciriaco L. (Per)', 'Cartagena J. (Per)', 'Espinoza J. (Per)', 'Seminario L. (Per)', 'Villegas H. (Per)', 'Ortega K. (Arg)', 'Menendez A. (Per)', 'Ortega K. (Per)', 'Cartagena J. (Per)', 'Garay L. (Per)', 'Perez R. B. (Per)', 'Ordonez E. (Per)', 'Estadio Miguel Grau (Piura)', 'Legario F. (Per)', 'Alarcon J. (Per)', 'Espinoza J. (Per)', 'Alarcon J. (Per)', 'Estadio Miguel Grau (Callao)', 'Villegas H. (Per)', 'Cartagena J. (Per)', 'Perez R. B. (Per)', 'Ortega K. (Per)', 'Ordonez E. (Per)', 'Espinoza M. (Per)', 'Estadio Monumental (Lima)', 'Alarcon J. (Per)', 'Espinoza J. (Per)', 'Garay Evia L. (Per)', 'Ordonez E. (Per)', 'Menendez A. (Per)', 'Huaman D. (Per)', 'Perez R. B. (Per)', 'Seminario L. (Per)', 'Mendoza J. (Per)', 'Alarcon J. (Per)', 'Ordonez E. (Per)', 'Espinoza J. (Per)', 'Menendez A. (Per)', 'Cartagena J. (Per)', 'Perez R. B. (Per)', 'Lopez R. (Per)', 'Garay L. (Per)', 'Garay Evia L. (Per)', 'Legario F. (Per)', 'Alarcon J. (Per)', 'Zamora J. (Per)', 'Espinoza J. (Per)', 'Seminario L. (Per)', 'Ordonez E. (Per)', 'Lopez P. (Per)', 'Espinoza M. (Per)', 'Alarcon J. (Per)', 'Barbagelatta G. (Per)', 'Estadio Alejandro Villanueva (Lima)', 'Ordonez E. (Per)', 'Villegas H. (Per)', 'Maza P. (Chi)', 'Perez R. B. (Per)', 'Palomino M. (Per)', 'Legario F. (Per)', 'Espinoza J. (Per)', 'Estadio Huancayo (Huancayo)', 'Espinoza M. (Per)', 'Huaman D. (Per)', 'Perez R. B. (Per)', 'Legario F. (Per)', 'Garay L. (Per)', 'Ordonez E. (Per)', 'Cartagena J. (Per)', 'Espinoza M. (Per)', 'Cartagena J. (Per)', 'Alarcon J. (Per)', 'Perez R. B. (Per)', 'Lopez R. (Per)', 'Ordonez E. (Per)', 'Espinoza J. (Per)', 'Huaman D. (Per)', 'Legario F. (Per)', 'Barbagelatta G. (Per)', 'Perez R. B. (Per)', 'Alarcon J. (Per)', 'Espinoza M. (Per)', 'Legario F. (Per)', 'Cartagena J. (Per)', 'Espinoza J. (Per)', 'Palomino M. (Per)', 'Ortega K. (Per)', 'Cartagena J. (Per)', 'Huaman D. (Per)', 'Legario F. (Per)', 'Estadio Huancayo (Huancayo)', 'Alarcon J. (Per)', 'Espinoza M. (Per)', 0, 0]\n",
      "\n"
     ]
    },
    {
     "name": "stderr",
     "output_type": "stream",
     "text": [
      "[WDM] - ====== WebDriver manager ======\n",
      "[WDM] - Current google-chrome version is 104.0.5112\n",
      "[WDM] - Get LATEST chromedriver version for 104.0.5112 google-chrome\n",
      "[WDM] - Driver [C:\\Users\\PC-1\\.wdm\\drivers\\chromedriver\\win32\\104.0.5112.79\\chromedriver.exe] found in cache\n"
     ]
    },
    {
     "name": "stdout",
     "output_type": "stream",
     "text": [
      "Termino 217\n",
      "['Perez R. B. (Per)', 'Quiroz J. C. (Per)', 'Villegas H. (Per)', 'Lozano S. (Per)', 'Ortega K. (Per)', 'Menendez A. (Per)', 'Espinoza J. (Per)', 'Vasquez B. (Per)', 'Huamani J. (Per)', 'Lopez Ramos P. (Esp)', 'Garay L. (Per)', 'Ureta D. (Per)', 'Zamora J. (Per)', 'Alarcon J. (Per)', 'Cartagena J. (Per)', 'Villegas H. (Per)', 'Cori V. (Per)', 'Villanueva A. (Per)', 'Legario F. (Per)', 'Blas W. (Per)', 'Seminario L. (Per)', 'Perez R. B. (Per)', 'Ureta D. (Per)', 'Lozano S. (Per)', 'Ortega K. (Per)', 'Garay L. (Per)', 'Lopez Ramos P. (Esp)', 'Segura R. (Per)', 'Espinoza M. (Per)', 'Ordonez E. (Per)', 'Quiroz J. C. (Per)', 'Alarcon J. (Per)', 'Perez R. B. (Per)', 'Espinoza M. (Per)', 'Ortega K. (Per)', 'Ordonez E. (Per)', 'Espinoza J. (Per)', 'Huamani J. (Per)', 'Blas A. (Per)', 'Lopez P. (Per)', 'Seminario L. (Per)', 'Barbagelatta G. (Per)', 'Garay Evia L. (Per)', 'Lozano S. (Per)', 'Huaman D. (Per)', 'Vasquez B. (Per)', 'Legario F. (Per)', 'Villegas H. (Per)', 'Garay L. (Per)', 'Ureta D. (Per)', 'Espinoza M. (Per)', 'Cartagena J. (Per)', 'Cori V. (Per)', 'Ordonez E. (Per)', 'Estadio Inca Garcilaso de la Vega (Cusco)', 'Villanueva A. (Per)', 'Alarcon J. (Per)', 'Ciriaco L. (Per)', 'Lozano C. (Arg)', 'Alarcon J. (Per)', 'Perez R. B. (Per)', 'Villegas H. (Per)', 'Seminario L. (Per)', 'Ordonez E. (Per)', 'Cartagena J. (Per)', 'Chambi J. (Per)', 'Perez R. B. (Per)', 'Espinoza M. (Per)', 'Segura R. (Per)', 'Espinoza J. (Per)', 'Ureta D. (Per)', 'Garay L. (Per)', 'Quiroz J. (Per)', 'Estadio Inca Garcilaso de la Vega (Cusco)', 'Estadio Iván Elías Moreno (Lima)', 'Zamora J. (Per)', 'Lopez Ramos P. (Esp)', 'Garay L. (Per)', 'Perez R. B. (Per)', 'Ordonez E. (Per)', 'Espinoza M. (Per)', 'Zamora J. (Per)', 'Ureta D. (Per)', 'Menendez A. (Per)', 'Estadio San Martin de Porres (Lima)', 'Alarcon J. (Per)', 'Perez R. B. (Per)', 'Villanueva A. (Per)', 'Villegas H. (Per)', 'Lopez P. (Per)', 'Ortega K. (Per)', 'Zamora J. (Per)', 'Vasquez B. (Per)', 'Garay L. (Per)', 'Lopez R. (Per)', 'Espinoza J. (Per)', 'Villegas H. (Per)', 'Legario F. (Per)', 'Alarcon J. (Per)', 'Ortega K. (Per)', 'Ureta D. (Per)', 'Seminario L. (Per)', 'Lozano Segado J. (Esp)', 'Barbagelatta G. (Per)', 'Perez R. B. (Per)', 'Legario F. (Per)', 'Ortega K. (Per)', 'Alarcon J. (Per)', 'Seminario L. (Per)', 'Lopez P. (Per)', 'Estadio Monumental (Lima)', 'Menendez A. (Per)', 'Legario F. (Per)', 'Barbagelatta G. (Per)', 'Cartagena J. (Per)', 'Villegas H. (Per)', 'Huaman D. (Per)', 'Seminario L. (Per)', 'Alarcon J. (Per)', 'Espinoza M. (Per)', 'Menendez A. (Per)', 'Espinoza M. (Per)', 'Garay Evia L. (Per)', 'Ureta D. (Per)', 'Ciriaco L. (Per)', 'Cartagena J. (Per)', 'Espinoza J. (Per)', 'Seminario L. (Per)', 'Villegas H. (Per)', 'Ortega K. (Arg)', 'Menendez A. (Per)', 'Ortega K. (Per)', 'Cartagena J. (Per)', 'Garay L. (Per)', 'Perez R. B. (Per)', 'Ordonez E. (Per)', 'Estadio Miguel Grau (Piura)', 'Legario F. (Per)', 'Alarcon J. (Per)', 'Espinoza J. (Per)', 'Alarcon J. (Per)', 'Estadio Miguel Grau (Callao)', 'Villegas H. (Per)', 'Cartagena J. (Per)', 'Perez R. B. (Per)', 'Ortega K. (Per)', 'Ordonez E. (Per)', 'Espinoza M. (Per)', 'Estadio Monumental (Lima)', 'Alarcon J. (Per)', 'Espinoza J. (Per)', 'Garay Evia L. (Per)', 'Ordonez E. (Per)', 'Menendez A. (Per)', 'Huaman D. (Per)', 'Perez R. B. (Per)', 'Seminario L. (Per)', 'Mendoza J. (Per)', 'Alarcon J. (Per)', 'Ordonez E. (Per)', 'Espinoza J. (Per)', 'Menendez A. (Per)', 'Cartagena J. (Per)', 'Perez R. B. (Per)', 'Lopez R. (Per)', 'Garay L. (Per)', 'Garay Evia L. (Per)', 'Legario F. (Per)', 'Alarcon J. (Per)', 'Zamora J. (Per)', 'Espinoza J. (Per)', 'Seminario L. (Per)', 'Ordonez E. (Per)', 'Lopez P. (Per)', 'Espinoza M. (Per)', 'Alarcon J. (Per)', 'Barbagelatta G. (Per)', 'Estadio Alejandro Villanueva (Lima)', 'Ordonez E. (Per)', 'Villegas H. (Per)', 'Maza P. (Chi)', 'Perez R. B. (Per)', 'Palomino M. (Per)', 'Legario F. (Per)', 'Espinoza J. (Per)', 'Estadio Huancayo (Huancayo)', 'Espinoza M. (Per)', 'Huaman D. (Per)', 'Perez R. B. (Per)', 'Legario F. (Per)', 'Garay L. (Per)', 'Ordonez E. (Per)', 'Cartagena J. (Per)', 'Espinoza M. (Per)', 'Cartagena J. (Per)', 'Alarcon J. (Per)', 'Perez R. B. (Per)', 'Lopez R. (Per)', 'Ordonez E. (Per)', 'Espinoza J. (Per)', 'Huaman D. (Per)', 'Legario F. (Per)', 'Barbagelatta G. (Per)', 'Perez R. B. (Per)', 'Alarcon J. (Per)', 'Espinoza M. (Per)', 'Legario F. (Per)', 'Cartagena J. (Per)', 'Espinoza J. (Per)', 'Palomino M. (Per)', 'Ortega K. (Per)', 'Cartagena J. (Per)', 'Huaman D. (Per)', 'Legario F. (Per)', 'Estadio Huancayo (Huancayo)', 'Alarcon J. (Per)', 'Espinoza M. (Per)', 'Ortega K. (Per)', 0]\n",
      "\n"
     ]
    },
    {
     "name": "stderr",
     "output_type": "stream",
     "text": [
      "[WDM] - ====== WebDriver manager ======\n",
      "[WDM] - Current google-chrome version is 104.0.5112\n",
      "[WDM] - Get LATEST chromedriver version for 104.0.5112 google-chrome\n",
      "[WDM] - Driver [C:\\Users\\PC-1\\.wdm\\drivers\\chromedriver\\win32\\104.0.5112.79\\chromedriver.exe] found in cache\n"
     ]
    },
    {
     "name": "stdout",
     "output_type": "stream",
     "text": [
      "Termino 218\n",
      "['Perez R. B. (Per)', 'Quiroz J. C. (Per)', 'Villegas H. (Per)', 'Lozano S. (Per)', 'Ortega K. (Per)', 'Menendez A. (Per)', 'Espinoza J. (Per)', 'Vasquez B. (Per)', 'Huamani J. (Per)', 'Lopez Ramos P. (Esp)', 'Garay L. (Per)', 'Ureta D. (Per)', 'Zamora J. (Per)', 'Alarcon J. (Per)', 'Cartagena J. (Per)', 'Villegas H. (Per)', 'Cori V. (Per)', 'Villanueva A. (Per)', 'Legario F. (Per)', 'Blas W. (Per)', 'Seminario L. (Per)', 'Perez R. B. (Per)', 'Ureta D. (Per)', 'Lozano S. (Per)', 'Ortega K. (Per)', 'Garay L. (Per)', 'Lopez Ramos P. (Esp)', 'Segura R. (Per)', 'Espinoza M. (Per)', 'Ordonez E. (Per)', 'Quiroz J. C. (Per)', 'Alarcon J. (Per)', 'Perez R. B. (Per)', 'Espinoza M. (Per)', 'Ortega K. (Per)', 'Ordonez E. (Per)', 'Espinoza J. (Per)', 'Huamani J. (Per)', 'Blas A. (Per)', 'Lopez P. (Per)', 'Seminario L. (Per)', 'Barbagelatta G. (Per)', 'Garay Evia L. (Per)', 'Lozano S. (Per)', 'Huaman D. (Per)', 'Vasquez B. (Per)', 'Legario F. (Per)', 'Villegas H. (Per)', 'Garay L. (Per)', 'Ureta D. (Per)', 'Espinoza M. (Per)', 'Cartagena J. (Per)', 'Cori V. (Per)', 'Ordonez E. (Per)', 'Estadio Inca Garcilaso de la Vega (Cusco)', 'Villanueva A. (Per)', 'Alarcon J. (Per)', 'Ciriaco L. (Per)', 'Lozano C. (Arg)', 'Alarcon J. (Per)', 'Perez R. B. (Per)', 'Villegas H. (Per)', 'Seminario L. (Per)', 'Ordonez E. (Per)', 'Cartagena J. (Per)', 'Chambi J. (Per)', 'Perez R. B. (Per)', 'Espinoza M. (Per)', 'Segura R. (Per)', 'Espinoza J. (Per)', 'Ureta D. (Per)', 'Garay L. (Per)', 'Quiroz J. (Per)', 'Estadio Inca Garcilaso de la Vega (Cusco)', 'Estadio Iván Elías Moreno (Lima)', 'Zamora J. (Per)', 'Lopez Ramos P. (Esp)', 'Garay L. (Per)', 'Perez R. B. (Per)', 'Ordonez E. (Per)', 'Espinoza M. (Per)', 'Zamora J. (Per)', 'Ureta D. (Per)', 'Menendez A. (Per)', 'Estadio San Martin de Porres (Lima)', 'Alarcon J. (Per)', 'Perez R. B. (Per)', 'Villanueva A. (Per)', 'Villegas H. (Per)', 'Lopez P. (Per)', 'Ortega K. (Per)', 'Zamora J. (Per)', 'Vasquez B. (Per)', 'Garay L. (Per)', 'Lopez R. (Per)', 'Espinoza J. (Per)', 'Villegas H. (Per)', 'Legario F. (Per)', 'Alarcon J. (Per)', 'Ortega K. (Per)', 'Ureta D. (Per)', 'Seminario L. (Per)', 'Lozano Segado J. (Esp)', 'Barbagelatta G. (Per)', 'Perez R. B. (Per)', 'Legario F. (Per)', 'Ortega K. (Per)', 'Alarcon J. (Per)', 'Seminario L. (Per)', 'Lopez P. (Per)', 'Estadio Monumental (Lima)', 'Menendez A. (Per)', 'Legario F. (Per)', 'Barbagelatta G. (Per)', 'Cartagena J. (Per)', 'Villegas H. (Per)', 'Huaman D. (Per)', 'Seminario L. (Per)', 'Alarcon J. (Per)', 'Espinoza M. (Per)', 'Menendez A. (Per)', 'Espinoza M. (Per)', 'Garay Evia L. (Per)', 'Ureta D. (Per)', 'Ciriaco L. (Per)', 'Cartagena J. (Per)', 'Espinoza J. (Per)', 'Seminario L. (Per)', 'Villegas H. (Per)', 'Ortega K. (Arg)', 'Menendez A. (Per)', 'Ortega K. (Per)', 'Cartagena J. (Per)', 'Garay L. (Per)', 'Perez R. B. (Per)', 'Ordonez E. (Per)', 'Estadio Miguel Grau (Piura)', 'Legario F. (Per)', 'Alarcon J. (Per)', 'Espinoza J. (Per)', 'Alarcon J. (Per)', 'Estadio Miguel Grau (Callao)', 'Villegas H. (Per)', 'Cartagena J. (Per)', 'Perez R. B. (Per)', 'Ortega K. (Per)', 'Ordonez E. (Per)', 'Espinoza M. (Per)', 'Estadio Monumental (Lima)', 'Alarcon J. (Per)', 'Espinoza J. (Per)', 'Garay Evia L. (Per)', 'Ordonez E. (Per)', 'Menendez A. (Per)', 'Huaman D. (Per)', 'Perez R. B. (Per)', 'Seminario L. (Per)', 'Mendoza J. (Per)', 'Alarcon J. (Per)', 'Ordonez E. (Per)', 'Espinoza J. (Per)', 'Menendez A. (Per)', 'Cartagena J. (Per)', 'Perez R. B. (Per)', 'Lopez R. (Per)', 'Garay L. (Per)', 'Garay Evia L. (Per)', 'Legario F. (Per)', 'Alarcon J. (Per)', 'Zamora J. (Per)', 'Espinoza J. (Per)', 'Seminario L. (Per)', 'Ordonez E. (Per)', 'Lopez P. (Per)', 'Espinoza M. (Per)', 'Alarcon J. (Per)', 'Barbagelatta G. (Per)', 'Estadio Alejandro Villanueva (Lima)', 'Ordonez E. (Per)', 'Villegas H. (Per)', 'Maza P. (Chi)', 'Perez R. B. (Per)', 'Palomino M. (Per)', 'Legario F. (Per)', 'Espinoza J. (Per)', 'Estadio Huancayo (Huancayo)', 'Espinoza M. (Per)', 'Huaman D. (Per)', 'Perez R. B. (Per)', 'Legario F. (Per)', 'Garay L. (Per)', 'Ordonez E. (Per)', 'Cartagena J. (Per)', 'Espinoza M. (Per)', 'Cartagena J. (Per)', 'Alarcon J. (Per)', 'Perez R. B. (Per)', 'Lopez R. (Per)', 'Ordonez E. (Per)', 'Espinoza J. (Per)', 'Huaman D. (Per)', 'Legario F. (Per)', 'Barbagelatta G. (Per)', 'Perez R. B. (Per)', 'Alarcon J. (Per)', 'Espinoza M. (Per)', 'Legario F. (Per)', 'Cartagena J. (Per)', 'Espinoza J. (Per)', 'Palomino M. (Per)', 'Ortega K. (Per)', 'Cartagena J. (Per)', 'Huaman D. (Per)', 'Legario F. (Per)', 'Estadio Huancayo (Huancayo)', 'Alarcon J. (Per)', 'Espinoza M. (Per)', 'Ortega K. (Per)', 'Blas A. (Per)']\n",
      " \n",
      "--------------------------------------------------------------------------------------------------------------------------------------\n",
      "El tiempo total fue de 159.4 segundos.\n",
      "--------------------------------------------------------------------------------------------------------------------------------------\n"
     ]
    }
   ],
   "source": [
    "#Caso que quedo fuera de los rangos\n",
    "time_inicio = time.time()\n",
    "referee(210,219)\n",
    "print(' ')\n",
    "print('--------------------------------------------------------------------------------------------------------------------------------------')\n",
    "print('El tiempo total fue de '+str(round(time.time()-time_inicio,2))+' segundos.')\n",
    "print('--------------------------------------------------------------------------------------------------------------------------------------')"
   ]
  },
  {
   "cell_type": "markdown",
   "id": "8e9e08ba",
   "metadata": {},
   "source": [
    "Explorando los resultados encontramos que para algunos casos se extrae el nombre del estadio y no del árbitro. La razón de este hecho es que para dichos partidos no se registró el nombre del árbitro, por lo que no hay acción correctiva alguna. Lo que sí se puede corregir es cambiar dichos nombres por valores faltantes, representados por \"-\". Identificamos estos nombres en la lista \"agregar_NaN\"."
   ]
  },
  {
   "cell_type": "code",
   "execution_count": 35,
   "id": "f0c29f49",
   "metadata": {},
   "outputs": [
    {
     "name": "stdout",
     "output_type": "stream",
     "text": [
      "['Perez R. B. (Per)', 'Quiroz J. C. (Per)', 'Villegas H. (Per)', 'Lozano S. (Per)', 'Ortega K. (Per)', 'Menendez A. (Per)', 'Espinoza J. (Per)', 'Vasquez B. (Per)', 'Huamani J. (Per)', 'Lopez Ramos P. (Esp)', 'Garay L. (Per)', 'Ureta D. (Per)', 'Zamora J. (Per)', 'Alarcon J. (Per)', 'Cartagena J. (Per)', 'Villegas H. (Per)', 'Cori V. (Per)', 'Villanueva A. (Per)', 'Legario F. (Per)', 'Blas W. (Per)', 'Seminario L. (Per)', 'Perez R. B. (Per)', 'Ureta D. (Per)', 'Lozano S. (Per)', 'Ortega K. (Per)', 'Garay L. (Per)', 'Lopez Ramos P. (Esp)', 'Segura R. (Per)', 'Espinoza M. (Per)', 'Ordonez E. (Per)', 'Quiroz J. C. (Per)', 'Alarcon J. (Per)', 'Perez R. B. (Per)', 'Espinoza M. (Per)', 'Ortega K. (Per)', 'Ordonez E. (Per)', 'Espinoza J. (Per)', 'Huamani J. (Per)', 'Blas A. (Per)', 'Lopez P. (Per)', 'Seminario L. (Per)', 'Barbagelatta G. (Per)', 'Garay Evia L. (Per)', 'Lozano S. (Per)', 'Huaman D. (Per)', 'Vasquez B. (Per)', 'Legario F. (Per)', 'Villegas H. (Per)', 'Garay L. (Per)', 'Ureta D. (Per)', 'Espinoza M. (Per)', 'Cartagena J. (Per)', 'Cori V. (Per)', 'Ordonez E. (Per)', '-', 'Villanueva A. (Per)', 'Alarcon J. (Per)', 'Ciriaco L. (Per)', 'Lozano C. (Arg)', 'Alarcon J. (Per)', 'Perez R. B. (Per)', 'Villegas H. (Per)', 'Seminario L. (Per)', 'Ordonez E. (Per)', 'Cartagena J. (Per)', 'Chambi J. (Per)', 'Perez R. B. (Per)', 'Espinoza M. (Per)', 'Segura R. (Per)', 'Espinoza J. (Per)', 'Ureta D. (Per)', 'Garay L. (Per)', 'Quiroz J. (Per)', '-', '-', 'Zamora J. (Per)', 'Lopez Ramos P. (Esp)', 'Garay L. (Per)', 'Perez R. B. (Per)', 'Ordonez E. (Per)', 'Espinoza M. (Per)', 'Zamora J. (Per)', 'Ureta D. (Per)', 'Menendez A. (Per)', '-', 'Alarcon J. (Per)', 'Perez R. B. (Per)', 'Villanueva A. (Per)', 'Villegas H. (Per)', 'Lopez P. (Per)', 'Ortega K. (Per)', 'Zamora J. (Per)', 'Vasquez B. (Per)', 'Garay L. (Per)', 'Lopez R. (Per)', 'Espinoza J. (Per)', 'Villegas H. (Per)', 'Legario F. (Per)', 'Alarcon J. (Per)', 'Ortega K. (Per)', 'Ureta D. (Per)', 'Seminario L. (Per)', 'Lozano Segado J. (Esp)', 'Barbagelatta G. (Per)', 'Perez R. B. (Per)', 'Legario F. (Per)', 'Ortega K. (Per)', 'Alarcon J. (Per)', 'Seminario L. (Per)', 'Lopez P. (Per)', '-', 'Menendez A. (Per)', 'Legario F. (Per)', 'Barbagelatta G. (Per)', 'Cartagena J. (Per)', 'Villegas H. (Per)', 'Huaman D. (Per)', 'Seminario L. (Per)', 'Alarcon J. (Per)', 'Espinoza M. (Per)', 'Menendez A. (Per)', 'Espinoza M. (Per)', 'Garay Evia L. (Per)', 'Ureta D. (Per)', 'Ciriaco L. (Per)', 'Cartagena J. (Per)', 'Espinoza J. (Per)', 'Seminario L. (Per)', 'Villegas H. (Per)', 'Ortega K. (Arg)', 'Menendez A. (Per)', 'Ortega K. (Per)', 'Cartagena J. (Per)', 'Garay L. (Per)', 'Perez R. B. (Per)', 'Ordonez E. (Per)', '-', 'Legario F. (Per)', 'Alarcon J. (Per)', 'Espinoza J. (Per)', 'Alarcon J. (Per)', '-', 'Villegas H. (Per)', 'Cartagena J. (Per)', 'Perez R. B. (Per)', 'Ortega K. (Per)', 'Ordonez E. (Per)', 'Espinoza M. (Per)', '-', 'Alarcon J. (Per)', 'Espinoza J. (Per)', 'Garay Evia L. (Per)', 'Ordonez E. (Per)', 'Menendez A. (Per)', 'Huaman D. (Per)', 'Perez R. B. (Per)', 'Seminario L. (Per)', 'Mendoza J. (Per)', 'Alarcon J. (Per)', 'Ordonez E. (Per)', 'Espinoza J. (Per)', 'Menendez A. (Per)', 'Cartagena J. (Per)', 'Perez R. B. (Per)', 'Lopez R. (Per)', 'Garay L. (Per)', 'Garay Evia L. (Per)', 'Legario F. (Per)', 'Alarcon J. (Per)', 'Zamora J. (Per)', 'Espinoza J. (Per)', 'Seminario L. (Per)', 'Ordonez E. (Per)', 'Lopez P. (Per)', 'Espinoza M. (Per)', 'Alarcon J. (Per)', 'Barbagelatta G. (Per)', '-', 'Ordonez E. (Per)', 'Villegas H. (Per)', 'Maza P. (Chi)', 'Perez R. B. (Per)', 'Palomino M. (Per)', 'Legario F. (Per)', 'Espinoza J. (Per)', '-', 'Espinoza M. (Per)', 'Huaman D. (Per)', 'Perez R. B. (Per)', 'Legario F. (Per)', 'Garay L. (Per)', 'Ordonez E. (Per)', 'Cartagena J. (Per)', 'Espinoza M. (Per)', 'Cartagena J. (Per)', 'Alarcon J. (Per)', 'Perez R. B. (Per)', 'Lopez R. (Per)', 'Ordonez E. (Per)', 'Espinoza J. (Per)', 'Huaman D. (Per)', 'Legario F. (Per)', 'Barbagelatta G. (Per)', 'Perez R. B. (Per)', 'Alarcon J. (Per)', 'Espinoza M. (Per)', 'Legario F. (Per)', 'Cartagena J. (Per)', 'Espinoza J. (Per)', 'Palomino M. (Per)', 'Ortega K. (Per)', 'Cartagena J. (Per)', 'Huaman D. (Per)', 'Legario F. (Per)', '-', 'Alarcon J. (Per)', 'Espinoza M. (Per)', 'Ortega K. (Per)', 'Blas A. (Per)']\n"
     ]
    }
   ],
   "source": [
    "agregar_NaN=['Estadio Monumental (Lima)','Estadio Huancayo (Huancayo)','Estadio Inca Garcilaso de la Vega (Cusco)',\n",
    "            'Estadio Miguel Grau (Piura)','Estadio Miguel Grau (Callao)','Estadio San Martin de Porres (Lima)',\n",
    "            'stadio Iván Elías Moreno (Lima)','Estadio Alejandro Villanueva (Lima)','Estadio Iván Elías Moreno (Lima)']\n",
    "for j in agregar_NaN:\n",
    "    for i in range(len(arbitro)):\n",
    "        if arbitro[i]==j:\n",
    "            arbitro[i]='-'\n",
    "print(arbitro)"
   ]
  },
  {
   "cell_type": "markdown",
   "id": "caece92b",
   "metadata": {},
   "source": [
    "Explorando los resultados se determinó que el número de NaN que se han colocado es 12 y representa el 7.76%. Asimismo, en la siguiente tabla se explora el número de partidos por arbitro que se registra."
   ]
  },
  {
   "cell_type": "code",
   "execution_count": 39,
   "id": "535d290e",
   "metadata": {},
   "outputs": [
    {
     "name": "stdout",
     "output_type": "stream",
     "text": [
      "La cantidad de NaN es 12 (7.76 %).\n"
     ]
    },
    {
     "data": {
      "text/html": [
       "<div>\n",
       "<style scoped>\n",
       "    .dataframe tbody tr th:only-of-type {\n",
       "        vertical-align: middle;\n",
       "    }\n",
       "\n",
       "    .dataframe tbody tr th {\n",
       "        vertical-align: top;\n",
       "    }\n",
       "\n",
       "    .dataframe thead th {\n",
       "        text-align: right;\n",
       "    }\n",
       "</style>\n",
       "<table border=\"1\" class=\"dataframe\">\n",
       "  <thead>\n",
       "    <tr style=\"text-align: right;\">\n",
       "      <th></th>\n",
       "      <th>Arbitro</th>\n",
       "      <th>Partidos</th>\n",
       "    </tr>\n",
       "  </thead>\n",
       "  <tbody>\n",
       "    <tr>\n",
       "      <th>0</th>\n",
       "      <td>Alarcon J. (Per)</td>\n",
       "      <td>17</td>\n",
       "    </tr>\n",
       "    <tr>\n",
       "      <th>1</th>\n",
       "      <td>Perez R. B. (Per)</td>\n",
       "      <td>16</td>\n",
       "    </tr>\n",
       "    <tr>\n",
       "      <th>2</th>\n",
       "      <td>Ordonez E. (Per)</td>\n",
       "      <td>13</td>\n",
       "    </tr>\n",
       "    <tr>\n",
       "      <th>3</th>\n",
       "      <td>Espinoza M. (Per)</td>\n",
       "      <td>13</td>\n",
       "    </tr>\n",
       "    <tr>\n",
       "      <th>4</th>\n",
       "      <td>Legario F. (Per)</td>\n",
       "      <td>12</td>\n",
       "    </tr>\n",
       "    <tr>\n",
       "      <th>5</th>\n",
       "      <td>Cartagena J. (Per)</td>\n",
       "      <td>12</td>\n",
       "    </tr>\n",
       "    <tr>\n",
       "      <th>6</th>\n",
       "      <td>Espinoza J. (Per)</td>\n",
       "      <td>12</td>\n",
       "    </tr>\n",
       "    <tr>\n",
       "      <th>7</th>\n",
       "      <td>Villegas H. (Per)</td>\n",
       "      <td>10</td>\n",
       "    </tr>\n",
       "    <tr>\n",
       "      <th>8</th>\n",
       "      <td>Ortega K. (Per)</td>\n",
       "      <td>10</td>\n",
       "    </tr>\n",
       "    <tr>\n",
       "      <th>9</th>\n",
       "      <td>Seminario L. (Per)</td>\n",
       "      <td>9</td>\n",
       "    </tr>\n",
       "    <tr>\n",
       "      <th>10</th>\n",
       "      <td>Garay L. (Per)</td>\n",
       "      <td>9</td>\n",
       "    </tr>\n",
       "    <tr>\n",
       "      <th>11</th>\n",
       "      <td>Ureta D. (Per)</td>\n",
       "      <td>7</td>\n",
       "    </tr>\n",
       "    <tr>\n",
       "      <th>12</th>\n",
       "      <td>Menendez A. (Per)</td>\n",
       "      <td>7</td>\n",
       "    </tr>\n",
       "    <tr>\n",
       "      <th>13</th>\n",
       "      <td>Huaman D. (Per)</td>\n",
       "      <td>6</td>\n",
       "    </tr>\n",
       "    <tr>\n",
       "      <th>14</th>\n",
       "      <td>Zamora J. (Per)</td>\n",
       "      <td>5</td>\n",
       "    </tr>\n",
       "    <tr>\n",
       "      <th>15</th>\n",
       "      <td>Barbagelatta G. (Per)</td>\n",
       "      <td>5</td>\n",
       "    </tr>\n",
       "    <tr>\n",
       "      <th>16</th>\n",
       "      <td>Lopez P. (Per)</td>\n",
       "      <td>4</td>\n",
       "    </tr>\n",
       "    <tr>\n",
       "      <th>17</th>\n",
       "      <td>Garay Evia L. (Per)</td>\n",
       "      <td>4</td>\n",
       "    </tr>\n",
       "    <tr>\n",
       "      <th>18</th>\n",
       "      <td>Lopez Ramos P. (Esp)</td>\n",
       "      <td>3</td>\n",
       "    </tr>\n",
       "    <tr>\n",
       "      <th>19</th>\n",
       "      <td>Lozano S. (Per)</td>\n",
       "      <td>3</td>\n",
       "    </tr>\n",
       "    <tr>\n",
       "      <th>20</th>\n",
       "      <td>Villanueva A. (Per)</td>\n",
       "      <td>3</td>\n",
       "    </tr>\n",
       "    <tr>\n",
       "      <th>21</th>\n",
       "      <td>Vasquez B. (Per)</td>\n",
       "      <td>3</td>\n",
       "    </tr>\n",
       "    <tr>\n",
       "      <th>22</th>\n",
       "      <td>Lopez R. (Per)</td>\n",
       "      <td>3</td>\n",
       "    </tr>\n",
       "    <tr>\n",
       "      <th>23</th>\n",
       "      <td>Palomino M. (Per)</td>\n",
       "      <td>2</td>\n",
       "    </tr>\n",
       "    <tr>\n",
       "      <th>24</th>\n",
       "      <td>Blas A. (Per)</td>\n",
       "      <td>2</td>\n",
       "    </tr>\n",
       "    <tr>\n",
       "      <th>25</th>\n",
       "      <td>Segura R. (Per)</td>\n",
       "      <td>2</td>\n",
       "    </tr>\n",
       "    <tr>\n",
       "      <th>26</th>\n",
       "      <td>Quiroz J. C. (Per)</td>\n",
       "      <td>2</td>\n",
       "    </tr>\n",
       "    <tr>\n",
       "      <th>27</th>\n",
       "      <td>Ciriaco L. (Per)</td>\n",
       "      <td>2</td>\n",
       "    </tr>\n",
       "    <tr>\n",
       "      <th>28</th>\n",
       "      <td>Cori V. (Per)</td>\n",
       "      <td>2</td>\n",
       "    </tr>\n",
       "    <tr>\n",
       "      <th>29</th>\n",
       "      <td>Huamani J. (Per)</td>\n",
       "      <td>2</td>\n",
       "    </tr>\n",
       "    <tr>\n",
       "      <th>30</th>\n",
       "      <td>Chambi J. (Per)</td>\n",
       "      <td>1</td>\n",
       "    </tr>\n",
       "    <tr>\n",
       "      <th>31</th>\n",
       "      <td>Quiroz J. (Per)</td>\n",
       "      <td>1</td>\n",
       "    </tr>\n",
       "    <tr>\n",
       "      <th>32</th>\n",
       "      <td>Ortega K. (Arg)</td>\n",
       "      <td>1</td>\n",
       "    </tr>\n",
       "    <tr>\n",
       "      <th>33</th>\n",
       "      <td>Blas W. (Per)</td>\n",
       "      <td>1</td>\n",
       "    </tr>\n",
       "    <tr>\n",
       "      <th>34</th>\n",
       "      <td>Mendoza J. (Per)</td>\n",
       "      <td>1</td>\n",
       "    </tr>\n",
       "    <tr>\n",
       "      <th>35</th>\n",
       "      <td>Maza P. (Chi)</td>\n",
       "      <td>1</td>\n",
       "    </tr>\n",
       "    <tr>\n",
       "      <th>36</th>\n",
       "      <td>Lozano Segado J. (Esp)</td>\n",
       "      <td>1</td>\n",
       "    </tr>\n",
       "    <tr>\n",
       "      <th>37</th>\n",
       "      <td>Lozano C. (Arg)</td>\n",
       "      <td>1</td>\n",
       "    </tr>\n",
       "  </tbody>\n",
       "</table>\n",
       "</div>"
      ],
      "text/plain": [
       "                   Arbitro  Partidos\n",
       "0         Alarcon J. (Per)        17\n",
       "1        Perez R. B. (Per)        16\n",
       "2         Ordonez E. (Per)        13\n",
       "3        Espinoza M. (Per)        13\n",
       "4         Legario F. (Per)        12\n",
       "5       Cartagena J. (Per)        12\n",
       "6        Espinoza J. (Per)        12\n",
       "7        Villegas H. (Per)        10\n",
       "8          Ortega K. (Per)        10\n",
       "9       Seminario L. (Per)         9\n",
       "10          Garay L. (Per)         9\n",
       "11          Ureta D. (Per)         7\n",
       "12       Menendez A. (Per)         7\n",
       "13         Huaman D. (Per)         6\n",
       "14         Zamora J. (Per)         5\n",
       "15   Barbagelatta G. (Per)         5\n",
       "16          Lopez P. (Per)         4\n",
       "17     Garay Evia L. (Per)         4\n",
       "18    Lopez Ramos P. (Esp)         3\n",
       "19         Lozano S. (Per)         3\n",
       "20     Villanueva A. (Per)         3\n",
       "21        Vasquez B. (Per)         3\n",
       "22          Lopez R. (Per)         3\n",
       "23       Palomino M. (Per)         2\n",
       "24           Blas A. (Per)         2\n",
       "25         Segura R. (Per)         2\n",
       "26      Quiroz J. C. (Per)         2\n",
       "27        Ciriaco L. (Per)         2\n",
       "28           Cori V. (Per)         2\n",
       "29        Huamani J. (Per)         2\n",
       "30         Chambi J. (Per)         1\n",
       "31         Quiroz J. (Per)         1\n",
       "32         Ortega K. (Arg)         1\n",
       "33           Blas W. (Per)         1\n",
       "34        Mendoza J. (Per)         1\n",
       "35           Maza P. (Chi)         1\n",
       "36  Lozano Segado J. (Esp)         1\n",
       "37         Lozano C. (Arg)         1"
      ]
     },
     "execution_count": 39,
     "metadata": {},
     "output_type": "execute_result"
    }
   ],
   "source": [
    "values, counts = np.unique(arbitro, return_counts=True)\n",
    "data = {'Arbitro': list(values), 'Partidos': list(counts)}\n",
    "tabla_arbitro=pd.DataFrame(data).sort_values('Partidos',ascending=False).reset_index(drop=True)\n",
    "print('La cantidad de NaN es '+str(tabla_arbitro.Partidos[6])+' ('+ str(round(tabla_arbitro.Partidos[0]/tabla_arbitro.Partidos.sum()*100,2))+' %).')\n",
    "tabla_arbitro.drop(tabla_arbitro.index[[7]]).reset_index(drop=True)"
   ]
  },
  {
   "cell_type": "markdown",
   "id": "940319cd",
   "metadata": {},
   "source": [
    "## Extracción de multiples datos y creación de base"
   ]
  },
  {
   "cell_type": "markdown",
   "id": "1ce71859",
   "metadata": {},
   "source": [
    "En esta sección nos centraremos en extraer datos relacionados con el partido y equipos. Los datos de interés se encuentran en una sub pestaña de nombre \"Estadísticas\". Explorando las opciones para acceder a esta pestaña se optó por proceder mediante la dirección \"url\". Para ello necesitamos añadir a la dirección anteriormente usada el siguiente texto: '/#/resumen-del-partido/estadisticas-del-partido/0'. Tras explorar las diversas opciones para extraer los datos y las similitudes con las secciones anteriores se diseñó una estrategia muy similar. Se crearon tres bases previas para almacenar los datos: dt_local, almacenara los datos del equipo local; dt_visita, almacenara los datos del equipo de visita y key_list, almacena el nombre de las variables de interés. El primer reto que se encontró está relacionado con las variables de interés puesto que dichas variables no se reportan o mantienen el mismo orden. Para ello se optó por extraer toda la sección y extraer los datos de manera similar que para los árbitros. Para fijar los limites transformamos la lista de almacenada como texto a lista, separado por '\\n', y la lista 'key_list'. En conjunto nos permiten separar las variables de interés y fijar un orden determinado. Por otro lado, se mantuvo la estrategia del uso de \"threads\" por razones antes expuestas en la sección anterior. El número de hilos usados en el presente proceso fue de 15 y el tiempo total fue 6.13 minutos."
   ]
  },
  {
   "cell_type": "code",
   "execution_count": 43,
   "id": "cdf7ff95",
   "metadata": {},
   "outputs": [],
   "source": [
    "dt_local=pd.DataFrame(columns=['Fecha','Local','GL','Posesión de balón','Remates','Remates a puerta','Remates fuera','Remates rechazados','Córneres',\n",
    "         'Fueras de juego','Paradas','Faltas','Tarjetas rojas','Tarjetas amarillas','Pases totales','Tackles',\n",
    "          'Ataques','Ataques peligrosos'], index=range(len(result_buscar)))\n",
    "dt_visita=pd.DataFrame(columns=['Visita','GV','Posesión de balón','Remates','Remates a puerta','Remates fuera','Remates rechazados','Córneres',\n",
    "         'Fueras de juego','Paradas','Faltas','Tarjetas rojas','Tarjetas amarillas','Pases totales','Tackles',\n",
    "          'Ataques','Ataques peligrosos'], index=range(len(result_buscar)))\n",
    "key_list=['Posesión de balón','Remates','Remates a puerta','Remates fuera','Remates rechazados','Córneres',\n",
    "         'Fueras de juego','Paradas','Faltas','Tarjetas rojas','Tarjetas amarillas','Pases totales','Tackles',\n",
    "          'Ataques','Ataques peligrosos']"
   ]
  },
  {
   "cell_type": "code",
   "execution_count": 45,
   "id": "addcd4ba",
   "metadata": {
    "collapsed": true
   },
   "outputs": [
    {
     "name": "stdout",
     "output_type": "stream",
     "text": [
      "\n",
      "\n",
      "\n",
      "\n"
     ]
    },
    {
     "name": "stderr",
     "output_type": "stream",
     "text": [
      "[WDM] - ====== WebDriver manager ======\n"
     ]
    },
    {
     "name": "stdout",
     "output_type": "stream",
     "text": [
      "\n",
      "\n",
      "\n",
      "\n"
     ]
    },
    {
     "name": "stderr",
     "output_type": "stream",
     "text": [
      "[WDM] - ====== WebDriver manager ======\n"
     ]
    },
    {
     "name": "stdout",
     "output_type": "stream",
     "text": [
      "\n",
      "\n",
      "\n"
     ]
    },
    {
     "name": "stderr",
     "output_type": "stream",
     "text": [
      "[WDM] - ====== WebDriver manager ======\n"
     ]
    },
    {
     "name": "stdout",
     "output_type": "stream",
     "text": [
      "\n",
      "\n",
      "\n",
      "\n"
     ]
    },
    {
     "name": "stderr",
     "output_type": "stream",
     "text": [
      "[WDM] - ====== WebDriver manager ======\n",
      "[WDM] - ====== WebDriver manager ======\n",
      "[WDM] - ====== WebDriver manager ======\n",
      "[WDM] - ====== WebDriver manager ======\n",
      "[WDM] - ====== WebDriver manager ======\n",
      "[WDM] - ====== WebDriver manager ======\n",
      "[WDM] - ====== WebDriver manager ======\n",
      "[WDM] - ====== WebDriver manager ======\n",
      "[WDM] - ====== WebDriver manager ======\n",
      "[WDM] - ====== WebDriver manager ======\n",
      "[WDM] - ====== WebDriver manager ======\n",
      "[WDM] - ====== WebDriver manager ======\n",
      "[WDM] - Current google-chrome version is 104.0.5112\n",
      "[WDM] - Get LATEST chromedriver version for 104.0.5112 google-chrome\n",
      "[WDM] - Current google-chrome version is 104.0.5112\n",
      "[WDM] - Current google-chrome version is 104.0.5112\n",
      "[WDM] - Current google-chrome version is 104.0.5112\n",
      "[WDM] - Current google-chrome version is 104.0.5112\n",
      "[WDM] - Get LATEST chromedriver version for 104.0.5112 google-chrome\n",
      "[WDM] - Get LATEST chromedriver version for 104.0.5112 google-chrome\n",
      "[WDM] - Get LATEST chromedriver version for 104.0.5112 google-chrome\n",
      "[WDM] - Get LATEST chromedriver version for 104.0.5112 google-chrome\n",
      "[WDM] - Current google-chrome version is 104.0.5112\n",
      "[WDM] - Current google-chrome version is 104.0.5112\n",
      "[WDM] - Current google-chrome version is 104.0.5112\n",
      "[WDM] - Current google-chrome version is 104.0.5112\n",
      "[WDM] - Get LATEST chromedriver version for 104.0.5112 google-chrome\n",
      "[WDM] - Get LATEST chromedriver version for 104.0.5112 google-chrome\n",
      "[WDM] - Get LATEST chromedriver version for 104.0.5112 google-chrome\n",
      "[WDM] - Get LATEST chromedriver version for 104.0.5112 google-chrome\n",
      "[WDM] - Current google-chrome version is 104.0.5112\n",
      "[WDM] - Current google-chrome version is 104.0.5112\n",
      "[WDM] - Current google-chrome version is 104.0.5112\n",
      "[WDM] - Current google-chrome version is 104.0.5112\n",
      "[WDM] - Current google-chrome version is 104.0.5112\n",
      "[WDM] - Get LATEST chromedriver version for 104.0.5112 google-chrome\n",
      "[WDM] - Get LATEST chromedriver version for 104.0.5112 google-chrome\n",
      "[WDM] - Get LATEST chromedriver version for 104.0.5112 google-chrome\n",
      "[WDM] - Get LATEST chromedriver version for 104.0.5112 google-chrome\n",
      "[WDM] - Get LATEST chromedriver version for 104.0.5112 google-chrome\n",
      "[WDM] - Current google-chrome version is 104.0.5112\n",
      "[WDM] - Get LATEST chromedriver version for 104.0.5112 google-chrome\n",
      "[WDM] - Driver [C:\\Users\\PC-1\\.wdm\\drivers\\chromedriver\\win32\\104.0.5112.79\\chromedriver.exe] found in cache\n",
      "C:\\Users\\PC-1\\AppData\\Local\\Temp\\ipykernel_24140\\2540876866.py:3: DeprecationWarning: executable_path has been deprecated, please pass in a Service object\n",
      "  driver = webdriver.Chrome(ChromeDriverManager().install())\n",
      "[WDM] - Driver [C:\\Users\\PC-1\\.wdm\\drivers\\chromedriver\\win32\\104.0.5112.79\\chromedriver.exe] found in cache\n",
      "[WDM] - Driver [C:\\Users\\PC-1\\.wdm\\drivers\\chromedriver\\win32\\104.0.5112.79\\chromedriver.exe] found in cache\n",
      "[WDM] - Driver [C:\\Users\\PC-1\\.wdm\\drivers\\chromedriver\\win32\\104.0.5112.79\\chromedriver.exe] found in cache\n",
      "[WDM] - Driver [C:\\Users\\PC-1\\.wdm\\drivers\\chromedriver\\win32\\104.0.5112.79\\chromedriver.exe] found in cache\n",
      "[WDM] - Driver [C:\\Users\\PC-1\\.wdm\\drivers\\chromedriver\\win32\\104.0.5112.79\\chromedriver.exe] found in cache\n",
      "[WDM] - Driver [C:\\Users\\PC-1\\.wdm\\drivers\\chromedriver\\win32\\104.0.5112.79\\chromedriver.exe] found in cache\n",
      "[WDM] - Driver [C:\\Users\\PC-1\\.wdm\\drivers\\chromedriver\\win32\\104.0.5112.79\\chromedriver.exe] found in cache\n",
      "[WDM] - Driver [C:\\Users\\PC-1\\.wdm\\drivers\\chromedriver\\win32\\104.0.5112.79\\chromedriver.exe] found in cache\n",
      "[WDM] - Driver [C:\\Users\\PC-1\\.wdm\\drivers\\chromedriver\\win32\\104.0.5112.79\\chromedriver.exe] found in cache\n",
      "[WDM] - Driver [C:\\Users\\PC-1\\.wdm\\drivers\\chromedriver\\win32\\104.0.5112.79\\chromedriver.exe] found in cache\n",
      "[WDM] - Driver [C:\\Users\\PC-1\\.wdm\\drivers\\chromedriver\\win32\\104.0.5112.79\\chromedriver.exe] found in cache\n",
      "[WDM] - Driver [C:\\Users\\PC-1\\.wdm\\drivers\\chromedriver\\win32\\104.0.5112.79\\chromedriver.exe] found in cache\n",
      "[WDM] - Driver [C:\\Users\\PC-1\\.wdm\\drivers\\chromedriver\\win32\\104.0.5112.79\\chromedriver.exe] found in cache\n",
      "[WDM] - Driver [C:\\Users\\PC-1\\.wdm\\drivers\\chromedriver\\win32\\104.0.5112.79\\chromedriver.exe] found in cache\n"
     ]
    },
    {
     "name": "stdout",
     "output_type": "stream",
     "text": [
      "\n"
     ]
    },
    {
     "name": "stderr",
     "output_type": "stream",
     "text": [
      "[WDM] - ====== WebDriver manager ======\n",
      "[WDM] - Current google-chrome version is 104.0.5112\n",
      "[WDM] - Get LATEST chromedriver version for 104.0.5112 google-chrome\n",
      "[WDM] - Driver [C:\\Users\\PC-1\\.wdm\\drivers\\chromedriver\\win32\\104.0.5112.79\\chromedriver.exe] found in cache\n"
     ]
    },
    {
     "name": "stdout",
     "output_type": "stream",
     "text": [
      "\n"
     ]
    },
    {
     "name": "stderr",
     "output_type": "stream",
     "text": [
      "[WDM] - ====== WebDriver manager ======\n",
      "[WDM] - Current google-chrome version is 104.0.5112\n",
      "[WDM] - Get LATEST chromedriver version for 104.0.5112 google-chrome\n",
      "[WDM] - Driver [C:\\Users\\PC-1\\.wdm\\drivers\\chromedriver\\win32\\104.0.5112.79\\chromedriver.exe] found in cache\n"
     ]
    },
    {
     "name": "stdout",
     "output_type": "stream",
     "text": [
      "\n"
     ]
    },
    {
     "name": "stderr",
     "output_type": "stream",
     "text": [
      "[WDM] - ====== WebDriver manager ======\n",
      "[WDM] - Current google-chrome version is 104.0.5112\n",
      "[WDM] - Get LATEST chromedriver version for 104.0.5112 google-chrome\n"
     ]
    },
    {
     "name": "stdout",
     "output_type": "stream",
     "text": [
      "\n"
     ]
    },
    {
     "name": "stderr",
     "output_type": "stream",
     "text": [
      "[WDM] - ====== WebDriver manager ======\n",
      "[WDM] - Driver [C:\\Users\\PC-1\\.wdm\\drivers\\chromedriver\\win32\\104.0.5112.79\\chromedriver.exe] found in cache\n",
      "[WDM] - Current google-chrome version is 104.0.5112\n",
      "[WDM] - Get LATEST chromedriver version for 104.0.5112 google-chrome\n"
     ]
    },
    {
     "name": "stdout",
     "output_type": "stream",
     "text": [
      "\n"
     ]
    },
    {
     "name": "stderr",
     "output_type": "stream",
     "text": [
      "[WDM] - ====== WebDriver manager ======\n",
      "[WDM] - Driver [C:\\Users\\PC-1\\.wdm\\drivers\\chromedriver\\win32\\104.0.5112.79\\chromedriver.exe] found in cache\n"
     ]
    },
    {
     "name": "stdout",
     "output_type": "stream",
     "text": [
      "\n"
     ]
    },
    {
     "name": "stderr",
     "output_type": "stream",
     "text": [
      "[WDM] - ====== WebDriver manager ======\n",
      "[WDM] - Current google-chrome version is 104.0.5112\n",
      "[WDM] - Get LATEST chromedriver version for 104.0.5112 google-chrome\n",
      "[WDM] - Driver [C:\\Users\\PC-1\\.wdm\\drivers\\chromedriver\\win32\\104.0.5112.79\\chromedriver.exe] found in cache\n"
     ]
    },
    {
     "name": "stdout",
     "output_type": "stream",
     "text": [
      "\n"
     ]
    },
    {
     "name": "stderr",
     "output_type": "stream",
     "text": [
      "[WDM] - ====== WebDriver manager ======\n",
      "[WDM] - Current google-chrome version is 104.0.5112\n",
      "[WDM] - Get LATEST chromedriver version for 104.0.5112 google-chrome\n"
     ]
    },
    {
     "name": "stdout",
     "output_type": "stream",
     "text": [
      "\n"
     ]
    },
    {
     "name": "stderr",
     "output_type": "stream",
     "text": [
      "[WDM] - ====== WebDriver manager ======\n"
     ]
    },
    {
     "name": "stdout",
     "output_type": "stream",
     "text": [
      "\n"
     ]
    },
    {
     "name": "stderr",
     "output_type": "stream",
     "text": [
      "[WDM] - ====== WebDriver manager ======\n",
      "[WDM] - Driver [C:\\Users\\PC-1\\.wdm\\drivers\\chromedriver\\win32\\104.0.5112.79\\chromedriver.exe] found in cache\n"
     ]
    },
    {
     "name": "stdout",
     "output_type": "stream",
     "text": [
      "\n"
     ]
    },
    {
     "name": "stderr",
     "output_type": "stream",
     "text": [
      "[WDM] - ====== WebDriver manager ======\n"
     ]
    },
    {
     "name": "stdout",
     "output_type": "stream",
     "text": [
      "\n"
     ]
    },
    {
     "name": "stderr",
     "output_type": "stream",
     "text": [
      "[WDM] - ====== WebDriver manager ======\n"
     ]
    },
    {
     "name": "stdout",
     "output_type": "stream",
     "text": [
      "\n"
     ]
    },
    {
     "name": "stderr",
     "output_type": "stream",
     "text": [
      "[WDM] - ====== WebDriver manager ======\n"
     ]
    },
    {
     "name": "stdout",
     "output_type": "stream",
     "text": [
      "\n"
     ]
    },
    {
     "name": "stderr",
     "output_type": "stream",
     "text": [
      "[WDM] - ====== WebDriver manager ======\n"
     ]
    },
    {
     "name": "stdout",
     "output_type": "stream",
     "text": [
      "\n"
     ]
    },
    {
     "name": "stderr",
     "output_type": "stream",
     "text": [
      "[WDM] - ====== WebDriver manager ======\n",
      "[WDM] - Current google-chrome version is 104.0.5112\n",
      "[WDM] - Get LATEST chromedriver version for 104.0.5112 google-chrome\n",
      "[WDM] - Current google-chrome version is 104.0.5112\n",
      "[WDM] - Get LATEST chromedriver version for 104.0.5112 google-chrome\n",
      "[WDM] - Current google-chrome version is 104.0.5112\n",
      "[WDM] - Get LATEST chromedriver version for 104.0.5112 google-chrome\n"
     ]
    },
    {
     "name": "stdout",
     "output_type": "stream",
     "text": [
      "\n"
     ]
    },
    {
     "name": "stderr",
     "output_type": "stream",
     "text": [
      "[WDM] - ====== WebDriver manager ======\n",
      "[WDM] - Current google-chrome version is 104.0.5112\n",
      "[WDM] - Get LATEST chromedriver version for 104.0.5112 google-chrome\n",
      "[WDM] - Driver [C:\\Users\\PC-1\\.wdm\\drivers\\chromedriver\\win32\\104.0.5112.79\\chromedriver.exe] found in cache\n",
      "[WDM] - Current google-chrome version is 104.0.5112\n",
      "[WDM] - Get LATEST chromedriver version for 104.0.5112 google-chrome\n",
      "[WDM] - Current google-chrome version is 104.0.5112\n",
      "[WDM] - Get LATEST chromedriver version for 104.0.5112 google-chrome\n",
      "[WDM] - Current google-chrome version is 104.0.5112\n",
      "[WDM] - Get LATEST chromedriver version for 104.0.5112 google-chrome\n",
      "[WDM] - Driver [C:\\Users\\PC-1\\.wdm\\drivers\\chromedriver\\win32\\104.0.5112.79\\chromedriver.exe] found in cache\n",
      "[WDM] - Current google-chrome version is 104.0.5112\n",
      "[WDM] - Get LATEST chromedriver version for 104.0.5112 google-chrome\n",
      "[WDM] - Driver [C:\\Users\\PC-1\\.wdm\\drivers\\chromedriver\\win32\\104.0.5112.79\\chromedriver.exe] found in cache\n",
      "[WDM] - Driver [C:\\Users\\PC-1\\.wdm\\drivers\\chromedriver\\win32\\104.0.5112.79\\chromedriver.exe] found in cache\n",
      "[WDM] - Driver [C:\\Users\\PC-1\\.wdm\\drivers\\chromedriver\\win32\\104.0.5112.79\\chromedriver.exe] found in cache\n",
      "[WDM] - Driver [C:\\Users\\PC-1\\.wdm\\drivers\\chromedriver\\win32\\104.0.5112.79\\chromedriver.exe] found in cache\n",
      "[WDM] - Driver [C:\\Users\\PC-1\\.wdm\\drivers\\chromedriver\\win32\\104.0.5112.79\\chromedriver.exe] found in cache\n",
      "[WDM] - Driver [C:\\Users\\PC-1\\.wdm\\drivers\\chromedriver\\win32\\104.0.5112.79\\chromedriver.exe] found in cache\n"
     ]
    },
    {
     "name": "stdout",
     "output_type": "stream",
     "text": [
      "\n"
     ]
    },
    {
     "name": "stderr",
     "output_type": "stream",
     "text": [
      "[WDM] - ====== WebDriver manager ======\n"
     ]
    },
    {
     "name": "stdout",
     "output_type": "stream",
     "text": [
      "\n"
     ]
    },
    {
     "name": "stderr",
     "output_type": "stream",
     "text": [
      "[WDM] - ====== WebDriver manager ======\n",
      "[WDM] - Current google-chrome version is 104.0.5112\n",
      "[WDM] - Get LATEST chromedriver version for 104.0.5112 google-chrome\n",
      "[WDM] - Driver [C:\\Users\\PC-1\\.wdm\\drivers\\chromedriver\\win32\\104.0.5112.79\\chromedriver.exe] found in cache\n",
      "[WDM] - Current google-chrome version is 104.0.5112\n",
      "[WDM] - Get LATEST chromedriver version for 104.0.5112 google-chrome\n",
      "[WDM] - Driver [C:\\Users\\PC-1\\.wdm\\drivers\\chromedriver\\win32\\104.0.5112.79\\chromedriver.exe] found in cache\n"
     ]
    },
    {
     "name": "stdout",
     "output_type": "stream",
     "text": [
      "\n"
     ]
    },
    {
     "name": "stderr",
     "output_type": "stream",
     "text": [
      "[WDM] - ====== WebDriver manager ======\n",
      "[WDM] - Current google-chrome version is 104.0.5112\n",
      "[WDM] - Get LATEST chromedriver version for 104.0.5112 google-chrome\n",
      "[WDM] - Driver [C:\\Users\\PC-1\\.wdm\\drivers\\chromedriver\\win32\\104.0.5112.79\\chromedriver.exe] found in cache\n"
     ]
    },
    {
     "name": "stdout",
     "output_type": "stream",
     "text": [
      "\n"
     ]
    },
    {
     "name": "stderr",
     "output_type": "stream",
     "text": [
      "[WDM] - ====== WebDriver manager ======\n"
     ]
    },
    {
     "name": "stdout",
     "output_type": "stream",
     "text": [
      "\n"
     ]
    },
    {
     "name": "stderr",
     "output_type": "stream",
     "text": [
      "[WDM] - ====== WebDriver manager ======\n",
      "[WDM] - Current google-chrome version is 104.0.5112\n",
      "[WDM] - Get LATEST chromedriver version for 104.0.5112 google-chrome\n"
     ]
    },
    {
     "name": "stdout",
     "output_type": "stream",
     "text": [
      "\n"
     ]
    },
    {
     "name": "stderr",
     "output_type": "stream",
     "text": [
      "[WDM] - ====== WebDriver manager ======\n",
      "[WDM] - Driver [C:\\Users\\PC-1\\.wdm\\drivers\\chromedriver\\win32\\104.0.5112.79\\chromedriver.exe] found in cache\n",
      "[WDM] - Current google-chrome version is 104.0.5112\n",
      "[WDM] - Get LATEST chromedriver version for 104.0.5112 google-chrome\n",
      "[WDM] - Driver [C:\\Users\\PC-1\\.wdm\\drivers\\chromedriver\\win32\\104.0.5112.79\\chromedriver.exe] found in cache\n",
      "[WDM] - Current google-chrome version is 104.0.5112\n",
      "[WDM] - Get LATEST chromedriver version for 104.0.5112 google-chrome\n",
      "[WDM] - Driver [C:\\Users\\PC-1\\.wdm\\drivers\\chromedriver\\win32\\104.0.5112.79\\chromedriver.exe] found in cache\n"
     ]
    },
    {
     "name": "stdout",
     "output_type": "stream",
     "text": [
      "\n"
     ]
    },
    {
     "name": "stderr",
     "output_type": "stream",
     "text": [
      "[WDM] - ====== WebDriver manager ======\n",
      "[WDM] - Current google-chrome version is 104.0.5112\n",
      "[WDM] - Get LATEST chromedriver version for 104.0.5112 google-chrome\n",
      "[WDM] - Driver [C:\\Users\\PC-1\\.wdm\\drivers\\chromedriver\\win32\\104.0.5112.79\\chromedriver.exe] found in cache\n"
     ]
    },
    {
     "name": "stdout",
     "output_type": "stream",
     "text": [
      "\n"
     ]
    },
    {
     "name": "stderr",
     "output_type": "stream",
     "text": [
      "[WDM] - ====== WebDriver manager ======\n"
     ]
    },
    {
     "name": "stdout",
     "output_type": "stream",
     "text": [
      "\n"
     ]
    },
    {
     "name": "stderr",
     "output_type": "stream",
     "text": [
      "[WDM] - ====== WebDriver manager ======\n",
      "[WDM] - Current google-chrome version is 104.0.5112\n",
      "[WDM] - Get LATEST chromedriver version for 104.0.5112 google-chrome\n"
     ]
    },
    {
     "name": "stdout",
     "output_type": "stream",
     "text": [
      "\n"
     ]
    },
    {
     "name": "stderr",
     "output_type": "stream",
     "text": [
      "[WDM] - ====== WebDriver manager ======\n"
     ]
    },
    {
     "name": "stdout",
     "output_type": "stream",
     "text": [
      "\n"
     ]
    },
    {
     "name": "stderr",
     "output_type": "stream",
     "text": [
      "[WDM] - ====== WebDriver manager ======\n"
     ]
    },
    {
     "name": "stdout",
     "output_type": "stream",
     "text": [
      "\n"
     ]
    },
    {
     "name": "stderr",
     "output_type": "stream",
     "text": [
      "[WDM] - ====== WebDriver manager ======\n"
     ]
    },
    {
     "name": "stdout",
     "output_type": "stream",
     "text": [
      "\n"
     ]
    },
    {
     "name": "stderr",
     "output_type": "stream",
     "text": [
      "[WDM] - ====== WebDriver manager ======\n",
      "[WDM] - Current google-chrome version is 104.0.5112\n",
      "[WDM] - Get LATEST chromedriver version for 104.0.5112 google-chrome\n",
      "[WDM] - Driver [C:\\Users\\PC-1\\.wdm\\drivers\\chromedriver\\win32\\104.0.5112.79\\chromedriver.exe] found in cache\n",
      "[WDM] - Current google-chrome version is 104.0.5112\n",
      "[WDM] - Get LATEST chromedriver version for 104.0.5112 google-chrome\n",
      "[WDM] - Current google-chrome version is 104.0.5112\n",
      "[WDM] - Get LATEST chromedriver version for 104.0.5112 google-chrome\n"
     ]
    },
    {
     "name": "stdout",
     "output_type": "stream",
     "text": [
      "\n"
     ]
    },
    {
     "name": "stderr",
     "output_type": "stream",
     "text": [
      "[WDM] - ====== WebDriver manager ======\n",
      "[WDM] - Current google-chrome version is 104.0.5112\n",
      "[WDM] - Get LATEST chromedriver version for 104.0.5112 google-chrome\n",
      "[WDM] - Driver [C:\\Users\\PC-1\\.wdm\\drivers\\chromedriver\\win32\\104.0.5112.79\\chromedriver.exe] found in cache\n",
      "[WDM] - Current google-chrome version is 104.0.5112\n",
      "[WDM] - Get LATEST chromedriver version for 104.0.5112 google-chrome\n",
      "[WDM] - Driver [C:\\Users\\PC-1\\.wdm\\drivers\\chromedriver\\win32\\104.0.5112.79\\chromedriver.exe] found in cache\n",
      "[WDM] - Driver [C:\\Users\\PC-1\\.wdm\\drivers\\chromedriver\\win32\\104.0.5112.79\\chromedriver.exe] found in cache\n",
      "[WDM] - Driver [C:\\Users\\PC-1\\.wdm\\drivers\\chromedriver\\win32\\104.0.5112.79\\chromedriver.exe] found in cache\n",
      "[WDM] - Driver [C:\\Users\\PC-1\\.wdm\\drivers\\chromedriver\\win32\\104.0.5112.79\\chromedriver.exe] found in cache\n",
      "[WDM] - Current google-chrome version is 104.0.5112\n",
      "[WDM] - Get LATEST chromedriver version for 104.0.5112 google-chrome\n",
      "[WDM] - Driver [C:\\Users\\PC-1\\.wdm\\drivers\\chromedriver\\win32\\104.0.5112.79\\chromedriver.exe] found in cache\n"
     ]
    },
    {
     "name": "stdout",
     "output_type": "stream",
     "text": [
      "\n"
     ]
    },
    {
     "name": "stderr",
     "output_type": "stream",
     "text": [
      "[WDM] - ====== WebDriver manager ======\n"
     ]
    },
    {
     "name": "stdout",
     "output_type": "stream",
     "text": [
      "\n"
     ]
    },
    {
     "name": "stderr",
     "output_type": "stream",
     "text": [
      "[WDM] - ====== WebDriver manager ======\n",
      "[WDM] - Current google-chrome version is 104.0.5112\n",
      "[WDM] - Get LATEST chromedriver version for 104.0.5112 google-chrome\n",
      "[WDM] - Driver [C:\\Users\\PC-1\\.wdm\\drivers\\chromedriver\\win32\\104.0.5112.79\\chromedriver.exe] found in cache\n",
      "[WDM] - Current google-chrome version is 104.0.5112\n",
      "[WDM] - Get LATEST chromedriver version for 104.0.5112 google-chrome\n",
      "[WDM] - Driver [C:\\Users\\PC-1\\.wdm\\drivers\\chromedriver\\win32\\104.0.5112.79\\chromedriver.exe] found in cache\n"
     ]
    },
    {
     "name": "stdout",
     "output_type": "stream",
     "text": [
      "\n"
     ]
    },
    {
     "name": "stderr",
     "output_type": "stream",
     "text": [
      "[WDM] - ====== WebDriver manager ======\n",
      "[WDM] - Current google-chrome version is 104.0.5112\n",
      "[WDM] - Get LATEST chromedriver version for 104.0.5112 google-chrome\n",
      "[WDM] - Driver [C:\\Users\\PC-1\\.wdm\\drivers\\chromedriver\\win32\\104.0.5112.79\\chromedriver.exe] found in cache\n"
     ]
    },
    {
     "name": "stdout",
     "output_type": "stream",
     "text": [
      "\n"
     ]
    },
    {
     "name": "stderr",
     "output_type": "stream",
     "text": [
      "[WDM] - ====== WebDriver manager ======\n"
     ]
    },
    {
     "name": "stdout",
     "output_type": "stream",
     "text": [
      "\n"
     ]
    },
    {
     "name": "stderr",
     "output_type": "stream",
     "text": [
      "[WDM] - ====== WebDriver manager ======\n"
     ]
    },
    {
     "name": "stdout",
     "output_type": "stream",
     "text": [
      "\n"
     ]
    },
    {
     "name": "stderr",
     "output_type": "stream",
     "text": [
      "[WDM] - ====== WebDriver manager ======\n",
      "[WDM] - Current google-chrome version is 104.0.5112\n",
      "[WDM] - Get LATEST chromedriver version for 104.0.5112 google-chrome\n",
      "[WDM] - Current google-chrome version is 104.0.5112\n",
      "[WDM] - Get LATEST chromedriver version for 104.0.5112 google-chrome\n",
      "[WDM] - Driver [C:\\Users\\PC-1\\.wdm\\drivers\\chromedriver\\win32\\104.0.5112.79\\chromedriver.exe] found in cache\n",
      "[WDM] - Driver [C:\\Users\\PC-1\\.wdm\\drivers\\chromedriver\\win32\\104.0.5112.79\\chromedriver.exe] found in cache\n"
     ]
    },
    {
     "name": "stdout",
     "output_type": "stream",
     "text": [
      "\n"
     ]
    },
    {
     "name": "stderr",
     "output_type": "stream",
     "text": [
      "[WDM] - ====== WebDriver manager ======\n"
     ]
    },
    {
     "name": "stdout",
     "output_type": "stream",
     "text": [
      "\n"
     ]
    },
    {
     "name": "stderr",
     "output_type": "stream",
     "text": [
      "[WDM] - ====== WebDriver manager ======\n"
     ]
    },
    {
     "name": "stdout",
     "output_type": "stream",
     "text": [
      "\n"
     ]
    },
    {
     "name": "stderr",
     "output_type": "stream",
     "text": [
      "[WDM] - ====== WebDriver manager ======\n",
      "[WDM] - Current google-chrome version is 104.0.5112\n",
      "[WDM] - Get LATEST chromedriver version for 104.0.5112 google-chrome\n"
     ]
    },
    {
     "name": "stdout",
     "output_type": "stream",
     "text": [
      "\n"
     ]
    },
    {
     "name": "stderr",
     "output_type": "stream",
     "text": [
      "[WDM] - ====== WebDriver manager ======\n",
      "[WDM] - Driver [C:\\Users\\PC-1\\.wdm\\drivers\\chromedriver\\win32\\104.0.5112.79\\chromedriver.exe] found in cache\n"
     ]
    },
    {
     "name": "stdout",
     "output_type": "stream",
     "text": [
      "\n"
     ]
    },
    {
     "name": "stderr",
     "output_type": "stream",
     "text": [
      "[WDM] - ====== WebDriver manager ======\n"
     ]
    },
    {
     "name": "stdout",
     "output_type": "stream",
     "text": [
      "\n"
     ]
    },
    {
     "name": "stderr",
     "output_type": "stream",
     "text": [
      "[WDM] - ====== WebDriver manager ======\n",
      "[WDM] - Current google-chrome version is 104.0.5112\n",
      "[WDM] - Get LATEST chromedriver version for 104.0.5112 google-chrome\n",
      "[WDM] - Current google-chrome version is 104.0.5112\n",
      "[WDM] - Get LATEST chromedriver version for 104.0.5112 google-chrome\n",
      "[WDM] - Current google-chrome version is 104.0.5112\n",
      "[WDM] - Get LATEST chromedriver version for 104.0.5112 google-chrome\n",
      "[WDM] - Driver [C:\\Users\\PC-1\\.wdm\\drivers\\chromedriver\\win32\\104.0.5112.79\\chromedriver.exe] found in cache\n",
      "[WDM] - Driver [C:\\Users\\PC-1\\.wdm\\drivers\\chromedriver\\win32\\104.0.5112.79\\chromedriver.exe] found in cache\n",
      "[WDM] - Driver [C:\\Users\\PC-1\\.wdm\\drivers\\chromedriver\\win32\\104.0.5112.79\\chromedriver.exe] found in cache\n",
      "[WDM] - Current google-chrome version is 104.0.5112\n",
      "[WDM] - Get LATEST chromedriver version for 104.0.5112 google-chrome\n",
      "[WDM] - Driver [C:\\Users\\PC-1\\.wdm\\drivers\\chromedriver\\win32\\104.0.5112.79\\chromedriver.exe] found in cache\n",
      "[WDM] - Current google-chrome version is 104.0.5112\n",
      "[WDM] - Get LATEST chromedriver version for 104.0.5112 google-chrome\n",
      "[WDM] - Driver [C:\\Users\\PC-1\\.wdm\\drivers\\chromedriver\\win32\\104.0.5112.79\\chromedriver.exe] found in cache\n",
      "[WDM] - Current google-chrome version is 104.0.5112\n",
      "[WDM] - Get LATEST chromedriver version for 104.0.5112 google-chrome\n",
      "[WDM] - Driver [C:\\Users\\PC-1\\.wdm\\drivers\\chromedriver\\win32\\104.0.5112.79\\chromedriver.exe] found in cache\n"
     ]
    },
    {
     "name": "stdout",
     "output_type": "stream",
     "text": [
      "\n"
     ]
    },
    {
     "name": "stderr",
     "output_type": "stream",
     "text": [
      "[WDM] - ====== WebDriver manager ======\n"
     ]
    },
    {
     "name": "stdout",
     "output_type": "stream",
     "text": [
      "\n"
     ]
    },
    {
     "name": "stderr",
     "output_type": "stream",
     "text": [
      "[WDM] - ====== WebDriver manager ======\n",
      "[WDM] - Current google-chrome version is 104.0.5112\n",
      "[WDM] - Get LATEST chromedriver version for 104.0.5112 google-chrome\n",
      "[WDM] - Driver [C:\\Users\\PC-1\\.wdm\\drivers\\chromedriver\\win32\\104.0.5112.79\\chromedriver.exe] found in cache\n",
      "[WDM] - Current google-chrome version is 104.0.5112\n",
      "[WDM] - Get LATEST chromedriver version for 104.0.5112 google-chrome\n",
      "[WDM] - Driver [C:\\Users\\PC-1\\.wdm\\drivers\\chromedriver\\win32\\104.0.5112.79\\chromedriver.exe] found in cache\n"
     ]
    },
    {
     "name": "stdout",
     "output_type": "stream",
     "text": [
      "\n"
     ]
    },
    {
     "name": "stderr",
     "output_type": "stream",
     "text": [
      "[WDM] - ====== WebDriver manager ======\n"
     ]
    },
    {
     "name": "stdout",
     "output_type": "stream",
     "text": [
      "\n"
     ]
    },
    {
     "name": "stderr",
     "output_type": "stream",
     "text": [
      "[WDM] - ====== WebDriver manager ======\n",
      "[WDM] - Current google-chrome version is 104.0.5112\n",
      "[WDM] - Get LATEST chromedriver version for 104.0.5112 google-chrome\n",
      "[WDM] - Driver [C:\\Users\\PC-1\\.wdm\\drivers\\chromedriver\\win32\\104.0.5112.79\\chromedriver.exe] found in cache\n",
      "[WDM] - Current google-chrome version is 104.0.5112\n",
      "[WDM] - Get LATEST chromedriver version for 104.0.5112 google-chrome\n",
      "[WDM] - Driver [C:\\Users\\PC-1\\.wdm\\drivers\\chromedriver\\win32\\104.0.5112.79\\chromedriver.exe] found in cache\n"
     ]
    },
    {
     "name": "stdout",
     "output_type": "stream",
     "text": [
      "\n"
     ]
    },
    {
     "name": "stderr",
     "output_type": "stream",
     "text": [
      "[WDM] - ====== WebDriver manager ======\n",
      "[WDM] - Current google-chrome version is 104.0.5112\n",
      "[WDM] - Get LATEST chromedriver version for 104.0.5112 google-chrome\n",
      "[WDM] - Driver [C:\\Users\\PC-1\\.wdm\\drivers\\chromedriver\\win32\\104.0.5112.79\\chromedriver.exe] found in cache\n"
     ]
    },
    {
     "name": "stdout",
     "output_type": "stream",
     "text": [
      "\n"
     ]
    },
    {
     "name": "stderr",
     "output_type": "stream",
     "text": [
      "[WDM] - ====== WebDriver manager ======\n"
     ]
    },
    {
     "name": "stdout",
     "output_type": "stream",
     "text": [
      "\n"
     ]
    },
    {
     "name": "stderr",
     "output_type": "stream",
     "text": [
      "[WDM] - ====== WebDriver manager ======\n",
      "[WDM] - Current google-chrome version is 104.0.5112\n",
      "[WDM] - Get LATEST chromedriver version for 104.0.5112 google-chrome\n",
      "[WDM] - Current google-chrome version is 104.0.5112\n",
      "[WDM] - Get LATEST chromedriver version for 104.0.5112 google-chrome\n",
      "[WDM] - Driver [C:\\Users\\PC-1\\.wdm\\drivers\\chromedriver\\win32\\104.0.5112.79\\chromedriver.exe] found in cache\n",
      "[WDM] - Driver [C:\\Users\\PC-1\\.wdm\\drivers\\chromedriver\\win32\\104.0.5112.79\\chromedriver.exe] found in cache\n"
     ]
    },
    {
     "name": "stdout",
     "output_type": "stream",
     "text": [
      "\n"
     ]
    },
    {
     "name": "stderr",
     "output_type": "stream",
     "text": [
      "[WDM] - ====== WebDriver manager ======\n"
     ]
    },
    {
     "name": "stdout",
     "output_type": "stream",
     "text": [
      "\n"
     ]
    },
    {
     "name": "stderr",
     "output_type": "stream",
     "text": [
      "[WDM] - ====== WebDriver manager ======\n",
      "[WDM] - Current google-chrome version is 104.0.5112\n",
      "[WDM] - Get LATEST chromedriver version for 104.0.5112 google-chrome\n",
      "[WDM] - Driver [C:\\Users\\PC-1\\.wdm\\drivers\\chromedriver\\win32\\104.0.5112.79\\chromedriver.exe] found in cache\n"
     ]
    },
    {
     "name": "stdout",
     "output_type": "stream",
     "text": [
      "\n"
     ]
    },
    {
     "name": "stderr",
     "output_type": "stream",
     "text": [
      "[WDM] - ====== WebDriver manager ======\n",
      "[WDM] - Current google-chrome version is 104.0.5112\n",
      "[WDM] - Get LATEST chromedriver version for 104.0.5112 google-chrome\n",
      "[WDM] - Current google-chrome version is 104.0.5112\n",
      "[WDM] - Get LATEST chromedriver version for 104.0.5112 google-chrome\n",
      "[WDM] - Driver [C:\\Users\\PC-1\\.wdm\\drivers\\chromedriver\\win32\\104.0.5112.79\\chromedriver.exe] found in cache\n",
      "[WDM] - Driver [C:\\Users\\PC-1\\.wdm\\drivers\\chromedriver\\win32\\104.0.5112.79\\chromedriver.exe] found in cache\n"
     ]
    },
    {
     "name": "stdout",
     "output_type": "stream",
     "text": [
      "\n"
     ]
    },
    {
     "name": "stderr",
     "output_type": "stream",
     "text": [
      "[WDM] - ====== WebDriver manager ======\n",
      "[WDM] - Current google-chrome version is 104.0.5112\n",
      "[WDM] - Get LATEST chromedriver version for 104.0.5112 google-chrome\n"
     ]
    },
    {
     "name": "stdout",
     "output_type": "stream",
     "text": [
      "\n"
     ]
    },
    {
     "name": "stderr",
     "output_type": "stream",
     "text": [
      "[WDM] - ====== WebDriver manager ======\n",
      "[WDM] - Driver [C:\\Users\\PC-1\\.wdm\\drivers\\chromedriver\\win32\\104.0.5112.79\\chromedriver.exe] found in cache\n",
      "[WDM] - Current google-chrome version is 104.0.5112\n",
      "[WDM] - Get LATEST chromedriver version for 104.0.5112 google-chrome\n"
     ]
    },
    {
     "name": "stdout",
     "output_type": "stream",
     "text": [
      "\n"
     ]
    },
    {
     "name": "stderr",
     "output_type": "stream",
     "text": [
      "[WDM] - ====== WebDriver manager ======\n",
      "[WDM] - Driver [C:\\Users\\PC-1\\.wdm\\drivers\\chromedriver\\win32\\104.0.5112.79\\chromedriver.exe] found in cache\n",
      "[WDM] - Current google-chrome version is 104.0.5112\n",
      "[WDM] - Get LATEST chromedriver version for 104.0.5112 google-chrome\n"
     ]
    },
    {
     "name": "stdout",
     "output_type": "stream",
     "text": [
      "\n"
     ]
    },
    {
     "name": "stderr",
     "output_type": "stream",
     "text": [
      "[WDM] - ====== WebDriver manager ======\n",
      "[WDM] - Driver [C:\\Users\\PC-1\\.wdm\\drivers\\chromedriver\\win32\\104.0.5112.79\\chromedriver.exe] found in cache\n"
     ]
    },
    {
     "name": "stdout",
     "output_type": "stream",
     "text": [
      "\n"
     ]
    },
    {
     "name": "stderr",
     "output_type": "stream",
     "text": [
      "[WDM] - ====== WebDriver manager ======\n",
      "[WDM] - Current google-chrome version is 104.0.5112\n",
      "[WDM] - Get LATEST chromedriver version for 104.0.5112 google-chrome\n",
      "[WDM] - Driver [C:\\Users\\PC-1\\.wdm\\drivers\\chromedriver\\win32\\104.0.5112.79\\chromedriver.exe] found in cache\n",
      "[WDM] - Current google-chrome version is 104.0.5112\n",
      "[WDM] - Get LATEST chromedriver version for 104.0.5112 google-chrome\n",
      "[WDM] - Driver [C:\\Users\\PC-1\\.wdm\\drivers\\chromedriver\\win32\\104.0.5112.79\\chromedriver.exe] found in cache\n"
     ]
    },
    {
     "name": "stdout",
     "output_type": "stream",
     "text": [
      "\n"
     ]
    },
    {
     "name": "stderr",
     "output_type": "stream",
     "text": [
      "[WDM] - ====== WebDriver manager ======\n",
      "[WDM] - Current google-chrome version is 104.0.5112\n",
      "[WDM] - Get LATEST chromedriver version for 104.0.5112 google-chrome\n",
      "[WDM] - Driver [C:\\Users\\PC-1\\.wdm\\drivers\\chromedriver\\win32\\104.0.5112.79\\chromedriver.exe] found in cache\n"
     ]
    },
    {
     "name": "stdout",
     "output_type": "stream",
     "text": [
      "\n"
     ]
    },
    {
     "name": "stderr",
     "output_type": "stream",
     "text": [
      "[WDM] - ====== WebDriver manager ======\n",
      "[WDM] - Current google-chrome version is 104.0.5112\n",
      "[WDM] - Get LATEST chromedriver version for 104.0.5112 google-chrome\n"
     ]
    },
    {
     "name": "stdout",
     "output_type": "stream",
     "text": [
      "\n"
     ]
    },
    {
     "name": "stderr",
     "output_type": "stream",
     "text": [
      "[WDM] - ====== WebDriver manager ======\n",
      "[WDM] - Driver [C:\\Users\\PC-1\\.wdm\\drivers\\chromedriver\\win32\\104.0.5112.79\\chromedriver.exe] found in cache\n",
      "[WDM] - Current google-chrome version is 104.0.5112\n",
      "[WDM] - Get LATEST chromedriver version for 104.0.5112 google-chrome\n",
      "[WDM] - Driver [C:\\Users\\PC-1\\.wdm\\drivers\\chromedriver\\win32\\104.0.5112.79\\chromedriver.exe] found in cache\n"
     ]
    },
    {
     "name": "stdout",
     "output_type": "stream",
     "text": [
      "\n"
     ]
    },
    {
     "name": "stderr",
     "output_type": "stream",
     "text": [
      "[WDM] - ====== WebDriver manager ======\n",
      "[WDM] - Current google-chrome version is 104.0.5112\n",
      "[WDM] - Get LATEST chromedriver version for 104.0.5112 google-chrome\n",
      "[WDM] - Driver [C:\\Users\\PC-1\\.wdm\\drivers\\chromedriver\\win32\\104.0.5112.79\\chromedriver.exe] found in cache\n"
     ]
    },
    {
     "name": "stdout",
     "output_type": "stream",
     "text": [
      "\n"
     ]
    },
    {
     "name": "stderr",
     "output_type": "stream",
     "text": [
      "[WDM] - ====== WebDriver manager ======\n"
     ]
    },
    {
     "name": "stdout",
     "output_type": "stream",
     "text": [
      "\n"
     ]
    },
    {
     "name": "stderr",
     "output_type": "stream",
     "text": [
      "[WDM] - ====== WebDriver manager ======\n",
      "[WDM] - Current google-chrome version is 104.0.5112\n",
      "[WDM] - Get LATEST chromedriver version for 104.0.5112 google-chrome\n",
      "[WDM] - Driver [C:\\Users\\PC-1\\.wdm\\drivers\\chromedriver\\win32\\104.0.5112.79\\chromedriver.exe] found in cache\n"
     ]
    },
    {
     "name": "stdout",
     "output_type": "stream",
     "text": [
      "\n"
     ]
    },
    {
     "name": "stderr",
     "output_type": "stream",
     "text": [
      "[WDM] - ====== WebDriver manager ======\n",
      "[WDM] - Current google-chrome version is 104.0.5112\n",
      "[WDM] - Get LATEST chromedriver version for 104.0.5112 google-chrome\n"
     ]
    },
    {
     "name": "stdout",
     "output_type": "stream",
     "text": [
      "\n"
     ]
    },
    {
     "name": "stderr",
     "output_type": "stream",
     "text": [
      "[WDM] - ====== WebDriver manager ======\n",
      "[WDM] - Driver [C:\\Users\\PC-1\\.wdm\\drivers\\chromedriver\\win32\\104.0.5112.79\\chromedriver.exe] found in cache\n",
      "[WDM] - Current google-chrome version is 104.0.5112\n",
      "[WDM] - Get LATEST chromedriver version for 104.0.5112 google-chrome\n",
      "[WDM] - Driver [C:\\Users\\PC-1\\.wdm\\drivers\\chromedriver\\win32\\104.0.5112.79\\chromedriver.exe] found in cache\n"
     ]
    },
    {
     "name": "stdout",
     "output_type": "stream",
     "text": [
      "\n"
     ]
    },
    {
     "name": "stderr",
     "output_type": "stream",
     "text": [
      "[WDM] - ====== WebDriver manager ======\n",
      "[WDM] - Current google-chrome version is 104.0.5112\n",
      "[WDM] - Get LATEST chromedriver version for 104.0.5112 google-chrome\n"
     ]
    },
    {
     "name": "stdout",
     "output_type": "stream",
     "text": [
      "\n"
     ]
    },
    {
     "name": "stderr",
     "output_type": "stream",
     "text": [
      "[WDM] - ====== WebDriver manager ======\n",
      "[WDM] - Driver [C:\\Users\\PC-1\\.wdm\\drivers\\chromedriver\\win32\\104.0.5112.79\\chromedriver.exe] found in cache\n"
     ]
    },
    {
     "name": "stdout",
     "output_type": "stream",
     "text": [
      "\n"
     ]
    },
    {
     "name": "stderr",
     "output_type": "stream",
     "text": [
      "[WDM] - ====== WebDriver manager ======\n",
      "[WDM] - Current google-chrome version is 104.0.5112\n",
      "[WDM] - Get LATEST chromedriver version for 104.0.5112 google-chrome\n",
      "[WDM] - Driver [C:\\Users\\PC-1\\.wdm\\drivers\\chromedriver\\win32\\104.0.5112.79\\chromedriver.exe] found in cache\n"
     ]
    },
    {
     "name": "stdout",
     "output_type": "stream",
     "text": [
      "\n"
     ]
    },
    {
     "name": "stderr",
     "output_type": "stream",
     "text": [
      "[WDM] - ====== WebDriver manager ======\n"
     ]
    },
    {
     "name": "stdout",
     "output_type": "stream",
     "text": [
      "\n"
     ]
    },
    {
     "name": "stderr",
     "output_type": "stream",
     "text": [
      "[WDM] - ====== WebDriver manager ======\n",
      "[WDM] - Current google-chrome version is 104.0.5112\n",
      "[WDM] - Get LATEST chromedriver version for 104.0.5112 google-chrome\n",
      "[WDM] - Driver [C:\\Users\\PC-1\\.wdm\\drivers\\chromedriver\\win32\\104.0.5112.79\\chromedriver.exe] found in cache\n",
      "[WDM] - Current google-chrome version is 104.0.5112\n",
      "[WDM] - Get LATEST chromedriver version for 104.0.5112 google-chrome\n",
      "[WDM] - Driver [C:\\Users\\PC-1\\.wdm\\drivers\\chromedriver\\win32\\104.0.5112.79\\chromedriver.exe] found in cache\n"
     ]
    },
    {
     "name": "stdout",
     "output_type": "stream",
     "text": [
      "\n"
     ]
    },
    {
     "name": "stderr",
     "output_type": "stream",
     "text": [
      "[WDM] - ====== WebDriver manager ======\n",
      "[WDM] - Current google-chrome version is 104.0.5112\n",
      "[WDM] - Get LATEST chromedriver version for 104.0.5112 google-chrome\n",
      "[WDM] - Driver [C:\\Users\\PC-1\\.wdm\\drivers\\chromedriver\\win32\\104.0.5112.79\\chromedriver.exe] found in cache\n",
      "[WDM] - Current google-chrome version is 104.0.5112\n",
      "[WDM] - Get LATEST chromedriver version for 104.0.5112 google-chrome\n",
      "[WDM] - Driver [C:\\Users\\PC-1\\.wdm\\drivers\\chromedriver\\win32\\104.0.5112.79\\chromedriver.exe] found in cache\n"
     ]
    },
    {
     "name": "stdout",
     "output_type": "stream",
     "text": [
      "\n"
     ]
    },
    {
     "name": "stderr",
     "output_type": "stream",
     "text": [
      "[WDM] - ====== WebDriver manager ======\n",
      "[WDM] - Current google-chrome version is 104.0.5112\n",
      "[WDM] - Get LATEST chromedriver version for 104.0.5112 google-chrome\n",
      "[WDM] - Driver [C:\\Users\\PC-1\\.wdm\\drivers\\chromedriver\\win32\\104.0.5112.79\\chromedriver.exe] found in cache\n"
     ]
    },
    {
     "name": "stdout",
     "output_type": "stream",
     "text": [
      "\n"
     ]
    },
    {
     "name": "stderr",
     "output_type": "stream",
     "text": [
      "[WDM] - ====== WebDriver manager ======\n",
      "[WDM] - Current google-chrome version is 104.0.5112\n",
      "[WDM] - Get LATEST chromedriver version for 104.0.5112 google-chrome\n",
      "[WDM] - Driver [C:\\Users\\PC-1\\.wdm\\drivers\\chromedriver\\win32\\104.0.5112.79\\chromedriver.exe] found in cache\n"
     ]
    },
    {
     "name": "stdout",
     "output_type": "stream",
     "text": [
      "\n"
     ]
    },
    {
     "name": "stderr",
     "output_type": "stream",
     "text": [
      "[WDM] - ====== WebDriver manager ======\n"
     ]
    },
    {
     "name": "stdout",
     "output_type": "stream",
     "text": [
      "\n"
     ]
    },
    {
     "name": "stderr",
     "output_type": "stream",
     "text": [
      "[WDM] - ====== WebDriver manager ======\n",
      "[WDM] - Current google-chrome version is 104.0.5112\n",
      "[WDM] - Get LATEST chromedriver version for 104.0.5112 google-chrome\n",
      "[WDM] - Driver [C:\\Users\\PC-1\\.wdm\\drivers\\chromedriver\\win32\\104.0.5112.79\\chromedriver.exe] found in cache\n",
      "[WDM] - Current google-chrome version is 104.0.5112\n",
      "[WDM] - Get LATEST chromedriver version for 104.0.5112 google-chrome\n",
      "[WDM] - Driver [C:\\Users\\PC-1\\.wdm\\drivers\\chromedriver\\win32\\104.0.5112.79\\chromedriver.exe] found in cache\n"
     ]
    },
    {
     "name": "stdout",
     "output_type": "stream",
     "text": [
      "\n"
     ]
    },
    {
     "name": "stderr",
     "output_type": "stream",
     "text": [
      "[WDM] - ====== WebDriver manager ======\n",
      "[WDM] - Current google-chrome version is 104.0.5112\n",
      "[WDM] - Get LATEST chromedriver version for 104.0.5112 google-chrome\n",
      "[WDM] - Driver [C:\\Users\\PC-1\\.wdm\\drivers\\chromedriver\\win32\\104.0.5112.79\\chromedriver.exe] found in cache\n"
     ]
    },
    {
     "name": "stdout",
     "output_type": "stream",
     "text": [
      "\n"
     ]
    },
    {
     "name": "stderr",
     "output_type": "stream",
     "text": [
      "[WDM] - ====== WebDriver manager ======\n",
      "[WDM] - Current google-chrome version is 104.0.5112\n",
      "[WDM] - Get LATEST chromedriver version for 104.0.5112 google-chrome\n",
      "[WDM] - Driver [C:\\Users\\PC-1\\.wdm\\drivers\\chromedriver\\win32\\104.0.5112.79\\chromedriver.exe] found in cache\n"
     ]
    },
    {
     "name": "stdout",
     "output_type": "stream",
     "text": [
      "\n"
     ]
    },
    {
     "name": "stderr",
     "output_type": "stream",
     "text": [
      "[WDM] - ====== WebDriver manager ======\n"
     ]
    },
    {
     "name": "stdout",
     "output_type": "stream",
     "text": [
      "\n"
     ]
    },
    {
     "name": "stderr",
     "output_type": "stream",
     "text": [
      "[WDM] - ====== WebDriver manager ======\n",
      "[WDM] - Current google-chrome version is 104.0.5112\n",
      "[WDM] - Get LATEST chromedriver version for 104.0.5112 google-chrome\n",
      "[WDM] - Driver [C:\\Users\\PC-1\\.wdm\\drivers\\chromedriver\\win32\\104.0.5112.79\\chromedriver.exe] found in cache\n",
      "[WDM] - Current google-chrome version is 104.0.5112\n",
      "[WDM] - Get LATEST chromedriver version for 104.0.5112 google-chrome\n"
     ]
    },
    {
     "name": "stdout",
     "output_type": "stream",
     "text": [
      "\n"
     ]
    },
    {
     "name": "stderr",
     "output_type": "stream",
     "text": [
      "[WDM] - ====== WebDriver manager ======\n",
      "[WDM] - Driver [C:\\Users\\PC-1\\.wdm\\drivers\\chromedriver\\win32\\104.0.5112.79\\chromedriver.exe] found in cache\n",
      "[WDM] - Current google-chrome version is 104.0.5112\n",
      "[WDM] - Get LATEST chromedriver version for 104.0.5112 google-chrome\n",
      "[WDM] - Current google-chrome version is 104.0.5112\n",
      "[WDM] - Get LATEST chromedriver version for 104.0.5112 google-chrome\n",
      "[WDM] - Driver [C:\\Users\\PC-1\\.wdm\\drivers\\chromedriver\\win32\\104.0.5112.79\\chromedriver.exe] found in cache\n",
      "[WDM] - Driver [C:\\Users\\PC-1\\.wdm\\drivers\\chromedriver\\win32\\104.0.5112.79\\chromedriver.exe] found in cache\n"
     ]
    },
    {
     "name": "stdout",
     "output_type": "stream",
     "text": [
      "\n"
     ]
    },
    {
     "name": "stderr",
     "output_type": "stream",
     "text": [
      "[WDM] - ====== WebDriver manager ======\n",
      "[WDM] - Current google-chrome version is 104.0.5112\n",
      "[WDM] - Get LATEST chromedriver version for 104.0.5112 google-chrome\n",
      "[WDM] - Driver [C:\\Users\\PC-1\\.wdm\\drivers\\chromedriver\\win32\\104.0.5112.79\\chromedriver.exe] found in cache\n",
      "[WDM] - Current google-chrome version is 104.0.5112\n",
      "[WDM] - Get LATEST chromedriver version for 104.0.5112 google-chrome\n",
      "[WDM] - Driver [C:\\Users\\PC-1\\.wdm\\drivers\\chromedriver\\win32\\104.0.5112.79\\chromedriver.exe] found in cache\n"
     ]
    },
    {
     "name": "stdout",
     "output_type": "stream",
     "text": [
      "\n"
     ]
    },
    {
     "name": "stderr",
     "output_type": "stream",
     "text": [
      "[WDM] - ====== WebDriver manager ======\n"
     ]
    },
    {
     "name": "stdout",
     "output_type": "stream",
     "text": [
      "\n"
     ]
    },
    {
     "name": "stderr",
     "output_type": "stream",
     "text": [
      "[WDM] - ====== WebDriver manager ======\n"
     ]
    },
    {
     "name": "stdout",
     "output_type": "stream",
     "text": [
      "\n"
     ]
    },
    {
     "name": "stderr",
     "output_type": "stream",
     "text": [
      "[WDM] - ====== WebDriver manager ======\n",
      "[WDM] - Current google-chrome version is 104.0.5112\n",
      "[WDM] - Get LATEST chromedriver version for 104.0.5112 google-chrome\n",
      "[WDM] - Current google-chrome version is 104.0.5112\n",
      "[WDM] - Get LATEST chromedriver version for 104.0.5112 google-chrome\n",
      "[WDM] - Driver [C:\\Users\\PC-1\\.wdm\\drivers\\chromedriver\\win32\\104.0.5112.79\\chromedriver.exe] found in cache\n"
     ]
    },
    {
     "name": "stdout",
     "output_type": "stream",
     "text": [
      "\n"
     ]
    },
    {
     "name": "stderr",
     "output_type": "stream",
     "text": [
      "[WDM] - ====== WebDriver manager ======\n",
      "[WDM] - Driver [C:\\Users\\PC-1\\.wdm\\drivers\\chromedriver\\win32\\104.0.5112.79\\chromedriver.exe] found in cache\n",
      "[WDM] - Current google-chrome version is 104.0.5112\n",
      "[WDM] - Get LATEST chromedriver version for 104.0.5112 google-chrome\n",
      "[WDM] - Driver [C:\\Users\\PC-1\\.wdm\\drivers\\chromedriver\\win32\\104.0.5112.79\\chromedriver.exe] found in cache\n",
      "[WDM] - Current google-chrome version is 104.0.5112\n",
      "[WDM] - Get LATEST chromedriver version for 104.0.5112 google-chrome\n",
      "[WDM] - Driver [C:\\Users\\PC-1\\.wdm\\drivers\\chromedriver\\win32\\104.0.5112.79\\chromedriver.exe] found in cache\n"
     ]
    },
    {
     "name": "stdout",
     "output_type": "stream",
     "text": [
      "\n"
     ]
    },
    {
     "name": "stderr",
     "output_type": "stream",
     "text": [
      "[WDM] - ====== WebDriver manager ======\n",
      "[WDM] - Current google-chrome version is 104.0.5112\n",
      "[WDM] - Get LATEST chromedriver version for 104.0.5112 google-chrome\n",
      "[WDM] - Driver [C:\\Users\\PC-1\\.wdm\\drivers\\chromedriver\\win32\\104.0.5112.79\\chromedriver.exe] found in cache\n"
     ]
    },
    {
     "name": "stdout",
     "output_type": "stream",
     "text": [
      "\n"
     ]
    },
    {
     "name": "stderr",
     "output_type": "stream",
     "text": [
      "[WDM] - ====== WebDriver manager ======\n",
      "[WDM] - Current google-chrome version is 104.0.5112\n",
      "[WDM] - Get LATEST chromedriver version for 104.0.5112 google-chrome\n"
     ]
    },
    {
     "name": "stdout",
     "output_type": "stream",
     "text": [
      "\n"
     ]
    },
    {
     "name": "stderr",
     "output_type": "stream",
     "text": [
      "[WDM] - ====== WebDriver manager ======\n",
      "[WDM] - Driver [C:\\Users\\PC-1\\.wdm\\drivers\\chromedriver\\win32\\104.0.5112.79\\chromedriver.exe] found in cache\n",
      "[WDM] - Current google-chrome version is 104.0.5112\n",
      "[WDM] - Get LATEST chromedriver version for 104.0.5112 google-chrome\n",
      "[WDM] - Driver [C:\\Users\\PC-1\\.wdm\\drivers\\chromedriver\\win32\\104.0.5112.79\\chromedriver.exe] found in cache\n"
     ]
    },
    {
     "name": "stdout",
     "output_type": "stream",
     "text": [
      "\n"
     ]
    },
    {
     "name": "stderr",
     "output_type": "stream",
     "text": [
      "[WDM] - ====== WebDriver manager ======\n",
      "[WDM] - Current google-chrome version is 104.0.5112\n",
      "[WDM] - Get LATEST chromedriver version for 104.0.5112 google-chrome\n",
      "[WDM] - Driver [C:\\Users\\PC-1\\.wdm\\drivers\\chromedriver\\win32\\104.0.5112.79\\chromedriver.exe] found in cache\n"
     ]
    },
    {
     "name": "stdout",
     "output_type": "stream",
     "text": [
      "\n"
     ]
    },
    {
     "name": "stderr",
     "output_type": "stream",
     "text": [
      "[WDM] - ====== WebDriver manager ======\n",
      "[WDM] - Current google-chrome version is 104.0.5112\n",
      "[WDM] - Get LATEST chromedriver version for 104.0.5112 google-chrome\n"
     ]
    },
    {
     "name": "stdout",
     "output_type": "stream",
     "text": [
      "\n"
     ]
    },
    {
     "name": "stderr",
     "output_type": "stream",
     "text": [
      "[WDM] - ====== WebDriver manager ======\n",
      "[WDM] - Driver [C:\\Users\\PC-1\\.wdm\\drivers\\chromedriver\\win32\\104.0.5112.79\\chromedriver.exe] found in cache\n"
     ]
    },
    {
     "name": "stdout",
     "output_type": "stream",
     "text": [
      "\n"
     ]
    },
    {
     "name": "stderr",
     "output_type": "stream",
     "text": [
      "[WDM] - ====== WebDriver manager ======\n",
      "[WDM] - Current google-chrome version is 104.0.5112\n",
      "[WDM] - Get LATEST chromedriver version for 104.0.5112 google-chrome\n",
      "[WDM] - Driver [C:\\Users\\PC-1\\.wdm\\drivers\\chromedriver\\win32\\104.0.5112.79\\chromedriver.exe] found in cache\n",
      "[WDM] - Current google-chrome version is 104.0.5112\n",
      "[WDM] - Get LATEST chromedriver version for 104.0.5112 google-chrome\n",
      "[WDM] - Driver [C:\\Users\\PC-1\\.wdm\\drivers\\chromedriver\\win32\\104.0.5112.79\\chromedriver.exe] found in cache\n"
     ]
    },
    {
     "name": "stdout",
     "output_type": "stream",
     "text": [
      "\n"
     ]
    },
    {
     "name": "stderr",
     "output_type": "stream",
     "text": [
      "[WDM] - ====== WebDriver manager ======\n"
     ]
    },
    {
     "name": "stdout",
     "output_type": "stream",
     "text": [
      "\n"
     ]
    },
    {
     "name": "stderr",
     "output_type": "stream",
     "text": [
      "[WDM] - ====== WebDriver manager ======\n",
      "[WDM] - Current google-chrome version is 104.0.5112\n",
      "[WDM] - Get LATEST chromedriver version for 104.0.5112 google-chrome\n",
      "[WDM] - Driver [C:\\Users\\PC-1\\.wdm\\drivers\\chromedriver\\win32\\104.0.5112.79\\chromedriver.exe] found in cache\n"
     ]
    },
    {
     "name": "stdout",
     "output_type": "stream",
     "text": [
      "\n"
     ]
    },
    {
     "name": "stderr",
     "output_type": "stream",
     "text": [
      "[WDM] - ====== WebDriver manager ======\n"
     ]
    },
    {
     "name": "stdout",
     "output_type": "stream",
     "text": [
      "\n"
     ]
    },
    {
     "name": "stderr",
     "output_type": "stream",
     "text": [
      "[WDM] - ====== WebDriver manager ======\n",
      "[WDM] - Current google-chrome version is 104.0.5112\n",
      "[WDM] - Get LATEST chromedriver version for 104.0.5112 google-chrome\n",
      "[WDM] - Driver [C:\\Users\\PC-1\\.wdm\\drivers\\chromedriver\\win32\\104.0.5112.79\\chromedriver.exe] found in cache\n",
      "[WDM] - Current google-chrome version is 104.0.5112\n",
      "[WDM] - Get LATEST chromedriver version for 104.0.5112 google-chrome\n",
      "[WDM] - Current google-chrome version is 104.0.5112\n",
      "[WDM] - Get LATEST chromedriver version for 104.0.5112 google-chrome\n",
      "[WDM] - Driver [C:\\Users\\PC-1\\.wdm\\drivers\\chromedriver\\win32\\104.0.5112.79\\chromedriver.exe] found in cache\n",
      "[WDM] - Driver [C:\\Users\\PC-1\\.wdm\\drivers\\chromedriver\\win32\\104.0.5112.79\\chromedriver.exe] found in cache\n"
     ]
    },
    {
     "name": "stdout",
     "output_type": "stream",
     "text": [
      "\n"
     ]
    },
    {
     "name": "stderr",
     "output_type": "stream",
     "text": [
      "[WDM] - ====== WebDriver manager ======\n",
      "[WDM] - Current google-chrome version is 104.0.5112\n",
      "[WDM] - Get LATEST chromedriver version for 104.0.5112 google-chrome\n"
     ]
    },
    {
     "name": "stdout",
     "output_type": "stream",
     "text": [
      "\n"
     ]
    },
    {
     "name": "stderr",
     "output_type": "stream",
     "text": [
      "[WDM] - ====== WebDriver manager ======\n",
      "[WDM] - Driver [C:\\Users\\PC-1\\.wdm\\drivers\\chromedriver\\win32\\104.0.5112.79\\chromedriver.exe] found in cache\n",
      "[WDM] - Current google-chrome version is 104.0.5112\n",
      "[WDM] - Get LATEST chromedriver version for 104.0.5112 google-chrome\n",
      "[WDM] - Driver [C:\\Users\\PC-1\\.wdm\\drivers\\chromedriver\\win32\\104.0.5112.79\\chromedriver.exe] found in cache\n"
     ]
    },
    {
     "name": "stdout",
     "output_type": "stream",
     "text": [
      "\n"
     ]
    },
    {
     "name": "stderr",
     "output_type": "stream",
     "text": [
      "[WDM] - ====== WebDriver manager ======\n"
     ]
    },
    {
     "name": "stdout",
     "output_type": "stream",
     "text": [
      "\n"
     ]
    },
    {
     "name": "stderr",
     "output_type": "stream",
     "text": [
      "[WDM] - ====== WebDriver manager ======\n",
      "[WDM] - Current google-chrome version is 104.0.5112\n",
      "[WDM] - Get LATEST chromedriver version for 104.0.5112 google-chrome\n",
      "[WDM] - Driver [C:\\Users\\PC-1\\.wdm\\drivers\\chromedriver\\win32\\104.0.5112.79\\chromedriver.exe] found in cache\n",
      "[WDM] - Current google-chrome version is 104.0.5112\n",
      "[WDM] - Get LATEST chromedriver version for 104.0.5112 google-chrome\n",
      "[WDM] - Driver [C:\\Users\\PC-1\\.wdm\\drivers\\chromedriver\\win32\\104.0.5112.79\\chromedriver.exe] found in cache\n"
     ]
    },
    {
     "name": "stdout",
     "output_type": "stream",
     "text": [
      "\n"
     ]
    },
    {
     "name": "stderr",
     "output_type": "stream",
     "text": [
      "[WDM] - ====== WebDriver manager ======\n",
      "[WDM] - Current google-chrome version is 104.0.5112\n",
      "[WDM] - Get LATEST chromedriver version for 104.0.5112 google-chrome\n",
      "[WDM] - Driver [C:\\Users\\PC-1\\.wdm\\drivers\\chromedriver\\win32\\104.0.5112.79\\chromedriver.exe] found in cache\n"
     ]
    },
    {
     "name": "stdout",
     "output_type": "stream",
     "text": [
      "\n"
     ]
    },
    {
     "name": "stderr",
     "output_type": "stream",
     "text": [
      "[WDM] - ====== WebDriver manager ======\n"
     ]
    },
    {
     "name": "stdout",
     "output_type": "stream",
     "text": [
      "\n"
     ]
    },
    {
     "name": "stderr",
     "output_type": "stream",
     "text": [
      "[WDM] - ====== WebDriver manager ======\n",
      "[WDM] - Current google-chrome version is 104.0.5112\n",
      "[WDM] - Get LATEST chromedriver version for 104.0.5112 google-chrome\n",
      "[WDM] - Current google-chrome version is 104.0.5112\n",
      "[WDM] - Get LATEST chromedriver version for 104.0.5112 google-chrome\n",
      "[WDM] - Driver [C:\\Users\\PC-1\\.wdm\\drivers\\chromedriver\\win32\\104.0.5112.79\\chromedriver.exe] found in cache\n",
      "[WDM] - Driver [C:\\Users\\PC-1\\.wdm\\drivers\\chromedriver\\win32\\104.0.5112.79\\chromedriver.exe] found in cache\n"
     ]
    },
    {
     "name": "stdout",
     "output_type": "stream",
     "text": [
      "\n"
     ]
    },
    {
     "name": "stderr",
     "output_type": "stream",
     "text": [
      "[WDM] - ====== WebDriver manager ======\n",
      "[WDM] - Current google-chrome version is 104.0.5112\n",
      "[WDM] - Get LATEST chromedriver version for 104.0.5112 google-chrome\n",
      "[WDM] - Driver [C:\\Users\\PC-1\\.wdm\\drivers\\chromedriver\\win32\\104.0.5112.79\\chromedriver.exe] found in cache\n"
     ]
    },
    {
     "name": "stdout",
     "output_type": "stream",
     "text": [
      "\n"
     ]
    },
    {
     "name": "stderr",
     "output_type": "stream",
     "text": [
      "[WDM] - ====== WebDriver manager ======\n",
      "[WDM] - Current google-chrome version is 104.0.5112\n",
      "[WDM] - Get LATEST chromedriver version for 104.0.5112 google-chrome\n"
     ]
    },
    {
     "name": "stdout",
     "output_type": "stream",
     "text": [
      "\n"
     ]
    },
    {
     "name": "stderr",
     "output_type": "stream",
     "text": [
      "[WDM] - ====== WebDriver manager ======\n",
      "[WDM] - Driver [C:\\Users\\PC-1\\.wdm\\drivers\\chromedriver\\win32\\104.0.5112.79\\chromedriver.exe] found in cache\n"
     ]
    },
    {
     "name": "stdout",
     "output_type": "stream",
     "text": [
      "\n"
     ]
    },
    {
     "name": "stderr",
     "output_type": "stream",
     "text": [
      "[WDM] - ====== WebDriver manager ======\n",
      "[WDM] - Current google-chrome version is 104.0.5112\n",
      "[WDM] - Get LATEST chromedriver version for 104.0.5112 google-chrome\n",
      "[WDM] - Driver [C:\\Users\\PC-1\\.wdm\\drivers\\chromedriver\\win32\\104.0.5112.79\\chromedriver.exe] found in cache\n",
      "[WDM] - Current google-chrome version is 104.0.5112\n",
      "[WDM] - Get LATEST chromedriver version for 104.0.5112 google-chrome\n",
      "[WDM] - Driver [C:\\Users\\PC-1\\.wdm\\drivers\\chromedriver\\win32\\104.0.5112.79\\chromedriver.exe] found in cache\n"
     ]
    },
    {
     "name": "stdout",
     "output_type": "stream",
     "text": [
      "\n"
     ]
    },
    {
     "name": "stderr",
     "output_type": "stream",
     "text": [
      "[WDM] - ====== WebDriver manager ======\n"
     ]
    },
    {
     "name": "stdout",
     "output_type": "stream",
     "text": [
      "\n"
     ]
    },
    {
     "name": "stderr",
     "output_type": "stream",
     "text": [
      "[WDM] - ====== WebDriver manager ======\n",
      "[WDM] - Current google-chrome version is 104.0.5112\n",
      "[WDM] - Get LATEST chromedriver version for 104.0.5112 google-chrome\n",
      "[WDM] - Current google-chrome version is 104.0.5112\n",
      "[WDM] - Get LATEST chromedriver version for 104.0.5112 google-chrome\n"
     ]
    },
    {
     "name": "stdout",
     "output_type": "stream",
     "text": [
      "\n"
     ]
    },
    {
     "name": "stderr",
     "output_type": "stream",
     "text": [
      "[WDM] - ====== WebDriver manager ======\n",
      "[WDM] - Driver [C:\\Users\\PC-1\\.wdm\\drivers\\chromedriver\\win32\\104.0.5112.79\\chromedriver.exe] found in cache\n",
      "[WDM] - Driver [C:\\Users\\PC-1\\.wdm\\drivers\\chromedriver\\win32\\104.0.5112.79\\chromedriver.exe] found in cache\n"
     ]
    },
    {
     "name": "stdout",
     "output_type": "stream",
     "text": [
      "\n"
     ]
    },
    {
     "name": "stderr",
     "output_type": "stream",
     "text": [
      "[WDM] - ====== WebDriver manager ======\n",
      "[WDM] - Current google-chrome version is 104.0.5112\n",
      "[WDM] - Get LATEST chromedriver version for 104.0.5112 google-chrome\n",
      "[WDM] - Driver [C:\\Users\\PC-1\\.wdm\\drivers\\chromedriver\\win32\\104.0.5112.79\\chromedriver.exe] found in cache\n"
     ]
    },
    {
     "name": "stdout",
     "output_type": "stream",
     "text": [
      "\n"
     ]
    },
    {
     "name": "stderr",
     "output_type": "stream",
     "text": [
      "[WDM] - ====== WebDriver manager ======\n",
      "[WDM] - Current google-chrome version is 104.0.5112\n",
      "[WDM] - Get LATEST chromedriver version for 104.0.5112 google-chrome\n",
      "[WDM] - Driver [C:\\Users\\PC-1\\.wdm\\drivers\\chromedriver\\win32\\104.0.5112.79\\chromedriver.exe] found in cache\n",
      "[WDM] - Current google-chrome version is 104.0.5112\n",
      "[WDM] - Get LATEST chromedriver version for 104.0.5112 google-chrome\n",
      "[WDM] - Driver [C:\\Users\\PC-1\\.wdm\\drivers\\chromedriver\\win32\\104.0.5112.79\\chromedriver.exe] found in cache\n"
     ]
    },
    {
     "name": "stdout",
     "output_type": "stream",
     "text": [
      "\n"
     ]
    },
    {
     "name": "stderr",
     "output_type": "stream",
     "text": [
      "[WDM] - ====== WebDriver manager ======\n",
      "[WDM] - Current google-chrome version is 104.0.5112\n",
      "[WDM] - Get LATEST chromedriver version for 104.0.5112 google-chrome\n",
      "[WDM] - Driver [C:\\Users\\PC-1\\.wdm\\drivers\\chromedriver\\win32\\104.0.5112.79\\chromedriver.exe] found in cache\n"
     ]
    },
    {
     "name": "stdout",
     "output_type": "stream",
     "text": [
      "\n"
     ]
    },
    {
     "name": "stderr",
     "output_type": "stream",
     "text": [
      "[WDM] - ====== WebDriver manager ======\n"
     ]
    },
    {
     "name": "stdout",
     "output_type": "stream",
     "text": [
      "\n"
     ]
    },
    {
     "name": "stderr",
     "output_type": "stream",
     "text": [
      "[WDM] - ====== WebDriver manager ======\n",
      "[WDM] - Current google-chrome version is 104.0.5112\n",
      "[WDM] - Get LATEST chromedriver version for 104.0.5112 google-chrome\n",
      "[WDM] - Driver [C:\\Users\\PC-1\\.wdm\\drivers\\chromedriver\\win32\\104.0.5112.79\\chromedriver.exe] found in cache\n",
      "[WDM] - Current google-chrome version is 104.0.5112\n",
      "[WDM] - Get LATEST chromedriver version for 104.0.5112 google-chrome\n",
      "[WDM] - Driver [C:\\Users\\PC-1\\.wdm\\drivers\\chromedriver\\win32\\104.0.5112.79\\chromedriver.exe] found in cache\n"
     ]
    },
    {
     "name": "stdout",
     "output_type": "stream",
     "text": [
      "\n"
     ]
    },
    {
     "name": "stderr",
     "output_type": "stream",
     "text": [
      "[WDM] - ====== WebDriver manager ======\n",
      "[WDM] - Current google-chrome version is 104.0.5112\n",
      "[WDM] - Get LATEST chromedriver version for 104.0.5112 google-chrome\n",
      "[WDM] - Driver [C:\\Users\\PC-1\\.wdm\\drivers\\chromedriver\\win32\\104.0.5112.79\\chromedriver.exe] found in cache\n"
     ]
    },
    {
     "name": "stdout",
     "output_type": "stream",
     "text": [
      "\n"
     ]
    },
    {
     "name": "stderr",
     "output_type": "stream",
     "text": [
      "[WDM] - ====== WebDriver manager ======\n"
     ]
    },
    {
     "name": "stdout",
     "output_type": "stream",
     "text": [
      "\n"
     ]
    },
    {
     "name": "stderr",
     "output_type": "stream",
     "text": [
      "[WDM] - ====== WebDriver manager ======\n",
      "[WDM] - Current google-chrome version is 104.0.5112\n",
      "[WDM] - Get LATEST chromedriver version for 104.0.5112 google-chrome\n",
      "[WDM] - Driver [C:\\Users\\PC-1\\.wdm\\drivers\\chromedriver\\win32\\104.0.5112.79\\chromedriver.exe] found in cache\n"
     ]
    },
    {
     "name": "stdout",
     "output_type": "stream",
     "text": [
      "\n"
     ]
    },
    {
     "name": "stderr",
     "output_type": "stream",
     "text": [
      "[WDM] - ====== WebDriver manager ======\n",
      "[WDM] - Current google-chrome version is 104.0.5112\n",
      "[WDM] - Get LATEST chromedriver version for 104.0.5112 google-chrome\n",
      "[WDM] - Driver [C:\\Users\\PC-1\\.wdm\\drivers\\chromedriver\\win32\\104.0.5112.79\\chromedriver.exe] found in cache\n"
     ]
    },
    {
     "name": "stdout",
     "output_type": "stream",
     "text": [
      "\n"
     ]
    },
    {
     "name": "stderr",
     "output_type": "stream",
     "text": [
      "[WDM] - ====== WebDriver manager ======\n",
      "[WDM] - Current google-chrome version is 104.0.5112\n",
      "[WDM] - Get LATEST chromedriver version for 104.0.5112 google-chrome\n",
      "[WDM] - Driver [C:\\Users\\PC-1\\.wdm\\drivers\\chromedriver\\win32\\104.0.5112.79\\chromedriver.exe] found in cache\n"
     ]
    },
    {
     "name": "stdout",
     "output_type": "stream",
     "text": [
      "\n"
     ]
    },
    {
     "name": "stderr",
     "output_type": "stream",
     "text": [
      "[WDM] - ====== WebDriver manager ======\n",
      "[WDM] - Current google-chrome version is 104.0.5112\n",
      "[WDM] - Get LATEST chromedriver version for 104.0.5112 google-chrome\n",
      "[WDM] - Driver [C:\\Users\\PC-1\\.wdm\\drivers\\chromedriver\\win32\\104.0.5112.79\\chromedriver.exe] found in cache\n"
     ]
    },
    {
     "name": "stdout",
     "output_type": "stream",
     "text": [
      "\n"
     ]
    },
    {
     "name": "stderr",
     "output_type": "stream",
     "text": [
      "[WDM] - ====== WebDriver manager ======\n",
      "[WDM] - Current google-chrome version is 104.0.5112\n",
      "[WDM] - Get LATEST chromedriver version for 104.0.5112 google-chrome\n",
      "[WDM] - Driver [C:\\Users\\PC-1\\.wdm\\drivers\\chromedriver\\win32\\104.0.5112.79\\chromedriver.exe] found in cache\n"
     ]
    },
    {
     "name": "stdout",
     "output_type": "stream",
     "text": [
      "\n"
     ]
    },
    {
     "name": "stderr",
     "output_type": "stream",
     "text": [
      "[WDM] - ====== WebDriver manager ======\n",
      "[WDM] - Current google-chrome version is 104.0.5112\n",
      "[WDM] - Get LATEST chromedriver version for 104.0.5112 google-chrome\n"
     ]
    },
    {
     "name": "stdout",
     "output_type": "stream",
     "text": [
      "\n"
     ]
    },
    {
     "name": "stderr",
     "output_type": "stream",
     "text": [
      "[WDM] - ====== WebDriver manager ======\n",
      "[WDM] - Driver [C:\\Users\\PC-1\\.wdm\\drivers\\chromedriver\\win32\\104.0.5112.79\\chromedriver.exe] found in cache\n"
     ]
    },
    {
     "name": "stdout",
     "output_type": "stream",
     "text": [
      "\n"
     ]
    },
    {
     "name": "stderr",
     "output_type": "stream",
     "text": [
      "[WDM] - ====== WebDriver manager ======\n"
     ]
    },
    {
     "name": "stdout",
     "output_type": "stream",
     "text": [
      "\n"
     ]
    },
    {
     "name": "stderr",
     "output_type": "stream",
     "text": [
      "[WDM] - ====== WebDriver manager ======\n",
      "[WDM] - Current google-chrome version is 104.0.5112\n",
      "[WDM] - Get LATEST chromedriver version for 104.0.5112 google-chrome\n",
      "[WDM] - Driver [C:\\Users\\PC-1\\.wdm\\drivers\\chromedriver\\win32\\104.0.5112.79\\chromedriver.exe] found in cache\n"
     ]
    },
    {
     "name": "stdout",
     "output_type": "stream",
     "text": [
      "\n"
     ]
    },
    {
     "name": "stderr",
     "output_type": "stream",
     "text": [
      "[WDM] - ====== WebDriver manager ======\n",
      "[WDM] - Current google-chrome version is 104.0.5112\n",
      "[WDM] - Get LATEST chromedriver version for 104.0.5112 google-chrome\n"
     ]
    },
    {
     "name": "stdout",
     "output_type": "stream",
     "text": [
      "\n"
     ]
    },
    {
     "name": "stderr",
     "output_type": "stream",
     "text": [
      "[WDM] - ====== WebDriver manager ======\n",
      "[WDM] - Driver [C:\\Users\\PC-1\\.wdm\\drivers\\chromedriver\\win32\\104.0.5112.79\\chromedriver.exe] found in cache\n",
      "[WDM] - Current google-chrome version is 104.0.5112\n",
      "[WDM] - Get LATEST chromedriver version for 104.0.5112 google-chrome\n",
      "[WDM] - Driver [C:\\Users\\PC-1\\.wdm\\drivers\\chromedriver\\win32\\104.0.5112.79\\chromedriver.exe] found in cache\n",
      "[WDM] - Current google-chrome version is 104.0.5112\n",
      "[WDM] - Get LATEST chromedriver version for 104.0.5112 google-chrome\n",
      "[WDM] - Driver [C:\\Users\\PC-1\\.wdm\\drivers\\chromedriver\\win32\\104.0.5112.79\\chromedriver.exe] found in cache\n"
     ]
    },
    {
     "name": "stdout",
     "output_type": "stream",
     "text": [
      "\n"
     ]
    },
    {
     "name": "stderr",
     "output_type": "stream",
     "text": [
      "[WDM] - ====== WebDriver manager ======\n",
      "[WDM] - Current google-chrome version is 104.0.5112\n",
      "[WDM] - Get LATEST chromedriver version for 104.0.5112 google-chrome\n",
      "[WDM] - Driver [C:\\Users\\PC-1\\.wdm\\drivers\\chromedriver\\win32\\104.0.5112.79\\chromedriver.exe] found in cache\n"
     ]
    },
    {
     "name": "stdout",
     "output_type": "stream",
     "text": [
      "\n"
     ]
    },
    {
     "name": "stderr",
     "output_type": "stream",
     "text": [
      "[WDM] - ====== WebDriver manager ======\n",
      "[WDM] - Current google-chrome version is 104.0.5112\n",
      "[WDM] - Get LATEST chromedriver version for 104.0.5112 google-chrome\n",
      "[WDM] - Driver [C:\\Users\\PC-1\\.wdm\\drivers\\chromedriver\\win32\\104.0.5112.79\\chromedriver.exe] found in cache\n"
     ]
    },
    {
     "name": "stdout",
     "output_type": "stream",
     "text": [
      "\n"
     ]
    },
    {
     "name": "stderr",
     "output_type": "stream",
     "text": [
      "[WDM] - ====== WebDriver manager ======\n",
      "[WDM] - Current google-chrome version is 104.0.5112\n",
      "[WDM] - Get LATEST chromedriver version for 104.0.5112 google-chrome\n",
      "[WDM] - Driver [C:\\Users\\PC-1\\.wdm\\drivers\\chromedriver\\win32\\104.0.5112.79\\chromedriver.exe] found in cache\n"
     ]
    },
    {
     "name": "stdout",
     "output_type": "stream",
     "text": [
      "\n"
     ]
    },
    {
     "name": "stderr",
     "output_type": "stream",
     "text": [
      "[WDM] - ====== WebDriver manager ======\n",
      "[WDM] - Current google-chrome version is 104.0.5112\n",
      "[WDM] - Get LATEST chromedriver version for 104.0.5112 google-chrome\n",
      "[WDM] - Driver [C:\\Users\\PC-1\\.wdm\\drivers\\chromedriver\\win32\\104.0.5112.79\\chromedriver.exe] found in cache\n"
     ]
    },
    {
     "name": "stdout",
     "output_type": "stream",
     "text": [
      "\n"
     ]
    },
    {
     "name": "stderr",
     "output_type": "stream",
     "text": [
      "[WDM] - ====== WebDriver manager ======\n",
      "[WDM] - Current google-chrome version is 104.0.5112\n",
      "[WDM] - Get LATEST chromedriver version for 104.0.5112 google-chrome\n",
      "[WDM] - Current google-chrome version is 104.0.5112\n",
      "[WDM] - Get LATEST chromedriver version for 104.0.5112 google-chrome\n",
      "[WDM] - Driver [C:\\Users\\PC-1\\.wdm\\drivers\\chromedriver\\win32\\104.0.5112.79\\chromedriver.exe] found in cache\n",
      "[WDM] - Driver [C:\\Users\\PC-1\\.wdm\\drivers\\chromedriver\\win32\\104.0.5112.79\\chromedriver.exe] found in cache\n"
     ]
    },
    {
     "name": "stdout",
     "output_type": "stream",
     "text": [
      "\n"
     ]
    },
    {
     "name": "stderr",
     "output_type": "stream",
     "text": [
      "[WDM] - ====== WebDriver manager ======\n",
      "[WDM] - Current google-chrome version is 104.0.5112\n",
      "[WDM] - Get LATEST chromedriver version for 104.0.5112 google-chrome\n",
      "[WDM] - Driver [C:\\Users\\PC-1\\.wdm\\drivers\\chromedriver\\win32\\104.0.5112.79\\chromedriver.exe] found in cache\n"
     ]
    },
    {
     "name": "stdout",
     "output_type": "stream",
     "text": [
      "\n"
     ]
    },
    {
     "name": "stderr",
     "output_type": "stream",
     "text": [
      "[WDM] - ====== WebDriver manager ======\n"
     ]
    },
    {
     "name": "stdout",
     "output_type": "stream",
     "text": [
      "\n"
     ]
    },
    {
     "name": "stderr",
     "output_type": "stream",
     "text": [
      "[WDM] - ====== WebDriver manager ======\n",
      "[WDM] - Current google-chrome version is 104.0.5112\n",
      "[WDM] - Get LATEST chromedriver version for 104.0.5112 google-chrome\n",
      "[WDM] - Driver [C:\\Users\\PC-1\\.wdm\\drivers\\chromedriver\\win32\\104.0.5112.79\\chromedriver.exe] found in cache\n",
      "[WDM] - Current google-chrome version is 104.0.5112\n",
      "[WDM] - Get LATEST chromedriver version for 104.0.5112 google-chrome\n",
      "[WDM] - Driver [C:\\Users\\PC-1\\.wdm\\drivers\\chromedriver\\win32\\104.0.5112.79\\chromedriver.exe] found in cache\n"
     ]
    },
    {
     "name": "stdout",
     "output_type": "stream",
     "text": [
      "\n"
     ]
    },
    {
     "name": "stderr",
     "output_type": "stream",
     "text": [
      "[WDM] - ====== WebDriver manager ======\n"
     ]
    },
    {
     "name": "stdout",
     "output_type": "stream",
     "text": [
      "\n"
     ]
    },
    {
     "name": "stderr",
     "output_type": "stream",
     "text": [
      "[WDM] - ====== WebDriver manager ======\n",
      "[WDM] - Current google-chrome version is 104.0.5112\n",
      "[WDM] - Get LATEST chromedriver version for 104.0.5112 google-chrome\n",
      "[WDM] - Driver [C:\\Users\\PC-1\\.wdm\\drivers\\chromedriver\\win32\\104.0.5112.79\\chromedriver.exe] found in cache\n",
      "[WDM] - Current google-chrome version is 104.0.5112\n",
      "[WDM] - Get LATEST chromedriver version for 104.0.5112 google-chrome\n",
      "[WDM] - Driver [C:\\Users\\PC-1\\.wdm\\drivers\\chromedriver\\win32\\104.0.5112.79\\chromedriver.exe] found in cache\n"
     ]
    },
    {
     "name": "stdout",
     "output_type": "stream",
     "text": [
      "\n"
     ]
    },
    {
     "name": "stderr",
     "output_type": "stream",
     "text": [
      "[WDM] - ====== WebDriver manager ======\n",
      "[WDM] - Current google-chrome version is 104.0.5112\n",
      "[WDM] - Get LATEST chromedriver version for 104.0.5112 google-chrome\n",
      "[WDM] - Driver [C:\\Users\\PC-1\\.wdm\\drivers\\chromedriver\\win32\\104.0.5112.79\\chromedriver.exe] found in cache\n"
     ]
    },
    {
     "name": "stdout",
     "output_type": "stream",
     "text": [
      "\n"
     ]
    },
    {
     "name": "stderr",
     "output_type": "stream",
     "text": [
      "[WDM] - ====== WebDriver manager ======\n",
      "[WDM] - Current google-chrome version is 104.0.5112\n",
      "[WDM] - Get LATEST chromedriver version for 104.0.5112 google-chrome\n"
     ]
    },
    {
     "name": "stdout",
     "output_type": "stream",
     "text": [
      "\n"
     ]
    },
    {
     "name": "stderr",
     "output_type": "stream",
     "text": [
      "[WDM] - ====== WebDriver manager ======\n",
      "[WDM] - Driver [C:\\Users\\PC-1\\.wdm\\drivers\\chromedriver\\win32\\104.0.5112.79\\chromedriver.exe] found in cache\n"
     ]
    },
    {
     "name": "stdout",
     "output_type": "stream",
     "text": [
      "\n"
     ]
    },
    {
     "name": "stderr",
     "output_type": "stream",
     "text": [
      "[WDM] - ====== WebDriver manager ======\n",
      "[WDM] - Current google-chrome version is 104.0.5112\n",
      "[WDM] - Get LATEST chromedriver version for 104.0.5112 google-chrome\n",
      "[WDM] - Current google-chrome version is 104.0.5112\n",
      "[WDM] - Get LATEST chromedriver version for 104.0.5112 google-chrome\n",
      "[WDM] - Driver [C:\\Users\\PC-1\\.wdm\\drivers\\chromedriver\\win32\\104.0.5112.79\\chromedriver.exe] found in cache\n",
      "[WDM] - Driver [C:\\Users\\PC-1\\.wdm\\drivers\\chromedriver\\win32\\104.0.5112.79\\chromedriver.exe] found in cache\n",
      "[WDM] - Current google-chrome version is 104.0.5112\n",
      "[WDM] - Get LATEST chromedriver version for 104.0.5112 google-chrome\n",
      "[WDM] - Driver [C:\\Users\\PC-1\\.wdm\\drivers\\chromedriver\\win32\\104.0.5112.79\\chromedriver.exe] found in cache\n"
     ]
    },
    {
     "name": "stdout",
     "output_type": "stream",
     "text": [
      "\n"
     ]
    },
    {
     "name": "stderr",
     "output_type": "stream",
     "text": [
      "[WDM] - ====== WebDriver manager ======\n",
      "[WDM] - Current google-chrome version is 104.0.5112\n",
      "[WDM] - Get LATEST chromedriver version for 104.0.5112 google-chrome\n",
      "[WDM] - Driver [C:\\Users\\PC-1\\.wdm\\drivers\\chromedriver\\win32\\104.0.5112.79\\chromedriver.exe] found in cache\n"
     ]
    },
    {
     "name": "stdout",
     "output_type": "stream",
     "text": [
      "\n"
     ]
    },
    {
     "name": "stderr",
     "output_type": "stream",
     "text": [
      "[WDM] - ====== WebDriver manager ======\n",
      "[WDM] - Current google-chrome version is 104.0.5112\n",
      "[WDM] - Get LATEST chromedriver version for 104.0.5112 google-chrome\n",
      "[WDM] - Driver [C:\\Users\\PC-1\\.wdm\\drivers\\chromedriver\\win32\\104.0.5112.79\\chromedriver.exe] found in cache\n"
     ]
    },
    {
     "name": "stdout",
     "output_type": "stream",
     "text": [
      "\n"
     ]
    },
    {
     "name": "stderr",
     "output_type": "stream",
     "text": [
      "[WDM] - ====== WebDriver manager ======\n",
      "[WDM] - Current google-chrome version is 104.0.5112\n",
      "[WDM] - Get LATEST chromedriver version for 104.0.5112 google-chrome\n",
      "[WDM] - Driver [C:\\Users\\PC-1\\.wdm\\drivers\\chromedriver\\win32\\104.0.5112.79\\chromedriver.exe] found in cache\n"
     ]
    },
    {
     "name": "stdout",
     "output_type": "stream",
     "text": [
      "\n"
     ]
    },
    {
     "name": "stderr",
     "output_type": "stream",
     "text": [
      "[WDM] - ====== WebDriver manager ======\n"
     ]
    },
    {
     "name": "stdout",
     "output_type": "stream",
     "text": [
      "\n"
     ]
    },
    {
     "name": "stderr",
     "output_type": "stream",
     "text": [
      "[WDM] - ====== WebDriver manager ======\n",
      "[WDM] - Current google-chrome version is 104.0.5112\n",
      "[WDM] - Get LATEST chromedriver version for 104.0.5112 google-chrome\n",
      "[WDM] - Driver [C:\\Users\\PC-1\\.wdm\\drivers\\chromedriver\\win32\\104.0.5112.79\\chromedriver.exe] found in cache\n",
      "[WDM] - Current google-chrome version is 104.0.5112\n",
      "[WDM] - Get LATEST chromedriver version for 104.0.5112 google-chrome\n",
      "[WDM] - Driver [C:\\Users\\PC-1\\.wdm\\drivers\\chromedriver\\win32\\104.0.5112.79\\chromedriver.exe] found in cache\n"
     ]
    },
    {
     "name": "stdout",
     "output_type": "stream",
     "text": [
      "\n"
     ]
    },
    {
     "name": "stderr",
     "output_type": "stream",
     "text": [
      "[WDM] - ====== WebDriver manager ======\n",
      "[WDM] - Current google-chrome version is 104.0.5112\n",
      "[WDM] - Get LATEST chromedriver version for 104.0.5112 google-chrome\n",
      "[WDM] - Driver [C:\\Users\\PC-1\\.wdm\\drivers\\chromedriver\\win32\\104.0.5112.79\\chromedriver.exe] found in cache\n"
     ]
    },
    {
     "name": "stdout",
     "output_type": "stream",
     "text": [
      "\n"
     ]
    },
    {
     "name": "stderr",
     "output_type": "stream",
     "text": [
      "[WDM] - ====== WebDriver manager ======\n"
     ]
    },
    {
     "name": "stdout",
     "output_type": "stream",
     "text": [
      "\n"
     ]
    },
    {
     "name": "stderr",
     "output_type": "stream",
     "text": [
      "[WDM] - ====== WebDriver manager ======\n",
      "[WDM] - Current google-chrome version is 104.0.5112\n",
      "[WDM] - Get LATEST chromedriver version for 104.0.5112 google-chrome\n",
      "[WDM] - Driver [C:\\Users\\PC-1\\.wdm\\drivers\\chromedriver\\win32\\104.0.5112.79\\chromedriver.exe] found in cache\n",
      "[WDM] - Current google-chrome version is 104.0.5112\n",
      "[WDM] - Get LATEST chromedriver version for 104.0.5112 google-chrome\n",
      "[WDM] - Driver [C:\\Users\\PC-1\\.wdm\\drivers\\chromedriver\\win32\\104.0.5112.79\\chromedriver.exe] found in cache\n"
     ]
    },
    {
     "name": "stdout",
     "output_type": "stream",
     "text": [
      "\n"
     ]
    },
    {
     "name": "stderr",
     "output_type": "stream",
     "text": [
      "[WDM] - ====== WebDriver manager ======\n"
     ]
    },
    {
     "name": "stdout",
     "output_type": "stream",
     "text": [
      "\n"
     ]
    },
    {
     "name": "stderr",
     "output_type": "stream",
     "text": [
      "[WDM] - ====== WebDriver manager ======\n"
     ]
    },
    {
     "name": "stdout",
     "output_type": "stream",
     "text": [
      "\n"
     ]
    },
    {
     "name": "stderr",
     "output_type": "stream",
     "text": [
      "[WDM] - ====== WebDriver manager ======\n"
     ]
    },
    {
     "name": "stdout",
     "output_type": "stream",
     "text": [
      "\n"
     ]
    },
    {
     "name": "stderr",
     "output_type": "stream",
     "text": [
      "[WDM] - ====== WebDriver manager ======\n",
      "[WDM] - Current google-chrome version is 104.0.5112\n",
      "[WDM] - Get LATEST chromedriver version for 104.0.5112 google-chrome\n"
     ]
    },
    {
     "name": "stdout",
     "output_type": "stream",
     "text": [
      "\n"
     ]
    },
    {
     "name": "stderr",
     "output_type": "stream",
     "text": [
      "[WDM] - ====== WebDriver manager ======\n",
      "[WDM] - Current google-chrome version is 104.0.5112\n",
      "[WDM] - Get LATEST chromedriver version for 104.0.5112 google-chrome\n",
      "[WDM] - Current google-chrome version is 104.0.5112\n",
      "[WDM] - Get LATEST chromedriver version for 104.0.5112 google-chrome\n",
      "[WDM] - Current google-chrome version is 104.0.5112\n",
      "[WDM] - Get LATEST chromedriver version for 104.0.5112 google-chrome\n",
      "[WDM] - Driver [C:\\Users\\PC-1\\.wdm\\drivers\\chromedriver\\win32\\104.0.5112.79\\chromedriver.exe] found in cache\n",
      "[WDM] - Driver [C:\\Users\\PC-1\\.wdm\\drivers\\chromedriver\\win32\\104.0.5112.79\\chromedriver.exe] found in cache\n",
      "[WDM] - Driver [C:\\Users\\PC-1\\.wdm\\drivers\\chromedriver\\win32\\104.0.5112.79\\chromedriver.exe] found in cache\n",
      "[WDM] - Driver [C:\\Users\\PC-1\\.wdm\\drivers\\chromedriver\\win32\\104.0.5112.79\\chromedriver.exe] found in cache\n"
     ]
    },
    {
     "name": "stdout",
     "output_type": "stream",
     "text": [
      "\n"
     ]
    },
    {
     "name": "stderr",
     "output_type": "stream",
     "text": [
      "[WDM] - ====== WebDriver manager ======\n"
     ]
    },
    {
     "name": "stdout",
     "output_type": "stream",
     "text": [
      "\n"
     ]
    },
    {
     "name": "stderr",
     "output_type": "stream",
     "text": [
      "[WDM] - ====== WebDriver manager ======\n",
      "[WDM] - Current google-chrome version is 104.0.5112\n",
      "[WDM] - Get LATEST chromedriver version for 104.0.5112 google-chrome\n",
      "[WDM] - Driver [C:\\Users\\PC-1\\.wdm\\drivers\\chromedriver\\win32\\104.0.5112.79\\chromedriver.exe] found in cache\n",
      "[WDM] - Current google-chrome version is 104.0.5112\n",
      "[WDM] - Get LATEST chromedriver version for 104.0.5112 google-chrome\n",
      "[WDM] - Driver [C:\\Users\\PC-1\\.wdm\\drivers\\chromedriver\\win32\\104.0.5112.79\\chromedriver.exe] found in cache\n"
     ]
    },
    {
     "name": "stdout",
     "output_type": "stream",
     "text": [
      "\n"
     ]
    },
    {
     "name": "stderr",
     "output_type": "stream",
     "text": [
      "[WDM] - ====== WebDriver manager ======\n",
      "[WDM] - Current google-chrome version is 104.0.5112\n",
      "[WDM] - Get LATEST chromedriver version for 104.0.5112 google-chrome\n",
      "[WDM] - Driver [C:\\Users\\PC-1\\.wdm\\drivers\\chromedriver\\win32\\104.0.5112.79\\chromedriver.exe] found in cache\n"
     ]
    },
    {
     "name": "stdout",
     "output_type": "stream",
     "text": [
      "\n"
     ]
    },
    {
     "name": "stderr",
     "output_type": "stream",
     "text": [
      "[WDM] - ====== WebDriver manager ======\n",
      "[WDM] - Current google-chrome version is 104.0.5112\n",
      "[WDM] - Get LATEST chromedriver version for 104.0.5112 google-chrome\n",
      "[WDM] - Driver [C:\\Users\\PC-1\\.wdm\\drivers\\chromedriver\\win32\\104.0.5112.79\\chromedriver.exe] found in cache\n"
     ]
    },
    {
     "name": "stdout",
     "output_type": "stream",
     "text": [
      "\n"
     ]
    },
    {
     "name": "stderr",
     "output_type": "stream",
     "text": [
      "[WDM] - ====== WebDriver manager ======\n",
      "[WDM] - Current google-chrome version is 104.0.5112\n",
      "[WDM] - Get LATEST chromedriver version for 104.0.5112 google-chrome\n",
      "[WDM] - Driver [C:\\Users\\PC-1\\.wdm\\drivers\\chromedriver\\win32\\104.0.5112.79\\chromedriver.exe] found in cache\n"
     ]
    },
    {
     "name": "stdout",
     "output_type": "stream",
     "text": [
      "\n"
     ]
    },
    {
     "name": "stderr",
     "output_type": "stream",
     "text": [
      "[WDM] - ====== WebDriver manager ======\n"
     ]
    },
    {
     "name": "stdout",
     "output_type": "stream",
     "text": [
      "\n"
     ]
    },
    {
     "name": "stderr",
     "output_type": "stream",
     "text": [
      "[WDM] - ====== WebDriver manager ======\n",
      "[WDM] - Current google-chrome version is 104.0.5112\n",
      "[WDM] - Get LATEST chromedriver version for 104.0.5112 google-chrome\n",
      "[WDM] - Driver [C:\\Users\\PC-1\\.wdm\\drivers\\chromedriver\\win32\\104.0.5112.79\\chromedriver.exe] found in cache\n",
      "[WDM] - Current google-chrome version is 104.0.5112\n",
      "[WDM] - Get LATEST chromedriver version for 104.0.5112 google-chrome\n",
      "[WDM] - Driver [C:\\Users\\PC-1\\.wdm\\drivers\\chromedriver\\win32\\104.0.5112.79\\chromedriver.exe] found in cache\n"
     ]
    },
    {
     "name": "stdout",
     "output_type": "stream",
     "text": [
      "\n"
     ]
    },
    {
     "name": "stderr",
     "output_type": "stream",
     "text": [
      "[WDM] - ====== WebDriver manager ======\n",
      "[WDM] - Current google-chrome version is 104.0.5112\n",
      "[WDM] - Get LATEST chromedriver version for 104.0.5112 google-chrome\n",
      "[WDM] - Driver [C:\\Users\\PC-1\\.wdm\\drivers\\chromedriver\\win32\\104.0.5112.79\\chromedriver.exe] found in cache\n"
     ]
    },
    {
     "name": "stdout",
     "output_type": "stream",
     "text": [
      "\n"
     ]
    },
    {
     "name": "stderr",
     "output_type": "stream",
     "text": [
      "[WDM] - ====== WebDriver manager ======\n",
      "[WDM] - Current google-chrome version is 104.0.5112\n",
      "[WDM] - Get LATEST chromedriver version for 104.0.5112 google-chrome\n",
      "[WDM] - Driver [C:\\Users\\PC-1\\.wdm\\drivers\\chromedriver\\win32\\104.0.5112.79\\chromedriver.exe] found in cache\n"
     ]
    },
    {
     "name": "stdout",
     "output_type": "stream",
     "text": [
      "\n"
     ]
    },
    {
     "name": "stderr",
     "output_type": "stream",
     "text": [
      "[WDM] - ====== WebDriver manager ======\n",
      "[WDM] - Current google-chrome version is 104.0.5112\n",
      "[WDM] - Get LATEST chromedriver version for 104.0.5112 google-chrome\n",
      "[WDM] - Driver [C:\\Users\\PC-1\\.wdm\\drivers\\chromedriver\\win32\\104.0.5112.79\\chromedriver.exe] found in cache\n"
     ]
    },
    {
     "name": "stdout",
     "output_type": "stream",
     "text": [
      "\n"
     ]
    },
    {
     "name": "stderr",
     "output_type": "stream",
     "text": [
      "[WDM] - ====== WebDriver manager ======\n"
     ]
    },
    {
     "name": "stdout",
     "output_type": "stream",
     "text": [
      "\n"
     ]
    },
    {
     "name": "stderr",
     "output_type": "stream",
     "text": [
      "[WDM] - ====== WebDriver manager ======\n"
     ]
    },
    {
     "name": "stdout",
     "output_type": "stream",
     "text": [
      "\n"
     ]
    },
    {
     "name": "stderr",
     "output_type": "stream",
     "text": [
      "[WDM] - ====== WebDriver manager ======\n",
      "[WDM] - Current google-chrome version is 104.0.5112\n",
      "[WDM] - Get LATEST chromedriver version for 104.0.5112 google-chrome\n",
      "[WDM] - Current google-chrome version is 104.0.5112\n",
      "[WDM] - Get LATEST chromedriver version for 104.0.5112 google-chrome\n"
     ]
    },
    {
     "name": "stdout",
     "output_type": "stream",
     "text": [
      "\n"
     ]
    },
    {
     "name": "stderr",
     "output_type": "stream",
     "text": [
      "[WDM] - ====== WebDriver manager ======\n",
      "[WDM] - Current google-chrome version is 104.0.5112\n",
      "[WDM] - Get LATEST chromedriver version for 104.0.5112 google-chrome\n",
      "[WDM] - Driver [C:\\Users\\PC-1\\.wdm\\drivers\\chromedriver\\win32\\104.0.5112.79\\chromedriver.exe] found in cache\n",
      "[WDM] - Driver [C:\\Users\\PC-1\\.wdm\\drivers\\chromedriver\\win32\\104.0.5112.79\\chromedriver.exe] found in cache\n",
      "[WDM] - Driver [C:\\Users\\PC-1\\.wdm\\drivers\\chromedriver\\win32\\104.0.5112.79\\chromedriver.exe] found in cache\n",
      "[WDM] - Current google-chrome version is 104.0.5112\n",
      "[WDM] - Get LATEST chromedriver version for 104.0.5112 google-chrome\n",
      "[WDM] - Driver [C:\\Users\\PC-1\\.wdm\\drivers\\chromedriver\\win32\\104.0.5112.79\\chromedriver.exe] found in cache\n"
     ]
    },
    {
     "name": "stdout",
     "output_type": "stream",
     "text": [
      "\n"
     ]
    },
    {
     "name": "stderr",
     "output_type": "stream",
     "text": [
      "[WDM] - ====== WebDriver manager ======\n",
      "[WDM] - Current google-chrome version is 104.0.5112\n",
      "[WDM] - Get LATEST chromedriver version for 104.0.5112 google-chrome\n"
     ]
    },
    {
     "name": "stdout",
     "output_type": "stream",
     "text": [
      "\n"
     ]
    },
    {
     "name": "stderr",
     "output_type": "stream",
     "text": [
      "[WDM] - ====== WebDriver manager ======\n",
      "[WDM] - Driver [C:\\Users\\PC-1\\.wdm\\drivers\\chromedriver\\win32\\104.0.5112.79\\chromedriver.exe] found in cache\n",
      "[WDM] - Current google-chrome version is 104.0.5112\n",
      "[WDM] - Get LATEST chromedriver version for 104.0.5112 google-chrome\n",
      "[WDM] - Driver [C:\\Users\\PC-1\\.wdm\\drivers\\chromedriver\\win32\\104.0.5112.79\\chromedriver.exe] found in cache\n",
      "[WDM] - Current google-chrome version is 104.0.5112\n",
      "[WDM] - Get LATEST chromedriver version for 104.0.5112 google-chrome\n",
      "[WDM] - Driver [C:\\Users\\PC-1\\.wdm\\drivers\\chromedriver\\win32\\104.0.5112.79\\chromedriver.exe] found in cache\n"
     ]
    },
    {
     "name": "stdout",
     "output_type": "stream",
     "text": [
      "\n"
     ]
    },
    {
     "name": "stderr",
     "output_type": "stream",
     "text": [
      "[WDM] - ====== WebDriver manager ======\n",
      "[WDM] - Current google-chrome version is 104.0.5112\n",
      "[WDM] - Get LATEST chromedriver version for 104.0.5112 google-chrome\n",
      "[WDM] - Driver [C:\\Users\\PC-1\\.wdm\\drivers\\chromedriver\\win32\\104.0.5112.79\\chromedriver.exe] found in cache\n"
     ]
    },
    {
     "name": "stdout",
     "output_type": "stream",
     "text": [
      "\n"
     ]
    },
    {
     "name": "stderr",
     "output_type": "stream",
     "text": [
      "[WDM] - ====== WebDriver manager ======\n",
      "[WDM] - Current google-chrome version is 104.0.5112\n",
      "[WDM] - Get LATEST chromedriver version for 104.0.5112 google-chrome\n",
      "[WDM] - Driver [C:\\Users\\PC-1\\.wdm\\drivers\\chromedriver\\win32\\104.0.5112.79\\chromedriver.exe] found in cache\n"
     ]
    },
    {
     "name": "stdout",
     "output_type": "stream",
     "text": [
      "\n"
     ]
    },
    {
     "name": "stderr",
     "output_type": "stream",
     "text": [
      "[WDM] - ====== WebDriver manager ======\n",
      "[WDM] - Current google-chrome version is 104.0.5112\n",
      "[WDM] - Get LATEST chromedriver version for 104.0.5112 google-chrome\n",
      "[WDM] - Driver [C:\\Users\\PC-1\\.wdm\\drivers\\chromedriver\\win32\\104.0.5112.79\\chromedriver.exe] found in cache\n"
     ]
    },
    {
     "name": "stdout",
     "output_type": "stream",
     "text": [
      "\n"
     ]
    },
    {
     "name": "stderr",
     "output_type": "stream",
     "text": [
      "[WDM] - ====== WebDriver manager ======\n"
     ]
    },
    {
     "name": "stdout",
     "output_type": "stream",
     "text": [
      "\n"
     ]
    },
    {
     "name": "stderr",
     "output_type": "stream",
     "text": [
      "[WDM] - ====== WebDriver manager ======\n",
      "[WDM] - Current google-chrome version is 104.0.5112\n",
      "[WDM] - Get LATEST chromedriver version for 104.0.5112 google-chrome\n",
      "[WDM] - Driver [C:\\Users\\PC-1\\.wdm\\drivers\\chromedriver\\win32\\104.0.5112.79\\chromedriver.exe] found in cache\n",
      "[WDM] - Current google-chrome version is 104.0.5112\n",
      "[WDM] - Get LATEST chromedriver version for 104.0.5112 google-chrome\n",
      "[WDM] - Driver [C:\\Users\\PC-1\\.wdm\\drivers\\chromedriver\\win32\\104.0.5112.79\\chromedriver.exe] found in cache\n"
     ]
    },
    {
     "name": "stdout",
     "output_type": "stream",
     "text": [
      "\n"
     ]
    },
    {
     "name": "stderr",
     "output_type": "stream",
     "text": [
      "[WDM] - ====== WebDriver manager ======\n",
      "[WDM] - Current google-chrome version is 104.0.5112\n",
      "[WDM] - Get LATEST chromedriver version for 104.0.5112 google-chrome\n",
      "[WDM] - Driver [C:\\Users\\PC-1\\.wdm\\drivers\\chromedriver\\win32\\104.0.5112.79\\chromedriver.exe] found in cache\n"
     ]
    },
    {
     "name": "stdout",
     "output_type": "stream",
     "text": [
      "\n"
     ]
    },
    {
     "name": "stderr",
     "output_type": "stream",
     "text": [
      "[WDM] - ====== WebDriver manager ======\n",
      "[WDM] - Current google-chrome version is 104.0.5112\n",
      "[WDM] - Get LATEST chromedriver version for 104.0.5112 google-chrome\n",
      "[WDM] - Driver [C:\\Users\\PC-1\\.wdm\\drivers\\chromedriver\\win32\\104.0.5112.79\\chromedriver.exe] found in cache\n"
     ]
    },
    {
     "name": "stdout",
     "output_type": "stream",
     "text": [
      "\n"
     ]
    },
    {
     "name": "stderr",
     "output_type": "stream",
     "text": [
      "[WDM] - ====== WebDriver manager ======\n",
      "[WDM] - Current google-chrome version is 104.0.5112\n",
      "[WDM] - Get LATEST chromedriver version for 104.0.5112 google-chrome\n",
      "[WDM] - Driver [C:\\Users\\PC-1\\.wdm\\drivers\\chromedriver\\win32\\104.0.5112.79\\chromedriver.exe] found in cache\n"
     ]
    },
    {
     "name": "stdout",
     "output_type": "stream",
     "text": [
      "\n"
     ]
    },
    {
     "name": "stderr",
     "output_type": "stream",
     "text": [
      "[WDM] - ====== WebDriver manager ======\n"
     ]
    },
    {
     "name": "stdout",
     "output_type": "stream",
     "text": [
      "\n"
     ]
    },
    {
     "name": "stderr",
     "output_type": "stream",
     "text": [
      "[WDM] - ====== WebDriver manager ======\n"
     ]
    },
    {
     "name": "stdout",
     "output_type": "stream",
     "text": [
      "\n"
     ]
    },
    {
     "name": "stderr",
     "output_type": "stream",
     "text": [
      "[WDM] - ====== WebDriver manager ======\n",
      "[WDM] - Current google-chrome version is 104.0.5112\n",
      "[WDM] - Get LATEST chromedriver version for 104.0.5112 google-chrome\n",
      "[WDM] - Current google-chrome version is 104.0.5112\n",
      "[WDM] - Get LATEST chromedriver version for 104.0.5112 google-chrome\n",
      "[WDM] - Driver [C:\\Users\\PC-1\\.wdm\\drivers\\chromedriver\\win32\\104.0.5112.79\\chromedriver.exe] found in cache\n",
      "[WDM] - Driver [C:\\Users\\PC-1\\.wdm\\drivers\\chromedriver\\win32\\104.0.5112.79\\chromedriver.exe] found in cache\n",
      "[WDM] - Current google-chrome version is 104.0.5112\n",
      "[WDM] - Get LATEST chromedriver version for 104.0.5112 google-chrome\n",
      "[WDM] - Driver [C:\\Users\\PC-1\\.wdm\\drivers\\chromedriver\\win32\\104.0.5112.79\\chromedriver.exe] found in cache\n"
     ]
    },
    {
     "name": "stdout",
     "output_type": "stream",
     "text": [
      "\n"
     ]
    },
    {
     "name": "stderr",
     "output_type": "stream",
     "text": [
      "[WDM] - ====== WebDriver manager ======\n"
     ]
    },
    {
     "name": "stdout",
     "output_type": "stream",
     "text": [
      "\n"
     ]
    },
    {
     "name": "stderr",
     "output_type": "stream",
     "text": [
      "[WDM] - ====== WebDriver manager ======\n",
      "[WDM] - Current google-chrome version is 104.0.5112\n",
      "[WDM] - Get LATEST chromedriver version for 104.0.5112 google-chrome\n",
      "[WDM] - Driver [C:\\Users\\PC-1\\.wdm\\drivers\\chromedriver\\win32\\104.0.5112.79\\chromedriver.exe] found in cache\n",
      "[WDM] - Current google-chrome version is 104.0.5112\n",
      "[WDM] - Get LATEST chromedriver version for 104.0.5112 google-chrome\n",
      "[WDM] - Driver [C:\\Users\\PC-1\\.wdm\\drivers\\chromedriver\\win32\\104.0.5112.79\\chromedriver.exe] found in cache\n"
     ]
    },
    {
     "name": "stdout",
     "output_type": "stream",
     "text": [
      "\n"
     ]
    },
    {
     "name": "stderr",
     "output_type": "stream",
     "text": [
      "[WDM] - ====== WebDriver manager ======\n"
     ]
    },
    {
     "name": "stdout",
     "output_type": "stream",
     "text": [
      "\n"
     ]
    },
    {
     "name": "stderr",
     "output_type": "stream",
     "text": [
      "[WDM] - ====== WebDriver manager ======\n",
      "[WDM] - Current google-chrome version is 104.0.5112\n",
      "[WDM] - Get LATEST chromedriver version for 104.0.5112 google-chrome\n",
      "[WDM] - Driver [C:\\Users\\PC-1\\.wdm\\drivers\\chromedriver\\win32\\104.0.5112.79\\chromedriver.exe] found in cache\n",
      "[WDM] - Current google-chrome version is 104.0.5112\n",
      "[WDM] - Get LATEST chromedriver version for 104.0.5112 google-chrome\n"
     ]
    },
    {
     "name": "stdout",
     "output_type": "stream",
     "text": [
      "\n"
     ]
    },
    {
     "name": "stderr",
     "output_type": "stream",
     "text": [
      "[WDM] - ====== WebDriver manager ======\n",
      "[WDM] - Driver [C:\\Users\\PC-1\\.wdm\\drivers\\chromedriver\\win32\\104.0.5112.79\\chromedriver.exe] found in cache\n",
      "[WDM] - Current google-chrome version is 104.0.5112\n",
      "[WDM] - Get LATEST chromedriver version for 104.0.5112 google-chrome\n",
      "[WDM] - Driver [C:\\Users\\PC-1\\.wdm\\drivers\\chromedriver\\win32\\104.0.5112.79\\chromedriver.exe] found in cache\n"
     ]
    },
    {
     "name": "stdout",
     "output_type": "stream",
     "text": [
      "\n"
     ]
    },
    {
     "name": "stderr",
     "output_type": "stream",
     "text": [
      "[WDM] - ====== WebDriver manager ======\n",
      "[WDM] - Current google-chrome version is 104.0.5112\n",
      "[WDM] - Get LATEST chromedriver version for 104.0.5112 google-chrome\n",
      "[WDM] - Driver [C:\\Users\\PC-1\\.wdm\\drivers\\chromedriver\\win32\\104.0.5112.79\\chromedriver.exe] found in cache\n"
     ]
    },
    {
     "name": "stdout",
     "output_type": "stream",
     "text": [
      "\n"
     ]
    },
    {
     "name": "stderr",
     "output_type": "stream",
     "text": [
      "[WDM] - ====== WebDriver manager ======\n"
     ]
    },
    {
     "name": "stdout",
     "output_type": "stream",
     "text": [
      "\n"
     ]
    },
    {
     "name": "stderr",
     "output_type": "stream",
     "text": [
      "[WDM] - ====== WebDriver manager ======\n",
      "[WDM] - Current google-chrome version is 104.0.5112\n",
      "[WDM] - Get LATEST chromedriver version for 104.0.5112 google-chrome\n"
     ]
    },
    {
     "name": "stdout",
     "output_type": "stream",
     "text": [
      "\n"
     ]
    },
    {
     "name": "stderr",
     "output_type": "stream",
     "text": [
      "[WDM] - ====== WebDriver manager ======\n",
      "[WDM] - Driver [C:\\Users\\PC-1\\.wdm\\drivers\\chromedriver\\win32\\104.0.5112.79\\chromedriver.exe] found in cache\n",
      "[WDM] - Current google-chrome version is 104.0.5112\n",
      "[WDM] - Get LATEST chromedriver version for 104.0.5112 google-chrome\n",
      "[WDM] - Current google-chrome version is 104.0.5112\n",
      "[WDM] - Get LATEST chromedriver version for 104.0.5112 google-chrome\n",
      "[WDM] - Driver [C:\\Users\\PC-1\\.wdm\\drivers\\chromedriver\\win32\\104.0.5112.79\\chromedriver.exe] found in cache\n",
      "[WDM] - Driver [C:\\Users\\PC-1\\.wdm\\drivers\\chromedriver\\win32\\104.0.5112.79\\chromedriver.exe] found in cache\n"
     ]
    },
    {
     "name": "stdout",
     "output_type": "stream",
     "text": [
      "\n"
     ]
    },
    {
     "name": "stderr",
     "output_type": "stream",
     "text": [
      "[WDM] - ====== WebDriver manager ======\n",
      "[WDM] - Current google-chrome version is 104.0.5112\n",
      "[WDM] - Get LATEST chromedriver version for 104.0.5112 google-chrome\n",
      "[WDM] - Driver [C:\\Users\\PC-1\\.wdm\\drivers\\chromedriver\\win32\\104.0.5112.79\\chromedriver.exe] found in cache\n"
     ]
    },
    {
     "name": "stdout",
     "output_type": "stream",
     "text": [
      "\n"
     ]
    },
    {
     "name": "stderr",
     "output_type": "stream",
     "text": [
      "[WDM] - ====== WebDriver manager ======\n"
     ]
    },
    {
     "name": "stdout",
     "output_type": "stream",
     "text": [
      "\n"
     ]
    },
    {
     "name": "stderr",
     "output_type": "stream",
     "text": [
      "[WDM] - ====== WebDriver manager ======\n",
      "[WDM] - Current google-chrome version is 104.0.5112\n",
      "[WDM] - Get LATEST chromedriver version for 104.0.5112 google-chrome\n",
      "[WDM] - Driver [C:\\Users\\PC-1\\.wdm\\drivers\\chromedriver\\win32\\104.0.5112.79\\chromedriver.exe] found in cache\n",
      "[WDM] - Current google-chrome version is 104.0.5112\n",
      "[WDM] - Get LATEST chromedriver version for 104.0.5112 google-chrome\n",
      "[WDM] - Driver [C:\\Users\\PC-1\\.wdm\\drivers\\chromedriver\\win32\\104.0.5112.79\\chromedriver.exe] found in cache\n"
     ]
    },
    {
     "name": "stdout",
     "output_type": "stream",
     "text": [
      "\n"
     ]
    },
    {
     "name": "stderr",
     "output_type": "stream",
     "text": [
      "[WDM] - ====== WebDriver manager ======\n",
      "[WDM] - Current google-chrome version is 104.0.5112\n",
      "[WDM] - Get LATEST chromedriver version for 104.0.5112 google-chrome\n"
     ]
    },
    {
     "name": "stdout",
     "output_type": "stream",
     "text": [
      "\n"
     ]
    },
    {
     "name": "stderr",
     "output_type": "stream",
     "text": [
      "[WDM] - ====== WebDriver manager ======\n",
      "[WDM] - Driver [C:\\Users\\PC-1\\.wdm\\drivers\\chromedriver\\win32\\104.0.5112.79\\chromedriver.exe] found in cache\n",
      "[WDM] - Current google-chrome version is 104.0.5112\n",
      "[WDM] - Get LATEST chromedriver version for 104.0.5112 google-chrome\n",
      "[WDM] - Driver [C:\\Users\\PC-1\\.wdm\\drivers\\chromedriver\\win32\\104.0.5112.79\\chromedriver.exe] found in cache\n"
     ]
    },
    {
     "name": "stdout",
     "output_type": "stream",
     "text": [
      " \n",
      "--------------------------------------------------------------------------------------------------------------------------------------\n",
      "El tiempo total fue de 367.99 segundos.\n",
      "--------------------------------------------------------------------------------------------------------------------------------------\n"
     ]
    }
   ],
   "source": [
    "def team(min_i,max_i):\n",
    "    for i in range(min_i,max_i):\n",
    "        driver = webdriver.Chrome(ChromeDriverManager().install())\n",
    "        driver.get('https://www.flashscore.pe/partido/'+f'{result_buscar[i]}'+'/#/resumen-del-partido/estadisticas-del-partido/0')\n",
    "        time.sleep(8)\n",
    "        driver.find_element(By.XPATH, \"//*[@id='onetrust-accept-btn-handler']\").click()\n",
    "        driver.maximize_window()\n",
    "        time.sleep(0.5)\n",
    "        driver.execute_script(\"window.scrollBy(0, document.body.scrollHeight);\")\n",
    "        soup=driver.find_element(By.XPATH,'//*[@id=\"detail\"]/div[8]').text.split('\\n')\n",
    "        dt_local.loc[i,'Fecha']=driver.find_element(By.XPATH,\"//*[@id='detail']/div[4]/div[1]/div\").text\n",
    "        dt_local.loc[i,'Local']=driver.find_element(By.XPATH,\"//*[@id='detail']/div[4]/div[2]/div[3]/div[2]/a\").text\n",
    "        dt_visita.loc[i,'Visita']=driver.find_element(By.XPATH,\"//*[@id='detail']/div[4]/div[4]/div[3]/div[1]/a\").text\n",
    "        dt_local.loc[i,'GL']=driver.find_element(By.XPATH,\"//*[@id='detail']/div[4]/div[3]/div/div[1]/span[1]\").text\n",
    "        dt_visita.loc[i,'GV']=driver.find_element(By.XPATH,\"//*[@id='detail']/div[4]/div[3]/div/div[1]/span[3]\").text\n",
    "        key_list_ind=list()\n",
    "        key_list_name=list()\n",
    "        for j in range(len(key_list)):\n",
    "            if key_list[j] in soup:\n",
    "                key_list_ind.append(soup.index(key_list[j]))\n",
    "                key_list_name.append(key_list[j])\n",
    "        for k in range(len(key_list_ind)):\n",
    "            dt_local.loc[i,key_list_name[k]]=soup[key_list_ind[k]-1]\n",
    "            dt_visita.loc[i,key_list_name[k]]=soup[key_list_ind[k]+1]\n",
    "        time.sleep(5)\n",
    "        driver.close()\n",
    "#---------------------------------------------------------------------------------------------------------------------------------------------\n",
    "# Número total de threads usados\n",
    "n_threads=15\n",
    "#---------------------------------------------------------------------------------------------------------------------------------------------p=len(result_buscar)//n_threads\n",
    "inicios=list()\n",
    "finales=list()\n",
    "inicio=0\n",
    "fin=p\n",
    "for i in range(n_threads):\n",
    "    inicios.append(inicio)\n",
    "    finales.append(fin)\n",
    "    inicio+=p\n",
    "    fin+=p\n",
    "time_inicio = time.time()\n",
    "threads=list()\n",
    "for j in range(len(inicios)):\n",
    "    t=threading.Thread(target=team, args=(inicios[j],finales[j],))\n",
    "    threads.append(t)\n",
    "    t.start()\n",
    "for t in threads:\n",
    "    t.join()\n",
    "print(' ')\n",
    "print('--------------------------------------------------------------------------------------------------------------------------------------')\n",
    "print('El tiempo total fue de '+str(round(time.time()-time_inicio,2))+' segundos.')\n",
    "print('--------------------------------------------------------------------------------------------------------------------------------------')"
   ]
  },
  {
   "cell_type": "markdown",
   "id": "2c402ecd",
   "metadata": {},
   "source": [
    "Algunos \"codigos identificadores\" extraidos quedaron fuera del rango de los threads. El tiempo que le tomo fue de 3.28 minutos para 8 casos, empleando una regla de tres simples determinamos que el tiempo total, sin threads, hubiera sido de 89.8 minutos. "
   ]
  },
  {
   "cell_type": "code",
   "execution_count": 48,
   "id": "f1ebf51f",
   "metadata": {
    "collapsed": true
   },
   "outputs": [
    {
     "name": "stdout",
     "output_type": "stream",
     "text": [
      "\n"
     ]
    },
    {
     "name": "stderr",
     "output_type": "stream",
     "text": [
      "[WDM] - ====== WebDriver manager ======\n",
      "[WDM] - Current google-chrome version is 104.0.5112\n",
      "[WDM] - Get LATEST chromedriver version for 104.0.5112 google-chrome\n",
      "[WDM] - Driver [C:\\Users\\PC-1\\.wdm\\drivers\\chromedriver\\win32\\104.0.5112.79\\chromedriver.exe] found in cache\n",
      "C:\\Users\\PC-1\\AppData\\Local\\Temp\\ipykernel_24140\\2540876866.py:3: DeprecationWarning: executable_path has been deprecated, please pass in a Service object\n",
      "  driver = webdriver.Chrome(ChromeDriverManager().install())\n"
     ]
    },
    {
     "name": "stdout",
     "output_type": "stream",
     "text": [
      "\n"
     ]
    },
    {
     "name": "stderr",
     "output_type": "stream",
     "text": [
      "[WDM] - ====== WebDriver manager ======\n",
      "[WDM] - Current google-chrome version is 104.0.5112\n",
      "[WDM] - Get LATEST chromedriver version for 104.0.5112 google-chrome\n",
      "[WDM] - Driver [C:\\Users\\PC-1\\.wdm\\drivers\\chromedriver\\win32\\104.0.5112.79\\chromedriver.exe] found in cache\n"
     ]
    },
    {
     "name": "stdout",
     "output_type": "stream",
     "text": [
      "\n"
     ]
    },
    {
     "name": "stderr",
     "output_type": "stream",
     "text": [
      "[WDM] - ====== WebDriver manager ======\n",
      "[WDM] - Current google-chrome version is 104.0.5112\n",
      "[WDM] - Get LATEST chromedriver version for 104.0.5112 google-chrome\n",
      "[WDM] - Driver [C:\\Users\\PC-1\\.wdm\\drivers\\chromedriver\\win32\\104.0.5112.79\\chromedriver.exe] found in cache\n"
     ]
    },
    {
     "name": "stdout",
     "output_type": "stream",
     "text": [
      "\n"
     ]
    },
    {
     "name": "stderr",
     "output_type": "stream",
     "text": [
      "[WDM] - ====== WebDriver manager ======\n",
      "[WDM] - Current google-chrome version is 104.0.5112\n",
      "[WDM] - Get LATEST chromedriver version for 104.0.5112 google-chrome\n",
      "[WDM] - Driver [C:\\Users\\PC-1\\.wdm\\drivers\\chromedriver\\win32\\104.0.5112.79\\chromedriver.exe] found in cache\n"
     ]
    },
    {
     "name": "stdout",
     "output_type": "stream",
     "text": [
      "\n"
     ]
    },
    {
     "name": "stderr",
     "output_type": "stream",
     "text": [
      "[WDM] - ====== WebDriver manager ======\n",
      "[WDM] - Current google-chrome version is 104.0.5112\n",
      "[WDM] - Get LATEST chromedriver version for 104.0.5112 google-chrome\n",
      "[WDM] - Driver [C:\\Users\\PC-1\\.wdm\\drivers\\chromedriver\\win32\\104.0.5112.79\\chromedriver.exe] found in cache\n"
     ]
    },
    {
     "name": "stdout",
     "output_type": "stream",
     "text": [
      "\n"
     ]
    },
    {
     "name": "stderr",
     "output_type": "stream",
     "text": [
      "[WDM] - ====== WebDriver manager ======\n",
      "[WDM] - Current google-chrome version is 104.0.5112\n",
      "[WDM] - Get LATEST chromedriver version for 104.0.5112 google-chrome\n",
      "[WDM] - Driver [C:\\Users\\PC-1\\.wdm\\drivers\\chromedriver\\win32\\104.0.5112.79\\chromedriver.exe] found in cache\n"
     ]
    },
    {
     "name": "stdout",
     "output_type": "stream",
     "text": [
      "\n"
     ]
    },
    {
     "name": "stderr",
     "output_type": "stream",
     "text": [
      "[WDM] - ====== WebDriver manager ======\n",
      "[WDM] - Current google-chrome version is 104.0.5112\n",
      "[WDM] - Get LATEST chromedriver version for 104.0.5112 google-chrome\n",
      "[WDM] - Driver [C:\\Users\\PC-1\\.wdm\\drivers\\chromedriver\\win32\\104.0.5112.79\\chromedriver.exe] found in cache\n"
     ]
    },
    {
     "name": "stdout",
     "output_type": "stream",
     "text": [
      "\n"
     ]
    },
    {
     "name": "stderr",
     "output_type": "stream",
     "text": [
      "[WDM] - ====== WebDriver manager ======\n",
      "[WDM] - Current google-chrome version is 104.0.5112\n",
      "[WDM] - Get LATEST chromedriver version for 104.0.5112 google-chrome\n",
      "[WDM] - Driver [C:\\Users\\PC-1\\.wdm\\drivers\\chromedriver\\win32\\104.0.5112.79\\chromedriver.exe] found in cache\n"
     ]
    },
    {
     "name": "stdout",
     "output_type": "stream",
     "text": [
      "\n"
     ]
    },
    {
     "name": "stderr",
     "output_type": "stream",
     "text": [
      "[WDM] - ====== WebDriver manager ======\n",
      "[WDM] - Current google-chrome version is 104.0.5112\n",
      "[WDM] - Get LATEST chromedriver version for 104.0.5112 google-chrome\n",
      "[WDM] - Driver [C:\\Users\\PC-1\\.wdm\\drivers\\chromedriver\\win32\\104.0.5112.79\\chromedriver.exe] found in cache\n"
     ]
    },
    {
     "name": "stdout",
     "output_type": "stream",
     "text": [
      " \n",
      "--------------------------------------------------------------------------------------------------------------------------------------\n",
      "El tiempo total fue de 196.64 segundos.\n",
      "--------------------------------------------------------------------------------------------------------------------------------------\n"
     ]
    }
   ],
   "source": [
    "#Caso que quedo fuera de los rangos\n",
    "time_inicio = time.time()\n",
    "team(210,219)\n",
    "print(' ')\n",
    "print('--------------------------------------------------------------------------------------------------------------------------------------')\n",
    "print('El tiempo total fue de '+str(round(time.time()-time_inicio,2))+' segundos.')\n",
    "print('--------------------------------------------------------------------------------------------------------------------------------------')"
   ]
  },
  {
   "cell_type": "markdown",
   "id": "8a401192",
   "metadata": {},
   "source": [
    "Como se había mencionado, se crearon dos data frame para almacenar los resultados ('dt_visita' y 'dt_local'). Ambos data frame se unirán en uno solo de nombre 'dt', con la finalidad de tener una base totalizada."
   ]
  },
  {
   "cell_type": "code",
   "execution_count": 49,
   "id": "6cc779b1",
   "metadata": {},
   "outputs": [],
   "source": [
    "dt_visita.columns=['Visita','GV','PV','RemV','RpV','RfV','RbV','CV',\n",
    "                    'OffV','ArqV','FV','RV','AV','TpV','BkV','AtaqV',\n",
    "                   'DAtaqV']\n",
    "dt_local.columns=['Fecha','Local','GL','PL','RemL','RpL','RfL','RbL','CL',\n",
    "                   'OffL','ArqL','FL','RL','AL','TpL','BkL','AtaqL',\n",
    "                   'DAtaqL']\n",
    "#---------------------------------------------------------------------------------------------------------------------------------------------\n",
    "# Colapsar bases de datos (local y visitante) en una sola\n",
    "dt=pd.merge(dt_local, dt_visita, left_index=True, right_index=True).reindex(columns=['Fecha','Local','Visita','GL','GV','PL','PV','RemL','RemV',\n",
    "                                                                                     'RpL','RpV','RfL','RfV','RbL','RbV','CL','CV','OffL','OffV',\n",
    "                                                                                     'ArqL','ArqV','FL','FV','RL','RV','AL','AV','TpL','TpV',\n",
    "                                                                                     'BkL','BkV','AtaqL','AtaqV','DAtaqL','DAtaqV'])\n",
    "#---------------------------------------------------------------------------------------------------------------------------------------------"
   ]
  },
  {
   "cell_type": "markdown",
   "id": "fea089b9",
   "metadata": {},
   "source": [
    "Explorando el data frame 'dt' se encontró que las variables relacionadas con las tarjetas del partido presentaban una múltiple cantidad de 'NaN'. Esto se explica debido a que no en todos los partidos se reportan tarjetas amarillas o rojas (especialmente). Estas 'NaN' fueron reemplazadas por el valor de 0, puesto que mantiene la premisa anterior. Por otro lado, las otras variables también reportaron 'NaN', sin embargo, no se puede reemplazar por el valor de 0. Puesto que no necesariamente siguen la misma lógica que las tarjetas del partido. Por lo que las demás 'NaN' fueron reemplazadas por '-' para no alterar su significado. Por último, se agregó la información de árbitros a la base totalizada."
   ]
  },
  {
   "cell_type": "code",
   "execution_count": 50,
   "id": "ef139966",
   "metadata": {},
   "outputs": [],
   "source": [
    "# Últimos arreglos\n",
    "dt['AL']=dt['AL'].fillna(0)\n",
    "dt['AV']=dt['AV'].fillna(0)\n",
    "dt['RL']=dt['RL'].fillna(0)\n",
    "dt['RV']=dt['RV'].fillna(0)\n",
    "dt=dt.fillna('-')\n",
    "dt.insert(1,'Arbitro',arbitro)"
   ]
  },
  {
   "cell_type": "markdown",
   "id": "d6155d49",
   "metadata": {},
   "source": [
    "## Exportar base de datos"
   ]
  },
  {
   "cell_type": "code",
   "execution_count": 51,
   "id": "9475f3c9",
   "metadata": {},
   "outputs": [],
   "source": [
    "dt.to_excel('Liga1 (Perú) 2022.xlsx', index=False, sheet_name='2022')\n",
    "dt.to_csv('Liga1 (Perú) 2022.csv', index=False, sep=';')"
   ]
  },
  {
   "cell_type": "markdown",
   "id": "e69a7141",
   "metadata": {},
   "source": [
    "## Nota final"
   ]
  },
  {
   "cell_type": "markdown",
   "id": "e59d6d70",
   "metadata": {},
   "source": [
    "Durante el desarrollo del presente script se realizaron hasta dos actualizaciones en el código relacionados con los XPATH. Por lo que es importante realizar un seguimiento al código para que no pierda validez. Asimismo, se ha encontrado que la estructura html no se mantiene para otros años. Por lo que si se quisiera obtener información de otro año se recomienda tomar como base el presente código y adaptar la nueva estructura html (XPATH por lo general)."
   ]
  }
 ],
 "metadata": {
  "hide_input": false,
  "kernelspec": {
   "display_name": "Python 3 (ipykernel)",
   "language": "python",
   "name": "python3"
  },
  "language_info": {
   "codemirror_mode": {
    "name": "ipython",
    "version": 3
   },
   "file_extension": ".py",
   "mimetype": "text/x-python",
   "name": "python",
   "nbconvert_exporter": "python",
   "pygments_lexer": "ipython3",
   "version": "3.9.12"
  },
  "nbTranslate": {
   "displayLangs": [
    "*"
   ],
   "hotkey": "alt-t",
   "langInMainMenu": true,
   "sourceLang": "en",
   "targetLang": "fr",
   "useGoogleTranslate": true
  },
  "toc": {
   "base_numbering": 1,
   "nav_menu": {},
   "number_sections": true,
   "sideBar": true,
   "skip_h1_title": false,
   "title_cell": "Table of Contents",
   "title_sidebar": "Contents",
   "toc_cell": false,
   "toc_position": {},
   "toc_section_display": true,
   "toc_window_display": false
  },
  "varInspector": {
   "cols": {
    "lenName": 16,
    "lenType": 16,
    "lenVar": 40
   },
   "kernels_config": {
    "python": {
     "delete_cmd_postfix": "",
     "delete_cmd_prefix": "del ",
     "library": "var_list.py",
     "varRefreshCmd": "print(var_dic_list())"
    },
    "r": {
     "delete_cmd_postfix": ") ",
     "delete_cmd_prefix": "rm(",
     "library": "var_list.r",
     "varRefreshCmd": "cat(var_dic_list()) "
    }
   },
   "position": {
    "height": "624.844px",
    "left": "1385px",
    "right": "20px",
    "top": "117px",
    "width": "350px"
   },
   "types_to_exclude": [
    "module",
    "function",
    "builtin_function_or_method",
    "instance",
    "_Feature"
   ],
   "window_display": false
  }
 },
 "nbformat": 4,
 "nbformat_minor": 5
}
